{
 "cells": [
  {
   "cell_type": "markdown",
   "id": "b1e2e623",
   "metadata": {
    "cell_style": "center",
    "slideshow": {
     "slide_type": "slide"
    }
   },
   "source": [
    "<div style=\"color:white;\n",
    "           display:fill;\n",
    "           border-radius:5px;\n",
    "           background-color:#5642C5;\n",
    "           font-size:200%;\n",
    "           font-family:Arial;letter-spacing:0.5px\">\n",
    "\n",
    "<p width = 20%, style=\"padding: 10px;\n",
    "              color:white;\">\n",
    "Pandas: Reshaping the data\n",
    "              \n",
    "</p>\n",
    "</div>\n",
    "\n",
    "Data Science Cohort Live NYC Feb 2022\n",
    "<p>Phase 1: Topic 5</p>\n",
    "<br>\n",
    "<br>\n",
    "\n",
    "<div align = \"right\">\n",
    "<img src=\"Images/flatiron-school-logo.png\" align = \"right\" width=\"200\"/>\n",
    "</div>\n",
    "    \n",
    "    "
   ]
  },
  {
   "cell_type": "markdown",
   "id": "1f36e6c6",
   "metadata": {
    "slideshow": {
     "slide_type": "slide"
    }
   },
   "source": [
    "Data in the fires of the forge!\n",
    "\n",
    "\n",
    "<figure><center><img src = \"Images/conanbarbarian.png\" width = 500></center>\n",
    "</figure>\n",
    "\n"
   ]
  },
  {
   "cell_type": "markdown",
   "id": "67aab99c",
   "metadata": {
    "slideshow": {
     "slide_type": "subslide"
    }
   },
   "source": [
    "Transformation:\n",
    "    \n",
    "<figure><center><img src = \"Images/conanthebarbarian5.png\" width = 500></center>\n",
    "</figure>\n",
    "\n",
    "A suitably shaped dataset will make it easier to visualize/answer your questions."
   ]
  },
  {
   "cell_type": "markdown",
   "id": "94884a13",
   "metadata": {
    "slideshow": {
     "slide_type": "slide"
    }
   },
   "source": [
    "#### Basic Ideas of Data Shaping in Pandas\n",
    "1. Wide vs. Long Formats\n"
   ]
  },
  {
   "cell_type": "markdown",
   "id": "1eed4464",
   "metadata": {
    "cell_style": "split",
    "slideshow": {
     "slide_type": "fragment"
    }
   },
   "source": [
    "<div>\n",
    "    <center><img src=\"Images/hw_wide.png\" align = \"center\" width=\"200\"/></center>\n",
    "    <center>Wide format</center>\n",
    "</div>\n",
    "    "
   ]
  },
  {
   "cell_type": "markdown",
   "id": "c8d773ed",
   "metadata": {
    "cell_style": "split",
    "slideshow": {
     "slide_type": "fragment"
    }
   },
   "source": [
    "<div align>\n",
    "        <center><img src=\"Images/hw_long.png\" align = \"center\" width=\"200\"/></center>\n",
    "    <center>Long format</center>\n",
    "</div>"
   ]
  },
  {
   "cell_type": "markdown",
   "id": "271f801d",
   "metadata": {
    "slideshow": {
     "slide_type": "slide"
    }
   },
   "source": [
    "2. Multi-indexing (Hierarchical indexing)\n",
    "- Saw this with multiple grouping.\n",
    "- Very useful in quickly exploring responses conditioned on different factors."
   ]
  },
  {
   "cell_type": "markdown",
   "id": "603d24d0",
   "metadata": {
    "cell_style": "split",
    "slideshow": {
     "slide_type": "fragment"
    }
   },
   "source": [
    "<div>\n",
    "    <center><img src=\"Images/hw_multi.png\" align = \"center\" width=\"200\"/></center> <br>\n",
    "    <center>Multi-indexed Dataframe</center>\n",
    "</div>\n",
    "    "
   ]
  },
  {
   "cell_type": "markdown",
   "id": "f5884df7",
   "metadata": {
    "cell_style": "split",
    "slideshow": {
     "slide_type": "fragment"
    }
   },
   "source": [
    "<div>\n",
    "    <center><img src=\"Images/hw_multi_swap.png\" align = \"center\" width=\"200\"/></center>\n",
    "    <br>\n",
    "    <center>After index level swap</center>\n",
    "</div>"
   ]
  },
  {
   "cell_type": "markdown",
   "id": "e77ea386",
   "metadata": {
    "slideshow": {
     "slide_type": "slide"
    }
   },
   "source": [
    "#### Pivoting\n",
    "\n",
    "- Convert from a long to a wide format:\n",
    "\n",
    "   - DataFrame.pivot(index, columns, values):\n",
    "  \n",
    " One attribute becomes index, values in other attribute becomes labels for new columns.\n",
    " \n",
    " Best to see an example:"
   ]
  },
  {
   "cell_type": "code",
   "execution_count": 1,
   "id": "ddef649b",
   "metadata": {
    "slideshow": {
     "slide_type": "subslide"
    }
   },
   "outputs": [
    {
     "data": {
      "text/html": [
       "<div>\n",
       "<style scoped>\n",
       "    .dataframe tbody tr th:only-of-type {\n",
       "        vertical-align: middle;\n",
       "    }\n",
       "\n",
       "    .dataframe tbody tr th {\n",
       "        vertical-align: top;\n",
       "    }\n",
       "\n",
       "    .dataframe thead th {\n",
       "        text-align: right;\n",
       "    }\n",
       "</style>\n",
       "<table border=\"1\" class=\"dataframe\">\n",
       "  <thead>\n",
       "    <tr style=\"text-align: right;\">\n",
       "      <th></th>\n",
       "      <th>name</th>\n",
       "      <th>attribute</th>\n",
       "      <th>value</th>\n",
       "    </tr>\n",
       "  </thead>\n",
       "  <tbody>\n",
       "    <tr>\n",
       "      <th>0</th>\n",
       "      <td>John</td>\n",
       "      <td>Height</td>\n",
       "      <td>182</td>\n",
       "    </tr>\n",
       "    <tr>\n",
       "      <th>1</th>\n",
       "      <td>Christopher</td>\n",
       "      <td>Weight</td>\n",
       "      <td>160</td>\n",
       "    </tr>\n",
       "    <tr>\n",
       "      <th>2</th>\n",
       "      <td>Melinda</td>\n",
       "      <td>Height</td>\n",
       "      <td>130</td>\n",
       "    </tr>\n",
       "    <tr>\n",
       "      <th>3</th>\n",
       "      <td>John</td>\n",
       "      <td>Weight</td>\n",
       "      <td>78</td>\n",
       "    </tr>\n",
       "    <tr>\n",
       "      <th>4</th>\n",
       "      <td>Christopher</td>\n",
       "      <td>Height</td>\n",
       "      <td>67</td>\n",
       "    </tr>\n",
       "  </tbody>\n",
       "</table>\n",
       "</div>"
      ],
      "text/plain": [
       "          name attribute value\n",
       "0         John    Height   182\n",
       "1  Christopher    Weight   160\n",
       "2      Melinda    Height   130\n",
       "3         John    Weight    78\n",
       "4  Christopher    Height    67"
      ]
     },
     "execution_count": 1,
     "metadata": {},
     "output_type": "execute_result"
    }
   ],
   "source": [
    "import itertools\n",
    "import pandas as pd\n",
    "import numpy as np\n",
    "value_list = [182, 160, 130, 78, 67, 52]\n",
    "physical_data = pd.DataFrame(np.array([['John', 'Christopher', 'Melinda']*2, ['Height', 'Weight']*3, value_list]).T,\n",
    "             columns = ['name', 'attribute', 'value'])\n",
    "\n",
    "physical_data.head()"
   ]
  },
  {
   "cell_type": "markdown",
   "id": "6bb6faa9",
   "metadata": {
    "slideshow": {
     "slide_type": "slide"
    }
   },
   "source": [
    "This is long form. Use pivot to convert to wide format:"
   ]
  },
  {
   "cell_type": "code",
   "execution_count": 3,
   "id": "0c8ed749",
   "metadata": {
    "scrolled": false,
    "slideshow": {
     "slide_type": "fragment"
    }
   },
   "outputs": [
    {
     "data": {
      "text/html": [
       "<div>\n",
       "<style scoped>\n",
       "    .dataframe tbody tr th:only-of-type {\n",
       "        vertical-align: middle;\n",
       "    }\n",
       "\n",
       "    .dataframe tbody tr th {\n",
       "        vertical-align: top;\n",
       "    }\n",
       "\n",
       "    .dataframe thead th {\n",
       "        text-align: right;\n",
       "    }\n",
       "</style>\n",
       "<table border=\"1\" class=\"dataframe\">\n",
       "  <thead>\n",
       "    <tr style=\"text-align: right;\">\n",
       "      <th>attribute</th>\n",
       "      <th>Height</th>\n",
       "      <th>Weight</th>\n",
       "    </tr>\n",
       "    <tr>\n",
       "      <th>name</th>\n",
       "      <th></th>\n",
       "      <th></th>\n",
       "    </tr>\n",
       "  </thead>\n",
       "  <tbody>\n",
       "    <tr>\n",
       "      <th>Christopher</th>\n",
       "      <td>67</td>\n",
       "      <td>160</td>\n",
       "    </tr>\n",
       "    <tr>\n",
       "      <th>John</th>\n",
       "      <td>182</td>\n",
       "      <td>78</td>\n",
       "    </tr>\n",
       "    <tr>\n",
       "      <th>Melinda</th>\n",
       "      <td>130</td>\n",
       "      <td>52</td>\n",
       "    </tr>\n",
       "  </tbody>\n",
       "</table>\n",
       "</div>"
      ],
      "text/plain": [
       "attribute   Height Weight\n",
       "name                     \n",
       "Christopher     67    160\n",
       "John           182     78\n",
       "Melinda        130     52"
      ]
     },
     "execution_count": 3,
     "metadata": {},
     "output_type": "execute_result"
    }
   ],
   "source": [
    "wide_form = physical_data.pivot(index = 'name', columns = 'attribute', values = 'value')\n",
    "wide_form"
   ]
  },
  {
   "cell_type": "markdown",
   "id": "5f2ffacb",
   "metadata": {
    "slideshow": {
     "slide_type": "slide"
    }
   },
   "source": [
    "#### Melting: the inverse of pivoting.\n",
    "\n",
    "- Take data from wide to long format.\n",
    "- pd.melt(dataframe, id_vars, value_vars, var_name, value_name)"
   ]
  },
  {
   "cell_type": "code",
   "execution_count": 4,
   "id": "892de108",
   "metadata": {
    "cell_style": "split",
    "slideshow": {
     "slide_type": "fragment"
    }
   },
   "outputs": [
    {
     "data": {
      "text/html": [
       "<div>\n",
       "<style scoped>\n",
       "    .dataframe tbody tr th:only-of-type {\n",
       "        vertical-align: middle;\n",
       "    }\n",
       "\n",
       "    .dataframe tbody tr th {\n",
       "        vertical-align: top;\n",
       "    }\n",
       "\n",
       "    .dataframe thead th {\n",
       "        text-align: right;\n",
       "    }\n",
       "</style>\n",
       "<table border=\"1\" class=\"dataframe\">\n",
       "  <thead>\n",
       "    <tr style=\"text-align: right;\">\n",
       "      <th>attribute</th>\n",
       "      <th>name</th>\n",
       "      <th>Height</th>\n",
       "      <th>Weight</th>\n",
       "    </tr>\n",
       "  </thead>\n",
       "  <tbody>\n",
       "    <tr>\n",
       "      <th>0</th>\n",
       "      <td>Christopher</td>\n",
       "      <td>67</td>\n",
       "      <td>160</td>\n",
       "    </tr>\n",
       "    <tr>\n",
       "      <th>1</th>\n",
       "      <td>John</td>\n",
       "      <td>182</td>\n",
       "      <td>78</td>\n",
       "    </tr>\n",
       "    <tr>\n",
       "      <th>2</th>\n",
       "      <td>Melinda</td>\n",
       "      <td>130</td>\n",
       "      <td>52</td>\n",
       "    </tr>\n",
       "  </tbody>\n",
       "</table>\n",
       "</div>"
      ],
      "text/plain": [
       "attribute         name Height Weight\n",
       "0          Christopher     67    160\n",
       "1                 John    182     78\n",
       "2              Melinda    130     52"
      ]
     },
     "execution_count": 4,
     "metadata": {},
     "output_type": "execute_result"
    }
   ],
   "source": [
    "wide_form.reset_index(inplace = True)\n",
    "wide_form"
   ]
  },
  {
   "cell_type": "code",
   "execution_count": 6,
   "id": "c5b41907",
   "metadata": {
    "cell_style": "split",
    "slideshow": {
     "slide_type": "fragment"
    }
   },
   "outputs": [
    {
     "data": {
      "text/html": [
       "<div>\n",
       "<style scoped>\n",
       "    .dataframe tbody tr th:only-of-type {\n",
       "        vertical-align: middle;\n",
       "    }\n",
       "\n",
       "    .dataframe tbody tr th {\n",
       "        vertical-align: top;\n",
       "    }\n",
       "\n",
       "    .dataframe thead th {\n",
       "        text-align: right;\n",
       "    }\n",
       "</style>\n",
       "<table border=\"1\" class=\"dataframe\">\n",
       "  <thead>\n",
       "    <tr style=\"text-align: right;\">\n",
       "      <th></th>\n",
       "      <th>name</th>\n",
       "      <th>attribute</th>\n",
       "      <th>value</th>\n",
       "    </tr>\n",
       "  </thead>\n",
       "  <tbody>\n",
       "    <tr>\n",
       "      <th>0</th>\n",
       "      <td>Christopher</td>\n",
       "      <td>Height</td>\n",
       "      <td>67</td>\n",
       "    </tr>\n",
       "    <tr>\n",
       "      <th>1</th>\n",
       "      <td>John</td>\n",
       "      <td>Height</td>\n",
       "      <td>182</td>\n",
       "    </tr>\n",
       "    <tr>\n",
       "      <th>2</th>\n",
       "      <td>Melinda</td>\n",
       "      <td>Height</td>\n",
       "      <td>130</td>\n",
       "    </tr>\n",
       "    <tr>\n",
       "      <th>3</th>\n",
       "      <td>Christopher</td>\n",
       "      <td>Weight</td>\n",
       "      <td>160</td>\n",
       "    </tr>\n",
       "    <tr>\n",
       "      <th>4</th>\n",
       "      <td>John</td>\n",
       "      <td>Weight</td>\n",
       "      <td>78</td>\n",
       "    </tr>\n",
       "    <tr>\n",
       "      <th>5</th>\n",
       "      <td>Melinda</td>\n",
       "      <td>Weight</td>\n",
       "      <td>52</td>\n",
       "    </tr>\n",
       "  </tbody>\n",
       "</table>\n",
       "</div>"
      ],
      "text/plain": [
       "          name attribute value\n",
       "0  Christopher    Height    67\n",
       "1         John    Height   182\n",
       "2      Melinda    Height   130\n",
       "3  Christopher    Weight   160\n",
       "4         John    Weight    78\n",
       "5      Melinda    Weight    52"
      ]
     },
     "execution_count": 6,
     "metadata": {},
     "output_type": "execute_result"
    }
   ],
   "source": [
    "pd.melt(wide_form, \n",
    "        id_vars = ['name'], \n",
    "        value_vars = ['Height', 'Weight'])"
   ]
  },
  {
   "cell_type": "markdown",
   "id": "438cd1f5",
   "metadata": {
    "slideshow": {
     "slide_type": "slide"
    }
   },
   "source": [
    "#### Pivot Tables\n",
    "\n",
    "- When the columns you want to pivot on have non-unique entries.\n",
    "- E.g., temperature as function of position X,Y for a given month but multiple measurements at each X,Y\n",
    "- Want average of these measurements at each X,Y in pivoted form:\n",
    "\n",
    "    - df.pivot_table(..., aggfunc = __)\n",
    "    "
   ]
  },
  {
   "cell_type": "markdown",
   "id": "f3df1f9b",
   "metadata": {
    "slideshow": {
     "slide_type": "fragment"
    }
   },
   "source": [
    "Forest fire dataset:\n",
    "\n",
    "Looks at temperature logged at various X, Y positions in a forest over several months."
   ]
  },
  {
   "cell_type": "code",
   "execution_count": 7,
   "id": "f8bea93e",
   "metadata": {
    "scrolled": false,
    "slideshow": {
     "slide_type": "slide"
    }
   },
   "outputs": [
    {
     "data": {
      "text/html": [
       "<div>\n",
       "<style scoped>\n",
       "    .dataframe tbody tr th:only-of-type {\n",
       "        vertical-align: middle;\n",
       "    }\n",
       "\n",
       "    .dataframe tbody tr th {\n",
       "        vertical-align: top;\n",
       "    }\n",
       "\n",
       "    .dataframe thead th {\n",
       "        text-align: right;\n",
       "    }\n",
       "</style>\n",
       "<table border=\"1\" class=\"dataframe\">\n",
       "  <thead>\n",
       "    <tr style=\"text-align: right;\">\n",
       "      <th></th>\n",
       "      <th>X</th>\n",
       "      <th>Y</th>\n",
       "      <th>month</th>\n",
       "      <th>day</th>\n",
       "      <th>temp</th>\n",
       "    </tr>\n",
       "  </thead>\n",
       "  <tbody>\n",
       "    <tr>\n",
       "      <th>0</th>\n",
       "      <td>7</td>\n",
       "      <td>5</td>\n",
       "      <td>mar</td>\n",
       "      <td>fri</td>\n",
       "      <td>8.2</td>\n",
       "    </tr>\n",
       "    <tr>\n",
       "      <th>3</th>\n",
       "      <td>8</td>\n",
       "      <td>6</td>\n",
       "      <td>mar</td>\n",
       "      <td>fri</td>\n",
       "      <td>8.3</td>\n",
       "    </tr>\n",
       "    <tr>\n",
       "      <th>4</th>\n",
       "      <td>8</td>\n",
       "      <td>6</td>\n",
       "      <td>mar</td>\n",
       "      <td>sun</td>\n",
       "      <td>11.4</td>\n",
       "    </tr>\n",
       "    <tr>\n",
       "      <th>16</th>\n",
       "      <td>5</td>\n",
       "      <td>5</td>\n",
       "      <td>mar</td>\n",
       "      <td>sat</td>\n",
       "      <td>15.1</td>\n",
       "    </tr>\n",
       "    <tr>\n",
       "      <th>18</th>\n",
       "      <td>6</td>\n",
       "      <td>4</td>\n",
       "      <td>mar</td>\n",
       "      <td>wed</td>\n",
       "      <td>15.9</td>\n",
       "    </tr>\n",
       "    <tr>\n",
       "      <th>39</th>\n",
       "      <td>4</td>\n",
       "      <td>4</td>\n",
       "      <td>mar</td>\n",
       "      <td>tue</td>\n",
       "      <td>14.1</td>\n",
       "    </tr>\n",
       "    <tr>\n",
       "      <th>48</th>\n",
       "      <td>4</td>\n",
       "      <td>4</td>\n",
       "      <td>mar</td>\n",
       "      <td>mon</td>\n",
       "      <td>11.8</td>\n",
       "    </tr>\n",
       "    <tr>\n",
       "      <th>49</th>\n",
       "      <td>4</td>\n",
       "      <td>4</td>\n",
       "      <td>mar</td>\n",
       "      <td>mon</td>\n",
       "      <td>11.0</td>\n",
       "    </tr>\n",
       "    <tr>\n",
       "      <th>60</th>\n",
       "      <td>2</td>\n",
       "      <td>2</td>\n",
       "      <td>mar</td>\n",
       "      <td>sun</td>\n",
       "      <td>11.5</td>\n",
       "    </tr>\n",
       "    <tr>\n",
       "      <th>61</th>\n",
       "      <td>2</td>\n",
       "      <td>2</td>\n",
       "      <td>mar</td>\n",
       "      <td>sun</td>\n",
       "      <td>5.5</td>\n",
       "    </tr>\n",
       "  </tbody>\n",
       "</table>\n",
       "</div>"
      ],
      "text/plain": [
       "    X  Y month  day  temp\n",
       "0   7  5   mar  fri   8.2\n",
       "3   8  6   mar  fri   8.3\n",
       "4   8  6   mar  sun  11.4\n",
       "16  5  5   mar  sat  15.1\n",
       "18  6  4   mar  wed  15.9\n",
       "39  4  4   mar  tue  14.1\n",
       "48  4  4   mar  mon  11.8\n",
       "49  4  4   mar  mon  11.0\n",
       "60  2  2   mar  sun  11.5\n",
       "61  2  2   mar  sun   5.5"
      ]
     },
     "execution_count": 7,
     "metadata": {},
     "output_type": "execute_result"
    }
   ],
   "source": [
    "forest_df = pd.read_csv('Data/forestfires.csv', usecols = ['X', 'Y', 'month', 'day', 'temp'])\n",
    "inamonth_df = forest_df[(forest_df['month'] == 'mar')]\n",
    "\n",
    "inamonth_df.head(10)"
   ]
  },
  {
   "cell_type": "markdown",
   "id": "5381dc3c",
   "metadata": {
    "slideshow": {
     "slide_type": "slide"
    }
   },
   "source": [
    "Average temperature at (X, Y) positions for March. Organized as pivot table:"
   ]
  },
  {
   "cell_type": "code",
   "execution_count": 8,
   "id": "1554b8f0",
   "metadata": {
    "slideshow": {
     "slide_type": "fragment"
    }
   },
   "outputs": [
    {
     "data": {
      "text/html": [
       "<div>\n",
       "<style scoped>\n",
       "    .dataframe tbody tr th:only-of-type {\n",
       "        vertical-align: middle;\n",
       "    }\n",
       "\n",
       "    .dataframe tbody tr th {\n",
       "        vertical-align: top;\n",
       "    }\n",
       "\n",
       "    .dataframe thead th {\n",
       "        text-align: right;\n",
       "    }\n",
       "</style>\n",
       "<table border=\"1\" class=\"dataframe\">\n",
       "  <thead>\n",
       "    <tr style=\"text-align: right;\">\n",
       "      <th>Y</th>\n",
       "      <th>2</th>\n",
       "      <th>3</th>\n",
       "      <th>4</th>\n",
       "      <th>5</th>\n",
       "      <th>6</th>\n",
       "    </tr>\n",
       "    <tr>\n",
       "      <th>X</th>\n",
       "      <th></th>\n",
       "      <th></th>\n",
       "      <th></th>\n",
       "      <th></th>\n",
       "      <th></th>\n",
       "    </tr>\n",
       "  </thead>\n",
       "  <tbody>\n",
       "    <tr>\n",
       "      <th>1</th>\n",
       "      <td>NaN</td>\n",
       "      <td>8.3</td>\n",
       "      <td>NaN</td>\n",
       "      <td>NaN</td>\n",
       "      <td>NaN</td>\n",
       "    </tr>\n",
       "    <tr>\n",
       "      <th>2</th>\n",
       "      <td>8.5</td>\n",
       "      <td>NaN</td>\n",
       "      <td>15.2000</td>\n",
       "      <td>NaN</td>\n",
       "      <td>NaN</td>\n",
       "    </tr>\n",
       "    <tr>\n",
       "      <th>3</th>\n",
       "      <td>NaN</td>\n",
       "      <td>NaN</td>\n",
       "      <td>13.6875</td>\n",
       "      <td>13.133333</td>\n",
       "      <td>NaN</td>\n",
       "    </tr>\n",
       "    <tr>\n",
       "      <th>4</th>\n",
       "      <td>NaN</td>\n",
       "      <td>11.0</td>\n",
       "      <td>14.1000</td>\n",
       "      <td>15.975000</td>\n",
       "      <td>12.30</td>\n",
       "    </tr>\n",
       "    <tr>\n",
       "      <th>5</th>\n",
       "      <td>NaN</td>\n",
       "      <td>NaN</td>\n",
       "      <td>14.4000</td>\n",
       "      <td>13.350000</td>\n",
       "      <td>15.10</td>\n",
       "    </tr>\n",
       "    <tr>\n",
       "      <th>6</th>\n",
       "      <td>NaN</td>\n",
       "      <td>15.2</td>\n",
       "      <td>14.6000</td>\n",
       "      <td>12.260000</td>\n",
       "      <td>NaN</td>\n",
       "    </tr>\n",
       "    <tr>\n",
       "      <th>7</th>\n",
       "      <td>NaN</td>\n",
       "      <td>11.0</td>\n",
       "      <td>13.8000</td>\n",
       "      <td>8.200000</td>\n",
       "      <td>NaN</td>\n",
       "    </tr>\n",
       "    <tr>\n",
       "      <th>8</th>\n",
       "      <td>NaN</td>\n",
       "      <td>NaN</td>\n",
       "      <td>NaN</td>\n",
       "      <td>NaN</td>\n",
       "      <td>12.15</td>\n",
       "    </tr>\n",
       "  </tbody>\n",
       "</table>\n",
       "</div>"
      ],
      "text/plain": [
       "Y    2     3        4          5      6\n",
       "X                                      \n",
       "1  NaN   8.3      NaN        NaN    NaN\n",
       "2  8.5   NaN  15.2000        NaN    NaN\n",
       "3  NaN   NaN  13.6875  13.133333    NaN\n",
       "4  NaN  11.0  14.1000  15.975000  12.30\n",
       "5  NaN   NaN  14.4000  13.350000  15.10\n",
       "6  NaN  15.2  14.6000  12.260000    NaN\n",
       "7  NaN  11.0  13.8000   8.200000    NaN\n",
       "8  NaN   NaN      NaN        NaN  12.15"
      ]
     },
     "execution_count": 8,
     "metadata": {},
     "output_type": "execute_result"
    }
   ],
   "source": [
    "inamonth_df.pivot_table(index = 'X', columns = 'Y', values = 'temp', aggfunc = 'mean')"
   ]
  },
  {
   "cell_type": "markdown",
   "id": "4e387b6c",
   "metadata": {
    "slideshow": {
     "slide_type": "slide"
    }
   },
   "source": [
    "#### Multiindexing\n",
    "- Setting multiple columns as index\n",
    "- Setting hierarchies.\n",
    "- Accessing data in multi-indexed DataFrames."
   ]
  },
  {
   "cell_type": "markdown",
   "id": "594f472a",
   "metadata": {
    "slideshow": {
     "slide_type": "fragment"
    }
   },
   "source": [
    "Airfoil noise dataset:\n",
    "- Various factors affecting sound amplitude off of airplane wings."
   ]
  },
  {
   "cell_type": "code",
   "execution_count": 9,
   "id": "e77900d8",
   "metadata": {
    "cell_style": "center",
    "scrolled": true,
    "slideshow": {
     "slide_type": "slide"
    }
   },
   "outputs": [
    {
     "data": {
      "text/html": [
       "<div>\n",
       "<style scoped>\n",
       "    .dataframe tbody tr th:only-of-type {\n",
       "        vertical-align: middle;\n",
       "    }\n",
       "\n",
       "    .dataframe tbody tr th {\n",
       "        vertical-align: top;\n",
       "    }\n",
       "\n",
       "    .dataframe thead th {\n",
       "        text-align: right;\n",
       "    }\n",
       "</style>\n",
       "<table border=\"1\" class=\"dataframe\">\n",
       "  <thead>\n",
       "    <tr style=\"text-align: right;\">\n",
       "      <th></th>\n",
       "      <th>Frequency [Hz]</th>\n",
       "      <th>Angle of attack [deg]</th>\n",
       "      <th>Chord length [m]</th>\n",
       "      <th>Free-stream velocity [m/s]</th>\n",
       "      <th>Suction side thickness [m]</th>\n",
       "      <th>Sound volume [dB]</th>\n",
       "    </tr>\n",
       "  </thead>\n",
       "  <tbody>\n",
       "    <tr>\n",
       "      <th>0</th>\n",
       "      <td>800</td>\n",
       "      <td>0.0</td>\n",
       "      <td>0.3048</td>\n",
       "      <td>71.3</td>\n",
       "      <td>0.002663</td>\n",
       "      <td>126.201</td>\n",
       "    </tr>\n",
       "    <tr>\n",
       "      <th>1</th>\n",
       "      <td>1000</td>\n",
       "      <td>0.0</td>\n",
       "      <td>0.3048</td>\n",
       "      <td>71.3</td>\n",
       "      <td>0.002663</td>\n",
       "      <td>125.201</td>\n",
       "    </tr>\n",
       "    <tr>\n",
       "      <th>2</th>\n",
       "      <td>1250</td>\n",
       "      <td>0.0</td>\n",
       "      <td>0.3048</td>\n",
       "      <td>71.3</td>\n",
       "      <td>0.002663</td>\n",
       "      <td>125.951</td>\n",
       "    </tr>\n",
       "    <tr>\n",
       "      <th>3</th>\n",
       "      <td>1600</td>\n",
       "      <td>0.0</td>\n",
       "      <td>0.3048</td>\n",
       "      <td>71.3</td>\n",
       "      <td>0.002663</td>\n",
       "      <td>127.591</td>\n",
       "    </tr>\n",
       "    <tr>\n",
       "      <th>4</th>\n",
       "      <td>2000</td>\n",
       "      <td>0.0</td>\n",
       "      <td>0.3048</td>\n",
       "      <td>71.3</td>\n",
       "      <td>0.002663</td>\n",
       "      <td>127.461</td>\n",
       "    </tr>\n",
       "  </tbody>\n",
       "</table>\n",
       "</div>"
      ],
      "text/plain": [
       "   Frequency [Hz]  Angle of attack [deg]  Chord length [m]  \\\n",
       "0             800                    0.0            0.3048   \n",
       "1            1000                    0.0            0.3048   \n",
       "2            1250                    0.0            0.3048   \n",
       "3            1600                    0.0            0.3048   \n",
       "4            2000                    0.0            0.3048   \n",
       "\n",
       "   Free-stream velocity [m/s]  Suction side thickness [m]  Sound volume [dB]  \n",
       "0                        71.3                    0.002663            126.201  \n",
       "1                        71.3                    0.002663            125.201  \n",
       "2                        71.3                    0.002663            125.951  \n",
       "3                        71.3                    0.002663            127.591  \n",
       "4                        71.3                    0.002663            127.461  "
      ]
     },
     "execution_count": 9,
     "metadata": {},
     "output_type": "execute_result"
    }
   ],
   "source": [
    "colnames = ['Frequency [Hz]', 'Angle of attack [deg]', 'Chord length [m]', 'Free-stream velocity [m/s]', 'Suction side thickness [m]', 'Sound volume [dB]']\n",
    "airfoil_df = pd.read_csv('Data/airfoil_self_noise.dat', delimiter='\\t', header = None, names = colnames  )\n",
    "\n",
    "airfoil_df.head()"
   ]
  },
  {
   "cell_type": "markdown",
   "id": "cc609ccb",
   "metadata": {
    "cell_style": "center",
    "slideshow": {
     "slide_type": "slide"
    }
   },
   "source": [
    "Setting multiple attributes as indices can give us flexibility in addressing the data.\n",
    "- How does sound amplitude depend just on frequency, stream velocity, and foil chord length?\n",
    "- Create hierarchical Multiindex:"
   ]
  },
  {
   "cell_type": "code",
   "execution_count": 12,
   "id": "d05ed5a3",
   "metadata": {
    "cell_style": "center",
    "slideshow": {
     "slide_type": "subslide"
    }
   },
   "outputs": [
    {
     "data": {
      "text/html": [
       "<div>\n",
       "<style scoped>\n",
       "    .dataframe tbody tr th:only-of-type {\n",
       "        vertical-align: middle;\n",
       "    }\n",
       "\n",
       "    .dataframe tbody tr th {\n",
       "        vertical-align: top;\n",
       "    }\n",
       "\n",
       "    .dataframe thead th {\n",
       "        text-align: right;\n",
       "    }\n",
       "</style>\n",
       "<table border=\"1\" class=\"dataframe\">\n",
       "  <thead>\n",
       "    <tr style=\"text-align: right;\">\n",
       "      <th></th>\n",
       "      <th></th>\n",
       "      <th></th>\n",
       "      <th>Sound volume [dB]</th>\n",
       "    </tr>\n",
       "    <tr>\n",
       "      <th>Frequency [Hz]</th>\n",
       "      <th>Free-stream velocity [m/s]</th>\n",
       "      <th>Angle of attack [deg]</th>\n",
       "      <th></th>\n",
       "    </tr>\n",
       "  </thead>\n",
       "  <tbody>\n",
       "    <tr>\n",
       "      <th>800</th>\n",
       "      <th>71.3</th>\n",
       "      <th>0.0</th>\n",
       "      <td>126.201</td>\n",
       "    </tr>\n",
       "    <tr>\n",
       "      <th>1000</th>\n",
       "      <th>71.3</th>\n",
       "      <th>0.0</th>\n",
       "      <td>125.201</td>\n",
       "    </tr>\n",
       "    <tr>\n",
       "      <th>1250</th>\n",
       "      <th>71.3</th>\n",
       "      <th>0.0</th>\n",
       "      <td>125.951</td>\n",
       "    </tr>\n",
       "    <tr>\n",
       "      <th>1600</th>\n",
       "      <th>71.3</th>\n",
       "      <th>0.0</th>\n",
       "      <td>127.591</td>\n",
       "    </tr>\n",
       "    <tr>\n",
       "      <th>2000</th>\n",
       "      <th>71.3</th>\n",
       "      <th>0.0</th>\n",
       "      <td>127.461</td>\n",
       "    </tr>\n",
       "  </tbody>\n",
       "</table>\n",
       "</div>"
      ],
      "text/plain": [
       "                                                                 Sound volume [dB]\n",
       "Frequency [Hz] Free-stream velocity [m/s] Angle of attack [deg]                   \n",
       "800            71.3                       0.0                              126.201\n",
       "1000           71.3                       0.0                              125.201\n",
       "1250           71.3                       0.0                              125.951\n",
       "1600           71.3                       0.0                              127.591\n",
       "2000           71.3                       0.0                              127.461"
      ]
     },
     "execution_count": 12,
     "metadata": {},
     "output_type": "execute_result"
    }
   ],
   "source": [
    "col_subset = ['Frequency [Hz]', 'Free-stream velocity [m/s]', 'Angle of attack [deg]', 'Sound volume [dB]']\n",
    "airfoil_df = airfoil_df[col_subset].set_index(col_subset[0:3])\n",
    "airfoil_df.head()"
   ]
  },
  {
   "cell_type": "markdown",
   "id": "a5adbf0e",
   "metadata": {
    "slideshow": {
     "slide_type": "subslide"
    }
   },
   "source": [
    "Moved columns to index, but hierarchical structure of indices not set:\n",
    "- Can be accomplished with the .sort_index() method."
   ]
  },
  {
   "cell_type": "code",
   "execution_count": 16,
   "id": "f718da75",
   "metadata": {
    "cell_style": "center",
    "slideshow": {
     "slide_type": "fragment"
    }
   },
   "outputs": [
    {
     "data": {
      "text/html": [
       "<div>\n",
       "<style scoped>\n",
       "    .dataframe tbody tr th:only-of-type {\n",
       "        vertical-align: middle;\n",
       "    }\n",
       "\n",
       "    .dataframe tbody tr th {\n",
       "        vertical-align: top;\n",
       "    }\n",
       "\n",
       "    .dataframe thead th {\n",
       "        text-align: right;\n",
       "    }\n",
       "</style>\n",
       "<table border=\"1\" class=\"dataframe\">\n",
       "  <thead>\n",
       "    <tr style=\"text-align: right;\">\n",
       "      <th></th>\n",
       "      <th></th>\n",
       "      <th></th>\n",
       "      <th>Sound volume [dB]</th>\n",
       "    </tr>\n",
       "    <tr>\n",
       "      <th>Frequency [Hz]</th>\n",
       "      <th>Free-stream velocity [m/s]</th>\n",
       "      <th>Angle of attack [deg]</th>\n",
       "      <th></th>\n",
       "    </tr>\n",
       "  </thead>\n",
       "  <tbody>\n",
       "    <tr>\n",
       "      <th rowspan=\"5\" valign=\"top\">200</th>\n",
       "      <th rowspan=\"5\" valign=\"top\">31.7</th>\n",
       "      <th>0.0</th>\n",
       "      <td>117.195</td>\n",
       "    </tr>\n",
       "    <tr>\n",
       "      <th>7.3</th>\n",
       "      <td>128.679</td>\n",
       "    </tr>\n",
       "    <tr>\n",
       "      <th>9.5</th>\n",
       "      <td>119.146</td>\n",
       "    </tr>\n",
       "    <tr>\n",
       "      <th>9.9</th>\n",
       "      <td>127.299</td>\n",
       "    </tr>\n",
       "    <tr>\n",
       "      <th>12.3</th>\n",
       "      <td>124.987</td>\n",
       "    </tr>\n",
       "    <tr>\n",
       "      <th>...</th>\n",
       "      <th>...</th>\n",
       "      <th>...</th>\n",
       "      <td>...</td>\n",
       "    </tr>\n",
       "    <tr>\n",
       "      <th rowspan=\"5\" valign=\"top\">20000</th>\n",
       "      <th>55.5</th>\n",
       "      <th>4.8</th>\n",
       "      <td>121.284</td>\n",
       "    </tr>\n",
       "    <tr>\n",
       "      <th rowspan=\"4\" valign=\"top\">71.3</th>\n",
       "      <th>0.0</th>\n",
       "      <td>114.474</td>\n",
       "    </tr>\n",
       "    <tr>\n",
       "      <th>0.0</th>\n",
       "      <td>123.217</td>\n",
       "    </tr>\n",
       "    <tr>\n",
       "      <th>4.0</th>\n",
       "      <td>109.638</td>\n",
       "    </tr>\n",
       "    <tr>\n",
       "      <th>4.8</th>\n",
       "      <td>119.708</td>\n",
       "    </tr>\n",
       "  </tbody>\n",
       "</table>\n",
       "<p>1503 rows × 1 columns</p>\n",
       "</div>"
      ],
      "text/plain": [
       "                                                                 Sound volume [dB]\n",
       "Frequency [Hz] Free-stream velocity [m/s] Angle of attack [deg]                   \n",
       "200            31.7                       0.0                              117.195\n",
       "                                          7.3                              128.679\n",
       "                                          9.5                              119.146\n",
       "                                          9.9                              127.299\n",
       "                                          12.3                             124.987\n",
       "...                                                                            ...\n",
       "20000          55.5                       4.8                              121.284\n",
       "               71.3                       0.0                              114.474\n",
       "                                          0.0                              123.217\n",
       "                                          4.0                              109.638\n",
       "                                          4.8                              119.708\n",
       "\n",
       "[1503 rows x 1 columns]"
      ]
     },
     "execution_count": 16,
     "metadata": {},
     "output_type": "execute_result"
    }
   ],
   "source": [
    "airfoil_df = airfoil_df.sort_index()\n",
    "airfoil_df"
   ]
  },
  {
   "cell_type": "markdown",
   "id": "06d128b9",
   "metadata": {
    "slideshow": {
     "slide_type": "subslide"
    }
   },
   "source": [
    "#### Accessing via the .loc accessor on multi-indices\n",
    "-DataFrame.loc[first_level_index, columns]\n",
    "- Dataframe.loc[(first_level_index, second_level_index, third_level_index), columns]"
   ]
  },
  {
   "cell_type": "code",
   "execution_count": 11,
   "id": "6e0ca9b0",
   "metadata": {
    "cell_style": "split",
    "slideshow": {
     "slide_type": "subslide"
    }
   },
   "outputs": [
    {
     "data": {
      "text/html": [
       "<div>\n",
       "<style scoped>\n",
       "    .dataframe tbody tr th:only-of-type {\n",
       "        vertical-align: middle;\n",
       "    }\n",
       "\n",
       "    .dataframe tbody tr th {\n",
       "        vertical-align: top;\n",
       "    }\n",
       "\n",
       "    .dataframe thead th {\n",
       "        text-align: right;\n",
       "    }\n",
       "</style>\n",
       "<table border=\"1\" class=\"dataframe\">\n",
       "  <thead>\n",
       "    <tr style=\"text-align: right;\">\n",
       "      <th></th>\n",
       "      <th></th>\n",
       "      <th>Sound volume [dB]</th>\n",
       "    </tr>\n",
       "    <tr>\n",
       "      <th>Free-stream velocity [m/s]</th>\n",
       "      <th>Angle of attack [deg]</th>\n",
       "      <th></th>\n",
       "    </tr>\n",
       "  </thead>\n",
       "  <tbody>\n",
       "    <tr>\n",
       "      <th rowspan=\"5\" valign=\"top\">31.7</th>\n",
       "      <th>0.0</th>\n",
       "      <td>127.365</td>\n",
       "    </tr>\n",
       "    <tr>\n",
       "      <th>0.0</th>\n",
       "      <td>130.595</td>\n",
       "    </tr>\n",
       "    <tr>\n",
       "      <th>0.0</th>\n",
       "      <td>130.987</td>\n",
       "    </tr>\n",
       "    <tr>\n",
       "      <th>0.0</th>\n",
       "      <td>126.780</td>\n",
       "    </tr>\n",
       "    <tr>\n",
       "      <th>0.0</th>\n",
       "      <td>125.127</td>\n",
       "    </tr>\n",
       "    <tr>\n",
       "      <th>...</th>\n",
       "      <th>...</th>\n",
       "      <td>...</td>\n",
       "    </tr>\n",
       "    <tr>\n",
       "      <th rowspan=\"5\" valign=\"top\">71.3</th>\n",
       "      <th>15.4</th>\n",
       "      <td>131.865</td>\n",
       "    </tr>\n",
       "    <tr>\n",
       "      <th>15.6</th>\n",
       "      <td>124.438</td>\n",
       "    </tr>\n",
       "    <tr>\n",
       "      <th>17.4</th>\n",
       "      <td>125.816</td>\n",
       "    </tr>\n",
       "    <tr>\n",
       "      <th>19.7</th>\n",
       "      <td>121.885</td>\n",
       "    </tr>\n",
       "    <tr>\n",
       "      <th>22.2</th>\n",
       "      <td>134.247</td>\n",
       "    </tr>\n",
       "  </tbody>\n",
       "</table>\n",
       "<p>99 rows × 1 columns</p>\n",
       "</div>"
      ],
      "text/plain": [
       "                                                  Sound volume [dB]\n",
       "Free-stream velocity [m/s] Angle of attack [deg]                   \n",
       "31.7                       0.0                              127.365\n",
       "                           0.0                              130.595\n",
       "                           0.0                              130.987\n",
       "                           0.0                              126.780\n",
       "                           0.0                              125.127\n",
       "...                                                             ...\n",
       "71.3                       15.4                             131.865\n",
       "                           15.6                             124.438\n",
       "                           17.4                             125.816\n",
       "                           19.7                             121.885\n",
       "                           22.2                             134.247\n",
       "\n",
       "[99 rows x 1 columns]"
      ]
     },
     "execution_count": 11,
     "metadata": {},
     "output_type": "execute_result"
    }
   ],
   "source": [
    "# at frequency = 1000 Hz\n",
    "airfoil_df.loc[1000, :]"
   ]
  },
  {
   "cell_type": "code",
   "execution_count": 12,
   "id": "ed561124",
   "metadata": {
    "cell_style": "split",
    "slideshow": {
     "slide_type": "fragment"
    }
   },
   "outputs": [
    {
     "data": {
      "text/html": [
       "<div>\n",
       "<style scoped>\n",
       "    .dataframe tbody tr th:only-of-type {\n",
       "        vertical-align: middle;\n",
       "    }\n",
       "\n",
       "    .dataframe tbody tr th {\n",
       "        vertical-align: top;\n",
       "    }\n",
       "\n",
       "    .dataframe thead th {\n",
       "        text-align: right;\n",
       "    }\n",
       "</style>\n",
       "<table border=\"1\" class=\"dataframe\">\n",
       "  <thead>\n",
       "    <tr style=\"text-align: right;\">\n",
       "      <th></th>\n",
       "      <th>Sound volume [dB]</th>\n",
       "    </tr>\n",
       "    <tr>\n",
       "      <th>Angle of attack [deg]</th>\n",
       "      <th></th>\n",
       "    </tr>\n",
       "  </thead>\n",
       "  <tbody>\n",
       "    <tr>\n",
       "      <th>0.0</th>\n",
       "      <td>126.966</td>\n",
       "    </tr>\n",
       "    <tr>\n",
       "      <th>0.0</th>\n",
       "      <td>128.290</td>\n",
       "    </tr>\n",
       "    <tr>\n",
       "      <th>0.0</th>\n",
       "      <td>128.583</td>\n",
       "    </tr>\n",
       "    <tr>\n",
       "      <th>0.0</th>\n",
       "      <td>125.586</td>\n",
       "    </tr>\n",
       "    <tr>\n",
       "      <th>0.0</th>\n",
       "      <td>129.800</td>\n",
       "    </tr>\n",
       "    <tr>\n",
       "      <th>2.0</th>\n",
       "      <td>129.002</td>\n",
       "    </tr>\n",
       "    <tr>\n",
       "      <th>3.0</th>\n",
       "      <td>129.329</td>\n",
       "    </tr>\n",
       "    <tr>\n",
       "      <th>3.3</th>\n",
       "      <td>131.129</td>\n",
       "    </tr>\n",
       "    <tr>\n",
       "      <th>4.0</th>\n",
       "      <td>132.134</td>\n",
       "    </tr>\n",
       "    <tr>\n",
       "      <th>5.4</th>\n",
       "      <td>132.127</td>\n",
       "    </tr>\n",
       "    <tr>\n",
       "      <th>6.7</th>\n",
       "      <td>137.233</td>\n",
       "    </tr>\n",
       "    <tr>\n",
       "      <th>7.3</th>\n",
       "      <td>125.194</td>\n",
       "    </tr>\n",
       "    <tr>\n",
       "      <th>8.4</th>\n",
       "      <td>130.722</td>\n",
       "    </tr>\n",
       "    <tr>\n",
       "      <th>9.5</th>\n",
       "      <td>130.332</td>\n",
       "    </tr>\n",
       "    <tr>\n",
       "      <th>9.9</th>\n",
       "      <td>124.665</td>\n",
       "    </tr>\n",
       "    <tr>\n",
       "      <th>12.3</th>\n",
       "      <td>125.484</td>\n",
       "    </tr>\n",
       "    <tr>\n",
       "      <th>15.4</th>\n",
       "      <td>130.400</td>\n",
       "    </tr>\n",
       "    <tr>\n",
       "      <th>17.4</th>\n",
       "      <td>126.001</td>\n",
       "    </tr>\n",
       "  </tbody>\n",
       "</table>\n",
       "</div>"
      ],
      "text/plain": [
       "                       Sound volume [dB]\n",
       "Angle of attack [deg]                   \n",
       "0.0                              126.966\n",
       "0.0                              128.290\n",
       "0.0                              128.583\n",
       "0.0                              125.586\n",
       "0.0                              129.800\n",
       "2.0                              129.002\n",
       "3.0                              129.329\n",
       "3.3                              131.129\n",
       "4.0                              132.134\n",
       "5.4                              132.127\n",
       "6.7                              137.233\n",
       "7.3                              125.194\n",
       "8.4                              130.722\n",
       "9.5                              130.332\n",
       "9.9                              124.665\n",
       "12.3                             125.484\n",
       "15.4                             130.400\n",
       "17.4                             126.001"
      ]
     },
     "execution_count": 12,
     "metadata": {},
     "output_type": "execute_result"
    }
   ],
   "source": [
    "# sound vol vs angle of attack\n",
    "# fixed at 1000 Hz, 55.5 m/s stream velocity\n",
    "airfoil_df.loc[(1000, 55.5)]"
   ]
  },
  {
   "cell_type": "markdown",
   "id": "4d433cf2",
   "metadata": {
    "slideshow": {
     "slide_type": "slide"
    }
   },
   "source": [
    "Swapping level hierarchy:\n",
    "- Look at measurement/response keeping one variable fixed and varying another.\n",
    "- Swapping level hierarchy switches which we keep fixed and which we vary.\n"
   ]
  },
  {
   "cell_type": "code",
   "execution_count": 17,
   "id": "98811af0",
   "metadata": {
    "slideshow": {
     "slide_type": "fragment"
    }
   },
   "outputs": [],
   "source": [
    "swapped_df = airfoil_df.swaplevel('Free-stream velocity [m/s]', 'Angle of attack [deg]').sort_index()"
   ]
  },
  {
   "cell_type": "code",
   "execution_count": 18,
   "id": "204c89f5",
   "metadata": {
    "cell_style": "split",
    "scrolled": true,
    "slideshow": {
     "slide_type": "subslide"
    }
   },
   "outputs": [
    {
     "data": {
      "text/html": [
       "<div>\n",
       "<style scoped>\n",
       "    .dataframe tbody tr th:only-of-type {\n",
       "        vertical-align: middle;\n",
       "    }\n",
       "\n",
       "    .dataframe tbody tr th {\n",
       "        vertical-align: top;\n",
       "    }\n",
       "\n",
       "    .dataframe thead th {\n",
       "        text-align: right;\n",
       "    }\n",
       "</style>\n",
       "<table border=\"1\" class=\"dataframe\">\n",
       "  <thead>\n",
       "    <tr style=\"text-align: right;\">\n",
       "      <th></th>\n",
       "      <th></th>\n",
       "      <th></th>\n",
       "      <th>Sound volume [dB]</th>\n",
       "    </tr>\n",
       "    <tr>\n",
       "      <th>Frequency [Hz]</th>\n",
       "      <th>Angle of attack [deg]</th>\n",
       "      <th>Free-stream velocity [m/s]</th>\n",
       "      <th></th>\n",
       "    </tr>\n",
       "  </thead>\n",
       "  <tbody>\n",
       "    <tr>\n",
       "      <th rowspan=\"5\" valign=\"top\">200</th>\n",
       "      <th rowspan=\"2\" valign=\"top\">0.0</th>\n",
       "      <th>31.7</th>\n",
       "      <td>117.195</td>\n",
       "    </tr>\n",
       "    <tr>\n",
       "      <th>39.6</th>\n",
       "      <td>118.129</td>\n",
       "    </tr>\n",
       "    <tr>\n",
       "      <th rowspan=\"3\" valign=\"top\">7.3</th>\n",
       "      <th>31.7</th>\n",
       "      <td>128.679</td>\n",
       "    </tr>\n",
       "    <tr>\n",
       "      <th>39.6</th>\n",
       "      <td>130.989</td>\n",
       "    </tr>\n",
       "    <tr>\n",
       "      <th>55.5</th>\n",
       "      <td>135.234</td>\n",
       "    </tr>\n",
       "  </tbody>\n",
       "</table>\n",
       "</div>"
      ],
      "text/plain": [
       "                                                                 Sound volume [dB]\n",
       "Frequency [Hz] Angle of attack [deg] Free-stream velocity [m/s]                   \n",
       "200            0.0                   31.7                                  117.195\n",
       "                                     39.6                                  118.129\n",
       "               7.3                   31.7                                  128.679\n",
       "                                     39.6                                  130.989\n",
       "                                     55.5                                  135.234"
      ]
     },
     "execution_count": 18,
     "metadata": {},
     "output_type": "execute_result"
    }
   ],
   "source": [
    "swapped_df.head()"
   ]
  },
  {
   "cell_type": "code",
   "execution_count": 15,
   "id": "351d1dd0",
   "metadata": {
    "cell_style": "split",
    "slideshow": {
     "slide_type": "fragment"
    }
   },
   "outputs": [
    {
     "data": {
      "text/html": [
       "<div>\n",
       "<style scoped>\n",
       "    .dataframe tbody tr th:only-of-type {\n",
       "        vertical-align: middle;\n",
       "    }\n",
       "\n",
       "    .dataframe tbody tr th {\n",
       "        vertical-align: top;\n",
       "    }\n",
       "\n",
       "    .dataframe thead th {\n",
       "        text-align: right;\n",
       "    }\n",
       "</style>\n",
       "<table border=\"1\" class=\"dataframe\">\n",
       "  <thead>\n",
       "    <tr style=\"text-align: right;\">\n",
       "      <th></th>\n",
       "      <th>Sound volume [dB]</th>\n",
       "    </tr>\n",
       "    <tr>\n",
       "      <th>Free-stream velocity [m/s]</th>\n",
       "      <th></th>\n",
       "    </tr>\n",
       "  </thead>\n",
       "  <tbody>\n",
       "    <tr>\n",
       "      <th>31.7</th>\n",
       "      <td>119.099</td>\n",
       "    </tr>\n",
       "    <tr>\n",
       "      <th>39.6</th>\n",
       "      <td>122.539</td>\n",
       "    </tr>\n",
       "    <tr>\n",
       "      <th>55.5</th>\n",
       "      <td>125.194</td>\n",
       "    </tr>\n",
       "    <tr>\n",
       "      <th>71.3</th>\n",
       "      <td>126.838</td>\n",
       "    </tr>\n",
       "  </tbody>\n",
       "</table>\n",
       "</div>"
      ],
      "text/plain": [
       "                            Sound volume [dB]\n",
       "Free-stream velocity [m/s]                   \n",
       "31.7                                  119.099\n",
       "39.6                                  122.539\n",
       "55.5                                  125.194\n",
       "71.3                                  126.838"
      ]
     },
     "execution_count": 15,
     "metadata": {},
     "output_type": "execute_result"
    }
   ],
   "source": [
    "\n",
    "swapped_df.loc[(1000, 7.3)]"
   ]
  },
  {
   "cell_type": "markdown",
   "id": "0f6591aa",
   "metadata": {
    "cell_style": "split"
   },
   "source": [
    "At fixed angle of attack, sound volume increases with airflow speed at 1 kHz."
   ]
  },
  {
   "cell_type": "markdown",
   "id": "ec0dc2a6",
   "metadata": {
    "slideshow": {
     "slide_type": "slide"
    }
   },
   "source": [
    "Multi-indexing opens up many possibilities for data manipulation.\n",
    "\n",
    "Strongly encourage you to look at supplementary material and pandas documentation!"
   ]
  }
 ],
 "metadata": {
  "celltoolbar": "Slideshow",
  "kernelspec": {
   "display_name": "Python 3 (ipykernel)",
   "language": "python",
   "name": "python3"
  },
  "language_info": {
   "codemirror_mode": {
    "name": "ipython",
    "version": 3
   },
   "file_extension": ".py",
   "mimetype": "text/x-python",
   "name": "python",
   "nbconvert_exporter": "python",
   "pygments_lexer": "ipython3",
   "version": "3.9.7"
  }
 },
 "nbformat": 4,
 "nbformat_minor": 5
}
