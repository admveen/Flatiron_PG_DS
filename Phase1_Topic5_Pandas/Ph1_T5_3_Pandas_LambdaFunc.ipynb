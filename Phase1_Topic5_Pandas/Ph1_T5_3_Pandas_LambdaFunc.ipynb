{
 "cells": [
  {
   "cell_type": "markdown",
   "metadata": {
    "slideshow": {
     "slide_type": "slide"
    }
   },
   "source": [
    "<div style=\"color:white;\n",
    "           display:fill;\n",
    "           border-radius:5px;\n",
    "           background-color:#5642C5;\n",
    "           font-size:200%;\n",
    "           font-family:Arial;letter-spacing:0.5px\">\n",
    "\n",
    "<p width = 20%, style=\"padding: 10px;\n",
    "              color:white;\">\n",
    "Lambda Functions and Pandas Transformations\n",
    "              \n",
    "</p>\n",
    "</div>\n",
    "\n",
    "Data Science Cohort Live NYC Feb 2022\n",
    "<p>Phase 1: Topic 5</p>\n",
    "<br>\n",
    "<br>\n",
    "\n",
    "<div align = \"right\">\n",
    "<img src=\"Images/flatiron-school-logo.png\" align = \"right\" width=\"200\"/>\n",
    "</div>\n",
    "    \n",
    "    "
   ]
  },
  {
   "cell_type": "markdown",
   "metadata": {
    "slideshow": {
     "slide_type": "slide"
    }
   },
   "source": [
    "#### Lambda Functions\n",
    "\n",
    "- Lambda functions: simple way to write small, single use functions.\n",
    "- Often used as argument in other functions:\n",
    "    - E.g.,  `.map()` or `.apply()` method in pandas series/DataFrame\n",
    "\n",
    "Let's see lambda functions aiding us in a sort operation:"
   ]
  },
  {
   "cell_type": "markdown",
   "metadata": {
    "slideshow": {
     "slide_type": "slide"
    }
   },
   "source": [
    "#### Lambda functions within the `sort()` function\n",
    "Sort this list on the last name.\n"
   ]
  },
  {
   "cell_type": "code",
   "execution_count": 1,
   "metadata": {},
   "outputs": [
    {
     "data": {
      "text/plain": [
       "['Audrey Mayer',\n",
       " 'Bethany Martin',\n",
       " 'Carter Wong',\n",
       " 'Eddie Reeves',\n",
       " 'Elaine Barrera',\n",
       " 'Jaiden Liu',\n",
       " 'Kameron Davidson',\n",
       " 'Marley Beard',\n",
       " 'Miriam Marks',\n",
       " 'Sidney Baird',\n",
       " 'Stephen Rios',\n",
       " 'Teagan Bennett']"
      ]
     },
     "execution_count": 1,
     "metadata": {},
     "output_type": "execute_result"
    }
   ],
   "source": [
    "# Without a key\n",
    "names = ['Miriam Marks','Sidney Baird','Elaine Barrera','Eddie Reeves','Marley Beard',\n",
    "         'Jaiden Liu','Bethany Martin','Stephen Rios','Audrey Mayer','Kameron Davidson',\n",
    "         'Carter Wong','Teagan Bennett']\n",
    "sorted(names)"
   ]
  },
  {
   "cell_type": "markdown",
   "metadata": {
    "slideshow": {
     "slide_type": "slide"
    }
   },
   "source": [
    "Hmmm...its sorting on the first character.\n",
    "- Lambda function as argument: return last name as sorting key"
   ]
  },
  {
   "cell_type": "code",
   "execution_count": 3,
   "metadata": {
    "slideshow": {
     "slide_type": "fragment"
    }
   },
   "outputs": [
    {
     "data": {
      "text/plain": [
       "['Sidney Baird',\n",
       " 'Elaine Barrera',\n",
       " 'Marley Beard',\n",
       " 'Teagan Bennett',\n",
       " 'Kameron Davidson',\n",
       " 'Jaiden Liu',\n",
       " 'Miriam Marks',\n",
       " 'Bethany Martin',\n",
       " 'Audrey Mayer',\n",
       " 'Eddie Reeves',\n",
       " 'Stephen Rios']"
      ]
     },
     "execution_count": 3,
     "metadata": {},
     "output_type": "execute_result"
    }
   ],
   "source": [
    "# Sorting by last name\n",
    "names = ['Miriam Marks','Sidney Baird','Elaine Barrera','Eddie Reeves','Marley Beard',\n",
    "         'Jaiden Liu','Bethany Martin','Stephen Rios','Audrey Mayer','Kameron Davidson',\n",
    "'Teagan Bennett']\n",
    "sorted(names, key=lambda x: x.split()[1])\n"
   ]
  },
  {
   "cell_type": "code",
   "execution_count": 2,
   "metadata": {},
   "outputs": [],
   "source": [
    "f = lambda x: x**2"
   ]
  },
  {
   "cell_type": "code",
   "execution_count": 5,
   "metadata": {},
   "outputs": [
    {
     "data": {
      "text/plain": [
       "25"
      ]
     },
     "execution_count": 5,
     "metadata": {},
     "output_type": "execute_result"
    }
   ],
   "source": [
    "f(5)"
   ]
  },
  {
   "cell_type": "markdown",
   "metadata": {
    "slideshow": {
     "slide_type": "slide"
    }
   },
   "source": [
    "#### Lambda functions with pandas `.map()`\n",
    "Let's take a look at using lambda expressions on a Yelp ratings dataset."
   ]
  },
  {
   "cell_type": "code",
   "execution_count": 6,
   "metadata": {
    "scrolled": true,
    "slideshow": {
     "slide_type": "slide"
    }
   },
   "outputs": [
    {
     "data": {
      "text/html": [
       "<div>\n",
       "<style scoped>\n",
       "    .dataframe tbody tr th:only-of-type {\n",
       "        vertical-align: middle;\n",
       "    }\n",
       "\n",
       "    .dataframe tbody tr th {\n",
       "        vertical-align: top;\n",
       "    }\n",
       "\n",
       "    .dataframe thead th {\n",
       "        text-align: right;\n",
       "    }\n",
       "</style>\n",
       "<table border=\"1\" class=\"dataframe\">\n",
       "  <thead>\n",
       "    <tr style=\"text-align: right;\">\n",
       "      <th></th>\n",
       "      <th>index</th>\n",
       "      <th>business_id</th>\n",
       "      <th>cool</th>\n",
       "      <th>date</th>\n",
       "      <th>funny</th>\n",
       "      <th>review_id</th>\n",
       "      <th>stars</th>\n",
       "      <th>text</th>\n",
       "      <th>useful</th>\n",
       "      <th>user_id</th>\n",
       "    </tr>\n",
       "  </thead>\n",
       "  <tbody>\n",
       "    <tr>\n",
       "      <th>0</th>\n",
       "      <td>1</td>\n",
       "      <td>pomGBqfbxcqPv14c3XH-ZQ</td>\n",
       "      <td>0</td>\n",
       "      <td>2012-11-13</td>\n",
       "      <td>0</td>\n",
       "      <td>dDl8zu1vWPdKGihJrwQbpw</td>\n",
       "      <td>5</td>\n",
       "      <td>I love this place! My fiance And I go here atl...</td>\n",
       "      <td>0</td>\n",
       "      <td>msQe1u7Z_XuqjGoqhB0J5g</td>\n",
       "    </tr>\n",
       "    <tr>\n",
       "      <th>1</th>\n",
       "      <td>2</td>\n",
       "      <td>jtQARsP6P-LbkyjbO1qNGg</td>\n",
       "      <td>1</td>\n",
       "      <td>2014-10-23</td>\n",
       "      <td>1</td>\n",
       "      <td>LZp4UX5zK3e-c5ZGSeo3kA</td>\n",
       "      <td>1</td>\n",
       "      <td>Terrible. Dry corn bread. Rib tips were all fa...</td>\n",
       "      <td>3</td>\n",
       "      <td>msQe1u7Z_XuqjGoqhB0J5g</td>\n",
       "    </tr>\n",
       "    <tr>\n",
       "      <th>2</th>\n",
       "      <td>4</td>\n",
       "      <td>Ums3gaP2qM3W1XcA5r6SsQ</td>\n",
       "      <td>0</td>\n",
       "      <td>2014-09-05</td>\n",
       "      <td>0</td>\n",
       "      <td>jsDu6QEJHbwP2Blom1PLCA</td>\n",
       "      <td>5</td>\n",
       "      <td>Delicious healthy food. The steak is amazing. ...</td>\n",
       "      <td>0</td>\n",
       "      <td>msQe1u7Z_XuqjGoqhB0J5g</td>\n",
       "    </tr>\n",
       "    <tr>\n",
       "      <th>3</th>\n",
       "      <td>5</td>\n",
       "      <td>vgfcTvK81oD4r50NMjU2Ag</td>\n",
       "      <td>0</td>\n",
       "      <td>2011-02-25</td>\n",
       "      <td>0</td>\n",
       "      <td>pfavA0hr3nyqO61oupj-lA</td>\n",
       "      <td>1</td>\n",
       "      <td>This place sucks. The customer service is horr...</td>\n",
       "      <td>2</td>\n",
       "      <td>msQe1u7Z_XuqjGoqhB0J5g</td>\n",
       "    </tr>\n",
       "    <tr>\n",
       "      <th>4</th>\n",
       "      <td>10</td>\n",
       "      <td>yFumR3CWzpfvTH2FCthvVw</td>\n",
       "      <td>0</td>\n",
       "      <td>2016-06-15</td>\n",
       "      <td>0</td>\n",
       "      <td>STiFMww2z31siPY7BWNC2g</td>\n",
       "      <td>5</td>\n",
       "      <td>I have been an Emerald Club member for a numbe...</td>\n",
       "      <td>0</td>\n",
       "      <td>TlvV-xJhmh7LCwJYXkV-cg</td>\n",
       "    </tr>\n",
       "  </tbody>\n",
       "</table>\n",
       "</div>"
      ],
      "text/plain": [
       "   index             business_id  cool        date  funny  \\\n",
       "0      1  pomGBqfbxcqPv14c3XH-ZQ     0  2012-11-13      0   \n",
       "1      2  jtQARsP6P-LbkyjbO1qNGg     1  2014-10-23      1   \n",
       "2      4  Ums3gaP2qM3W1XcA5r6SsQ     0  2014-09-05      0   \n",
       "3      5  vgfcTvK81oD4r50NMjU2Ag     0  2011-02-25      0   \n",
       "4     10  yFumR3CWzpfvTH2FCthvVw     0  2016-06-15      0   \n",
       "\n",
       "                review_id  stars  \\\n",
       "0  dDl8zu1vWPdKGihJrwQbpw      5   \n",
       "1  LZp4UX5zK3e-c5ZGSeo3kA      1   \n",
       "2  jsDu6QEJHbwP2Blom1PLCA      5   \n",
       "3  pfavA0hr3nyqO61oupj-lA      1   \n",
       "4  STiFMww2z31siPY7BWNC2g      5   \n",
       "\n",
       "                                                text  useful  \\\n",
       "0  I love this place! My fiance And I go here atl...       0   \n",
       "1  Terrible. Dry corn bread. Rib tips were all fa...       3   \n",
       "2  Delicious healthy food. The steak is amazing. ...       0   \n",
       "3  This place sucks. The customer service is horr...       2   \n",
       "4  I have been an Emerald Club member for a numbe...       0   \n",
       "\n",
       "                  user_id  \n",
       "0  msQe1u7Z_XuqjGoqhB0J5g  \n",
       "1  msQe1u7Z_XuqjGoqhB0J5g  \n",
       "2  msQe1u7Z_XuqjGoqhB0J5g  \n",
       "3  msQe1u7Z_XuqjGoqhB0J5g  \n",
       "4  TlvV-xJhmh7LCwJYXkV-cg  "
      ]
     },
     "execution_count": 6,
     "metadata": {},
     "output_type": "execute_result"
    }
   ],
   "source": [
    "import pandas as pd\n",
    "df = pd.read_csv('Data/Yelp_Reviews.csv', index_col=0).reset_index()\n",
    "df.head(5)"
   ]
  },
  {
   "cell_type": "markdown",
   "metadata": {
    "slideshow": {
     "slide_type": "slide"
    }
   },
   "source": [
    "Simple example: naively select the year from the date string rather than convert it to a datetime object."
   ]
  },
  {
   "cell_type": "code",
   "execution_count": 8,
   "metadata": {
    "scrolled": true
   },
   "outputs": [
    {
     "data": {
      "text/plain": [
       "0    2012\n",
       "1    2014\n",
       "2    2014\n",
       "3    2011\n",
       "4    2016\n",
       "Name: date, dtype: object"
      ]
     },
     "execution_count": 8,
     "metadata": {},
     "output_type": "execute_result"
    }
   ],
   "source": [
    "df['date'].map(lambda x: x[:4]).head()"
   ]
  },
  {
   "cell_type": "markdown",
   "metadata": {
    "slideshow": {
     "slide_type": "slide"
    }
   },
   "source": [
    "More realistic example:\n",
    "- Get list of the length of each word in a given review."
   ]
  },
  {
   "cell_type": "code",
   "execution_count": 9,
   "metadata": {
    "slideshow": {
     "slide_type": "subslide"
    }
   },
   "outputs": [
    {
     "data": {
      "text/plain": [
       "'I love this place! My fiance And I go here atleast once a week. The portions are huge! Food is amazing. I love their carne asada. They have great lunch specials... Leticia is super nice and cares about what you think of her restaurant. You have to try their cheese enchiladas too the sauce is different And amazing!!!'"
      ]
     },
     "execution_count": 9,
     "metadata": {},
     "output_type": "execute_result"
    }
   ],
   "source": [
    "df['text'][0]"
   ]
  },
  {
   "cell_type": "code",
   "execution_count": 12,
   "metadata": {
    "cell_style": "center",
    "slideshow": {
     "slide_type": "fragment"
    }
   },
   "outputs": [
    {
     "data": {
      "text/plain": [
       "0    58\n",
       "1    30\n",
       "2    30\n",
       "3    82\n",
       "4    32\n",
       "Name: text, dtype: int64"
      ]
     },
     "execution_count": 12,
     "metadata": {},
     "output_type": "execute_result"
    }
   ],
   "source": [
    "df['text'].map(lambda text: [len(word) for word in text.split()]).head()"
   ]
  },
  {
   "cell_type": "markdown",
   "metadata": {
    "slideshow": {
     "slide_type": "slide"
    }
   },
   "source": [
    "Variable name you use as parameter in `lambda` expression does not matter:"
   ]
  },
  {
   "cell_type": "code",
   "execution_count": 12,
   "metadata": {
    "slideshow": {
     "slide_type": "fragment"
    }
   },
   "outputs": [
    {
     "data": {
      "text/plain": [
       "0    [1, 4, 4, 6, 2, 6, 3, 1, 2, 4, 7, 4, 1, 5, 3, ...\n",
       "1    [9, 3, 4, 6, 3, 4, 4, 3, 3, 3, 5, 3, 3, 2, 7, ...\n",
       "2    [9, 7, 5, 3, 5, 2, 8, 4, 3, 4, 3, 7, 4, 7, 2, ...\n",
       "3    [4, 5, 6, 3, 8, 7, 2, 9, 4, 4, 5, 4, 6, 3, 5, ...\n",
       "4    [1, 4, 4, 2, 7, 4, 6, 3, 1, 6, 2, 6, 1, 4, 6, ...\n",
       "Name: text, dtype: object"
      ]
     },
     "execution_count": 12,
     "metadata": {},
     "output_type": "execute_result"
    }
   ],
   "source": [
    "df['text'].map(lambda banana: [len(word) for word in banana.split()]).head()"
   ]
  },
  {
   "cell_type": "markdown",
   "metadata": {
    "slideshow": {
     "slide_type": "slide"
    }
   },
   "source": [
    "#### Lambda functions with conditionals\n",
    "Lambda functions can also accept some conditionals if chained in a list comprehension"
   ]
  },
  {
   "cell_type": "code",
   "execution_count": 13,
   "metadata": {
    "slideshow": {
     "slide_type": "fragment"
    }
   },
   "outputs": [
    {
     "data": {
      "text/plain": [
       "0    Good\n",
       "1     Bad\n",
       "2    Good\n",
       "3     Bad\n",
       "4     Bad\n",
       "Name: text, dtype: object"
      ]
     },
     "execution_count": 13,
     "metadata": {},
     "output_type": "execute_result"
    }
   ],
   "source": [
    "df['text'].map(lambda x: 'Good' if any([word in x.lower() for word in ['awesome', 'love', 'good', 'great']]) else 'Bad').head()"
   ]
  },
  {
   "cell_type": "markdown",
   "metadata": {
    "slideshow": {
     "slide_type": "subslide"
    }
   },
   "source": [
    "##### Note\n",
    "This is ugly, un-Pythonic and not in line with [PEP 8](https://www.python.org/dev/peps/pep-0008/).\n",
    "- Guidline for max characters in a line: 72 \n",
    "- Above: 127 characters. "
   ]
  },
  {
   "cell_type": "markdown",
   "metadata": {
    "slideshow": {
     "slide_type": "slide"
    }
   },
   "source": [
    "#### Lambda functions with pandas `.apply()`\n",
    "\n",
    "Let's go back to our trusty cereal dataset!"
   ]
  },
  {
   "cell_type": "code",
   "execution_count": 14,
   "metadata": {},
   "outputs": [
    {
     "data": {
      "text/html": [
       "<div>\n",
       "<style scoped>\n",
       "    .dataframe tbody tr th:only-of-type {\n",
       "        vertical-align: middle;\n",
       "    }\n",
       "\n",
       "    .dataframe tbody tr th {\n",
       "        vertical-align: top;\n",
       "    }\n",
       "\n",
       "    .dataframe thead th {\n",
       "        text-align: right;\n",
       "    }\n",
       "</style>\n",
       "<table border=\"1\" class=\"dataframe\">\n",
       "  <thead>\n",
       "    <tr style=\"text-align: right;\">\n",
       "      <th></th>\n",
       "      <th>mfr</th>\n",
       "      <th>type</th>\n",
       "      <th>calories</th>\n",
       "      <th>protein</th>\n",
       "      <th>fat</th>\n",
       "      <th>sodium</th>\n",
       "      <th>fiber</th>\n",
       "      <th>carbo</th>\n",
       "      <th>sugars</th>\n",
       "      <th>potass</th>\n",
       "      <th>vitamins</th>\n",
       "      <th>weight</th>\n",
       "      <th>cups</th>\n",
       "      <th>rating</th>\n",
       "    </tr>\n",
       "    <tr>\n",
       "      <th>name</th>\n",
       "      <th></th>\n",
       "      <th></th>\n",
       "      <th></th>\n",
       "      <th></th>\n",
       "      <th></th>\n",
       "      <th></th>\n",
       "      <th></th>\n",
       "      <th></th>\n",
       "      <th></th>\n",
       "      <th></th>\n",
       "      <th></th>\n",
       "      <th></th>\n",
       "      <th></th>\n",
       "      <th></th>\n",
       "    </tr>\n",
       "  </thead>\n",
       "  <tbody>\n",
       "    <tr>\n",
       "      <th>100% Bran</th>\n",
       "      <td>N</td>\n",
       "      <td>C</td>\n",
       "      <td>70</td>\n",
       "      <td>4</td>\n",
       "      <td>1</td>\n",
       "      <td>130</td>\n",
       "      <td>10.0</td>\n",
       "      <td>5.0</td>\n",
       "      <td>6</td>\n",
       "      <td>280</td>\n",
       "      <td>25</td>\n",
       "      <td>1.0</td>\n",
       "      <td>0.33</td>\n",
       "      <td>68.402973</td>\n",
       "    </tr>\n",
       "    <tr>\n",
       "      <th>100% Natural Bran</th>\n",
       "      <td>Q</td>\n",
       "      <td>C</td>\n",
       "      <td>120</td>\n",
       "      <td>3</td>\n",
       "      <td>5</td>\n",
       "      <td>15</td>\n",
       "      <td>2.0</td>\n",
       "      <td>8.0</td>\n",
       "      <td>8</td>\n",
       "      <td>135</td>\n",
       "      <td>0</td>\n",
       "      <td>1.0</td>\n",
       "      <td>1.00</td>\n",
       "      <td>33.983679</td>\n",
       "    </tr>\n",
       "  </tbody>\n",
       "</table>\n",
       "</div>"
      ],
      "text/plain": [
       "                  mfr type  calories  protein  fat  sodium  fiber  carbo  \\\n",
       "name                                                                       \n",
       "100% Bran           N    C        70        4    1     130   10.0    5.0   \n",
       "100% Natural Bran   Q    C       120        3    5      15    2.0    8.0   \n",
       "\n",
       "                   sugars  potass  vitamins  weight  cups     rating  \n",
       "name                                                                  \n",
       "100% Bran               6     280        25     1.0  0.33  68.402973  \n",
       "100% Natural Bran       8     135         0     1.0  1.00  33.983679  "
      ]
     },
     "execution_count": 14,
     "metadata": {},
     "output_type": "execute_result"
    }
   ],
   "source": [
    "cereal_df = pd.read_csv('Data/cereal.csv', index_col = 'name').drop(columns = ['shelf'])\n",
    "cereal_df.head(2)"
   ]
  },
  {
   "cell_type": "markdown",
   "metadata": {
    "slideshow": {
     "slide_type": "slide"
    }
   },
   "source": [
    "Now we want to apply a standardization transformation to the numeric columns of this dataframe:\n",
    "- For each column subtract by its mean an divide by standard deviation: $$ \\hat{x}_i^{col} = \\frac{x_i^{col} - \\mu^{col} }{s^{col}} $$"
   ]
  },
  {
   "cell_type": "markdown",
   "metadata": {
    "slideshow": {
     "slide_type": "slide"
    }
   },
   "source": [
    "- `lambda` expression takes in a column (Series) in the Dataframe\n",
    "- `.apply()`: applies to each column in DataFrame.\n"
   ]
  },
  {
   "cell_type": "code",
   "execution_count": 16,
   "metadata": {
    "slideshow": {
     "slide_type": "fragment"
    }
   },
   "outputs": [
    {
     "data": {
      "text/html": [
       "<div>\n",
       "<style scoped>\n",
       "    .dataframe tbody tr th:only-of-type {\n",
       "        vertical-align: middle;\n",
       "    }\n",
       "\n",
       "    .dataframe tbody tr th {\n",
       "        vertical-align: top;\n",
       "    }\n",
       "\n",
       "    .dataframe thead th {\n",
       "        text-align: right;\n",
       "    }\n",
       "</style>\n",
       "<table border=\"1\" class=\"dataframe\">\n",
       "  <thead>\n",
       "    <tr style=\"text-align: right;\">\n",
       "      <th></th>\n",
       "      <th>calories</th>\n",
       "      <th>protein</th>\n",
       "      <th>fat</th>\n",
       "      <th>sodium</th>\n",
       "      <th>fiber</th>\n",
       "      <th>carbo</th>\n",
       "      <th>sugars</th>\n",
       "      <th>potass</th>\n",
       "      <th>vitamins</th>\n",
       "      <th>weight</th>\n",
       "      <th>cups</th>\n",
       "      <th>rating</th>\n",
       "    </tr>\n",
       "  </thead>\n",
       "  <tbody>\n",
       "    <tr>\n",
       "      <th>count</th>\n",
       "      <td>7.700000e+01</td>\n",
       "      <td>7.700000e+01</td>\n",
       "      <td>7.700000e+01</td>\n",
       "      <td>7.700000e+01</td>\n",
       "      <td>7.700000e+01</td>\n",
       "      <td>7.700000e+01</td>\n",
       "      <td>7.700000e+01</td>\n",
       "      <td>7.700000e+01</td>\n",
       "      <td>7.700000e+01</td>\n",
       "      <td>7.700000e+01</td>\n",
       "      <td>7.700000e+01</td>\n",
       "      <td>7.700000e+01</td>\n",
       "    </tr>\n",
       "    <tr>\n",
       "      <th>mean</th>\n",
       "      <td>-1.315686e-16</td>\n",
       "      <td>5.406930e-17</td>\n",
       "      <td>3.027881e-17</td>\n",
       "      <td>1.586033e-17</td>\n",
       "      <td>1.636498e-16</td>\n",
       "      <td>-9.588290e-17</td>\n",
       "      <td>-7.569702e-17</td>\n",
       "      <td>-8.074349e-17</td>\n",
       "      <td>-2.883696e-17</td>\n",
       "      <td>1.280361e-15</td>\n",
       "      <td>-1.304152e-15</td>\n",
       "      <td>2.595327e-17</td>\n",
       "    </tr>\n",
       "    <tr>\n",
       "      <th>std</th>\n",
       "      <td>1.000000e+00</td>\n",
       "      <td>1.000000e+00</td>\n",
       "      <td>1.000000e+00</td>\n",
       "      <td>1.000000e+00</td>\n",
       "      <td>1.000000e+00</td>\n",
       "      <td>1.000000e+00</td>\n",
       "      <td>1.000000e+00</td>\n",
       "      <td>1.000000e+00</td>\n",
       "      <td>1.000000e+00</td>\n",
       "      <td>1.000000e+00</td>\n",
       "      <td>1.000000e+00</td>\n",
       "      <td>1.000000e+00</td>\n",
       "    </tr>\n",
       "    <tr>\n",
       "      <th>min</th>\n",
       "      <td>-2.919461e+00</td>\n",
       "      <td>-1.411645e+00</td>\n",
       "      <td>-1.006473e+00</td>\n",
       "      <td>-1.904699e+00</td>\n",
       "      <td>-9.029037e-01</td>\n",
       "      <td>-3.645142e+00</td>\n",
       "      <td>-1.782291e+00</td>\n",
       "      <td>-1.361794e+00</td>\n",
       "      <td>-1.264260e+00</td>\n",
       "      <td>-3.519548e+00</td>\n",
       "      <td>-2.453800e+00</td>\n",
       "      <td>-1.752855e+00</td>\n",
       "    </tr>\n",
       "    <tr>\n",
       "      <th>25%</th>\n",
       "      <td>-3.532681e-01</td>\n",
       "      <td>-4.982277e-01</td>\n",
       "      <td>-1.006473e+00</td>\n",
       "      <td>-3.539844e-01</td>\n",
       "      <td>-4.833286e-01</td>\n",
       "      <td>-6.070178e-01</td>\n",
       "      <td>-8.823800e-01</td>\n",
       "      <td>-7.866521e-01</td>\n",
       "      <td>-1.453172e-01</td>\n",
       "      <td>-1.967771e-01</td>\n",
       "      <td>-6.490266e-01</td>\n",
       "      <td>-6.756899e-01</td>\n",
       "    </tr>\n",
       "    <tr>\n",
       "      <th>50%</th>\n",
       "      <td>1.599704e-01</td>\n",
       "      <td>4.151897e-01</td>\n",
       "      <td>-1.290349e-02</td>\n",
       "      <td>2.424445e-01</td>\n",
       "      <td>-6.375361e-02</td>\n",
       "      <td>-1.396141e-01</td>\n",
       "      <td>1.753073e-02</td>\n",
       "      <td>-8.526012e-02</td>\n",
       "      <td>-1.453172e-01</td>\n",
       "      <td>-1.967771e-01</td>\n",
       "      <td>-3.052601e-01</td>\n",
       "      <td>-1.612765e-01</td>\n",
       "    </tr>\n",
       "    <tr>\n",
       "      <th>75%</th>\n",
       "      <td>1.599704e-01</td>\n",
       "      <td>4.151897e-01</td>\n",
       "      <td>9.806656e-01</td>\n",
       "      <td>6.003018e-01</td>\n",
       "      <td>3.558214e-01</td>\n",
       "      <td>5.614915e-01</td>\n",
       "      <td>9.174414e-01</td>\n",
       "      <td>3.355751e-01</td>\n",
       "      <td>-1.453172e-01</td>\n",
       "      <td>-1.967771e-01</td>\n",
       "      <td>7.690100e-01</td>\n",
       "      <td>5.810863e-01</td>\n",
       "    </tr>\n",
       "    <tr>\n",
       "      <th>max</th>\n",
       "      <td>2.726163e+00</td>\n",
       "      <td>3.155442e+00</td>\n",
       "      <td>3.961373e+00</td>\n",
       "      <td>1.912445e+00</td>\n",
       "      <td>4.971147e+00</td>\n",
       "      <td>1.963703e+00</td>\n",
       "      <td>1.817352e+00</td>\n",
       "      <td>3.281421e+00</td>\n",
       "      <td>3.211511e+00</td>\n",
       "      <td>3.125994e+00</td>\n",
       "      <td>2.917550e+00</td>\n",
       "      <td>3.633385e+00</td>\n",
       "    </tr>\n",
       "  </tbody>\n",
       "</table>\n",
       "</div>"
      ],
      "text/plain": [
       "           calories       protein           fat        sodium         fiber  \\\n",
       "count  7.700000e+01  7.700000e+01  7.700000e+01  7.700000e+01  7.700000e+01   \n",
       "mean  -1.315686e-16  5.406930e-17  3.027881e-17  1.586033e-17  1.636498e-16   \n",
       "std    1.000000e+00  1.000000e+00  1.000000e+00  1.000000e+00  1.000000e+00   \n",
       "min   -2.919461e+00 -1.411645e+00 -1.006473e+00 -1.904699e+00 -9.029037e-01   \n",
       "25%   -3.532681e-01 -4.982277e-01 -1.006473e+00 -3.539844e-01 -4.833286e-01   \n",
       "50%    1.599704e-01  4.151897e-01 -1.290349e-02  2.424445e-01 -6.375361e-02   \n",
       "75%    1.599704e-01  4.151897e-01  9.806656e-01  6.003018e-01  3.558214e-01   \n",
       "max    2.726163e+00  3.155442e+00  3.961373e+00  1.912445e+00  4.971147e+00   \n",
       "\n",
       "              carbo        sugars        potass      vitamins        weight  \\\n",
       "count  7.700000e+01  7.700000e+01  7.700000e+01  7.700000e+01  7.700000e+01   \n",
       "mean  -9.588290e-17 -7.569702e-17 -8.074349e-17 -2.883696e-17  1.280361e-15   \n",
       "std    1.000000e+00  1.000000e+00  1.000000e+00  1.000000e+00  1.000000e+00   \n",
       "min   -3.645142e+00 -1.782291e+00 -1.361794e+00 -1.264260e+00 -3.519548e+00   \n",
       "25%   -6.070178e-01 -8.823800e-01 -7.866521e-01 -1.453172e-01 -1.967771e-01   \n",
       "50%   -1.396141e-01  1.753073e-02 -8.526012e-02 -1.453172e-01 -1.967771e-01   \n",
       "75%    5.614915e-01  9.174414e-01  3.355751e-01 -1.453172e-01 -1.967771e-01   \n",
       "max    1.963703e+00  1.817352e+00  3.281421e+00  3.211511e+00  3.125994e+00   \n",
       "\n",
       "               cups        rating  \n",
       "count  7.700000e+01  7.700000e+01  \n",
       "mean  -1.304152e-15  2.595327e-17  \n",
       "std    1.000000e+00  1.000000e+00  \n",
       "min   -2.453800e+00 -1.752855e+00  \n",
       "25%   -6.490266e-01 -6.756899e-01  \n",
       "50%   -3.052601e-01 -1.612765e-01  \n",
       "75%    7.690100e-01  5.810863e-01  \n",
       "max    2.917550e+00  3.633385e+00  "
      ]
     },
     "execution_count": 16,
     "metadata": {},
     "output_type": "execute_result"
    }
   ],
   "source": [
    "scaled_df = cereal_df.loc[:, 'calories':'rating'].apply(lambda col: (col - col.mean())/col.std(ddof = 1), axis = 0)\n",
    "scaled_df.describe()"
   ]
  },
  {
   "cell_type": "markdown",
   "metadata": {
    "slideshow": {
     "slide_type": "subslide"
    }
   },
   "source": [
    "This is a very important kind of transformation. We'll see it later in greater detail."
   ]
  },
  {
   "cell_type": "markdown",
   "metadata": {
    "collapsed": true,
    "slideshow": {
     "slide_type": "slide"
    }
   },
   "source": [
    "#### When to use lambda functions\n",
    "\n",
    "- Single line of code\n",
    "- Single use function\n",
    "- Relatively easy to read."
   ]
  },
  {
   "cell_type": "markdown",
   "metadata": {
    "slideshow": {
     "slide_type": "slide"
    }
   },
   "source": [
    "\n",
    "\n",
    "\n",
    "\n",
    "\n",
    "\n",
    "\n",
    "\n",
    "\n",
    "\n",
    "\n",
    "\n",
    "\n",
    "\n",
    "\n",
    "\n",
    "\n",
    "\n",
    "\n",
    "\n",
    "\n",
    "\n",
    "\n",
    "\n",
    "\n",
    "\n",
    "\n",
    "\n",
    "\n",
    "\n",
    "## When not to use lambda functions\n",
    "\n",
    "- Several lines of code in lambda expression.\n",
    "- Multiple conditions, loops, etc in function.\n",
    "- Want to reuse this function often.\n",
    "\n",
    "If it's hard for you to read, it's even harder for anyone else.\n"
   ]
  }
 ],
 "metadata": {
  "celltoolbar": "Slideshow",
  "kernelspec": {
   "display_name": "Python 3 (ipykernel)",
   "language": "python",
   "name": "python3"
  },
  "language_info": {
   "codemirror_mode": {
    "name": "ipython",
    "version": 3
   },
   "file_extension": ".py",
   "mimetype": "text/x-python",
   "name": "python",
   "nbconvert_exporter": "python",
   "pygments_lexer": "ipython3",
   "version": "3.9.7"
  }
 },
 "nbformat": 4,
 "nbformat_minor": 2
}
