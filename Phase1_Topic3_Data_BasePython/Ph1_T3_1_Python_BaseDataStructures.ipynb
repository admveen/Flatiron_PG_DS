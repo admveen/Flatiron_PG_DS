{
 "cells": [
  {
   "cell_type": "markdown",
   "id": "e2e7800a",
   "metadata": {
    "cell_style": "center",
    "slideshow": {
     "slide_type": "slide"
    }
   },
   "source": [
    "<div style=\"color:white;\n",
    "           display:fill;\n",
    "           border-radius:5px;\n",
    "           background-color:#5642C5;\n",
    "           font-size:200%;\n",
    "           font-family:Arial;letter-spacing:0.5px\">\n",
    "\n",
    "<p width = 20%, style=\"padding: 10px;\n",
    "              color:white;\">\n",
    "Base Python: Data Structures\n",
    "              \n",
    "</p>\n",
    "</div>\n",
    "\n",
    "Data Science Cohort Live NYC Feb 2022\n",
    "<p>Phase 1: Topic 3</p>\n",
    "<br>\n",
    "<br>\n",
    "\n",
    "<div align = \"right\">\n",
    "<img src=\"Images/flatiron-school-logo.png\" align = \"right\" width=\"200\"/>\n",
    "</div>\n",
    "    \n",
    "    "
   ]
  },
  {
   "cell_type": "markdown",
   "id": "7f49335b",
   "metadata": {
    "cell_style": "split",
    "slideshow": {
     "slide_type": "slide"
    }
   },
   "source": [
    "As we pull in data from various sources:\n",
    "\n",
    "- Need to represent them in Python"
   ]
  },
  {
   "cell_type": "markdown",
   "id": "d9ef4060",
   "metadata": {
    "cell_style": "split",
    "slideshow": {
     "slide_type": "fragment"
    }
   },
   "source": [
    "Have choice of:\n",
    " - lists/tuples\n",
    " - dicts\n",
    " - combination of the above.\n"
   ]
  },
  {
   "cell_type": "markdown",
   "id": "6685000e",
   "metadata": {
    "slideshow": {
     "slide_type": "slide"
    }
   },
   "source": [
    "#### List representation of data for a sequence:"
   ]
  },
  {
   "cell_type": "code",
   "execution_count": 13,
   "id": "558264f9",
   "metadata": {},
   "outputs": [
    {
     "data": {
      "text/plain": [
       "[3, 2, 4]"
      ]
     },
     "execution_count": 13,
     "metadata": {},
     "output_type": "execute_result"
    }
   ],
   "source": [
    "a_tuple = (3, 8, 2, 5, 4, 2)\n",
    "a_list = [3, 8, 2, 5, 4, 2]\n",
    "\n",
    "a_list[0:len(a_list):2]"
   ]
  },
  {
   "cell_type": "markdown",
   "id": "87a58f3d",
   "metadata": {
    "slideshow": {
     "slide_type": "fragment"
    }
   },
   "source": [
    "**Question**: List vs. tuple difference?"
   ]
  },
  {
   "cell_type": "markdown",
   "id": "af0aae85",
   "metadata": {
    "cell_style": "split",
    "slideshow": {
     "slide_type": "slide"
    }
   },
   "source": [
    "#### List/tuple representation of data:\n",
    "- List of (x,y) pairs. Or list of lists.\n",
    "- This, or simple generalizations this, are very common.\n",
    "- See this when reading text files / csvs."
   ]
  },
  {
   "cell_type": "code",
   "execution_count": 14,
   "id": "16c3e5cf",
   "metadata": {
    "cell_style": "split"
   },
   "outputs": [],
   "source": [
    "xy_list_of_tuples = [(3, 18), (4, 32), \n",
    "                     (5, 50), (6, 72), (7, 128)]"
   ]
  },
  {
   "cell_type": "markdown",
   "id": "6f0d46a2",
   "metadata": {
    "cell_style": "split",
    "slideshow": {
     "slide_type": "fragment"
    }
   },
   "source": [
    "#### Transforming list/tuple representation of data:\n",
    "Nested list of x values and y values."
   ]
  },
  {
   "cell_type": "code",
   "execution_count": 15,
   "id": "2ecc19b4",
   "metadata": {
    "cell_style": "split",
    "slideshow": {
     "slide_type": "fragment"
    }
   },
   "outputs": [],
   "source": [
    "xy_list_reformed = [[3,4,5,6,7],\n",
    "                    [18,32,50,72,128]]"
   ]
  },
  {
   "cell_type": "markdown",
   "id": "bf996997",
   "metadata": {
    "slideshow": {
     "slide_type": "slide"
    }
   },
   "source": [
    "**Question**: Can anyone help me transform the nested list to a list of xy tuple pairs? I'm at a loss..."
   ]
  },
  {
   "cell_type": "code",
   "execution_count": 16,
   "id": "7a9ab96f",
   "metadata": {
    "slideshow": {
     "slide_type": "fragment"
    }
   },
   "outputs": [
    {
     "name": "stdout",
     "output_type": "stream",
     "text": [
      "[(3, 18), (4, 32), (5, 50), (6, 72), (7, 128)]\n",
      "[[3, 4, 5, 6, 7], [18, 32, 50, 72, 128]]\n"
     ]
    }
   ],
   "source": [
    "print(xy_list_of_tuples)\n",
    "print(xy_list_reformed)"
   ]
  },
  {
   "cell_type": "code",
   "execution_count": 35,
   "id": "ce6ed1f9",
   "metadata": {
    "slideshow": {
     "slide_type": "-"
    }
   },
   "outputs": [
    {
     "data": {
      "text/plain": [
       "[(3, 4, 5, 6, 7), (18, 32, 50, 72, 128)]"
      ]
     },
     "execution_count": 35,
     "metadata": {},
     "output_type": "execute_result"
    }
   ],
   "source": [
    "# help your clueless instructor out\n",
    "\n",
    "list(zip(*xy_list_of_tuples))"
   ]
  },
  {
   "cell_type": "markdown",
   "id": "2e6ee1ce",
   "metadata": {
    "slideshow": {
     "slide_type": "slide"
    }
   },
   "source": [
    "**Question**: Can anyone help me transform the list of xy tuple pairs to a nested list? I'm at a loss..."
   ]
  },
  {
   "cell_type": "code",
   "execution_count": null,
   "id": "d294b0e0",
   "metadata": {},
   "outputs": [],
   "source": [
    "# Someone come up and flex those muscles for me\n"
   ]
  },
  {
   "cell_type": "markdown",
   "id": "b1e2bad8",
   "metadata": {
    "slideshow": {
     "slide_type": "slide"
    }
   },
   "source": [
    "Maybe we have  column names associated with x and y.\n",
    "- Column names are first tuple/list in nested list."
   ]
  },
  {
   "cell_type": "code",
   "execution_count": 43,
   "id": "63479434",
   "metadata": {},
   "outputs": [],
   "source": [
    "namedxy_list_of_tuples = [('x', 'y'), (3, 18), (4, 32), (5, 50), (6, 72), (8, 128)]"
   ]
  },
  {
   "cell_type": "markdown",
   "id": "77c6458c",
   "metadata": {
    "slideshow": {
     "slide_type": "slide"
    }
   },
   "source": [
    "#### List of dictionaries representation of data:"
   ]
  },
  {
   "cell_type": "code",
   "execution_count": 39,
   "id": "c3d51f54",
   "metadata": {},
   "outputs": [],
   "source": [
    "xy_dict_list = [ {'x': 3, 'y': 18}, {'x': 4, 'y': 32}, {'x': 5, 'y': 50}, {'x': 6, 'y': 72}, {'x': 8, 'y': 128} ]"
   ]
  },
  {
   "cell_type": "code",
   "execution_count": 40,
   "id": "37d96994",
   "metadata": {},
   "outputs": [
    {
     "data": {
      "text/plain": [
       "18"
      ]
     },
     "execution_count": 40,
     "metadata": {},
     "output_type": "execute_result"
    }
   ],
   "source": [
    "xy_dict_list[0]['y']"
   ]
  },
  {
   "cell_type": "code",
   "execution_count": 42,
   "id": "3abc33a8",
   "metadata": {
    "slideshow": {
     "slide_type": "fragment"
    }
   },
   "outputs": [
    {
     "data": {
      "text/plain": [
       "50"
      ]
     },
     "execution_count": 42,
     "metadata": {},
     "output_type": "execute_result"
    }
   ],
   "source": [
    "# Get me the y-value of the third entry\n",
    "xy_dict_list[2]['y']"
   ]
  },
  {
   "cell_type": "code",
   "execution_count": 47,
   "id": "6d8df727",
   "metadata": {
    "slideshow": {
     "slide_type": "fragment"
    }
   },
   "outputs": [
    {
     "data": {
      "text/plain": [
       "[('x', 5), ('y', 50)]"
      ]
     },
     "execution_count": 47,
     "metadata": {},
     "output_type": "execute_result"
    }
   ],
   "source": [
    "# get me the key value pairs of the third entry as a list of tuples\n",
    "list(xy_dict_list[2].items())"
   ]
  },
  {
   "cell_type": "code",
   "execution_count": 49,
   "id": "bcd325c2",
   "metadata": {
    "slideshow": {
     "slide_type": "subslide"
    }
   },
   "outputs": [
    {
     "name": "stdout",
     "output_type": "stream",
     "text": [
      "[{'x': 3, 'y': 18}, {'x': 4, 'y': 32}, {'x': 5, 'y': 50}, {'x': 6, 'y': 72}, {'x': 8, 'y': 128}]\n"
     ]
    },
    {
     "data": {
      "text/plain": [
       "[3, 4, 5, 6, 8]"
      ]
     },
     "execution_count": 49,
     "metadata": {},
     "output_type": "execute_result"
    }
   ],
   "source": [
    "# get me a list of all x values. use a list comprehension\n",
    "print(xy_dict_list )\n",
    "\n",
    "[diction['x'] for diction in xy_dict_list]"
   ]
  },
  {
   "cell_type": "code",
   "execution_count": 50,
   "id": "bd55f945",
   "metadata": {
    "slideshow": {
     "slide_type": "fragment"
    }
   },
   "outputs": [
    {
     "data": {
      "text/plain": [
       "[3, 4, 5]"
      ]
     },
     "execution_count": 50,
     "metadata": {},
     "output_type": "execute_result"
    }
   ],
   "source": [
    "# get me a list of all x values with y < = 50. use a list comprehension.\n",
    "[diction['x'] for diction in xy_dict_list if diction['y'] <= 50]"
   ]
  },
  {
   "cell_type": "code",
   "execution_count": 51,
   "id": "7ee64233",
   "metadata": {
    "slideshow": {
     "slide_type": "slide"
    }
   },
   "outputs": [
    {
     "name": "stdout",
     "output_type": "stream",
     "text": [
      "[{'x': 3, 'y': 18}, {'x': 4, 'y': 32}, {'x': 5, 'y': 50}, {'x': 6, 'y': 72}, {'x': 8, 'y': 128}]\n"
     ]
    },
    {
     "data": {
      "text/plain": [
       "[[3, 4, 5, 6, 8], [18, 32, 50, 72, 128]]"
      ]
     },
     "execution_count": 51,
     "metadata": {},
     "output_type": "execute_result"
    }
   ],
   "source": [
    "# get a nested list of the value lists corresponding to the x,y keys\n",
    "print(xy_dict_list)\n",
    "nested_list = []\n",
    "\n",
    "for keys in xy_dict_list[0]:\n",
    "    nested_list.append([item[keys] for item in xy_dict_list])\n",
    "    \n",
    "nested_list\n",
    "\n"
   ]
  },
  {
   "cell_type": "markdown",
   "id": "185d8c88",
   "metadata": {
    "slideshow": {
     "slide_type": "fragment"
    }
   },
   "source": [
    "Will see this kind of stuff a bit when using the csv library and manipulating data from csvs."
   ]
  },
  {
   "cell_type": "markdown",
   "id": "f17742cd",
   "metadata": {
    "slideshow": {
     "slide_type": "slide"
    }
   },
   "source": [
    "#### Dictionary of lists representation:"
   ]
  },
  {
   "cell_type": "code",
   "execution_count": 53,
   "id": "3f572c3b",
   "metadata": {
    "slideshow": {
     "slide_type": "-"
    }
   },
   "outputs": [],
   "source": [
    "xy_list_dict = {'x': [3,4,5,6,7], 'y': [18,32,50,72,128] }"
   ]
  },
  {
   "cell_type": "markdown",
   "id": "862ae2a2",
   "metadata": {
    "slideshow": {
     "slide_type": "fragment"
    }
   },
   "source": [
    "Convert dictionary of lists to list of dictionaries:"
   ]
  },
  {
   "cell_type": "code",
   "execution_count": 54,
   "id": "4f3ff666",
   "metadata": {
    "slideshow": {
     "slide_type": "subslide"
    }
   },
   "outputs": [
    {
     "name": "stdout",
     "output_type": "stream",
     "text": [
      "[{'x': 3, 'y': 18}, {'x': 4, 'y': 32}, {'x': 5, 'y': 50}, {'x': 6, 'y': 72}, {'x': 8, 'y': 128}]\n",
      "{'x': [3, 4, 5, 6, 7], 'y': [18, 32, 50, 72, 128]}\n"
     ]
    }
   ],
   "source": [
    "print(xy_dict_list)\n",
    "print(xy_list_dict)"
   ]
  },
  {
   "cell_type": "markdown",
   "id": "67cbb803",
   "metadata": {
    "slideshow": {
     "slide_type": "slide"
    }
   },
   "source": [
    "We have found that nested_list is:"
   ]
  },
  {
   "cell_type": "code",
   "execution_count": 55,
   "id": "36bde98b",
   "metadata": {
    "slideshow": {
     "slide_type": "fragment"
    }
   },
   "outputs": [
    {
     "data": {
      "text/plain": [
       "[[3, 4, 5, 6, 8], [18, 32, 50, 72, 128]]"
      ]
     },
     "execution_count": 55,
     "metadata": {},
     "output_type": "execute_result"
    }
   ],
   "source": [
    "# get a nested list of the value lists corresponding to the x,y keys\n",
    "\n",
    "nested_list = []\n",
    "\n",
    "for keys in xy_dict_list[0]:\n",
    "    nested_list.append([item[keys] for item in xy_dict_list])\n",
    "    \n",
    "nested_list\n",
    "    "
   ]
  },
  {
   "cell_type": "markdown",
   "id": "20dae956",
   "metadata": {
    "slideshow": {
     "slide_type": "subslide"
    }
   },
   "source": [
    "and"
   ]
  },
  {
   "cell_type": "code",
   "execution_count": 56,
   "id": "aec2c91c",
   "metadata": {
    "cell_style": "split",
    "slideshow": {
     "slide_type": "fragment"
    }
   },
   "outputs": [
    {
     "data": {
      "text/plain": [
       "['x', 'y']"
      ]
     },
     "execution_count": 56,
     "metadata": {},
     "output_type": "execute_result"
    }
   ],
   "source": [
    "xy_keys = list(xy_dict_list[0].keys())\n",
    "xy_keys"
   ]
  },
  {
   "cell_type": "code",
   "execution_count": 58,
   "id": "70035454",
   "metadata": {
    "cell_style": "center",
    "slideshow": {
     "slide_type": "fragment"
    }
   },
   "outputs": [
    {
     "data": {
      "text/plain": [
       "{'x': [3, 4, 5, 6, 8], 'y': [18, 32, 50, 72, 128]}"
      ]
     },
     "execution_count": 58,
     "metadata": {},
     "output_type": "execute_result"
    }
   ],
   "source": [
    "final_result = {}\n",
    "nested_list\n",
    "# use update, enumerate and empty dictionary\n",
    "# to get final resulted of dict of list\n",
    "dict(zip(xy_keys, nested_list))"
   ]
  },
  {
   "cell_type": "markdown",
   "id": "2816adac",
   "metadata": {
    "slideshow": {
     "slide_type": "slide"
    }
   },
   "source": [
    "A fancier way using nested comprehensions. "
   ]
  },
  {
   "cell_type": "code",
   "execution_count": 132,
   "id": "72d3ed42",
   "metadata": {
    "slideshow": {
     "slide_type": "fragment"
    }
   },
   "outputs": [
    {
     "data": {
      "text/plain": [
       "{'x': [3, 4, 5, 6, 8], 'y': [18, 32, 50, 72, 128]}"
      ]
     },
     "execution_count": 132,
     "metadata": {},
     "output_type": "execute_result"
    }
   ],
   "source": [
    "\n",
    "# inner list comprehension iterates over every element \n",
    "# in list of dictionaries and creates list of values for a given key\n",
    "\n",
    "# outer is a dict comprehension that returns {given key: list of values for that key}\n",
    "\n",
    "new_dict = {key: [elem[key] for elem in xy_dict_list] for key in xy_keys}\n",
    "new_dict"
   ]
  },
  {
   "cell_type": "markdown",
   "id": "e18ef335",
   "metadata": {
    "slideshow": {
     "slide_type": "subslide"
    }
   },
   "source": [
    "One takeaway is making such a simple data transformation is a major pain in the ass in base Python. But sometimes no choice."
   ]
  },
  {
   "cell_type": "markdown",
   "id": "38ec371f",
   "metadata": {
    "slideshow": {
     "slide_type": "slide"
    }
   },
   "source": [
    "#### Nested Dict/List structures:\n",
    "- Many formats are hierarchical/nested named structures.\n",
    "- JSON (a format you'll see soon) often gets translated to this in Python.\n",
    "\n",
    "An example:"
   ]
  },
  {
   "cell_type": "code",
   "execution_count": 60,
   "id": "da8bd0e2",
   "metadata": {
    "slideshow": {
     "slide_type": "fragment"
    }
   },
   "outputs": [],
   "source": [
    "nested_dict = {'metadata': {'timestamp': '12-1-2020 08:25:03',\n",
    "                            'enter_by_user': 'Oscar the Grouch', 'entry_dbase': 'NORAD3' },\n",
    "              'data': {'missile_type': \"Taepodong 2\", \"hit_target\": False, 'land_location': [34, 129]} }"
   ]
  },
  {
   "cell_type": "code",
   "execution_count": 61,
   "id": "6632fb98",
   "metadata": {
    "slideshow": {
     "slide_type": "subslide"
    }
   },
   "outputs": [
    {
     "data": {
      "text/plain": [
       "'Taepodong 2'"
      ]
     },
     "execution_count": 61,
     "metadata": {},
     "output_type": "execute_result"
    }
   ],
   "source": [
    "nested_dict['data']['missile_type']"
   ]
  },
  {
   "cell_type": "markdown",
   "id": "73a1b740",
   "metadata": {
    "slideshow": {
     "slide_type": "fragment"
    }
   },
   "source": [
    "\n",
    "<div align = \"center\">\n",
    "<center><img src=\"Images/taepodong.png\" align = \"center\" width=\"400\"/></center>\n",
    "</div>\n"
   ]
  },
  {
   "cell_type": "markdown",
   "id": "21610c1d",
   "metadata": {
    "slideshow": {
     "slide_type": "slide"
    }
   },
   "source": [
    "#### Next up\n",
    "\n",
    "- We'll start opening files.\n",
    "- The data forms and structures from this lecture will pop up a lot.\n",
    "- Transforming between various forms will be your bread and butter."
   ]
  }
 ],
 "metadata": {
  "celltoolbar": "Slideshow",
  "kernelspec": {
   "display_name": "Python 3 (ipykernel)",
   "language": "python",
   "name": "python3"
  },
  "language_info": {
   "codemirror_mode": {
    "name": "ipython",
    "version": 3
   },
   "file_extension": ".py",
   "mimetype": "text/x-python",
   "name": "python",
   "nbconvert_exporter": "python",
   "pygments_lexer": "ipython3",
   "version": "3.9.7"
  }
 },
 "nbformat": 4,
 "nbformat_minor": 5
}
