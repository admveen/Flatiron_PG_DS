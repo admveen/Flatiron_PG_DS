{
 "cells": [
  {
   "cell_type": "markdown",
   "id": "4e28a83d",
   "metadata": {
    "slideshow": {
     "slide_type": "slide"
    }
   },
   "source": [
    "<div style=\"color:white;\n",
    "           display:fill;\n",
    "           border-radius:5px;\n",
    "           background-color:#5642C5;\n",
    "           font-size:200%;\n",
    "           font-family:Arial;letter-spacing:0.5px\">\n",
    "\n",
    "<p width = 20%, style=\"padding: 10px;\n",
    "              color:white;\">\n",
    "Time Series: Data Manipulation\n",
    "              \n",
    "</p>\n",
    "</div>\n",
    "\n",
    "Data Science Cohort Live NYC Feb 2022\n",
    "<p>Phase 4: Topic 40</p>\n",
    "<br>\n",
    "<br>\n",
    "\n",
    "<div align = \"right\">\n",
    "<img src=\"Images/flatiron-school-logo.png\" align = \"right\" width=\"200\"/>\n",
    "</div>\n",
    "    \n",
    "    "
   ]
  },
  {
   "cell_type": "code",
   "execution_count": 2,
   "id": "98501a11",
   "metadata": {
    "cell_style": "center",
    "slideshow": {
     "slide_type": "slide"
    }
   },
   "outputs": [],
   "source": [
    "import pandas as pd\n",
    "import numpy as np\n",
    "import matplotlib.pyplot as plt\n",
    "energy_data = pd.read_csv('data/energydata_complete.csv', parse_dates = True, index_col = 'date')"
   ]
  },
  {
   "cell_type": "markdown",
   "id": "6e0c1aca",
   "metadata": {
    "cell_style": "center",
    "slideshow": {
     "slide_type": "slide"
    }
   },
   "source": [
    "Time series:\n",
    "\n",
    "- set of data as a function of / indexed by time"
   ]
  },
  {
   "cell_type": "markdown",
   "id": "9add861c",
   "metadata": {
    "cell_style": "split",
    "slideshow": {
     "slide_type": "subslide"
    }
   },
   "source": [
    "Energy expenditure and sensor monitoring for a household:\n",
    "\n",
    "<img src = \"Images/householdenergy.jpg\">"
   ]
  },
  {
   "cell_type": "code",
   "execution_count": 3,
   "id": "98bba121",
   "metadata": {
    "cell_style": "split",
    "slideshow": {
     "slide_type": "fragment"
    }
   },
   "outputs": [
    {
     "data": {
      "image/png": "[encoded data removed]",
      "text/plain": [
       "<Figure size 432x288 with 1 Axes>"
      ]
     },
     "metadata": {
      "needs_background": "light"
     },
     "output_type": "display_data"
    }
   ],
   "source": [
    "fig, ax = plt.subplots()\n",
    "energy_data.plot(y = 'Appliances', ax = ax, label = 'House1')\n",
    "ax.set_ylabel('Total Appliance Usage (Watt-hours)')\n",
    "plt.show()"
   ]
  },
  {
   "cell_type": "markdown",
   "id": "eb68b8bf",
   "metadata": {
    "cell_style": "split",
    "slideshow": {
     "slide_type": "fragment"
    }
   },
   "source": [
    "**Time series forecasting** \n",
    "\n",
    "Energy usage forecasting in aggregate and across sets of devices:\n",
    "\n",
    "*Projected energy usage for next month?*"
   ]
  },
  {
   "cell_type": "markdown",
   "id": "ea4d20ad",
   "metadata": {
    "cell_style": "split",
    "slideshow": {
     "slide_type": "fragment"
    }
   },
   "source": [
    "- consumer end: smart house optimization\n",
    "- business end: how many power plants should be open / capacity?"
   ]
  },
  {
   "cell_type": "markdown",
   "id": "bc91b548",
   "metadata": {
    "cell_style": "center",
    "slideshow": {
     "slide_type": "slide"
    }
   },
   "source": [
    "**Time series classification**\n",
    "\n",
    "- Based on EEG voltage data: seizure or eye-lid opening?\n",
    "- Use temporal features and past-future dependencies for trace class recognition"
   ]
  },
  {
   "cell_type": "markdown",
   "id": "f92ff8e3",
   "metadata": {
    "slideshow": {
     "slide_type": "-"
    }
   },
   "source": [
    "<img src = \"images/x4.png\" >"
   ]
  },
  {
   "cell_type": "markdown",
   "id": "b1493ea4",
   "metadata": {
    "slideshow": {
     "slide_type": "slide"
    }
   },
   "source": [
    "We'll be focusing in next series of lectures on univariate time series forecasting:\n",
    "- given a time series of a single quantity\n",
    "- predict future values of quantity as function of time"
   ]
  },
  {
   "cell_type": "markdown",
   "id": "6e3c9050",
   "metadata": {
    "slideshow": {
     "slide_type": "fragment"
    }
   },
   "source": [
    "But there are many, many other types of tasks involving time-series data:\n",
    "\n",
    "- real-time state prediction\n",
    "- machine signal encoding-decoding\n",
    "- etc."
   ]
  },
  {
   "cell_type": "markdown",
   "id": "9f22d2c0",
   "metadata": {
    "slideshow": {
     "slide_type": "slide"
    }
   },
   "source": [
    "Before any modeling:\n",
    "- need to understand how to manipulate Python datastructures involving time series\n",
    "- common and important time series data manipulation operations"
   ]
  },
  {
   "cell_type": "markdown",
   "id": "569c57f8",
   "metadata": {
    "cell_style": "split",
    "slideshow": {
     "slide_type": "subslide"
    }
   },
   "source": [
    "Time series have a notion of ordering:\n",
    "- past comes before future\n",
    "- indexing reflects this temporal ordering"
   ]
  },
  {
   "cell_type": "markdown",
   "id": "71dc52a1",
   "metadata": {
    "cell_style": "split",
    "slideshow": {
     "slide_type": "fragment"
    }
   },
   "source": [
    "Need special kind of indexing and data type to deal with this:\n",
    "\n",
    "- datetime objects\n",
    "- pandas DateTimeIndex\n",
    "\n",
    "Special methods associated with these."
   ]
  },
  {
   "cell_type": "markdown",
   "id": "9b8366ab",
   "metadata": {
    "cell_style": "center",
    "slideshow": {
     "slide_type": "slide"
    }
   },
   "source": [
    "Let's have a closer look at the house energy usage dataset:"
   ]
  },
  {
   "cell_type": "code",
   "execution_count": 4,
   "id": "724f7412",
   "metadata": {
    "cell_style": "center",
    "slideshow": {
     "slide_type": "-"
    }
   },
   "outputs": [],
   "source": [
    "energy_data_df = pd.read_csv('data/energy_expenditure.csv', index_col=[0])"
   ]
  },
  {
   "cell_type": "code",
   "execution_count": 5,
   "id": "700283eb",
   "metadata": {
    "cell_style": "split",
    "slideshow": {
     "slide_type": "subslide"
    }
   },
   "outputs": [
    {
     "name": "stdout",
     "output_type": "stream",
     "text": [
      "<class 'pandas.core.frame.DataFrame'>\n",
      "Int64Index: 19735 entries, 0 to 19734\n",
      "Data columns (total 3 columns):\n",
      " #   Column      Non-Null Count  Dtype \n",
      "---  ------      --------------  ----- \n",
      " 0   date        19735 non-null  object\n",
      " 1   Appliances  19735 non-null  int64 \n",
      " 2   lights      19735 non-null  int64 \n",
      "dtypes: int64(2), object(1)\n",
      "memory usage: 616.7+ KB\n"
     ]
    }
   ],
   "source": [
    "energy_data_df.info()"
   ]
  },
  {
   "cell_type": "markdown",
   "id": "c8d3def4",
   "metadata": {
    "cell_style": "split",
    "slideshow": {
     "slide_type": "fragment"
    }
   },
   "source": [
    "Time series data:\n",
    "- appliance energy usage\n",
    "- light energy usage"
   ]
  },
  {
   "cell_type": "markdown",
   "id": "240b8434",
   "metadata": {
    "cell_style": "center",
    "slideshow": {
     "slide_type": "subslide"
    }
   },
   "source": [
    "A look at the dataframe:"
   ]
  },
  {
   "cell_type": "code",
   "execution_count": 6,
   "id": "a846f021",
   "metadata": {
    "cell_style": "split",
    "slideshow": {
     "slide_type": "fragment"
    }
   },
   "outputs": [
    {
     "data": {
      "text/html": [
       "<div>\n",
       "<style scoped>\n",
       "    .dataframe tbody tr th:only-of-type {\n",
       "        vertical-align: middle;\n",
       "    }\n",
       "\n",
       "    .dataframe tbody tr th {\n",
       "        vertical-align: top;\n",
       "    }\n",
       "\n",
       "    .dataframe thead th {\n",
       "        text-align: right;\n",
       "    }\n",
       "</style>\n",
       "<table border=\"1\" class=\"dataframe\">\n",
       "  <thead>\n",
       "    <tr style=\"text-align: right;\">\n",
       "      <th></th>\n",
       "      <th>date</th>\n",
       "      <th>Appliances</th>\n",
       "      <th>lights</th>\n",
       "    </tr>\n",
       "  </thead>\n",
       "  <tbody>\n",
       "    <tr>\n",
       "      <th>0</th>\n",
       "      <td>2016-01-11 17:00:00</td>\n",
       "      <td>60</td>\n",
       "      <td>30</td>\n",
       "    </tr>\n",
       "    <tr>\n",
       "      <th>1</th>\n",
       "      <td>2016-01-11 17:10:00</td>\n",
       "      <td>60</td>\n",
       "      <td>30</td>\n",
       "    </tr>\n",
       "    <tr>\n",
       "      <th>2</th>\n",
       "      <td>2016-01-11 17:20:00</td>\n",
       "      <td>50</td>\n",
       "      <td>30</td>\n",
       "    </tr>\n",
       "    <tr>\n",
       "      <th>3</th>\n",
       "      <td>2016-01-11 17:30:00</td>\n",
       "      <td>50</td>\n",
       "      <td>40</td>\n",
       "    </tr>\n",
       "    <tr>\n",
       "      <th>4</th>\n",
       "      <td>2016-01-11 17:40:00</td>\n",
       "      <td>60</td>\n",
       "      <td>40</td>\n",
       "    </tr>\n",
       "  </tbody>\n",
       "</table>\n",
       "</div>"
      ],
      "text/plain": [
       "                  date  Appliances  lights\n",
       "0  2016-01-11 17:00:00          60      30\n",
       "1  2016-01-11 17:10:00          60      30\n",
       "2  2016-01-11 17:20:00          50      30\n",
       "3  2016-01-11 17:30:00          50      40\n",
       "4  2016-01-11 17:40:00          60      40"
      ]
     },
     "execution_count": 6,
     "metadata": {},
     "output_type": "execute_result"
    }
   ],
   "source": [
    "energy_data_df.head()"
   ]
  },
  {
   "cell_type": "markdown",
   "id": "5fcbd0a1",
   "metadata": {
    "cell_style": "split",
    "slideshow": {
     "slide_type": "fragment"
    }
   },
   "source": [
    "The date column is a string"
   ]
  },
  {
   "cell_type": "code",
   "execution_count": 7,
   "id": "998137bf",
   "metadata": {
    "cell_style": "split",
    "slideshow": {
     "slide_type": "-"
    }
   },
   "outputs": [
    {
     "name": "stdout",
     "output_type": "stream",
     "text": [
      "<class 'str'>\n"
     ]
    },
    {
     "data": {
      "text/plain": [
       "'2016-01-11 17:00:00'"
      ]
     },
     "execution_count": 7,
     "metadata": {},
     "output_type": "execute_result"
    }
   ],
   "source": [
    "print(type(energy_data_df.loc[0, 'date']))\n",
    "energy_data_df.loc[0, 'date']"
   ]
  },
  {
   "cell_type": "markdown",
   "id": "9f31240b",
   "metadata": {
    "slideshow": {
     "slide_type": "slide"
    }
   },
   "source": [
    "Incovenient for many reasons:\n",
    "- No implicit understanding of the different components of string \n",
    "- No notion of date/time ordering understood between the strings\n",
    "\n",
    "**Want to convert column to column of datetime objects**"
   ]
  },
  {
   "cell_type": "markdown",
   "id": "3d139bea",
   "metadata": {
    "slideshow": {
     "slide_type": "subslide"
    }
   },
   "source": [
    "#### Converting column to datetime:\n",
    "- pd.to_datetime()"
   ]
  },
  {
   "cell_type": "code",
   "execution_count": 8,
   "id": "cc674782",
   "metadata": {
    "cell_style": "split",
    "slideshow": {
     "slide_type": "-"
    }
   },
   "outputs": [
    {
     "data": {
      "text/plain": [
       "0        2016-01-11 17:00:00\n",
       "1        2016-01-11 17:10:00\n",
       "2        2016-01-11 17:20:00\n",
       "3        2016-01-11 17:30:00\n",
       "4        2016-01-11 17:40:00\n",
       "                ...         \n",
       "19730    2016-05-27 17:20:00\n",
       "19731    2016-05-27 17:30:00\n",
       "19732    2016-05-27 17:40:00\n",
       "19733    2016-05-27 17:50:00\n",
       "19734    2016-05-27 18:00:00\n",
       "Name: date, Length: 19735, dtype: object"
      ]
     },
     "execution_count": 8,
     "metadata": {},
     "output_type": "execute_result"
    }
   ],
   "source": [
    "energy_data_df['date']"
   ]
  },
  {
   "cell_type": "code",
   "execution_count": 9,
   "id": "8a2a2efc",
   "metadata": {
    "cell_style": "split",
    "slideshow": {
     "slide_type": "fragment"
    }
   },
   "outputs": [
    {
     "data": {
      "text/plain": [
       "0       2016-01-11 17:00:00\n",
       "1       2016-01-11 17:10:00\n",
       "2       2016-01-11 17:20:00\n",
       "3       2016-01-11 17:30:00\n",
       "4       2016-01-11 17:40:00\n",
       "                ...        \n",
       "19730   2016-05-27 17:20:00\n",
       "19731   2016-05-27 17:30:00\n",
       "19732   2016-05-27 17:40:00\n",
       "19733   2016-05-27 17:50:00\n",
       "19734   2016-05-27 18:00:00\n",
       "Name: date, Length: 19735, dtype: datetime64[ns]"
      ]
     },
     "execution_count": 9,
     "metadata": {},
     "output_type": "execute_result"
    }
   ],
   "source": [
    "date_asdt = pd.to_datetime(energy_data_df['date'])\n",
    "date_asdt"
   ]
  },
  {
   "cell_type": "markdown",
   "id": "d75e681c",
   "metadata": {
    "slideshow": {
     "slide_type": "fragment"
    }
   },
   "source": [
    "Intelligently parses string and returns a pandas datetime column\n",
    "- works for many common string representations of date times"
   ]
  },
  {
   "cell_type": "markdown",
   "id": "3ade440d",
   "metadata": {
    "slideshow": {
     "slide_type": "slide"
    }
   },
   "source": [
    "Looking at a single element:"
   ]
  },
  {
   "cell_type": "code",
   "execution_count": 10,
   "id": "7127d7a5",
   "metadata": {
    "cell_style": "split",
    "slideshow": {
     "slide_type": "fragment"
    }
   },
   "outputs": [
    {
     "data": {
      "text/plain": [
       "Timestamp('2016-01-11 17:00:00')"
      ]
     },
     "execution_count": 10,
     "metadata": {},
     "output_type": "execute_result"
    }
   ],
   "source": [
    "datetime0 = date_asdt[0]\n",
    "datetime0"
   ]
  },
  {
   "cell_type": "markdown",
   "id": "4fe58d98",
   "metadata": {
    "cell_style": "split",
    "slideshow": {
     "slide_type": "-"
    }
   },
   "source": [
    "Timestamp object attributes for extracting parts of datetime:"
   ]
  },
  {
   "cell_type": "code",
   "execution_count": 11,
   "id": "49feed5a",
   "metadata": {
    "cell_style": "split",
    "slideshow": {
     "slide_type": "-"
    }
   },
   "outputs": [
    {
     "name": "stdout",
     "output_type": "stream",
     "text": [
      "2016\n",
      "1\n",
      "11\n"
     ]
    }
   ],
   "source": [
    "print(datetime0.year)\n",
    "print(datetime0.month)\n",
    "print(datetime0.day)"
   ]
  },
  {
   "cell_type": "markdown",
   "id": "a0024444",
   "metadata": {
    "cell_style": "center",
    "slideshow": {
     "slide_type": "fragment"
    }
   },
   "source": [
    "Extracting other components:\n",
    "- .hour\n",
    "- .minute\n",
    "- .second\n",
    "\n",
    "Can go all the way to nanoseconds if you like"
   ]
  },
  {
   "cell_type": "markdown",
   "id": "2f4d9591",
   "metadata": {
    "slideshow": {
     "slide_type": "slide"
    }
   },
   "source": [
    "Some nifty methods:"
   ]
  },
  {
   "cell_type": "code",
   "execution_count": 12,
   "id": "f1aab355",
   "metadata": {
    "slideshow": {
     "slide_type": "fragment"
    }
   },
   "outputs": [
    {
     "data": {
      "text/plain": [
       "'Monday'"
      ]
     },
     "execution_count": 12,
     "metadata": {},
     "output_type": "execute_result"
    }
   ],
   "source": [
    "datetime0.day_name() # get the name of the day of the week"
   ]
  },
  {
   "cell_type": "code",
   "execution_count": 13,
   "id": "a22286e7",
   "metadata": {
    "slideshow": {
     "slide_type": "fragment"
    }
   },
   "outputs": [
    {
     "data": {
      "text/plain": [
       "'January'"
      ]
     },
     "execution_count": 13,
     "metadata": {},
     "output_type": "execute_result"
    }
   ],
   "source": [
    "datetime0.month_name() # get the name of the day of the week"
   ]
  },
  {
   "cell_type": "markdown",
   "id": "0b4dd8a9",
   "metadata": {
    "slideshow": {
     "slide_type": "slide"
    }
   },
   "source": [
    "#### Time-zone awareness\n",
    "- .tz attribute\n",
    "- .tz_localize"
   ]
  },
  {
   "cell_type": "markdown",
   "id": "35787b38",
   "metadata": {
    "cell_style": "center",
    "slideshow": {
     "slide_type": "fragment"
    }
   },
   "source": [
    "- pandas TimeStamp() objects can be made timezone aware\n",
    "- this functionality useful when comparing time series data:\n",
    "    - taken contemporaneously across different locations"
   ]
  },
  {
   "cell_type": "markdown",
   "id": "02dd0bdf",
   "metadata": {
    "slideshow": {
     "slide_type": "slide"
    }
   },
   "source": [
    "Right now, not time-zone aware:\n",
    "- House is in Belgium"
   ]
  },
  {
   "cell_type": "code",
   "execution_count": 14,
   "id": "49c92cad",
   "metadata": {
    "cell_style": "split",
    "slideshow": {
     "slide_type": "fragment"
    }
   },
   "outputs": [
    {
     "data": {
      "text/plain": [
       "Timestamp('2016-01-11 17:00:00+0100', tz='Europe/Brussels')"
      ]
     },
     "execution_count": 14,
     "metadata": {},
     "output_type": "execute_result"
    }
   ],
   "source": [
    "dt0_timeaware = datetime0.tz_localize('Europe/Brussels')\n",
    "dt0_timeaware"
   ]
  },
  {
   "cell_type": "markdown",
   "id": "f41e601e",
   "metadata": {
    "cell_style": "split",
    "slideshow": {
     "slide_type": "fragment"
    }
   },
   "source": [
    "Getting a list of useful timezone strings:"
   ]
  },
  {
   "cell_type": "code",
   "execution_count": 15,
   "id": "e6ea2843",
   "metadata": {
    "cell_style": "split",
    "scrolled": true,
    "slideshow": {
     "slide_type": "-"
    }
   },
   "outputs": [
    {
     "data": {
      "text/plain": [
       "['Africa/Abidjan', 'Africa/Accra', 'Africa/Addis_Ababa', 'Africa/Algiers', 'Africa/Asmara', 'Africa/Bamako', 'Africa/Bangui', 'Africa/Banjul', 'Africa/Bissau', 'Africa/Blantyre', 'Africa/Brazzaville', 'Africa/Bujumbura', 'Africa/Cairo', 'Africa/Casablanca', 'Africa/Ceuta', 'Africa/Conakry', 'Africa/Dakar', 'Africa/Dar_es_Salaam', 'Africa/Djibouti', 'Africa/Douala', 'Africa/El_Aaiun', 'Africa/Freetown', 'Africa/Gaborone', 'Africa/Harare', 'Africa/Johannesburg', 'Africa/Juba', 'Africa/Kampala', 'Africa/Khartoum', 'Africa/Kigali', 'Africa/Kinshasa', 'Africa/Lagos', 'Africa/Libreville', 'Africa/Lome', 'Africa/Luanda', 'Africa/Lubumbashi', 'Africa/Lusaka', 'Africa/Malabo', 'Africa/Maputo', 'Africa/Maseru', 'Africa/Mbabane', 'Africa/Mogadishu', 'Africa/Monrovia', 'Africa/Nairobi', 'Africa/Ndjamena', 'Africa/Niamey', 'Africa/Nouakchott', 'Africa/Ouagadougou', 'Africa/Porto-Novo', 'Africa/Sao_Tome', 'Africa/Tripoli', 'Africa/Tunis', 'Africa/Windhoek', 'America/Adak', 'America/Anchorage', 'America/Anguilla', 'America/Antigua', 'America/Araguaina', 'America/Argentina/Buenos_Aires', 'America/Argentina/Catamarca', 'America/Argentina/Cordoba', 'America/Argentina/Jujuy', 'America/Argentina/La_Rioja', 'America/Argentina/Mendoza', 'America/Argentina/Rio_Gallegos', 'America/Argentina/Salta', 'America/Argentina/San_Juan', 'America/Argentina/San_Luis', 'America/Argentina/Tucuman', 'America/Argentina/Ushuaia', 'America/Aruba', 'America/Asuncion', 'America/Atikokan', 'America/Bahia', 'America/Bahia_Banderas', 'America/Barbados', 'America/Belem', 'America/Belize', 'America/Blanc-Sablon', 'America/Boa_Vista', 'America/Bogota', 'America/Boise', 'America/Cambridge_Bay', 'America/Campo_Grande', 'America/Cancun', 'America/Caracas', 'America/Cayenne', 'America/Cayman', 'America/Chicago', 'America/Chihuahua', 'America/Costa_Rica', 'America/Creston', 'America/Cuiaba', 'America/Curacao', 'America/Danmarkshavn', 'America/Dawson', 'America/Dawson_Creek', 'America/Denver', 'America/Detroit', 'America/Dominica', 'America/Edmonton', 'America/Eirunepe', 'America/El_Salvador', 'America/Fort_Nelson', 'America/Fortaleza', 'America/Glace_Bay', 'America/Goose_Bay', 'America/Grand_Turk', 'America/Grenada', 'America/Guadeloupe', 'America/Guatemala', 'America/Guayaquil', 'America/Guyana', 'America/Halifax', 'America/Havana', 'America/Hermosillo', 'America/Indiana/Indianapolis', 'America/Indiana/Knox', 'America/Indiana/Marengo', 'America/Indiana/Petersburg', 'America/Indiana/Tell_City', 'America/Indiana/Vevay', 'America/Indiana/Vincennes', 'America/Indiana/Winamac', 'America/Inuvik', 'America/Iqaluit', 'America/Jamaica', 'America/Juneau', 'America/Kentucky/Louisville', 'America/Kentucky/Monticello', 'America/Kralendijk', 'America/La_Paz', 'America/Lima', 'America/Los_Angeles', 'America/Lower_Princes', 'America/Maceio', 'America/Managua', 'America/Manaus', 'America/Marigot', 'America/Martinique', 'America/Matamoros', 'America/Mazatlan', 'America/Menominee', 'America/Merida', 'America/Metlakatla', 'America/Mexico_City', 'America/Miquelon', 'America/Moncton', 'America/Monterrey', 'America/Montevideo', 'America/Montserrat', 'America/Nassau', 'America/New_York', 'America/Nipigon', 'America/Nome', 'America/Noronha', 'America/North_Dakota/Beulah', 'America/North_Dakota/Center', 'America/North_Dakota/New_Salem', 'America/Nuuk', 'America/Ojinaga', 'America/Panama', 'America/Pangnirtung', 'America/Paramaribo', 'America/Phoenix', 'America/Port-au-Prince', 'America/Port_of_Spain', 'America/Porto_Velho', 'America/Puerto_Rico', 'America/Punta_Arenas', 'America/Rainy_River', 'America/Rankin_Inlet', 'America/Recife', 'America/Regina', 'America/Resolute', 'America/Rio_Branco', 'America/Santarem', 'America/Santiago', 'America/Santo_Domingo', 'America/Sao_Paulo', 'America/Scoresbysund', 'America/Sitka', 'America/St_Barthelemy', 'America/St_Johns', 'America/St_Kitts', 'America/St_Lucia', 'America/St_Thomas', 'America/St_Vincent', 'America/Swift_Current', 'America/Tegucigalpa', 'America/Thule', 'America/Thunder_Bay', 'America/Tijuana', 'America/Toronto', 'America/Tortola', 'America/Vancouver', 'America/Whitehorse', 'America/Winnipeg', 'America/Yakutat', 'America/Yellowknife', 'Antarctica/Casey', 'Antarctica/Davis', 'Antarctica/DumontDUrville', 'Antarctica/Macquarie', 'Antarctica/Mawson', 'Antarctica/McMurdo', 'Antarctica/Palmer', 'Antarctica/Rothera', 'Antarctica/Syowa', 'Antarctica/Troll', 'Antarctica/Vostok', 'Arctic/Longyearbyen', 'Asia/Aden', 'Asia/Almaty', 'Asia/Amman', 'Asia/Anadyr', 'Asia/Aqtau', 'Asia/Aqtobe', 'Asia/Ashgabat', 'Asia/Atyrau', 'Asia/Baghdad', 'Asia/Bahrain', 'Asia/Baku', 'Asia/Bangkok', 'Asia/Barnaul', 'Asia/Beirut', 'Asia/Bishkek', 'Asia/Brunei', 'Asia/Chita', 'Asia/Choibalsan', 'Asia/Colombo', 'Asia/Damascus', 'Asia/Dhaka', 'Asia/Dili', 'Asia/Dubai', 'Asia/Dushanbe', 'Asia/Famagusta', 'Asia/Gaza', 'Asia/Hebron', 'Asia/Ho_Chi_Minh', 'Asia/Hong_Kong', 'Asia/Hovd', 'Asia/Irkutsk', 'Asia/Jakarta', 'Asia/Jayapura', 'Asia/Jerusalem', 'Asia/Kabul', 'Asia/Kamchatka', 'Asia/Karachi', 'Asia/Kathmandu', 'Asia/Khandyga', 'Asia/Kolkata', 'Asia/Krasnoyarsk', 'Asia/Kuala_Lumpur', 'Asia/Kuching', 'Asia/Kuwait', 'Asia/Macau', 'Asia/Magadan', 'Asia/Makassar', 'Asia/Manila', 'Asia/Muscat', 'Asia/Nicosia', 'Asia/Novokuznetsk', 'Asia/Novosibirsk', 'Asia/Omsk', 'Asia/Oral', 'Asia/Phnom_Penh', 'Asia/Pontianak', 'Asia/Pyongyang', 'Asia/Qatar', 'Asia/Qostanay', 'Asia/Qyzylorda', 'Asia/Riyadh', 'Asia/Sakhalin', 'Asia/Samarkand', 'Asia/Seoul', 'Asia/Shanghai', 'Asia/Singapore', 'Asia/Srednekolymsk', 'Asia/Taipei', 'Asia/Tashkent', 'Asia/Tbilisi', 'Asia/Tehran', 'Asia/Thimphu', 'Asia/Tokyo', 'Asia/Tomsk', 'Asia/Ulaanbaatar', 'Asia/Urumqi', 'Asia/Ust-Nera', 'Asia/Vientiane', 'Asia/Vladivostok', 'Asia/Yakutsk', 'Asia/Yangon', 'Asia/Yekaterinburg', 'Asia/Yerevan', 'Atlantic/Azores', 'Atlantic/Bermuda', 'Atlantic/Canary', 'Atlantic/Cape_Verde', 'Atlantic/Faroe', 'Atlantic/Madeira', 'Atlantic/Reykjavik', 'Atlantic/South_Georgia', 'Atlantic/St_Helena', 'Atlantic/Stanley', 'Australia/Adelaide', 'Australia/Brisbane', 'Australia/Broken_Hill', 'Australia/Darwin', 'Australia/Eucla', 'Australia/Hobart', 'Australia/Lindeman', 'Australia/Lord_Howe', 'Australia/Melbourne', 'Australia/Perth', 'Australia/Sydney', 'Canada/Atlantic', 'Canada/Central', 'Canada/Eastern', 'Canada/Mountain', 'Canada/Newfoundland', 'Canada/Pacific', 'Europe/Amsterdam', 'Europe/Andorra', 'Europe/Astrakhan', 'Europe/Athens', 'Europe/Belgrade', 'Europe/Berlin', 'Europe/Bratislava', 'Europe/Brussels', 'Europe/Bucharest', 'Europe/Budapest', 'Europe/Busingen', 'Europe/Chisinau', 'Europe/Copenhagen', 'Europe/Dublin', 'Europe/Gibraltar', 'Europe/Guernsey', 'Europe/Helsinki', 'Europe/Isle_of_Man', 'Europe/Istanbul', 'Europe/Jersey', 'Europe/Kaliningrad', 'Europe/Kiev', 'Europe/Kirov', 'Europe/Lisbon', 'Europe/Ljubljana', 'Europe/London', 'Europe/Luxembourg', 'Europe/Madrid', 'Europe/Malta', 'Europe/Mariehamn', 'Europe/Minsk', 'Europe/Monaco', 'Europe/Moscow', 'Europe/Oslo', 'Europe/Paris', 'Europe/Podgorica', 'Europe/Prague', 'Europe/Riga', 'Europe/Rome', 'Europe/Samara', 'Europe/San_Marino', 'Europe/Sarajevo', 'Europe/Saratov', 'Europe/Simferopol', 'Europe/Skopje', 'Europe/Sofia', 'Europe/Stockholm', 'Europe/Tallinn', 'Europe/Tirane', 'Europe/Ulyanovsk', 'Europe/Uzhgorod', 'Europe/Vaduz', 'Europe/Vatican', 'Europe/Vienna', 'Europe/Vilnius', 'Europe/Volgograd', 'Europe/Warsaw', 'Europe/Zagreb', 'Europe/Zaporozhye', 'Europe/Zurich', 'GMT', 'Indian/Antananarivo', 'Indian/Chagos', 'Indian/Christmas', 'Indian/Cocos', 'Indian/Comoro', 'Indian/Kerguelen', 'Indian/Mahe', 'Indian/Maldives', 'Indian/Mauritius', 'Indian/Mayotte', 'Indian/Reunion', 'Pacific/Apia', 'Pacific/Auckland', 'Pacific/Bougainville', 'Pacific/Chatham', 'Pacific/Chuuk', 'Pacific/Easter', 'Pacific/Efate', 'Pacific/Fakaofo', 'Pacific/Fiji', 'Pacific/Funafuti', 'Pacific/Galapagos', 'Pacific/Gambier', 'Pacific/Guadalcanal', 'Pacific/Guam', 'Pacific/Honolulu', 'Pacific/Kanton', 'Pacific/Kiritimati', 'Pacific/Kosrae', 'Pacific/Kwajalein', 'Pacific/Majuro', 'Pacific/Marquesas', 'Pacific/Midway', 'Pacific/Nauru', 'Pacific/Niue', 'Pacific/Norfolk', 'Pacific/Noumea', 'Pacific/Pago_Pago', 'Pacific/Palau', 'Pacific/Pitcairn', 'Pacific/Pohnpei', 'Pacific/Port_Moresby', 'Pacific/Rarotonga', 'Pacific/Saipan', 'Pacific/Tahiti', 'Pacific/Tarawa', 'Pacific/Tongatapu', 'Pacific/Wake', 'Pacific/Wallis', 'US/Alaska', 'US/Arizona', 'US/Central', 'US/Eastern', 'US/Hawaii', 'US/Mountain', 'US/Pacific', 'UTC']"
      ]
     },
     "execution_count": 15,
     "metadata": {},
     "output_type": "execute_result"
    }
   ],
   "source": [
    "from pytz import common_timezones\n",
    "common_timezones"
   ]
  },
  {
   "cell_type": "markdown",
   "id": "9c91672b",
   "metadata": {
    "slideshow": {
     "slide_type": "slide"
    }
   },
   "source": [
    "We can immediately take our datetime and convert to:\n",
    "- US/Eastern time"
   ]
  },
  {
   "cell_type": "code",
   "execution_count": 16,
   "id": "e2b19d93",
   "metadata": {
    "cell_style": "split",
    "slideshow": {
     "slide_type": "-"
    }
   },
   "outputs": [
    {
     "data": {
      "text/plain": [
       "Timestamp('2016-01-11 17:00:00+0100', tz='Europe/Brussels')"
      ]
     },
     "execution_count": 16,
     "metadata": {},
     "output_type": "execute_result"
    }
   ],
   "source": [
    "dt0_timeaware"
   ]
  },
  {
   "cell_type": "code",
   "execution_count": 17,
   "id": "2a7380de",
   "metadata": {
    "cell_style": "split",
    "slideshow": {
     "slide_type": "-"
    }
   },
   "outputs": [
    {
     "data": {
      "text/plain": [
       "Timestamp('2016-01-11 11:00:00-0500', tz='US/Eastern')"
      ]
     },
     "execution_count": 17,
     "metadata": {},
     "output_type": "execute_result"
    }
   ],
   "source": [
    "dt0_timeaware.tz_convert('US/Eastern')"
   ]
  },
  {
   "cell_type": "markdown",
   "id": "a77b50b5",
   "metadata": {
    "cell_style": "center",
    "slideshow": {
     "slide_type": "slide"
    }
   },
   "source": [
    "Calculating the time difference between the two occupancy loggings:"
   ]
  },
  {
   "cell_type": "code",
   "execution_count": 18,
   "id": "aa559a22",
   "metadata": {
    "cell_style": "split",
    "slideshow": {
     "slide_type": "-"
    }
   },
   "outputs": [
    {
     "data": {
      "text/plain": [
       "0       2016-01-11 17:00:00\n",
       "1       2016-01-11 17:10:00\n",
       "2       2016-01-11 17:20:00\n",
       "3       2016-01-11 17:30:00\n",
       "4       2016-01-11 17:40:00\n",
       "                ...        \n",
       "19730   2016-05-27 17:20:00\n",
       "19731   2016-05-27 17:30:00\n",
       "19732   2016-05-27 17:40:00\n",
       "19733   2016-05-27 17:50:00\n",
       "19734   2016-05-27 18:00:00\n",
       "Name: date, Length: 19735, dtype: datetime64[ns]"
      ]
     },
     "execution_count": 18,
     "metadata": {},
     "output_type": "execute_result"
    }
   ],
   "source": [
    "date_asdt"
   ]
  },
  {
   "cell_type": "code",
   "execution_count": 19,
   "id": "469c166d",
   "metadata": {
    "cell_style": "split",
    "slideshow": {
     "slide_type": "fragment"
    }
   },
   "outputs": [
    {
     "data": {
      "text/plain": [
       "Timedelta('137 days 00:20:00')"
      ]
     },
     "execution_count": 19,
     "metadata": {},
     "output_type": "execute_result"
    }
   ],
   "source": [
    "time_diff = date_asdt[19730] - date_asdt[0]\n",
    "time_diff"
   ]
  },
  {
   "cell_type": "markdown",
   "id": "b53fbfcf",
   "metadata": {
    "cell_style": "split",
    "slideshow": {
     "slide_type": "-"
    }
   },
   "source": [
    "Outputs a TimeDelta object:\n",
    "- encodes time difference in useful representation"
   ]
  },
  {
   "cell_type": "markdown",
   "id": "58a3b1e0",
   "metadata": {
    "slideshow": {
     "slide_type": "slide"
    }
   },
   "source": [
    "#### Useful Timedelta methods/attributes"
   ]
  },
  {
   "cell_type": "markdown",
   "id": "91af749f",
   "metadata": {
    "slideshow": {
     "slide_type": "fragment"
    }
   },
   "source": [
    "Getting components in time day/hour/minutes/seconds/... representation"
   ]
  },
  {
   "cell_type": "code",
   "execution_count": 39,
   "id": "17c7e107",
   "metadata": {
    "cell_style": "split",
    "slideshow": {
     "slide_type": "-"
    }
   },
   "outputs": [
    {
     "data": {
      "text/plain": [
       "Components(days=137, hours=0, minutes=20, seconds=0, milliseconds=0, microseconds=0, nanoseconds=0)"
      ]
     },
     "execution_count": 39,
     "metadata": {},
     "output_type": "execute_result"
    }
   ],
   "source": [
    "time_diff.components\n"
   ]
  },
  {
   "cell_type": "code",
   "execution_count": 40,
   "id": "8df8adb1",
   "metadata": {
    "cell_style": "split",
    "slideshow": {
     "slide_type": "-"
    }
   },
   "outputs": [
    {
     "data": {
      "text/plain": [
       "20"
      ]
     },
     "execution_count": 40,
     "metadata": {},
     "output_type": "execute_result"
    }
   ],
   "source": [
    "time_diff.components.minutes"
   ]
  },
  {
   "cell_type": "markdown",
   "id": "27d771b9",
   "metadata": {
    "slideshow": {
     "slide_type": "slide"
    }
   },
   "source": [
    "May be useful to convert to difference in units of seconds or milliseconds:"
   ]
  },
  {
   "cell_type": "code",
   "execution_count": 41,
   "id": "10a2581a",
   "metadata": {
    "cell_style": "split",
    "slideshow": {
     "slide_type": "fragment"
    }
   },
   "outputs": [
    {
     "name": "stdout",
     "output_type": "stream",
     "text": [
      "137\n",
      "11838000.0\n"
     ]
    }
   ],
   "source": [
    "print(time_diff.days)\n",
    "print(time_diff.total_seconds())"
   ]
  },
  {
   "cell_type": "markdown",
   "id": "cebbd2ce",
   "metadata": {
    "cell_style": "split",
    "slideshow": {
     "slide_type": "fragment"
    }
   },
   "source": [
    "And because I'm all about that nano:"
   ]
  },
  {
   "cell_type": "code",
   "execution_count": 42,
   "id": "81e6c7d5",
   "metadata": {
    "cell_style": "split",
    "slideshow": {
     "slide_type": "-"
    }
   },
   "outputs": [
    {
     "data": {
      "text/plain": [
       "11838000000000000"
      ]
     },
     "execution_count": 42,
     "metadata": {},
     "output_type": "execute_result"
    }
   ],
   "source": [
    "# time difference in nanoseconds\n",
    "time_diff.value"
   ]
  },
  {
   "cell_type": "markdown",
   "id": "4d90566b",
   "metadata": {
    "slideshow": {
     "slide_type": "slide"
    }
   },
   "source": [
    "#### Vectorized datetime operations in Pandas Series"
   ]
  },
  {
   "cell_type": "markdown",
   "id": "6a86dbc4",
   "metadata": {
    "cell_style": "center",
    "slideshow": {
     "slide_type": "subslide"
    }
   },
   "source": [
    "All operations used on pandas TimeStamps: can be vectorized on pandas datetime Series\n",
    "- Series.dt.attribute\n",
    "- Series.dt.method()\n"
   ]
  },
  {
   "cell_type": "code",
   "execution_count": 43,
   "id": "fca61b8f",
   "metadata": {
    "cell_style": "split",
    "slideshow": {
     "slide_type": "fragment"
    }
   },
   "outputs": [
    {
     "data": {
      "text/plain": [
       "0       2016-01-11 17:00:00\n",
       "1       2016-01-11 17:10:00\n",
       "2       2016-01-11 17:20:00\n",
       "3       2016-01-11 17:30:00\n",
       "4       2016-01-11 17:40:00\n",
       "                ...        \n",
       "19730   2016-05-27 17:20:00\n",
       "19731   2016-05-27 17:30:00\n",
       "19732   2016-05-27 17:40:00\n",
       "19733   2016-05-27 17:50:00\n",
       "19734   2016-05-27 18:00:00\n",
       "Name: date, Length: 19735, dtype: datetime64[ns]"
      ]
     },
     "execution_count": 43,
     "metadata": {},
     "output_type": "execute_result"
    }
   ],
   "source": [
    "date_asdt"
   ]
  },
  {
   "cell_type": "code",
   "execution_count": 44,
   "id": "b3bb84c7",
   "metadata": {
    "cell_style": "split",
    "slideshow": {
     "slide_type": "-"
    }
   },
   "outputs": [
    {
     "data": {
      "text/plain": [
       "0        2016\n",
       "1        2016\n",
       "2        2016\n",
       "3        2016\n",
       "4        2016\n",
       "         ... \n",
       "19730    2016\n",
       "19731    2016\n",
       "19732    2016\n",
       "19733    2016\n",
       "19734    2016\n",
       "Name: date, Length: 19735, dtype: int64"
      ]
     },
     "execution_count": 44,
     "metadata": {},
     "output_type": "execute_result"
    }
   ],
   "source": [
    "date_asdt.dt.year"
   ]
  },
  {
   "cell_type": "code",
   "execution_count": 45,
   "id": "fa6c0feb",
   "metadata": {
    "cell_style": "split",
    "slideshow": {
     "slide_type": "subslide"
    }
   },
   "outputs": [
    {
     "data": {
      "text/plain": [
       "0        1\n",
       "1        1\n",
       "2        1\n",
       "3        1\n",
       "4        1\n",
       "        ..\n",
       "19730    5\n",
       "19731    5\n",
       "19732    5\n",
       "19733    5\n",
       "19734    5\n",
       "Name: date, Length: 19735, dtype: int64"
      ]
     },
     "execution_count": 45,
     "metadata": {},
     "output_type": "execute_result"
    }
   ],
   "source": [
    "date_asdt.dt.month"
   ]
  },
  {
   "cell_type": "code",
   "execution_count": 46,
   "id": "aa65cb5f",
   "metadata": {
    "cell_style": "split"
   },
   "outputs": [
    {
     "data": {
      "text/plain": [
       "0        11\n",
       "1        11\n",
       "2        11\n",
       "3        11\n",
       "4        11\n",
       "         ..\n",
       "19730    27\n",
       "19731    27\n",
       "19732    27\n",
       "19733    27\n",
       "19734    27\n",
       "Name: date, Length: 19735, dtype: int64"
      ]
     },
     "execution_count": 46,
     "metadata": {},
     "output_type": "execute_result"
    }
   ],
   "source": [
    "date_asdt.dt.day"
   ]
  },
  {
   "cell_type": "markdown",
   "id": "7ede827b",
   "metadata": {
    "slideshow": {
     "slide_type": "slide"
    }
   },
   "source": [
    "#### Setting datetime columns as index of Series/DataFrame"
   ]
  },
  {
   "cell_type": "markdown",
   "id": "89d59da6",
   "metadata": {},
   "source": [
    "First check the data type:"
   ]
  },
  {
   "cell_type": "code",
   "execution_count": 47,
   "id": "9dda0524",
   "metadata": {
    "cell_style": "split"
   },
   "outputs": [
    {
     "data": {
      "text/plain": [
       "0       2016-01-11 17:00:00\n",
       "1       2016-01-11 17:10:00\n",
       "2       2016-01-11 17:20:00\n",
       "3       2016-01-11 17:30:00\n",
       "4       2016-01-11 17:40:00\n",
       "                ...        \n",
       "19730   2016-05-27 17:20:00\n",
       "19731   2016-05-27 17:30:00\n",
       "19732   2016-05-27 17:40:00\n",
       "19733   2016-05-27 17:50:00\n",
       "19734   2016-05-27 18:00:00\n",
       "Name: date, Length: 19735, dtype: datetime64[ns]"
      ]
     },
     "execution_count": 47,
     "metadata": {},
     "output_type": "execute_result"
    }
   ],
   "source": [
    "energy_data_df.date"
   ]
  },
  {
   "cell_type": "code",
   "execution_count": 48,
   "id": "7664a90e",
   "metadata": {
    "cell_style": "split"
   },
   "outputs": [
    {
     "data": {
      "text/plain": [
       "0       2016-01-11 17:00:00\n",
       "1       2016-01-11 17:10:00\n",
       "2       2016-01-11 17:20:00\n",
       "3       2016-01-11 17:30:00\n",
       "4       2016-01-11 17:40:00\n",
       "                ...        \n",
       "19730   2016-05-27 17:20:00\n",
       "19731   2016-05-27 17:30:00\n",
       "19732   2016-05-27 17:40:00\n",
       "19733   2016-05-27 17:50:00\n",
       "19734   2016-05-27 18:00:00\n",
       "Name: date, Length: 19735, dtype: datetime64[ns]"
      ]
     },
     "execution_count": 48,
     "metadata": {},
     "output_type": "execute_result"
    }
   ],
   "source": [
    "energy_data_df.date = pd.to_datetime(\n",
    "    energy_data_df.date)\n",
    "energy_data_df.date"
   ]
  },
  {
   "cell_type": "markdown",
   "id": "bbe2e442",
   "metadata": {
    "slideshow": {
     "slide_type": "slide"
    }
   },
   "source": [
    "Setting the index"
   ]
  },
  {
   "cell_type": "code",
   "execution_count": 49,
   "id": "f653d81b",
   "metadata": {
    "cell_style": "split",
    "slideshow": {
     "slide_type": "fragment"
    }
   },
   "outputs": [
    {
     "data": {
      "text/html": [
       "<div>\n",
       "<style scoped>\n",
       "    .dataframe tbody tr th:only-of-type {\n",
       "        vertical-align: middle;\n",
       "    }\n",
       "\n",
       "    .dataframe tbody tr th {\n",
       "        vertical-align: top;\n",
       "    }\n",
       "\n",
       "    .dataframe thead th {\n",
       "        text-align: right;\n",
       "    }\n",
       "</style>\n",
       "<table border=\"1\" class=\"dataframe\">\n",
       "  <thead>\n",
       "    <tr style=\"text-align: right;\">\n",
       "      <th></th>\n",
       "      <th>Appliances</th>\n",
       "      <th>lights</th>\n",
       "    </tr>\n",
       "    <tr>\n",
       "      <th>date</th>\n",
       "      <th></th>\n",
       "      <th></th>\n",
       "    </tr>\n",
       "  </thead>\n",
       "  <tbody>\n",
       "    <tr>\n",
       "      <th>2016-01-11 17:00:00</th>\n",
       "      <td>60</td>\n",
       "      <td>30</td>\n",
       "    </tr>\n",
       "    <tr>\n",
       "      <th>2016-01-11 17:10:00</th>\n",
       "      <td>60</td>\n",
       "      <td>30</td>\n",
       "    </tr>\n",
       "    <tr>\n",
       "      <th>2016-01-11 17:20:00</th>\n",
       "      <td>50</td>\n",
       "      <td>30</td>\n",
       "    </tr>\n",
       "    <tr>\n",
       "      <th>2016-01-11 17:30:00</th>\n",
       "      <td>50</td>\n",
       "      <td>40</td>\n",
       "    </tr>\n",
       "    <tr>\n",
       "      <th>2016-01-11 17:40:00</th>\n",
       "      <td>60</td>\n",
       "      <td>40</td>\n",
       "    </tr>\n",
       "  </tbody>\n",
       "</table>\n",
       "</div>"
      ],
      "text/plain": [
       "                     Appliances  lights\n",
       "date                                   \n",
       "2016-01-11 17:00:00          60      30\n",
       "2016-01-11 17:10:00          60      30\n",
       "2016-01-11 17:20:00          50      30\n",
       "2016-01-11 17:30:00          50      40\n",
       "2016-01-11 17:40:00          60      40"
      ]
     },
     "execution_count": 49,
     "metadata": {},
     "output_type": "execute_result"
    }
   ],
   "source": [
    "energy_data = energy_data_df.set_index('date')\n",
    "energy_data.head()"
   ]
  },
  {
   "cell_type": "markdown",
   "id": "761169cb",
   "metadata": {
    "cell_style": "split",
    "slideshow": {
     "slide_type": "fragment"
    }
   },
   "source": [
    "Checking index type"
   ]
  },
  {
   "cell_type": "code",
   "execution_count": 50,
   "id": "63cfc8d6",
   "metadata": {
    "cell_style": "split",
    "slideshow": {
     "slide_type": "-"
    }
   },
   "outputs": [
    {
     "data": {
      "text/plain": [
       "DatetimeIndex(['2016-01-11 17:00:00', '2016-01-11 17:10:00',\n",
       "               '2016-01-11 17:20:00', '2016-01-11 17:30:00',\n",
       "               '2016-01-11 17:40:00', '2016-01-11 17:50:00',\n",
       "               '2016-01-11 18:00:00', '2016-01-11 18:10:00',\n",
       "               '2016-01-11 18:20:00', '2016-01-11 18:30:00',\n",
       "               ...\n",
       "               '2016-05-27 16:30:00', '2016-05-27 16:40:00',\n",
       "               '2016-05-27 16:50:00', '2016-05-27 17:00:00',\n",
       "               '2016-05-27 17:10:00', '2016-05-27 17:20:00',\n",
       "               '2016-05-27 17:30:00', '2016-05-27 17:40:00',\n",
       "               '2016-05-27 17:50:00', '2016-05-27 18:00:00'],\n",
       "              dtype='datetime64[ns]', name='date', length=19735, freq=None)"
      ]
     },
     "execution_count": 50,
     "metadata": {},
     "output_type": "execute_result"
    }
   ],
   "source": [
    "energy_data.index"
   ]
  },
  {
   "cell_type": "markdown",
   "id": "92783020",
   "metadata": {
    "cell_style": "split",
    "slideshow": {
     "slide_type": "subslide"
    }
   },
   "source": [
    "Selecting the column, yields a series:\n",
    "- indexed by time"
   ]
  },
  {
   "cell_type": "code",
   "execution_count": 51,
   "id": "c070d697",
   "metadata": {
    "cell_style": "split",
    "slideshow": {
     "slide_type": "-"
    }
   },
   "outputs": [
    {
     "data": {
      "text/plain": [
       "date\n",
       "2016-01-11 17:00:00     60\n",
       "2016-01-11 17:10:00     60\n",
       "2016-01-11 17:20:00     50\n",
       "2016-01-11 17:30:00     50\n",
       "2016-01-11 17:40:00     60\n",
       "                      ... \n",
       "2016-05-27 17:20:00    100\n",
       "2016-05-27 17:30:00     90\n",
       "2016-05-27 17:40:00    270\n",
       "2016-05-27 17:50:00    420\n",
       "2016-05-27 18:00:00    430\n",
       "Name: Appliances, Length: 19735, dtype: int64"
      ]
     },
     "execution_count": 51,
     "metadata": {},
     "output_type": "execute_result"
    }
   ],
   "source": [
    "appliance_series = energy_data['Appliances']\n",
    "appliance_series"
   ]
  },
  {
   "cell_type": "markdown",
   "id": "b568bdd0",
   "metadata": {
    "slideshow": {
     "slide_type": "fragment"
    }
   },
   "source": [
    "We can do some nifty things now."
   ]
  },
  {
   "cell_type": "markdown",
   "id": "aab56a12",
   "metadata": {
    "slideshow": {
     "slide_type": "slide"
    }
   },
   "source": [
    "#### DataFrame selection via datetime index"
   ]
  },
  {
   "cell_type": "markdown",
   "id": "c16a6f8a",
   "metadata": {
    "slideshow": {
     "slide_type": "fragment"
    }
   },
   "source": [
    "Getting all timestamps on a given day"
   ]
  },
  {
   "cell_type": "code",
   "execution_count": 52,
   "id": "b8ba4ec4",
   "metadata": {
    "cell_style": "split",
    "slideshow": {
     "slide_type": "-"
    }
   },
   "outputs": [
    {
     "data": {
      "text/plain": [
       "date\n",
       "2016-03-04 00:00:00    60\n",
       "2016-03-04 00:10:00    50\n",
       "2016-03-04 00:20:00    40\n",
       "2016-03-04 00:30:00    40\n",
       "2016-03-04 00:40:00    60\n",
       "                       ..\n",
       "2016-03-04 23:10:00    40\n",
       "2016-03-04 23:20:00    50\n",
       "2016-03-04 23:30:00    40\n",
       "2016-03-04 23:40:00    50\n",
       "2016-03-04 23:50:00    40\n",
       "Name: Appliances, Length: 144, dtype: int64"
      ]
     },
     "execution_count": 52,
     "metadata": {},
     "output_type": "execute_result"
    }
   ],
   "source": [
    "appliance_series.loc['2016-03-04']"
   ]
  },
  {
   "cell_type": "markdown",
   "id": "deca1987",
   "metadata": {
    "cell_style": "split",
    "slideshow": {
     "slide_type": "fragment"
    }
   },
   "source": [
    "Using partial string addressing:\n",
    "- Get all times on this day from 8-9 AM    "
   ]
  },
  {
   "cell_type": "code",
   "execution_count": 53,
   "id": "7c5e3c43",
   "metadata": {
    "cell_style": "split",
    "slideshow": {
     "slide_type": "fragment"
    }
   },
   "outputs": [
    {
     "data": {
      "text/plain": [
       "date\n",
       "2016-03-04 08:00:00    80\n",
       "2016-03-04 08:10:00    50\n",
       "2016-03-04 08:20:00    50\n",
       "2016-03-04 08:30:00    50\n",
       "2016-03-04 08:40:00    50\n",
       "2016-03-04 08:50:00    40\n",
       "Name: Appliances, dtype: int64"
      ]
     },
     "execution_count": 53,
     "metadata": {},
     "output_type": "execute_result"
    }
   ],
   "source": [
    "appliance_series.loc['2016-03-04 08']"
   ]
  },
  {
   "cell_type": "markdown",
   "id": "1691742c",
   "metadata": {
    "slideshow": {
     "slide_type": "subslide"
    }
   },
   "source": [
    "Getting all timestamps for a given month: April"
   ]
  },
  {
   "cell_type": "code",
   "execution_count": 54,
   "id": "13180bb7",
   "metadata": {
    "cell_style": "split",
    "slideshow": {
     "slide_type": "fragment"
    }
   },
   "outputs": [
    {
     "data": {
      "text/plain": [
       "date\n",
       "2016-04-01 00:00:00    60\n",
       "2016-04-01 00:10:00    60\n",
       "2016-04-01 00:20:00    60\n",
       "2016-04-01 00:30:00    50\n",
       "2016-04-01 00:40:00    50\n",
       "                       ..\n",
       "2016-04-30 23:10:00    40\n",
       "2016-04-30 23:20:00    20\n",
       "2016-04-30 23:30:00    40\n",
       "2016-04-30 23:40:00    30\n",
       "2016-04-30 23:50:00    70\n",
       "Name: Appliances, Length: 4320, dtype: int64"
      ]
     },
     "execution_count": 54,
     "metadata": {},
     "output_type": "execute_result"
    }
   ],
   "source": [
    "appliance_series.loc['2016-04']"
   ]
  },
  {
   "cell_type": "markdown",
   "id": "c1638d23",
   "metadata": {
    "cell_style": "split",
    "slideshow": {
     "slide_type": "-"
    }
   },
   "source": [
    "Same idea with partial string selection"
   ]
  },
  {
   "cell_type": "markdown",
   "id": "820d556a",
   "metadata": {
    "slideshow": {
     "slide_type": "subslide"
    }
   },
   "source": [
    "Recognizes named strings as well:"
   ]
  },
  {
   "cell_type": "code",
   "execution_count": 55,
   "id": "d1793315",
   "metadata": {
    "cell_style": "split",
    "slideshow": {
     "slide_type": "fragment"
    }
   },
   "outputs": [
    {
     "data": {
      "text/plain": [
       "date\n",
       "2016-04-01 00:00:00    60\n",
       "2016-04-01 00:10:00    60\n",
       "2016-04-01 00:20:00    60\n",
       "2016-04-01 00:30:00    50\n",
       "2016-04-01 00:40:00    50\n",
       "                       ..\n",
       "2016-04-30 23:10:00    40\n",
       "2016-04-30 23:20:00    20\n",
       "2016-04-30 23:30:00    40\n",
       "2016-04-30 23:40:00    30\n",
       "2016-04-30 23:50:00    70\n",
       "Name: Appliances, Length: 4320, dtype: int64"
      ]
     },
     "execution_count": 55,
     "metadata": {},
     "output_type": "execute_result"
    }
   ],
   "source": [
    "appliance_series.loc['April 2016']"
   ]
  },
  {
   "cell_type": "code",
   "execution_count": 56,
   "id": "a504618f",
   "metadata": {
    "cell_style": "split",
    "slideshow": {
     "slide_type": "-"
    }
   },
   "outputs": [
    {
     "data": {
      "text/plain": [
       "date\n",
       "2016-04-03 00:00:00    60\n",
       "2016-04-03 00:10:00    60\n",
       "2016-04-03 00:20:00    50\n",
       "2016-04-03 00:30:00    60\n",
       "2016-04-03 00:40:00    50\n",
       "                       ..\n",
       "2016-04-03 23:10:00    70\n",
       "2016-04-03 23:20:00    70\n",
       "2016-04-03 23:30:00    60\n",
       "2016-04-03 23:40:00    60\n",
       "2016-04-03 23:50:00    60\n",
       "Name: Appliances, Length: 144, dtype: int64"
      ]
     },
     "execution_count": 56,
     "metadata": {},
     "output_type": "execute_result"
    }
   ],
   "source": [
    "appliance_series.loc['April 3, 2016']"
   ]
  },
  {
   "cell_type": "markdown",
   "id": "b5e9e769",
   "metadata": {
    "slideshow": {
     "slide_type": "slide"
    }
   },
   "source": [
    "**Slicing pandas Dataframes and Series using datetime ranges**"
   ]
  },
  {
   "cell_type": "markdown",
   "id": "ac0fe3dd",
   "metadata": {
    "slideshow": {
     "slide_type": "fragment"
    }
   },
   "source": [
    "- The datetime index allows for slicing dataframes and Series in datetime ranges"
   ]
  },
  {
   "cell_type": "code",
   "execution_count": 57,
   "id": "404920a4",
   "metadata": {
    "cell_style": "center",
    "scrolled": false,
    "slideshow": {
     "slide_type": "-"
    }
   },
   "outputs": [
    {
     "data": {
      "text/plain": [
       "date\n",
       "2016-04-04 00:00:00    50\n",
       "2016-04-04 00:10:00    60\n",
       "2016-04-04 00:20:00    50\n",
       "2016-04-04 00:30:00    70\n",
       "2016-04-04 00:40:00    70\n",
       "                       ..\n",
       "2016-04-08 23:10:00    40\n",
       "2016-04-08 23:20:00    40\n",
       "2016-04-08 23:30:00    50\n",
       "2016-04-08 23:40:00    40\n",
       "2016-04-08 23:50:00    50\n",
       "Name: Appliances, Length: 720, dtype: int64"
      ]
     },
     "execution_count": 57,
     "metadata": {},
     "output_type": "execute_result"
    }
   ],
   "source": [
    "appliance_series.loc['2016-4-04':'2016-4-08' ]"
   ]
  },
  {
   "cell_type": "markdown",
   "id": "31c1c31c",
   "metadata": {
    "slideshow": {
     "slide_type": "slide"
    }
   },
   "source": [
    "Partial slicing:\n",
    "    \n",
    "- Can slice on different time scales:\n",
    "    - e.g., slicing between years\n",
    "    - slicing between months, etc"
   ]
  },
  {
   "cell_type": "code",
   "execution_count": 58,
   "id": "756d06ae",
   "metadata": {
    "slideshow": {
     "slide_type": "-"
    }
   },
   "outputs": [
    {
     "data": {
      "text/plain": [
       "date\n",
       "2016-01-11 17:00:00    60\n",
       "2016-01-11 17:10:00    60\n",
       "2016-01-11 17:20:00    50\n",
       "2016-01-11 17:30:00    50\n",
       "2016-01-11 17:40:00    60\n",
       "                       ..\n",
       "2016-02-29 23:10:00    60\n",
       "2016-02-29 23:20:00    40\n",
       "2016-02-29 23:30:00    40\n",
       "2016-02-29 23:40:00    40\n",
       "2016-02-29 23:50:00    40\n",
       "Name: Appliances, Length: 7098, dtype: int64"
      ]
     },
     "execution_count": 58,
     "metadata": {},
     "output_type": "execute_result"
    }
   ],
   "source": [
    "#getting appliance energy usage for january and february\n",
    "janfeb_appliance = appliance_series.loc['2016-1': '2016-2']\n",
    "janfeb_appliance"
   ]
  },
  {
   "cell_type": "markdown",
   "id": "98665968",
   "metadata": {
    "slideshow": {
     "slide_type": "slide"
    }
   },
   "source": [
    "We may want to make our date-time index, time-zone aware:\n",
    "- first access the DateTimeIndex (a Series)\n",
    "- use vectorized datetime method .tz_localize()"
   ]
  },
  {
   "cell_type": "code",
   "execution_count": 59,
   "id": "402bf051",
   "metadata": {
    "cell_style": "center",
    "slideshow": {
     "slide_type": "fragment"
    }
   },
   "outputs": [],
   "source": [
    "janfeb_appliance = janfeb_appliance.tz_localize('Europe/Brussels')"
   ]
  },
  {
   "cell_type": "code",
   "execution_count": 60,
   "id": "a3c124c8",
   "metadata": {
    "cell_style": "split",
    "slideshow": {
     "slide_type": "fragment"
    }
   },
   "outputs": [
    {
     "data": {
      "text/plain": [
       "date\n",
       "2016-01-11 17:00:00+01:00    60\n",
       "2016-01-11 17:10:00+01:00    60\n",
       "2016-01-11 17:20:00+01:00    50\n",
       "2016-01-11 17:30:00+01:00    50\n",
       "2016-01-11 17:40:00+01:00    60\n",
       "                             ..\n",
       "2016-02-29 23:10:00+01:00    60\n",
       "2016-02-29 23:20:00+01:00    40\n",
       "2016-02-29 23:30:00+01:00    40\n",
       "2016-02-29 23:40:00+01:00    40\n",
       "2016-02-29 23:50:00+01:00    40\n",
       "Name: Appliances, Length: 7098, dtype: int64"
      ]
     },
     "execution_count": 60,
     "metadata": {},
     "output_type": "execute_result"
    }
   ],
   "source": [
    "janfeb_appliance"
   ]
  },
  {
   "cell_type": "code",
   "execution_count": 61,
   "id": "81809104",
   "metadata": {
    "cell_style": "split",
    "slideshow": {
     "slide_type": "fragment"
    }
   },
   "outputs": [
    {
     "data": {
      "text/plain": [
       "DatetimeIndex(['2016-01-11 17:00:00+01:00', '2016-01-11 17:10:00+01:00',\n",
       "               '2016-01-11 17:20:00+01:00', '2016-01-11 17:30:00+01:00',\n",
       "               '2016-01-11 17:40:00+01:00', '2016-01-11 17:50:00+01:00',\n",
       "               '2016-01-11 18:00:00+01:00', '2016-01-11 18:10:00+01:00',\n",
       "               '2016-01-11 18:20:00+01:00', '2016-01-11 18:30:00+01:00',\n",
       "               ...\n",
       "               '2016-02-29 22:20:00+01:00', '2016-02-29 22:30:00+01:00',\n",
       "               '2016-02-29 22:40:00+01:00', '2016-02-29 22:50:00+01:00',\n",
       "               '2016-02-29 23:00:00+01:00', '2016-02-29 23:10:00+01:00',\n",
       "               '2016-02-29 23:20:00+01:00', '2016-02-29 23:30:00+01:00',\n",
       "               '2016-02-29 23:40:00+01:00', '2016-02-29 23:50:00+01:00'],\n",
       "              dtype='datetime64[ns, Europe/Brussels]', name='date', length=7098, freq=None)"
      ]
     },
     "execution_count": 61,
     "metadata": {},
     "output_type": "execute_result"
    }
   ],
   "source": [
    "janfeb_appliance.index"
   ]
  },
  {
   "cell_type": "markdown",
   "id": "d86868a8",
   "metadata": {
    "slideshow": {
     "slide_type": "slide"
    }
   },
   "source": [
    "Your name is Praveen, a data analyst working for a tech/ customer service contractor in Bangalore, India. \n",
    "\n",
    "- The smart utility company in Brussels has outsourced certain data tasks as well as customer service issues to your company. \n",
    "- Need data for Jan/Feb reindexed in Bangalore time to join with customer service database from your call center."
   ]
  },
  {
   "cell_type": "code",
   "execution_count": 62,
   "id": "e62eee5f",
   "metadata": {
    "cell_style": "split",
    "slideshow": {
     "slide_type": "fragment"
    }
   },
   "outputs": [
    {
     "data": {
      "text/plain": [
       "date\n",
       "2016-01-11 21:30:00+05:30    60\n",
       "2016-01-11 21:40:00+05:30    60\n",
       "2016-01-11 21:50:00+05:30    50\n",
       "2016-01-11 22:00:00+05:30    50\n",
       "2016-01-11 22:10:00+05:30    60\n",
       "                             ..\n",
       "2016-03-01 03:40:00+05:30    60\n",
       "2016-03-01 03:50:00+05:30    40\n",
       "2016-03-01 04:00:00+05:30    40\n",
       "2016-03-01 04:10:00+05:30    40\n",
       "2016-03-01 04:20:00+05:30    40\n",
       "Name: Appliances, Length: 7098, dtype: int64"
      ]
     },
     "execution_count": 62,
     "metadata": {},
     "output_type": "execute_result"
    }
   ],
   "source": [
    "# time in India based on pytz timezones\n",
    "janfeb_appliance.tz_convert('Asia/Kolkata')"
   ]
  },
  {
   "cell_type": "code",
   "execution_count": 63,
   "id": "9ab47295",
   "metadata": {
    "cell_style": "split",
    "slideshow": {
     "slide_type": "fragment"
    }
   },
   "outputs": [
    {
     "data": {
      "text/plain": [
       "date\n",
       "2016-01-11 17:00:00+01:00    60\n",
       "2016-01-11 17:10:00+01:00    60\n",
       "2016-01-11 17:20:00+01:00    50\n",
       "2016-01-11 17:30:00+01:00    50\n",
       "2016-01-11 17:40:00+01:00    60\n",
       "                             ..\n",
       "2016-02-29 23:10:00+01:00    60\n",
       "2016-02-29 23:20:00+01:00    40\n",
       "2016-02-29 23:30:00+01:00    40\n",
       "2016-02-29 23:40:00+01:00    40\n",
       "2016-02-29 23:50:00+01:00    40\n",
       "Name: Appliances, Length: 7098, dtype: int64"
      ]
     },
     "execution_count": 63,
     "metadata": {},
     "output_type": "execute_result"
    }
   ],
   "source": [
    "# time in Brussels\n",
    "janfeb_appliance"
   ]
  },
  {
   "cell_type": "markdown",
   "id": "a90df3f4",
   "metadata": {
    "slideshow": {
     "slide_type": "slide"
    }
   },
   "source": [
    "Plotting the time series"
   ]
  },
  {
   "cell_type": "code",
   "execution_count": 64,
   "id": "d1c40b89",
   "metadata": {
    "slideshow": {
     "slide_type": "fragment"
    }
   },
   "outputs": [
    {
     "data": {
      "text/plain": [
       "<AxesSubplot:xlabel='date'>"
      ]
     },
     "execution_count": 64,
     "metadata": {},
     "output_type": "execute_result"
    },
    {
     "data": {
      "image/png": "[encoded data removed]",
      "text/plain": [
       "<Figure size 432x288 with 1 Axes>"
      ]
     },
     "metadata": {
      "needs_background": "light"
     },
     "output_type": "display_data"
    }
   ],
   "source": [
    "data_subset = appliance_series.loc['2016-4-04':'2016-4-11']\n",
    "data_subset.plot(y = 'Occupancy')"
   ]
  },
  {
   "cell_type": "markdown",
   "id": "550bd404",
   "metadata": {
    "cell_style": "split",
    "slideshow": {
     "slide_type": "fragment"
    }
   },
   "source": [
    "There is a lot of data here:\n",
    "- Frequency of sampling: every 10 minutes.\n",
    "- Maybe for a specific task: need points only every hour"
   ]
  },
  {
   "cell_type": "markdown",
   "id": "c80a290d",
   "metadata": {
    "cell_style": "split",
    "slideshow": {
     "slide_type": "fragment"
    }
   },
   "source": [
    "- E.g., another time series only has hourly samples. Want to compare time series.\n",
    "- Too much data: hard to store and already have enough data when sampled every hour."
   ]
  },
  {
   "cell_type": "markdown",
   "id": "7550822c",
   "metadata": {
    "slideshow": {
     "slide_type": "slide"
    }
   },
   "source": [
    "#### Resampling "
   ]
  },
  {
   "cell_type": "markdown",
   "id": "493aab89",
   "metadata": {
    "cell_style": "split",
    "slideshow": {
     "slide_type": "slide"
    }
   },
   "source": [
    "**Down-sampling**\n",
    "\n",
    "- series and dateframes indexed by datetime can be resampled\n",
    "- .resample(): takes in string argument for sampling frequency"
   ]
  },
  {
   "cell_type": "markdown",
   "id": "4b6db160",
   "metadata": {
    "cell_style": "split",
    "slideshow": {
     "slide_type": "fragment"
    }
   },
   "source": [
    "- '1H': every 1 hour samples\n",
    "- '2H': every 2 hours, etc\n",
    "- 'T': minute frequency\n",
    "- 'S' : second frequency\n",
    "- 'D': daily\n",
    "- 'W': weekly\n",
    "- 'M': monthly\n",
    "\n",
    "For more frequencies:\n",
    "\n",
    "https://pandas.pydata.org/pandas-docs/stable/user_guide/timeseries.html#offset-aliases"
   ]
  },
  {
   "cell_type": "code",
   "execution_count": 65,
   "id": "07f868f7",
   "metadata": {
    "cell_style": "center",
    "slideshow": {
     "slide_type": "subslide"
    }
   },
   "outputs": [
    {
     "data": {
      "text/plain": [
       "<pandas.core.resample.DatetimeIndexResampler object at 0x000001CED670A580>"
      ]
     },
     "execution_count": 65,
     "metadata": {},
     "output_type": "execute_result"
    }
   ],
   "source": [
    "# hourly samples: downsamping from every 10 minutes\n",
    "data_subset.resample('1H')"
   ]
  },
  {
   "cell_type": "markdown",
   "id": "10157345",
   "metadata": {
    "cell_style": "split",
    "slideshow": {
     "slide_type": "fragment"
    }
   },
   "source": [
    "Creates a resampler object:\n",
    "- with downsampling need to aggregate\n",
    "- aggregates on data points within one hour interval"
   ]
  },
  {
   "cell_type": "markdown",
   "id": "b8d3c12b",
   "metadata": {
    "cell_style": "split",
    "slideshow": {
     "slide_type": "fragment"
    }
   },
   "source": [
    "Aggregating with mean via chaining:"
   ]
  },
  {
   "cell_type": "code",
   "execution_count": 66,
   "id": "9e69d001",
   "metadata": {
    "cell_style": "split",
    "slideshow": {
     "slide_type": "-"
    }
   },
   "outputs": [],
   "source": [
    "# time series of hourly mean of appliance usage\n",
    "data_subset_downsamp = \\\n",
    "data_subset.resample('1H').mean()"
   ]
  },
  {
   "cell_type": "markdown",
   "id": "86693175",
   "metadata": {
    "slideshow": {
     "slide_type": "subslide"
    }
   },
   "source": [
    "The usual aggregation functions are available:\n",
    "- exactly same as with groupby\n",
    "- .mean(), .std(), .median(). etc\n",
    "- .agg(func) for customized aggregation"
   ]
  },
  {
   "cell_type": "markdown",
   "id": "7397d116",
   "metadata": {
    "slideshow": {
     "slide_type": "slide"
    }
   },
   "source": [
    "Comparing the downsampled and original data"
   ]
  },
  {
   "cell_type": "code",
   "execution_count": 67,
   "id": "197a536e",
   "metadata": {
    "cell_style": "split",
    "slideshow": {
     "slide_type": "subslide"
    }
   },
   "outputs": [
    {
     "data": {
      "text/plain": [
       "date\n",
       "2016-04-04 00:00:00     58.333333\n",
       "2016-04-04 01:00:00     56.666667\n",
       "2016-04-04 02:00:00     46.666667\n",
       "2016-04-04 03:00:00     56.666667\n",
       "2016-04-04 04:00:00     58.333333\n",
       "                          ...    \n",
       "2016-04-11 19:00:00    121.666667\n",
       "2016-04-11 20:00:00    106.666667\n",
       "2016-04-11 21:00:00     73.333333\n",
       "2016-04-11 22:00:00     61.666667\n",
       "2016-04-11 23:00:00     55.000000\n",
       "Freq: H, Name: Appliances, Length: 192, dtype: float64"
      ]
     },
     "execution_count": 67,
     "metadata": {},
     "output_type": "execute_result"
    }
   ],
   "source": [
    "data_subset_downsamp"
   ]
  },
  {
   "cell_type": "code",
   "execution_count": 68,
   "id": "8441aabd",
   "metadata": {
    "cell_style": "split",
    "slideshow": {
     "slide_type": "fragment"
    }
   },
   "outputs": [
    {
     "data": {
      "text/plain": [
       "date\n",
       "2016-04-04 00:00:00    50\n",
       "2016-04-04 00:10:00    60\n",
       "2016-04-04 00:20:00    50\n",
       "2016-04-04 00:30:00    70\n",
       "2016-04-04 00:40:00    70\n",
       "                       ..\n",
       "2016-04-11 23:10:00    60\n",
       "2016-04-11 23:20:00    50\n",
       "2016-04-11 23:30:00    60\n",
       "2016-04-11 23:40:00    50\n",
       "2016-04-11 23:50:00    50\n",
       "Name: Appliances, Length: 1152, dtype: int64"
      ]
     },
     "execution_count": 68,
     "metadata": {},
     "output_type": "execute_result"
    }
   ],
   "source": [
    "data_subset"
   ]
  },
  {
   "cell_type": "markdown",
   "id": "782688f4",
   "metadata": {
    "slideshow": {
     "slide_type": "slide"
    }
   },
   "source": [
    "Plotting the data of the downsampled data vs. actual data:"
   ]
  },
  {
   "cell_type": "code",
   "execution_count": 69,
   "id": "19458789",
   "metadata": {
    "cell_style": "split",
    "slideshow": {
     "slide_type": "fragment"
    }
   },
   "outputs": [
    {
     "data": {
      "text/plain": [
       "<AxesSubplot:xlabel='date'>"
      ]
     },
     "execution_count": 69,
     "metadata": {},
     "output_type": "execute_result"
    },
    {
     "data": {
      "image/png": "[encoded data removed]",
      "text/plain": [
       "<Figure size 432x288 with 1 Axes>"
      ]
     },
     "metadata": {
      "needs_background": "light"
     },
     "output_type": "display_data"
    }
   ],
   "source": [
    "# down sampled data\n",
    "data_subset_downsamp.plot()"
   ]
  },
  {
   "cell_type": "code",
   "execution_count": 70,
   "id": "f924f886",
   "metadata": {
    "cell_style": "split",
    "slideshow": {
     "slide_type": "fragment"
    }
   },
   "outputs": [
    {
     "data": {
      "text/plain": [
       "<AxesSubplot:xlabel='date'>"
      ]
     },
     "execution_count": 70,
     "metadata": {},
     "output_type": "execute_result"
    },
    {
     "data": {
      "image/png": "[encoded data removed]",
      "text/plain": [
       "<Figure size 432x288 with 1 Axes>"
      ]
     },
     "metadata": {
      "needs_background": "light"
     },
     "output_type": "display_data"
    }
   ],
   "source": [
    "# original data\n",
    "data_subset.plot()"
   ]
  },
  {
   "cell_type": "markdown",
   "id": "42513fe9",
   "metadata": {
    "cell_style": "split",
    "slideshow": {
     "slide_type": "fragment"
    }
   },
   "source": [
    "Reproduces many of the longer term features:\n",
    "- averages out finer spiking as a function of time"
   ]
  },
  {
   "cell_type": "markdown",
   "id": "bac19ef8",
   "metadata": {
    "cell_style": "split",
    "slideshow": {
     "slide_type": "fragment"
    }
   },
   "source": [
    "Be careful when downsampling:\n",
    "- aggregating can throw out useful information\n",
    "- but maybe fine for your use case"
   ]
  },
  {
   "cell_type": "markdown",
   "id": "43b9c504",
   "metadata": {
    "slideshow": {
     "slide_type": "slide"
    }
   },
   "source": [
    "**Upsampling**"
   ]
  },
  {
   "cell_type": "markdown",
   "id": "f0ef6de5",
   "metadata": {
    "slideshow": {
     "slide_type": "-"
    }
   },
   "source": [
    "We may want to know local weather conditions:\n",
    "- local airport has windspeed and temperature data\n",
    "- merge it with energy usage data"
   ]
  },
  {
   "cell_type": "code",
   "execution_count": 83,
   "id": "36204c54",
   "metadata": {
    "cell_style": "split",
    "slideshow": {
     "slide_type": "fragment"
    }
   },
   "outputs": [
    {
     "data": {
      "text/html": [
       "<div>\n",
       "<style scoped>\n",
       "    .dataframe tbody tr th:only-of-type {\n",
       "        vertical-align: middle;\n",
       "    }\n",
       "\n",
       "    .dataframe tbody tr th {\n",
       "        vertical-align: top;\n",
       "    }\n",
       "\n",
       "    .dataframe thead th {\n",
       "        text-align: right;\n",
       "    }\n",
       "</style>\n",
       "<table border=\"1\" class=\"dataframe\">\n",
       "  <thead>\n",
       "    <tr style=\"text-align: right;\">\n",
       "      <th></th>\n",
       "      <th>date</th>\n",
       "      <th>Windspeed</th>\n",
       "      <th>T_out</th>\n",
       "    </tr>\n",
       "  </thead>\n",
       "  <tbody>\n",
       "    <tr>\n",
       "      <th>0</th>\n",
       "      <td>2016-01-11 17:00:00</td>\n",
       "      <td>6.666667</td>\n",
       "      <td>6.483333</td>\n",
       "    </tr>\n",
       "    <tr>\n",
       "      <th>1</th>\n",
       "      <td>2016-01-11 17:30:00</td>\n",
       "      <td>5.666667</td>\n",
       "      <td>6.133333</td>\n",
       "    </tr>\n",
       "    <tr>\n",
       "      <th>2</th>\n",
       "      <td>2016-01-11 18:00:00</td>\n",
       "      <td>5.166667</td>\n",
       "      <td>5.916667</td>\n",
       "    </tr>\n",
       "    <tr>\n",
       "      <th>3</th>\n",
       "      <td>2016-01-11 18:30:00</td>\n",
       "      <td>5.666667</td>\n",
       "      <td>5.966667</td>\n",
       "    </tr>\n",
       "    <tr>\n",
       "      <th>4</th>\n",
       "      <td>2016-01-11 19:00:00</td>\n",
       "      <td>6.000000</td>\n",
       "      <td>6.000000</td>\n",
       "    </tr>\n",
       "  </tbody>\n",
       "</table>\n",
       "</div>"
      ],
      "text/plain": [
       "                 date  Windspeed     T_out\n",
       "0 2016-01-11 17:00:00   6.666667  6.483333\n",
       "1 2016-01-11 17:30:00   5.666667  6.133333\n",
       "2 2016-01-11 18:00:00   5.166667  5.916667\n",
       "3 2016-01-11 18:30:00   5.666667  5.966667\n",
       "4 2016-01-11 19:00:00   6.000000  6.000000"
      ]
     },
     "execution_count": 83,
     "metadata": {},
     "output_type": "execute_result"
    }
   ],
   "source": [
    "weather_df = pd.read_csv('data/weather.csv')\n",
    "weather_df.head()\n",
    "\n",
    "weather_df.date = pd.to_datetime(weather_df.date)\n",
    "weather_df.head()"
   ]
  },
  {
   "cell_type": "markdown",
   "id": "baf3a862",
   "metadata": {
    "cell_style": "split",
    "slideshow": {
     "slide_type": "fragment"
    }
   },
   "source": [
    "Problem: \n",
    "- Weather sampled every 30 minutes. \n",
    "- Energy usage data is sampled every 10 mins."
   ]
  },
  {
   "cell_type": "code",
   "execution_count": 90,
   "id": "42c78365",
   "metadata": {
    "cell_style": "split",
    "scrolled": false,
    "slideshow": {
     "slide_type": "-"
    }
   },
   "outputs": [
    {
     "data": {
      "text/html": [
       "<div>\n",
       "<style scoped>\n",
       "    .dataframe tbody tr th:only-of-type {\n",
       "        vertical-align: middle;\n",
       "    }\n",
       "\n",
       "    .dataframe tbody tr th {\n",
       "        vertical-align: top;\n",
       "    }\n",
       "\n",
       "    .dataframe thead th {\n",
       "        text-align: right;\n",
       "    }\n",
       "</style>\n",
       "<table border=\"1\" class=\"dataframe\">\n",
       "  <thead>\n",
       "    <tr style=\"text-align: right;\">\n",
       "      <th></th>\n",
       "      <th>date</th>\n",
       "      <th>Appliances</th>\n",
       "      <th>lights</th>\n",
       "    </tr>\n",
       "  </thead>\n",
       "  <tbody>\n",
       "    <tr>\n",
       "      <th>0</th>\n",
       "      <td>2016-01-11 17:00:00</td>\n",
       "      <td>60</td>\n",
       "      <td>30</td>\n",
       "    </tr>\n",
       "    <tr>\n",
       "      <th>1</th>\n",
       "      <td>2016-01-11 17:10:00</td>\n",
       "      <td>60</td>\n",
       "      <td>30</td>\n",
       "    </tr>\n",
       "    <tr>\n",
       "      <th>2</th>\n",
       "      <td>2016-01-11 17:20:00</td>\n",
       "      <td>50</td>\n",
       "      <td>30</td>\n",
       "    </tr>\n",
       "    <tr>\n",
       "      <th>3</th>\n",
       "      <td>2016-01-11 17:30:00</td>\n",
       "      <td>50</td>\n",
       "      <td>40</td>\n",
       "    </tr>\n",
       "    <tr>\n",
       "      <th>4</th>\n",
       "      <td>2016-01-11 17:40:00</td>\n",
       "      <td>60</td>\n",
       "      <td>40</td>\n",
       "    </tr>\n",
       "    <tr>\n",
       "      <th>...</th>\n",
       "      <td>...</td>\n",
       "      <td>...</td>\n",
       "      <td>...</td>\n",
       "    </tr>\n",
       "    <tr>\n",
       "      <th>19730</th>\n",
       "      <td>2016-05-27 17:20:00</td>\n",
       "      <td>100</td>\n",
       "      <td>0</td>\n",
       "    </tr>\n",
       "    <tr>\n",
       "      <th>19731</th>\n",
       "      <td>2016-05-27 17:30:00</td>\n",
       "      <td>90</td>\n",
       "      <td>0</td>\n",
       "    </tr>\n",
       "    <tr>\n",
       "      <th>19732</th>\n",
       "      <td>2016-05-27 17:40:00</td>\n",
       "      <td>270</td>\n",
       "      <td>10</td>\n",
       "    </tr>\n",
       "    <tr>\n",
       "      <th>19733</th>\n",
       "      <td>2016-05-27 17:50:00</td>\n",
       "      <td>420</td>\n",
       "      <td>10</td>\n",
       "    </tr>\n",
       "    <tr>\n",
       "      <th>19734</th>\n",
       "      <td>2016-05-27 18:00:00</td>\n",
       "      <td>430</td>\n",
       "      <td>10</td>\n",
       "    </tr>\n",
       "  </tbody>\n",
       "</table>\n",
       "<p>19735 rows × 3 columns</p>\n",
       "</div>"
      ],
      "text/plain": [
       "                     date  Appliances  lights\n",
       "0     2016-01-11 17:00:00          60      30\n",
       "1     2016-01-11 17:10:00          60      30\n",
       "2     2016-01-11 17:20:00          50      30\n",
       "3     2016-01-11 17:30:00          50      40\n",
       "4     2016-01-11 17:40:00          60      40\n",
       "...                   ...         ...     ...\n",
       "19730 2016-05-27 17:20:00         100       0\n",
       "19731 2016-05-27 17:30:00          90       0\n",
       "19732 2016-05-27 17:40:00         270      10\n",
       "19733 2016-05-27 17:50:00         420      10\n",
       "19734 2016-05-27 18:00:00         430      10\n",
       "\n",
       "[19735 rows x 3 columns]"
      ]
     },
     "execution_count": 90,
     "metadata": {},
     "output_type": "execute_result"
    }
   ],
   "source": [
    "energy_data_df"
   ]
  },
  {
   "cell_type": "markdown",
   "id": "5c4de30f",
   "metadata": {
    "slideshow": {
     "slide_type": "slide"
    }
   },
   "source": [
    "#### Ordered Merges"
   ]
  },
  {
   "cell_type": "markdown",
   "id": "f4ff3184",
   "metadata": {
    "cell_style": "split",
    "slideshow": {
     "slide_type": "subslide"
    }
   },
   "source": [
    "First step is to merge the dataset:\n",
    "- merge two dataframes on a date-time ordered column\n",
    "- preserving order of observations"
   ]
  },
  {
   "cell_type": "markdown",
   "id": "f8cee88a",
   "metadata": {
    "cell_style": "split",
    "slideshow": {
     "slide_type": "fragment"
    }
   },
   "source": [
    "Can't do a standard merge:\n",
    "- need ordered merge\n",
    "\n",
    "pandas.merge_ordered(left, right, on=None, left_on=None, right_on=None, left_by=None, how='outer')"
   ]
  },
  {
   "cell_type": "code",
   "execution_count": 89,
   "id": "cbf21b22",
   "metadata": {
    "slideshow": {
     "slide_type": "fragment"
    }
   },
   "outputs": [
    {
     "data": {
      "text/html": [
       "<div>\n",
       "<style scoped>\n",
       "    .dataframe tbody tr th:only-of-type {\n",
       "        vertical-align: middle;\n",
       "    }\n",
       "\n",
       "    .dataframe tbody tr th {\n",
       "        vertical-align: top;\n",
       "    }\n",
       "\n",
       "    .dataframe thead th {\n",
       "        text-align: right;\n",
       "    }\n",
       "</style>\n",
       "<table border=\"1\" class=\"dataframe\">\n",
       "  <thead>\n",
       "    <tr style=\"text-align: right;\">\n",
       "      <th></th>\n",
       "      <th>Appliances</th>\n",
       "      <th>lights</th>\n",
       "      <th>Windspeed</th>\n",
       "      <th>T_out</th>\n",
       "    </tr>\n",
       "    <tr>\n",
       "      <th>date</th>\n",
       "      <th></th>\n",
       "      <th></th>\n",
       "      <th></th>\n",
       "      <th></th>\n",
       "    </tr>\n",
       "  </thead>\n",
       "  <tbody>\n",
       "    <tr>\n",
       "      <th>2016-01-11 17:00:00</th>\n",
       "      <td>60</td>\n",
       "      <td>30</td>\n",
       "      <td>6.666667</td>\n",
       "      <td>6.483333</td>\n",
       "    </tr>\n",
       "    <tr>\n",
       "      <th>2016-01-11 17:10:00</th>\n",
       "      <td>60</td>\n",
       "      <td>30</td>\n",
       "      <td>NaN</td>\n",
       "      <td>NaN</td>\n",
       "    </tr>\n",
       "    <tr>\n",
       "      <th>2016-01-11 17:20:00</th>\n",
       "      <td>50</td>\n",
       "      <td>30</td>\n",
       "      <td>NaN</td>\n",
       "      <td>NaN</td>\n",
       "    </tr>\n",
       "    <tr>\n",
       "      <th>2016-01-11 17:30:00</th>\n",
       "      <td>50</td>\n",
       "      <td>40</td>\n",
       "      <td>5.666667</td>\n",
       "      <td>6.133333</td>\n",
       "    </tr>\n",
       "    <tr>\n",
       "      <th>2016-01-11 17:40:00</th>\n",
       "      <td>60</td>\n",
       "      <td>40</td>\n",
       "      <td>NaN</td>\n",
       "      <td>NaN</td>\n",
       "    </tr>\n",
       "  </tbody>\n",
       "</table>\n",
       "</div>"
      ],
      "text/plain": [
       "                     Appliances  lights  Windspeed     T_out\n",
       "date                                                        \n",
       "2016-01-11 17:00:00          60      30   6.666667  6.483333\n",
       "2016-01-11 17:10:00          60      30        NaN       NaN\n",
       "2016-01-11 17:20:00          50      30        NaN       NaN\n",
       "2016-01-11 17:30:00          50      40   5.666667  6.133333\n",
       "2016-01-11 17:40:00          60      40        NaN       NaN"
      ]
     },
     "execution_count": 89,
     "metadata": {},
     "output_type": "execute_result"
    }
   ],
   "source": [
    "# columns in each dataframe that are merged on must be ordered\n",
    "# datetime automatically satisfies this\n",
    "combined_data = pd.merge_ordered(energy_data_df, weather_df, on = 'date', how = 'outer') # usually will use outer join\n",
    "combined_data.set_index('date', inplace = True)\n",
    "combined_data.head()"
   ]
  },
  {
   "cell_type": "markdown",
   "id": "f4355afb",
   "metadata": {
    "cell_style": "split",
    "slideshow": {
     "slide_type": "fragment"
    }
   },
   "source": [
    "Can downsample energy usage data to 30 min intervals: \n",
    "- but may actually want this data at 10 min intervals.\n"
   ]
  },
  {
   "cell_type": "markdown",
   "id": "23ce0959",
   "metadata": {
    "cell_style": "split",
    "slideshow": {
     "slide_type": "fragment"
    }
   },
   "source": [
    "Can **upsample** weather data to 10 min frequency:\n",
    "- if between every 30 min, expect time series behaves relatively smoothly"
   ]
  },
  {
   "cell_type": "markdown",
   "id": "cdac6c70",
   "metadata": {
    "cell_style": "split",
    "slideshow": {
     "slide_type": "slide"
    }
   },
   "source": [
    "Let's upsample by filling in NaN values. Sequential data has multiple relevant imputation methods:\n",
    "- .ffill() \n",
    "- .bfill()\n",
    "- .interpolate()"
   ]
  },
  {
   "cell_type": "markdown",
   "id": "1207ea3b",
   "metadata": {
    "cell_style": "split",
    "slideshow": {
     "slide_type": "fragment"
    }
   },
   "source": [
    "- Fill series forward from last non-NaN value.\n",
    "- Fill series backwards from last non-NaN value in reverse direction.\n",
    "- Linear (by default) interpolation between non-NaNs"
   ]
  },
  {
   "cell_type": "markdown",
   "id": "efe8ca96",
   "metadata": {
    "cell_style": "center",
    "slideshow": {
     "slide_type": "slide"
    }
   },
   "source": [
    "**.ffill()**\n",
    "\n",
    "Forward fills NaNs from last non-empty value"
   ]
  },
  {
   "cell_type": "code",
   "execution_count": 94,
   "id": "2623affd",
   "metadata": {
    "cell_style": "split",
    "slideshow": {
     "slide_type": "fragment"
    }
   },
   "outputs": [
    {
     "data": {
      "text/html": [
       "<div>\n",
       "<style scoped>\n",
       "    .dataframe tbody tr th:only-of-type {\n",
       "        vertical-align: middle;\n",
       "    }\n",
       "\n",
       "    .dataframe tbody tr th {\n",
       "        vertical-align: top;\n",
       "    }\n",
       "\n",
       "    .dataframe thead th {\n",
       "        text-align: right;\n",
       "    }\n",
       "</style>\n",
       "<table border=\"1\" class=\"dataframe\">\n",
       "  <thead>\n",
       "    <tr style=\"text-align: right;\">\n",
       "      <th></th>\n",
       "      <th>Appliances</th>\n",
       "      <th>lights</th>\n",
       "      <th>Windspeed</th>\n",
       "      <th>T_out</th>\n",
       "    </tr>\n",
       "    <tr>\n",
       "      <th>date</th>\n",
       "      <th></th>\n",
       "      <th></th>\n",
       "      <th></th>\n",
       "      <th></th>\n",
       "    </tr>\n",
       "  </thead>\n",
       "  <tbody>\n",
       "    <tr>\n",
       "      <th>2016-01-11 17:00:00</th>\n",
       "      <td>60</td>\n",
       "      <td>30</td>\n",
       "      <td>6.666667</td>\n",
       "      <td>6.483333</td>\n",
       "    </tr>\n",
       "    <tr>\n",
       "      <th>2016-01-11 17:10:00</th>\n",
       "      <td>60</td>\n",
       "      <td>30</td>\n",
       "      <td>NaN</td>\n",
       "      <td>NaN</td>\n",
       "    </tr>\n",
       "    <tr>\n",
       "      <th>2016-01-11 17:20:00</th>\n",
       "      <td>50</td>\n",
       "      <td>30</td>\n",
       "      <td>NaN</td>\n",
       "      <td>NaN</td>\n",
       "    </tr>\n",
       "    <tr>\n",
       "      <th>2016-01-11 17:30:00</th>\n",
       "      <td>50</td>\n",
       "      <td>40</td>\n",
       "      <td>5.666667</td>\n",
       "      <td>6.133333</td>\n",
       "    </tr>\n",
       "    <tr>\n",
       "      <th>2016-01-11 17:40:00</th>\n",
       "      <td>60</td>\n",
       "      <td>40</td>\n",
       "      <td>NaN</td>\n",
       "      <td>NaN</td>\n",
       "    </tr>\n",
       "    <tr>\n",
       "      <th>...</th>\n",
       "      <td>...</td>\n",
       "      <td>...</td>\n",
       "      <td>...</td>\n",
       "      <td>...</td>\n",
       "    </tr>\n",
       "    <tr>\n",
       "      <th>2016-05-27 17:20:00</th>\n",
       "      <td>100</td>\n",
       "      <td>0</td>\n",
       "      <td>NaN</td>\n",
       "      <td>NaN</td>\n",
       "    </tr>\n",
       "    <tr>\n",
       "      <th>2016-05-27 17:30:00</th>\n",
       "      <td>90</td>\n",
       "      <td>0</td>\n",
       "      <td>3.666667</td>\n",
       "      <td>22.466667</td>\n",
       "    </tr>\n",
       "    <tr>\n",
       "      <th>2016-05-27 17:40:00</th>\n",
       "      <td>270</td>\n",
       "      <td>10</td>\n",
       "      <td>NaN</td>\n",
       "      <td>NaN</td>\n",
       "    </tr>\n",
       "    <tr>\n",
       "      <th>2016-05-27 17:50:00</th>\n",
       "      <td>420</td>\n",
       "      <td>10</td>\n",
       "      <td>NaN</td>\n",
       "      <td>NaN</td>\n",
       "    </tr>\n",
       "    <tr>\n",
       "      <th>2016-05-27 18:00:00</th>\n",
       "      <td>430</td>\n",
       "      <td>10</td>\n",
       "      <td>4.000000</td>\n",
       "      <td>22.200000</td>\n",
       "    </tr>\n",
       "  </tbody>\n",
       "</table>\n",
       "<p>19735 rows × 4 columns</p>\n",
       "</div>"
      ],
      "text/plain": [
       "                     Appliances  lights  Windspeed      T_out\n",
       "date                                                         \n",
       "2016-01-11 17:00:00          60      30   6.666667   6.483333\n",
       "2016-01-11 17:10:00          60      30        NaN        NaN\n",
       "2016-01-11 17:20:00          50      30        NaN        NaN\n",
       "2016-01-11 17:30:00          50      40   5.666667   6.133333\n",
       "2016-01-11 17:40:00          60      40        NaN        NaN\n",
       "...                         ...     ...        ...        ...\n",
       "2016-05-27 17:20:00         100       0        NaN        NaN\n",
       "2016-05-27 17:30:00          90       0   3.666667  22.466667\n",
       "2016-05-27 17:40:00         270      10        NaN        NaN\n",
       "2016-05-27 17:50:00         420      10        NaN        NaN\n",
       "2016-05-27 18:00:00         430      10   4.000000  22.200000\n",
       "\n",
       "[19735 rows x 4 columns]"
      ]
     },
     "execution_count": 94,
     "metadata": {},
     "output_type": "execute_result"
    }
   ],
   "source": [
    "combined_data"
   ]
  },
  {
   "cell_type": "code",
   "execution_count": 96,
   "id": "a1b56ff7",
   "metadata": {
    "cell_style": "split"
   },
   "outputs": [
    {
     "data": {
      "text/html": [
       "<div>\n",
       "<style scoped>\n",
       "    .dataframe tbody tr th:only-of-type {\n",
       "        vertical-align: middle;\n",
       "    }\n",
       "\n",
       "    .dataframe tbody tr th {\n",
       "        vertical-align: top;\n",
       "    }\n",
       "\n",
       "    .dataframe thead th {\n",
       "        text-align: right;\n",
       "    }\n",
       "</style>\n",
       "<table border=\"1\" class=\"dataframe\">\n",
       "  <thead>\n",
       "    <tr style=\"text-align: right;\">\n",
       "      <th></th>\n",
       "      <th>Appliances</th>\n",
       "      <th>lights</th>\n",
       "      <th>Windspeed</th>\n",
       "      <th>T_out</th>\n",
       "    </tr>\n",
       "    <tr>\n",
       "      <th>date</th>\n",
       "      <th></th>\n",
       "      <th></th>\n",
       "      <th></th>\n",
       "      <th></th>\n",
       "    </tr>\n",
       "  </thead>\n",
       "  <tbody>\n",
       "    <tr>\n",
       "      <th>2016-01-11 17:00:00</th>\n",
       "      <td>60</td>\n",
       "      <td>30</td>\n",
       "      <td>6.666667</td>\n",
       "      <td>6.483333</td>\n",
       "    </tr>\n",
       "    <tr>\n",
       "      <th>2016-01-11 17:10:00</th>\n",
       "      <td>60</td>\n",
       "      <td>30</td>\n",
       "      <td>6.666667</td>\n",
       "      <td>6.483333</td>\n",
       "    </tr>\n",
       "    <tr>\n",
       "      <th>2016-01-11 17:20:00</th>\n",
       "      <td>50</td>\n",
       "      <td>30</td>\n",
       "      <td>6.666667</td>\n",
       "      <td>6.483333</td>\n",
       "    </tr>\n",
       "    <tr>\n",
       "      <th>2016-01-11 17:30:00</th>\n",
       "      <td>50</td>\n",
       "      <td>40</td>\n",
       "      <td>5.666667</td>\n",
       "      <td>6.133333</td>\n",
       "    </tr>\n",
       "    <tr>\n",
       "      <th>2016-01-11 17:40:00</th>\n",
       "      <td>60</td>\n",
       "      <td>40</td>\n",
       "      <td>5.666667</td>\n",
       "      <td>6.133333</td>\n",
       "    </tr>\n",
       "    <tr>\n",
       "      <th>...</th>\n",
       "      <td>...</td>\n",
       "      <td>...</td>\n",
       "      <td>...</td>\n",
       "      <td>...</td>\n",
       "    </tr>\n",
       "    <tr>\n",
       "      <th>2016-05-27 17:20:00</th>\n",
       "      <td>100</td>\n",
       "      <td>0</td>\n",
       "      <td>3.166667</td>\n",
       "      <td>22.866667</td>\n",
       "    </tr>\n",
       "    <tr>\n",
       "      <th>2016-05-27 17:30:00</th>\n",
       "      <td>90</td>\n",
       "      <td>0</td>\n",
       "      <td>3.666667</td>\n",
       "      <td>22.466667</td>\n",
       "    </tr>\n",
       "    <tr>\n",
       "      <th>2016-05-27 17:40:00</th>\n",
       "      <td>270</td>\n",
       "      <td>10</td>\n",
       "      <td>3.666667</td>\n",
       "      <td>22.466667</td>\n",
       "    </tr>\n",
       "    <tr>\n",
       "      <th>2016-05-27 17:50:00</th>\n",
       "      <td>420</td>\n",
       "      <td>10</td>\n",
       "      <td>3.666667</td>\n",
       "      <td>22.466667</td>\n",
       "    </tr>\n",
       "    <tr>\n",
       "      <th>2016-05-27 18:00:00</th>\n",
       "      <td>430</td>\n",
       "      <td>10</td>\n",
       "      <td>4.000000</td>\n",
       "      <td>22.200000</td>\n",
       "    </tr>\n",
       "  </tbody>\n",
       "</table>\n",
       "<p>19735 rows × 4 columns</p>\n",
       "</div>"
      ],
      "text/plain": [
       "                     Appliances  lights  Windspeed      T_out\n",
       "date                                                         \n",
       "2016-01-11 17:00:00          60      30   6.666667   6.483333\n",
       "2016-01-11 17:10:00          60      30   6.666667   6.483333\n",
       "2016-01-11 17:20:00          50      30   6.666667   6.483333\n",
       "2016-01-11 17:30:00          50      40   5.666667   6.133333\n",
       "2016-01-11 17:40:00          60      40   5.666667   6.133333\n",
       "...                         ...     ...        ...        ...\n",
       "2016-05-27 17:20:00         100       0   3.166667  22.866667\n",
       "2016-05-27 17:30:00          90       0   3.666667  22.466667\n",
       "2016-05-27 17:40:00         270      10   3.666667  22.466667\n",
       "2016-05-27 17:50:00         420      10   3.666667  22.466667\n",
       "2016-05-27 18:00:00         430      10   4.000000  22.200000\n",
       "\n",
       "[19735 rows x 4 columns]"
      ]
     },
     "execution_count": 96,
     "metadata": {},
     "output_type": "execute_result"
    }
   ],
   "source": [
    "combined_data.ffill()"
   ]
  },
  {
   "cell_type": "markdown",
   "id": "8012fdea",
   "metadata": {
    "slideshow": {
     "slide_type": "slide"
    }
   },
   "source": [
    "**.bfill()**\n",
    "\n",
    "Backwards fills from first value non-empty after a sequence of NaNs"
   ]
  },
  {
   "cell_type": "code",
   "execution_count": 98,
   "id": "1b20a575",
   "metadata": {
    "cell_style": "split",
    "slideshow": {
     "slide_type": "fragment"
    }
   },
   "outputs": [
    {
     "data": {
      "text/html": [
       "<div>\n",
       "<style scoped>\n",
       "    .dataframe tbody tr th:only-of-type {\n",
       "        vertical-align: middle;\n",
       "    }\n",
       "\n",
       "    .dataframe tbody tr th {\n",
       "        vertical-align: top;\n",
       "    }\n",
       "\n",
       "    .dataframe thead th {\n",
       "        text-align: right;\n",
       "    }\n",
       "</style>\n",
       "<table border=\"1\" class=\"dataframe\">\n",
       "  <thead>\n",
       "    <tr style=\"text-align: right;\">\n",
       "      <th></th>\n",
       "      <th>Appliances</th>\n",
       "      <th>lights</th>\n",
       "      <th>Windspeed</th>\n",
       "      <th>T_out</th>\n",
       "    </tr>\n",
       "    <tr>\n",
       "      <th>date</th>\n",
       "      <th></th>\n",
       "      <th></th>\n",
       "      <th></th>\n",
       "      <th></th>\n",
       "    </tr>\n",
       "  </thead>\n",
       "  <tbody>\n",
       "    <tr>\n",
       "      <th>2016-01-11 17:00:00</th>\n",
       "      <td>60</td>\n",
       "      <td>30</td>\n",
       "      <td>6.666667</td>\n",
       "      <td>6.483333</td>\n",
       "    </tr>\n",
       "    <tr>\n",
       "      <th>2016-01-11 17:10:00</th>\n",
       "      <td>60</td>\n",
       "      <td>30</td>\n",
       "      <td>NaN</td>\n",
       "      <td>NaN</td>\n",
       "    </tr>\n",
       "    <tr>\n",
       "      <th>2016-01-11 17:20:00</th>\n",
       "      <td>50</td>\n",
       "      <td>30</td>\n",
       "      <td>NaN</td>\n",
       "      <td>NaN</td>\n",
       "    </tr>\n",
       "    <tr>\n",
       "      <th>2016-01-11 17:30:00</th>\n",
       "      <td>50</td>\n",
       "      <td>40</td>\n",
       "      <td>5.666667</td>\n",
       "      <td>6.133333</td>\n",
       "    </tr>\n",
       "    <tr>\n",
       "      <th>2016-01-11 17:40:00</th>\n",
       "      <td>60</td>\n",
       "      <td>40</td>\n",
       "      <td>NaN</td>\n",
       "      <td>NaN</td>\n",
       "    </tr>\n",
       "    <tr>\n",
       "      <th>...</th>\n",
       "      <td>...</td>\n",
       "      <td>...</td>\n",
       "      <td>...</td>\n",
       "      <td>...</td>\n",
       "    </tr>\n",
       "    <tr>\n",
       "      <th>2016-05-27 17:20:00</th>\n",
       "      <td>100</td>\n",
       "      <td>0</td>\n",
       "      <td>NaN</td>\n",
       "      <td>NaN</td>\n",
       "    </tr>\n",
       "    <tr>\n",
       "      <th>2016-05-27 17:30:00</th>\n",
       "      <td>90</td>\n",
       "      <td>0</td>\n",
       "      <td>3.666667</td>\n",
       "      <td>22.466667</td>\n",
       "    </tr>\n",
       "    <tr>\n",
       "      <th>2016-05-27 17:40:00</th>\n",
       "      <td>270</td>\n",
       "      <td>10</td>\n",
       "      <td>NaN</td>\n",
       "      <td>NaN</td>\n",
       "    </tr>\n",
       "    <tr>\n",
       "      <th>2016-05-27 17:50:00</th>\n",
       "      <td>420</td>\n",
       "      <td>10</td>\n",
       "      <td>NaN</td>\n",
       "      <td>NaN</td>\n",
       "    </tr>\n",
       "    <tr>\n",
       "      <th>2016-05-27 18:00:00</th>\n",
       "      <td>430</td>\n",
       "      <td>10</td>\n",
       "      <td>4.000000</td>\n",
       "      <td>22.200000</td>\n",
       "    </tr>\n",
       "  </tbody>\n",
       "</table>\n",
       "<p>19735 rows × 4 columns</p>\n",
       "</div>"
      ],
      "text/plain": [
       "                     Appliances  lights  Windspeed      T_out\n",
       "date                                                         \n",
       "2016-01-11 17:00:00          60      30   6.666667   6.483333\n",
       "2016-01-11 17:10:00          60      30        NaN        NaN\n",
       "2016-01-11 17:20:00          50      30        NaN        NaN\n",
       "2016-01-11 17:30:00          50      40   5.666667   6.133333\n",
       "2016-01-11 17:40:00          60      40        NaN        NaN\n",
       "...                         ...     ...        ...        ...\n",
       "2016-05-27 17:20:00         100       0        NaN        NaN\n",
       "2016-05-27 17:30:00          90       0   3.666667  22.466667\n",
       "2016-05-27 17:40:00         270      10        NaN        NaN\n",
       "2016-05-27 17:50:00         420      10        NaN        NaN\n",
       "2016-05-27 18:00:00         430      10   4.000000  22.200000\n",
       "\n",
       "[19735 rows x 4 columns]"
      ]
     },
     "execution_count": 98,
     "metadata": {},
     "output_type": "execute_result"
    }
   ],
   "source": [
    "combined_data"
   ]
  },
  {
   "cell_type": "code",
   "execution_count": 100,
   "id": "7e02cb55",
   "metadata": {
    "cell_style": "split",
    "slideshow": {
     "slide_type": "fragment"
    }
   },
   "outputs": [
    {
     "data": {
      "text/html": [
       "<div>\n",
       "<style scoped>\n",
       "    .dataframe tbody tr th:only-of-type {\n",
       "        vertical-align: middle;\n",
       "    }\n",
       "\n",
       "    .dataframe tbody tr th {\n",
       "        vertical-align: top;\n",
       "    }\n",
       "\n",
       "    .dataframe thead th {\n",
       "        text-align: right;\n",
       "    }\n",
       "</style>\n",
       "<table border=\"1\" class=\"dataframe\">\n",
       "  <thead>\n",
       "    <tr style=\"text-align: right;\">\n",
       "      <th></th>\n",
       "      <th>Appliances</th>\n",
       "      <th>lights</th>\n",
       "      <th>Windspeed</th>\n",
       "      <th>T_out</th>\n",
       "    </tr>\n",
       "    <tr>\n",
       "      <th>date</th>\n",
       "      <th></th>\n",
       "      <th></th>\n",
       "      <th></th>\n",
       "      <th></th>\n",
       "    </tr>\n",
       "  </thead>\n",
       "  <tbody>\n",
       "    <tr>\n",
       "      <th>2016-01-11 17:00:00</th>\n",
       "      <td>60</td>\n",
       "      <td>30</td>\n",
       "      <td>6.666667</td>\n",
       "      <td>6.483333</td>\n",
       "    </tr>\n",
       "    <tr>\n",
       "      <th>2016-01-11 17:10:00</th>\n",
       "      <td>60</td>\n",
       "      <td>30</td>\n",
       "      <td>5.666667</td>\n",
       "      <td>6.133333</td>\n",
       "    </tr>\n",
       "    <tr>\n",
       "      <th>2016-01-11 17:20:00</th>\n",
       "      <td>50</td>\n",
       "      <td>30</td>\n",
       "      <td>5.666667</td>\n",
       "      <td>6.133333</td>\n",
       "    </tr>\n",
       "    <tr>\n",
       "      <th>2016-01-11 17:30:00</th>\n",
       "      <td>50</td>\n",
       "      <td>40</td>\n",
       "      <td>5.666667</td>\n",
       "      <td>6.133333</td>\n",
       "    </tr>\n",
       "    <tr>\n",
       "      <th>2016-01-11 17:40:00</th>\n",
       "      <td>60</td>\n",
       "      <td>40</td>\n",
       "      <td>5.166667</td>\n",
       "      <td>5.916667</td>\n",
       "    </tr>\n",
       "    <tr>\n",
       "      <th>...</th>\n",
       "      <td>...</td>\n",
       "      <td>...</td>\n",
       "      <td>...</td>\n",
       "      <td>...</td>\n",
       "    </tr>\n",
       "    <tr>\n",
       "      <th>2016-05-27 17:20:00</th>\n",
       "      <td>100</td>\n",
       "      <td>0</td>\n",
       "      <td>3.666667</td>\n",
       "      <td>22.466667</td>\n",
       "    </tr>\n",
       "    <tr>\n",
       "      <th>2016-05-27 17:30:00</th>\n",
       "      <td>90</td>\n",
       "      <td>0</td>\n",
       "      <td>3.666667</td>\n",
       "      <td>22.466667</td>\n",
       "    </tr>\n",
       "    <tr>\n",
       "      <th>2016-05-27 17:40:00</th>\n",
       "      <td>270</td>\n",
       "      <td>10</td>\n",
       "      <td>4.000000</td>\n",
       "      <td>22.200000</td>\n",
       "    </tr>\n",
       "    <tr>\n",
       "      <th>2016-05-27 17:50:00</th>\n",
       "      <td>420</td>\n",
       "      <td>10</td>\n",
       "      <td>4.000000</td>\n",
       "      <td>22.200000</td>\n",
       "    </tr>\n",
       "    <tr>\n",
       "      <th>2016-05-27 18:00:00</th>\n",
       "      <td>430</td>\n",
       "      <td>10</td>\n",
       "      <td>4.000000</td>\n",
       "      <td>22.200000</td>\n",
       "    </tr>\n",
       "  </tbody>\n",
       "</table>\n",
       "<p>19735 rows × 4 columns</p>\n",
       "</div>"
      ],
      "text/plain": [
       "                     Appliances  lights  Windspeed      T_out\n",
       "date                                                         \n",
       "2016-01-11 17:00:00          60      30   6.666667   6.483333\n",
       "2016-01-11 17:10:00          60      30   5.666667   6.133333\n",
       "2016-01-11 17:20:00          50      30   5.666667   6.133333\n",
       "2016-01-11 17:30:00          50      40   5.666667   6.133333\n",
       "2016-01-11 17:40:00          60      40   5.166667   5.916667\n",
       "...                         ...     ...        ...        ...\n",
       "2016-05-27 17:20:00         100       0   3.666667  22.466667\n",
       "2016-05-27 17:30:00          90       0   3.666667  22.466667\n",
       "2016-05-27 17:40:00         270      10   4.000000  22.200000\n",
       "2016-05-27 17:50:00         420      10   4.000000  22.200000\n",
       "2016-05-27 18:00:00         430      10   4.000000  22.200000\n",
       "\n",
       "[19735 rows x 4 columns]"
      ]
     },
     "execution_count": 100,
     "metadata": {},
     "output_type": "execute_result"
    }
   ],
   "source": [
    "combined_data.bfill()"
   ]
  },
  {
   "cell_type": "markdown",
   "id": "746c57d7",
   "metadata": {
    "cell_style": "split",
    "slideshow": {
     "slide_type": "slide"
    }
   },
   "source": [
    "**.interpolate(method= '...')**\n",
    "- interpolates NaNs between two values\n",
    "- can use various specified strategies "
   ]
  },
  {
   "cell_type": "markdown",
   "id": "f15d54e8",
   "metadata": {
    "cell_style": "split",
    "slideshow": {
     "slide_type": "-"
    }
   },
   "source": [
    "method\n",
    "\n",
    "- 'linear' (default)\n",
    "- 'spline' \n",
    "- etc."
   ]
  },
  {
   "cell_type": "code",
   "execution_count": 102,
   "id": "0cf50975",
   "metadata": {
    "cell_style": "split",
    "slideshow": {
     "slide_type": "fragment"
    }
   },
   "outputs": [
    {
     "data": {
      "text/html": [
       "<div>\n",
       "<style scoped>\n",
       "    .dataframe tbody tr th:only-of-type {\n",
       "        vertical-align: middle;\n",
       "    }\n",
       "\n",
       "    .dataframe tbody tr th {\n",
       "        vertical-align: top;\n",
       "    }\n",
       "\n",
       "    .dataframe thead th {\n",
       "        text-align: right;\n",
       "    }\n",
       "</style>\n",
       "<table border=\"1\" class=\"dataframe\">\n",
       "  <thead>\n",
       "    <tr style=\"text-align: right;\">\n",
       "      <th></th>\n",
       "      <th>Appliances</th>\n",
       "      <th>lights</th>\n",
       "      <th>Windspeed</th>\n",
       "      <th>T_out</th>\n",
       "    </tr>\n",
       "    <tr>\n",
       "      <th>date</th>\n",
       "      <th></th>\n",
       "      <th></th>\n",
       "      <th></th>\n",
       "      <th></th>\n",
       "    </tr>\n",
       "  </thead>\n",
       "  <tbody>\n",
       "    <tr>\n",
       "      <th>2016-01-11 17:00:00</th>\n",
       "      <td>60</td>\n",
       "      <td>30</td>\n",
       "      <td>6.666667</td>\n",
       "      <td>6.483333</td>\n",
       "    </tr>\n",
       "    <tr>\n",
       "      <th>2016-01-11 17:10:00</th>\n",
       "      <td>60</td>\n",
       "      <td>30</td>\n",
       "      <td>NaN</td>\n",
       "      <td>NaN</td>\n",
       "    </tr>\n",
       "    <tr>\n",
       "      <th>2016-01-11 17:20:00</th>\n",
       "      <td>50</td>\n",
       "      <td>30</td>\n",
       "      <td>NaN</td>\n",
       "      <td>NaN</td>\n",
       "    </tr>\n",
       "    <tr>\n",
       "      <th>2016-01-11 17:30:00</th>\n",
       "      <td>50</td>\n",
       "      <td>40</td>\n",
       "      <td>5.666667</td>\n",
       "      <td>6.133333</td>\n",
       "    </tr>\n",
       "    <tr>\n",
       "      <th>2016-01-11 17:40:00</th>\n",
       "      <td>60</td>\n",
       "      <td>40</td>\n",
       "      <td>NaN</td>\n",
       "      <td>NaN</td>\n",
       "    </tr>\n",
       "    <tr>\n",
       "      <th>...</th>\n",
       "      <td>...</td>\n",
       "      <td>...</td>\n",
       "      <td>...</td>\n",
       "      <td>...</td>\n",
       "    </tr>\n",
       "    <tr>\n",
       "      <th>2016-05-27 17:20:00</th>\n",
       "      <td>100</td>\n",
       "      <td>0</td>\n",
       "      <td>NaN</td>\n",
       "      <td>NaN</td>\n",
       "    </tr>\n",
       "    <tr>\n",
       "      <th>2016-05-27 17:30:00</th>\n",
       "      <td>90</td>\n",
       "      <td>0</td>\n",
       "      <td>3.666667</td>\n",
       "      <td>22.466667</td>\n",
       "    </tr>\n",
       "    <tr>\n",
       "      <th>2016-05-27 17:40:00</th>\n",
       "      <td>270</td>\n",
       "      <td>10</td>\n",
       "      <td>NaN</td>\n",
       "      <td>NaN</td>\n",
       "    </tr>\n",
       "    <tr>\n",
       "      <th>2016-05-27 17:50:00</th>\n",
       "      <td>420</td>\n",
       "      <td>10</td>\n",
       "      <td>NaN</td>\n",
       "      <td>NaN</td>\n",
       "    </tr>\n",
       "    <tr>\n",
       "      <th>2016-05-27 18:00:00</th>\n",
       "      <td>430</td>\n",
       "      <td>10</td>\n",
       "      <td>4.000000</td>\n",
       "      <td>22.200000</td>\n",
       "    </tr>\n",
       "  </tbody>\n",
       "</table>\n",
       "<p>19735 rows × 4 columns</p>\n",
       "</div>"
      ],
      "text/plain": [
       "                     Appliances  lights  Windspeed      T_out\n",
       "date                                                         \n",
       "2016-01-11 17:00:00          60      30   6.666667   6.483333\n",
       "2016-01-11 17:10:00          60      30        NaN        NaN\n",
       "2016-01-11 17:20:00          50      30        NaN        NaN\n",
       "2016-01-11 17:30:00          50      40   5.666667   6.133333\n",
       "2016-01-11 17:40:00          60      40        NaN        NaN\n",
       "...                         ...     ...        ...        ...\n",
       "2016-05-27 17:20:00         100       0        NaN        NaN\n",
       "2016-05-27 17:30:00          90       0   3.666667  22.466667\n",
       "2016-05-27 17:40:00         270      10        NaN        NaN\n",
       "2016-05-27 17:50:00         420      10        NaN        NaN\n",
       "2016-05-27 18:00:00         430      10   4.000000  22.200000\n",
       "\n",
       "[19735 rows x 4 columns]"
      ]
     },
     "execution_count": 102,
     "metadata": {},
     "output_type": "execute_result"
    }
   ],
   "source": [
    "combined_data"
   ]
  },
  {
   "cell_type": "code",
   "execution_count": 103,
   "id": "7a1f21aa",
   "metadata": {
    "cell_style": "split",
    "slideshow": {
     "slide_type": "fragment"
    }
   },
   "outputs": [
    {
     "data": {
      "text/html": [
       "<div>\n",
       "<style scoped>\n",
       "    .dataframe tbody tr th:only-of-type {\n",
       "        vertical-align: middle;\n",
       "    }\n",
       "\n",
       "    .dataframe tbody tr th {\n",
       "        vertical-align: top;\n",
       "    }\n",
       "\n",
       "    .dataframe thead th {\n",
       "        text-align: right;\n",
       "    }\n",
       "</style>\n",
       "<table border=\"1\" class=\"dataframe\">\n",
       "  <thead>\n",
       "    <tr style=\"text-align: right;\">\n",
       "      <th></th>\n",
       "      <th>Appliances</th>\n",
       "      <th>lights</th>\n",
       "      <th>Windspeed</th>\n",
       "      <th>T_out</th>\n",
       "    </tr>\n",
       "    <tr>\n",
       "      <th>date</th>\n",
       "      <th></th>\n",
       "      <th></th>\n",
       "      <th></th>\n",
       "      <th></th>\n",
       "    </tr>\n",
       "  </thead>\n",
       "  <tbody>\n",
       "    <tr>\n",
       "      <th>2016-01-11 17:00:00</th>\n",
       "      <td>60</td>\n",
       "      <td>30</td>\n",
       "      <td>6.666667</td>\n",
       "      <td>6.483333</td>\n",
       "    </tr>\n",
       "    <tr>\n",
       "      <th>2016-01-11 17:10:00</th>\n",
       "      <td>60</td>\n",
       "      <td>30</td>\n",
       "      <td>6.333333</td>\n",
       "      <td>6.366667</td>\n",
       "    </tr>\n",
       "    <tr>\n",
       "      <th>2016-01-11 17:20:00</th>\n",
       "      <td>50</td>\n",
       "      <td>30</td>\n",
       "      <td>6.000000</td>\n",
       "      <td>6.250000</td>\n",
       "    </tr>\n",
       "    <tr>\n",
       "      <th>2016-01-11 17:30:00</th>\n",
       "      <td>50</td>\n",
       "      <td>40</td>\n",
       "      <td>5.666667</td>\n",
       "      <td>6.133333</td>\n",
       "    </tr>\n",
       "    <tr>\n",
       "      <th>2016-01-11 17:40:00</th>\n",
       "      <td>60</td>\n",
       "      <td>40</td>\n",
       "      <td>5.500000</td>\n",
       "      <td>6.061111</td>\n",
       "    </tr>\n",
       "    <tr>\n",
       "      <th>...</th>\n",
       "      <td>...</td>\n",
       "      <td>...</td>\n",
       "      <td>...</td>\n",
       "      <td>...</td>\n",
       "    </tr>\n",
       "    <tr>\n",
       "      <th>2016-05-27 17:20:00</th>\n",
       "      <td>100</td>\n",
       "      <td>0</td>\n",
       "      <td>3.500000</td>\n",
       "      <td>22.600000</td>\n",
       "    </tr>\n",
       "    <tr>\n",
       "      <th>2016-05-27 17:30:00</th>\n",
       "      <td>90</td>\n",
       "      <td>0</td>\n",
       "      <td>3.666667</td>\n",
       "      <td>22.466667</td>\n",
       "    </tr>\n",
       "    <tr>\n",
       "      <th>2016-05-27 17:40:00</th>\n",
       "      <td>270</td>\n",
       "      <td>10</td>\n",
       "      <td>3.777778</td>\n",
       "      <td>22.377778</td>\n",
       "    </tr>\n",
       "    <tr>\n",
       "      <th>2016-05-27 17:50:00</th>\n",
       "      <td>420</td>\n",
       "      <td>10</td>\n",
       "      <td>3.888889</td>\n",
       "      <td>22.288889</td>\n",
       "    </tr>\n",
       "    <tr>\n",
       "      <th>2016-05-27 18:00:00</th>\n",
       "      <td>430</td>\n",
       "      <td>10</td>\n",
       "      <td>4.000000</td>\n",
       "      <td>22.200000</td>\n",
       "    </tr>\n",
       "  </tbody>\n",
       "</table>\n",
       "<p>19735 rows × 4 columns</p>\n",
       "</div>"
      ],
      "text/plain": [
       "                     Appliances  lights  Windspeed      T_out\n",
       "date                                                         \n",
       "2016-01-11 17:00:00          60      30   6.666667   6.483333\n",
       "2016-01-11 17:10:00          60      30   6.333333   6.366667\n",
       "2016-01-11 17:20:00          50      30   6.000000   6.250000\n",
       "2016-01-11 17:30:00          50      40   5.666667   6.133333\n",
       "2016-01-11 17:40:00          60      40   5.500000   6.061111\n",
       "...                         ...     ...        ...        ...\n",
       "2016-05-27 17:20:00         100       0   3.500000  22.600000\n",
       "2016-05-27 17:30:00          90       0   3.666667  22.466667\n",
       "2016-05-27 17:40:00         270      10   3.777778  22.377778\n",
       "2016-05-27 17:50:00         420      10   3.888889  22.288889\n",
       "2016-05-27 18:00:00         430      10   4.000000  22.200000\n",
       "\n",
       "[19735 rows x 4 columns]"
      ]
     },
     "execution_count": 103,
     "metadata": {},
     "output_type": "execute_result"
    }
   ],
   "source": [
    "combined_data.interpolate()"
   ]
  },
  {
   "cell_type": "markdown",
   "id": "bdbc995b",
   "metadata": {
    "slideshow": {
     "slide_type": "slide"
    }
   },
   "source": [
    "Used ordered merge and imputation to upsample less frequent columns:\n",
    "\n",
    "Can also upsample columns/series in a different way:\n",
    "- using the resampler object"
   ]
  },
  {
   "cell_type": "markdown",
   "id": "9e7c7285",
   "metadata": {
    "slideshow": {
     "slide_type": "slide"
    }
   },
   "source": [
    "Take original weather data:"
   ]
  },
  {
   "cell_type": "code",
   "execution_count": 105,
   "id": "57e611e1",
   "metadata": {
    "cell_style": "split",
    "slideshow": {
     "slide_type": "fragment"
    }
   },
   "outputs": [
    {
     "data": {
      "text/html": [
       "<div>\n",
       "<style scoped>\n",
       "    .dataframe tbody tr th:only-of-type {\n",
       "        vertical-align: middle;\n",
       "    }\n",
       "\n",
       "    .dataframe tbody tr th {\n",
       "        vertical-align: top;\n",
       "    }\n",
       "\n",
       "    .dataframe thead th {\n",
       "        text-align: right;\n",
       "    }\n",
       "</style>\n",
       "<table border=\"1\" class=\"dataframe\">\n",
       "  <thead>\n",
       "    <tr style=\"text-align: right;\">\n",
       "      <th></th>\n",
       "      <th>Windspeed</th>\n",
       "      <th>T_out</th>\n",
       "    </tr>\n",
       "    <tr>\n",
       "      <th>date</th>\n",
       "      <th></th>\n",
       "      <th></th>\n",
       "    </tr>\n",
       "  </thead>\n",
       "  <tbody>\n",
       "    <tr>\n",
       "      <th>2016-01-11 17:00:00</th>\n",
       "      <td>6.666667</td>\n",
       "      <td>6.483333</td>\n",
       "    </tr>\n",
       "    <tr>\n",
       "      <th>2016-01-11 17:30:00</th>\n",
       "      <td>5.666667</td>\n",
       "      <td>6.133333</td>\n",
       "    </tr>\n",
       "    <tr>\n",
       "      <th>2016-01-11 18:00:00</th>\n",
       "      <td>5.166667</td>\n",
       "      <td>5.916667</td>\n",
       "    </tr>\n",
       "    <tr>\n",
       "      <th>2016-01-11 18:30:00</th>\n",
       "      <td>5.666667</td>\n",
       "      <td>5.966667</td>\n",
       "    </tr>\n",
       "    <tr>\n",
       "      <th>2016-01-11 19:00:00</th>\n",
       "      <td>6.000000</td>\n",
       "      <td>6.000000</td>\n",
       "    </tr>\n",
       "  </tbody>\n",
       "</table>\n",
       "</div>"
      ],
      "text/plain": [
       "                     Windspeed     T_out\n",
       "date                                    \n",
       "2016-01-11 17:00:00   6.666667  6.483333\n",
       "2016-01-11 17:30:00   5.666667  6.133333\n",
       "2016-01-11 18:00:00   5.166667  5.916667\n",
       "2016-01-11 18:30:00   5.666667  5.966667\n",
       "2016-01-11 19:00:00   6.000000  6.000000"
      ]
     },
     "execution_count": 105,
     "metadata": {},
     "output_type": "execute_result"
    }
   ],
   "source": [
    "weather_df['date'] = pd.to_datetime(\n",
    "    weather_df['date'])\n",
    "weather_df_ind = weather_df.set_index('date')\n",
    "weather_df_ind.head()"
   ]
  },
  {
   "cell_type": "markdown",
   "id": "ccdce918",
   "metadata": {
    "cell_style": "split",
    "slideshow": {
     "slide_type": "fragment"
    }
   },
   "source": [
    "Construct resampler object at 10 minute interval:"
   ]
  },
  {
   "cell_type": "code",
   "execution_count": 758,
   "id": "0df30b59",
   "metadata": {
    "cell_style": "split",
    "slideshow": {
     "slide_type": "-"
    }
   },
   "outputs": [
    {
     "data": {
      "text/plain": [
       "<pandas.core.resample.DatetimeIndexResampler object at 0x000001F9C8A54100>"
      ]
     },
     "execution_count": 758,
     "metadata": {},
     "output_type": "execute_result"
    }
   ],
   "source": [
    "upsamp = weather_df_ind.resample('10T')\n",
    "upsamp"
   ]
  },
  {
   "cell_type": "markdown",
   "id": "1f7781fc",
   "metadata": {
    "cell_style": "center",
    "slideshow": {
     "slide_type": "slide"
    }
   },
   "source": [
    ".asfreq() can return original timeseries values at new sampling frequency"
   ]
  },
  {
   "cell_type": "code",
   "execution_count": 759,
   "id": "eaade3aa",
   "metadata": {
    "cell_style": "split",
    "slideshow": {
     "slide_type": "-"
    }
   },
   "outputs": [
    {
     "data": {
      "text/html": [
       "<div>\n",
       "<style scoped>\n",
       "    .dataframe tbody tr th:only-of-type {\n",
       "        vertical-align: middle;\n",
       "    }\n",
       "\n",
       "    .dataframe tbody tr th {\n",
       "        vertical-align: top;\n",
       "    }\n",
       "\n",
       "    .dataframe thead th {\n",
       "        text-align: right;\n",
       "    }\n",
       "</style>\n",
       "<table border=\"1\" class=\"dataframe\">\n",
       "  <thead>\n",
       "    <tr style=\"text-align: right;\">\n",
       "      <th></th>\n",
       "      <th>Windspeed</th>\n",
       "      <th>T_out</th>\n",
       "    </tr>\n",
       "    <tr>\n",
       "      <th>date</th>\n",
       "      <th></th>\n",
       "      <th></th>\n",
       "    </tr>\n",
       "  </thead>\n",
       "  <tbody>\n",
       "    <tr>\n",
       "      <th>2016-01-11 17:00:00</th>\n",
       "      <td>6.666667</td>\n",
       "      <td>6.483333</td>\n",
       "    </tr>\n",
       "    <tr>\n",
       "      <th>2016-01-11 17:10:00</th>\n",
       "      <td>NaN</td>\n",
       "      <td>NaN</td>\n",
       "    </tr>\n",
       "    <tr>\n",
       "      <th>2016-01-11 17:20:00</th>\n",
       "      <td>NaN</td>\n",
       "      <td>NaN</td>\n",
       "    </tr>\n",
       "    <tr>\n",
       "      <th>2016-01-11 17:30:00</th>\n",
       "      <td>5.666667</td>\n",
       "      <td>6.133333</td>\n",
       "    </tr>\n",
       "    <tr>\n",
       "      <th>2016-01-11 17:40:00</th>\n",
       "      <td>NaN</td>\n",
       "      <td>NaN</td>\n",
       "    </tr>\n",
       "    <tr>\n",
       "      <th>...</th>\n",
       "      <td>...</td>\n",
       "      <td>...</td>\n",
       "    </tr>\n",
       "    <tr>\n",
       "      <th>2016-05-27 17:20:00</th>\n",
       "      <td>NaN</td>\n",
       "      <td>NaN</td>\n",
       "    </tr>\n",
       "    <tr>\n",
       "      <th>2016-05-27 17:30:00</th>\n",
       "      <td>3.666667</td>\n",
       "      <td>22.466667</td>\n",
       "    </tr>\n",
       "    <tr>\n",
       "      <th>2016-05-27 17:40:00</th>\n",
       "      <td>NaN</td>\n",
       "      <td>NaN</td>\n",
       "    </tr>\n",
       "    <tr>\n",
       "      <th>2016-05-27 17:50:00</th>\n",
       "      <td>NaN</td>\n",
       "      <td>NaN</td>\n",
       "    </tr>\n",
       "    <tr>\n",
       "      <th>2016-05-27 18:00:00</th>\n",
       "      <td>4.000000</td>\n",
       "      <td>22.200000</td>\n",
       "    </tr>\n",
       "  </tbody>\n",
       "</table>\n",
       "<p>19735 rows × 2 columns</p>\n",
       "</div>"
      ],
      "text/plain": [
       "                     Windspeed      T_out\n",
       "date                                     \n",
       "2016-01-11 17:00:00   6.666667   6.483333\n",
       "2016-01-11 17:10:00        NaN        NaN\n",
       "2016-01-11 17:20:00        NaN        NaN\n",
       "2016-01-11 17:30:00   5.666667   6.133333\n",
       "2016-01-11 17:40:00        NaN        NaN\n",
       "...                        ...        ...\n",
       "2016-05-27 17:20:00        NaN        NaN\n",
       "2016-05-27 17:30:00   3.666667  22.466667\n",
       "2016-05-27 17:40:00        NaN        NaN\n",
       "2016-05-27 17:50:00        NaN        NaN\n",
       "2016-05-27 18:00:00   4.000000  22.200000\n",
       "\n",
       "[19735 rows x 2 columns]"
      ]
     },
     "execution_count": 759,
     "metadata": {},
     "output_type": "execute_result"
    }
   ],
   "source": [
    "upsamp.asfreq()"
   ]
  },
  {
   "cell_type": "markdown",
   "id": "1aa5d786",
   "metadata": {
    "cell_style": "split",
    "slideshow": {
     "slide_type": "-"
    }
   },
   "source": [
    "The data has NaNs where there are no samples at this frequency. Need to impute these."
   ]
  },
  {
   "cell_type": "markdown",
   "id": "5760dfde",
   "metadata": {
    "cell_style": "center",
    "slideshow": {
     "slide_type": "subslide"
    }
   },
   "source": [
    "Resampler object has same fill / imputation methods as dataframe to do this.\n",
    "\n",
    "- .ffill()\n",
    "- .bfill()\n",
    "- .interpolate()"
   ]
  },
  {
   "cell_type": "code",
   "execution_count": 761,
   "id": "13ff0655",
   "metadata": {
    "cell_style": "split",
    "slideshow": {
     "slide_type": "-"
    }
   },
   "outputs": [
    {
     "data": {
      "text/html": [
       "<div>\n",
       "<style scoped>\n",
       "    .dataframe tbody tr th:only-of-type {\n",
       "        vertical-align: middle;\n",
       "    }\n",
       "\n",
       "    .dataframe tbody tr th {\n",
       "        vertical-align: top;\n",
       "    }\n",
       "\n",
       "    .dataframe thead th {\n",
       "        text-align: right;\n",
       "    }\n",
       "</style>\n",
       "<table border=\"1\" class=\"dataframe\">\n",
       "  <thead>\n",
       "    <tr style=\"text-align: right;\">\n",
       "      <th></th>\n",
       "      <th>Windspeed</th>\n",
       "      <th>T_out</th>\n",
       "    </tr>\n",
       "    <tr>\n",
       "      <th>date</th>\n",
       "      <th></th>\n",
       "      <th></th>\n",
       "    </tr>\n",
       "  </thead>\n",
       "  <tbody>\n",
       "    <tr>\n",
       "      <th>2016-01-11 17:00:00</th>\n",
       "      <td>6.666667</td>\n",
       "      <td>6.483333</td>\n",
       "    </tr>\n",
       "    <tr>\n",
       "      <th>2016-01-11 17:10:00</th>\n",
       "      <td>6.666667</td>\n",
       "      <td>6.483333</td>\n",
       "    </tr>\n",
       "    <tr>\n",
       "      <th>2016-01-11 17:20:00</th>\n",
       "      <td>6.666667</td>\n",
       "      <td>6.483333</td>\n",
       "    </tr>\n",
       "    <tr>\n",
       "      <th>2016-01-11 17:30:00</th>\n",
       "      <td>5.666667</td>\n",
       "      <td>6.133333</td>\n",
       "    </tr>\n",
       "    <tr>\n",
       "      <th>2016-01-11 17:40:00</th>\n",
       "      <td>5.666667</td>\n",
       "      <td>6.133333</td>\n",
       "    </tr>\n",
       "    <tr>\n",
       "      <th>...</th>\n",
       "      <td>...</td>\n",
       "      <td>...</td>\n",
       "    </tr>\n",
       "    <tr>\n",
       "      <th>2016-05-27 17:20:00</th>\n",
       "      <td>3.166667</td>\n",
       "      <td>22.866667</td>\n",
       "    </tr>\n",
       "    <tr>\n",
       "      <th>2016-05-27 17:30:00</th>\n",
       "      <td>3.666667</td>\n",
       "      <td>22.466667</td>\n",
       "    </tr>\n",
       "    <tr>\n",
       "      <th>2016-05-27 17:40:00</th>\n",
       "      <td>3.666667</td>\n",
       "      <td>22.466667</td>\n",
       "    </tr>\n",
       "    <tr>\n",
       "      <th>2016-05-27 17:50:00</th>\n",
       "      <td>3.666667</td>\n",
       "      <td>22.466667</td>\n",
       "    </tr>\n",
       "    <tr>\n",
       "      <th>2016-05-27 18:00:00</th>\n",
       "      <td>4.000000</td>\n",
       "      <td>22.200000</td>\n",
       "    </tr>\n",
       "  </tbody>\n",
       "</table>\n",
       "<p>19735 rows × 2 columns</p>\n",
       "</div>"
      ],
      "text/plain": [
       "                     Windspeed      T_out\n",
       "date                                     \n",
       "2016-01-11 17:00:00   6.666667   6.483333\n",
       "2016-01-11 17:10:00   6.666667   6.483333\n",
       "2016-01-11 17:20:00   6.666667   6.483333\n",
       "2016-01-11 17:30:00   5.666667   6.133333\n",
       "2016-01-11 17:40:00   5.666667   6.133333\n",
       "...                        ...        ...\n",
       "2016-05-27 17:20:00   3.166667  22.866667\n",
       "2016-05-27 17:30:00   3.666667  22.466667\n",
       "2016-05-27 17:40:00   3.666667  22.466667\n",
       "2016-05-27 17:50:00   3.666667  22.466667\n",
       "2016-05-27 18:00:00   4.000000  22.200000\n",
       "\n",
       "[19735 rows x 2 columns]"
      ]
     },
     "execution_count": 761,
     "metadata": {},
     "output_type": "execute_result"
    }
   ],
   "source": [
    "upsamp.ffill()"
   ]
  },
  {
   "cell_type": "code",
   "execution_count": 762,
   "id": "fe9497a0",
   "metadata": {
    "cell_style": "split",
    "slideshow": {
     "slide_type": "-"
    }
   },
   "outputs": [
    {
     "data": {
      "text/html": [
       "<div>\n",
       "<style scoped>\n",
       "    .dataframe tbody tr th:only-of-type {\n",
       "        vertical-align: middle;\n",
       "    }\n",
       "\n",
       "    .dataframe tbody tr th {\n",
       "        vertical-align: top;\n",
       "    }\n",
       "\n",
       "    .dataframe thead th {\n",
       "        text-align: right;\n",
       "    }\n",
       "</style>\n",
       "<table border=\"1\" class=\"dataframe\">\n",
       "  <thead>\n",
       "    <tr style=\"text-align: right;\">\n",
       "      <th></th>\n",
       "      <th>Windspeed</th>\n",
       "      <th>T_out</th>\n",
       "    </tr>\n",
       "    <tr>\n",
       "      <th>date</th>\n",
       "      <th></th>\n",
       "      <th></th>\n",
       "    </tr>\n",
       "  </thead>\n",
       "  <tbody>\n",
       "    <tr>\n",
       "      <th>2016-01-11 17:00:00</th>\n",
       "      <td>6.666667</td>\n",
       "      <td>6.483333</td>\n",
       "    </tr>\n",
       "    <tr>\n",
       "      <th>2016-01-11 17:10:00</th>\n",
       "      <td>NaN</td>\n",
       "      <td>NaN</td>\n",
       "    </tr>\n",
       "    <tr>\n",
       "      <th>2016-01-11 17:20:00</th>\n",
       "      <td>NaN</td>\n",
       "      <td>NaN</td>\n",
       "    </tr>\n",
       "    <tr>\n",
       "      <th>2016-01-11 17:30:00</th>\n",
       "      <td>5.666667</td>\n",
       "      <td>6.133333</td>\n",
       "    </tr>\n",
       "    <tr>\n",
       "      <th>2016-01-11 17:40:00</th>\n",
       "      <td>NaN</td>\n",
       "      <td>NaN</td>\n",
       "    </tr>\n",
       "    <tr>\n",
       "      <th>...</th>\n",
       "      <td>...</td>\n",
       "      <td>...</td>\n",
       "    </tr>\n",
       "    <tr>\n",
       "      <th>2016-05-27 17:20:00</th>\n",
       "      <td>NaN</td>\n",
       "      <td>NaN</td>\n",
       "    </tr>\n",
       "    <tr>\n",
       "      <th>2016-05-27 17:30:00</th>\n",
       "      <td>3.666667</td>\n",
       "      <td>22.466667</td>\n",
       "    </tr>\n",
       "    <tr>\n",
       "      <th>2016-05-27 17:40:00</th>\n",
       "      <td>NaN</td>\n",
       "      <td>NaN</td>\n",
       "    </tr>\n",
       "    <tr>\n",
       "      <th>2016-05-27 17:50:00</th>\n",
       "      <td>NaN</td>\n",
       "      <td>NaN</td>\n",
       "    </tr>\n",
       "    <tr>\n",
       "      <th>2016-05-27 18:00:00</th>\n",
       "      <td>4.000000</td>\n",
       "      <td>22.200000</td>\n",
       "    </tr>\n",
       "  </tbody>\n",
       "</table>\n",
       "<p>19735 rows × 2 columns</p>\n",
       "</div>"
      ],
      "text/plain": [
       "                     Windspeed      T_out\n",
       "date                                     \n",
       "2016-01-11 17:00:00   6.666667   6.483333\n",
       "2016-01-11 17:10:00        NaN        NaN\n",
       "2016-01-11 17:20:00        NaN        NaN\n",
       "2016-01-11 17:30:00   5.666667   6.133333\n",
       "2016-01-11 17:40:00        NaN        NaN\n",
       "...                        ...        ...\n",
       "2016-05-27 17:20:00        NaN        NaN\n",
       "2016-05-27 17:30:00   3.666667  22.466667\n",
       "2016-05-27 17:40:00        NaN        NaN\n",
       "2016-05-27 17:50:00        NaN        NaN\n",
       "2016-05-27 18:00:00   4.000000  22.200000\n",
       "\n",
       "[19735 rows x 2 columns]"
      ]
     },
     "execution_count": 762,
     "metadata": {},
     "output_type": "execute_result"
    }
   ],
   "source": [
    "upsamp.asfreq()"
   ]
  },
  {
   "cell_type": "code",
   "execution_count": 767,
   "id": "0853568d",
   "metadata": {
    "cell_style": "split",
    "slideshow": {
     "slide_type": "-"
    }
   },
   "outputs": [
    {
     "data": {
      "text/html": [
       "<div>\n",
       "<style scoped>\n",
       "    .dataframe tbody tr th:only-of-type {\n",
       "        vertical-align: middle;\n",
       "    }\n",
       "\n",
       "    .dataframe tbody tr th {\n",
       "        vertical-align: top;\n",
       "    }\n",
       "\n",
       "    .dataframe thead th {\n",
       "        text-align: right;\n",
       "    }\n",
       "</style>\n",
       "<table border=\"1\" class=\"dataframe\">\n",
       "  <thead>\n",
       "    <tr style=\"text-align: right;\">\n",
       "      <th></th>\n",
       "      <th>Windspeed</th>\n",
       "      <th>T_out</th>\n",
       "    </tr>\n",
       "    <tr>\n",
       "      <th>date</th>\n",
       "      <th></th>\n",
       "      <th></th>\n",
       "    </tr>\n",
       "  </thead>\n",
       "  <tbody>\n",
       "    <tr>\n",
       "      <th>2016-01-11 17:00:00</th>\n",
       "      <td>6.666667</td>\n",
       "      <td>6.483333</td>\n",
       "    </tr>\n",
       "    <tr>\n",
       "      <th>2016-01-11 17:10:00</th>\n",
       "      <td>5.666667</td>\n",
       "      <td>6.133333</td>\n",
       "    </tr>\n",
       "    <tr>\n",
       "      <th>2016-01-11 17:20:00</th>\n",
       "      <td>5.666667</td>\n",
       "      <td>6.133333</td>\n",
       "    </tr>\n",
       "    <tr>\n",
       "      <th>2016-01-11 17:30:00</th>\n",
       "      <td>5.666667</td>\n",
       "      <td>6.133333</td>\n",
       "    </tr>\n",
       "    <tr>\n",
       "      <th>2016-01-11 17:40:00</th>\n",
       "      <td>5.166667</td>\n",
       "      <td>5.916667</td>\n",
       "    </tr>\n",
       "    <tr>\n",
       "      <th>...</th>\n",
       "      <td>...</td>\n",
       "      <td>...</td>\n",
       "    </tr>\n",
       "    <tr>\n",
       "      <th>2016-05-27 17:20:00</th>\n",
       "      <td>3.666667</td>\n",
       "      <td>22.466667</td>\n",
       "    </tr>\n",
       "    <tr>\n",
       "      <th>2016-05-27 17:30:00</th>\n",
       "      <td>3.666667</td>\n",
       "      <td>22.466667</td>\n",
       "    </tr>\n",
       "    <tr>\n",
       "      <th>2016-05-27 17:40:00</th>\n",
       "      <td>4.000000</td>\n",
       "      <td>22.200000</td>\n",
       "    </tr>\n",
       "    <tr>\n",
       "      <th>2016-05-27 17:50:00</th>\n",
       "      <td>4.000000</td>\n",
       "      <td>22.200000</td>\n",
       "    </tr>\n",
       "    <tr>\n",
       "      <th>2016-05-27 18:00:00</th>\n",
       "      <td>4.000000</td>\n",
       "      <td>22.200000</td>\n",
       "    </tr>\n",
       "  </tbody>\n",
       "</table>\n",
       "<p>19735 rows × 2 columns</p>\n",
       "</div>"
      ],
      "text/plain": [
       "                     Windspeed      T_out\n",
       "date                                     \n",
       "2016-01-11 17:00:00   6.666667   6.483333\n",
       "2016-01-11 17:10:00   5.666667   6.133333\n",
       "2016-01-11 17:20:00   5.666667   6.133333\n",
       "2016-01-11 17:30:00   5.666667   6.133333\n",
       "2016-01-11 17:40:00   5.166667   5.916667\n",
       "...                        ...        ...\n",
       "2016-05-27 17:20:00   3.666667  22.466667\n",
       "2016-05-27 17:30:00   3.666667  22.466667\n",
       "2016-05-27 17:40:00   4.000000  22.200000\n",
       "2016-05-27 17:50:00   4.000000  22.200000\n",
       "2016-05-27 18:00:00   4.000000  22.200000\n",
       "\n",
       "[19735 rows x 2 columns]"
      ]
     },
     "execution_count": 767,
     "metadata": {},
     "output_type": "execute_result"
    }
   ],
   "source": [
    "upsamp.bfill()"
   ]
  },
  {
   "cell_type": "code",
   "execution_count": 768,
   "id": "b5296fc9",
   "metadata": {
    "cell_style": "split",
    "scrolled": true,
    "slideshow": {
     "slide_type": "-"
    }
   },
   "outputs": [
    {
     "data": {
      "text/html": [
       "<div>\n",
       "<style scoped>\n",
       "    .dataframe tbody tr th:only-of-type {\n",
       "        vertical-align: middle;\n",
       "    }\n",
       "\n",
       "    .dataframe tbody tr th {\n",
       "        vertical-align: top;\n",
       "    }\n",
       "\n",
       "    .dataframe thead th {\n",
       "        text-align: right;\n",
       "    }\n",
       "</style>\n",
       "<table border=\"1\" class=\"dataframe\">\n",
       "  <thead>\n",
       "    <tr style=\"text-align: right;\">\n",
       "      <th></th>\n",
       "      <th>Windspeed</th>\n",
       "      <th>T_out</th>\n",
       "    </tr>\n",
       "    <tr>\n",
       "      <th>date</th>\n",
       "      <th></th>\n",
       "      <th></th>\n",
       "    </tr>\n",
       "  </thead>\n",
       "  <tbody>\n",
       "    <tr>\n",
       "      <th>2016-01-11 17:00:00</th>\n",
       "      <td>6.666667</td>\n",
       "      <td>6.483333</td>\n",
       "    </tr>\n",
       "    <tr>\n",
       "      <th>2016-01-11 17:10:00</th>\n",
       "      <td>NaN</td>\n",
       "      <td>NaN</td>\n",
       "    </tr>\n",
       "    <tr>\n",
       "      <th>2016-01-11 17:20:00</th>\n",
       "      <td>NaN</td>\n",
       "      <td>NaN</td>\n",
       "    </tr>\n",
       "    <tr>\n",
       "      <th>2016-01-11 17:30:00</th>\n",
       "      <td>5.666667</td>\n",
       "      <td>6.133333</td>\n",
       "    </tr>\n",
       "    <tr>\n",
       "      <th>2016-01-11 17:40:00</th>\n",
       "      <td>NaN</td>\n",
       "      <td>NaN</td>\n",
       "    </tr>\n",
       "    <tr>\n",
       "      <th>...</th>\n",
       "      <td>...</td>\n",
       "      <td>...</td>\n",
       "    </tr>\n",
       "    <tr>\n",
       "      <th>2016-05-27 17:20:00</th>\n",
       "      <td>NaN</td>\n",
       "      <td>NaN</td>\n",
       "    </tr>\n",
       "    <tr>\n",
       "      <th>2016-05-27 17:30:00</th>\n",
       "      <td>3.666667</td>\n",
       "      <td>22.466667</td>\n",
       "    </tr>\n",
       "    <tr>\n",
       "      <th>2016-05-27 17:40:00</th>\n",
       "      <td>NaN</td>\n",
       "      <td>NaN</td>\n",
       "    </tr>\n",
       "    <tr>\n",
       "      <th>2016-05-27 17:50:00</th>\n",
       "      <td>NaN</td>\n",
       "      <td>NaN</td>\n",
       "    </tr>\n",
       "    <tr>\n",
       "      <th>2016-05-27 18:00:00</th>\n",
       "      <td>4.000000</td>\n",
       "      <td>22.200000</td>\n",
       "    </tr>\n",
       "  </tbody>\n",
       "</table>\n",
       "<p>19735 rows × 2 columns</p>\n",
       "</div>"
      ],
      "text/plain": [
       "                     Windspeed      T_out\n",
       "date                                     \n",
       "2016-01-11 17:00:00   6.666667   6.483333\n",
       "2016-01-11 17:10:00        NaN        NaN\n",
       "2016-01-11 17:20:00        NaN        NaN\n",
       "2016-01-11 17:30:00   5.666667   6.133333\n",
       "2016-01-11 17:40:00        NaN        NaN\n",
       "...                        ...        ...\n",
       "2016-05-27 17:20:00        NaN        NaN\n",
       "2016-05-27 17:30:00   3.666667  22.466667\n",
       "2016-05-27 17:40:00        NaN        NaN\n",
       "2016-05-27 17:50:00        NaN        NaN\n",
       "2016-05-27 18:00:00   4.000000  22.200000\n",
       "\n",
       "[19735 rows x 2 columns]"
      ]
     },
     "execution_count": 768,
     "metadata": {},
     "output_type": "execute_result"
    }
   ],
   "source": [
    "upsamp.asfreq()"
   ]
  },
  {
   "cell_type": "code",
   "execution_count": 770,
   "id": "4858172c",
   "metadata": {
    "cell_style": "split",
    "slideshow": {
     "slide_type": "fragment"
    }
   },
   "outputs": [
    {
     "data": {
      "text/html": [
       "<div>\n",
       "<style scoped>\n",
       "    .dataframe tbody tr th:only-of-type {\n",
       "        vertical-align: middle;\n",
       "    }\n",
       "\n",
       "    .dataframe tbody tr th {\n",
       "        vertical-align: top;\n",
       "    }\n",
       "\n",
       "    .dataframe thead th {\n",
       "        text-align: right;\n",
       "    }\n",
       "</style>\n",
       "<table border=\"1\" class=\"dataframe\">\n",
       "  <thead>\n",
       "    <tr style=\"text-align: right;\">\n",
       "      <th></th>\n",
       "      <th>Windspeed</th>\n",
       "      <th>T_out</th>\n",
       "    </tr>\n",
       "    <tr>\n",
       "      <th>date</th>\n",
       "      <th></th>\n",
       "      <th></th>\n",
       "    </tr>\n",
       "  </thead>\n",
       "  <tbody>\n",
       "    <tr>\n",
       "      <th>2016-01-11 17:00:00</th>\n",
       "      <td>6.666667</td>\n",
       "      <td>6.483333</td>\n",
       "    </tr>\n",
       "    <tr>\n",
       "      <th>2016-01-11 17:10:00</th>\n",
       "      <td>6.333333</td>\n",
       "      <td>6.366667</td>\n",
       "    </tr>\n",
       "    <tr>\n",
       "      <th>2016-01-11 17:20:00</th>\n",
       "      <td>6.000000</td>\n",
       "      <td>6.250000</td>\n",
       "    </tr>\n",
       "    <tr>\n",
       "      <th>2016-01-11 17:30:00</th>\n",
       "      <td>5.666667</td>\n",
       "      <td>6.133333</td>\n",
       "    </tr>\n",
       "    <tr>\n",
       "      <th>2016-01-11 17:40:00</th>\n",
       "      <td>5.500000</td>\n",
       "      <td>6.061111</td>\n",
       "    </tr>\n",
       "    <tr>\n",
       "      <th>...</th>\n",
       "      <td>...</td>\n",
       "      <td>...</td>\n",
       "    </tr>\n",
       "    <tr>\n",
       "      <th>2016-05-27 17:20:00</th>\n",
       "      <td>3.500000</td>\n",
       "      <td>22.600000</td>\n",
       "    </tr>\n",
       "    <tr>\n",
       "      <th>2016-05-27 17:30:00</th>\n",
       "      <td>3.666667</td>\n",
       "      <td>22.466667</td>\n",
       "    </tr>\n",
       "    <tr>\n",
       "      <th>2016-05-27 17:40:00</th>\n",
       "      <td>3.777778</td>\n",
       "      <td>22.377778</td>\n",
       "    </tr>\n",
       "    <tr>\n",
       "      <th>2016-05-27 17:50:00</th>\n",
       "      <td>3.888889</td>\n",
       "      <td>22.288889</td>\n",
       "    </tr>\n",
       "    <tr>\n",
       "      <th>2016-05-27 18:00:00</th>\n",
       "      <td>4.000000</td>\n",
       "      <td>22.200000</td>\n",
       "    </tr>\n",
       "  </tbody>\n",
       "</table>\n",
       "<p>19735 rows × 2 columns</p>\n",
       "</div>"
      ],
      "text/plain": [
       "                     Windspeed      T_out\n",
       "date                                     \n",
       "2016-01-11 17:00:00   6.666667   6.483333\n",
       "2016-01-11 17:10:00   6.333333   6.366667\n",
       "2016-01-11 17:20:00   6.000000   6.250000\n",
       "2016-01-11 17:30:00   5.666667   6.133333\n",
       "2016-01-11 17:40:00   5.500000   6.061111\n",
       "...                        ...        ...\n",
       "2016-05-27 17:20:00   3.500000  22.600000\n",
       "2016-05-27 17:30:00   3.666667  22.466667\n",
       "2016-05-27 17:40:00   3.777778  22.377778\n",
       "2016-05-27 17:50:00   3.888889  22.288889\n",
       "2016-05-27 18:00:00   4.000000  22.200000\n",
       "\n",
       "[19735 rows x 2 columns]"
      ]
     },
     "execution_count": 770,
     "metadata": {},
     "output_type": "execute_result"
    }
   ],
   "source": [
    "upsamp.interpolate()"
   ]
  },
  {
   "cell_type": "code",
   "execution_count": 771,
   "id": "271f9fc1",
   "metadata": {
    "cell_style": "split",
    "slideshow": {
     "slide_type": "-"
    }
   },
   "outputs": [
    {
     "data": {
      "text/html": [
       "<div>\n",
       "<style scoped>\n",
       "    .dataframe tbody tr th:only-of-type {\n",
       "        vertical-align: middle;\n",
       "    }\n",
       "\n",
       "    .dataframe tbody tr th {\n",
       "        vertical-align: top;\n",
       "    }\n",
       "\n",
       "    .dataframe thead th {\n",
       "        text-align: right;\n",
       "    }\n",
       "</style>\n",
       "<table border=\"1\" class=\"dataframe\">\n",
       "  <thead>\n",
       "    <tr style=\"text-align: right;\">\n",
       "      <th></th>\n",
       "      <th>Windspeed</th>\n",
       "      <th>T_out</th>\n",
       "    </tr>\n",
       "    <tr>\n",
       "      <th>date</th>\n",
       "      <th></th>\n",
       "      <th></th>\n",
       "    </tr>\n",
       "  </thead>\n",
       "  <tbody>\n",
       "    <tr>\n",
       "      <th>2016-01-11 17:00:00</th>\n",
       "      <td>6.666667</td>\n",
       "      <td>6.483333</td>\n",
       "    </tr>\n",
       "    <tr>\n",
       "      <th>2016-01-11 17:10:00</th>\n",
       "      <td>NaN</td>\n",
       "      <td>NaN</td>\n",
       "    </tr>\n",
       "    <tr>\n",
       "      <th>2016-01-11 17:20:00</th>\n",
       "      <td>NaN</td>\n",
       "      <td>NaN</td>\n",
       "    </tr>\n",
       "    <tr>\n",
       "      <th>2016-01-11 17:30:00</th>\n",
       "      <td>5.666667</td>\n",
       "      <td>6.133333</td>\n",
       "    </tr>\n",
       "    <tr>\n",
       "      <th>2016-01-11 17:40:00</th>\n",
       "      <td>NaN</td>\n",
       "      <td>NaN</td>\n",
       "    </tr>\n",
       "    <tr>\n",
       "      <th>...</th>\n",
       "      <td>...</td>\n",
       "      <td>...</td>\n",
       "    </tr>\n",
       "    <tr>\n",
       "      <th>2016-05-27 17:20:00</th>\n",
       "      <td>NaN</td>\n",
       "      <td>NaN</td>\n",
       "    </tr>\n",
       "    <tr>\n",
       "      <th>2016-05-27 17:30:00</th>\n",
       "      <td>3.666667</td>\n",
       "      <td>22.466667</td>\n",
       "    </tr>\n",
       "    <tr>\n",
       "      <th>2016-05-27 17:40:00</th>\n",
       "      <td>NaN</td>\n",
       "      <td>NaN</td>\n",
       "    </tr>\n",
       "    <tr>\n",
       "      <th>2016-05-27 17:50:00</th>\n",
       "      <td>NaN</td>\n",
       "      <td>NaN</td>\n",
       "    </tr>\n",
       "    <tr>\n",
       "      <th>2016-05-27 18:00:00</th>\n",
       "      <td>4.000000</td>\n",
       "      <td>22.200000</td>\n",
       "    </tr>\n",
       "  </tbody>\n",
       "</table>\n",
       "<p>19735 rows × 2 columns</p>\n",
       "</div>"
      ],
      "text/plain": [
       "                     Windspeed      T_out\n",
       "date                                     \n",
       "2016-01-11 17:00:00   6.666667   6.483333\n",
       "2016-01-11 17:10:00        NaN        NaN\n",
       "2016-01-11 17:20:00        NaN        NaN\n",
       "2016-01-11 17:30:00   5.666667   6.133333\n",
       "2016-01-11 17:40:00        NaN        NaN\n",
       "...                        ...        ...\n",
       "2016-05-27 17:20:00        NaN        NaN\n",
       "2016-05-27 17:30:00   3.666667  22.466667\n",
       "2016-05-27 17:40:00        NaN        NaN\n",
       "2016-05-27 17:50:00        NaN        NaN\n",
       "2016-05-27 18:00:00   4.000000  22.200000\n",
       "\n",
       "[19735 rows x 2 columns]"
      ]
     },
     "execution_count": 771,
     "metadata": {},
     "output_type": "execute_result"
    }
   ],
   "source": [
    "upsamp.asfreq()"
   ]
  },
  {
   "cell_type": "markdown",
   "id": "ce322950",
   "metadata": {
    "slideshow": {
     "slide_type": "slide"
    }
   },
   "source": [
    "- subset upsampled and interpolated data for April 4 to 11\n",
    "- join with our energy data for these data"
   ]
  },
  {
   "cell_type": "code",
   "execution_count": 774,
   "id": "7aefd09b",
   "metadata": {
    "cell_style": "split",
    "slideshow": {
     "slide_type": "fragment"
    }
   },
   "outputs": [
    {
     "data": {
      "text/html": [
       "<div>\n",
       "<style scoped>\n",
       "    .dataframe tbody tr th:only-of-type {\n",
       "        vertical-align: middle;\n",
       "    }\n",
       "\n",
       "    .dataframe tbody tr th {\n",
       "        vertical-align: top;\n",
       "    }\n",
       "\n",
       "    .dataframe thead th {\n",
       "        text-align: right;\n",
       "    }\n",
       "</style>\n",
       "<table border=\"1\" class=\"dataframe\">\n",
       "  <thead>\n",
       "    <tr style=\"text-align: right;\">\n",
       "      <th></th>\n",
       "      <th>Windspeed</th>\n",
       "      <th>T_out</th>\n",
       "      <th>Appliances</th>\n",
       "    </tr>\n",
       "    <tr>\n",
       "      <th>date</th>\n",
       "      <th></th>\n",
       "      <th></th>\n",
       "      <th></th>\n",
       "    </tr>\n",
       "  </thead>\n",
       "  <tbody>\n",
       "    <tr>\n",
       "      <th>2016-04-04 00:00:00</th>\n",
       "      <td>5.000000</td>\n",
       "      <td>14.966667</td>\n",
       "      <td>50</td>\n",
       "    </tr>\n",
       "    <tr>\n",
       "      <th>2016-04-04 00:10:00</th>\n",
       "      <td>5.000000</td>\n",
       "      <td>14.933333</td>\n",
       "      <td>60</td>\n",
       "    </tr>\n",
       "    <tr>\n",
       "      <th>2016-04-04 00:20:00</th>\n",
       "      <td>5.000000</td>\n",
       "      <td>14.900000</td>\n",
       "      <td>50</td>\n",
       "    </tr>\n",
       "    <tr>\n",
       "      <th>2016-04-04 00:30:00</th>\n",
       "      <td>5.000000</td>\n",
       "      <td>14.866667</td>\n",
       "      <td>70</td>\n",
       "    </tr>\n",
       "    <tr>\n",
       "      <th>2016-04-04 00:40:00</th>\n",
       "      <td>4.888889</td>\n",
       "      <td>14.777778</td>\n",
       "      <td>70</td>\n",
       "    </tr>\n",
       "  </tbody>\n",
       "</table>\n",
       "</div>"
      ],
      "text/plain": [
       "                     Windspeed      T_out  Appliances\n",
       "date                                                 \n",
       "2016-04-04 00:00:00   5.000000  14.966667          50\n",
       "2016-04-04 00:10:00   5.000000  14.933333          60\n",
       "2016-04-04 00:20:00   5.000000  14.900000          50\n",
       "2016-04-04 00:30:00   5.000000  14.866667          70\n",
       "2016-04-04 00:40:00   4.888889  14.777778          70"
      ]
     },
     "execution_count": 774,
     "metadata": {},
     "output_type": "execute_result"
    }
   ],
   "source": [
    "data_joined = upsamp.interpolate().loc['April 4 2016': 'April 11 2016']\n",
    "data_joined['Appliances']= data_subset\n",
    "data_joined.head()"
   ]
  },
  {
   "cell_type": "code",
   "execution_count": 777,
   "id": "7222063b",
   "metadata": {
    "cell_style": "split",
    "slideshow": {
     "slide_type": "fragment"
    }
   },
   "outputs": [
    {
     "name": "stdout",
     "output_type": "stream",
     "text": [
      "<class 'pandas.core.frame.DataFrame'>\n",
      "DatetimeIndex: 1152 entries, 2016-04-04 00:00:00 to 2016-04-11 23:50:00\n",
      "Freq: 10T\n",
      "Data columns (total 3 columns):\n",
      " #   Column      Non-Null Count  Dtype  \n",
      "---  ------      --------------  -----  \n",
      " 0   Windspeed   1152 non-null   float64\n",
      " 1   T_out       1152 non-null   float64\n",
      " 2   Appliances  1152 non-null   int64  \n",
      "dtypes: float64(2), int64(1)\n",
      "memory usage: 36.0 KB\n"
     ]
    }
   ],
   "source": [
    "data_joined.info()"
   ]
  },
  {
   "cell_type": "markdown",
   "id": "a73eb6f8",
   "metadata": {
    "cell_style": "split",
    "slideshow": {
     "slide_type": "-"
    }
   },
   "source": [
    "Oversampled less frequent weather data and joined with more frequent energy usage measuremts."
   ]
  },
  {
   "cell_type": "markdown",
   "id": "f410028c",
   "metadata": {
    "slideshow": {
     "slide_type": "slide"
    }
   },
   "source": [
    "#### Time Series Visualization"
   ]
  },
  {
   "cell_type": "markdown",
   "id": "703d2d6f",
   "metadata": {
    "cell_style": "center",
    "slideshow": {
     "slide_type": "subslide"
    }
   },
   "source": [
    "Loading pandas dataframe with datetime index:\n",
    "- column 0 is the date\n",
    "- parse_date = True interprets index as datetime index automatically."
   ]
  },
  {
   "cell_type": "code",
   "execution_count": 799,
   "id": "86bebcf0",
   "metadata": {
    "cell_style": "center",
    "slideshow": {
     "slide_type": "fragment"
    }
   },
   "outputs": [
    {
     "data": {
      "text/html": [
       "<div>\n",
       "<style scoped>\n",
       "    .dataframe tbody tr th:only-of-type {\n",
       "        vertical-align: middle;\n",
       "    }\n",
       "\n",
       "    .dataframe tbody tr th {\n",
       "        vertical-align: top;\n",
       "    }\n",
       "\n",
       "    .dataframe thead th {\n",
       "        text-align: right;\n",
       "    }\n",
       "</style>\n",
       "<table border=\"1\" class=\"dataframe\">\n",
       "  <thead>\n",
       "    <tr style=\"text-align: right;\">\n",
       "      <th></th>\n",
       "      <th>Open</th>\n",
       "      <th>High</th>\n",
       "      <th>Low</th>\n",
       "      <th>Close</th>\n",
       "      <th>Adj Close</th>\n",
       "      <th>Volume</th>\n",
       "    </tr>\n",
       "    <tr>\n",
       "      <th>Date</th>\n",
       "      <th></th>\n",
       "      <th></th>\n",
       "      <th></th>\n",
       "      <th></th>\n",
       "      <th></th>\n",
       "      <th></th>\n",
       "    </tr>\n",
       "  </thead>\n",
       "  <tbody>\n",
       "    <tr>\n",
       "      <th>2019-05-10</th>\n",
       "      <td>42.000000</td>\n",
       "      <td>45.000000</td>\n",
       "      <td>41.060001</td>\n",
       "      <td>41.570000</td>\n",
       "      <td>41.570000</td>\n",
       "      <td>186322500</td>\n",
       "    </tr>\n",
       "    <tr>\n",
       "      <th>2019-05-13</th>\n",
       "      <td>38.790001</td>\n",
       "      <td>39.240002</td>\n",
       "      <td>36.080002</td>\n",
       "      <td>37.099998</td>\n",
       "      <td>37.099998</td>\n",
       "      <td>79442400</td>\n",
       "    </tr>\n",
       "    <tr>\n",
       "      <th>2019-05-14</th>\n",
       "      <td>38.310001</td>\n",
       "      <td>39.959999</td>\n",
       "      <td>36.849998</td>\n",
       "      <td>39.959999</td>\n",
       "      <td>39.959999</td>\n",
       "      <td>46661100</td>\n",
       "    </tr>\n",
       "    <tr>\n",
       "      <th>2019-05-15</th>\n",
       "      <td>39.369999</td>\n",
       "      <td>41.880001</td>\n",
       "      <td>38.950001</td>\n",
       "      <td>41.290001</td>\n",
       "      <td>41.290001</td>\n",
       "      <td>36086100</td>\n",
       "    </tr>\n",
       "    <tr>\n",
       "      <th>2019-05-16</th>\n",
       "      <td>41.480000</td>\n",
       "      <td>44.060001</td>\n",
       "      <td>41.250000</td>\n",
       "      <td>43.000000</td>\n",
       "      <td>43.000000</td>\n",
       "      <td>38115500</td>\n",
       "    </tr>\n",
       "  </tbody>\n",
       "</table>\n",
       "</div>"
      ],
      "text/plain": [
       "                 Open       High        Low      Close  Adj Close     Volume\n",
       "Date                                                                        \n",
       "2019-05-10  42.000000  45.000000  41.060001  41.570000  41.570000  186322500\n",
       "2019-05-13  38.790001  39.240002  36.080002  37.099998  37.099998   79442400\n",
       "2019-05-14  38.310001  39.959999  36.849998  39.959999  39.959999   46661100\n",
       "2019-05-15  39.369999  41.880001  38.950001  41.290001  41.290001   36086100\n",
       "2019-05-16  41.480000  44.060001  41.250000  43.000000  43.000000   38115500"
      ]
     },
     "execution_count": 799,
     "metadata": {},
     "output_type": "execute_result"
    }
   ],
   "source": [
    "# column 0 is the date the parse_date = True interprets index as datetime index automatically.\n",
    "uber_data = pd.read_csv(\"Data/uber.csv\", index_col = [0], parse_dates = True)\n",
    "uber_data.head()"
   ]
  },
  {
   "cell_type": "markdown",
   "id": "99264a6c",
   "metadata": {
    "slideshow": {
     "slide_type": "slide"
    }
   },
   "source": [
    "Multiple time series indexed on same datetime:\n",
    "- pandas plotting useful\n",
    "- subplots = True option "
   ]
  },
  {
   "cell_type": "code",
   "execution_count": 860,
   "id": "0300142a",
   "metadata": {
    "slideshow": {
     "slide_type": "fragment"
    }
   },
   "outputs": [
    {
     "data": {
      "image/png": "[encoded data removed]",
      "text/plain": [
       "<Figure size 576x432 with 6 Axes>"
      ]
     },
     "metadata": {
      "needs_background": "light"
     },
     "output_type": "display_data"
    }
   ],
   "source": [
    "uber_data.plot(subplots = True, figsize = (8,6))\n",
    "plt.show()"
   ]
  },
  {
   "cell_type": "markdown",
   "id": "a8acc773",
   "metadata": {
    "slideshow": {
     "slide_type": "slide"
    }
   },
   "source": [
    "#### Time Series Differencing and Trend Computation"
   ]
  },
  {
   "cell_type": "markdown",
   "id": "8acd0543",
   "metadata": {
    "cell_style": "split",
    "slideshow": {
     "slide_type": "subslide"
    }
   },
   "source": [
    "In many applications:\n",
    "- don't care *as much* about actual values of time series\n",
    "- care *more* about changes in values of time series\n",
    "- or relative changes in values of time series"
   ]
  },
  {
   "cell_type": "markdown",
   "id": "6d7aa3c7",
   "metadata": {
    "cell_style": "split",
    "slideshow": {
     "slide_type": "fragment"
    }
   },
   "source": [
    "- Time series differencing\n",
    "- Evaluating change in percentage from previous value"
   ]
  },
  {
   "cell_type": "markdown",
   "id": "8b28a8a3",
   "metadata": {
    "cell_style": "split",
    "slideshow": {
     "slide_type": "slide"
    }
   },
   "source": [
    "**Differencing**\n",
    "- pandas Series has .diff() method\n",
    "- .diff(period = ) where period indicates differencing lag"
   ]
  },
  {
   "cell_type": "markdown",
   "id": "8321e917",
   "metadata": {
    "cell_style": "split",
    "slideshow": {
     "slide_type": "fragment"
    }
   },
   "source": [
    "- period = 1: return Series $Y[t] - T[t - 1]$\n",
    "- period = 2: returns Series $Y[t] - Y[t-2]$\n",
    "- period = k: returns Series $Y[t] - Y[t-k]$"
   ]
  },
  {
   "cell_type": "markdown",
   "id": "12fb4085",
   "metadata": {
    "cell_style": "split",
    "slideshow": {
     "slide_type": "fragment"
    }
   },
   "source": [
    "Let's first order difference the adjusted close Series and compare to original series."
   ]
  },
  {
   "cell_type": "code",
   "execution_count": 805,
   "id": "346cc2f0",
   "metadata": {
    "cell_style": "split",
    "slideshow": {
     "slide_type": "subslide"
    }
   },
   "outputs": [
    {
     "data": {
      "text/plain": [
       "Date\n",
       "2019-05-10         NaN\n",
       "2019-05-13   -4.470002\n",
       "2019-05-14    2.860001\n",
       "2019-05-15    1.330002\n",
       "2019-05-16    1.709999\n",
       "                ...   \n",
       "2022-03-18    0.510003\n",
       "2022-03-21   -1.380001\n",
       "2022-03-22    1.369998\n",
       "2022-03-23   -0.289997\n",
       "2022-03-24    1.640000\n",
       "Name: Adj Close, Length: 725, dtype: float64"
      ]
     },
     "execution_count": 805,
     "metadata": {},
     "output_type": "execute_result"
    }
   ],
   "source": [
    "uber_data['Adj Close'].diff() # default is first order difference"
   ]
  },
  {
   "cell_type": "code",
   "execution_count": 806,
   "id": "3cffdd41",
   "metadata": {
    "cell_style": "split",
    "slideshow": {
     "slide_type": "fragment"
    }
   },
   "outputs": [
    {
     "data": {
      "text/plain": [
       "Date\n",
       "2019-05-10    41.570000\n",
       "2019-05-13    37.099998\n",
       "2019-05-14    39.959999\n",
       "2019-05-15    41.290001\n",
       "2019-05-16    43.000000\n",
       "                ...    \n",
       "2022-03-18    33.360001\n",
       "2022-03-21    31.980000\n",
       "2022-03-22    33.349998\n",
       "2022-03-23    33.060001\n",
       "2022-03-24    34.700001\n",
       "Name: Adj Close, Length: 725, dtype: float64"
      ]
     },
     "execution_count": 806,
     "metadata": {},
     "output_type": "execute_result"
    }
   ],
   "source": [
    "uber_data['Adj Close']"
   ]
  },
  {
   "cell_type": "markdown",
   "id": "70b3c342",
   "metadata": {
    "slideshow": {
     "slide_type": "fragment"
    }
   },
   "source": [
    "Naturally produces NaN at first element: no previous element to difference on."
   ]
  },
  {
   "cell_type": "markdown",
   "id": "16893792",
   "metadata": {
    "slideshow": {
     "slide_type": "slide"
    }
   },
   "source": [
    "Plot visualizing the Adjusted close and the differenced Adjusted Close:"
   ]
  },
  {
   "cell_type": "code",
   "execution_count": 815,
   "id": "08c828a0",
   "metadata": {
    "slideshow": {
     "slide_type": "fragment"
    }
   },
   "outputs": [
    {
     "data": {
      "image/png": "[encoded data removed]",
      "text/plain": [
       "<Figure size 504x360 with 2 Axes>"
      ]
     },
     "metadata": {
      "needs_background": "light"
     },
     "output_type": "display_data"
    }
   ],
   "source": [
    "diff_df = pd.DataFrame(uber_data['Adj Close'])\n",
    "diff_df['Differenced'] = uber_data['Adj Close'].diff()\n",
    "diff_df.plot(subplots = True, figsize = (7,5))\n",
    "plt.show()"
   ]
  },
  {
   "cell_type": "markdown",
   "id": "28f00b11",
   "metadata": {
    "cell_style": "center",
    "slideshow": {
     "slide_type": "subslide"
    }
   },
   "source": [
    "With stocks, in particular:\n",
    "- want to predict where percentage change between subsequent time-steps might be large"
   ]
  },
  {
   "cell_type": "markdown",
   "id": "776d55a5",
   "metadata": {
    "slideshow": {
     "slide_type": "subslide"
    }
   },
   "source": [
    "- pandas Series has .pct_change() calculating:\n",
    "$$ \\frac{Y[t] - Y[t-1]}{Y[t]} $$"
   ]
  },
  {
   "cell_type": "code",
   "execution_count": 820,
   "id": "ff001c83",
   "metadata": {
    "cell_style": "center",
    "slideshow": {
     "slide_type": "fragment"
    }
   },
   "outputs": [
    {
     "data": {
      "text/plain": [
       "Date\n",
       "2019-05-10          NaN\n",
       "2019-05-13   -10.752952\n",
       "2019-05-14     7.708898\n",
       "2019-05-15     3.328333\n",
       "2019-05-16     4.141436\n",
       "                ...    \n",
       "2022-03-18     1.552521\n",
       "2022-03-21    -4.136694\n",
       "2022-03-22     4.283921\n",
       "2022-03-23    -0.869556\n",
       "2022-03-24     4.960677\n",
       "Name: pct_change, Length: 725, dtype: float64"
      ]
     },
     "execution_count": 820,
     "metadata": {},
     "output_type": "execute_result"
    }
   ],
   "source": [
    "diff_df['pct_change'] = diff_df['Adj Close'].pct_change()*100\n",
    "diff_df['pct_change'] "
   ]
  },
  {
   "cell_type": "markdown",
   "id": "524b0809",
   "metadata": {
    "slideshow": {
     "slide_type": "subslide"
    }
   },
   "source": [
    "Visualizing original time series, differenced series, sequential percentage change:"
   ]
  },
  {
   "cell_type": "code",
   "execution_count": 823,
   "id": "17af7cc7",
   "metadata": {
    "scrolled": false,
    "slideshow": {
     "slide_type": "-"
    }
   },
   "outputs": [
    {
     "data": {
      "image/png": "[encoded data removed]",
      "text/plain": [
       "<Figure size 864x576 with 3 Axes>"
      ]
     },
     "metadata": {
      "needs_background": "light"
     },
     "output_type": "display_data"
    }
   ],
   "source": [
    "diff_df.plot(subplots = True, figsize = (12,8))\n",
    "plt.show()"
   ]
  },
  {
   "cell_type": "markdown",
   "id": "386e8cf9",
   "metadata": {
    "slideshow": {
     "slide_type": "slide"
    }
   },
   "source": [
    "In some cases, want to smooth a time series:\n",
    "- can be helpful in evaluating time series trends\n",
    "- around which there are noise fluctuations"
   ]
  },
  {
   "cell_type": "markdown",
   "id": "0fd5e4f6",
   "metadata": {
    "slideshow": {
     "slide_type": "subslide"
    }
   },
   "source": [
    ".rolling() method:\n",
    "- creates an object which creates window that slides across time series\n",
    "- can aggregate within window\n",
    "\n",
    "Generates a rolling aggregation (rolling mean, etc) as a function of time."
   ]
  },
  {
   "cell_type": "markdown",
   "id": "0ee1c96c",
   "metadata": {
    "slideshow": {
     "slide_type": "subslide"
    }
   },
   "source": [
    "- .rolling(n) generates a rolling object that contains a sequence of windows:\n",
    "    - each window has $n$ observations in it"
   ]
  },
  {
   "cell_type": "code",
   "execution_count": 851,
   "id": "a9efb341",
   "metadata": {
    "slideshow": {
     "slide_type": "fragment"
    }
   },
   "outputs": [
    {
     "data": {
      "text/plain": [
       "Rolling [window=8,center=False,axis=0,method=single]"
      ]
     },
     "execution_count": 851,
     "metadata": {},
     "output_type": "execute_result"
    }
   ],
   "source": [
    "diff_df['Adj Close'].rolling(8)"
   ]
  },
  {
   "cell_type": "markdown",
   "id": "be57c71d",
   "metadata": {
    "cell_style": "split",
    "slideshow": {
     "slide_type": "slide"
    }
   },
   "source": [
    "Aggregating will compute statistic in window\n",
    "- sliding window through time series"
   ]
  },
  {
   "cell_type": "code",
   "execution_count": 853,
   "id": "03206409",
   "metadata": {
    "cell_style": "split"
   },
   "outputs": [
    {
     "data": {
      "text/plain": [
       "Date\n",
       "2019-05-10         NaN\n",
       "2019-05-13         NaN\n",
       "2019-05-14         NaN\n",
       "2019-05-15         NaN\n",
       "2019-05-16         NaN\n",
       "                ...   \n",
       "2022-03-18    31.32000\n",
       "2022-03-21    31.38000\n",
       "2022-03-22    31.74750\n",
       "2022-03-23    32.03500\n",
       "2022-03-24    32.71375\n",
       "Name: Adj Close, Length: 725, dtype: float64"
      ]
     },
     "execution_count": 853,
     "metadata": {},
     "output_type": "execute_result"
    }
   ],
   "source": [
    "# note that first four rollng means will be NaN\n",
    "# makes sense for n = 5 window\n",
    "diff_df['Adj Close'].rolling(8).mean()"
   ]
  },
  {
   "cell_type": "markdown",
   "id": "4d72b1c4",
   "metadata": {
    "slideshow": {
     "slide_type": "slide"
    }
   },
   "source": [
    "Plot the rolling mean and  the actual series:"
   ]
  },
  {
   "cell_type": "code",
   "execution_count": 859,
   "id": "23e27dc2",
   "metadata": {
    "cell_style": "center",
    "slideshow": {
     "slide_type": "fragment"
    }
   },
   "outputs": [
    {
     "data": {
      "image/png": "[encoded data removed]",
      "text/plain": [
       "<Figure size 864x576 with 1 Axes>"
      ]
     },
     "metadata": {
      "needs_background": "light"
     },
     "output_type": "display_data"
    }
   ],
   "source": [
    "diff_df['rolling_mean'] = diff_df['Adj Close'].rolling(8).mean()\n",
    "diff_df[['Adj Close', 'rolling_mean']].plot(figsize = (12,8), linewidth = 4)\n",
    "plt.show()"
   ]
  },
  {
   "cell_type": "markdown",
   "id": "a9dc78b6",
   "metadata": {
    "cell_style": "center",
    "slideshow": {
     "slide_type": "fragment"
    }
   },
   "source": [
    "Gives us a smoothed version of the Close prices:\n",
    "- analyze sustained increasing and decreasing trends\n",
    "- discarding/ignoring high frequency fluctuation/noise"
   ]
  },
  {
   "cell_type": "markdown",
   "id": "a12708ac",
   "metadata": {
    "cell_style": "split",
    "slideshow": {
     "slide_type": "slide"
    }
   },
   "source": [
    "We/you will use many of these Time Series methods:\n",
    "- datetime manipulation\n",
    "- resampling/imputation techniques\n",
    "- windowed aggregates\n",
    "- differencing"
   ]
  },
  {
   "cell_type": "markdown",
   "id": "c20117b1",
   "metadata": {
    "cell_style": "split",
    "slideshow": {
     "slide_type": "fragment"
    }
   },
   "source": [
    "For:\n",
    "- exploring time series processes and their internal structure\n",
    "- modeling the process that generated the series:\n",
    "    - trend, seasonality, statistics of fluctuations\n",
    "- constructing parsimonious models for out-of-sample predictions/forecasting\n"
   ]
  }
 ],
 "metadata": {
  "celltoolbar": "Slideshow",
  "kernelspec": {
   "display_name": "Python 3 (ipykernel)",
   "language": "python",
   "name": "python3"
  },
  "language_info": {
   "codemirror_mode": {
    "name": "ipython",
    "version": 3
   },
   "file_extension": ".py",
   "mimetype": "text/x-python",
   "name": "python",
   "nbconvert_exporter": "python",
   "pygments_lexer": "ipython3",
   "version": "3.9.7"
  }
 },
 "nbformat": 4,
 "nbformat_minor": 5
}
