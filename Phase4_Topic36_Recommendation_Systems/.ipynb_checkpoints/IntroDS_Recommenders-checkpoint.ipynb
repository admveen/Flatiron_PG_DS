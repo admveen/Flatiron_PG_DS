{
 "cells": [
  {
   "cell_type": "markdown",
   "id": "8c21d496",
   "metadata": {
    "slideshow": {
     "slide_type": "slide"
    }
   },
   "source": [
    "<div style=\"color:white;\n",
    "           display:fill;\n",
    "           border-radius:5px;\n",
    "           background-color:#5642C5;\n",
    "           font-size:200%;\n",
    "           font-family:Arial;letter-spacing:0.5px\">\n",
    "\n",
    "<p width = 20%, style=\"padding: 10px;\n",
    "              color:white;\">\n",
    "Intro to Data Science: Recommendation Engines\n",
    "              \n",
    "</p>\n",
    "</div>\n",
    "\n",
    "Flatiron Data Science Colloquium Series\n",
    "<p>7/27/2022</p>\n",
    "<br>\n",
    "<br>\n",
    "\n",
    "<div align = \"right\">\n",
    "<img src=\"Images/flatiron-school-logo.png\" align = \"right\" width=\"200\"/>\n",
    "</div>\n",
    "    \n",
    "    "
   ]
  },
  {
   "cell_type": "markdown",
   "id": "64f1be49",
   "metadata": {
    "slideshow": {
     "slide_type": "slide"
    }
   },
   "source": [
    "### Recommender systems in your day-to-day"
   ]
  },
  {
   "cell_type": "markdown",
   "id": "f9aff330",
   "metadata": {
    "cell_style": "center",
    "slideshow": {
     "slide_type": "subslide"
    }
   },
   "source": [
    "#### Automated content curation and personalized suggestions"
   ]
  },
  {
   "cell_type": "markdown",
   "id": "5144608c",
   "metadata": {
    "cell_style": "split",
    "slideshow": {
     "slide_type": "subslide"
    }
   },
   "source": [
    "<div align = \"center\">\n",
    "\n",
    "<img src=\"Images/goodreads_logo.jpg\" align = \"center\" width=\"300\"/>\n",
    "\n",
    "</div>\n",
    "Based on explicit star ratings of books:\n",
    "\n",
    "\n",
    "<div align = \"center\">\n",
    "<img src=\"Images/Goodreads_starred.png\" align = \"center\" width=\"700\"/>\n",
    "</div>"
   ]
  },
  {
   "cell_type": "markdown",
   "id": "cdac46d4",
   "metadata": {
    "cell_style": "split",
    "slideshow": {
     "slide_type": "-"
    }
   },
   "source": [
    "Yielding recommendations:\n",
    "\n",
    "<div align = \"center\">\n",
    "<img src=\"Images/goodreads.png\" align = \"center\" width=\"700\"/>\n",
    "</div>"
   ]
  },
  {
   "cell_type": "markdown",
   "id": "9147cbac",
   "metadata": {
    "cell_style": "split",
    "slideshow": {
     "slide_type": "slide"
    }
   },
   "source": [
    "<div align = \"center\">\n",
    "\n",
    "<img src=\"Images/medium_logo.png\" align = \"center\" width=\"300\"/>\n",
    "\n",
    "</div>\n",
    "Based on:\n",
    "\n",
    "- Article click frequency\n",
    "- Active reading time (scrolling, page clicking, etc)\n"
   ]
  },
  {
   "cell_type": "markdown",
   "id": "aa135e76",
   "metadata": {
    "cell_style": "split",
    "slideshow": {
     "slide_type": "-"
    }
   },
   "source": [
    "<div align = \"center\">\n",
    "<img src=\"Images/medium_recommendations.png\" align = \"center\" width=\"600\"/>\n",
    "</div>\n",
    "    "
   ]
  },
  {
   "cell_type": "markdown",
   "id": "7e1d3d60",
   "metadata": {
    "slideshow": {
     "slide_type": "slide"
    }
   },
   "source": [
    "#### Personalized product recommendations in e-commerce"
   ]
  },
  {
   "cell_type": "markdown",
   "id": "8717deba",
   "metadata": {
    "cell_style": "split",
    "slideshow": {
     "slide_type": "subslide"
    }
   },
   "source": [
    "Based of my recent browsing history and purchases:\n",
    "- retro desk lamps and shadow projection lamps\n",
    "- various animistic tribal masks"
   ]
  },
  {
   "cell_type": "markdown",
   "id": "9acdf621",
   "metadata": {
    "cell_style": "split",
    "slideshow": {
     "slide_type": "fragment"
    }
   },
   "source": [
    "Also uses:\n",
    "- Product images\n",
    "- Item categories/seller descriptions"
   ]
  },
  {
   "cell_type": "markdown",
   "id": "a4c1fd47",
   "metadata": {
    "cell_style": "center",
    "slideshow": {
     "slide_type": "subslide"
    }
   },
   "source": [
    "<div align = \"center\">\n",
    "<img src=\"Images/etsy_rec.png\" align = \"center\" width=\"900\"/>\n",
    "</div>"
   ]
  },
  {
   "cell_type": "markdown",
   "id": "5975099e",
   "metadata": {
    "cell_style": "center",
    "slideshow": {
     "slide_type": "slide"
    }
   },
   "source": [
    "### The Recommendation Problem (in general)"
   ]
  },
  {
   "cell_type": "markdown",
   "id": "e95644b9",
   "metadata": {
    "cell_style": "split",
    "slideshow": {
     "slide_type": "subslide"
    }
   },
   "source": [
    "*Users*\n",
    "\n",
    "- List of users, preferences and/or other info (in some form or another)\n"
   ]
  },
  {
   "cell_type": "markdown",
   "id": "61ffaa63",
   "metadata": {
    "cell_style": "split",
    "slideshow": {
     "slide_type": "fragment"
    }
   },
   "source": [
    "*Items/Entities*\n",
    "\n",
    "- collection of items that users has or might interact with\n",
    "- potentially info on these items"
   ]
  },
  {
   "cell_type": "markdown",
   "id": "c4239c1a",
   "metadata": {
    "cell_style": "split",
    "slideshow": {
     "slide_type": "slide"
    }
   },
   "source": [
    "*User-Item Interactions*\n",
    "- **Explicit**: rating items directly\n",
    "    - like = 1/dislike = 0\n",
    "    - 1-5 stars\n",
    " \n",
    "<div align = \"center\">\n",
    "<img src=\"Images/star_rating.webp\" align = \"center\" width=\"450\"/>\n",
    "</div>"
   ]
  },
  {
   "cell_type": "markdown",
   "id": "6db30fe4",
   "metadata": {
    "cell_style": "split",
    "slideshow": {
     "slide_type": "fragment"
    }
   },
   "source": [
    "<div align = \"center\">\n",
    "<img src=\"Images/gladiator_up.jpeg\" align = \"center\" width=\"600\"/>\n",
    "</div>\n",
    "\n",
    "<center><i>Likes/dislikes can sometimes be a life or death matter</i></center>"
   ]
  },
  {
   "cell_type": "markdown",
   "id": "c0cb6968",
   "metadata": {
    "cell_style": "split",
    "slideshow": {
     "slide_type": "subslide"
    }
   },
   "source": [
    "*User-Item Interactions*\n",
    "- **Implicit**: monitor user activity and *deduce* item relevance\n",
    "    - did a user watch a movie to the end?\n",
    "    - did a user click on a product page? \n"
   ]
  },
  {
   "cell_type": "markdown",
   "id": "4a8ebf29",
   "metadata": {
    "cell_style": "split",
    "slideshow": {
     "slide_type": "fragment"
    }
   },
   "source": [
    "- Interaction = 1\n",
    "- No interaction = 0\n",
    "\n",
    "| User | Intro to Hollow Earth | Optimizing your garden tomato yield | Egypt: The Middle Kingdom | George Motz: The Burger Scholar| Rexamining Darwin|\n",
    "| --- | --- | --- | --- | --- | --- |\n",
    "| Praveen | 1 | 0 | 1 | 0 | 1 |\n",
    "\n",
    "<center> Youtube Videos: Past Month Click History </center>\n"
   ]
  },
  {
   "cell_type": "markdown",
   "id": "8ac0f126",
   "metadata": {
    "cell_style": "split",
    "slideshow": {
     "slide_type": "subslide"
    }
   },
   "source": [
    "*User-Item Interactions*\n",
    "- **Implicit**: monitor user activity and *deduce* item relevance\n",
    "    - did a user watch a movie to the end?\n",
    "    - did a user click on a product page? \n"
   ]
  },
  {
   "cell_type": "markdown",
   "id": "8f65ebd1",
   "metadata": {
    "cell_style": "split",
    "slideshow": {
     "slide_type": "fragment"
    }
   },
   "source": [
    "<center>Youtube keeps recommending:</center>\n",
    "<div align = \"center\">\n",
    "<img src=\"Images/aliens.jpg\" align = \"center\" width=\"600\"/>\n",
    "</div>\n",
    "\n",
    "<center><i>Dear lord...what have I been clicking on?</i></center>"
   ]
  },
  {
   "cell_type": "markdown",
   "id": "56a56e69",
   "metadata": {
    "slideshow": {
     "slide_type": "fragment"
    }
   },
   "source": [
    "We'll focus on recommendations using explicit ratings here:\n",
    "- mainly, because a little easier to think about"
   ]
  },
  {
   "cell_type": "markdown",
   "id": "5542df44",
   "metadata": {
    "slideshow": {
     "slide_type": "slide"
    }
   },
   "source": [
    "**Goal** "
   ]
  },
  {
   "cell_type": "markdown",
   "id": "83308faa",
   "metadata": {
    "cell_style": "split",
    "slideshow": {
     "slide_type": "fragment"
    }
   },
   "source": [
    "Given user interaction with items:\n",
    "\n",
    "\n",
    "<div align = \"center\">\n",
    "<img src=\"Images/user_movies_explicit.png\" align = \"center\" width=\"600\"/>\n",
    "</div>\n"
   ]
  },
  {
   "cell_type": "markdown",
   "id": "23e06fb8",
   "metadata": {
    "cell_style": "split",
    "slideshow": {
     "slide_type": "-"
    }
   },
   "source": [
    "Predict user engagement or ratings on entity user has not yet interacted with.\n",
    "\n",
    "<div align = \"center\">\n",
    "<img src=\"Images/user_movies_unknown.png\" align = \"center\" width=\"600\"/>\n",
    "</div>\n",
    "\n",
    "Filter this to get top $K$ results with highest predicted engagement/rating for user."
   ]
  },
  {
   "cell_type": "markdown",
   "id": "a7db1803",
   "metadata": {
    "slideshow": {
     "slide_type": "slide"
    }
   },
   "source": [
    "### Classes of Recommender Systems"
   ]
  },
  {
   "cell_type": "markdown",
   "id": "ae2879c6",
   "metadata": {
    "cell_style": "split",
    "slideshow": {
     "slide_type": "subslide"
    }
   },
   "source": [
    "**Content-Based Filtering**\n",
    "\n",
    "- Collect user preferences and info through:\n",
    "    - direct polling\n",
    "    - direct interaction patterns with items\n",
    "- Database of products (entities) and relevant features\n",
    "    - expert labeled / curated"
   ]
  },
  {
   "cell_type": "markdown",
   "id": "2719484d",
   "metadata": {
    "cell_style": "split",
    "slideshow": {
     "slide_type": "fragment"
    }
   },
   "source": [
    "- Represent users and entities in numeric form.\n",
    "- Encodes item features and how much users cares about these features.\n",
    "\n",
    "Recommender then matches user's feature preferences with item database."
   ]
  },
  {
   "cell_type": "markdown",
   "id": "6b5ab34e",
   "metadata": {
    "cell_style": "center",
    "slideshow": {
     "slide_type": "slide"
    }
   },
   "source": [
    "An example numeric representation:\n",
    "<div align = \"center\">\n",
    "<img src=\"Images/contentbased1.png\" align = \"center\" width=\"600\"/>\n",
    "</div>\n",
    "\n",
    "- Based on Sparkles' direct input, usage/rating history\n",
    "- Tagging/features on entities constructed by experts"
   ]
  },
  {
   "cell_type": "markdown",
   "id": "f6e8f347",
   "metadata": {
    "slideshow": {
     "slide_type": "fragment"
    }
   },
   "source": [
    "This list of numbers representing user/items are commonly called **vectors**."
   ]
  },
  {
   "cell_type": "markdown",
   "id": "6920f4f5",
   "metadata": {
    "slideshow": {
     "slide_type": "subslide"
    }
   },
   "source": [
    "Another example:\n",
    "\n",
    "<div align = \"center\">\n",
    "<img src=\"Images/contentbased_bacon.png\" align = \"center\" width=\"600\"/>\n",
    "</div>\n",
    "\n",
    "Is Sparkles likely to like this movie?"
   ]
  },
  {
   "cell_type": "markdown",
   "id": "25d115c8",
   "metadata": {
    "cell_style": "center",
    "slideshow": {
     "slide_type": "slide"
    }
   },
   "source": [
    "#### Using user/item numeric representations to predict engagement/rating"
   ]
  },
  {
   "cell_type": "markdown",
   "id": "519a4681",
   "metadata": {
    "slideshow": {
     "slide_type": "fragment"
    }
   },
   "source": [
    "Rather simple binary vector representation of users and items:\n",
    "- Note: users and items were represented in the same feature space:\n",
    "    - needs to be the case for user-item comparison.\n",
    "    - Sparkles likes Sports and Adventure. Free solo is about Sports and Adventure."
   ]
  },
  {
   "cell_type": "markdown",
   "id": "3acc7520",
   "metadata": {
    "slideshow": {
     "slide_type": "fragment"
    }
   },
   "source": [
    "Let's concretely see how these representations might be used to encode user-item affinity."
   ]
  },
  {
   "cell_type": "code",
   "execution_count": 279,
   "id": "714a666b",
   "metadata": {
    "slideshow": {
     "slide_type": "slide"
    }
   },
   "outputs": [],
   "source": [
    "import pandas as pd # really important data manipulation package\n",
    "import numpy as np # a very important math/algebra package\n",
    "\n",
    "feat_names = ['Kevin Bacon', 'Adventure', 'Horror', 'Slapstick', 'Sports', 'Romantic Comedy']\n",
    "sparkles_vector = pd.Series([0,1,0,1,1,0], index = feat_names, name = 'Sparkles' )\n",
    "sparkles_vector\n",
    "\n",
    "free_solo_vector = pd.Series([0,1,0,0,1,0], index = feat_names, name = 'Free Solo' )\n",
    "hsss_vector = pd.Series([1,0,0,0,0,1], index = feat_names, name = 'He Said She Said' )"
   ]
  },
  {
   "cell_type": "code",
   "execution_count": 280,
   "id": "4824bbcb",
   "metadata": {
    "cell_style": "split",
    "scrolled": true,
    "slideshow": {
     "slide_type": "subslide"
    }
   },
   "outputs": [
    {
     "data": {
      "text/plain": [
       "Kevin Bacon        0\n",
       "Adventure          1\n",
       "Horror             0\n",
       "Slapstick          1\n",
       "Sports             1\n",
       "Romantic Comedy    0\n",
       "Name: Sparkles, dtype: int64"
      ]
     },
     "execution_count": 280,
     "metadata": {},
     "output_type": "execute_result"
    }
   ],
   "source": [
    "sparkles_vector"
   ]
  },
  {
   "cell_type": "code",
   "execution_count": 281,
   "id": "5746bdf3",
   "metadata": {
    "cell_style": "split",
    "slideshow": {
     "slide_type": "fragment"
    }
   },
   "outputs": [
    {
     "data": {
      "text/plain": [
       "Kevin Bacon        0\n",
       "Adventure          1\n",
       "Horror             0\n",
       "Slapstick          0\n",
       "Sports             1\n",
       "Romantic Comedy    0\n",
       "Name: Free Solo, dtype: int64"
      ]
     },
     "execution_count": 281,
     "metadata": {},
     "output_type": "execute_result"
    }
   ],
   "source": [
    "free_solo_vector"
   ]
  },
  {
   "cell_type": "markdown",
   "id": "8bb2a794",
   "metadata": {
    "slideshow": {
     "slide_type": "fragment"
    }
   },
   "source": [
    "Want a single number that encodes how much Sparkles might like Free Solo.\n",
    "\n",
    "Any ideas from the audience?"
   ]
  },
  {
   "cell_type": "markdown",
   "id": "871e864c",
   "metadata": {
    "slideshow": {
     "slide_type": "slide"
    }
   },
   "source": [
    "One way is to multiply the vectors elementise and sum the result up:\n",
    "- elementwise-multiplication only produces 1 when Sparkles and item vector component are both 1\n",
    "- That is a movie has a feature that Sparkles likes."
   ]
  },
  {
   "cell_type": "code",
   "execution_count": 282,
   "id": "2c764a8d",
   "metadata": {
    "cell_style": "split",
    "slideshow": {
     "slide_type": "slide"
    }
   },
   "outputs": [
    {
     "name": "stdout",
     "output_type": "stream",
     "text": [
      "Kevin Bacon        0\n",
      "Adventure          1\n",
      "Horror             0\n",
      "Slapstick          1\n",
      "Sports             1\n",
      "Romantic Comedy    0\n",
      "Name: Sparkles, dtype: int64 \n",
      "\n",
      " Kevin Bacon        0\n",
      "Adventure          1\n",
      "Horror             0\n",
      "Slapstick          0\n",
      "Sports             1\n",
      "Romantic Comedy    0\n",
      "Name: Free Solo, dtype: int64\n"
     ]
    }
   ],
   "source": [
    "print(sparkles_vector, \"\\n\\n\", free_solo_vector)"
   ]
  },
  {
   "cell_type": "markdown",
   "id": "d142e881",
   "metadata": {
    "cell_style": "split",
    "slideshow": {
     "slide_type": "-"
    }
   },
   "source": [
    "Element-wise product"
   ]
  },
  {
   "cell_type": "code",
   "execution_count": 283,
   "id": "2546bd80",
   "metadata": {
    "cell_style": "split",
    "slideshow": {
     "slide_type": "-"
    }
   },
   "outputs": [
    {
     "data": {
      "text/plain": [
       "Kevin Bacon        0\n",
       "Adventure          1\n",
       "Horror             0\n",
       "Slapstick          0\n",
       "Sports             1\n",
       "Romantic Comedy    0\n",
       "dtype: int64"
      ]
     },
     "execution_count": 283,
     "metadata": {},
     "output_type": "execute_result"
    }
   ],
   "source": [
    "elem_prod = sparkles_vector*free_solo_vector\n",
    "elem_prod"
   ]
  },
  {
   "cell_type": "code",
   "execution_count": 284,
   "id": "6e191e69",
   "metadata": {
    "cell_style": "split",
    "slideshow": {
     "slide_type": "-"
    }
   },
   "outputs": [
    {
     "data": {
      "text/plain": [
       "2"
      ]
     },
     "execution_count": 284,
     "metadata": {},
     "output_type": "execute_result"
    }
   ],
   "source": [
    "# sum it up to get a preference metric\n",
    "pref_freesolo = elem_prod.sum()\n",
    "pref_freesolo"
   ]
  },
  {
   "cell_type": "markdown",
   "id": "14602874",
   "metadata": {
    "slideshow": {
     "slide_type": "slide"
    }
   },
   "source": [
    "Let's do the same thing with Sparkles and He Said She Said:"
   ]
  },
  {
   "cell_type": "code",
   "execution_count": 285,
   "id": "07fd23d2",
   "metadata": {
    "cell_style": "split",
    "scrolled": true,
    "slideshow": {
     "slide_type": "fragment"
    }
   },
   "outputs": [
    {
     "data": {
      "text/plain": [
       "Kevin Bacon        0\n",
       "Adventure          0\n",
       "Horror             0\n",
       "Slapstick          0\n",
       "Sports             0\n",
       "Romantic Comedy    0\n",
       "dtype: int64"
      ]
     },
     "execution_count": 285,
     "metadata": {},
     "output_type": "execute_result"
    }
   ],
   "source": [
    "elem_prod2 = sparkles_vector*hsss_vector\n",
    "elem_prod2"
   ]
  },
  {
   "cell_type": "code",
   "execution_count": 286,
   "id": "918169ac",
   "metadata": {
    "cell_style": "split",
    "slideshow": {
     "slide_type": "fragment"
    }
   },
   "outputs": [
    {
     "data": {
      "text/plain": [
       "0"
      ]
     },
     "execution_count": 286,
     "metadata": {},
     "output_type": "execute_result"
    }
   ],
   "source": [
    "pref_hsss = elem_prod2.sum()\n",
    "pref_hsss"
   ]
  },
  {
   "cell_type": "markdown",
   "id": "759cfc84",
   "metadata": {
    "slideshow": {
     "slide_type": "slide"
    }
   },
   "source": [
    "We can compare our calculation of Sparkles preference for the two movies:"
   ]
  },
  {
   "cell_type": "code",
   "execution_count": 287,
   "id": "00ef1eee",
   "metadata": {
    "cell_style": "split",
    "slideshow": {
     "slide_type": "fragment"
    }
   },
   "outputs": [
    {
     "data": {
      "text/plain": [
       "2"
      ]
     },
     "execution_count": 287,
     "metadata": {},
     "output_type": "execute_result"
    }
   ],
   "source": [
    "pref_freesolo"
   ]
  },
  {
   "cell_type": "code",
   "execution_count": 288,
   "id": "03ad4922",
   "metadata": {
    "cell_style": "split",
    "slideshow": {
     "slide_type": "fragment"
    }
   },
   "outputs": [
    {
     "data": {
      "text/plain": [
       "0"
      ]
     },
     "execution_count": 288,
     "metadata": {},
     "output_type": "execute_result"
    }
   ],
   "source": [
    "pref_hsss"
   ]
  },
  {
   "cell_type": "markdown",
   "id": "42e93541",
   "metadata": {
    "slideshow": {
     "slide_type": "fragment"
    }
   },
   "source": [
    "Which numerically encodes our previous intuition."
   ]
  },
  {
   "cell_type": "markdown",
   "id": "bb3c0cdf",
   "metadata": {
    "slideshow": {
     "slide_type": "slide"
    }
   },
   "source": [
    "The two operations we did on the user-item pairs is often known as a **dot product**.\n",
    "\n",
    "It generalizes multiplication to vectors:\n",
    "\n",
    "$$ \\textbf{v} \\cdot \\textbf{u} = u_1v_1 + u_2v_2 + u_nv_n $$\n",
    "\n",
    "where $\\textbf{u}$ is a user vector and $\\textbf{v}$ is an item vector."
   ]
  },
  {
   "cell_type": "markdown",
   "id": "632462e5",
   "metadata": {
    "cell_style": "split",
    "slideshow": {
     "slide_type": "slide"
    }
   },
   "source": [
    "Another useful notation of vectors and the dot product that will help us later:\n",
    "\n",
    "$ \\textbf{u} = \\begin{bmatrix}u_1 \\\\ u_2 \\\\ \\vdots \\\\ u_n\\end{bmatrix} $ and $ \\textbf{v} = \\begin{bmatrix}v_1 \\\\ v_2 \\\\ \\vdots \\\\ v_n\\end{bmatrix} $"
   ]
  },
  {
   "cell_type": "markdown",
   "id": "c0dd3356",
   "metadata": {
    "cell_style": "split",
    "slideshow": {
     "slide_type": "fragment"
    }
   },
   "source": [
    "The dot product is then often denoted as:\n",
    "\n",
    "$$ \\textbf{v}^T\\textbf{u} =  \\textbf{v}\\cdot \\textbf{u} = u_1v_1 + u_2v_2 + u_nv_n $$\n"
   ]
  },
  {
   "cell_type": "markdown",
   "id": "9d36b776",
   "metadata": {
    "cell_style": "split",
    "slideshow": {
     "slide_type": "fragment"
    }
   },
   "source": [
    "$$ \\textbf{v}^T\\textbf{u} =  \\textbf{v} \\cdot \\textbf{u} = \\begin{bmatrix}v_1 & v_2 & \\dots & v_n\\end{bmatrix} \\begin{bmatrix}u_1 \\\\ u_2 \\\\ \\vdots \\\\ u_n\\end{bmatrix}$$\n"
   ]
  },
  {
   "cell_type": "markdown",
   "id": "4dea1094",
   "metadata": {
    "slideshow": {
     "slide_type": "slide"
    }
   },
   "source": [
    "Help me out:\n",
    "    \n",
    "What is $ \\begin{bmatrix} 1 & -2 & 2 \\end{bmatrix} \\begin{bmatrix} 2 \\\\ 3 \\\\ 2 \\end{bmatrix} $"
   ]
  },
  {
   "cell_type": "markdown",
   "id": "a2263a49",
   "metadata": {
    "cell_style": "center",
    "slideshow": {
     "slide_type": "slide"
    }
   },
   "source": [
    "Given two vectors, we can compute the dot product easily using Numpy:"
   ]
  },
  {
   "cell_type": "code",
   "execution_count": 289,
   "id": "543e1881",
   "metadata": {
    "cell_style": "split",
    "slideshow": {
     "slide_type": "fragment"
    }
   },
   "outputs": [
    {
     "data": {
      "text/plain": [
       "2"
      ]
     },
     "execution_count": 289,
     "metadata": {},
     "output_type": "execute_result"
    }
   ],
   "source": [
    "sparkles_vector@free_solo_vector"
   ]
  },
  {
   "cell_type": "code",
   "execution_count": 290,
   "id": "b8f3a3da",
   "metadata": {
    "cell_style": "split",
    "slideshow": {
     "slide_type": "fragment"
    }
   },
   "outputs": [
    {
     "data": {
      "text/plain": [
       "0"
      ]
     },
     "execution_count": 290,
     "metadata": {},
     "output_type": "execute_result"
    }
   ],
   "source": [
    "sparkles_vector@hsss_vector"
   ]
  },
  {
   "cell_type": "markdown",
   "id": "9fcc64f0",
   "metadata": {
    "slideshow": {
     "slide_type": "fragment"
    }
   },
   "source": [
    "This dot product operation and its result encodes our intuition that Sparkes would like Free Solo more than He Said She Said."
   ]
  },
  {
   "cell_type": "markdown",
   "id": "0928cf78",
   "metadata": {
    "slideshow": {
     "slide_type": "slide"
    }
   },
   "source": [
    "Thus: \n",
    "\n",
    "- Taking the dot product between user and entity vector representations\n",
    "- Yields a measure of user's preference for entity (or rating)\n",
    "\n",
    "$$ r = \\textbf{u}\\cdot\\textbf{v} $$"
   ]
  },
  {
   "cell_type": "markdown",
   "id": "86fd0167",
   "metadata": {
    "cell_style": "center",
    "slideshow": {
     "slide_type": "slide"
    }
   },
   "source": [
    "Can thus perform basic recommendations using filtering on projected ratings:\n",
    "- given that $\\textbf{v}$ (item vectors in a content-scheme) are usually populated by experts.\n",
    "- provided we have an encoding for the user $\\textbf{u}$"
   ]
  },
  {
   "cell_type": "markdown",
   "id": "af3073f1",
   "metadata": {
    "cell_style": "split",
    "slideshow": {
     "slide_type": "subslide"
    }
   },
   "source": [
    "Recommendation procedure:\n",
    "\n",
    "- Set of entities that a user has not interacted with their respective feature vectors $\\{\\textbf{v}_i\\}$ \n",
    "- user's vector $\\textbf{u}$ encoding weights given to each feature"
   ]
  },
  {
   "cell_type": "markdown",
   "id": "547e28a4",
   "metadata": {
    "cell_style": "split",
    "slideshow": {
     "slide_type": "fragment"
    }
   },
   "source": [
    "- Get projected user ratings for each entity unrated/not interacted with by user.\n",
    "\n",
    "$$ r_i = \\textbf{u}\\cdot\\textbf{v}_i $$\n",
    "- Present entities with highest projected ratings as recommendations to user. "
   ]
  },
  {
   "cell_type": "markdown",
   "id": "4af64900",
   "metadata": {
    "slideshow": {
     "slide_type": "slide"
    }
   },
   "source": [
    "#### Constructing the user vector\n",
    "\n",
    "- Item vectors $\\textbf{v}$, in a content based system, might be constructed by expert tagging.\n",
    "- But how to construct a numeric representation of the user vectors $\\textbf{u}$?"
   ]
  },
  {
   "cell_type": "markdown",
   "id": "ed3a4cf8",
   "metadata": {
    "cell_style": "split",
    "slideshow": {
     "slide_type": "slide"
    }
   },
   "source": [
    "In a content-based recommender with curated items database:\n",
    "\n",
    "The user's representation in the feature space is often the unknown."
   ]
  },
  {
   "cell_type": "markdown",
   "id": "03872fd2",
   "metadata": {
    "cell_style": "split",
    "slideshow": {
     "slide_type": "fragment"
    }
   },
   "source": [
    "What makes Sparkles sparkly?\n",
    "\n",
    "<div align = \"center\">\n",
    "<img src=\"Images/user_vec_unknown.png\" align = \"center\" width=\"800\"/>\n",
    "</div>\n",
    "\n",
    "We don't know the user's vector embedding. \n",
    "\n",
    "- The content-based recommender problem:\n",
    "- usually about finding this embedding:\n",
    "    - given item/feature database\n",
    "    - user's ratings on items they interacted with."
   ]
  },
  {
   "cell_type": "markdown",
   "id": "bbd4cade",
   "metadata": {
    "cell_style": "center",
    "slideshow": {
     "slide_type": "slide"
    }
   },
   "source": [
    "\n",
    "\n",
    "1. Ask questions and populate user preferences for features \n",
    "    - e.g do they like Kevin Bacon or not, etc?\n",
    "    \n",
    "**Construct user vector directly from answers to questions**\n"
   ]
  },
  {
   "cell_type": "markdown",
   "id": "1b088c24",
   "metadata": {
    "cell_style": "split",
    "slideshow": {
     "slide_type": "fragment"
    }
   },
   "source": [
    "Maybe Sparkles answered all like(1)/dislike(0) questions for all these features:"
   ]
  },
  {
   "cell_type": "code",
   "execution_count": 291,
   "id": "63463e7c",
   "metadata": {
    "cell_style": "split"
   },
   "outputs": [
    {
     "data": {
      "text/plain": [
       "Kevin Bacon        0\n",
       "Adventure          1\n",
       "Horror             0\n",
       "Slapstick          1\n",
       "Sports             1\n",
       "Romantic Comedy    0\n",
       "Name: Sparkles, dtype: int64"
      ]
     },
     "execution_count": 291,
     "metadata": {},
     "output_type": "execute_result"
    }
   ],
   "source": [
    "sparkles_vector"
   ]
  },
  {
   "cell_type": "markdown",
   "id": "4728791e",
   "metadata": {
    "cell_style": "center",
    "slideshow": {
     "slide_type": "slide"
    }
   },
   "source": [
    "2. Or could look at history of user-entity interactions"
   ]
  },
  {
   "cell_type": "markdown",
   "id": "632e98c2",
   "metadata": {
    "cell_style": "center",
    "slideshow": {
     "slide_type": "fragment"
    }
   },
   "source": [
    "A user has rated a set of entities (movies, articles, products, etc).\n",
    "<div align = \"center\">\n",
    "<img src=\"Images/user_movies_explicit.png\" align = \"center\" width=\"600\"/>\n",
    "</div>\n",
    "    \n",
    "Explicit rating scheme (e.g. rating stars)."
   ]
  },
  {
   "cell_type": "markdown",
   "id": "2bd36c08",
   "metadata": {
    "slideshow": {
     "slide_type": "slide"
    }
   },
   "source": [
    "How is the user's numeric representation constructed in this scheme?\n",
    "\n",
    "This is the inverse problem of what we did before: \n",
    "\n",
    "- before: getting projected rating given a user and item vector.\n",
    "- now creating user vector denoting feature weighting \n",
    "    - given a set of items and their relevant features and what the user rated the items.\n"
   ]
  },
  {
   "cell_type": "markdown",
   "id": "33c8e17c",
   "metadata": {
    "slideshow": {
     "slide_type": "slide"
    }
   },
   "source": [
    "**Lets get concrete about this**"
   ]
  },
  {
   "cell_type": "code",
   "execution_count": 292,
   "id": "d01461d9",
   "metadata": {
    "slideshow": {
     "slide_type": "fragment"
    }
   },
   "outputs": [],
   "source": [
    "movie_names = ['Arrival', 'Star Wars: Return of Jedi', 'Big Lebowski', \n",
    "               'No Country for Old Men', 'Caddy Shack', 'Vertigo', 'Ten Things I Hate About You', 'Ace Ventura I',\n",
    "               '2001: A Space Odyssey', 'The Shining', 'Sleepless in Seattle', 'Silence of the Lambs', \n",
    "               'Her', 'American Pie', 'Gattaca', 'Youve Got Mail']\n",
    "\n",
    "movie_features = ['Sci-fi', 'Comedy', 'Thriller', 'Romance']\n",
    "feature_array = np.array([[1,1,0,0,0,0,0,0,1,0,0,0,1,0, 1, 0],\n",
    "                          [0,0,1,0,1,0,1,1,0,0,1,0,0,1,0, 1], \n",
    "                          [0,0,0,1,0,1,0,0,0,1,0,1,0,0,0, 0],\n",
    "                         [0,0,0,0,0,0,1,0,0,0,1,0,1,0,0,1]])\n",
    "\n",
    "features_df = pd.DataFrame(feature_array.T, columns = movie_features, index = movie_names)\n",
    "\n",
    "movie_rating = pd.Series({'Arrival': 5, 'Star Wars: Return of Jedi': 5, 'Big Lebowski': 5, \n",
    "               'No Country for Old Men': 3, 'Caddy Shack':3 , 'Vertigo': 3, 'Ten Things I Hate About You': 3, 'Ace Ventura I': 2,\n",
    "               '2001: A Space Odyssey': 4, 'The Shining': 3, 'Sleepless in Seattle': 2, 'Silence of the Lambs':3, 'Her': 3, \n",
    "                          'American Pie': 4, 'Gattaca': 5, 'Youve Got Mail': 2})"
   ]
  },
  {
   "cell_type": "code",
   "execution_count": 293,
   "id": "81d62420",
   "metadata": {
    "cell_style": "split",
    "slideshow": {
     "slide_type": "slide"
    }
   },
   "outputs": [
    {
     "data": {
      "text/html": [
       "<div>\n",
       "<style scoped>\n",
       "    .dataframe tbody tr th:only-of-type {\n",
       "        vertical-align: middle;\n",
       "    }\n",
       "\n",
       "    .dataframe tbody tr th {\n",
       "        vertical-align: top;\n",
       "    }\n",
       "\n",
       "    .dataframe thead th {\n",
       "        text-align: right;\n",
       "    }\n",
       "</style>\n",
       "<table border=\"1\" class=\"dataframe\">\n",
       "  <thead>\n",
       "    <tr style=\"text-align: right;\">\n",
       "      <th></th>\n",
       "      <th>Sci-fi</th>\n",
       "      <th>Comedy</th>\n",
       "      <th>Thriller</th>\n",
       "      <th>Romance</th>\n",
       "    </tr>\n",
       "  </thead>\n",
       "  <tbody>\n",
       "    <tr>\n",
       "      <th>Arrival</th>\n",
       "      <td>1</td>\n",
       "      <td>0</td>\n",
       "      <td>0</td>\n",
       "      <td>0</td>\n",
       "    </tr>\n",
       "    <tr>\n",
       "      <th>Star Wars: Return of Jedi</th>\n",
       "      <td>1</td>\n",
       "      <td>0</td>\n",
       "      <td>0</td>\n",
       "      <td>0</td>\n",
       "    </tr>\n",
       "    <tr>\n",
       "      <th>Big Lebowski</th>\n",
       "      <td>0</td>\n",
       "      <td>1</td>\n",
       "      <td>0</td>\n",
       "      <td>0</td>\n",
       "    </tr>\n",
       "    <tr>\n",
       "      <th>No Country for Old Men</th>\n",
       "      <td>0</td>\n",
       "      <td>0</td>\n",
       "      <td>1</td>\n",
       "      <td>0</td>\n",
       "    </tr>\n",
       "    <tr>\n",
       "      <th>Caddy Shack</th>\n",
       "      <td>0</td>\n",
       "      <td>1</td>\n",
       "      <td>0</td>\n",
       "      <td>0</td>\n",
       "    </tr>\n",
       "    <tr>\n",
       "      <th>Vertigo</th>\n",
       "      <td>0</td>\n",
       "      <td>0</td>\n",
       "      <td>1</td>\n",
       "      <td>0</td>\n",
       "    </tr>\n",
       "    <tr>\n",
       "      <th>Ten Things I Hate About You</th>\n",
       "      <td>0</td>\n",
       "      <td>1</td>\n",
       "      <td>0</td>\n",
       "      <td>1</td>\n",
       "    </tr>\n",
       "    <tr>\n",
       "      <th>Ace Ventura I</th>\n",
       "      <td>0</td>\n",
       "      <td>1</td>\n",
       "      <td>0</td>\n",
       "      <td>0</td>\n",
       "    </tr>\n",
       "    <tr>\n",
       "      <th>2001: A Space Odyssey</th>\n",
       "      <td>1</td>\n",
       "      <td>0</td>\n",
       "      <td>0</td>\n",
       "      <td>0</td>\n",
       "    </tr>\n",
       "    <tr>\n",
       "      <th>The Shining</th>\n",
       "      <td>0</td>\n",
       "      <td>0</td>\n",
       "      <td>1</td>\n",
       "      <td>0</td>\n",
       "    </tr>\n",
       "    <tr>\n",
       "      <th>Sleepless in Seattle</th>\n",
       "      <td>0</td>\n",
       "      <td>1</td>\n",
       "      <td>0</td>\n",
       "      <td>1</td>\n",
       "    </tr>\n",
       "    <tr>\n",
       "      <th>Silence of the Lambs</th>\n",
       "      <td>0</td>\n",
       "      <td>0</td>\n",
       "      <td>1</td>\n",
       "      <td>0</td>\n",
       "    </tr>\n",
       "    <tr>\n",
       "      <th>Her</th>\n",
       "      <td>1</td>\n",
       "      <td>0</td>\n",
       "      <td>0</td>\n",
       "      <td>1</td>\n",
       "    </tr>\n",
       "    <tr>\n",
       "      <th>American Pie</th>\n",
       "      <td>0</td>\n",
       "      <td>1</td>\n",
       "      <td>0</td>\n",
       "      <td>0</td>\n",
       "    </tr>\n",
       "    <tr>\n",
       "      <th>Gattaca</th>\n",
       "      <td>1</td>\n",
       "      <td>0</td>\n",
       "      <td>0</td>\n",
       "      <td>0</td>\n",
       "    </tr>\n",
       "    <tr>\n",
       "      <th>Youve Got Mail</th>\n",
       "      <td>0</td>\n",
       "      <td>1</td>\n",
       "      <td>0</td>\n",
       "      <td>1</td>\n",
       "    </tr>\n",
       "  </tbody>\n",
       "</table>\n",
       "</div>"
      ],
      "text/plain": [
       "                             Sci-fi  Comedy  Thriller  Romance\n",
       "Arrival                           1       0         0        0\n",
       "Star Wars: Return of Jedi         1       0         0        0\n",
       "Big Lebowski                      0       1         0        0\n",
       "No Country for Old Men            0       0         1        0\n",
       "Caddy Shack                       0       1         0        0\n",
       "Vertigo                           0       0         1        0\n",
       "Ten Things I Hate About You       0       1         0        1\n",
       "Ace Ventura I                     0       1         0        0\n",
       "2001: A Space Odyssey             1       0         0        0\n",
       "The Shining                       0       0         1        0\n",
       "Sleepless in Seattle              0       1         0        1\n",
       "Silence of the Lambs              0       0         1        0\n",
       "Her                               1       0         0        1\n",
       "American Pie                      0       1         0        0\n",
       "Gattaca                           1       0         0        0\n",
       "Youve Got Mail                    0       1         0        1"
      ]
     },
     "execution_count": 293,
     "metadata": {},
     "output_type": "execute_result"
    }
   ],
   "source": [
    "features_df"
   ]
  },
  {
   "cell_type": "code",
   "execution_count": 294,
   "id": "b1c0ed36",
   "metadata": {
    "cell_style": "split",
    "slideshow": {
     "slide_type": "fragment"
    }
   },
   "outputs": [
    {
     "data": {
      "text/plain": [
       "Arrival                        5\n",
       "Star Wars: Return of Jedi      5\n",
       "Big Lebowski                   5\n",
       "No Country for Old Men         3\n",
       "Caddy Shack                    3\n",
       "Vertigo                        3\n",
       "Ten Things I Hate About You    3\n",
       "Ace Ventura I                  2\n",
       "2001: A Space Odyssey          4\n",
       "The Shining                    3\n",
       "Sleepless in Seattle           2\n",
       "Silence of the Lambs           3\n",
       "Her                            3\n",
       "American Pie                   4\n",
       "Gattaca                        5\n",
       "Youve Got Mail                 2\n",
       "dtype: int64"
      ]
     },
     "execution_count": 294,
     "metadata": {},
     "output_type": "execute_result"
    }
   ],
   "source": [
    "movie_rating"
   ]
  },
  {
   "cell_type": "markdown",
   "id": "5b16b2a7",
   "metadata": {
    "slideshow": {
     "slide_type": "slide"
    }
   },
   "source": [
    "One thing that is useful is to visualize this user's preferences by features (genres/genre in this combination):\n",
    "- Need to manipulate our data a little first.\n",
    "\n",
    "**Reshaping data and wrangling it to extract relevant information: an essential part of the data science process**"
   ]
  },
  {
   "cell_type": "code",
   "execution_count": 295,
   "id": "7ec4252a",
   "metadata": {
    "slideshow": {
     "slide_type": "slide"
    }
   },
   "outputs": [],
   "source": [
    "from copy import deepcopy\n",
    "import seaborn as sns\n",
    "import matplotlib.pyplot as plt"
   ]
  },
  {
   "cell_type": "code",
   "execution_count": 296,
   "id": "c8d9f05f",
   "metadata": {
    "cell_style": "center",
    "slideshow": {
     "slide_type": "fragment"
    }
   },
   "outputs": [],
   "source": [
    "def extract_genres(data):\n",
    "    \n",
    "    genres_nested_list = []\n",
    "    movies = data.index\n",
    "    genre_list = [\", \".join(list(data.loc[mov][(data.loc[mov] == 1)].index)) for mov in movies]\n",
    "    \n",
    "    \n",
    "    genre_series = pd.Series(genre_list, index = movies)\n",
    "    \n",
    "    return genre_series  "
   ]
  },
  {
   "cell_type": "code",
   "execution_count": 297,
   "id": "07100ebb",
   "metadata": {
    "cell_style": "center",
    "slideshow": {
     "slide_type": "subslide"
    }
   },
   "outputs": [
    {
     "data": {
      "text/html": [
       "<div>\n",
       "<style scoped>\n",
       "    .dataframe tbody tr th:only-of-type {\n",
       "        vertical-align: middle;\n",
       "    }\n",
       "\n",
       "    .dataframe tbody tr th {\n",
       "        vertical-align: top;\n",
       "    }\n",
       "\n",
       "    .dataframe thead th {\n",
       "        text-align: right;\n",
       "    }\n",
       "</style>\n",
       "<table border=\"1\" class=\"dataframe\">\n",
       "  <thead>\n",
       "    <tr style=\"text-align: right;\">\n",
       "      <th></th>\n",
       "      <th>Sci-fi</th>\n",
       "      <th>Comedy</th>\n",
       "      <th>Thriller</th>\n",
       "      <th>Romance</th>\n",
       "      <th>rating</th>\n",
       "      <th>genre_comb</th>\n",
       "    </tr>\n",
       "  </thead>\n",
       "  <tbody>\n",
       "    <tr>\n",
       "      <th>Arrival</th>\n",
       "      <td>1</td>\n",
       "      <td>0</td>\n",
       "      <td>0</td>\n",
       "      <td>0</td>\n",
       "      <td>5</td>\n",
       "      <td>Sci-fi</td>\n",
       "    </tr>\n",
       "    <tr>\n",
       "      <th>Star Wars: Return of Jedi</th>\n",
       "      <td>1</td>\n",
       "      <td>0</td>\n",
       "      <td>0</td>\n",
       "      <td>0</td>\n",
       "      <td>5</td>\n",
       "      <td>Sci-fi</td>\n",
       "    </tr>\n",
       "    <tr>\n",
       "      <th>Big Lebowski</th>\n",
       "      <td>0</td>\n",
       "      <td>1</td>\n",
       "      <td>0</td>\n",
       "      <td>0</td>\n",
       "      <td>5</td>\n",
       "      <td>Comedy</td>\n",
       "    </tr>\n",
       "    <tr>\n",
       "      <th>No Country for Old Men</th>\n",
       "      <td>0</td>\n",
       "      <td>0</td>\n",
       "      <td>1</td>\n",
       "      <td>0</td>\n",
       "      <td>3</td>\n",
       "      <td>Thriller</td>\n",
       "    </tr>\n",
       "    <tr>\n",
       "      <th>Caddy Shack</th>\n",
       "      <td>0</td>\n",
       "      <td>1</td>\n",
       "      <td>0</td>\n",
       "      <td>0</td>\n",
       "      <td>3</td>\n",
       "      <td>Comedy</td>\n",
       "    </tr>\n",
       "    <tr>\n",
       "      <th>Vertigo</th>\n",
       "      <td>0</td>\n",
       "      <td>0</td>\n",
       "      <td>1</td>\n",
       "      <td>0</td>\n",
       "      <td>3</td>\n",
       "      <td>Thriller</td>\n",
       "    </tr>\n",
       "    <tr>\n",
       "      <th>Ten Things I Hate About You</th>\n",
       "      <td>0</td>\n",
       "      <td>1</td>\n",
       "      <td>0</td>\n",
       "      <td>1</td>\n",
       "      <td>3</td>\n",
       "      <td>Comedy, Romance</td>\n",
       "    </tr>\n",
       "    <tr>\n",
       "      <th>Ace Ventura I</th>\n",
       "      <td>0</td>\n",
       "      <td>1</td>\n",
       "      <td>0</td>\n",
       "      <td>0</td>\n",
       "      <td>2</td>\n",
       "      <td>Comedy</td>\n",
       "    </tr>\n",
       "    <tr>\n",
       "      <th>2001: A Space Odyssey</th>\n",
       "      <td>1</td>\n",
       "      <td>0</td>\n",
       "      <td>0</td>\n",
       "      <td>0</td>\n",
       "      <td>4</td>\n",
       "      <td>Sci-fi</td>\n",
       "    </tr>\n",
       "    <tr>\n",
       "      <th>The Shining</th>\n",
       "      <td>0</td>\n",
       "      <td>0</td>\n",
       "      <td>1</td>\n",
       "      <td>0</td>\n",
       "      <td>3</td>\n",
       "      <td>Thriller</td>\n",
       "    </tr>\n",
       "    <tr>\n",
       "      <th>Sleepless in Seattle</th>\n",
       "      <td>0</td>\n",
       "      <td>1</td>\n",
       "      <td>0</td>\n",
       "      <td>1</td>\n",
       "      <td>2</td>\n",
       "      <td>Comedy, Romance</td>\n",
       "    </tr>\n",
       "    <tr>\n",
       "      <th>Silence of the Lambs</th>\n",
       "      <td>0</td>\n",
       "      <td>0</td>\n",
       "      <td>1</td>\n",
       "      <td>0</td>\n",
       "      <td>3</td>\n",
       "      <td>Thriller</td>\n",
       "    </tr>\n",
       "    <tr>\n",
       "      <th>Her</th>\n",
       "      <td>1</td>\n",
       "      <td>0</td>\n",
       "      <td>0</td>\n",
       "      <td>1</td>\n",
       "      <td>3</td>\n",
       "      <td>Sci-fi, Romance</td>\n",
       "    </tr>\n",
       "    <tr>\n",
       "      <th>American Pie</th>\n",
       "      <td>0</td>\n",
       "      <td>1</td>\n",
       "      <td>0</td>\n",
       "      <td>0</td>\n",
       "      <td>4</td>\n",
       "      <td>Comedy</td>\n",
       "    </tr>\n",
       "    <tr>\n",
       "      <th>Gattaca</th>\n",
       "      <td>1</td>\n",
       "      <td>0</td>\n",
       "      <td>0</td>\n",
       "      <td>0</td>\n",
       "      <td>5</td>\n",
       "      <td>Sci-fi</td>\n",
       "    </tr>\n",
       "    <tr>\n",
       "      <th>Youve Got Mail</th>\n",
       "      <td>0</td>\n",
       "      <td>1</td>\n",
       "      <td>0</td>\n",
       "      <td>1</td>\n",
       "      <td>2</td>\n",
       "      <td>Comedy, Romance</td>\n",
       "    </tr>\n",
       "  </tbody>\n",
       "</table>\n",
       "</div>"
      ],
      "text/plain": [
       "                             Sci-fi  Comedy  Thriller  Romance  rating  \\\n",
       "Arrival                           1       0         0        0       5   \n",
       "Star Wars: Return of Jedi         1       0         0        0       5   \n",
       "Big Lebowski                      0       1         0        0       5   \n",
       "No Country for Old Men            0       0         1        0       3   \n",
       "Caddy Shack                       0       1         0        0       3   \n",
       "Vertigo                           0       0         1        0       3   \n",
       "Ten Things I Hate About You       0       1         0        1       3   \n",
       "Ace Ventura I                     0       1         0        0       2   \n",
       "2001: A Space Odyssey             1       0         0        0       4   \n",
       "The Shining                       0       0         1        0       3   \n",
       "Sleepless in Seattle              0       1         0        1       2   \n",
       "Silence of the Lambs              0       0         1        0       3   \n",
       "Her                               1       0         0        1       3   \n",
       "American Pie                      0       1         0        0       4   \n",
       "Gattaca                           1       0         0        0       5   \n",
       "Youve Got Mail                    0       1         0        1       2   \n",
       "\n",
       "                                  genre_comb  \n",
       "Arrival                               Sci-fi  \n",
       "Star Wars: Return of Jedi             Sci-fi  \n",
       "Big Lebowski                          Comedy  \n",
       "No Country for Old Men              Thriller  \n",
       "Caddy Shack                           Comedy  \n",
       "Vertigo                             Thriller  \n",
       "Ten Things I Hate About You  Comedy, Romance  \n",
       "Ace Ventura I                         Comedy  \n",
       "2001: A Space Odyssey                 Sci-fi  \n",
       "The Shining                         Thriller  \n",
       "Sleepless in Seattle         Comedy, Romance  \n",
       "Silence of the Lambs                Thriller  \n",
       "Her                          Sci-fi, Romance  \n",
       "American Pie                          Comedy  \n",
       "Gattaca                               Sci-fi  \n",
       "Youve Got Mail               Comedy, Romance  "
      ]
     },
     "execution_count": 297,
     "metadata": {},
     "output_type": "execute_result"
    }
   ],
   "source": [
    "full_mat = deepcopy(features_df)\n",
    "full_mat['rating'] = movie_rating\n",
    "full_mat['genre_comb'] = extract_genres(features_df)\n",
    "full_mat"
   ]
  },
  {
   "cell_type": "markdown",
   "id": "41dc772e",
   "metadata": {
    "cell_style": "center",
    "slideshow": {
     "slide_type": "slide"
    }
   },
   "source": [
    "Let's group by the genres and get our user's mean rating by genre/genre combination:"
   ]
  },
  {
   "cell_type": "code",
   "execution_count": 298,
   "id": "4c918378",
   "metadata": {
    "cell_style": "center",
    "slideshow": {
     "slide_type": "fragment"
    }
   },
   "outputs": [
    {
     "data": {
      "text/plain": [
       "genre_comb\n",
       "Comedy             3.500000\n",
       "Comedy, Romance    2.333333\n",
       "Sci-fi             4.750000\n",
       "Sci-fi, Romance    3.000000\n",
       "Thriller           3.000000\n",
       "Name: rating, dtype: float64"
      ]
     },
     "execution_count": 298,
     "metadata": {},
     "output_type": "execute_result"
    }
   ],
   "source": [
    "genre_ratings = full_mat.groupby(\n",
    "    'genre_comb').mean()['rating']\n",
    "\n",
    "genre_ratings"
   ]
  },
  {
   "cell_type": "markdown",
   "id": "7da9ff0a",
   "metadata": {
    "cell_style": "split",
    "slideshow": {
     "slide_type": "slide"
    }
   },
   "source": [
    "What can we infer from this plot?"
   ]
  },
  {
   "cell_type": "code",
   "execution_count": 299,
   "id": "5ab90f4a",
   "metadata": {
    "cell_style": "split",
    "slideshow": {
     "slide_type": "fragment"
    }
   },
   "outputs": [
    {
     "data": {
      "image/png": "[encoded data removed]",
      "text/plain": [
       "<Figure size 432x288 with 1 Axes>"
      ]
     },
     "metadata": {
      "needs_background": "light"
     },
     "output_type": "display_data"
    }
   ],
   "source": [
    "fig, ax = plt.subplots()\n",
    "genre_ratings.plot(kind = 'bar', ax = ax)\n",
    "ax.set_title('Average user rating by genre combination')\n",
    "ax.set_ylabel('Average rating')\n",
    "ax.set_xlabel('Genre combinations')\n",
    "plt.show()"
   ]
  },
  {
   "cell_type": "markdown",
   "id": "26a1822b",
   "metadata": {
    "slideshow": {
     "slide_type": "slide"
    }
   },
   "source": [
    "Our modeling of the inverse problem should reflect what we've seen by simple exploratory data visualization:\n",
    "- EDA helps us think about how to model\n",
    "- Provides consistency checks on what our modeling spits out.\n",
    "\n",
    "**EDA is essential part of data science process**"
   ]
  },
  {
   "cell_type": "markdown",
   "id": "bd5533b3",
   "metadata": {
    "cell_style": "center",
    "slideshow": {
     "slide_type": "slide"
    }
   },
   "source": [
    "For modeling the inverse problem, idea is:\n",
    "\n",
    "- Find a vector representing how much a user weights each feature (genres, here)\n",
    "- That best reconstructs the ratings of movies user has already seen."
   ]
  },
  {
   "cell_type": "markdown",
   "id": "4edb70a0",
   "metadata": {
    "cell_style": "split",
    "slideshow": {
     "slide_type": "fragment"
    }
   },
   "source": [
    "Remember that the ratings can be define from the product:\n",
    "\n",
    "$$ \\textbf{v}_1 \\cdot \\textbf{u} = r_1 $$\n",
    "$$ \\textbf{v}_2 \\cdot \\textbf{u} = r_2 $$\n",
    "$$ ... $$\n",
    "$$  \\textbf{v}_m \\cdot \\textbf{u} = r_m  $$ \n",
    "\n",
    "where componentwise:\n",
    "$$ v_{i,1}u_1 + v_{i,2}u_2 + ... + v_{i, n}u_n = r_i $$\n",
    "\n",
    "Here $r_i$ is known. The item feature vectors $\\textbf{v}_i$ are known."
   ]
  },
  {
   "cell_type": "markdown",
   "id": "ab3f1289",
   "metadata": {
    "cell_style": "split",
    "slideshow": {
     "slide_type": "fragment"
    }
   },
   "source": [
    "$$ \\begin{bmatrix} \\rule[.5ex]{2.5ex}{0.5pt} & \\textbf{v}_1^T & \\rule[.5ex]{2.5ex}{0.5pt} \\\\\n",
    "v_{21} & ... & v_{2n} \\\\ \n",
    "\\rule[.5ex]{2.5ex}{0.5pt} & \\vdots & \\rule[.5ex]{2.5ex}{0.5pt}\\\\\n",
    "\\rule[.5ex]{2.5ex}{0.5pt} & \\textbf{v}_m^T & \\rule[.5ex]{2.5ex}{0.5pt} \n",
    "\\end{bmatrix}\\begin{bmatrix}u_1 \\\\ u_2 \\\\ \\vdots \\\\ u_n\\end{bmatrix} = \\begin{bmatrix} r_1 \\\\ r_2 \\\\ \\vdots \\\\ r_m\\end{bmatrix} $$ \n",
    "\n",
    "or:\n",
    "$$V\\textbf{u} = \\textbf{r} $$\n",
    "where $V$ is the *entity matrix*."
   ]
  },
  {
   "cell_type": "markdown",
   "id": "cd93996a",
   "metadata": {
    "cell_style": "center",
    "slideshow": {
     "slide_type": "subslide"
    }
   },
   "source": [
    "This is a linear system of equations for $\\textbf{u}$.\n",
    "\n",
    "Typically solved by a procedure known as linear regression.\n",
    "\n",
    "- We use a statistically robust variant of it known as ridge regression."
   ]
  },
  {
   "cell_type": "markdown",
   "id": "51aaf8f3",
   "metadata": {
    "cell_style": "split",
    "slideshow": {
     "slide_type": "slide"
    }
   },
   "source": [
    "Scikit learn:\n",
    "- The workhorse machine learning library you'll learn"
   ]
  },
  {
   "cell_type": "markdown",
   "id": "2c5c9b86",
   "metadata": {
    "cell_style": "split",
    "slideshow": {
     "slide_type": "fragment"
    }
   },
   "source": [
    "\n",
    "<div align = \"center\">\n",
    "<img src=\"Images/scikit.png\" align = \"center\" width=\"300\"/>\n",
    "</div>"
   ]
  },
  {
   "cell_type": "code",
   "execution_count": 300,
   "id": "48311d3e",
   "metadata": {
    "slideshow": {
     "slide_type": "slide"
    }
   },
   "outputs": [],
   "source": [
    "from sklearn.linear_model import Ridge\n",
    "from sklearn.model_selection import train_test_split\n",
    "from sklearn.preprocessing import StandardScaler\n",
    "from sklearn.pipeline import Pipeline"
   ]
  },
  {
   "cell_type": "markdown",
   "id": "7a8529d0",
   "metadata": {
    "cell_style": "split",
    "slideshow": {
     "slide_type": "fragment"
    }
   },
   "source": [
    "Typically in a learning algorithm:\n",
    "- part of your data is used to fit the prediction algorithm (train set)\n",
    "- a a small chunk is kept aside to test prediction performance (test set)"
   ]
  },
  {
   "cell_type": "markdown",
   "id": "90987207",
   "metadata": {
    "cell_style": "split",
    "slideshow": {
     "slide_type": "fragment"
    }
   },
   "source": [
    "<div align = \"center\">\n",
    "<img src=\"Images/train_test_split.png\" align = \"center\" width=\"600\"/>\n",
    "</div>"
   ]
  },
  {
   "cell_type": "code",
   "execution_count": 301,
   "id": "1486251b",
   "metadata": {
    "slideshow": {
     "slide_type": "slide"
    }
   },
   "outputs": [],
   "source": [
    "X_train, X_test, y_train, y_test = train_test_split(features_df, movie_rating, test_size = 0.15, random_state = 42)"
   ]
  },
  {
   "cell_type": "code",
   "execution_count": 302,
   "id": "7f447f94",
   "metadata": {
    "slideshow": {
     "slide_type": "fragment"
    }
   },
   "outputs": [],
   "source": [
    "# define the model\n",
    "steps = [('scaler', StandardScaler()), ('rr', Ridge(alpha = 0.05)) ]\n",
    "pipe_mod = Pipeline(steps)"
   ]
  },
  {
   "cell_type": "code",
   "execution_count": 303,
   "id": "eb38f056",
   "metadata": {
    "scrolled": false,
    "slideshow": {
     "slide_type": "fragment"
    }
   },
   "outputs": [
    {
     "data": {
      "text/plain": [
       "Pipeline(steps=[('scaler', StandardScaler()), ('rr', Ridge(alpha=0.05))])"
      ]
     },
     "execution_count": 303,
     "metadata": {},
     "output_type": "execute_result"
    }
   ],
   "source": [
    "# fir the model to the training data\n",
    "pipe_mod.fit(X_train, y_train)"
   ]
  },
  {
   "cell_type": "markdown",
   "id": "bf817649",
   "metadata": {
    "slideshow": {
     "slide_type": "slide"
    }
   },
   "source": [
    "The fit coefficients turns out to be our user representation"
   ]
  },
  {
   "cell_type": "code",
   "execution_count": 304,
   "id": "72c4f405",
   "metadata": {
    "slideshow": {
     "slide_type": "fragment"
    }
   },
   "outputs": [
    {
     "data": {
      "text/plain": [
       "array([ 0.32752786, -0.05022581, -0.26809987, -0.5786083 ])"
      ]
     },
     "execution_count": 304,
     "metadata": {},
     "output_type": "execute_result"
    }
   ],
   "source": [
    "u = pipe_mod['rr'].coef_\n",
    "u"
   ]
  },
  {
   "cell_type": "markdown",
   "id": "0942bde5",
   "metadata": {
    "slideshow": {
     "slide_type": "slide"
    }
   },
   "source": [
    "Let's predict on our test set and see how it stacks up against the actual ratings"
   ]
  },
  {
   "cell_type": "code",
   "execution_count": 305,
   "id": "7f1a8386",
   "metadata": {
    "cell_style": "split",
    "slideshow": {
     "slide_type": "fragment"
    }
   },
   "outputs": [
    {
     "data": {
      "text/html": [
       "<div>\n",
       "<style scoped>\n",
       "    .dataframe tbody tr th:only-of-type {\n",
       "        vertical-align: middle;\n",
       "    }\n",
       "\n",
       "    .dataframe tbody tr th {\n",
       "        vertical-align: top;\n",
       "    }\n",
       "\n",
       "    .dataframe thead th {\n",
       "        text-align: right;\n",
       "    }\n",
       "</style>\n",
       "<table border=\"1\" class=\"dataframe\">\n",
       "  <thead>\n",
       "    <tr style=\"text-align: right;\">\n",
       "      <th></th>\n",
       "      <th>Sci-fi</th>\n",
       "      <th>Comedy</th>\n",
       "      <th>Thriller</th>\n",
       "      <th>Romance</th>\n",
       "    </tr>\n",
       "  </thead>\n",
       "  <tbody>\n",
       "    <tr>\n",
       "      <th>Arrival</th>\n",
       "      <td>1</td>\n",
       "      <td>0</td>\n",
       "      <td>0</td>\n",
       "      <td>0</td>\n",
       "    </tr>\n",
       "    <tr>\n",
       "      <th>Star Wars: Return of Jedi</th>\n",
       "      <td>1</td>\n",
       "      <td>0</td>\n",
       "      <td>0</td>\n",
       "      <td>0</td>\n",
       "    </tr>\n",
       "    <tr>\n",
       "      <th>Vertigo</th>\n",
       "      <td>0</td>\n",
       "      <td>0</td>\n",
       "      <td>1</td>\n",
       "      <td>0</td>\n",
       "    </tr>\n",
       "  </tbody>\n",
       "</table>\n",
       "</div>"
      ],
      "text/plain": [
       "                           Sci-fi  Comedy  Thriller  Romance\n",
       "Arrival                         1       0         0        0\n",
       "Star Wars: Return of Jedi       1       0         0        0\n",
       "Vertigo                         0       0         1        0"
      ]
     },
     "execution_count": 305,
     "metadata": {},
     "output_type": "execute_result"
    }
   ],
   "source": [
    "# our test observations\n",
    "X_test"
   ]
  },
  {
   "cell_type": "code",
   "execution_count": 316,
   "id": "60fc569b",
   "metadata": {
    "cell_style": "split",
    "slideshow": {
     "slide_type": "fragment"
    }
   },
   "outputs": [
    {
     "data": {
      "text/plain": [
       "array([4.41558385, 4.41558385, 3.00188262])"
      ]
     },
     "execution_count": 316,
     "metadata": {},
     "output_type": "execute_result"
    }
   ],
   "source": [
    "y_pred = pipe_mod.predict(X_test)\n",
    "y_pred.T"
   ]
  },
  {
   "cell_type": "code",
   "execution_count": 307,
   "id": "9ebc44a2",
   "metadata": {
    "cell_style": "split",
    "slideshow": {
     "slide_type": "-"
    }
   },
   "outputs": [
    {
     "data": {
      "text/plain": [
       "Arrival                      5\n",
       "Star Wars: Return of Jedi    5\n",
       "Vertigo                      3\n",
       "dtype: int64"
      ]
     },
     "execution_count": 307,
     "metadata": {},
     "output_type": "execute_result"
    }
   ],
   "source": [
    "y_test"
   ]
  },
  {
   "cell_type": "markdown",
   "id": "faec3252",
   "metadata": {
    "slideshow": {
     "slide_type": "slide"
    }
   },
   "source": [
    "#### Evaluating this type of content-based recommender"
   ]
  },
  {
   "cell_type": "markdown",
   "id": "5ea62947",
   "metadata": {
    "cell_style": "split",
    "slideshow": {
     "slide_type": "fragment"
    }
   },
   "source": [
    "Want to test predicted ratings against what the user actually rated them in the test set.\n",
    "\n",
    "For our purposes an error metric like the root-mean-square error will suffice."
   ]
  },
  {
   "cell_type": "markdown",
   "id": "f7263bd4",
   "metadata": {
    "cell_style": "split",
    "slideshow": {
     "slide_type": "-"
    }
   },
   "source": [
    "$$ RMSE = \\sqrt{\\frac{\\sum_i{(y_{test,i} - y_{pred,i})^2}}{n_{test}}} $$"
   ]
  },
  {
   "cell_type": "code",
   "execution_count": 308,
   "id": "0a315547",
   "metadata": {
    "cell_style": "center",
    "slideshow": {
     "slide_type": "subslide"
    }
   },
   "outputs": [
    {
     "data": {
      "text/plain": [
       "0.4771750282944463"
      ]
     },
     "execution_count": 308,
     "metadata": {},
     "output_type": "execute_result"
    }
   ],
   "source": [
    "from sklearn.metrics import mean_squared_error\n",
    "RMSE = np.sqrt(mean_squared_error(y_pred, y_test))\n",
    "RMSE"
   ]
  },
  {
   "cell_type": "markdown",
   "id": "a2e7492a",
   "metadata": {
    "slideshow": {
     "slide_type": "fragment"
    }
   },
   "source": [
    "All in all, given ratings out of 5 stars, this is not bad."
   ]
  },
  {
   "cell_type": "markdown",
   "id": "bf9b4307",
   "metadata": {
    "slideshow": {
     "slide_type": "slide"
    }
   },
   "source": [
    "#### The final step: making recommendations\n",
    "- Looking at database of items that user has not interacted with\n",
    "- Remember that features have already been labeled by experts\n",
    "- Predict rating and rank"
   ]
  },
  {
   "cell_type": "code",
   "execution_count": 320,
   "id": "2571195b",
   "metadata": {
    "slideshow": {
     "slide_type": "skip"
    }
   },
   "outputs": [],
   "source": [
    "uninteracted_mov = ['Free Guy', 'The Big Sick', 'A Quiet Place', 'Dune', 'Dont mess with the Zohan', 'The Black Phone', 'Always be my maybe', 'Everything everywhere all at once', 'Moon']\n",
    "feature_unint_list = [[0,1,0,0], [0,1,0,1], [0,0,1,0], [1,0,0,0], [0,1,0,0], [0,0,1,0], [0,1,0,1], [1,0,0,0], [1,0,0,0]]\n",
    "\n",
    "uninteract_df = pd.DataFrame(feature_unint_list, index = uninteracted_mov, columns = movie_features)"
   ]
  },
  {
   "cell_type": "code",
   "execution_count": 318,
   "id": "fb7e1a30",
   "metadata": {
    "cell_style": "split",
    "slideshow": {
     "slide_type": "subslide"
    }
   },
   "outputs": [
    {
     "data": {
      "text/html": [
       "<div>\n",
       "<style scoped>\n",
       "    .dataframe tbody tr th:only-of-type {\n",
       "        vertical-align: middle;\n",
       "    }\n",
       "\n",
       "    .dataframe tbody tr th {\n",
       "        vertical-align: top;\n",
       "    }\n",
       "\n",
       "    .dataframe thead th {\n",
       "        text-align: right;\n",
       "    }\n",
       "</style>\n",
       "<table border=\"1\" class=\"dataframe\">\n",
       "  <thead>\n",
       "    <tr style=\"text-align: right;\">\n",
       "      <th></th>\n",
       "      <th>Sci-fi</th>\n",
       "      <th>Comedy</th>\n",
       "      <th>Thriller</th>\n",
       "      <th>Romance</th>\n",
       "    </tr>\n",
       "  </thead>\n",
       "  <tbody>\n",
       "    <tr>\n",
       "      <th>Free Guy</th>\n",
       "      <td>0</td>\n",
       "      <td>1</td>\n",
       "      <td>0</td>\n",
       "      <td>0</td>\n",
       "    </tr>\n",
       "    <tr>\n",
       "      <th>The Big Sick</th>\n",
       "      <td>0</td>\n",
       "      <td>1</td>\n",
       "      <td>0</td>\n",
       "      <td>1</td>\n",
       "    </tr>\n",
       "    <tr>\n",
       "      <th>A Quiet Place</th>\n",
       "      <td>0</td>\n",
       "      <td>0</td>\n",
       "      <td>1</td>\n",
       "      <td>0</td>\n",
       "    </tr>\n",
       "    <tr>\n",
       "      <th>Dune</th>\n",
       "      <td>1</td>\n",
       "      <td>0</td>\n",
       "      <td>0</td>\n",
       "      <td>0</td>\n",
       "    </tr>\n",
       "    <tr>\n",
       "      <th>Dont mess with the Zohan</th>\n",
       "      <td>0</td>\n",
       "      <td>1</td>\n",
       "      <td>0</td>\n",
       "      <td>0</td>\n",
       "    </tr>\n",
       "    <tr>\n",
       "      <th>The Black Phone</th>\n",
       "      <td>0</td>\n",
       "      <td>0</td>\n",
       "      <td>1</td>\n",
       "      <td>0</td>\n",
       "    </tr>\n",
       "    <tr>\n",
       "      <th>Always be my maybe</th>\n",
       "      <td>0</td>\n",
       "      <td>1</td>\n",
       "      <td>0</td>\n",
       "      <td>1</td>\n",
       "    </tr>\n",
       "    <tr>\n",
       "      <th>Everything everywhere all at once</th>\n",
       "      <td>1</td>\n",
       "      <td>0</td>\n",
       "      <td>0</td>\n",
       "      <td>0</td>\n",
       "    </tr>\n",
       "    <tr>\n",
       "      <th>Moon</th>\n",
       "      <td>1</td>\n",
       "      <td>0</td>\n",
       "      <td>0</td>\n",
       "      <td>0</td>\n",
       "    </tr>\n",
       "  </tbody>\n",
       "</table>\n",
       "</div>"
      ],
      "text/plain": [
       "                                   Sci-fi  Comedy  Thriller  Romance\n",
       "Free Guy                                0       1         0        0\n",
       "The Big Sick                            0       1         0        1\n",
       "A Quiet Place                           0       0         1        0\n",
       "Dune                                    1       0         0        0\n",
       "Dont mess with the Zohan                0       1         0        0\n",
       "The Black Phone                         0       0         1        0\n",
       "Always be my maybe                      0       1         0        1\n",
       "Everything everywhere all at once       1       0         0        0\n",
       "Moon                                    1       0         0        0"
      ]
     },
     "execution_count": 318,
     "metadata": {},
     "output_type": "execute_result"
    }
   ],
   "source": [
    "# movies not interacted with\n",
    "uninteract_df "
   ]
  },
  {
   "cell_type": "markdown",
   "id": "9b6a81c4",
   "metadata": {
    "cell_style": "split",
    "slideshow": {
     "slide_type": "fragment"
    }
   },
   "source": [
    "Predict ratings with our model:"
   ]
  },
  {
   "cell_type": "code",
   "execution_count": 319,
   "id": "b4aa9210",
   "metadata": {
    "cell_style": "split",
    "slideshow": {
     "slide_type": "-"
    }
   },
   "outputs": [
    {
     "data": {
      "text/plain": [
       "Free Guy                             3.537458\n",
       "The Big Sick                         2.283807\n",
       "A Quiet Place                        3.001883\n",
       "Dune                                 4.415584\n",
       "Dont mess with the Zohan             3.537458\n",
       "The Black Phone                      3.001883\n",
       "Always be my maybe                   2.283807\n",
       "Everything everywhere all at once    4.415584\n",
       "Moon                                 4.415584\n",
       "dtype: float64"
      ]
     },
     "execution_count": 319,
     "metadata": {},
     "output_type": "execute_result"
    }
   ],
   "source": [
    "result = pipe_mod.predict(uninteract_df)\n",
    "predict_ratings = pd.Series(\n",
    "    result, index = uninteracted_mov)\n",
    "predict_ratings"
   ]
  },
  {
   "cell_type": "markdown",
   "id": "8ad2729a",
   "metadata": {
    "slideshow": {
     "slide_type": "slide"
    }
   },
   "source": [
    "#### Ranking\n",
    "\n",
    "Sort and get top N results"
   ]
  },
  {
   "cell_type": "code",
   "execution_count": 314,
   "id": "75f55c5e",
   "metadata": {
    "cell_style": "split",
    "slideshow": {
     "slide_type": "fragment"
    }
   },
   "outputs": [
    {
     "data": {
      "text/plain": [
       "Dune                                 4.415584\n",
       "Everything everywhere all at once    4.415584\n",
       "Moon                                 4.415584\n",
       "Free Guy                             3.537458\n",
       "Dont mess with the Zohan             3.537458\n",
       "A Quiet Place                        3.001883\n",
       "The Black Phone                      3.001883\n",
       "The Big Sick                         2.283807\n",
       "Always be my maybe                   2.283807\n",
       "dtype: float64"
      ]
     },
     "execution_count": 314,
     "metadata": {},
     "output_type": "execute_result"
    }
   ],
   "source": [
    "predict_ratings.sort_values(ascending = False)"
   ]
  },
  {
   "cell_type": "markdown",
   "id": "06fe560a",
   "metadata": {
    "cell_style": "split",
    "slideshow": {
     "slide_type": "fragment"
    }
   },
   "source": [
    "Top 3 for our user"
   ]
  },
  {
   "cell_type": "code",
   "execution_count": 313,
   "id": "65e34feb",
   "metadata": {
    "cell_style": "split",
    "slideshow": {
     "slide_type": "-"
    }
   },
   "outputs": [
    {
     "data": {
      "text/plain": [
       "Dune                                 4.415584\n",
       "Everything everywhere all at once    4.415584\n",
       "Moon                                 4.415584\n",
       "dtype: float64"
      ]
     },
     "execution_count": 313,
     "metadata": {},
     "output_type": "execute_result"
    }
   ],
   "source": [
    "# Get top 3 as our final recommendation for user\n",
    "predict_ratings.sort_values(ascending = False)[0:3]"
   ]
  },
  {
   "cell_type": "markdown",
   "id": "aa871df9",
   "metadata": {
    "slideshow": {
     "slide_type": "slide"
    }
   },
   "source": [
    "#### Summary of this class of content-based recommenders\n",
    "\n",
    "- Items characteristics (or features) get encoded by experts\n",
    "- Learn which of the features user cares about (user vector) through their rating of items.\n",
    "- Predict and rank on item database given user vector for recommendations."
   ]
  },
  {
   "cell_type": "markdown",
   "id": "dea07e20",
   "metadata": {
    "slideshow": {
     "slide_type": "slide"
    }
   },
   "source": [
    "#### Pros and Cons of the content-based approach"
   ]
  },
  {
   "cell_type": "markdown",
   "id": "31271cbf",
   "metadata": {
    "cell_style": "split",
    "slideshow": {
     "slide_type": "fragment"
    }
   },
   "source": [
    "*Pros*\n",
    "\n",
    "- Algorithm easy to implement and fast\n",
    "- Can work even with limited amount of data\n",
    "- User vector is easily interpretable in terms of item features"
   ]
  },
  {
   "cell_type": "markdown",
   "id": "82d41b91",
   "metadata": {
    "cell_style": "split",
    "slideshow": {
     "slide_type": "fragment"
    }
   },
   "source": [
    "*Cons*\n",
    "\n",
    "- Algorithm only as good as selected features\n",
    "- Need expert labeling / features for each item in database\n",
    "- Can get very expensive and time-consuming to acquire"
   ]
  },
  {
   "cell_type": "markdown",
   "id": "06390c39",
   "metadata": {
    "cell_style": "center",
    "slideshow": {
     "slide_type": "slide"
    }
   },
   "source": [
    "#### Collaborative filtering: A different approach\n",
    "\n",
    "<div align = \"center\">\n",
    "<img src=\"Images/collabarativefilter.jpeg\" align = \"center\" width=\"600\"/>\n",
    "</div>\n",
    "<center><i>User-based collaborative filtering</i></center>\n",
    "\n",
    "Recommend items that users similar to you like."
   ]
  },
  {
   "cell_type": "markdown",
   "id": "e9f24e4f",
   "metadata": {
    "slideshow": {
     "slide_type": "slide"
    }
   },
   "source": [
    "Recommend items that often appear high up together in people's preference list.\n",
    "\n",
    "<div align = \"center\">\n",
    "<img src=\"Images/itembased.jpg\" align = \"center\" width=\"350\"/>\n",
    "</div>\n",
    "<center><i>Item-based collaborative filtering</i></center>\n",
    "\n"
   ]
  },
  {
   "cell_type": "markdown",
   "id": "fb2f1db5",
   "metadata": {
    "cell_style": "split",
    "slideshow": {
     "slide_type": "slide"
    }
   },
   "source": [
    "<div align = \"center\">\n",
    "<img src=\"Images/collabarativefilter.jpeg\" align = \"center\" width=\"600\"/>\n",
    "</div>\n"
   ]
  },
  {
   "cell_type": "markdown",
   "id": "c394f4f9",
   "metadata": {
    "cell_style": "split",
    "slideshow": {
     "slide_type": "fragment"
    }
   },
   "source": [
    "**The key point**\n",
    "\n",
    "- Only user ids and items ids in database (no other information).\n",
    "- User ratings/interaction scores on various items.\n",
    "\n"
   ]
  },
  {
   "cell_type": "markdown",
   "id": "3089a674",
   "metadata": {
    "slideshow": {
     "slide_type": "slide"
    }
   },
   "source": [
    "We will motivate/implement a method that does both item and user-based collaborative filtering in one shot:\n",
    "    \n",
    "- using only the user-item interactions"
   ]
  },
  {
   "cell_type": "markdown",
   "id": "7bf243c4",
   "metadata": {
    "slideshow": {
     "slide_type": "slide"
    }
   },
   "source": [
    "**The general idea**\n",
    "\n",
    "Want to estimate preference on all items that the set of users have not interacted with based on what the set of users have interacted with."
   ]
  },
  {
   "cell_type": "markdown",
   "id": "31145a76",
   "metadata": {
    "slideshow": {
     "slide_type": "subslide"
    }
   },
   "source": [
    "In general, the set of all user-item interactions will form a matrix"
   ]
  },
  {
   "cell_type": "markdown",
   "id": "226de913",
   "metadata": {
    "cell_style": "split",
    "slideshow": {
     "slide_type": "slide"
    }
   },
   "source": [
    "<div align = \"center\">\n",
    "<img src=\"Images/useritemmatrix.png\" align = \"center\" width=\"300\"/>\n",
    "</div>\n",
    "<center> Explicit rating matrix. Note missing values"
   ]
  },
  {
   "cell_type": "markdown",
   "id": "315e9c43",
   "metadata": {
    "cell_style": "split",
    "slideshow": {
     "slide_type": "fragment"
    }
   },
   "source": [
    "Note: there are usually a lot of missing values."
   ]
  },
  {
   "cell_type": "markdown",
   "id": "ec1a4f75",
   "metadata": {
    "cell_style": "split",
    "slideshow": {
     "slide_type": "fragment"
    }
   },
   "source": [
    "The goal ultimately is to impute these missing values:\n",
    "- prediction for an item that user has not interacted with.\n",
    "- in a way that reflects what similar users like\n",
    "- and in a way that reflects the items that are similar to the given item."
   ]
  },
  {
   "cell_type": "markdown",
   "id": "fb585ebb",
   "metadata": {
    "cell_style": "split",
    "slideshow": {
     "slide_type": "slide"
    }
   },
   "source": [
    "**But how do I do this?**\n",
    "\n",
    "- Only have user-item interactions\n",
    "- Unknown user representations (needed for user similiarity comparison)\n",
    "- Unknown item representation (needed for item similiarity comparison)"
   ]
  },
  {
   "cell_type": "markdown",
   "id": "8cabc3f4",
   "metadata": {
    "cell_style": "split",
    "slideshow": {
     "slide_type": "fragment"
    }
   },
   "source": [
    "Maybe can observed user-items interactions:\n",
    "- To get a representation for both in one shot."
   ]
  },
  {
   "cell_type": "markdown",
   "id": "ffc8aae5",
   "metadata": {
    "cell_style": "center",
    "slideshow": {
     "slide_type": "slide"
    }
   },
   "source": [
    "<div align = \"center\">\n",
    "<img src=\"Images/matrixfactor.png\" align = \"center\" width=\"500\"/>\n",
    "</div>\n"
   ]
  },
  {
   "cell_type": "markdown",
   "id": "bb3c2821",
   "metadata": {
    "cell_style": "split",
    "slideshow": {
     "slide_type": "slide"
    }
   },
   "source": [
    "<div align = \"center\">\n",
    "<img src=\"Images/matrixfactor.png\" align = \"center\" width=\"500\"/>\n",
    "</div>"
   ]
  },
  {
   "cell_type": "markdown",
   "id": "443a5fbd",
   "metadata": {
    "cell_style": "split",
    "slideshow": {
     "slide_type": "fragment"
    }
   },
   "source": [
    "Use what items have been rated in database of users: \n",
    "    \n",
    "- Learn item representation\n",
    "- Learn user representation\n",
    "\n",
    "**Do this iteratively.**"
   ]
  },
  {
   "cell_type": "markdown",
   "id": "42da4f56",
   "metadata": {
    "cell_style": "split",
    "slideshow": {
     "slide_type": "slide"
    }
   },
   "source": [
    "<div align = \"center\">\n",
    "<img src=\"Images/matrixfactor.png\" align = \"center\" width=\"500\"/>\n",
    "</div>"
   ]
  },
  {
   "cell_type": "markdown",
   "id": "58ecf2cb",
   "metadata": {
    "cell_style": "split",
    "slideshow": {
     "slide_type": "fragment"
    }
   },
   "source": [
    "$$ UV \\approx R $$ for observed $r_{ij}$ in $R$.\n",
    "\n",
    "- Initialize user representations $U$ randomly\n",
    "- Find item representation $V$ given $U$ and observed $r_{ij}$ in R \n",
    "- Now go back solving $U$ given new $V$."
   ]
  },
  {
   "cell_type": "markdown",
   "id": "91395b71",
   "metadata": {
    "cell_style": "split",
    "slideshow": {
     "slide_type": "subslide"
    }
   },
   "source": [
    "Play this game until user and item representations $U$, $V$  converge:\n",
    "- minimizes difference:\n",
    "\n",
    "$$ |u_i^Tv_j - r_{ij}|^2 $$\n",
    "\n",
    "for observed $r_{ij}$: observed user-item interactions"
   ]
  },
  {
   "cell_type": "markdown",
   "id": "5a57b14c",
   "metadata": {
    "cell_style": "split",
    "slideshow": {
     "slide_type": "fragment"
    }
   },
   "source": [
    "Algorithm implementations:\n",
    "- Alternating Least Squares\n",
    "- Probabilistic Matrix Factorization\n",
    "- Simon Funk's \"SVD\""
   ]
  },
  {
   "cell_type": "markdown",
   "id": "896f7148",
   "metadata": {
    "cell_style": "center",
    "slideshow": {
     "slide_type": "slide"
    }
   },
   "source": [
    "**What is the result of all this, in plain language?**"
   ]
  },
  {
   "cell_type": "markdown",
   "id": "0c27a7b3",
   "metadata": {
    "cell_style": "split",
    "slideshow": {
     "slide_type": "subslide"
    }
   },
   "source": [
    "Iteratively:\n",
    "    \n",
    "- Found an item representation in terms of the observed user-item interactions and user representations.\n",
    "\n",
    "And vice-versa:\n",
    "\n",
    "- Found an user representation in terms of the observed user-item interactions and item representations."
   ]
  },
  {
   "cell_type": "markdown",
   "id": "90669320",
   "metadata": {
    "cell_style": "split",
    "slideshow": {
     "slide_type": "fragment"
    }
   },
   "source": [
    "As we converge:\n",
    "\n",
    "- Similar item representations defined in terms of similar users and their rating profiles\n",
    "\n",
    "And vice versa:\n",
    "\n",
    "- Similar user representations defined in terms of similar items and how they were rated across types of users"
   ]
  },
  {
   "cell_type": "markdown",
   "id": "d2f4da0a",
   "metadata": {
    "slideshow": {
     "slide_type": "subslide"
    }
   },
   "source": [
    "#### This is why its called collaborative filtering\n"
   ]
  },
  {
   "cell_type": "markdown",
   "id": "740af3ca",
   "metadata": {
    "cell_style": "center",
    "slideshow": {
     "slide_type": "slide"
    }
   },
   "source": [
    "So what is the result of all this rigamarole?\n",
    "\n",
    "- We fill out our user and item vectors to reproduce observed values."
   ]
  },
  {
   "cell_type": "code",
   "execution_count": 93,
   "id": "5b1b140a",
   "metadata": {
    "cell_style": "center",
    "slideshow": {
     "slide_type": "skip"
    }
   },
   "outputs": [],
   "source": [
    "user_item_r = pd.DataFrame([[3, 2, np.nan, np.nan], [np.nan, 2, 0, 1.5], [4, np.nan, 3, np.nan], [5, 3, np.nan, 2]])\n",
    "\n",
    "user = pd.DataFrame(\n",
    "    [[1.2, 0.8],[1.4, 0.9], \n",
    "     [1.5, 1.0], [2, 1.3]],\n",
    "    index = ['A', 'B', 'C', 'D'])\n",
    "\n",
    "items = pd.DataFrame([[1.5, 1.2, 1.0, 0.8], \n",
    "         [1.7, 0.6, 1.1, 0.4]],\n",
    "                     columns = ['W', 'X', 'Y', 'Z'])"
   ]
  },
  {
   "cell_type": "markdown",
   "id": "a0965a53",
   "metadata": {
    "slideshow": {
     "slide_type": "slide"
    }
   },
   "source": [
    "Let's see what this might look like after running an algorithm.\n",
    "\n",
    "Take observed user-item ratings matrix:"
   ]
  },
  {
   "cell_type": "code",
   "execution_count": 89,
   "id": "8a0990a0",
   "metadata": {
    "slideshow": {
     "slide_type": "fragment"
    }
   },
   "outputs": [
    {
     "data": {
      "text/html": [
       "<div>\n",
       "<style scoped>\n",
       "    .dataframe tbody tr th:only-of-type {\n",
       "        vertical-align: middle;\n",
       "    }\n",
       "\n",
       "    .dataframe tbody tr th {\n",
       "        vertical-align: top;\n",
       "    }\n",
       "\n",
       "    .dataframe thead th {\n",
       "        text-align: right;\n",
       "    }\n",
       "</style>\n",
       "<table border=\"1\" class=\"dataframe\">\n",
       "  <thead>\n",
       "    <tr style=\"text-align: right;\">\n",
       "      <th></th>\n",
       "      <th>0</th>\n",
       "      <th>1</th>\n",
       "      <th>2</th>\n",
       "      <th>3</th>\n",
       "    </tr>\n",
       "  </thead>\n",
       "  <tbody>\n",
       "    <tr>\n",
       "      <th>0</th>\n",
       "      <td>3.0</td>\n",
       "      <td>2.0</td>\n",
       "      <td>NaN</td>\n",
       "      <td>NaN</td>\n",
       "    </tr>\n",
       "    <tr>\n",
       "      <th>1</th>\n",
       "      <td>NaN</td>\n",
       "      <td>2.0</td>\n",
       "      <td>0.0</td>\n",
       "      <td>1.5</td>\n",
       "    </tr>\n",
       "    <tr>\n",
       "      <th>2</th>\n",
       "      <td>4.0</td>\n",
       "      <td>NaN</td>\n",
       "      <td>3.0</td>\n",
       "      <td>NaN</td>\n",
       "    </tr>\n",
       "    <tr>\n",
       "      <th>3</th>\n",
       "      <td>5.0</td>\n",
       "      <td>3.0</td>\n",
       "      <td>NaN</td>\n",
       "      <td>2.0</td>\n",
       "    </tr>\n",
       "  </tbody>\n",
       "</table>\n",
       "</div>"
      ],
      "text/plain": [
       "     0    1    2    3\n",
       "0  3.0  2.0  NaN  NaN\n",
       "1  NaN  2.0  0.0  1.5\n",
       "2  4.0  NaN  3.0  NaN\n",
       "3  5.0  3.0  NaN  2.0"
      ]
     },
     "execution_count": 89,
     "metadata": {},
     "output_type": "execute_result"
    }
   ],
   "source": [
    "user_item_r"
   ]
  },
  {
   "cell_type": "markdown",
   "id": "a7c5021b",
   "metadata": {
    "slideshow": {
     "slide_type": "subslide"
    }
   },
   "source": [
    "After matrix factorization (choosing a representation dimension d = 2), we might find $U$ and $V$ like this:"
   ]
  },
  {
   "cell_type": "code",
   "execution_count": 85,
   "id": "9f825939",
   "metadata": {
    "cell_style": "split",
    "slideshow": {
     "slide_type": "subslide"
    }
   },
   "outputs": [
    {
     "data": {
      "text/html": [
       "<div>\n",
       "<style scoped>\n",
       "    .dataframe tbody tr th:only-of-type {\n",
       "        vertical-align: middle;\n",
       "    }\n",
       "\n",
       "    .dataframe tbody tr th {\n",
       "        vertical-align: top;\n",
       "    }\n",
       "\n",
       "    .dataframe thead th {\n",
       "        text-align: right;\n",
       "    }\n",
       "</style>\n",
       "<table border=\"1\" class=\"dataframe\">\n",
       "  <thead>\n",
       "    <tr style=\"text-align: right;\">\n",
       "      <th></th>\n",
       "      <th>0</th>\n",
       "      <th>1</th>\n",
       "    </tr>\n",
       "  </thead>\n",
       "  <tbody>\n",
       "    <tr>\n",
       "      <th>A</th>\n",
       "      <td>1.2</td>\n",
       "      <td>0.8</td>\n",
       "    </tr>\n",
       "    <tr>\n",
       "      <th>B</th>\n",
       "      <td>1.4</td>\n",
       "      <td>0.9</td>\n",
       "    </tr>\n",
       "    <tr>\n",
       "      <th>C</th>\n",
       "      <td>1.5</td>\n",
       "      <td>1.0</td>\n",
       "    </tr>\n",
       "    <tr>\n",
       "      <th>D</th>\n",
       "      <td>2.0</td>\n",
       "      <td>1.3</td>\n",
       "    </tr>\n",
       "  </tbody>\n",
       "</table>\n",
       "</div>"
      ],
      "text/plain": [
       "     0    1\n",
       "A  1.2  0.8\n",
       "B  1.4  0.9\n",
       "C  1.5  1.0\n",
       "D  2.0  1.3"
      ]
     },
     "execution_count": 85,
     "metadata": {},
     "output_type": "execute_result"
    }
   ],
   "source": [
    "user"
   ]
  },
  {
   "cell_type": "code",
   "execution_count": 90,
   "id": "e11dc24c",
   "metadata": {
    "cell_style": "split",
    "slideshow": {
     "slide_type": "fragment"
    }
   },
   "outputs": [
    {
     "data": {
      "text/html": [
       "<div>\n",
       "<style scoped>\n",
       "    .dataframe tbody tr th:only-of-type {\n",
       "        vertical-align: middle;\n",
       "    }\n",
       "\n",
       "    .dataframe tbody tr th {\n",
       "        vertical-align: top;\n",
       "    }\n",
       "\n",
       "    .dataframe thead th {\n",
       "        text-align: right;\n",
       "    }\n",
       "</style>\n",
       "<table border=\"1\" class=\"dataframe\">\n",
       "  <thead>\n",
       "    <tr style=\"text-align: right;\">\n",
       "      <th></th>\n",
       "      <th>W</th>\n",
       "      <th>X</th>\n",
       "      <th>Y</th>\n",
       "      <th>Z</th>\n",
       "    </tr>\n",
       "  </thead>\n",
       "  <tbody>\n",
       "    <tr>\n",
       "      <th>0</th>\n",
       "      <td>1.5</td>\n",
       "      <td>1.2</td>\n",
       "      <td>1.0</td>\n",
       "      <td>0.8</td>\n",
       "    </tr>\n",
       "    <tr>\n",
       "      <th>1</th>\n",
       "      <td>1.7</td>\n",
       "      <td>0.6</td>\n",
       "      <td>1.1</td>\n",
       "      <td>0.4</td>\n",
       "    </tr>\n",
       "  </tbody>\n",
       "</table>\n",
       "</div>"
      ],
      "text/plain": [
       "     W    X    Y    Z\n",
       "0  1.5  1.2  1.0  0.8\n",
       "1  1.7  0.6  1.1  0.4"
      ]
     },
     "execution_count": 90,
     "metadata": {},
     "output_type": "execute_result"
    }
   ],
   "source": [
    "items"
   ]
  },
  {
   "cell_type": "markdown",
   "id": "ccd58660",
   "metadata": {
    "slideshow": {
     "slide_type": "slide"
    }
   },
   "source": [
    "Let's compare the result of multiplying the user and item representation with our observed values:"
   ]
  },
  {
   "cell_type": "code",
   "execution_count": 91,
   "id": "4b832e50",
   "metadata": {
    "cell_style": "split"
   },
   "outputs": [
    {
     "data": {
      "text/html": [
       "<div>\n",
       "<style scoped>\n",
       "    .dataframe tbody tr th:only-of-type {\n",
       "        vertical-align: middle;\n",
       "    }\n",
       "\n",
       "    .dataframe tbody tr th {\n",
       "        vertical-align: top;\n",
       "    }\n",
       "\n",
       "    .dataframe thead th {\n",
       "        text-align: right;\n",
       "    }\n",
       "</style>\n",
       "<table border=\"1\" class=\"dataframe\">\n",
       "  <thead>\n",
       "    <tr style=\"text-align: right;\">\n",
       "      <th></th>\n",
       "      <th>W</th>\n",
       "      <th>X</th>\n",
       "      <th>Y</th>\n",
       "      <th>Z</th>\n",
       "    </tr>\n",
       "  </thead>\n",
       "  <tbody>\n",
       "    <tr>\n",
       "      <th>A</th>\n",
       "      <td>3.16</td>\n",
       "      <td>1.92</td>\n",
       "      <td>2.08</td>\n",
       "      <td>1.28</td>\n",
       "    </tr>\n",
       "    <tr>\n",
       "      <th>B</th>\n",
       "      <td>3.63</td>\n",
       "      <td>2.22</td>\n",
       "      <td>2.39</td>\n",
       "      <td>1.48</td>\n",
       "    </tr>\n",
       "    <tr>\n",
       "      <th>C</th>\n",
       "      <td>3.95</td>\n",
       "      <td>2.40</td>\n",
       "      <td>2.60</td>\n",
       "      <td>1.60</td>\n",
       "    </tr>\n",
       "    <tr>\n",
       "      <th>D</th>\n",
       "      <td>5.21</td>\n",
       "      <td>3.18</td>\n",
       "      <td>3.43</td>\n",
       "      <td>2.12</td>\n",
       "    </tr>\n",
       "  </tbody>\n",
       "</table>\n",
       "</div>"
      ],
      "text/plain": [
       "      W     X     Y     Z\n",
       "A  3.16  1.92  2.08  1.28\n",
       "B  3.63  2.22  2.39  1.48\n",
       "C  3.95  2.40  2.60  1.60\n",
       "D  5.21  3.18  3.43  2.12"
      ]
     },
     "execution_count": 91,
     "metadata": {},
     "output_type": "execute_result"
    }
   ],
   "source": [
    "user@items"
   ]
  },
  {
   "cell_type": "code",
   "execution_count": 92,
   "id": "1d95d0b3",
   "metadata": {
    "cell_style": "split"
   },
   "outputs": [
    {
     "data": {
      "text/html": [
       "<div>\n",
       "<style scoped>\n",
       "    .dataframe tbody tr th:only-of-type {\n",
       "        vertical-align: middle;\n",
       "    }\n",
       "\n",
       "    .dataframe tbody tr th {\n",
       "        vertical-align: top;\n",
       "    }\n",
       "\n",
       "    .dataframe thead th {\n",
       "        text-align: right;\n",
       "    }\n",
       "</style>\n",
       "<table border=\"1\" class=\"dataframe\">\n",
       "  <thead>\n",
       "    <tr style=\"text-align: right;\">\n",
       "      <th></th>\n",
       "      <th>0</th>\n",
       "      <th>1</th>\n",
       "      <th>2</th>\n",
       "      <th>3</th>\n",
       "    </tr>\n",
       "  </thead>\n",
       "  <tbody>\n",
       "    <tr>\n",
       "      <th>0</th>\n",
       "      <td>3.0</td>\n",
       "      <td>2.0</td>\n",
       "      <td>NaN</td>\n",
       "      <td>NaN</td>\n",
       "    </tr>\n",
       "    <tr>\n",
       "      <th>1</th>\n",
       "      <td>NaN</td>\n",
       "      <td>2.0</td>\n",
       "      <td>0.0</td>\n",
       "      <td>1.5</td>\n",
       "    </tr>\n",
       "    <tr>\n",
       "      <th>2</th>\n",
       "      <td>4.0</td>\n",
       "      <td>NaN</td>\n",
       "      <td>3.0</td>\n",
       "      <td>NaN</td>\n",
       "    </tr>\n",
       "    <tr>\n",
       "      <th>3</th>\n",
       "      <td>5.0</td>\n",
       "      <td>3.0</td>\n",
       "      <td>NaN</td>\n",
       "      <td>2.0</td>\n",
       "    </tr>\n",
       "  </tbody>\n",
       "</table>\n",
       "</div>"
      ],
      "text/plain": [
       "     0    1    2    3\n",
       "0  3.0  2.0  NaN  NaN\n",
       "1  NaN  2.0  0.0  1.5\n",
       "2  4.0  NaN  3.0  NaN\n",
       "3  5.0  3.0  NaN  2.0"
      ]
     },
     "execution_count": 92,
     "metadata": {},
     "output_type": "execute_result"
    }
   ],
   "source": [
    "user_item_r"
   ]
  },
  {
   "cell_type": "markdown",
   "id": "dc2cf20a",
   "metadata": {
    "slideshow": {
     "slide_type": "fragment"
    }
   },
   "source": [
    "Factorization attempts to approximate observed values:\n",
    "- Finds missing values that are likely (or probable) under the observed values.\n",
    "- These values can be used for recommendation\n",
    "\n",
    "**Also finds a hidden (or latent) representations of users and items at given dimension $d$**"
   ]
  },
  {
   "cell_type": "markdown",
   "id": "09b0e9e8",
   "metadata": {
    "cell_style": "split",
    "slideshow": {
     "slide_type": "slide"
    }
   },
   "source": [
    "Fortunately, dont usually implement via hard-coding.\n",
    "\n",
    "- Nice packages to do collaborative filtering this way in Python\n",
    "- Let's load in a real dataset and use package to see how its typically done."
   ]
  },
  {
   "cell_type": "markdown",
   "id": "c148145f",
   "metadata": {
    "cell_style": "split",
    "slideshow": {
     "slide_type": "-"
    }
   },
   "source": [
    "<div align = \"center\">\n",
    "<img src=\"Images/surprise_logo.jpg\" align = \"center\" width=\"500\"/>\n",
    "</div>"
   ]
  },
  {
   "cell_type": "code",
   "execution_count": 95,
   "id": "3cf3e6fc",
   "metadata": {
    "slideshow": {
     "slide_type": "slide"
    }
   },
   "outputs": [],
   "source": [
    "# import necessary libraries and submodules\n",
    "from surprise import Dataset, Reader\n",
    "from surprise import SVD # implementation of Funk's SVD\n",
    "from surprise import accuracy # metric\n",
    "from surprise.model_selection import cross_validate, train_test_split #train/test splits, etc"
   ]
  },
  {
   "cell_type": "markdown",
   "id": "614d4460",
   "metadata": {
    "slideshow": {
     "slide_type": "subslide"
    }
   },
   "source": [
    "#### The data"
   ]
  },
  {
   "cell_type": "code",
   "execution_count": 208,
   "id": "cc45fe01",
   "metadata": {
    "cell_style": "split",
    "slideshow": {
     "slide_type": "fragment"
    }
   },
   "outputs": [
    {
     "data": {
      "text/html": [
       "<div>\n",
       "<style scoped>\n",
       "    .dataframe tbody tr th:only-of-type {\n",
       "        vertical-align: middle;\n",
       "    }\n",
       "\n",
       "    .dataframe tbody tr th {\n",
       "        vertical-align: top;\n",
       "    }\n",
       "\n",
       "    .dataframe thead th {\n",
       "        text-align: right;\n",
       "    }\n",
       "</style>\n",
       "<table border=\"1\" class=\"dataframe\">\n",
       "  <thead>\n",
       "    <tr style=\"text-align: right;\">\n",
       "      <th></th>\n",
       "      <th>userId</th>\n",
       "      <th>movieId</th>\n",
       "      <th>rating</th>\n",
       "      <th>timestamp</th>\n",
       "    </tr>\n",
       "  </thead>\n",
       "  <tbody>\n",
       "    <tr>\n",
       "      <th>0</th>\n",
       "      <td>1</td>\n",
       "      <td>31</td>\n",
       "      <td>2.5</td>\n",
       "      <td>1260759144</td>\n",
       "    </tr>\n",
       "    <tr>\n",
       "      <th>1</th>\n",
       "      <td>1</td>\n",
       "      <td>1029</td>\n",
       "      <td>3.0</td>\n",
       "      <td>1260759179</td>\n",
       "    </tr>\n",
       "    <tr>\n",
       "      <th>2</th>\n",
       "      <td>1</td>\n",
       "      <td>1061</td>\n",
       "      <td>3.0</td>\n",
       "      <td>1260759182</td>\n",
       "    </tr>\n",
       "    <tr>\n",
       "      <th>3</th>\n",
       "      <td>1</td>\n",
       "      <td>1129</td>\n",
       "      <td>2.0</td>\n",
       "      <td>1260759185</td>\n",
       "    </tr>\n",
       "    <tr>\n",
       "      <th>4</th>\n",
       "      <td>1</td>\n",
       "      <td>1172</td>\n",
       "      <td>4.0</td>\n",
       "      <td>1260759205</td>\n",
       "    </tr>\n",
       "  </tbody>\n",
       "</table>\n",
       "</div>"
      ],
      "text/plain": [
       "   userId movieId  rating   timestamp\n",
       "0       1      31     2.5  1260759144\n",
       "1       1    1029     3.0  1260759179\n",
       "2       1    1061     3.0  1260759182\n",
       "3       1    1129     2.0  1260759185\n",
       "4       1    1172     4.0  1260759205"
      ]
     },
     "execution_count": 208,
     "metadata": {},
     "output_type": "execute_result"
    }
   ],
   "source": [
    "df = pd.read_csv('data/ratings.csv') \n",
    "df['movieId'] = df['movieId'].astype('str')\n",
    "# pandas' read_csv function\n",
    "df.head()"
   ]
  },
  {
   "cell_type": "code",
   "execution_count": 213,
   "id": "f95c9bba",
   "metadata": {
    "cell_style": "split",
    "slideshow": {
     "slide_type": "fragment"
    }
   },
   "outputs": [
    {
     "name": "stdout",
     "output_type": "stream",
     "text": [
      "<class 'pandas.core.frame.DataFrame'>\n",
      "RangeIndex: 100004 entries, 0 to 100003\n",
      "Data columns (total 4 columns):\n",
      " #   Column     Non-Null Count   Dtype  \n",
      "---  ------     --------------   -----  \n",
      " 0   userId     100004 non-null  int64  \n",
      " 1   movieId    100004 non-null  object \n",
      " 2   rating     100004 non-null  float64\n",
      " 3   timestamp  100004 non-null  int64  \n",
      "dtypes: float64(1), int64(2), object(1)\n",
      "memory usage: 3.1+ MB\n"
     ]
    }
   ],
   "source": [
    "df.info()"
   ]
  },
  {
   "cell_type": "markdown",
   "id": "7cf0515b",
   "metadata": {
    "slideshow": {
     "slide_type": "slide"
    }
   },
   "source": [
    "We need to get the names of the movies as well: link them to the movieId"
   ]
  },
  {
   "cell_type": "code",
   "execution_count": 249,
   "id": "dc0f004f",
   "metadata": {
    "cell_style": "center",
    "slideshow": {
     "slide_type": "fragment"
    }
   },
   "outputs": [
    {
     "data": {
      "text/html": [
       "<div>\n",
       "<style scoped>\n",
       "    .dataframe tbody tr th:only-of-type {\n",
       "        vertical-align: middle;\n",
       "    }\n",
       "\n",
       "    .dataframe tbody tr th {\n",
       "        vertical-align: top;\n",
       "    }\n",
       "\n",
       "    .dataframe thead th {\n",
       "        text-align: right;\n",
       "    }\n",
       "</style>\n",
       "<table border=\"1\" class=\"dataframe\">\n",
       "  <thead>\n",
       "    <tr style=\"text-align: right;\">\n",
       "      <th></th>\n",
       "      <th>movieId</th>\n",
       "      <th>original_title</th>\n",
       "    </tr>\n",
       "  </thead>\n",
       "  <tbody>\n",
       "    <tr>\n",
       "      <th>0</th>\n",
       "      <td>1371</td>\n",
       "      <td>Rocky III</td>\n",
       "    </tr>\n",
       "    <tr>\n",
       "      <th>47</th>\n",
       "      <td>1405</td>\n",
       "      <td>Greed</td>\n",
       "    </tr>\n",
       "    <tr>\n",
       "      <th>93</th>\n",
       "      <td>2105</td>\n",
       "      <td>American Pie</td>\n",
       "    </tr>\n",
       "    <tr>\n",
       "      <th>140</th>\n",
       "      <td>2193</td>\n",
       "      <td>My Tutor</td>\n",
       "    </tr>\n",
       "    <tr>\n",
       "      <th>182</th>\n",
       "      <td>2294</td>\n",
       "      <td>Jay and Silent Bob Strike Back</td>\n",
       "    </tr>\n",
       "  </tbody>\n",
       "</table>\n",
       "</div>"
      ],
      "text/plain": [
       "    movieId                  original_title\n",
       "0      1371                       Rocky III\n",
       "47     1405                           Greed\n",
       "93     2105                    American Pie\n",
       "140    2193                        My Tutor\n",
       "182    2294  Jay and Silent Bob Strike Back"
      ]
     },
     "execution_count": 249,
     "metadata": {},
     "output_type": "execute_result"
    }
   ],
   "source": [
    "movie_metadata = pd.read_csv('data/movies_metadata.csv', usecols = ['id', 'original_title']) \n",
    "movie_names = pd.merge(df, movie_metadata, left_on = 'movieId', right_on = 'id', how = 'inner')[['movieId', 'original_title']]\n",
    "movie_names.drop_duplicates(subset = ['movieId', 'original_title'], inplace = True)\n",
    "\n",
    "movie_names.head()"
   ]
  },
  {
   "cell_type": "markdown",
   "id": "5d403ae2",
   "metadata": {
    "slideshow": {
     "slide_type": "slide"
    }
   },
   "source": [
    "The data doesn't look the standard form for user-item interactions we had:\n",
    "- But we can get this by pandas's .pivot() function:"
   ]
  },
  {
   "cell_type": "code",
   "execution_count": 175,
   "id": "30d0291f",
   "metadata": {
    "cell_style": "split",
    "scrolled": true,
    "slideshow": {
     "slide_type": "fragment"
    }
   },
   "outputs": [
    {
     "data": {
      "text/html": [
       "<div>\n",
       "<style scoped>\n",
       "    .dataframe tbody tr th:only-of-type {\n",
       "        vertical-align: middle;\n",
       "    }\n",
       "\n",
       "    .dataframe tbody tr th {\n",
       "        vertical-align: top;\n",
       "    }\n",
       "\n",
       "    .dataframe thead tr th {\n",
       "        text-align: left;\n",
       "    }\n",
       "\n",
       "    .dataframe thead tr:last-of-type th {\n",
       "        text-align: right;\n",
       "    }\n",
       "</style>\n",
       "<table border=\"1\" class=\"dataframe\">\n",
       "  <thead>\n",
       "    <tr>\n",
       "      <th></th>\n",
       "      <th colspan=\"21\" halign=\"left\">rating</th>\n",
       "    </tr>\n",
       "    <tr>\n",
       "      <th>movieId</th>\n",
       "      <th>1</th>\n",
       "      <th>2</th>\n",
       "      <th>3</th>\n",
       "      <th>4</th>\n",
       "      <th>5</th>\n",
       "      <th>6</th>\n",
       "      <th>7</th>\n",
       "      <th>8</th>\n",
       "      <th>9</th>\n",
       "      <th>10</th>\n",
       "      <th>...</th>\n",
       "      <th>161084</th>\n",
       "      <th>161155</th>\n",
       "      <th>161594</th>\n",
       "      <th>161830</th>\n",
       "      <th>161918</th>\n",
       "      <th>161944</th>\n",
       "      <th>162376</th>\n",
       "      <th>162542</th>\n",
       "      <th>162672</th>\n",
       "      <th>163949</th>\n",
       "    </tr>\n",
       "    <tr>\n",
       "      <th>userId</th>\n",
       "      <th></th>\n",
       "      <th></th>\n",
       "      <th></th>\n",
       "      <th></th>\n",
       "      <th></th>\n",
       "      <th></th>\n",
       "      <th></th>\n",
       "      <th></th>\n",
       "      <th></th>\n",
       "      <th></th>\n",
       "      <th></th>\n",
       "      <th></th>\n",
       "      <th></th>\n",
       "      <th></th>\n",
       "      <th></th>\n",
       "      <th></th>\n",
       "      <th></th>\n",
       "      <th></th>\n",
       "      <th></th>\n",
       "      <th></th>\n",
       "      <th></th>\n",
       "    </tr>\n",
       "  </thead>\n",
       "  <tbody>\n",
       "    <tr>\n",
       "      <th>1</th>\n",
       "      <td>NaN</td>\n",
       "      <td>NaN</td>\n",
       "      <td>NaN</td>\n",
       "      <td>NaN</td>\n",
       "      <td>NaN</td>\n",
       "      <td>NaN</td>\n",
       "      <td>NaN</td>\n",
       "      <td>NaN</td>\n",
       "      <td>NaN</td>\n",
       "      <td>NaN</td>\n",
       "      <td>...</td>\n",
       "      <td>NaN</td>\n",
       "      <td>NaN</td>\n",
       "      <td>NaN</td>\n",
       "      <td>NaN</td>\n",
       "      <td>NaN</td>\n",
       "      <td>NaN</td>\n",
       "      <td>NaN</td>\n",
       "      <td>NaN</td>\n",
       "      <td>NaN</td>\n",
       "      <td>NaN</td>\n",
       "    </tr>\n",
       "    <tr>\n",
       "      <th>2</th>\n",
       "      <td>NaN</td>\n",
       "      <td>NaN</td>\n",
       "      <td>NaN</td>\n",
       "      <td>NaN</td>\n",
       "      <td>NaN</td>\n",
       "      <td>NaN</td>\n",
       "      <td>NaN</td>\n",
       "      <td>NaN</td>\n",
       "      <td>NaN</td>\n",
       "      <td>4.0</td>\n",
       "      <td>...</td>\n",
       "      <td>NaN</td>\n",
       "      <td>NaN</td>\n",
       "      <td>NaN</td>\n",
       "      <td>NaN</td>\n",
       "      <td>NaN</td>\n",
       "      <td>NaN</td>\n",
       "      <td>NaN</td>\n",
       "      <td>NaN</td>\n",
       "      <td>NaN</td>\n",
       "      <td>NaN</td>\n",
       "    </tr>\n",
       "    <tr>\n",
       "      <th>3</th>\n",
       "      <td>NaN</td>\n",
       "      <td>NaN</td>\n",
       "      <td>NaN</td>\n",
       "      <td>NaN</td>\n",
       "      <td>NaN</td>\n",
       "      <td>NaN</td>\n",
       "      <td>NaN</td>\n",
       "      <td>NaN</td>\n",
       "      <td>NaN</td>\n",
       "      <td>NaN</td>\n",
       "      <td>...</td>\n",
       "      <td>NaN</td>\n",
       "      <td>NaN</td>\n",
       "      <td>NaN</td>\n",
       "      <td>NaN</td>\n",
       "      <td>NaN</td>\n",
       "      <td>NaN</td>\n",
       "      <td>NaN</td>\n",
       "      <td>NaN</td>\n",
       "      <td>NaN</td>\n",
       "      <td>NaN</td>\n",
       "    </tr>\n",
       "    <tr>\n",
       "      <th>4</th>\n",
       "      <td>NaN</td>\n",
       "      <td>NaN</td>\n",
       "      <td>NaN</td>\n",
       "      <td>NaN</td>\n",
       "      <td>NaN</td>\n",
       "      <td>NaN</td>\n",
       "      <td>NaN</td>\n",
       "      <td>NaN</td>\n",
       "      <td>NaN</td>\n",
       "      <td>4.0</td>\n",
       "      <td>...</td>\n",
       "      <td>NaN</td>\n",
       "      <td>NaN</td>\n",
       "      <td>NaN</td>\n",
       "      <td>NaN</td>\n",
       "      <td>NaN</td>\n",
       "      <td>NaN</td>\n",
       "      <td>NaN</td>\n",
       "      <td>NaN</td>\n",
       "      <td>NaN</td>\n",
       "      <td>NaN</td>\n",
       "    </tr>\n",
       "    <tr>\n",
       "      <th>5</th>\n",
       "      <td>NaN</td>\n",
       "      <td>NaN</td>\n",
       "      <td>4.0</td>\n",
       "      <td>NaN</td>\n",
       "      <td>NaN</td>\n",
       "      <td>NaN</td>\n",
       "      <td>NaN</td>\n",
       "      <td>NaN</td>\n",
       "      <td>NaN</td>\n",
       "      <td>NaN</td>\n",
       "      <td>...</td>\n",
       "      <td>NaN</td>\n",
       "      <td>NaN</td>\n",
       "      <td>NaN</td>\n",
       "      <td>NaN</td>\n",
       "      <td>NaN</td>\n",
       "      <td>NaN</td>\n",
       "      <td>NaN</td>\n",
       "      <td>NaN</td>\n",
       "      <td>NaN</td>\n",
       "      <td>NaN</td>\n",
       "    </tr>\n",
       "  </tbody>\n",
       "</table>\n",
       "<p>5 rows × 9066 columns</p>\n",
       "</div>"
      ],
      "text/plain": [
       "        rating                                                                 \\\n",
       "movieId 1      2      3      4      5      6      7      8      9      10       \n",
       "userId                                                                          \n",
       "1          NaN    NaN    NaN    NaN    NaN    NaN    NaN    NaN    NaN    NaN   \n",
       "2          NaN    NaN    NaN    NaN    NaN    NaN    NaN    NaN    NaN    4.0   \n",
       "3          NaN    NaN    NaN    NaN    NaN    NaN    NaN    NaN    NaN    NaN   \n",
       "4          NaN    NaN    NaN    NaN    NaN    NaN    NaN    NaN    NaN    4.0   \n",
       "5          NaN    NaN    4.0    NaN    NaN    NaN    NaN    NaN    NaN    NaN   \n",
       "\n",
       "         ...                                                                 \\\n",
       "movieId  ... 161084 161155 161594 161830 161918 161944 162376 162542 162672   \n",
       "userId   ...                                                                  \n",
       "1        ...    NaN    NaN    NaN    NaN    NaN    NaN    NaN    NaN    NaN   \n",
       "2        ...    NaN    NaN    NaN    NaN    NaN    NaN    NaN    NaN    NaN   \n",
       "3        ...    NaN    NaN    NaN    NaN    NaN    NaN    NaN    NaN    NaN   \n",
       "4        ...    NaN    NaN    NaN    NaN    NaN    NaN    NaN    NaN    NaN   \n",
       "5        ...    NaN    NaN    NaN    NaN    NaN    NaN    NaN    NaN    NaN   \n",
       "\n",
       "                \n",
       "movieId 163949  \n",
       "userId          \n",
       "1          NaN  \n",
       "2          NaN  \n",
       "3          NaN  \n",
       "4          NaN  \n",
       "5          NaN  \n",
       "\n",
       "[5 rows x 9066 columns]"
      ]
     },
     "execution_count": 175,
     "metadata": {},
     "output_type": "execute_result"
    }
   ],
   "source": [
    "user_rating_matrix = df.pivot(index=['userId'], columns=['movieId'], values=['rating'])\n",
    "user_rating_matrix.head()"
   ]
  },
  {
   "cell_type": "markdown",
   "id": "90fbe7ea",
   "metadata": {
    "cell_style": "split",
    "slideshow": {
     "slide_type": "fragment"
    }
   },
   "source": [
    "A lot of empty values: quite typical."
   ]
  },
  {
   "cell_type": "markdown",
   "id": "df281b8d",
   "metadata": {
    "cell_style": "center",
    "slideshow": {
     "slide_type": "slide"
    }
   },
   "source": [
    "#### Getting the data ready for Surprise\n",
    "\n",
    "Surprise can take in pandas dataframes and loads the data into its own data structure:"
   ]
  },
  {
   "cell_type": "code",
   "execution_count": 255,
   "id": "4f26d357",
   "metadata": {
    "cell_style": "center",
    "slideshow": {
     "slide_type": "fragment"
    }
   },
   "outputs": [],
   "source": [
    "# for collaborative filtering, we only need three columns from the dataset\n",
    "data = df[['userId', 'movieId', 'rating']]\n",
    "\n",
    "# suprise models take in the data in a specific format through a reader and dataset loader\n",
    "reader = Reader(line_format='user item rating', sep=',')\n",
    "data = Dataset.load_from_df(data, reader=reader)"
   ]
  },
  {
   "cell_type": "markdown",
   "id": "970f09e4",
   "metadata": {
    "cell_style": "center",
    "slideshow": {
     "slide_type": "slide"
    }
   },
   "source": [
    "We also should do a train/test split of the data:\n",
    "\n",
    "- 80% of observed rating data used for training \n",
    "- 20% of observed rating data used for evaluation \n"
   ]
  },
  {
   "cell_type": "code",
   "execution_count": 256,
   "id": "aa062aca",
   "metadata": {
    "cell_style": "center",
    "slideshow": {
     "slide_type": "fragment"
    }
   },
   "outputs": [],
   "source": [
    "trainset, testset = train_test_split(data, test_size=.2, random_state = 42)"
   ]
  },
  {
   "cell_type": "markdown",
   "id": "3ce319ff",
   "metadata": {
    "cell_style": "center",
    "slideshow": {
     "slide_type": "slide"
    }
   },
   "source": [
    "#### Modeling\n",
    "\n",
    "- Use Surprise's implementation of Funk's SVD\n",
    "- d = 15 (size of user/item vector representation)\n",
    "- .fit() method"
   ]
  },
  {
   "cell_type": "code",
   "execution_count": 257,
   "id": "c3e0cf2b",
   "metadata": {
    "slideshow": {
     "slide_type": "fragment"
    }
   },
   "outputs": [
    {
     "data": {
      "text/plain": [
       "<surprise.prediction_algorithms.matrix_factorization.SVD at 0x230bfc59408>"
      ]
     },
     "execution_count": 257,
     "metadata": {},
     "output_type": "execute_result"
    }
   ],
   "source": [
    "# instantiate SVD and fit the trainset\n",
    "svd = SVD(reg_all = .05, lr_all = 0.0025, n_factors = 15, n_epochs = 80)\n",
    "svd.fit(trainset)"
   ]
  },
  {
   "cell_type": "markdown",
   "id": "1462c23d",
   "metadata": {
    "cell_style": "split",
    "slideshow": {
     "slide_type": "slide"
    }
   },
   "source": [
    "#### Predicting on testset\n",
    "- Test set is data for which we have the true rating values\n",
    "- can then compare with true values and estimate root mean square error"
   ]
  },
  {
   "cell_type": "code",
   "execution_count": 259,
   "id": "08d3668d",
   "metadata": {
    "cell_style": "split",
    "slideshow": {
     "slide_type": "fragment"
    }
   },
   "outputs": [
    {
     "name": "stdout",
     "output_type": "stream",
     "text": [
      "RMSE: 0.8896\n"
     ]
    },
    {
     "data": {
      "text/plain": [
       "0.889608640597734"
      ]
     },
     "execution_count": 259,
     "metadata": {},
     "output_type": "execute_result"
    }
   ],
   "source": [
    "predictions = svd.test(testset)\n",
    "accuracy.rmse(predictions)"
   ]
  },
  {
   "cell_type": "markdown",
   "id": "7b2c6f53",
   "metadata": {
    "cell_style": "split",
    "slideshow": {
     "slide_type": "fragment"
    }
   },
   "source": [
    "Not too shabby. "
   ]
  },
  {
   "cell_type": "markdown",
   "id": "015a93d4",
   "metadata": {
    "cell_style": "center",
    "slideshow": {
     "slide_type": "slide"
    }
   },
   "source": [
    "Let's compare predicted vs. actual ratings:\n",
    "- $r_{ui}$: actual rating\n",
    "- $est$: predicted rating"
   ]
  },
  {
   "cell_type": "code",
   "execution_count": 262,
   "id": "d686e1fd",
   "metadata": {
    "cell_style": "center",
    "slideshow": {
     "slide_type": "fragment"
    }
   },
   "outputs": [
    {
     "data": {
      "text/plain": [
       "[Prediction(uid=15, iid='95875', r_ui=1.5, est=2.3718802728135664, details={'was_impossible': False}),\n",
       " Prediction(uid=664, iid='3081', r_ui=4.0, est=3.827227679952576, details={'was_impossible': False}),\n",
       " Prediction(uid=171, iid='2770', r_ui=4.0, est=3.301475331214294, details={'was_impossible': False}),\n",
       " Prediction(uid=355, iid='589', r_ui=4.0, est=3.8765303602802432, details={'was_impossible': False}),\n",
       " Prediction(uid=505, iid='86882', r_ui=5.0, est=3.5580013235668884, details={'was_impossible': False}),\n",
       " Prediction(uid=547, iid='101088', r_ui=2.0, est=3.258372261907054, details={'was_impossible': False}),\n",
       " Prediction(uid=150, iid='1923', r_ui=3.0, est=3.219307519561338, details={'was_impossible': False}),\n",
       " Prediction(uid=626, iid='2107', r_ui=4.0, est=3.3180066785289415, details={'was_impossible': False}),\n",
       " Prediction(uid=472, iid='5010', r_ui=3.0, est=3.6300690149789414, details={'was_impossible': False}),\n",
       " Prediction(uid=471, iid='1200', r_ui=4.5, est=4.1217499205455885, details={'was_impossible': False})]"
      ]
     },
     "execution_count": 262,
     "metadata": {},
     "output_type": "execute_result"
    }
   ],
   "source": [
    "predictions[0:10]"
   ]
  },
  {
   "cell_type": "markdown",
   "id": "b766b0ab",
   "metadata": {
    "slideshow": {
     "slide_type": "slide"
    }
   },
   "source": [
    "Could evaluate estimated rating of user for a single item:"
   ]
  },
  {
   "cell_type": "code",
   "execution_count": 275,
   "id": "8d7ac9cb",
   "metadata": {
    "slideshow": {
     "slide_type": "fragment"
    }
   },
   "outputs": [
    {
     "data": {
      "text/plain": [
       "Prediction(uid=5, iid=315, r_ui=None, est=3.8140346310119777, details={'was_impossible': False})"
      ]
     },
     "execution_count": 275,
     "metadata": {},
     "output_type": "execute_result"
    }
   ],
   "source": [
    "user = 5\n",
    "item = 315\n",
    "svd.predict(user, item)"
   ]
  },
  {
   "cell_type": "markdown",
   "id": "81190e99",
   "metadata": {
    "slideshow": {
     "slide_type": "slide"
    }
   },
   "source": [
    "Can also get user's vector representation (could do the same for features as well)"
   ]
  },
  {
   "cell_type": "code",
   "execution_count": 273,
   "id": "df50be00",
   "metadata": {
    "cell_style": "split",
    "slideshow": {
     "slide_type": "fragment"
    }
   },
   "outputs": [
    {
     "name": "stdout",
     "output_type": "stream",
     "text": [
      "[-0.2610825   0.45857611 -0.18983719  0.09021294  0.07553799 -0.00863228\n",
      "  0.19036752 -0.36560635 -0.09708296  0.16963755 -0.02436618 -0.05512619\n",
      "  0.10932348  0.11880691 -0.12177384]\n"
     ]
    }
   ],
   "source": [
    "print(svd.pu[5])"
   ]
  },
  {
   "cell_type": "code",
   "execution_count": 276,
   "id": "c7d42924",
   "metadata": {
    "cell_style": "split",
    "slideshow": {
     "slide_type": "fragment"
    }
   },
   "outputs": [
    {
     "name": "stdout",
     "output_type": "stream",
     "text": [
      "15\n"
     ]
    }
   ],
   "source": [
    "print(len(svd.pu[5]))"
   ]
  },
  {
   "cell_type": "markdown",
   "id": "8b17747a",
   "metadata": {
    "slideshow": {
     "slide_type": "slide"
    }
   },
   "source": [
    "But, in general we want to offer the top 10 recommendations for a user that they haven't interacted with:\n",
    "\n",
    "- To do this requires a little bit of code for finding and ranking predictions"
   ]
  },
  {
   "cell_type": "code",
   "execution_count": 277,
   "id": "20e31aab",
   "metadata": {
    "slideshow": {
     "slide_type": "subslide"
    }
   },
   "outputs": [],
   "source": [
    "from collections import defaultdict\n",
    "\n",
    "# given prediction for a set of users, get the top n ranked for each user \n",
    "\n",
    "def get_top_n(predictions, n=5):\n",
    "\n",
    "    # First map the predictions to each user.\n",
    "    top_n = defaultdict(list)\n",
    "    for uid, iid, true_r, est, _ in predictions:\n",
    "        top_n[uid].append((iid, est))\n",
    "\n",
    "    # Then sort the predictions for each user and retrieve the k highest ones.\n",
    "    for uid, user_ratings in top_n.items():\n",
    "        user_ratings.sort(key=lambda x: x[1], reverse=True)\n",
    "        top_n[uid] = user_ratings[:n]\n",
    "\n",
    "    return top_n"
   ]
  },
  {
   "cell_type": "code",
   "execution_count": 278,
   "id": "4dcee1dd",
   "metadata": {
    "slideshow": {
     "slide_type": "subslide"
    }
   },
   "outputs": [],
   "source": [
    "predset = trainset.build_anti_testset() # builds a set of user-item interactions that have no observed rating\n",
    "predictions = svd.test(predset) # predicts on this set\n",
    "\n",
    "# order and rank top 5 items for users that they have not interacted with\n",
    "top_n = get_top_n(predictions, n=5) "
   ]
  },
  {
   "cell_type": "markdown",
   "id": "f51e4684",
   "metadata": {
    "cell_style": "center",
    "slideshow": {
     "slide_type": "slide"
    }
   },
   "source": [
    "Get top 10 recommendations for user_id 5:\n",
    "- linking to actual movie name"
   ]
  },
  {
   "cell_type": "code",
   "execution_count": 245,
   "id": "c37258a7",
   "metadata": {
    "cell_style": "split",
    "slideshow": {
     "slide_type": "fragment"
    }
   },
   "outputs": [],
   "source": [
    "top10recs = pd.DataFrame(top_n[5], \n",
    "             columns = [\n",
    "                 'movieId','estimated_rating'])\n",
    "top10recs['movieId'] = top10recs['movieId'].astype('str')\n",
    "top10recs"
   ]
  },
  {
   "cell_type": "code",
   "execution_count": 246,
   "id": "68505df7",
   "metadata": {
    "cell_style": "split",
    "slideshow": {
     "slide_type": "fragment"
    }
   },
   "outputs": [
    {
     "data": {
      "text/html": [
       "<div>\n",
       "<style scoped>\n",
       "    .dataframe tbody tr th:only-of-type {\n",
       "        vertical-align: middle;\n",
       "    }\n",
       "\n",
       "    .dataframe tbody tr th {\n",
       "        vertical-align: top;\n",
       "    }\n",
       "\n",
       "    .dataframe thead th {\n",
       "        text-align: right;\n",
       "    }\n",
       "</style>\n",
       "<table border=\"1\" class=\"dataframe\">\n",
       "  <thead>\n",
       "    <tr style=\"text-align: right;\">\n",
       "      <th></th>\n",
       "      <th>movieId</th>\n",
       "      <th>estimated_rating</th>\n",
       "      <th>original_title</th>\n",
       "    </tr>\n",
       "  </thead>\n",
       "  <tbody>\n",
       "    <tr>\n",
       "      <th>0</th>\n",
       "      <td>926</td>\n",
       "      <td>4.775913</td>\n",
       "      <td>Galaxy Quest</td>\n",
       "    </tr>\n",
       "    <tr>\n",
       "      <th>1</th>\n",
       "      <td>318</td>\n",
       "      <td>4.737109</td>\n",
       "      <td>The Million Dollar Hotel</td>\n",
       "    </tr>\n",
       "    <tr>\n",
       "      <th>2</th>\n",
       "      <td>994</td>\n",
       "      <td>4.725090</td>\n",
       "      <td>Straw Dogs</td>\n",
       "    </tr>\n",
       "    <tr>\n",
       "      <th>3</th>\n",
       "      <td>3035</td>\n",
       "      <td>4.716974</td>\n",
       "      <td>Frankenstein</td>\n",
       "    </tr>\n",
       "    <tr>\n",
       "      <th>4</th>\n",
       "      <td>1945</td>\n",
       "      <td>4.675254</td>\n",
       "      <td>Nell</td>\n",
       "    </tr>\n",
       "  </tbody>\n",
       "</table>\n",
       "</div>"
      ],
      "text/plain": [
       "  movieId  estimated_rating            original_title\n",
       "0     926          4.775913              Galaxy Quest\n",
       "1     318          4.737109  The Million Dollar Hotel\n",
       "2     994          4.725090                Straw Dogs\n",
       "3    3035          4.716974              Frankenstein\n",
       "4    1945          4.675254                      Nell"
      ]
     },
     "execution_count": 246,
     "metadata": {},
     "output_type": "execute_result"
    }
   ],
   "source": [
    "pd.merge(top10recs, movie_names, \n",
    "         on = 'movieId', how = 'inner')"
   ]
  }
 ],
 "metadata": {
  "celltoolbar": "Slideshow",
  "kernelspec": {
   "display_name": "dplearn",
   "language": "python",
   "name": "dplearn"
  },
  "language_info": {
   "codemirror_mode": {
    "name": "ipython",
    "version": 3
   },
   "file_extension": ".py",
   "mimetype": "text/x-python",
   "name": "python",
   "nbconvert_exporter": "python",
   "pygments_lexer": "ipython3",
   "version": "3.7.5"
  }
 },
 "nbformat": 4,
 "nbformat_minor": 5
}
