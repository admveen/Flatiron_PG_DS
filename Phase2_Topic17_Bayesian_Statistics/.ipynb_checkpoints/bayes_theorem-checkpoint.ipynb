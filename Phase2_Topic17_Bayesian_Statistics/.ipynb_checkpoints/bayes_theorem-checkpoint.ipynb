{
 "cells": [
  {
   "cell_type": "markdown",
   "metadata": {
    "cell_style": "center",
    "slideshow": {
     "slide_type": "slide"
    }
   },
   "source": [
    "<div style=\"color:white;\n",
    "           display:fill;\n",
    "           border-radius:5px;\n",
    "           background-color:#5642C5;\n",
    "           font-size:200%;\n",
    "           font-family:Arial;letter-spacing:0.5px\">\n",
    "\n",
    "<p width = 20%, style=\"padding: 10px;\n",
    "              color:white;\">\n",
    "Bayes Theorem\n",
    "              \n",
    "</p>\n",
    "</div>\n",
    "\n",
    "Data Science Cohort Live NYC June 2022\n",
    "<p>Phase 2: Topic 17</p>\n",
    "<br>\n",
    "<br>\n",
    "\n",
    "<div align = \"right\">\n",
    "<img src=\"images/flatiron-school-logo.png\" align = \"right\" width=\"200\"/>\n",
    "</div>"
   ]
  },
  {
   "cell_type": "markdown",
   "metadata": {
    "heading_collapsed": true,
    "slideshow": {
     "slide_type": "slide"
    }
   },
   "source": [
    "# Objectives"
   ]
  },
  {
   "cell_type": "markdown",
   "metadata": {
    "hidden": true,
    "slideshow": {
     "slide_type": "fragment"
    }
   },
   "source": [
    "- Contrast Bayesian and Frequentist philosophies of probability\n",
    "- Use Bayes' Theorem to update a prior belief"
   ]
  },
  {
   "cell_type": "markdown",
   "metadata": {
    "slideshow": {
     "slide_type": "slide"
    }
   },
   "source": [
    "#### Frequentist Statistics and Probability\n",
    "- Basically what we have been doing up until now"
   ]
  },
  {
   "cell_type": "markdown",
   "metadata": {
    "cell_style": "split",
    "slideshow": {
     "slide_type": "slide"
    }
   },
   "source": [
    "$$ P(X) = \\lim_{N \\rightarrow \\infty}\\frac{n_X}{N} $$"
   ]
  },
  {
   "cell_type": "markdown",
   "metadata": {
    "cell_style": "split",
    "slideshow": {
     "slide_type": "-"
    }
   },
   "source": [
    "E.g., only defined in terms of the theoretical frequency of an outcome in the event space as the number of trials $N$ gets big"
   ]
  },
  {
   "cell_type": "markdown",
   "metadata": {
    "slideshow": {
     "slide_type": "subslide"
    }
   },
   "source": [
    "- We only test the probability of events $X$ (data):\n",
    "    - as what the relative frequency of $X$ would be.\n",
    "    - in this case under a null hypothesis."
   ]
  },
  {
   "cell_type": "markdown",
   "metadata": {
    "slideshow": {
     "slide_type": "subslide"
    }
   },
   "source": [
    "#### Taking data and hypothesis testing with frequentist probability:\n",
    "\n",
    "- Given a set of data, we can compute the probability of data under $H_0$\n",
    "    - i.e. what would the probabilities be of measured count frequencies and mean, etc be if the null were true?\n",
    "    - we use Z-test, t-tests, $\\chi^2$ tests to figure this out."
   ]
  },
  {
   "cell_type": "markdown",
   "metadata": {
    "slideshow": {
     "slide_type": "subslide"
    }
   },
   "source": [
    "Then do not reject or reject the hypothesis:\n",
    "- based on whether the count frequencies/statistics are improbable under the null.\n",
    "\n",
    "\n",
    "Critical points: \n",
    "- Hypotheses are just statements: can only be accepted or rejected.\n",
    "- Probabilities can only be defined as relative frequencies of events."
   ]
  },
  {
   "cell_type": "markdown",
   "metadata": {
    "cell_style": "split",
    "heading_collapsed": true,
    "slideshow": {
     "slide_type": "slide"
    }
   },
   "source": [
    "#### Thomas Bayes\n",
    "\n",
    "- Thought about probability a little differently.\n",
    "\n",
    "Unwittingly, created one of the more profound theorems in statistics"
   ]
  },
  {
   "cell_type": "markdown",
   "metadata": {
    "cell_style": "split",
    "slideshow": {
     "slide_type": "-"
    }
   },
   "source": [
    "<div align = \"center\">\n",
    "<img src=\"images/Thomas_Bayes.gif\" align = \"center\" width=\"200\"/>\n",
    "</div>\n",
    "<center> Thomas Bayes </center>"
   ]
  },
  {
   "cell_type": "markdown",
   "metadata": {
    "cell_style": "split",
    "heading_collapsed": true,
    "slideshow": {
     "slide_type": "slide"
    }
   },
   "source": [
    "#### So what did Bayes say?\n",
    "\n",
    "- probability encodes **uncertainty** in a proposition\n",
    "- does not strictly have to be defined in terms of frequencies"
   ]
  },
  {
   "cell_type": "markdown",
   "metadata": {
    "cell_style": "split"
   },
   "source": [
    "- Given acquired data, the probability of an outcome or a proposition is a function of:\n",
    "    - the data\n",
    "    -  _prior_ knowledge or belief on the outcome/proposition."
   ]
  },
  {
   "cell_type": "markdown",
   "metadata": {
    "heading_collapsed": true,
    "hidden": true,
    "slideshow": {
     "slide_type": "slide"
    }
   },
   "source": [
    "#### Presenting, Bayes' Theorem!"
   ]
  },
  {
   "cell_type": "markdown",
   "metadata": {
    "cell_style": "split",
    "slideshow": {
     "slide_type": "fragment"
    }
   },
   "source": [
    "Recall that:\n",
    "\n",
    "$$ P(A,B) = P(A|B)P(B) $$"
   ]
  },
  {
   "cell_type": "markdown",
   "metadata": {
    "cell_style": "split",
    "slideshow": {
     "slide_type": "fragment"
    }
   },
   "source": [
    "But\n",
    "\n",
    "$$ P(A,B) = P(B|A)P(A) $$ is also true."
   ]
  },
  {
   "cell_type": "markdown",
   "metadata": {
    "slideshow": {
     "slide_type": "subslide"
    }
   },
   "source": [
    "We can equate both sides:\n",
    "\n",
    "$$   P(B|A)P(A) = P(A|B)P(B) $$"
   ]
  },
  {
   "cell_type": "markdown",
   "metadata": {
    "slideshow": {
     "slide_type": "fragment"
    }
   },
   "source": [
    "Which results in Bayes' theorem:\n",
    "\n",
    "$$ P(B|A) = \\frac{P(A|B)P(B)}{P(A)} $$"
   ]
  },
  {
   "cell_type": "markdown",
   "metadata": {
    "cell_style": "split",
    "slideshow": {
     "slide_type": "slide"
    }
   },
   "source": [
    "Bayes proved this relationship but also an interpretation for it:\n",
    "\n",
    "- $P(B)$: *prior*\n",
    "- $P(B|A)$: *posterior*\n",
    "- $P(A|B)$: *likelihood*\n",
    "- $\\frac{1}{P(A)}$: *normalization*"
   ]
  },
  {
   "cell_type": "markdown",
   "metadata": {
    "cell_style": "split",
    "slideshow": {
     "slide_type": "fragment"
    }
   },
   "source": [
    "\n",
    "\n",
    "$$ P(B|A) = \\frac{P(A|B)P(B)}{P(A)} $$"
   ]
  },
  {
   "cell_type": "markdown",
   "metadata": {
    "cell_style": "center",
    "slideshow": {
     "slide_type": "slide"
    }
   },
   "source": [
    "Suppose I am trying to estimate probability of $B$.\n",
    "- But my estimate of $B$ may depend on knowledge I gain from other factor(s) or measurements ($A$)\n"
   ]
  },
  {
   "cell_type": "markdown",
   "metadata": {
    "cell_style": "split",
    "slideshow": {
     "slide_type": "slide"
    }
   },
   "source": [
    "E.g.: I have a set of dice. Am told they could be fair or three-loaded.\n",
    "\n",
    "Pick one die. Is this one fair ($B$ = fair) or a three-loaded dice ($B$ = loaded)?\n",
    "\n",
    "$A$ would be the result of rolling this dice many times and getting a set of results."
   ]
  },
  {
   "cell_type": "markdown",
   "metadata": {
    "cell_style": "split",
    "slideshow": {
     "slide_type": "fragment"
    }
   },
   "source": [
    "<div align = \"center\">\n",
    "<img src=\"images/RollingDice.jpg\" align = \"center\" width=\"400\"/>\n",
    "</div>"
   ]
  },
  {
   "cell_type": "markdown",
   "metadata": {
    "cell_style": "split",
    "slideshow": {
     "slide_type": "slide"
    }
   },
   "source": [
    "**The prior**\n",
    "\n",
    "Before I roll the dice:\n",
    "- I have twenty dice to chose from\n",
    "- Am told there was 5 loaded dice tossed in the mix."
   ]
  },
  {
   "cell_type": "markdown",
   "metadata": {
    "cell_style": "split",
    "slideshow": {
     "slide_type": "fragment"
    }
   },
   "source": [
    "- $P(B = loaded)$?\n",
    "- $P(B = fair)$?"
   ]
  },
  {
   "cell_type": "code",
   "execution_count": 11,
   "metadata": {
    "cell_style": "split",
    "slideshow": {
     "slide_type": "fragment"
    }
   },
   "outputs": [],
   "source": [
    "prior_fair = 15/20\n",
    "prior_loaded = 5/20"
   ]
  },
  {
   "cell_type": "markdown",
   "metadata": {
    "cell_style": "split",
    "slideshow": {
     "slide_type": "slide"
    }
   },
   "source": [
    "Before I know $A$, I might have an estimate on probabilities of $B$ or *prior* :\n",
    "    \n",
    "This is $ P(B) $\n",
    "\n",
    "Note this is totally irrespective of $A$"
   ]
  },
  {
   "cell_type": "markdown",
   "metadata": {
    "cell_style": "split",
    "slideshow": {
     "slide_type": "-"
    }
   },
   "source": [
    "$$ P(B|A) = \\frac{P(A|B)P(B)}{P(A)} $$"
   ]
  },
  {
   "cell_type": "markdown",
   "metadata": {
    "cell_style": "split",
    "slideshow": {
     "slide_type": "-"
    }
   },
   "source": [
    "\n",
    "- P($B$) represent probability before we have any knowledge of $A$"
   ]
  },
  {
   "cell_type": "markdown",
   "metadata": {
    "cell_style": "center",
    "slideshow": {
     "slide_type": "subslide"
    }
   },
   "source": [
    "Some people find it useful to think about it this way:\n",
    "\n",
    "\n",
    "$$ P(B) = \\sum_A P(B|A)P(A) $$\n",
    "\n",
    "- *Prior* is where we have summed over all possibilities of A (marginal of $B$)\n",
    "- We have no knowledge of $A$ yet. $A$ (the outcomes of the roll) could be anything."
   ]
  },
  {
   "cell_type": "markdown",
   "metadata": {
    "cell_style": "split",
    "slideshow": {
     "slide_type": "slide"
    }
   },
   "source": [
    "Now I roll the selected die a bunch of times: \n",
    "$$e.g., A = \\{3,1,5,2\\} $$ \n",
    "After the rolls represented by $A$:\n",
    "- Natural to update our estimate of $P(B)$ with $P(B|A)$."
   ]
  },
  {
   "cell_type": "markdown",
   "metadata": {
    "cell_style": "split",
    "slideshow": {
     "slide_type": "-"
    }
   },
   "source": [
    "$$ P(B|A) = \\frac{P(A|B)P(B)}{P(A)} $$\n",
    "\n",
    "$P(B|A)$ as the posterior: (probability of $B$ after determining $A$)"
   ]
  },
  {
   "cell_type": "markdown",
   "metadata": {
    "slideshow": {
     "slide_type": "fragment"
    }
   },
   "source": [
    "e.g. estimate $P(B = fair | A)$ and $P(B = loaded | A)$"
   ]
  },
  {
   "cell_type": "markdown",
   "metadata": {
    "cell_style": "split",
    "slideshow": {
     "slide_type": "slide"
    }
   },
   "source": [
    "Bayes realized that the formula he derived represented an update formula for probabilities:\n",
    "- Provided you know $P(A|B)$: the likelihood of A under B\n",
    "    - the likelihood of set of rolls given B = fair\n",
    "    - the likelihood of set of rolls given B = three-loaded"
   ]
  },
  {
   "cell_type": "markdown",
   "metadata": {
    "cell_style": "split",
    "slideshow": {
     "slide_type": "-"
    }
   },
   "source": [
    "$$ P(B|A) = \\frac{P(A|B)P(B)}{P(A)} $$\n",
    "\n",
    "$P(A|B)$ as the likelihood: (probability of generating a set of rolls $A$ under each possibility of the dice $B$)"
   ]
  },
  {
   "cell_type": "markdown",
   "metadata": {
    "cell_style": "center",
    "slideshow": {
     "slide_type": "slide"
    }
   },
   "source": [
    "**The likelihood**\n",
    "- E.g. we know a fair die throw is (1/6) for each face:\n",
    "- Can calculate the probability of getting a set of outcomes:\n",
    "    - e.g. $A = \\{3,1,5,2\\}$. Get $P(A|B = fair)$"
   ]
  },
  {
   "cell_type": "code",
   "execution_count": 5,
   "metadata": {
    "slideshow": {
     "slide_type": "fragment"
    }
   },
   "outputs": [
    {
     "data": {
      "text/plain": [
       "0.0007716049382716048"
      ]
     },
     "execution_count": 5,
     "metadata": {},
     "output_type": "execute_result"
    }
   ],
   "source": [
    "P_likelihood_fair = (1/6)**4\n",
    "P_likelihood_fair"
   ]
  },
  {
   "cell_type": "markdown",
   "metadata": {
    "slideshow": {
     "slide_type": "slide"
    }
   },
   "source": [
    "And, for this case, are told what the odds of outcomes are for three-loaded dice:\n",
    "\n",
    "$$P(1)=P(2)=P(3) = \\frac{1}{4} $$\n",
    "$$ P(4)=P(5)=P(6) = \\frac{1}{12} $$\n",
    "\n",
    "Get $P(A|B = loaded)$ for $A = \\{3,1,5,2\\}$"
   ]
  },
  {
   "cell_type": "code",
   "execution_count": 8,
   "metadata": {
    "cell_style": "split",
    "slideshow": {
     "slide_type": "fragment"
    }
   },
   "outputs": [
    {
     "data": {
      "text/plain": [
       "0.0013020833333333333"
      ]
     },
     "execution_count": 8,
     "metadata": {},
     "output_type": "execute_result"
    }
   ],
   "source": [
    "P_likelihood_loaded = (1/12)*(1/4)**3 \n",
    "\n",
    "P_likelihood_loaded "
   ]
  },
  {
   "cell_type": "code",
   "execution_count": 10,
   "metadata": {
    "cell_style": "split",
    "slideshow": {
     "slide_type": "-"
    }
   },
   "outputs": [
    {
     "data": {
      "text/plain": [
       "0.0007716049382716048"
      ]
     },
     "execution_count": 10,
     "metadata": {},
     "output_type": "execute_result"
    }
   ],
   "source": [
    "P_likelihood_fair"
   ]
  },
  {
   "cell_type": "markdown",
   "metadata": {
    "cell_style": "split",
    "slideshow": {
     "slide_type": "slide"
    }
   },
   "source": [
    "**The final piece of the puzzle: the evidence (aka normalization)**\n",
    "\n",
    "$P(A)$: this is the probability that I drew my result *regardless* of whether B is fair or loaded"
   ]
  },
  {
   "cell_type": "markdown",
   "metadata": {
    "cell_style": "split",
    "slideshow": {
     "slide_type": "-"
    }
   },
   "source": [
    "$$ P(B|A) = \\frac{P(A|B)P(B)}{P(A)} $$\n",
    "\n",
    "$P(A)$ as the evidence"
   ]
  },
  {
   "cell_type": "markdown",
   "metadata": {
    "cell_style": "center",
    "slideshow": {
     "slide_type": "fragment"
    }
   },
   "source": [
    "$$ P(A) = P(A|B=fair)P(B = fair) + P(A|B=loaded)P(B = loaded) $$"
   ]
  },
  {
   "cell_type": "code",
   "execution_count": 17,
   "metadata": {
    "slideshow": {
     "slide_type": "fragment"
    }
   },
   "outputs": [
    {
     "data": {
      "text/plain": [
       "0.0009042245370370369"
      ]
     },
     "execution_count": 17,
     "metadata": {},
     "output_type": "execute_result"
    }
   ],
   "source": [
    "evidence = P_likelihood_fair*prior_fair + P_likelihood_loaded*prior_loaded\n",
    "evidence\n"
   ]
  },
  {
   "cell_type": "markdown",
   "metadata": {
    "slideshow": {
     "slide_type": "slide"
    }
   },
   "source": [
    "We have everything we need to calculate posteriors on $B$ given set of rolls $A$:"
   ]
  },
  {
   "cell_type": "markdown",
   "metadata": {
    "cell_style": "split",
    "slideshow": {
     "slide_type": "fragment"
    }
   },
   "source": [
    "$$ P(B=fair|A) = \\frac{P(A|B = fair)P(B=fair)}{P(A)} $$"
   ]
  },
  {
   "cell_type": "markdown",
   "metadata": {
    "cell_style": "split",
    "slideshow": {
     "slide_type": "-"
    }
   },
   "source": [
    "$$ P(B=loaded|A) = \\frac{P(A|B = loaded)P(B=loaded)}{P(A)} $$"
   ]
  },
  {
   "cell_type": "code",
   "execution_count": 27,
   "metadata": {
    "cell_style": "split",
    "scrolled": true,
    "slideshow": {
     "slide_type": "fragment"
    }
   },
   "outputs": [
    {
     "name": "stdout",
     "output_type": "stream",
     "text": [
      "0.6399999999999999\n",
      "0.75\n"
     ]
    }
   ],
   "source": [
    "posterior_fair \\\n",
    "= P_likelihood_fair*prior_fair/evidence\n",
    "\n",
    "print(posterior_fair)\n",
    "print(prior_fair)"
   ]
  },
  {
   "cell_type": "code",
   "execution_count": 29,
   "metadata": {
    "cell_style": "split",
    "slideshow": {
     "slide_type": "fragment"
    }
   },
   "outputs": [
    {
     "name": "stdout",
     "output_type": "stream",
     "text": [
      "0.36000000000000004\n",
      "0.25\n"
     ]
    }
   ],
   "source": [
    "posterior_loaded \\\n",
    "= P_likelihood_loaded*prior_loaded/evidence\n",
    "\n",
    "print(posterior_loaded)\n",
    "print(prior_loaded)"
   ]
  },
  {
   "cell_type": "markdown",
   "metadata": {
    "slideshow": {
     "slide_type": "slide"
    }
   },
   "source": [
    "What if we had $A = \\{3, 1,5,2, 6, 1, 1, 3, 2, 1, 2, 4, 3, 2, 3\\}$?"
   ]
  },
  {
   "cell_type": "code",
   "execution_count": 33,
   "metadata": {
    "cell_style": "split",
    "slideshow": {
     "slide_type": "fragment"
    }
   },
   "outputs": [],
   "source": [
    "P_likelihood_fair2 = (1/6)**15\n",
    "P_likelihood_loaded2 = (1/4)**12 * (1/12)**3"
   ]
  },
  {
   "cell_type": "code",
   "execution_count": 35,
   "metadata": {
    "cell_style": "split",
    "slideshow": {
     "slide_type": "fragment"
    }
   },
   "outputs": [],
   "source": [
    "evidence_2 = P_likelihood_fair2*prior_fair \\\n",
    "+ P_likelihood_loaded2*prior_loaded"
   ]
  },
  {
   "cell_type": "code",
   "execution_count": 38,
   "metadata": {
    "cell_style": "split",
    "slideshow": {
     "slide_type": "fragment"
    }
   },
   "outputs": [
    {
     "name": "stdout",
     "output_type": "stream",
     "text": [
      "0.15610127908915505\n",
      "0.75\n"
     ]
    }
   ],
   "source": [
    "posterior_fair2 \\\n",
    "= P_likelihood_fair2*prior_fair/evidence_2\n",
    "\n",
    "print(posterior_fair2)\n",
    "print(prior_fair)"
   ]
  },
  {
   "cell_type": "code",
   "execution_count": 40,
   "metadata": {
    "cell_style": "split",
    "slideshow": {
     "slide_type": "-"
    }
   },
   "outputs": [
    {
     "name": "stdout",
     "output_type": "stream",
     "text": [
      "0.843898720910845\n",
      "0.25\n"
     ]
    }
   ],
   "source": [
    "posterior_loaded2 \\\n",
    "= P_likelihood_loaded2*prior_loaded/evidence_2\n",
    "\n",
    "print(posterior_loaded2)\n",
    "print(prior_loaded)"
   ]
  },
  {
   "cell_type": "markdown",
   "metadata": {
    "slideshow": {
     "slide_type": "slide"
    }
   },
   "source": [
    "**As more data accumulates we shift our prior estimates**\n",
    "\n",
    "- We are more certain that this die is loaded, given the data coming in.\n",
    "- But we also factored in our previous knowledge about the world (or in this case, the pile)"
   ]
  },
  {
   "cell_type": "markdown",
   "metadata": {
    "slideshow": {
     "slide_type": "slide"
    }
   },
   "source": [
    "**Bayesian reasoning**\n",
    "\n",
    "- Hypotheses aren't just statements. We can ascertain uncertainties/probabilities on them.\n",
    "- Data taking/inference is not done in a vacuum:\n",
    "    - Prior estimates are well-held beliefs/incorporate the structure of the world."
   ]
  },
  {
   "cell_type": "markdown",
   "metadata": {
    "slideshow": {
     "slide_type": "fragment"
    }
   },
   "source": [
    "- Can update our priors with data. But priors have weight in estimation.\n",
    "\n",
    "e.g: **extraordinary claims against a strong prior require extraordinary evidence**"
   ]
  },
  {
   "cell_type": "markdown",
   "metadata": {
    "cell_style": "split",
    "slideshow": {
     "slide_type": "slide"
    }
   },
   "source": [
    "**Frequentist Reasoning**\n",
    "\n",
    "- B = fair is our *null* hypothesis\n",
    "- B = loaded is *alternate*\n",
    "\n",
    "Take data $A$ to ascertain likelihood that data $A$ was generated by *null*.\n",
    "\n",
    "- That is compute $P(A|B = fair)$"
   ]
  },
  {
   "cell_type": "markdown",
   "metadata": {
    "cell_style": "split",
    "slideshow": {
     "slide_type": "fragment"
    }
   },
   "source": [
    "Then either accept or reject the null.\n",
    "\n",
    "A hypothesis is just a statement.\n",
    "- Data used to confirm or reject statement\n",
    "- Probability only defined on the things you measure directly (the rolls).\n",
    "- Probability of a hypothesis/inference not well defined."
   ]
  },
  {
   "cell_type": "markdown",
   "metadata": {
    "slideshow": {
     "slide_type": "subslide"
    }
   },
   "source": [
    "No notion of using prior beliefs on the hypothesis:\n",
    "- **Let the data speak for itself**"
   ]
  },
  {
   "cell_type": "markdown",
   "metadata": {
    "slideshow": {
     "slide_type": "fragment"
    }
   },
   "source": [
    "From a practical standpoint:\n",
    "- Both frequentist and Bayesian inference can be useful\n",
    "- Depends on the problem, info you have, questions you ask."
   ]
  },
  {
   "cell_type": "markdown",
   "metadata": {
    "slideshow": {
     "slide_type": "slide"
    }
   },
   "source": [
    "### A fun example"
   ]
  },
  {
   "cell_type": "markdown",
   "metadata": {
    "cell_style": "split",
    "heading_collapsed": true,
    "hidden": true,
    "slideshow": {
     "slide_type": "fragment"
    }
   },
   "source": [
    "#### Why C3P0 is Wrong & Han Solo is a Badass\n",
    "\n",
    "\"Never tell me the odds!\" https://www.countbayesie.com/blog/2015/2/18/hans-solo-and-bayesian-priors\n",
    "\n",
    "Han is a one great pilot, so he likely will get through the asteroid field even if others will fail (crash and blow-up)"
   ]
  },
  {
   "cell_type": "markdown",
   "metadata": {
    "cell_style": "split",
    "slideshow": {
     "slide_type": "fragment"
    }
   },
   "source": [
    "<div align = \"center\">\n",
    "<img src=\"images/hansolo_asteroid.jpg\" align = \"center\" width=\"1000\"/>\n",
    "</div>\n",
    "<center><i> The odds of surviving an asteroid field are...</i></center>"
   ]
  },
  {
   "cell_type": "markdown",
   "metadata": {
    "heading_collapsed": true,
    "hidden": true,
    "slideshow": {
     "slide_type": "slide"
    }
   },
   "source": [
    "## The Example: Fan of a Movie 🌙"
   ]
  },
  {
   "cell_type": "markdown",
   "metadata": {
    "cell_style": "split",
    "hidden": true,
    "slideshow": {
     "slide_type": "fragment"
    }
   },
   "source": [
    "You: big fan of _Twilight_ and a Twilight evangelist.\n",
    "\n",
    "- Based on experience, you find about 1 in 5 people (or 20%) are also Twilight groupies.\n",
    "\n"
   ]
  },
  {
   "cell_type": "markdown",
   "metadata": {
    "cell_style": "split",
    "hidden": true,
    "slideshow": {
     "slide_type": "fragment"
    }
   },
   "source": [
    "![](https://upload.wikimedia.org/wikipedia/en/9/93/The_Twilight_Saga-_New_Moon_poster.JPG)"
   ]
  },
  {
   "cell_type": "markdown",
   "metadata": {
    "slideshow": {
     "slide_type": "slide"
    }
   },
   "source": [
    "Now you meet Rory:\n",
    "- they told me they just watched _The Twilight Saga: New Moon_ (the second movie) at a friend's house!"
   ]
  },
  {
   "cell_type": "markdown",
   "metadata": {
    "hidden": true,
    "slideshow": {
     "slide_type": "slide"
    }
   },
   "source": [
    "There are two possible scenarios here:"
   ]
  },
  {
   "cell_type": "markdown",
   "metadata": {
    "cell_style": "split",
    "slideshow": {
     "slide_type": "fragment"
    }
   },
   "source": [
    "1. Rory is a fan and watched the beloved sequel to _Twilight_. \n",
    "\n",
    "- I estimate that if you're a fan, the chances of you watching one the five awe-inspiring movies is about 60%. (It would be more, but we fans get busy.)"
   ]
  },
  {
   "cell_type": "markdown",
   "metadata": {
    "cell_style": "split",
    "slideshow": {
     "slide_type": "fragment"
    }
   },
   "source": [
    "2. Rory isn't a fan and watched the sequel because it was just on. \n",
    "\n",
    "- I estimate that if you're not a fan, there's only a 5% chance of you watching one of the movies (about 10x less likely)."
   ]
  },
  {
   "cell_type": "markdown",
   "metadata": {
    "slideshow": {
     "slide_type": "slide"
    }
   },
   "source": [
    "Let's define two events:\n",
    "\n",
    "* $A$ = 🌙 fan\n",
    "* $B$ = watched 🌙"
   ]
  },
  {
   "cell_type": "markdown",
   "metadata": {
    "hidden": true,
    "slideshow": {
     "slide_type": "slide"
    }
   },
   "source": [
    "Reviewing Bayes' Theorem, we get:"
   ]
  },
  {
   "cell_type": "markdown",
   "metadata": {
    "hidden": true,
    "slideshow": {
     "slide_type": "fragment"
    }
   },
   "source": [
    "$P(A) = P(\\text{🌙 fan}) = 0.20$\n",
    "\n",
    "$P(B|A) = P(\\text{watched 🌙, given you are a 🌙 fan}) = 0.60$\n",
    "\n",
    "$P(B|\\neg A) = P(\\text{watched 🌙, given you are NOT a 🌙 fan}) = 0.05$\n",
    "\n",
    "$\\begin{aligned}\n",
    "P(B) &= P(\\text{watched 🌙})  \\\\\n",
    "     &= P(B|A)\\cdot P(A) + P(B|\\neg A)\\cdot P(\\neg A) \\\\\n",
    "     &= 0.60\\cdot 0.20 + 0.05\\cdot 0.80 \\\\\n",
    "     &= 0.16 \n",
    "\\end{aligned}$"
   ]
  },
  {
   "cell_type": "markdown",
   "metadata": {
    "hidden": true,
    "slideshow": {
     "slide_type": "slide"
    }
   },
   "source": [
    "So we get that the chances of someone like Rory is a _Twilight_ fan is:\n",
    "\n",
    "$$\\begin{aligned}\n",
    "P(A|B) &= P(\\text{🌙 fan, given you watched 🌙}) \\\\ \n",
    "       &= \\frac{P(B|A)P(A)}{P(B)} \\\\\n",
    "       &= \\frac{0.60 \\cdot 0.20}{0.16} \\\\\n",
    "       &= 0.75\n",
    "\\end{aligned}$$"
   ]
  },
  {
   "cell_type": "markdown",
   "metadata": {
    "ExecuteTime": {
     "end_time": "2021-02-28T19:25:14.437546Z",
     "start_time": "2021-02-28T19:25:14.434283Z"
    },
    "hidden": true,
    "slideshow": {
     "slide_type": "subslide"
    }
   },
   "source": [
    "So there's a $75\\%$ chance Rory is a fan too!\n",
    "- Should you start your Twilight preaching?\n",
    "- Or should you welcome him as a fellow lover of all things good?"
   ]
  },
  {
   "cell_type": "markdown",
   "metadata": {
    "heading_collapsed": true,
    "hidden": true,
    "slideshow": {
     "slide_type": "slide"
    }
   },
   "source": [
    "## Visualizing Probabilities & Bayes"
   ]
  },
  {
   "cell_type": "markdown",
   "metadata": {
    "hidden": true,
    "slideshow": {
     "slide_type": "fragment"
    }
   },
   "source": [
    "We are very visual creatures, so it can help if we try to visualize this same scenario."
   ]
  },
  {
   "cell_type": "markdown",
   "metadata": {
    "hidden": true,
    "slideshow": {
     "slide_type": "slide"
    }
   },
   "source": [
    "Imagine we have a population of $50$ people. We'd get:\n",
    "\n",
    "-  $0.2\\cdot 50 = 10$ are _Twilight_ fans\n",
    "    - 4 haven't watched: 🌙\n",
    "    - 6 have watched: 🧛\n",
    "-  $0.8\\cdot 50 = 40$ are not _Twilight_ fans: \n",
    "    - 38 haven't watched: 🙂\n",
    "    - 2 have watched: 👁\n",
    "\n",
    "<pre>\n",
    "\n",
    "🧛🧛👁👁🙂🙂🙂🙂🙂🙂\n",
    "🧛🧛🙂🙂🙂🙂🙂🙂🙂🙂\n",
    "🧛🧛🙂🙂🙂🙂🙂🙂🙂🙂\n",
    "🌙🌙🙂🙂🙂🙂🙂🙂🙂🙂\n",
    "🌙🌙🙂🙂🙂🙂🙂🙂🙂🙂\n",
    "\n",
    "</pre>"
   ]
  },
  {
   "cell_type": "markdown",
   "metadata": {
    "hidden": true,
    "slideshow": {
     "slide_type": "slide"
    }
   },
   "source": [
    "But we only care about those who watched (🧛 & 👁). So given that Rory watched one of the movies, we only care about this subset:\n",
    "\n",
    "<pre>\n",
    "\n",
    "🧛🧛👁👁\n",
    "🧛🧛\n",
    "🧛🧛\n",
    "\n",
    "</pre>\n",
    "\n",
    "Thus there is a $6$ out of $8$ chance Rory also is a _Twilight_ fan or simply $75\\%$"
   ]
  },
  {
   "cell_type": "markdown",
   "metadata": {
    "heading_collapsed": true,
    "slideshow": {
     "slide_type": "slide"
    }
   },
   "source": [
    "# Bayes' Theorem Examples "
   ]
  },
  {
   "cell_type": "markdown",
   "metadata": {
    "heading_collapsed": true,
    "hidden": true,
    "slideshow": {
     "slide_type": "fragment"
    }
   },
   "source": [
    "## Scenario: Diagnostic Testing 🤢\n",
    "\n",
    "Pretend we test positive for a rare disease. What are the chances that we actually have the disease?"
   ]
  },
  {
   "cell_type": "markdown",
   "metadata": {
    "heading_collapsed": true,
    "hidden": true,
    "slideshow": {
     "slide_type": "fragment"
    }
   },
   "source": [
    "## The Setup"
   ]
  },
  {
   "cell_type": "markdown",
   "metadata": {
    "hidden": true,
    "slideshow": {
     "slide_type": "fragment"
    }
   },
   "source": [
    "- The disease is rare: only 0.01% of the population has it\n",
    "- The test will be correct 99% of the time, whether or not you have the disease "
   ]
  },
  {
   "cell_type": "markdown",
   "metadata": {
    "heading_collapsed": true,
    "hidden": true,
    "slideshow": {
     "slide_type": "slide"
    }
   },
   "source": [
    "## Defining Events & Probabilities"
   ]
  },
  {
   "cell_type": "markdown",
   "metadata": {
    "hidden": true,
    "slideshow": {
     "slide_type": "fragment"
    }
   },
   "source": [
    "$A$ → I have the disease\n",
    "\n",
    "$B$ → I test positive\n",
    "\n",
    "----------\n",
    "\n",
    "$P(A) = P(\\text{have the disease}) = 0.0001$\n",
    "\n",
    "$P(B)$ = $P(\\text{test positive})$\n",
    "\n",
    "$P(A|B)$ = $P(\\text{having the disease given that test positive})$\n",
    "\n",
    "\n",
    "\n",
    "\n",
    "\n"
   ]
  },
  {
   "cell_type": "markdown",
   "metadata": {
    "heading_collapsed": true,
    "hidden": true,
    "slideshow": {
     "slide_type": "slide"
    }
   },
   "source": [
    "## Use Bayes' Theorem"
   ]
  },
  {
   "cell_type": "markdown",
   "metadata": {
    "hidden": true,
    "slideshow": {
     "slide_type": "fragment"
    }
   },
   "source": [
    "$P(sick | positive) =  \\frac{P(positive | sick)\\ P(sick)}{P(positive)}$"
   ]
  },
  {
   "cell_type": "markdown",
   "metadata": {
    "heading_collapsed": true,
    "hidden": true,
    "slideshow": {
     "slide_type": "fragment"
    }
   },
   "source": [
    "But we can be more specific by knowing the probability of testing positive for each case"
   ]
  },
  {
   "cell_type": "markdown",
   "metadata": {
    "hidden": true,
    "slideshow": {
     "slide_type": "fragment"
    }
   },
   "source": [
    "$P(positive) = P(sick)\\ P(positive | sick) + P(not\\ sick)\\ P(positive|not\\ sick)$"
   ]
  },
  {
   "cell_type": "markdown",
   "metadata": {
    "heading_collapsed": true,
    "hidden": true,
    "slideshow": {
     "slide_type": "slide"
    }
   },
   "source": [
    "This leads to our ultimate equation"
   ]
  },
  {
   "cell_type": "markdown",
   "metadata": {
    "hidden": true,
    "slideshow": {
     "slide_type": "fragment"
    }
   },
   "source": [
    "$P(sick | positive) =  \\frac{P(positive | sick)\\ P(sick)}{P(sick)\\ P(positive | sick) + P(not\\ sick)\\ P(positive|not\\ sick)}$"
   ]
  },
  {
   "cell_type": "markdown",
   "metadata": {
    "heading_collapsed": true,
    "hidden": true,
    "slideshow": {
     "slide_type": "slide"
    }
   },
   "source": [
    "## Calculate Posterior Probability"
   ]
  },
  {
   "cell_type": "code",
   "execution_count": null,
   "metadata": {
    "hidden": true,
    "slideshow": {
     "slide_type": "fragment"
    }
   },
   "outputs": [],
   "source": [
    "# probability of sick & healthy\n",
    "p_sick = 0.0001\n",
    "p_not_sick = 1 - p_sick\n",
    "\n",
    "# probability of test being correct (accuracy)\n",
    "p_positive_sick = 0.99\n",
    "p_positive_not_sick = 1 - p_positive_sick\n",
    "\n",
    "# probability of positive test (whether or not you are sick)\n",
    "p_positive = p_sick*p_positive_sick + p_not_sick*p_positive_not_sick"
   ]
  },
  {
   "cell_type": "markdown",
   "metadata": {
    "heading_collapsed": true,
    "hidden": true,
    "slideshow": {
     "slide_type": "slide"
    }
   },
   "source": [
    "Next, we defining the parts for Bayes' Theorem"
   ]
  },
  {
   "cell_type": "code",
   "execution_count": null,
   "metadata": {
    "hidden": true,
    "slideshow": {
     "slide_type": "fragment"
    }
   },
   "outputs": [],
   "source": [
    "# belief before hand\n",
    "sick_prior = p_sick\n",
    "\n",
    "# how likely are we to test positive and be sick\n",
    "pos_sick_likelihood = p_positive_sick \n",
    "\n",
    "# Add normalization\n",
    "pos_norm = p_positive"
   ]
  },
  {
   "cell_type": "markdown",
   "metadata": {
    "slideshow": {
     "slide_type": "fragment"
    }
   },
   "source": [
    "For convenience, I've created a function that combines all three parts to calculate the **posterior** probability"
   ]
  },
  {
   "cell_type": "code",
   "execution_count": null,
   "metadata": {
    "hidden": true,
    "slideshow": {
     "slide_type": "fragment"
    }
   },
   "outputs": [],
   "source": [
    "# handy dandy function\n",
    "def find_posterior(prior, likelihood, norm):\n",
    "    return prior * likelihood / norm"
   ]
  },
  {
   "cell_type": "markdown",
   "metadata": {
    "heading_collapsed": true,
    "hidden": true,
    "slideshow": {
     "slide_type": "slide"
    }
   },
   "source": [
    "Lastly, we use the function to calculate our result"
   ]
  },
  {
   "cell_type": "code",
   "execution_count": null,
   "metadata": {
    "hidden": true,
    "slideshow": {
     "slide_type": "fragment"
    }
   },
   "outputs": [],
   "source": [
    "prob_youre_sick = find_posterior(sick_prior, pos_sick_likelihood, pos_norm)\n",
    "\n",
    "print(f'You have a {prob_youre_sick*100:.2f}% chance of actually being sick')"
   ]
  },
  {
   "cell_type": "markdown",
   "metadata": {
    "heading_collapsed": true,
    "hidden": true,
    "slideshow": {
     "slide_type": "slide"
    }
   },
   "source": [
    "## Interpretation\n",
    "\n",
    "**Discussion:** Does this make sense?"
   ]
  },
  {
   "cell_type": "markdown",
   "metadata": {
    "heading_collapsed": true,
    "hidden": true,
    "slideshow": {
     "slide_type": "slide"
    }
   },
   "source": [
    "# Exercises"
   ]
  },
  {
   "cell_type": "markdown",
   "metadata": {
    "slideshow": {
     "slide_type": "fragment"
    }
   },
   "source": [
    "## Common Diseases\n",
    "\n",
    "How would the calculation in the Diagnostic Testing scenario change if 2% of the population had the disease?\n",
    "\n",
    "<details>\n",
    "    <summary><b><u>Click Here for Answer Code</u></b></summary>\n",
    "\n",
    "    # probability of sick & healthy\n",
    "    p_sick = 0.02\n",
    "    p_not_sick = 1 - p_sick\n",
    "\n",
    "    # probability of test being correct (accuracy)\n",
    "    p_positive_sick = 0.99\n",
    "    p_positive_not_sick = 1 - p_positive_sick\n",
    "\n",
    "    # probability of positive test (whether or not you are sick)\n",
    "    p_positive = p_sick*p_positive_sick + p_not_sick*p_positive_not_sick\n",
    "\n",
    "    # belief before hand\n",
    "    sick_prior = p_sick\n",
    "\n",
    "    # how likely are we to test positive and be sick\n",
    "    pos_sick_likelihood = p_positive_sick \n",
    "\n",
    "    # Add normalization\n",
    "    pos_norm = p_positive\n",
    "\n",
    "    prob_youre_sick = find_posterior(sick_prior, pos_sick_likelihood, pos_norm)\n",
    "\n",
    "    print(f'You have a {prob_youre_sick*100:.2f}% chance of actually being sick')\n",
    "    \n",
    "</details>"
   ]
  },
  {
   "cell_type": "code",
   "execution_count": null,
   "metadata": {},
   "outputs": [],
   "source": [
    "# Your work here\n"
   ]
  },
  {
   "cell_type": "markdown",
   "metadata": {
    "slideshow": {
     "slide_type": "slide"
    }
   },
   "source": [
    "## Better Tests\n",
    "\n",
    "How would the calculation in the Diagnostic Testing scenario change if the test were 99.9% correct?\n",
    "\n",
    "\n",
    "<details>\n",
    "    <summary><b><u>Click Here for Answer Code</u></b></summary>\n",
    "\n",
    "    # probability of sick & healthy\n",
    "    p_sick = 0.0001\n",
    "    p_not_sick = 1 - p_sick\n",
    "\n",
    "    # probability of test being correct (accuracy)\n",
    "    p_positive_sick = 0.999\n",
    "    p_positive_not_sick = 1 - p_positive_sick\n",
    "\n",
    "    # probability of positive test (whether or not you are sick)\n",
    "    p_positive = p_sick*p_positive_sick + p_not_sick*p_positive_not_sick\n",
    "\n",
    "    # belief before hand\n",
    "    sick_prior = p_sick\n",
    "\n",
    "    # how likely are we to test positive and be sick\n",
    "    pos_sick_likelihood = p_positive_sick \n",
    "\n",
    "    # Add normalization\n",
    "    pos_norm = p_positive\n",
    "\n",
    "    prob_youre_sick = find_posterior(sick_prior, pos_sick_likelihood, pos_norm)\n",
    "\n",
    "    print(f'You have a {prob_youre_sick*100:.2f}% chance of actually being sick')\n",
    "    \n",
    "</details>"
   ]
  },
  {
   "cell_type": "code",
   "execution_count": null,
   "metadata": {
    "slideshow": {
     "slide_type": "fragment"
    }
   },
   "outputs": [],
   "source": [
    "# Your work here\n"
   ]
  },
  {
   "cell_type": "markdown",
   "metadata": {},
   "source": [
    "# Level Up: Harder Exercise"
   ]
  },
  {
   "cell_type": "markdown",
   "metadata": {
    "hidden": true
   },
   "source": [
    "## Two Tests\n",
    "\n",
    "In the original Diagnostic Testing scenario above, what are the chances that we have the disease if we take the test twice and it is positive both times? (Assume the tests are independent.)\n",
    "\n",
    "\n",
    "<details>\n",
    "    <summary><b><u>Click Here for Answer Code</u></b></summary>\n",
    "\n",
    "    # probability of sick & healthy\n",
    "    p_sick = 0.0001\n",
    "    p_not_sick = 1 - p_sick\n",
    "\n",
    "    # probability of 2 tests being correct\n",
    "    p_positive_sick = 0.99\n",
    "    p_2positive_sick = p_positive_sick**2\n",
    "    \n",
    "    # probability of 2 tests being incorrect\n",
    "    p_positive_not_sick = 1 - p_positive_sick\n",
    "    p_2positive_not_sick = p_positive_not_sick**2\n",
    "\n",
    "    # probability of positive test (whether or not you are sick)\n",
    "    p_2positive = p_sick*p_2positive_sick + p_not_sick*p_2positive_not_sick\n",
    "\n",
    "    # belief before hand\n",
    "    sick_prior = p_sick\n",
    "\n",
    "    # how likely are we to test positive and be sick\n",
    "    pos_sick_likelihood = p_2positive_sick \n",
    "\n",
    "    # Add normalization\n",
    "    pos_norm = p_2positive\n",
    "\n",
    "    prob_youre_sick = find_posterior(sick_prior, pos_sick_likelihood, pos_norm)\n",
    "\n",
    "    print(f'You have a {prob_youre_sick*100:.2f}% chance of actually being sick')\n",
    "    \n",
    "</details>"
   ]
  },
  {
   "cell_type": "code",
   "execution_count": null,
   "metadata": {},
   "outputs": [],
   "source": [
    "# Your work here"
   ]
  },
  {
   "cell_type": "markdown",
   "metadata": {
    "heading_collapsed": true,
    "hidden": true,
    "slideshow": {
     "slide_type": "slide"
    }
   },
   "source": [
    "# Level Up: The Bayes Factor"
   ]
  },
  {
   "cell_type": "markdown",
   "metadata": {
    "hidden": true,
    "slideshow": {
     "slide_type": "fragment"
    }
   },
   "source": [
    "Another method for using Bayesian reasoning relies on _odds_ over _probability_. This can feel more intuitive.\n",
    "\n",
    "If we rearrange Bayes' Theorem, we can use the odds:\n",
    "\n",
    "$$P(A|B) =  \\frac{P(B|A)P(A)}{P(B)}$$\n",
    "\n",
    "$$O(A|B) =  O(A)\\frac{P(B|A)}{P(B|\\neg A)}$$\n"
   ]
  },
  {
   "cell_type": "markdown",
   "metadata": {
    "hidden": true,
    "slideshow": {
     "slide_type": "fragment"
    }
   },
   "source": [
    "We call this $\\frac{P(B|A)}{P(B|\\neg A)}$ the **Bayes factor** and can be seen how we update the prior odds."
   ]
  },
  {
   "cell_type": "markdown",
   "metadata": {
    "hidden": true,
    "slideshow": {
     "slide_type": "fragment"
    }
   },
   "source": [
    "To use this we, say what we want is the _odds_ that $A$ is true given $B$ is true (observed)"
   ]
  },
  {
   "cell_type": "markdown",
   "metadata": {
    "heading_collapsed": true,
    "hidden": true,
    "slideshow": {
     "slide_type": "slide"
    }
   },
   "source": [
    "## Using the Previous Example"
   ]
  },
  {
   "cell_type": "markdown",
   "metadata": {
    "hidden": true,
    "slideshow": {
     "slide_type": "fragment"
    }
   },
   "source": [
    "Going back to our _Twilight_ example:"
   ]
  },
  {
   "cell_type": "markdown",
   "metadata": {
    "hidden": true,
    "slideshow": {
     "slide_type": "fragment"
    }
   },
   "source": [
    "* $P(A) = 20\\%$ (or $O(A)= \\frac{1}{4}$ or {$1:4$}) of all people are _Twilight_ fans \n",
    "* $P(B|A) = 60\\%$ of all _Twilight_ fans have seen one of the movies in the past month\n",
    "* $P(B|\\neg A) = 5\\%$ of all non-_Twilight_ fans have seen one of the movies in the past month"
   ]
  },
  {
   "cell_type": "markdown",
   "metadata": {
    "hidden": true,
    "slideshow": {
     "slide_type": "slide"
    }
   },
   "source": [
    "Well, then our odds form turns to:\n",
    "\n",
    "$$\\begin{aligned}\n",
    "O(A|B) &= O(A)\\frac{P(B|A)}{P(B|\\neg A)} \\\\\n",
    "\\\\\n",
    "       &= \\frac{1}{4} \\cdot \\frac{0.60}{0.05} \\\\\n",
    "       &= \\frac{1}{4} \\cdot 12 \\\\\n",
    "       &= \\frac{12}{4} \\\\\n",
    "       &= \\frac{3}{1} \\\\\n",
    "       & = 3:1 \\text{ odds}\n",
    "\\end{aligned}$$\n",
    "\n",
    "Or simply $3$ out of $4$ people who watched a movie from the _Twilight_ saga is a fan. That's the same $75\\%$ we found from before!"
   ]
  },
  {
   "cell_type": "markdown",
   "metadata": {
    "heading_collapsed": true,
    "hidden": true,
    "slideshow": {
     "slide_type": "slide"
    }
   },
   "source": [
    "## Going back to the visual example"
   ]
  },
  {
   "cell_type": "markdown",
   "metadata": {
    "hidden": true,
    "slideshow": {
     "slide_type": "fragment"
    }
   },
   "source": [
    "Using a pretend population of $50$ random people we still get:\n",
    "\n",
    "-  $0.2\\cdot 50 = 10$ are _Twilight_ fans\n",
    "    - 4 haven't watched in the past month: 🌙\n",
    "    - 6 have watched in the past month: 🧛\n",
    "-  $0.8\\cdot 50 = 40$ are not _Twilight_ fans: \n",
    "    - 38 haven't watched in the past month: 🙂\n",
    "    - 2 have watched in the past month: 👁\n",
    "\n",
    "<pre>\n",
    "\n",
    "🧛🧛👁👁🙂🙂🙂🙂🙂🙂\n",
    "🧛🧛🙂🙂🙂🙂🙂🙂🙂🙂\n",
    "🧛🧛🙂🙂🙂🙂🙂🙂🙂🙂\n",
    "🌙🌙🙂🙂🙂🙂🙂🙂🙂🙂\n",
    "🌙🌙🙂🙂🙂🙂🙂🙂🙂🙂\n",
    "\n",
    "</pre>"
   ]
  },
  {
   "cell_type": "markdown",
   "metadata": {
    "heading_collapsed": true,
    "hidden": true,
    "slideshow": {
     "slide_type": "fragment"
    }
   },
   "source": [
    "## Interpreting further\n",
    "\n",
    "- There's $1$:$4$ odds you are a fan given no information\n",
    "- But if you watched a _Twilight_ movie in the past month, we know you're more likely to be a fan by the **Bayes factor** of 12 \n",
    "- We update our _prior_ belief with that knowledge to find we expect that there are 3 times **more** fans who watched in the past month than non-fans who watched in the past month"
   ]
  }
 ],
 "metadata": {
  "celltoolbar": "Slideshow",
  "kernelspec": {
   "display_name": "Python 3 (ipykernel)",
   "language": "python",
   "name": "python3"
  },
  "language_info": {
   "codemirror_mode": {
    "name": "ipython",
    "version": 3
   },
   "file_extension": ".py",
   "mimetype": "text/x-python",
   "name": "python",
   "nbconvert_exporter": "python",
   "pygments_lexer": "ipython3",
   "version": "3.9.7"
  },
  "toc": {
   "base_numbering": 1,
   "nav_menu": {},
   "number_sections": true,
   "sideBar": false,
   "skip_h1_title": false,
   "title_cell": "Table of Contents",
   "title_sidebar": "Contents",
   "toc_cell": true,
   "toc_position": {
    "height": "calc(100% - 180px)",
    "left": "10px",
    "top": "150px",
    "width": "177.391px"
   },
   "toc_section_display": false,
   "toc_window_display": false
  },
  "varInspector": {
   "cols": {
    "lenName": 16,
    "lenType": 16,
    "lenVar": 40
   },
   "kernels_config": {
    "python": {
     "delete_cmd_postfix": "",
     "delete_cmd_prefix": "del ",
     "library": "var_list.py",
     "varRefreshCmd": "print(var_dic_list())"
    },
    "r": {
     "delete_cmd_postfix": ") ",
     "delete_cmd_prefix": "rm(",
     "library": "var_list.r",
     "varRefreshCmd": "cat(var_dic_list()) "
    }
   },
   "types_to_exclude": [
    "module",
    "function",
    "builtin_function_or_method",
    "instance",
    "_Feature"
   ],
   "window_display": false
  }
 },
 "nbformat": 4,
 "nbformat_minor": 2
}
