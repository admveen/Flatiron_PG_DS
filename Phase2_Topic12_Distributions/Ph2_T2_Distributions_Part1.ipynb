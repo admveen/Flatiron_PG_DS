{
 "cells": [
  {
   "cell_type": "markdown",
   "metadata": {
    "cell_style": "center",
    "slideshow": {
     "slide_type": "slide"
    }
   },
   "source": [
    "<div style=\"color:white;\n",
    "           display:fill;\n",
    "           border-radius:5px;\n",
    "           background-color:#5642C5;\n",
    "           font-size:200%;\n",
    "           font-family:Arial;letter-spacing:0.5px\">\n",
    "\n",
    "<p width = 20%, style=\"padding: 10px;\n",
    "              color:white;\">\n",
    "Distributions: Part I\n",
    "              \n",
    "</p>\n",
    "</div>\n",
    "\n",
    "Data Science Cohort Live NYC Feb 2022\n",
    "<p>Phase 2: Topic 12</p>\n",
    "<br>\n",
    "<br>\n",
    "\n",
    "<div align = \"right\">\n",
    "<img src=\"Images/flatiron-school-logo.png\" align = \"right\" width=\"200\"/>\n",
    "</div>\n",
    "    \n",
    "    "
   ]
  },
  {
   "cell_type": "markdown",
   "metadata": {
    "cell_style": "center",
    "hidden": true,
    "slideshow": {
     "slide_type": "subslide"
    }
   },
   "source": [
    "#### Probability distribution\n",
    "\n",
    "Representation of the expected frequencies of potential outcomes of experiment.\n",
    "\n",
    "How do we build expected frequencies?"
   ]
  },
  {
   "cell_type": "markdown",
   "metadata": {
    "cell_style": "split",
    "slideshow": {
     "slide_type": "fragment"
    }
   },
   "source": [
    "Have a large $N$ collection of all examples following distribution of interest:\n",
    "- known as a **population**"
   ]
  },
  {
   "cell_type": "markdown",
   "metadata": {
    "cell_style": "split",
    "slideshow": {
     "slide_type": "fragment"
    }
   },
   "source": [
    "**population**: the collection of all men in the world and their feet sizes."
   ]
  },
  {
   "cell_type": "markdown",
   "metadata": {
    "slideshow": {
     "slide_type": "slide"
    }
   },
   "source": [
    "**Another example of a population:** age bin distribution of all students that have ever attended Flatiron"
   ]
  },
  {
   "cell_type": "markdown",
   "metadata": {
    "cell_style": "split",
    "slideshow": {
     "slide_type": "subslide"
    }
   },
   "source": [
    "**The bins**\n",
    "\n",
    "- Age < 25.\n",
    "- 25 <= Age < 30.\n",
    "- 30 <= Age < 35.\n",
    "- 35 <= Age < 40.\n",
    "- Age >= 40"
   ]
  },
  {
   "cell_type": "markdown",
   "metadata": {
    "cell_style": "split"
   },
   "source": [
    "If we had access to every example in this population:\n",
    "\n",
    "- just get relative frequencies across bins\n",
    "- these are the **expected frequencies** or **probablity** given population level data."
   ]
  },
  {
   "cell_type": "markdown",
   "metadata": {
    "slideshow": {
     "slide_type": "slide"
    }
   },
   "source": [
    "#### Building probability distribution:"
   ]
  },
  {
   "cell_type": "markdown",
   "metadata": {
    "cell_style": "split",
    "slideshow": {
     "slide_type": "fragment"
    }
   },
   "source": [
    "- Get ages of all students at Flatiron (population)\n",
    "- Bin accordingly to build probability distribution."
   ]
  },
  {
   "cell_type": "markdown",
   "metadata": {
    "cell_style": "split",
    "slideshow": {
     "slide_type": "fragment"
    }
   },
   "source": [
    "\n",
    "- $15\\%$ are under the age of $25$\n",
    "- $30\\%$ are between $25$ & $30$\n",
    "- $25\\%$ are between $30$ & $35$\n",
    "- $20\\%$ are between $35$ & $40$\n",
    "- $10\\%$ are over the age of $40$\n",
    "\n",
    "**Built probability distribution from population percentages**"
   ]
  },
  {
   "cell_type": "markdown",
   "metadata": {
    "cell_style": "split",
    "slideshow": {
     "slide_type": "slide"
    }
   },
   "source": [
    "#### Sample from population\n",
    "\n",
    "<center><img src=\"Images/population_sample.png\" width=\"500\"/></center>\n",
    "\n",
    "    "
   ]
  },
  {
   "cell_type": "markdown",
   "metadata": {
    "cell_style": "split",
    "slideshow": {
     "slide_type": "fragment"
    }
   },
   "source": [
    "Once probability from population known:\n",
    "- Can estimate expected frequency of extracting a particular sample."
   ]
  },
  {
   "cell_type": "markdown",
   "metadata": {
    "cell_style": "split",
    "slideshow": {
     "slide_type": "subslide"
    }
   },
   "source": [
    "\n",
    "**Population**: whole group we're interested in. Population being the whole set of possible outcomes.\n",
    "\n",
    "**Sample**: random subset picked over the population. \n",
    "\n",
    "**Probabilities**: extracted from population"
   ]
  },
  {
   "cell_type": "markdown",
   "metadata": {
    "cell_style": "center",
    "slideshow": {
     "slide_type": "subslide"
    }
   },
   "source": [
    "#### Sampling\n",
    "\n",
    "- Picking a person randomly: \n",
    "\n",
    "What is the probability that the person is older than 40?"
   ]
  },
  {
   "cell_type": "markdown",
   "metadata": {
    "cell_style": "split",
    "slideshow": {
     "slide_type": "fragment"
    }
   },
   "source": [
    "\n",
    "- $15\\%$ are under the age of $25$\n",
    "- $30\\%$ are between $25$ & $30$\n",
    "- $25\\%$ are between $30$ & $35$\n",
    "- $20\\%$ are between $35$ & $40$\n",
    "- $10\\%$ are over the age of $40$\n",
    "\n",
    "**Built probability distribution from population percentages**"
   ]
  },
  {
   "cell_type": "markdown",
   "metadata": {
    "cell_style": "split",
    "slideshow": {
     "slide_type": "fragment"
    }
   },
   "source": [
    "$$ P = 0.1 $$"
   ]
  },
  {
   "cell_type": "markdown",
   "metadata": {
    "slideshow": {
     "slide_type": "subslide"
    }
   },
   "source": [
    "#### Sampling\n",
    "\n",
    "- Picking three people randomly: \n",
    "\n",
    "What is the probability that two are older than 40 and one is under the age of 25?"
   ]
  },
  {
   "cell_type": "code",
   "execution_count": 16,
   "metadata": {
    "slideshow": {
     "slide_type": "fragment"
    }
   },
   "outputs": [
    {
     "data": {
      "text/plain": [
       "0.0045000000000000005"
      ]
     },
     "execution_count": 16,
     "metadata": {},
     "output_type": "execute_result"
    }
   ],
   "source": [
    "from math import factorial\n",
    "\n",
    "combination_prefactor = factorial(3)/(factorial(2)*factorial(1))\n",
    "combination_prefactor*(.15)*(0.1)**2"
   ]
  },
  {
   "cell_type": "markdown",
   "metadata": {
    "slideshow": {
     "slide_type": "slide"
    }
   },
   "source": [
    "For discrete sample spaces:\n",
    "- probability distributions / tabulations have a fancy shmancy name."
   ]
  },
  {
   "cell_type": "markdown",
   "metadata": {
    "slideshow": {
     "slide_type": "subslide"
    }
   },
   "source": [
    "#### Probability Mass Function (PMF)\n",
    "\n",
    "Probability distribution over finite outcomes. Nothing fancy."
   ]
  },
  {
   "cell_type": "code",
   "execution_count": 80,
   "metadata": {
    "slideshow": {
     "slide_type": "fragment"
    }
   },
   "outputs": [
    {
     "data": {
      "text/html": [
       "<div>\n",
       "<style scoped>\n",
       "    .dataframe tbody tr th:only-of-type {\n",
       "        vertical-align: middle;\n",
       "    }\n",
       "\n",
       "    .dataframe tbody tr th {\n",
       "        vertical-align: top;\n",
       "    }\n",
       "\n",
       "    .dataframe thead th {\n",
       "        text-align: right;\n",
       "    }\n",
       "</style>\n",
       "<table border=\"1\" class=\"dataframe\">\n",
       "  <thead>\n",
       "    <tr style=\"text-align: right;\">\n",
       "      <th></th>\n",
       "      <th>Age Range</th>\n",
       "      <th>PMF</th>\n",
       "    </tr>\n",
       "  </thead>\n",
       "  <tbody>\n",
       "    <tr>\n",
       "      <th>0</th>\n",
       "      <td>&lt;25</td>\n",
       "      <td>0.15</td>\n",
       "    </tr>\n",
       "    <tr>\n",
       "      <th>1</th>\n",
       "      <td>25-30</td>\n",
       "      <td>0.30</td>\n",
       "    </tr>\n",
       "    <tr>\n",
       "      <th>2</th>\n",
       "      <td>30-35</td>\n",
       "      <td>0.20</td>\n",
       "    </tr>\n",
       "    <tr>\n",
       "      <th>3</th>\n",
       "      <td>35-40</td>\n",
       "      <td>0.25</td>\n",
       "    </tr>\n",
       "    <tr>\n",
       "      <th>4</th>\n",
       "      <td>&gt;40</td>\n",
       "      <td>0.10</td>\n",
       "    </tr>\n",
       "  </tbody>\n",
       "</table>\n",
       "</div>"
      ],
      "text/plain": [
       "  Age Range   PMF\n",
       "0       <25  0.15\n",
       "1     25-30  0.30\n",
       "2     30-35  0.20\n",
       "3     35-40  0.25\n",
       "4       >40  0.10"
      ]
     },
     "execution_count": 80,
     "metadata": {},
     "output_type": "execute_result"
    }
   ],
   "source": [
    "import pandas as pd\n",
    "import numpy as np\n",
    "outcome_df = pd.DataFrame([('<25', 0.15),('25-30', 0.3,),('30-35', 0.2,),('35-40', .25,),('>40', .1,)], columns=['Age Range', 'PMF'])\n",
    "outcome_df"
   ]
  },
  {
   "cell_type": "markdown",
   "metadata": {
    "cell_style": "center",
    "slideshow": {
     "slide_type": "subslide"
    }
   },
   "source": [
    "#### Plot PMF"
   ]
  },
  {
   "cell_type": "markdown",
   "metadata": {
    "slideshow": {
     "slide_type": "fragment"
    }
   },
   "source": [
    "Are often displayed visually by a specialized plot: *the stem plot*"
   ]
  },
  {
   "cell_type": "code",
   "execution_count": 18,
   "metadata": {
    "cell_style": "center",
    "scrolled": true,
    "slideshow": {
     "slide_type": "subslide"
    }
   },
   "outputs": [
    {
     "data": {
      "image/png": "[encoded data removed]",
      "text/plain": [
       "<Figure size 432x288 with 1 Axes>"
      ]
     },
     "metadata": {
      "needs_background": "light"
     },
     "output_type": "display_data"
    }
   ],
   "source": [
    "import matplotlib.pyplot as plt\n",
    "from matplotlib.pyplot import stem\n",
    "\n",
    "\n",
    "plt.stem(outcome_df['Age Range'], outcome_df['PMF'], linefmt='b-', markerfmt='bo', basefmt='r-')\n",
    "plt.xlabel('Age groups')\n",
    "plt.ylabel('Probability')\n",
    "plt.title('Probability Mass Function (PMF)')\n",
    "plt.show()"
   ]
  },
  {
   "cell_type": "markdown",
   "metadata": {
    "hidden": true,
    "slideshow": {
     "slide_type": "slide"
    }
   },
   "source": [
    "Actual uses of using population data to build probability distributions:\n",
    "\n",
    "- **Galaxy distribution in our universe:** \n",
    "    - sampling: our galactic local group\n",
    "- **All ad click data on Facebook:**\n",
    "    - sampling: specific user likehood to click on given add given their preferences"
   ]
  },
  {
   "cell_type": "markdown",
   "metadata": {
    "slideshow": {
     "slide_type": "slide"
    }
   },
   "source": [
    "#### Mathematical models of distribution"
   ]
  },
  {
   "cell_type": "markdown",
   "metadata": {
    "cell_style": "center",
    "slideshow": {
     "slide_type": "fragment"
    }
   },
   "source": [
    "- In many cases: know what a population distribution _should_ be.\n",
    "- Can model uncertainty: mathematically define a model governing statistics or population level data.\n",
    "\n",
    "**Often referred to as generative modeling**"
   ]
  },
  {
   "cell_type": "markdown",
   "metadata": {
    "heading_collapsed": true,
    "hidden": true,
    "slideshow": {
     "slide_type": "slide"
    }
   },
   "source": [
    "#### Common types of distributions: Discrete "
   ]
  },
  {
   "cell_type": "markdown",
   "metadata": {
    "cell_style": "split",
    "slideshow": {
     "slide_type": "fragment"
    }
   },
   "source": [
    "Mathematical distribution of random variables $X$:\n",
    "- governed by specific functional form\n",
    "- parameters of distribution $\\theta$"
   ]
  },
  {
   "cell_type": "markdown",
   "metadata": {
    "cell_style": "split",
    "slideshow": {
     "slide_type": "fragment"
    }
   },
   "source": [
    "Probability has some specific functional form depending on $X$ and $\\theta$.\n",
    "\n",
    "$$ P(X|\\theta) $$\n",
    "\n",
    "*Note*: This is a probability of the random variable $X$ conditioned on $\\theta$.\n",
    "\n",
    "The parameters $\\theta$ are not random variables."
   ]
  },
  {
   "cell_type": "markdown",
   "metadata": {
    "slideshow": {
     "slide_type": "slide"
    }
   },
   "source": [
    "### Examples: some important distributions"
   ]
  },
  {
   "cell_type": "markdown",
   "metadata": {
    "slideshow": {
     "slide_type": "subslide"
    }
   },
   "source": [
    "- **Bernoulli Distribution**\n",
    "    - Represents the probability of success for a certain experiment (binary outcome).\n",
    "    - Did someone click on an ad banner or not?"
   ]
  },
  {
   "cell_type": "markdown",
   "metadata": {
    "cell_style": "split",
    "slideshow": {
     "slide_type": "slide"
    }
   },
   "source": [
    "$$ B(X| p) = p^X(1-p)^{1-X} $$\n",
    "\n",
    "Random variable $X$:\n",
    "- Yes: X = 1 <br>\n",
    "- No: X = 0 <br>\n",
    "\n",
    "$p$: probability of banner clicked. This is a parameter."
   ]
  },
  {
   "cell_type": "markdown",
   "metadata": {
    "cell_style": "split",
    "slideshow": {
     "slide_type": "fragment"
    }
   },
   "source": [
    "Probability of clicked:\n",
    "$$ B(X = 1| p) = p $$ <br>\n",
    "\n",
    "Probability of not clicked:\n",
    "$$ B(X = 0| p) = 1 - p $$"
   ]
  },
  {
   "cell_type": "markdown",
   "metadata": {
    "slideshow": {
     "slide_type": "slide"
    }
   },
   "source": [
    "Scipy stats can help us with sampling distribution/plotting PMF, etc\n",
    "\n",
    "Probability is 4% of ad being clicked."
   ]
  },
  {
   "cell_type": "code",
   "execution_count": 19,
   "metadata": {
    "cell_style": "center",
    "slideshow": {
     "slide_type": "fragment"
    }
   },
   "outputs": [
    {
     "data": {
      "text/plain": [
       "[(0, 0.96), (1, 0.04)]"
      ]
     },
     "execution_count": 19,
     "metadata": {},
     "output_type": "execute_result"
    }
   ],
   "source": [
    "# import bernoulli\n",
    "from scipy.stats import bernoulli\n",
    "\n",
    "bernoulli_pmf = [(x, bernoulli.pmf(x, p = .04)) for x in [0,1]]\n",
    "bernoulli_pmf"
   ]
  },
  {
   "cell_type": "markdown",
   "metadata": {
    "slideshow": {
     "slide_type": "slide"
    }
   },
   "source": [
    "The pmf can be visualized with a stem plot:"
   ]
  },
  {
   "cell_type": "code",
   "execution_count": 81,
   "metadata": {
    "slideshow": {
     "slide_type": "fragment"
    }
   },
   "outputs": [
    {
     "data": {
      "image/png": "[encoded data removed]",
      "text/plain": [
       "<Figure size 432x288 with 1 Axes>"
      ]
     },
     "metadata": {
      "needs_background": "light"
     },
     "output_type": "display_data"
    }
   ],
   "source": [
    "# create list of x values and a list of y values for matplotlib\n",
    "unzipped_bernoulli = list(zip(*bernoulli_pmf))\n",
    "\n",
    "plt.stem(unzipped_bernoulli[0], unzipped_bernoulli[1], linefmt='b-', markerfmt='bo', basefmt='r-')\n",
    "plt.xlabel('X')\n",
    "plt.ylabel('Probability')\n",
    "plt.title('Bernoulli PMF')\n",
    "plt.show()"
   ]
  },
  {
   "cell_type": "markdown",
   "metadata": {
    "slideshow": {
     "slide_type": "slide"
    }
   },
   "source": [
    "#### Expectation values: mean and variance of a distribution"
   ]
  },
  {
   "cell_type": "markdown",
   "metadata": {
    "cell_style": "split",
    "slideshow": {
     "slide_type": "fragment"
    }
   },
   "source": [
    "The mean is the a sum of:\n",
    "- possible values of the random variable $X$\n",
    "- weighted by the probability distribution of $X$ at these values."
   ]
  },
  {
   "cell_type": "markdown",
   "metadata": {
    "cell_style": "split",
    "slideshow": {
     "slide_type": "-"
    }
   },
   "source": [
    "$$ E[X] = \\sum_i X_i P(X_i|\\theta) $$\n",
    "\n",
    "where $\\theta$ is possible parameters of the distribution."
   ]
  },
  {
   "cell_type": "markdown",
   "metadata": {
    "cell_style": "split",
    "slideshow": {
     "slide_type": "fragment"
    }
   },
   "source": [
    "First calculate for a uniform distribution:"
   ]
  },
  {
   "cell_type": "markdown",
   "metadata": {
    "slideshow": {
     "slide_type": "subslide"
    }
   },
   "source": [
    "If we have three possible values for a each equally likely:\n",
    "    \n",
    "$$E[X] = X_1\\cdot\\frac{1}{3} + X_2\\cdot\\frac{1}{3} + X_3\\cdot\\frac{1}{3} $$\n",
    "\n",
    "\n",
    "$$ E[X] = \\frac{X_1 + X_2 + X_3}{3} $$"
   ]
  },
  {
   "cell_type": "markdown",
   "metadata": {
    "cell_style": "center",
    "slideshow": {
     "slide_type": "slide"
    }
   },
   "source": [
    "Let' do this for the Bernoulli distribution:\n",
    "\n",
    "$$ E[X] = 1\\cdot B(X =1 | p) + 0 \\cdot B(X = 0 | p) = p $$\n",
    "\n",
    "as  $ B(X =1 | p) = p $"
   ]
  },
  {
   "cell_type": "markdown",
   "metadata": {
    "slideshow": {
     "slide_type": "fragment"
    }
   },
   "source": [
    "The variance on the other hand is:\n",
    "\n",
    "$$ E[(X - E[X])^2] =  \\sum_i (X_i - E[X])^2 P(X_i|\\theta)$$\n",
    "\n",
    "which for the Bernulli distribution is:\n",
    "\n",
    "$$  (1 - p)^2 B(X = 1| p) + (0 - p)^2 B(X = 0| p) $$"
   ]
  },
  {
   "cell_type": "markdown",
   "metadata": {
    "slideshow": {
     "slide_type": "subslide"
    }
   },
   "source": [
    "implies that:\n",
    "    \n",
    "$$ Var[X] = (1 - p)^2p + (0 - p)^2(1 - p) $$\n",
    "\n",
    "and fully simplified:\n",
    "$$ Var[X] = p(1 - p) $$"
   ]
  },
  {
   "cell_type": "markdown",
   "metadata": {
    "slideshow": {
     "slide_type": "slide"
    }
   },
   "source": [
    "Mean and variance of $X$  for our ad clicking example?"
   ]
  },
  {
   "cell_type": "code",
   "execution_count": 83,
   "metadata": {
    "slideshow": {
     "slide_type": "fragment"
    }
   },
   "outputs": [
    {
     "name": "stdout",
     "output_type": "stream",
     "text": [
      "0.04 0.0384\n"
     ]
    }
   ],
   "source": [
    "# calculate it for me \n",
    "\n",
    "p = 0.04\n",
    "\n",
    "mean = p\n",
    "var = p*(1-p)\n",
    "print(mean, var)"
   ]
  },
  {
   "cell_type": "markdown",
   "metadata": {
    "slideshow": {
     "slide_type": "slide"
    }
   },
   "source": [
    "Scipy also has a useful method for getting mean, variance of the distribution:\n",
    "- .stats(parameters, ...)"
   ]
  },
  {
   "cell_type": "code",
   "execution_count": 84,
   "metadata": {
    "slideshow": {
     "slide_type": "-"
    }
   },
   "outputs": [
    {
     "data": {
      "text/plain": [
       "(array(0.04), array(0.0384))"
      ]
     },
     "execution_count": 84,
     "metadata": {},
     "output_type": "execute_result"
    }
   ],
   "source": [
    "# gives mean and variance in a tuple\n",
    "bernoulli.stats(p = 0.04)"
   ]
  },
  {
   "cell_type": "markdown",
   "metadata": {
    "slideshow": {
     "slide_type": "slide"
    }
   },
   "source": [
    "#### Sampling\n",
    "- More often than not we use the Bernoulli distribution in simulations:\n",
    "    - create a finite size sample modeled from distribution.\n",
    "    "
   ]
  },
  {
   "cell_type": "markdown",
   "metadata": {
    "slideshow": {
     "slide_type": "subslide"
    }
   },
   "source": [
    "Let's random sample this distribution 100 times."
   ]
  },
  {
   "cell_type": "code",
   "execution_count": 87,
   "metadata": {
    "slideshow": {
     "slide_type": "fragment"
    }
   },
   "outputs": [
    {
     "data": {
      "text/plain": [
       "array([0, 0, 0, 0, 0, 0, 0, 0, 0, 0, 0, 0, 0, 0, 0, 0, 0, 0, 0, 0, 0, 0,\n",
       "       0, 0, 1, 0, 0, 0, 0, 0, 0, 0, 0, 0, 0, 0, 0, 0, 0, 0, 0, 0, 0, 0,\n",
       "       0, 0, 0, 0, 0, 0, 0, 0, 0, 0, 0, 0, 0, 0, 0, 0, 0, 0, 0, 0, 0, 0,\n",
       "       0, 0, 0, 0, 0, 0, 0, 0, 0, 0, 0, 0, 0, 0, 0, 0, 0, 0, 0, 0, 0, 1,\n",
       "       0, 0, 0, 0, 0, 0, 0, 0, 0, 0, 0, 0])"
      ]
     },
     "execution_count": 87,
     "metadata": {},
     "output_type": "execute_result"
    }
   ],
   "source": [
    "bernoulli.rvs(p = 0.04, size = 100)"
   ]
  },
  {
   "cell_type": "markdown",
   "metadata": {
    "slideshow": {
     "slide_type": "subslide"
    }
   },
   "source": [
    "A very useful program:"
   ]
  },
  {
   "cell_type": "code",
   "execution_count": 98,
   "metadata": {
    "slideshow": {
     "slide_type": "fragment"
    }
   },
   "outputs": [
    {
     "name": "stdout",
     "output_type": "stream",
     "text": [
      "She loves me.\n",
      "She loves me not.\n",
      "She loves me not.\n",
      "She loves me.\n",
      "She loves me not.\n",
      "She loves me.\n",
      "She loves me.\n",
      "She loves me not.\n",
      "She loves me.\n",
      "She loves me not.\n"
     ]
    }
   ],
   "source": [
    "for x in bernoulli.rvs(p = 0.5, size = 10):\n",
    "    if x == 1:\n",
    "        print('She loves me.')\n",
    "    else:\n",
    "        print('She loves me not.')"
   ]
  },
  {
   "cell_type": "markdown",
   "metadata": {
    "hidden": true,
    "slideshow": {
     "slide_type": "slide"
    }
   },
   "source": [
    "- **Binomial Distribution**\n",
    "    - Generalizes Bernoulli to fixed number of trials.\n",
    "    - Probability of observing some number of successes $k$ for $N$ Bernoulli trials.\n",
    "    "
   ]
  },
  {
   "cell_type": "markdown",
   "metadata": {
    "slideshow": {
     "slide_type": "fragment"
    }
   },
   "source": [
    "- success probability of single Bernoulli trial: $p$\n",
    "- N trials\n",
    "- Probability of k sucesses?\n",
    "\n",
    "$$ Binomial(k | N, p) = \\frac{N!}{(N-k)!k!}p^k(1-p)^{N-k} $$"
   ]
  },
  {
   "cell_type": "markdown",
   "metadata": {
    "slideshow": {
     "slide_type": "subslide"
    }
   },
   "source": [
    "Parsing\n",
    "\n",
    "$$ Binomial(k | N, p) = \\frac{N!}{(N-k)!k!}p^k(1-p)^{N-k} $$"
   ]
  },
  {
   "cell_type": "markdown",
   "metadata": {
    "cell_style": "split",
    "slideshow": {
     "slide_type": "fragment"
    }
   },
   "source": [
    "Since each trial is statistically independent:\n",
    "\n",
    "$$ p^k(1-p)^{N-k} $$\n",
    "\n",
    "Product of individual Bernoulli failure/success probabilities."
   ]
  },
  {
   "cell_type": "markdown",
   "metadata": {
    "cell_style": "split",
    "slideshow": {
     "slide_type": "fragment"
    }
   },
   "source": [
    "Prefactor because need to count numbers of ways to get $k$ successful trials:\n",
    "\n",
    "$$ \\frac{N!}{(N-k)!k!} $$\n",
    "\n",
    "- Order within successful/unsuccessful trials does not matter.\n",
    "\n",
    "e.g. SFFSF is same as SFFSF\n",
    "\n"
   ]
  },
  {
   "cell_type": "markdown",
   "metadata": {
    "slideshow": {
     "slide_type": "slide"
    }
   },
   "source": [
    "#### Example\n",
    "\n",
    "-  Estimate number of successful free throw shots in 8 tries.\n",
    "- For Shaquille O'Neale: Career free throw pct = 52.7%"
   ]
  },
  {
   "cell_type": "markdown",
   "metadata": {
    "slideshow": {
     "slide_type": "fragment"
    }
   },
   "source": [
    "<img src = \"images/shaw.webp\" >\n",
    "<center> Shaq throwin free throw bricks. </center>"
   ]
  },
  {
   "cell_type": "markdown",
   "metadata": {
    "cell_style": "split",
    "slideshow": {
     "slide_type": "subslide"
    }
   },
   "source": [
    "scipy has functionality for binomial:\n",
    "- .binom class"
   ]
  },
  {
   "cell_type": "markdown",
   "metadata": {
    "cell_style": "split",
    "slideshow": {
     "slide_type": "fragment"
    }
   },
   "source": [
    "Define binomial:\n",
    "- distribution parameters:\n",
    "    - N = 8 trials\n",
    "    - Bernoulli success/failure p = .527"
   ]
  },
  {
   "cell_type": "code",
   "execution_count": 99,
   "metadata": {
    "cell_style": "split",
    "slideshow": {
     "slide_type": "fragment"
    }
   },
   "outputs": [],
   "source": [
    "from scipy.stats import binom\n",
    "N = 8\n",
    "p = 0.527\n",
    "\n",
    "pmf_binomial = [(x, binom.pmf(x, n = N, p = p)) \n",
    "                for x in range(9)]"
   ]
  },
  {
   "cell_type": "markdown",
   "metadata": {
    "slideshow": {
     "slide_type": "fragment"
    }
   },
   "source": [
    "Generates probability of $k$ sucesses in 8 trials:  $k$ ranging from 0 to 8."
   ]
  },
  {
   "cell_type": "code",
   "execution_count": 100,
   "metadata": {
    "slideshow": {
     "slide_type": "subslide"
    }
   },
   "outputs": [
    {
     "name": "stdout",
     "output_type": "stream",
     "text": [
      "[(0, 0.002505469532410439), (1, 0.02233204978571333), (2, 0.08708555143709994), (3, 0.1940553302636433), (4, 0.27026204822658584), (5, 0.24089319140027182), (6, 0.1341973698392635), (7, 0.042719428514220385), (8, 0.005949561000791267)]\n"
     ]
    }
   ],
   "source": [
    "print(pmf_binomial)"
   ]
  },
  {
   "cell_type": "markdown",
   "metadata": {
    "slideshow": {
     "slide_type": "slide"
    }
   },
   "source": [
    "Plot the pmf:"
   ]
  },
  {
   "cell_type": "code",
   "execution_count": 101,
   "metadata": {
    "cell_style": "center",
    "slideshow": {
     "slide_type": "fragment"
    }
   },
   "outputs": [],
   "source": [
    "%%capture binom_plot\n",
    "x,y = list(zip(*pmf_binomial))\n",
    "plt.stem(x, y, linefmt='b-', markerfmt='bo', basefmt='r-')\n",
    "plt.title('Binomial PMF: Shaq FTs made out of 8 shots')\n",
    "plt.ylabel('Probability')\n",
    "plt.xlabel('Number of shots made')\n",
    "plt.title\n",
    "plt.show()"
   ]
  },
  {
   "cell_type": "code",
   "execution_count": 102,
   "metadata": {
    "slideshow": {
     "slide_type": "subslide"
    }
   },
   "outputs": [
    {
     "data": {
      "image/png": "[encoded data removed]",
      "text/plain": [
       "<Figure size 432x288 with 1 Axes>"
      ]
     },
     "metadata": {
      "needs_background": "light"
     },
     "output_type": "display_data"
    }
   ],
   "source": [
    "binom_plot()"
   ]
  },
  {
   "cell_type": "markdown",
   "metadata": {
    "slideshow": {
     "slide_type": "slide"
    }
   },
   "source": [
    "#### Let's compute Shaq free throw distribution statistics on 8 shots\n",
    "- based off of knowledge it must follow binomial\n",
    "- career percentage of 52.7%"
   ]
  },
  {
   "cell_type": "code",
   "execution_count": 38,
   "metadata": {
    "cell_style": "center",
    "slideshow": {
     "slide_type": "fragment"
    }
   },
   "outputs": [
    {
     "name": "stdout",
     "output_type": "stream",
     "text": [
      "Average shots made in 8 tries = 4.216\n",
      "Spread on shots made  in 8 tries= 1.994168\n"
     ]
    }
   ],
   "source": [
    "avg_shots_made, shots_made_std = binom.stats(n = 8, p =.527)\n",
    "print('Average shots made in 8 tries = ' + str(avg_shots_made))\n",
    "print('Spread on shots made  in 8 tries= ' + str(shots_made_std))"
   ]
  },
  {
   "cell_type": "markdown",
   "metadata": {
    "cell_style": "split",
    "slideshow": {
     "slide_type": "slide"
    }
   },
   "source": [
    "Note there is a small skew in this distribution:\n",
    "- other statistics: skew and kurtosis\n",
    "- expectation value of third and fourth moments"
   ]
  },
  {
   "cell_type": "code",
   "execution_count": 44,
   "metadata": {
    "cell_style": "split",
    "slideshow": {
     "slide_type": "fragment"
    }
   },
   "outputs": [
    {
     "data": {
      "image/png": "[encoded data removed]",
      "text/plain": [
       "<Figure size 432x288 with 1 Axes>"
      ]
     },
     "metadata": {
      "needs_background": "light"
     },
     "output_type": "display_data"
    }
   ],
   "source": [
    "binom_plot()"
   ]
  },
  {
   "cell_type": "markdown",
   "metadata": {
    "slideshow": {
     "slide_type": "slide"
    }
   },
   "source": [
    "Can access these additional statistics:\n",
    "- 's' stands for skew, 'k' for kurtosis"
   ]
  },
  {
   "cell_type": "code",
   "execution_count": 103,
   "metadata": {
    "slideshow": {
     "slide_type": "fragment"
    }
   },
   "outputs": [
    {
     "data": {
      "text/plain": [
       "(array(4.216), array(1.994168), array(-0.03823956), array(-0.24853774))"
      ]
     },
     "execution_count": 103,
     "metadata": {},
     "output_type": "execute_result"
    }
   ],
   "source": [
    " binom.stats(n = 8, p =.527, moments = 'mvsk' )"
   ]
  },
  {
   "cell_type": "markdown",
   "metadata": {
    "slideshow": {
     "slide_type": "slide"
    }
   },
   "source": [
    "Can sample this binomial distribution:\n",
    "- Get a list of number of successes for each trial (number of shots Shaq made)\n",
    "- 200 trials (e.g. maybe number of games where Shaq shot only 8 free throws)"
   ]
  },
  {
   "cell_type": "markdown",
   "metadata": {
    "slideshow": {
     "slide_type": "slide"
    }
   },
   "source": [
    "Can sample this binomial distribution:"
   ]
  },
  {
   "cell_type": "code",
   "execution_count": 104,
   "metadata": {
    "ExecuteTime": {
     "end_time": "2021-10-08T21:00:02.025541Z",
     "start_time": "2021-10-08T21:00:02.022231Z"
    },
    "slideshow": {
     "slide_type": "fragment"
    }
   },
   "outputs": [
    {
     "name": "stdout",
     "output_type": "stream",
     "text": [
      "Number of shots Shaq made in games where he took 8 free throws: \n",
      " [3 6 5 5 5 6 3 5 5 5 4 5 7 3 4 3 3 5 3 5 3 6 3 2 8 5 6 3 5 6 5 3 5 2 4 3 4\n",
      " 7 6 1 4 7 6 3 5 6 7 4 5 3 2 4 4 4 7 6 5 6 6 0 6 5 6 4 1 6 5 7 5 4 4 4 2 4\n",
      " 6 4 6 3 7 3 5 5 6 2 4 6 5 4 6 4 3 5 5 5 4 4 6 5 6 6 5 6 5 6 4 4 5 3 5 2 6\n",
      " 6 3 1 5 2 7 5 5 3 4 6 6 7 5 4 7 4 2 4 4 3 5 3 7 3 3 3 3 5 5 7 3 3 3 5 3 7\n",
      " 4 5 4 4 5 5 3 7 4 5 4 6 4 6 5 5 6 3 5 6 4 5 4 3 6 3 5 4 2 5 3 3 2 3 3 5 3\n",
      " 3 6 3 6 4 5 5 5 2 4 2 3 5 4 5] \n",
      "\n"
     ]
    }
   ],
   "source": [
    "\n",
    "N = 8  # number of samples for user-site interaction trial\n",
    "p = 0.527  # probability of success\n",
    "size = 200  # number of trials\n",
    "\n",
    "# Create a discrete distribution with the given parameter values\n",
    "binomial = binom.rvs(n = N, p=p, size=size)\n",
    "\n",
    "print(f'Number of shots Shaq made in games where he took 8 free throws: \\n {binomial} \\n')"
   ]
  },
  {
   "cell_type": "markdown",
   "metadata": {
    "slideshow": {
     "slide_type": "slide"
    }
   },
   "source": [
    "#### The Poisson Distribution"
   ]
  },
  {
   "cell_type": "markdown",
   "metadata": {
    "cell_style": "split",
    "slideshow": {
     "slide_type": "fragment"
    }
   },
   "source": [
    "A useful distribution when counting the number of counts in a fixed interval:\n",
    "- and we have knowledge of the mean counts"
   ]
  },
  {
   "cell_type": "markdown",
   "metadata": {
    "cell_style": "split",
    "slideshow": {
     "slide_type": "fragment"
    }
   },
   "source": [
    "Radioactive decay:\n",
    "- Tabulate mean counts / min on Geiger counter from Americum-241:\n",
    "    - $\\lambda$ (a parameter)\n",
    "- Now want distribution of counts per min $n$: \n",
    "    - a random variable"
   ]
  },
  {
   "cell_type": "markdown",
   "metadata": {
    "slideshow": {
     "slide_type": "slide"
    }
   },
   "source": [
    "#### Derivation: let's do it on the board\n",
    "\n",
    "A limiting case of the binomial distribution where $N \\rightarrow \\infty $"
   ]
  },
  {
   "cell_type": "markdown",
   "metadata": {
    "cell_style": "center",
    "slideshow": {
     "slide_type": "fragment"
    }
   },
   "source": [
    "PMF of Poisson counting process:\n",
    "$$ P(n|\\lambda) = \\frac {\\lambda ^{n}e^{-\\lambda }}{n!} $$\n",
    "\n",
    "- $\\lambda$ is observed average rate.\n",
    "- Parameter of distribution: observed from data."
   ]
  },
  {
   "cell_type": "markdown",
   "metadata": {
    "slideshow": {
     "slide_type": "subslide"
    }
   },
   "source": [
    "scipy.stats can really help us model/visualize this.\n",
    "- poisson.pmf(n, lambda)\n",
    "\n",
    "**Take lambda = 3 counts/min**"
   ]
  },
  {
   "cell_type": "code",
   "execution_count": 114,
   "metadata": {
    "cell_style": "split",
    "slideshow": {
     "slide_type": "subslide"
    }
   },
   "outputs": [],
   "source": [
    "from scipy.stats import poisson\n",
    "lambda_rate = 3\n",
    "call_pmf =[(x, poisson.pmf(x,  mu =lambda_rate)) \n",
    "           for x in range(10)]\n",
    "\n",
    "x_amer,y_amer = list(zip(*call_pmf))"
   ]
  },
  {
   "cell_type": "code",
   "execution_count": 116,
   "metadata": {
    "cell_style": "split",
    "slideshow": {
     "slide_type": "fragment"
    }
   },
   "outputs": [
    {
     "data": {
      "image/png": "[encoded data removed]",
      "text/plain": [
       "<Figure size 432x288 with 1 Axes>"
      ]
     },
     "metadata": {
      "needs_background": "light"
     },
     "output_type": "display_data"
    }
   ],
   "source": [
    "plt.stem(x_amer, y_amer, linefmt='b-', markerfmt='bo', basefmt='r-')\n",
    "plt.xlabel('n')\n",
    "plt.ylabel('P(n)')\n",
    "plt.title('PMF (Poisson)')\n",
    "plt.show()"
   ]
  },
  {
   "cell_type": "markdown",
   "metadata": {
    "slideshow": {
     "slide_type": "fragment"
    }
   },
   "source": [
    "This distribution clearly has skew."
   ]
  },
  {
   "cell_type": "markdown",
   "metadata": {
    "slideshow": {
     "slide_type": "slide"
    }
   },
   "source": [
    "Calculate the distribution statistics:"
   ]
  },
  {
   "cell_type": "code",
   "execution_count": 68,
   "metadata": {
    "cell_style": "center",
    "slideshow": {
     "slide_type": "fragment"
    }
   },
   "outputs": [
    {
     "data": {
      "text/plain": [
       "(array(3.), array(3.), array(0.57735027), array(0.33333333))"
      ]
     },
     "execution_count": 68,
     "metadata": {},
     "output_type": "execute_result"
    }
   ],
   "source": [
    "poisson.stats(mu = lambda_rate, moments = 'mvsk')"
   ]
  },
  {
   "cell_type": "markdown",
   "metadata": {
    "slideshow": {
     "slide_type": "fragment"
    }
   },
   "source": [
    "See anything interesting?"
   ]
  },
  {
   "cell_type": "markdown",
   "metadata": {
    "slideshow": {
     "slide_type": "slide"
    }
   },
   "source": [
    "For Poisson:\n",
    "\n",
    "$$ E[n] = \\lambda $$\n",
    "$$ Var[n] = \\lambda $$"
   ]
  },
  {
   "cell_type": "markdown",
   "metadata": {
    "slideshow": {
     "slide_type": "slide"
    }
   },
   "source": [
    "Sometime parameter determined from laws of physics, domain knowledge, etc.:\n",
    "\n",
    "- Mean nuclear decay rate of Iodine-131 is 31.5 decay events/year. Quantum physics."
   ]
  },
  {
   "cell_type": "code",
   "execution_count": 51,
   "metadata": {
    "scrolled": true,
    "slideshow": {
     "slide_type": "subslide"
    }
   },
   "outputs": [
    {
     "data": {
      "image/png": "[encoded data removed]",
      "text/plain": [
       "<Figure size 432x288 with 1 Axes>"
      ]
     },
     "metadata": {
      "needs_background": "light"
     },
     "output_type": "display_data"
    }
   ],
   "source": [
    "nuclear_pmf =[(x, poisson.pmf(x, 31.5)) for x in range(70)]\n",
    "x,y = list(zip(*nuclear_pmf))\n",
    "plt.stem(x, y, linefmt='b-', markerfmt='bo', basefmt='r-')\n",
    "plt.xlabel('n')\n",
    "plt.ylabel('P(n)')\n",
    "plt.title('PMF (Poisson): Calls/min')\n",
    "plt.show()\n"
   ]
  },
  {
   "cell_type": "markdown",
   "metadata": {
    "slideshow": {
     "slide_type": "fragment"
    }
   },
   "source": [
    "Gets more symmetric and bell-shaped as $\\lambda$ gets larger."
   ]
  },
  {
   "cell_type": "markdown",
   "metadata": {
    "slideshow": {
     "slide_type": "slide"
    }
   },
   "source": [
    "Poisson distribution pops up pretty regularly in data science:\n",
    "- Natural language processing with bag-of-words document vectorization \n",
    "- Count distribution in political polling, etc."
   ]
  },
  {
   "cell_type": "markdown",
   "metadata": {
    "slideshow": {
     "slide_type": "slide"
    }
   },
   "source": [
    "#### Common types of distributions: Continuous "
   ]
  },
  {
   "cell_type": "markdown",
   "metadata": {
    "cell_style": "split",
    "slideshow": {
     "slide_type": "subslide"
    }
   },
   "source": [
    "So far dealt with distributions over discrete variables.\n",
    "\n",
    "What about when $X$ a random variable: continuous spectrum of values?"
   ]
  },
  {
   "cell_type": "markdown",
   "metadata": {
    "cell_style": "split",
    "slideshow": {
     "slide_type": "fragment"
    }
   },
   "source": [
    "Enumerating probability of a single value of $X$ is not the correct thing to do. "
   ]
  },
  {
   "cell_type": "markdown",
   "metadata": {
    "cell_style": "split",
    "slideshow": {
     "slide_type": "slide"
    }
   },
   "source": [
    "**Why?**\n",
    "- Let's imagine a continuous line [0,1]\n",
    "- Infinite number of points.\n",
    "- Probability of getting X = 0.5?\n"
   ]
  },
  {
   "cell_type": "markdown",
   "metadata": {
    "cell_style": "split",
    "slideshow": {
     "slide_type": "fragment"
    }
   },
   "source": [
    "$$ P(X = 0.5) = \\frac{1}{\\infty} = 0$$ \n",
    "\n",
    "Probability of getting exactly a point on this interval is 0."
   ]
  },
  {
   "cell_type": "markdown",
   "metadata": {
    "cell_style": "center",
    "slideshow": {
     "slide_type": "slide"
    }
   },
   "source": [
    "But we can define probability in an interval:\n",
    "- probability that $X$ lies in [0.1, 0.25]\n",
    "- given sample space is [0, 1]"
   ]
  },
  {
   "cell_type": "markdown",
   "metadata": {
    "slideshow": {
     "slide_type": "fragment"
    }
   },
   "source": [
    "$$ P(0.1 \\leq X \\leq 0.25) = 0.15$$"
   ]
  },
  {
   "cell_type": "markdown",
   "metadata": {
    "slideshow": {
     "slide_type": "slide"
    }
   },
   "source": [
    "Thus we can define probabilities per given interval:\n",
    "- Have already done this.\n",
    "- Histograms."
   ]
  },
  {
   "cell_type": "code",
   "execution_count": 252,
   "metadata": {
    "slideshow": {
     "slide_type": "fragment"
    }
   },
   "outputs": [
    {
     "data": {
      "image/png": "[encoded data removed]",
      "text/plain": [
       "<Figure size 432x288 with 1 Axes>"
      ]
     },
     "metadata": {
      "needs_background": "light"
     },
     "output_type": "display_data"
    }
   ],
   "source": [
    "import seaborn as sns\n",
    "penguins_df = sns.load_dataset('penguins')\n",
    "sns.histplot(x = 'body_mass_g', data = penguins_df, stat = 'proportion')\n",
    "plt.show()"
   ]
  },
  {
   "cell_type": "markdown",
   "metadata": {
    "heading_collapsed": true,
    "slideshow": {
     "slide_type": "slide"
    }
   },
   "source": [
    "#### PDF: Probability Density Function\n",
    "- As we make bins thinner and thinner."
   ]
  },
  {
   "cell_type": "markdown",
   "metadata": {
    "cell_style": "split",
    "hidden": true,
    "slideshow": {
     "slide_type": "fragment"
    }
   },
   "source": [
    "**Probability density functions (PDF)** similar to PMFs but:\n",
    "\n",
    "- continuous variable\n",
    "- probability of **exactly** having a given value of continuous not defined. \n",
    "- probability of a result within a range of values. \n",
    "\n",
    "![](images/pdf_temp.png)"
   ]
  },
  {
   "cell_type": "markdown",
   "metadata": {
    "cell_style": "split",
    "slideshow": {
     "slide_type": "fragment"
    }
   },
   "source": [
    "- PDFs give us probability density.\n",
    "- Area under PDF in given range yields probability.  \n",
    "\n",
    "<center><img src=\"Images/pdf_proba.gif\" width=\"450\"/></center>"
   ]
  },
  {
   "cell_type": "markdown",
   "metadata": {
    "cell_style": "split",
    "slideshow": {
     "slide_type": "slide"
    }
   },
   "source": [
    "Area under entire curve:\n",
    "\n",
    "- Probability of entire interval of possible values\n",
    "\n",
    "**Must equal 1**"
   ]
  },
  {
   "cell_type": "markdown",
   "metadata": {
    "cell_style": "split",
    "slideshow": {
     "slide_type": "fragment"
    }
   },
   "source": [
    "<center><img src = \"Images/total_area_probunity.png\"></center>"
   ]
  },
  {
   "cell_type": "markdown",
   "metadata": {
    "cell_style": "split",
    "slideshow": {
     "slide_type": "slide"
    }
   },
   "source": [
    "Probability in an interval:"
   ]
  },
  {
   "cell_type": "markdown",
   "metadata": {
    "cell_style": "split",
    "slideshow": {
     "slide_type": "fragment"
    }
   },
   "source": [
    "<center><img src = \"Images/pdf_interval.png\"></center>"
   ]
  },
  {
   "cell_type": "markdown",
   "metadata": {
    "cell_style": "split",
    "hidden": true,
    "slideshow": {
     "slide_type": "slide"
    }
   },
   "source": [
    "- **Continuous Uniform**\n",
    "    - A continuous distribution that takes values within a specified range *a* to *b*, when each value within the range is equally likely.\n"
   ]
  },
  {
   "cell_type": "markdown",
   "metadata": {
    "cell_style": "split",
    "slideshow": {
     "slide_type": "fragment"
    }
   },
   "source": [
    "e.g. position of ball bouncing elastically between two walls"
   ]
  },
  {
   "cell_type": "markdown",
   "metadata": {
    "cell_style": "split",
    "slideshow": {
     "slide_type": "fragment"
    }
   },
   "source": [
    "<img src = \"Images/wallbounce.jpg\" >"
   ]
  },
  {
   "cell_type": "markdown",
   "metadata": {
    "slideshow": {
     "slide_type": "slide"
    }
   },
   "source": [
    "**Spicy stats time!**\n",
    "- uniform defaults to interval [0,1] as sample space"
   ]
  },
  {
   "cell_type": "code",
   "execution_count": 253,
   "metadata": {
    "slideshow": {
     "slide_type": "fragment"
    }
   },
   "outputs": [],
   "source": [
    "from scipy.stats import uniform"
   ]
  },
  {
   "cell_type": "markdown",
   "metadata": {
    "slideshow": {
     "slide_type": "slide"
    }
   },
   "source": [
    "#### PDF: Probability Density Function\n",
    "Instead of PMF:\n",
    "- has .pdf() function to get probability density function"
   ]
  },
  {
   "cell_type": "code",
   "execution_count": 254,
   "metadata": {
    "cell_style": "split",
    "slideshow": {
     "slide_type": "subslide"
    }
   },
   "outputs": [
    {
     "name": "stdout",
     "output_type": "stream",
     "text": [
      "[-1.         -0.93877551 -0.87755102 -0.81632653 -0.75510204 -0.69387755\n",
      " -0.63265306 -0.57142857 -0.51020408 -0.44897959 -0.3877551  -0.32653061\n",
      " -0.26530612 -0.20408163 -0.14285714 -0.08163265 -0.02040816  0.04081633\n",
      "  0.10204082  0.16326531  0.2244898   0.28571429  0.34693878  0.40816327\n",
      "  0.46938776  0.53061224  0.59183673  0.65306122  0.71428571  0.7755102\n",
      "  0.83673469  0.89795918  0.95918367  1.02040816  1.08163265  1.14285714\n",
      "  1.20408163  1.26530612  1.32653061  1.3877551   1.44897959  1.51020408\n",
      "  1.57142857  1.63265306  1.69387755  1.75510204  1.81632653  1.87755102\n",
      "  1.93877551  2.        ]\n"
     ]
    }
   ],
   "source": [
    "# list of X values on interval\n",
    "X = np.linspace(-1,2, 50)\n",
    "print(X)"
   ]
  },
  {
   "cell_type": "markdown",
   "metadata": {
    "cell_style": "split",
    "slideshow": {
     "slide_type": "fragment"
    }
   },
   "source": [
    ".pdf() can take in a numpy array for $X$ and return the pdf evaluated on array:"
   ]
  },
  {
   "cell_type": "code",
   "execution_count": 255,
   "metadata": {
    "cell_style": "split",
    "slideshow": {
     "slide_type": "-"
    }
   },
   "outputs": [
    {
     "data": {
      "text/plain": [
       "array([0., 0., 0., 0., 0., 0., 0., 0., 0., 0., 0., 0., 0., 0., 0., 0., 0.,\n",
       "       1., 1., 1., 1., 1., 1., 1., 1., 1., 1., 1., 1., 1., 1., 1., 1., 0.,\n",
       "       0., 0., 0., 0., 0., 0., 0., 0., 0., 0., 0., 0., 0., 0., 0., 0.])"
      ]
     },
     "execution_count": 255,
     "metadata": {},
     "output_type": "execute_result"
    }
   ],
   "source": [
    "# remember uniform distribution over [0,1]\n",
    "unif_pdf = uniform.pdf(X)\n",
    "unif_pdf"
   ]
  },
  {
   "cell_type": "markdown",
   "metadata": {
    "slideshow": {
     "slide_type": "slide"
    }
   },
   "source": [
    "#### Visualization of uniform distribution"
   ]
  },
  {
   "cell_type": "code",
   "execution_count": 147,
   "metadata": {
    "cell_style": "split",
    "slideshow": {
     "slide_type": "fragment"
    }
   },
   "outputs": [
    {
     "data": {
      "image/png": "[encoded data removed]",
      "text/plain": [
       "<Figure size 432x288 with 1 Axes>"
      ]
     },
     "metadata": {
      "needs_background": "light"
     },
     "output_type": "display_data"
    }
   ],
   "source": [
    "fig,ax = plt.subplots()\n",
    "ax.plot(X, unif_pdf)\n",
    "ax.set_title('PDF of uniform distribution')\n",
    "ax.set_xlabel('X')\n",
    "ax.set_ylabel('pdf')\n",
    "plt.show()"
   ]
  },
  {
   "cell_type": "markdown",
   "metadata": {
    "cell_style": "split",
    "slideshow": {
     "slide_type": "fragment"
    }
   },
   "source": [
    "What is area under this curve?"
   ]
  },
  {
   "cell_type": "markdown",
   "metadata": {
    "cell_style": "center",
    "slideshow": {
     "slide_type": "slide"
    }
   },
   "source": [
    "Uniform .pdf() has location and scale argument:\n",
    "- loc = ___ is start of interval\n",
    "- scale = ___ is range of sample space\n",
    "- uniform probability density over [loc, loc + scale]"
   ]
  },
  {
   "cell_type": "markdown",
   "metadata": {
    "slideshow": {
     "slide_type": "slide"
    }
   },
   "source": [
    "Bouncing ball:\n",
    "$ X = \\pm 5$\n",
    "\n",
    "Get pdf"
   ]
  },
  {
   "cell_type": "code",
   "execution_count": 261,
   "metadata": {
    "cell_style": "split",
    "slideshow": {
     "slide_type": "fragment"
    }
   },
   "outputs": [],
   "source": [
    "X_b = np.linspace(-6,6, 1000)\n",
    "\n",
    "# sample space is [-5,5]\n",
    "bouncing_pdf = uniform.pdf(X_b, loc = -5,\n",
    "                         scale = 10)"
   ]
  },
  {
   "cell_type": "code",
   "execution_count": 262,
   "metadata": {
    "cell_style": "split",
    "slideshow": {
     "slide_type": "fragment"
    }
   },
   "outputs": [
    {
     "data": {
      "image/png": "[encoded data removed]",
      "text/plain": [
       "<Figure size 432x288 with 1 Axes>"
      ]
     },
     "metadata": {
      "needs_background": "light"
     },
     "output_type": "display_data"
    }
   ],
   "source": [
    "fig,ax = plt.subplots()\n",
    "ax.plot(X_b, bouncing_pdf)\n",
    "ax.set_title('PDF of uniform distribution')\n",
    "ax.set_xlabel('X')\n",
    "ax.set_ylabel('pdf')\n",
    "plt.show()"
   ]
  },
  {
   "cell_type": "markdown",
   "metadata": {
    "slideshow": {
     "slide_type": "slide"
    }
   },
   "source": [
    "- **Normal (Gaussian)**\n",
    "    - The bell curve. Governs many continuous variables.\n",
    "    - Particularly: variables made up of many random subfactors.\n",
    "    - heights in a population."
   ]
  },
  {
   "cell_type": "markdown",
   "metadata": {
    "heading_collapsed": true,
    "hidden": true,
    "slideshow": {
     "slide_type": "slide"
    }
   },
   "source": [
    "#### Sampling and the PDF with the normal distribution"
   ]
  },
  {
   "cell_type": "markdown",
   "metadata": {
    "cell_style": "split",
    "slideshow": {
     "slide_type": "subslide"
    }
   },
   "source": [
    "Mathematical form for pdf:\n",
    "$$ N(x | \\mu, \\sigma^2) = \\frac{1}{\\sqrt{2\\pi\\sigma^2}} e^{-\\frac{(x-\\mu)^2}{2\\sigma^2}} $$\n",
    "\n",
    "- $\\mu$ is mean.\n",
    "- $\\sigma$ is standard deviation."
   ]
  },
  {
   "cell_type": "markdown",
   "metadata": {
    "cell_style": "split",
    "slideshow": {
     "slide_type": "fragment"
    }
   },
   "source": [
    "- $\\mu$ governs position of mean of distribution\n",
    "- $\\sigma$ governs width of distribution"
   ]
  },
  {
   "cell_type": "markdown",
   "metadata": {
    "cell_style": "center",
    "slideshow": {
     "slide_type": "slide"
    }
   },
   "source": [
    "With scipy.stats:\n",
    "\n",
    "- norm.pdf(loc = mean, scale = std)\n",
    "- by default loc = 0 and scale = 1\n",
    "\n",
    "**The standard normal distribution**"
   ]
  },
  {
   "cell_type": "code",
   "execution_count": 263,
   "metadata": {
    "cell_style": "split",
    "slideshow": {
     "slide_type": "fragment"
    }
   },
   "outputs": [],
   "source": [
    "from scipy.stats import norm\n",
    "x = np.linspace(-4,4, 100)\n",
    "pdf_norm = norm.pdf(x)"
   ]
  },
  {
   "cell_type": "code",
   "execution_count": 264,
   "metadata": {
    "cell_style": "split",
    "slideshow": {
     "slide_type": "fragment"
    }
   },
   "outputs": [
    {
     "data": {
      "image/png": "[encoded data removed]",
      "text/plain": [
       "<Figure size 432x288 with 1 Axes>"
      ]
     },
     "metadata": {
      "needs_background": "light"
     },
     "output_type": "display_data"
    }
   ],
   "source": [
    "plt.plot(x, pdf_norm)\n",
    "plt.show()"
   ]
  },
  {
   "cell_type": "markdown",
   "metadata": {
    "slideshow": {
     "slide_type": "slide"
    }
   },
   "source": [
    "Screwing around with the distribution parameters:"
   ]
  },
  {
   "cell_type": "code",
   "execution_count": 265,
   "metadata": {
    "cell_style": "center",
    "slideshow": {
     "slide_type": "fragment"
    }
   },
   "outputs": [],
   "source": [
    "# Moving mean around\n",
    "mu_list = [-2,0,2]\n",
    "sigma = 1\n",
    "\n",
    "x = np.linspace(-7,7)\n",
    "y_list = [norm.pdf(x, loc = mu, scale = sigma)\n",
    "          for mu in mu_list]"
   ]
  },
  {
   "cell_type": "code",
   "execution_count": 266,
   "metadata": {
    "cell_style": "center",
    "slideshow": {
     "slide_type": "subslide"
    }
   },
   "outputs": [
    {
     "data": {
      "image/png": "[encoded data removed]",
      "text/plain": [
       "<Figure size 432x288 with 1 Axes>"
      ]
     },
     "metadata": {
      "needs_background": "light"
     },
     "output_type": "display_data"
    }
   ],
   "source": [
    "fig,ax = plt.subplots()\n",
    "[ax.plot(x,y) for y in y_list]\n",
    "plt.show()"
   ]
  },
  {
   "cell_type": "code",
   "execution_count": 267,
   "metadata": {
    "cell_style": "center",
    "slideshow": {
     "slide_type": "subslide"
    }
   },
   "outputs": [],
   "source": [
    "# mess with std/variance\n",
    "mu = 0\n",
    "sigma_list = [1,2,4]\n",
    "\n",
    "x = np.linspace(-8,8)\n",
    "y_list = [norm.pdf(x, loc = mu, scale = sigma)\n",
    "          for sigma in sigma_list]"
   ]
  },
  {
   "cell_type": "code",
   "execution_count": 268,
   "metadata": {
    "cell_style": "center",
    "slideshow": {
     "slide_type": "fragment"
    }
   },
   "outputs": [
    {
     "data": {
      "image/png": "[encoded data removed]",
      "text/plain": [
       "<Figure size 432x288 with 1 Axes>"
      ]
     },
     "metadata": {
      "needs_background": "light"
     },
     "output_type": "display_data"
    }
   ],
   "source": [
    "fig,ax = plt.subplots()\n",
    "[ax.plot(x,y) for y in y_list]\n",
    "plt.show()"
   ]
  },
  {
   "cell_type": "markdown",
   "metadata": {
    "hidden": true,
    "slideshow": {
     "slide_type": "subslide"
    }
   },
   "source": [
    "The variance/std describes how closely the points gathered around the mean.  \n",
    "- Low variance means tight and skinny, high variance short and wide."
   ]
  },
  {
   "cell_type": "markdown",
   "metadata": {
    "slideshow": {
     "slide_type": "slide"
    }
   },
   "source": [
    "The statistics of the standard normal:"
   ]
  },
  {
   "cell_type": "code",
   "execution_count": 165,
   "metadata": {
    "slideshow": {
     "slide_type": "-"
    }
   },
   "outputs": [
    {
     "data": {
      "text/plain": [
       "(array(0.), array(1.), array(0.), array(0.))"
      ]
     },
     "execution_count": 165,
     "metadata": {},
     "output_type": "execute_result"
    }
   ],
   "source": [
    "norm.stats(moments = 'mvsk')"
   ]
  },
  {
   "cell_type": "markdown",
   "metadata": {
    "slideshow": {
     "slide_type": "slide"
    }
   },
   "source": [
    "For non-standard normal:"
   ]
  },
  {
   "cell_type": "code",
   "execution_count": 269,
   "metadata": {
    "slideshow": {
     "slide_type": "-"
    }
   },
   "outputs": [
    {
     "data": {
      "text/plain": [
       "(array(2.), array(2.25), array(0.), array(0.))"
      ]
     },
     "execution_count": 269,
     "metadata": {},
     "output_type": "execute_result"
    }
   ],
   "source": [
    "norm.stats(loc = 2, scale = 1.5, moments = 'mvsk')"
   ]
  },
  {
   "cell_type": "markdown",
   "metadata": {
    "slideshow": {
     "slide_type": "fragment"
    }
   },
   "source": [
    "Skew, kurtosis, and in fact all higher order moments of pdf vanish."
   ]
  },
  {
   "cell_type": "markdown",
   "metadata": {
    "slideshow": {
     "slide_type": "slide"
    }
   },
   "source": [
    "#### Sampling from normal distribution\n",
    "\n",
    "- rvs method:"
   ]
  },
  {
   "cell_type": "code",
   "execution_count": 270,
   "metadata": {
    "scrolled": true,
    "slideshow": {
     "slide_type": "subslide"
    }
   },
   "outputs": [
    {
     "data": {
      "text/plain": [
       "array([-0.71073392, -0.04918576,  0.26535368, -0.76099637, -1.02989957,\n",
       "        1.03055338,  0.63046564, -2.35970198,  0.55465989, -0.39908208,\n",
       "        0.65963426, -0.82947959, -0.13832619,  0.42548216, -0.19060692,\n",
       "        0.22869366,  2.35684429,  0.0605071 ,  0.29659586, -0.69307433,\n",
       "        0.30932476,  1.41034373,  0.34432283, -0.06388672, -0.06766334,\n",
       "       -0.71076685, -0.75239247,  0.39506407,  0.01521912, -0.67136054,\n",
       "       -1.09638934,  1.57590473, -1.25732286, -1.06449011,  0.74463202,\n",
       "       -1.29432239,  1.16729248,  1.88948689,  0.32670978,  1.08761453,\n",
       "       -1.25832452,  1.97374077, -1.32566258, -0.72407996, -2.10727529,\n",
       "       -0.41437657,  0.89178432,  0.797911  , -0.05080552,  1.91718849,\n",
       "       -0.00316192, -0.66402934, -0.40031772, -0.52600607, -0.65882566,\n",
       "        0.55460916, -0.21482102, -0.71653505,  1.41617088,  0.89990566,\n",
       "        0.72314508, -0.74708856, -1.8109533 , -0.33442385, -0.01506529,\n",
       "        0.25659798, -0.08964799, -0.41541586, -0.08418407,  0.1615861 ,\n",
       "        1.75808555, -0.75443259,  1.10851158,  0.82677018, -1.37667883,\n",
       "       -0.58195002,  0.63186938, -1.41487807, -0.08471757, -0.64912921,\n",
       "        1.53956203,  0.59854444,  0.4224692 ,  0.52051761, -0.21533878,\n",
       "        1.31838123,  0.76984854,  1.96395434,  1.45149229, -1.47478939,\n",
       "        0.83070355, -0.44130855, -0.89384997,  0.89204056, -0.98704553,\n",
       "       -0.35522695, -1.40578632,  0.37649107, -1.56700912, -0.96778818])"
      ]
     },
     "execution_count": 270,
     "metadata": {},
     "output_type": "execute_result"
    }
   ],
   "source": [
    "# 20 random samples from normal with mean 0 and std 1.\n",
    "norm_sample = norm.rvs(loc = 0, scale = 1, size = 100)\n",
    "norm_sample"
   ]
  },
  {
   "cell_type": "markdown",
   "metadata": {
    "slideshow": {
     "slide_type": "subslide"
    }
   },
   "source": [
    "Looking at a histogram of sample:"
   ]
  },
  {
   "cell_type": "code",
   "execution_count": 271,
   "metadata": {
    "scrolled": true,
    "slideshow": {
     "slide_type": "fragment"
    }
   },
   "outputs": [
    {
     "data": {
      "image/png": "[encoded data removed]",
      "text/plain": [
       "<Figure size 432x288 with 1 Axes>"
      ]
     },
     "metadata": {
      "needs_background": "light"
     },
     "output_type": "display_data"
    }
   ],
   "source": [
    "plt.hist(norm_sample)\n",
    "plt.title('Histogram of normal distribution sample')\n",
    "plt.xlabel('X')\n",
    "plt.ylabel('Count')\n",
    "plt.show()"
   ]
  },
  {
   "cell_type": "markdown",
   "metadata": {
    "cell_style": "split",
    "slideshow": {
     "slide_type": "subslide"
    }
   },
   "source": [
    "- **Exponential**\n",
    "    - Uses to model the time elapsed between events.\n",
    "    - e.g. amount of time a postal clerk spends with a customer"
   ]
  },
  {
   "cell_type": "markdown",
   "metadata": {
    "cell_style": "split",
    "slideshow": {
     "slide_type": "-"
    }
   },
   "source": [
    "- Parameter is $\\tau$: \n",
    "    - mean time between events or wait time"
   ]
  },
  {
   "cell_type": "markdown",
   "metadata": {
    "slideshow": {
     "slide_type": "fragment"
    }
   },
   "source": [
    "Mathematically:\n",
    "    \n",
    "$$ P(t | \\tau) = e^{-t/\\tau} $$\n",
    "\n",
    "Probability of time between one event and the next."
   ]
  },
  {
   "cell_type": "markdown",
   "metadata": {
    "slideshow": {
     "slide_type": "slide"
    }
   },
   "source": [
    "Given a bus arrived:\n",
    "- pdf for time for next bus arriving"
   ]
  },
  {
   "cell_type": "markdown",
   "metadata": {
    "slideshow": {
     "slide_type": "subslide"
    }
   },
   "source": [
    "Scipy version:\n",
    "\n",
    "- expon.pdf has arguments loc and scale.\n",
    "- typically just set scale as average wait time $\\tau$."
   ]
  },
  {
   "cell_type": "code",
   "execution_count": 272,
   "metadata": {
    "cell_style": "split",
    "slideshow": {
     "slide_type": "fragment"
    }
   },
   "outputs": [],
   "source": [
    "from scipy.stats import expon\n",
    "\n",
    "tau = 3\n",
    "# loc defaults to zero\n",
    "t = np.linspace(0, 10, 1000)\n",
    "wait_time_pdf = expon.pdf(t, scale = tau)"
   ]
  },
  {
   "cell_type": "code",
   "execution_count": 273,
   "metadata": {
    "cell_style": "split",
    "slideshow": {
     "slide_type": "fragment"
    }
   },
   "outputs": [
    {
     "data": {
      "image/png": "[encoded data removed]",
      "text/plain": [
       "<Figure size 432x288 with 1 Axes>"
      ]
     },
     "metadata": {
      "needs_background": "light"
     },
     "output_type": "display_data"
    }
   ],
   "source": [
    "plt.plot(t, wait_time_pdf)\n",
    "plt.show()"
   ]
  },
  {
   "cell_type": "markdown",
   "metadata": {
    "slideshow": {
     "slide_type": "slide"
    }
   },
   "source": [
    "#### Standard command for getting statistics"
   ]
  },
  {
   "cell_type": "code",
   "execution_count": 186,
   "metadata": {
    "slideshow": {
     "slide_type": "-"
    }
   },
   "outputs": [
    {
     "name": "stdout",
     "output_type": "stream",
     "text": [
      "3.0 9.0\n"
     ]
    }
   ],
   "source": [
    "mean, variance = expon.stats(scale = tau)\n",
    "print(mean, variance)"
   ]
  },
  {
   "cell_type": "markdown",
   "metadata": {
    "cell_style": "center",
    "heading_collapsed": true,
    "slideshow": {
     "slide_type": "slide"
    }
   },
   "source": [
    "#### CDF: Cumulative Distribution Function\n",
    "Probability random variable <= a certain value. "
   ]
  },
  {
   "cell_type": "markdown",
   "metadata": {
    "cell_style": "split",
    "slideshow": {
     "slide_type": "fragment"
    }
   },
   "source": [
    "\n",
    "Mathematically, CDF is:\n",
    "\n",
    "$$F(x) = P(X\\leq x)$$"
   ]
  },
  {
   "cell_type": "markdown",
   "metadata": {
    "cell_style": "split",
    "slideshow": {
     "slide_type": "slide"
    }
   },
   "source": [
    "CDF exists for all probability distributions (discrete/continuous):\n",
    "\n",
    "\n",
    "**Applies to both continuous pds and discrete pmfs**\n",
    "\n"
   ]
  },
  {
   "cell_type": "markdown",
   "metadata": {
    "cell_style": "split",
    "slideshow": {
     "slide_type": "fragment"
    }
   },
   "source": [
    "Mathematically, CDF is:\n",
    "\n",
    "$$F(x) = P(X\\leq x)$$"
   ]
  },
  {
   "cell_type": "markdown",
   "metadata": {
    "cell_style": "split",
    "slideshow": {
     "slide_type": "slide"
    }
   },
   "source": [
    "Why use the CDF?\n",
    "- Continuous variables:\n",
    "- Actually reports probability\n",
    "- Simple arithmetic operations to calculate probability of given range."
   ]
  },
  {
   "cell_type": "markdown",
   "metadata": {
    "cell_style": "split",
    "slideshow": {
     "slide_type": "fragment"
    }
   },
   "source": [
    "Implicitly used in most hypothesis tests:\n",
    "- Calculate probability of a measured value or values more extreme\n",
    "- CDF yields whether measured value is likely under a given distribution."
   ]
  },
  {
   "cell_type": "markdown",
   "metadata": {
    "cell_style": "split",
    "slideshow": {
     "slide_type": "slide"
    }
   },
   "source": [
    "####  Discrete case:\n",
    "\n",
    "An ad-clicking example: \n",
    "\n",
    "- Use CDF to calculate probability of having <= 2 clicks in 50 random samples.\n",
    "- where $p = 0.1$ for a click.\n",
    "\n",
    "$$P(x \\leq 2)$$"
   ]
  },
  {
   "cell_type": "markdown",
   "metadata": {
    "cell_style": "split",
    "slideshow": {
     "slide_type": "fragment"
    }
   },
   "source": [
    "#### CDF in scipy.stats\n",
    "\n",
    "- scipy.stats.binom.cdf()\n",
    "\n",
    "- Generally, scipy.stats.distribution.cdf(arguments)\n"
   ]
  },
  {
   "cell_type": "code",
   "execution_count": 274,
   "metadata": {
    "ExecuteTime": {
     "end_time": "2021-10-08T21:00:07.840276Z",
     "start_time": "2021-10-08T21:00:07.836086Z"
    },
    "slideshow": {
     "slide_type": "slide"
    }
   },
   "outputs": [
    {
     "data": {
      "text/plain": [
       "0.1117287563463473"
      ]
     },
     "execution_count": 274,
     "metadata": {},
     "output_type": "execute_result"
    }
   ],
   "source": [
    "# Create the random discrete value for the number of success\n",
    "\n",
    "n = 50\n",
    "p = 0.1\n",
    "\n",
    "# Calculate the probability for x equal or less than 2\n",
    "binom.cdf(2, n = n , p = p)"
   ]
  },
  {
   "cell_type": "markdown",
   "metadata": {
    "slideshow": {
     "slide_type": "slide"
    }
   },
   "source": [
    "Visualize pmf and cdf side by side"
   ]
  },
  {
   "cell_type": "code",
   "execution_count": 277,
   "metadata": {
    "cell_style": "split",
    "slideshow": {
     "slide_type": "fragment"
    }
   },
   "outputs": [
    {
     "data": {
      "image/png": "[encoded data removed]",
      "text/plain": [
       "<Figure size 432x288 with 1 Axes>"
      ]
     },
     "metadata": {
      "needs_background": "light"
     },
     "output_type": "display_data"
    }
   ],
   "source": [
    "x = np.arange(0,15,1)\n",
    "y = binom.pmf(x, n = n , p = p)\n",
    "plt.stem(x, y, linefmt='b-', markerfmt='bo', basefmt='r-')\n",
    "plt.xlabel('Number of clicks')\n",
    "plt.ylabel('Probability')\n",
    "plt.title('PMF (Binomial): Clicks for 50 samples')\n",
    "plt.show()"
   ]
  },
  {
   "cell_type": "code",
   "execution_count": 278,
   "metadata": {
    "cell_style": "split",
    "slideshow": {
     "slide_type": "fragment"
    }
   },
   "outputs": [
    {
     "data": {
      "image/png": "[encoded data removed]",
      "text/plain": [
       "<Figure size 432x288 with 1 Axes>"
      ]
     },
     "metadata": {
      "needs_background": "light"
     },
     "output_type": "display_data"
    }
   ],
   "source": [
    "cdf_y = binom.cdf(k = x, n=n, p=p)\n",
    "plt.plot(x, cdf_y, c = 'b', linestyle = '--')\n",
    "plt.xlabel('Number of clicks')\n",
    "plt.ylabel('P($X \\leq x$)')\n",
    "plt.title('CDF of binomial: Ad click rate')\n",
    "plt.show()"
   ]
  },
  {
   "cell_type": "markdown",
   "metadata": {
    "cell_style": "center",
    "slideshow": {
     "slide_type": "subslide"
    }
   },
   "source": [
    "- What is the probability of getting less than or equal to 8 clicks?"
   ]
  },
  {
   "cell_type": "code",
   "execution_count": 286,
   "metadata": {
    "slideshow": {
     "slide_type": "fragment"
    }
   },
   "outputs": [
    {
     "data": {
      "text/plain": [
       "0.9421327942819058"
      ]
     },
     "execution_count": 286,
     "metadata": {},
     "output_type": "execute_result"
    }
   ],
   "source": [
    "binom.cdf(8, n = n, p = p)"
   ]
  },
  {
   "cell_type": "markdown",
   "metadata": {},
   "source": [
    "$$ P (X > 8) $$"
   ]
  },
  {
   "cell_type": "code",
   "execution_count": 284,
   "metadata": {},
   "outputs": [
    {
     "data": {
      "text/plain": [
       "0.057867205718094256"
      ]
     },
     "execution_count": 284,
     "metadata": {},
     "output_type": "execute_result"
    }
   ],
   "source": [
    "binom.sf(8, n = n, p = p)"
   ]
  },
  {
   "cell_type": "markdown",
   "metadata": {
    "slideshow": {
     "slide_type": "fragment"
    }
   },
   "source": [
    "- Probability of getting less than infinity?\n",
    "(this is all possible values)"
   ]
  },
  {
   "cell_type": "code",
   "execution_count": 280,
   "metadata": {
    "slideshow": {
     "slide_type": "fragment"
    }
   },
   "outputs": [
    {
     "data": {
      "text/plain": [
       "1.0"
      ]
     },
     "execution_count": 280,
     "metadata": {},
     "output_type": "execute_result"
    }
   ],
   "source": [
    "binom.cdf(np.inf, n = n, p = p)"
   ]
  },
  {
   "cell_type": "code",
   "execution_count": 227,
   "metadata": {
    "cell_style": "split",
    "slideshow": {
     "slide_type": "slide"
    }
   },
   "outputs": [
    {
     "data": {
      "image/png": "[encoded data removed]",
      "text/plain": [
       "<Figure size 432x288 with 1 Axes>"
      ]
     },
     "metadata": {
      "needs_background": "light"
     },
     "output_type": "display_data"
    }
   ],
   "source": [
    "cdf_y = binom.cdf(k = x, n=n, p=p)\n",
    "plt.plot(x, cdf_y, c = 'b', linestyle = '--')\n",
    "plt.xlabel('Number of clicks')\n",
    "plt.ylabel('Probability')\n",
    "plt.title('CDF of binomial: Ad click rate')\n",
    "plt.axvline(2, c = 'r', linestyle = '--')\n",
    "plt.axvline(4, c = 'r', linestyle = '--')\n",
    "plt.show()"
   ]
  },
  {
   "cell_type": "markdown",
   "metadata": {
    "cell_style": "split",
    "slideshow": {
     "slide_type": "slide"
    }
   },
   "source": [
    "What is probability of getting between 2 and 4?\n",
    "- $ P(x <= 4) - P(x<=2)$"
   ]
  },
  {
   "cell_type": "code",
   "execution_count": 228,
   "metadata": {
    "cell_style": "split",
    "slideshow": {
     "slide_type": "fragment"
    }
   },
   "outputs": [
    {
     "data": {
      "text/plain": [
       "0.31946965048271503"
      ]
     },
     "execution_count": 228,
     "metadata": {},
     "output_type": "execute_result"
    }
   ],
   "source": [
    "Pless4 = binom.cdf(k = 4, n=n, p=p)  \n",
    "Pless2 = binom.cdf(k = 2, n=n, p=p)\n",
    "\n",
    "Pless4 - Pless2"
   ]
  },
  {
   "cell_type": "markdown",
   "metadata": {
    "slideshow": {
     "slide_type": "slide"
    }
   },
   "source": [
    "What is the probability that we have greater than 4 clicks?\n",
    "$$ P(x <= \\infty) - P(x<=4)$$"
   ]
  },
  {
   "cell_type": "markdown",
   "metadata": {
    "slideshow": {
     "slide_type": "fragment"
    }
   },
   "source": [
    "$$ 1 - P(x<=4) $$"
   ]
  },
  {
   "cell_type": "markdown",
   "metadata": {
    "slideshow": {
     "slide_type": "slide"
    }
   },
   "source": [
    "In python:"
   ]
  },
  {
   "cell_type": "code",
   "execution_count": 229,
   "metadata": {
    "cell_style": "split",
    "slideshow": {
     "slide_type": "fragment"
    }
   },
   "outputs": [
    {
     "data": {
      "text/plain": [
       "0.5688015931709377"
      ]
     },
     "execution_count": 229,
     "metadata": {},
     "output_type": "execute_result"
    }
   ],
   "source": [
    "1 - binom.cdf(4, n, p)"
   ]
  },
  {
   "cell_type": "markdown",
   "metadata": {
    "cell_style": "split",
    "slideshow": {
     "slide_type": "fragment"
    }
   },
   "source": [
    "Equivalently, though faster:\n",
    "- $P(X >x)$ as survival function: distribution.sf()"
   ]
  },
  {
   "cell_type": "code",
   "execution_count": 230,
   "metadata": {
    "cell_style": "split",
    "scrolled": true,
    "slideshow": {
     "slide_type": "fragment"
    }
   },
   "outputs": [
    {
     "data": {
      "text/plain": [
       "0.5688015931709377"
      ]
     },
     "execution_count": 230,
     "metadata": {},
     "output_type": "execute_result"
    }
   ],
   "source": [
    "binom.sf(4, n , p)"
   ]
  },
  {
   "cell_type": "markdown",
   "metadata": {
    "slideshow": {
     "slide_type": "fragment"
    }
   },
   "source": [
    "5\\% chance of getting greater than 4 clicks in 50 randomized user-site interactions."
   ]
  },
  {
   "cell_type": "markdown",
   "metadata": {
    "slideshow": {
     "slide_type": "slide"
    }
   },
   "source": [
    "Generally:\n",
    "$$ P(X > x) = 1 - P(X <= x) $$\n",
    "\n",
    "<center>1 - distribution.cdf(x, parameters) </center>"
   ]
  },
  {
   "cell_type": "markdown",
   "metadata": {
    "cell_style": "split",
    "slideshow": {
     "slide_type": "slide"
    }
   },
   "source": [
    "#### Continuous Distribution\n",
    "- CDF of the normal distribution\n",
    "\n",
    "Example case: distribution of heights. \n",
    "\n",
    "We observe the mean is 5.5 ft with a standard deviation of 0.5 ft.\n",
    "\n",
    "Model with normal distribution."
   ]
  },
  {
   "cell_type": "code",
   "execution_count": 287,
   "metadata": {
    "cell_style": "split",
    "slideshow": {
     "slide_type": "fragment"
    }
   },
   "outputs": [
    {
     "data": {
      "image/png": "[encoded data removed]",
      "text/plain": [
       "<Figure size 432x288 with 1 Axes>"
      ]
     },
     "metadata": {
      "needs_background": "light"
     },
     "output_type": "display_data"
    }
   ],
   "source": [
    "mu = 5.5 # mean\n",
    "sigma = 0.5 # standard deviation\n",
    "\n",
    "x = np.linspace(2,9)\n",
    "y_norm = norm.pdf(x, loc = mu, scale = sigma)\n",
    "plt.plot(x, y_norm)\n",
    "plt.xlabel('Height (ft.)')\n",
    "plt.ylabel('PDF')\n",
    "plt.title('PDF:  Normally distributed Heights')\n",
    "plt.show()\n"
   ]
  },
  {
   "cell_type": "markdown",
   "metadata": {
    "cell_style": "center",
    "slideshow": {
     "slide_type": "slide"
    }
   },
   "source": [
    "Probability that height <= 4.7:"
   ]
  },
  {
   "cell_type": "code",
   "execution_count": 246,
   "metadata": {
    "cell_style": "split",
    "scrolled": true,
    "slideshow": {
     "slide_type": "subslide"
    }
   },
   "outputs": [
    {
     "data": {
      "image/png": "[encoded data removed]",
      "text/plain": [
       "<Figure size 432x288 with 1 Axes>"
      ]
     },
     "metadata": {
      "needs_background": "light"
     },
     "output_type": "display_data"
    }
   ],
   "source": [
    "mu = 5.5 # mean\n",
    "sigma = 0.5 # standard deviation\n",
    "\n",
    "x = np.linspace(2,9, num = 100)\n",
    "y_norm = norm.pdf(x, loc = mu, scale = sigma)\n",
    "plt.plot(x, y_norm)\n",
    "plt.fill_between(x,y_norm, where = (x <= 4.7), color='r')\n",
    "plt.axvline(x = 4.7, c = 'r', linestyle = '--')\n",
    "plt.xlabel('Height (ft.)')\n",
    "plt.ylabel('PDF')\n",
    "plt.title('PDF:  Normally distributed Heights')\n",
    "plt.show()"
   ]
  },
  {
   "cell_type": "code",
   "execution_count": 247,
   "metadata": {
    "cell_style": "split",
    "slideshow": {
     "slide_type": "fragment"
    }
   },
   "outputs": [
    {
     "data": {
      "image/png": "[encoded data removed]",
      "text/plain": [
       "<Figure size 432x288 with 1 Axes>"
      ]
     },
     "metadata": {
      "needs_background": "light"
     },
     "output_type": "display_data"
    }
   ],
   "source": [
    "mu = 5.5 # mean\n",
    "sigma = 0.5 # standard deviation\n",
    "\n",
    "x = np.linspace(2,9, num = 100)\n",
    "y_norm_cdf = norm.cdf(x, loc = mu, scale = sigma)\n",
    "plt.plot(x, y_norm_cdf)\n",
    "plt.axvline(x = 4.7, c = 'r', linestyle = '--')\n",
    "plt.xlabel('Height (ft.)')\n",
    "plt.ylabel('CDF')\n",
    "plt.title('CDF:  Normally distributed Heights')\n",
    "plt.show()"
   ]
  },
  {
   "cell_type": "markdown",
   "metadata": {
    "slideshow": {
     "slide_type": "slide"
    }
   },
   "source": [
    "#### Continuous variables\n",
    "\n",
    "- Value of cdf at x = 4.7\n",
    "- area under pdf at x <= 4.7"
   ]
  },
  {
   "cell_type": "code",
   "execution_count": 288,
   "metadata": {
    "cell_style": "center",
    "slideshow": {
     "slide_type": "-"
    }
   },
   "outputs": [
    {
     "data": {
      "text/plain": [
       "0.05479929169955804"
      ]
     },
     "execution_count": 288,
     "metadata": {},
     "output_type": "execute_result"
    }
   ],
   "source": [
    "norm.cdf(4.7, loc = mu, scale = 0.5 )"
   ]
  },
  {
   "cell_type": "markdown",
   "metadata": {
    "slideshow": {
     "slide_type": "slide"
    }
   },
   "source": [
    "Probability that height is greater than 4.5 ft and less than 6 ft?\n",
    "- Help me out. Use cdf."
   ]
  },
  {
   "cell_type": "code",
   "execution_count": 293,
   "metadata": {
    "slideshow": {
     "slide_type": "subslide"
    }
   },
   "outputs": [
    {
     "data": {
      "image/png": "[encoded data removed]",
      "text/plain": [
       "<Figure size 432x288 with 1 Axes>"
      ]
     },
     "metadata": {
      "needs_background": "light"
     },
     "output_type": "display_data"
    }
   ],
   "source": [
    "mu = 5.5 # mean\n",
    "sigma = 0.5 # standard deviation\n",
    "\n",
    "x = np.linspace(2,9, num = 100)\n",
    "y_norm = norm.pdf(x, loc = mu, scale = sigma)\n",
    "plt.plot(x, y_norm)\n",
    "plt.fill_between(x,y_norm, where = (x <= 4.7), color='r', alpha = 0.2)\n",
    "plt.fill_between(x,y_norm, where = (x <= 6), color='b', alpha = 0.2)\n",
    "plt.axvline(x = 4.7, c = 'r', linestyle = '--')\n",
    "plt.axvline(x = 6, c = 'b', linestyle = '--')\n",
    "plt.xlabel('Height (ft.)')\n",
    "plt.ylabel('PDF')\n",
    "plt.title('PDF:  Normally distributed Heights')\n",
    "plt.show()"
   ]
  },
  {
   "cell_type": "code",
   "execution_count": 290,
   "metadata": {
    "cell_style": "center"
   },
   "outputs": [
    {
     "data": {
      "text/plain": [
       "0.7865454543689849"
      ]
     },
     "execution_count": 290,
     "metadata": {},
     "output_type": "execute_result"
    }
   ],
   "source": [
    "# mu is defined as mean already, set scale to 0.5 (std)\n",
    "mu = 5.5\n",
    "stdev = 0.5\n",
    "\n",
    "norm.cdf(6, loc = mu, scale = stdev) - norm.cdf(4.7, loc = mu, scale = stdev )"
   ]
  },
  {
   "cell_type": "code",
   "execution_count": 292,
   "metadata": {},
   "outputs": [
    {
     "data": {
      "text/plain": [
       "2.9734390294685958e-06"
      ]
     },
     "execution_count": 292,
     "metadata": {},
     "output_type": "execute_result"
    }
   ],
   "source": [
    "norm.pdf(8, loc = mu, scale = stdev )"
   ]
  }
 ],
 "metadata": {
  "celltoolbar": "Slideshow",
  "kernelspec": {
   "display_name": "Python 3 (ipykernel)",
   "language": "python",
   "name": "python3"
  },
  "language_info": {
   "codemirror_mode": {
    "name": "ipython",
    "version": 3
   },
   "file_extension": ".py",
   "mimetype": "text/x-python",
   "name": "python",
   "nbconvert_exporter": "python",
   "pygments_lexer": "ipython3",
   "version": "3.9.7"
  }
 },
 "nbformat": 4,
 "nbformat_minor": 4
}
