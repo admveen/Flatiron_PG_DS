{
 "cells": [
  {
   "cell_type": "markdown",
   "metadata": {
    "slideshow": {
     "slide_type": "slide"
    }
   },
   "source": [
    "<div style=\"color:white;\n",
    "           display:fill;\n",
    "           border-radius:5px;\n",
    "           background-color:#5642C5;\n",
    "           font-size:200%;\n",
    "           font-family:Arial;letter-spacing:0.5px\">\n",
    "\n",
    "<p width = 20%, style=\"padding: 10px;\n",
    "              color:white;\">\n",
    "Distributions: Part II\n",
    "              \n",
    "</p>\n",
    "</div>\n",
    "\n",
    "Data Science Cohort Live NYC Feb 2022\n",
    "<p>Phase 2: Topic 12</p>\n",
    "<br>\n",
    "<br>\n",
    "\n",
    "<div align = \"right\">\n",
    "<img src=\"Images/flatiron-school-logo.png\" align = \"right\" width=\"200\"/>\n",
    "</div>\n",
    "    \n",
    "    "
   ]
  },
  {
   "cell_type": "markdown",
   "metadata": {
    "slideshow": {
     "slide_type": "slide"
    }
   },
   "source": [
    "#### The normal distribution\n",
    "- Why do people care so much about this distribution?"
   ]
  },
  {
   "cell_type": "markdown",
   "metadata": {
    "slideshow": {
     "slide_type": "fragment"
    }
   },
   "source": [
    "Sum of N independent, random variables each following same distribution:\n",
    "$$ S = X_1 + X_2 + ... + X_N $$\n"
   ]
  },
  {
   "cell_type": "markdown",
   "metadata": {
    "cell_style": "split",
    "slideshow": {
     "slide_type": "slide"
    }
   },
   "source": [
    "Let each $X_i$ be the result of a Bernoulli trial:\n",
    "\n",
    "<img src = \"Images/simple_bernoulli.png\" width = 500>"
   ]
  },
  {
   "cell_type": "markdown",
   "metadata": {
    "cell_style": "split"
   },
   "source": [
    "- $S$ would be how many steps right under $N$ trials.\n",
    "- What kind of distribution?"
   ]
  },
  {
   "cell_type": "markdown",
   "metadata": {
    "slideshow": {
     "slide_type": "skip"
    }
   },
   "source": [
    "Binomial!\n",
    "3 trials."
   ]
  },
  {
   "cell_type": "code",
   "execution_count": 1,
   "metadata": {
    "cell_style": "split",
    "slideshow": {
     "slide_type": "skip"
    }
   },
   "outputs": [],
   "source": [
    "from scipy.stats import binom\n",
    "import matplotlib.pyplot as plt\n",
    "N = 3\n",
    "p = 0.5\n",
    "\n",
    "pmf_binomial = [(x, binom.pmf(x, n = N, p = p)) \n",
    "                for x in range(0,10)]"
   ]
  },
  {
   "cell_type": "code",
   "execution_count": 2,
   "metadata": {
    "cell_style": "split",
    "slideshow": {
     "slide_type": "skip"
    }
   },
   "outputs": [
    {
     "data": {
      "image/png": "[encoded data removed]",
      "text/plain": [
       "<Figure size 432x288 with 1 Axes>"
      ]
     },
     "metadata": {
      "needs_background": "light"
     },
     "output_type": "display_data"
    }
   ],
   "source": [
    "x,y = list(zip(*pmf_binomial))\n",
    "plt.stem(x, y, linefmt='b-', markerfmt='bo', basefmt='r-')\n",
    "plt.xlabel('Number of clicks')\n",
    "plt.ylabel('Probability')\n",
    "plt.title('PMF (Binomial): Number of rights')\n",
    "plt.show()"
   ]
  },
  {
   "cell_type": "markdown",
   "metadata": {
    "slideshow": {
     "slide_type": "slide"
    }
   },
   "source": [
    "Plot it for actual distance deviation:\n",
    "\n",
    "$$ d = n_R - n_L = n_R - (N-n_r)$$"
   ]
  },
  {
   "cell_type": "code",
   "execution_count": 3,
   "metadata": {
    "cell_style": "split",
    "slideshow": {
     "slide_type": "skip"
    }
   },
   "outputs": [],
   "source": [
    "import numpy as np\n",
    "N = 3\n",
    "p = 0.5\n",
    "\n",
    "pmf_deviation = [(x - (N - x), binom.pmf(x, n = N, p = p)) \n",
    "                for x in np.arange(-5,5,1)]"
   ]
  },
  {
   "cell_type": "code",
   "execution_count": 4,
   "metadata": {
    "cell_style": "split",
    "slideshow": {
     "slide_type": "skip"
    }
   },
   "outputs": [
    {
     "data": {
      "image/png": "[encoded data removed]",
      "text/plain": [
       "<Figure size 432x288 with 1 Axes>"
      ]
     },
     "metadata": {
      "needs_background": "light"
     },
     "output_type": "display_data"
    }
   ],
   "source": [
    "x,y = list(zip(*pmf_deviation))\n",
    "plt.stem(x, y, linefmt='b-', markerfmt='bo', basefmt='r-')\n",
    "plt.xlabel('Number of clicks')\n",
    "plt.ylabel('Probability')\n",
    "plt.title('PMF: Step Displacement')\n",
    "plt.xlim(-6,6)\n",
    "plt.show()"
   ]
  },
  {
   "cell_type": "markdown",
   "metadata": {
    "slideshow": {
     "slide_type": "slide"
    }
   },
   "source": [
    "When $N$ gets sufficiently big:"
   ]
  },
  {
   "cell_type": "code",
   "execution_count": 5,
   "metadata": {
    "slideshow": {
     "slide_type": "subslide"
    }
   },
   "outputs": [],
   "source": [
    "from IPython.display import YouTubeVideo\n",
    "\n",
    "galton_video = YouTubeVideo('Vo9Esp1yaC8', width = 800, height = 600)"
   ]
  },
  {
   "cell_type": "code",
   "execution_count": 6,
   "metadata": {
    "slideshow": {
     "slide_type": "subslide"
    }
   },
   "outputs": [
    {
     "data": {
      "text/html": [
       "\n",
       "        <iframe\n",
       "            width=\"800\"\n",
       "            height=\"600\"\n",
       "            src=\"https://www.youtube.com/embed/Vo9Esp1yaC8\"\n",
       "            frameborder=\"0\"\n",
       "            allowfullscreen\n",
       "        ></iframe>\n",
       "        "
      ],
      "text/plain": [
       "<IPython.lib.display.YouTubeVideo at 0x1ce5ca5fb20>"
      ]
     },
     "metadata": {},
     "output_type": "display_data"
    }
   ],
   "source": [
    "display(galton_video)"
   ]
  },
  {
   "cell_type": "markdown",
   "metadata": {
    "slideshow": {
     "slide_type": "slide"
    }
   },
   "source": [
    "- If make slits finer, and $N \\rightarrow \\infty$ :\n",
    "- Histogram becomes the continuous normal pdf."
   ]
  },
  {
   "cell_type": "markdown",
   "metadata": {
    "slideshow": {
     "slide_type": "subslide"
    }
   },
   "source": [
    "**Most distributions satisfying weak requirements**:\n",
    "- Finite variance.\n",
    "- Defined mean.\n",
    "\n",
    "Bernoulli was an underlying distribution that satisfied this.\n",
    "\n",
    "Sum of random variables drawn from these distribution follows normal distribution as N goes large."
   ]
  },
  {
   "cell_type": "markdown",
   "metadata": {
    "slideshow": {
     "slide_type": "fragment"
    }
   },
   "source": [
    "#### Known as: The central limit theorem"
   ]
  },
  {
   "cell_type": "markdown",
   "metadata": {
    "slideshow": {
     "slide_type": "slide"
    }
   },
   "source": [
    "Take N = 200 samples of waiting times of drivers at a toll:\n",
    "\n",
    "- Follows exponential distribution with average wait time $\\tau$\n",
    "- Has finite variance $\\tau^2$."
   ]
  },
  {
   "cell_type": "code",
   "execution_count": 7,
   "metadata": {
    "scrolled": true,
    "slideshow": {
     "slide_type": "subslide"
    }
   },
   "outputs": [],
   "source": [
    "from scipy.stats import expon\n",
    "\n",
    "#assume population mean 3 minutes\n",
    "pop_mean = 3\n",
    "\n",
    "wait_time_sample = expon.rvs(loc = pop_mean/2, scale = pop_mean/2, size = 50)"
   ]
  },
  {
   "cell_type": "code",
   "execution_count": 8,
   "metadata": {
    "scrolled": true,
    "slideshow": {
     "slide_type": "fragment"
    }
   },
   "outputs": [
    {
     "data": {
      "image/png": "[encoded data removed]",
      "text/plain": [
       "<Figure size 432x288 with 1 Axes>"
      ]
     },
     "metadata": {
      "needs_background": "light"
     },
     "output_type": "display_data"
    }
   ],
   "source": [
    "plt.hist(wait_time_sample)\n",
    "plt.xlabel('Count')\n",
    "plt.xlabel('Toll wait time (min.)')\n",
    "plt.title('N = 50 sample histogram')\n",
    "plt.show()\n"
   ]
  },
  {
   "cell_type": "markdown",
   "metadata": {},
   "source": [
    "Obviously, not normal distributed."
   ]
  },
  {
   "cell_type": "markdown",
   "metadata": {},
   "source": [
    "- Want statistics/uncertainty of the **sample mean** as we repeat for many trials of samples with N = 50."
   ]
  },
  {
   "cell_type": "markdown",
   "metadata": {
    "slideshow": {
     "slide_type": "subslide"
    }
   },
   "source": [
    "$$ \\bar{T} = \\frac{1}{N}\\sum_{i=1}^{N}T_i $$\n",
    "\n",
    "- Here N = 50\n",
    "- Apart from factor of (1/N), this is a sum of random variables!"
   ]
  },
  {
   "cell_type": "markdown",
   "metadata": {
    "slideshow": {
     "slide_type": "slide"
    }
   },
   "source": [
    "##### Create a list of 500 trials of these N = 50 samples from exponential distribution."
   ]
  },
  {
   "cell_type": "code",
   "execution_count": 9,
   "metadata": {
    "scrolled": false,
    "slideshow": {
     "slide_type": "subslide"
    }
   },
   "outputs": [
    {
     "data": {
      "text/plain": [
       "[array([ 2.43286613,  4.5027285 ,  2.4669044 ,  2.53763821,  3.07670821,\n",
       "         2.29632229,  3.45488405,  4.89989119,  1.73964035,  2.43453589,\n",
       "         5.60136407,  1.96456916,  2.54212323,  1.89617266,  2.39183761,\n",
       "         2.30710561,  7.98566234,  2.86193596,  2.86493316,  2.89447477,\n",
       "         3.4009848 ,  1.53516923,  1.89975791,  3.66859733,  4.28683356,\n",
       "         2.40662309,  4.21335388,  1.56084817,  1.95792806,  5.24122329,\n",
       "         1.94262653,  3.92286256,  4.91934169,  4.07963446,  1.8803901 ,\n",
       "         1.78811386,  2.89353787,  3.76829997,  6.6298754 ,  3.49727502,\n",
       "         2.11445979,  1.58528124,  1.72258015,  9.71576335,  3.19041711,\n",
       "         1.71728308,  2.44428917,  1.73449826,  4.88475428,  3.86407023,\n",
       "         9.06358918,  2.1789011 ,  2.1589476 ,  2.64184341,  2.25095235,\n",
       "         2.17422332,  3.47805329,  2.60931747,  3.03151471,  1.58701931,\n",
       "         9.15980917,  2.33427392,  2.2743904 ,  1.57200229,  6.20783994,\n",
       "         5.76185852, 11.99253951,  1.78371292,  2.94903182,  2.32916781,\n",
       "         3.60658725,  2.41590559,  3.53525073,  3.72923343,  5.53799756,\n",
       "         2.35325801,  4.02810916,  3.83925837,  2.35559621,  4.48503186,\n",
       "         1.82770417,  1.51585572,  3.22613769,  4.02534387,  1.70562793,\n",
       "         2.74103403,  2.57143228,  2.54857165,  2.84051399,  2.35778894,\n",
       "         3.90768888,  2.42923391,  2.260266  ,  2.11218242,  2.0786786 ,\n",
       "         1.81988312,  2.92434696,  2.38034879,  2.61713182,  4.2767145 ,\n",
       "         1.67900309,  3.05566526,  2.0233613 ,  2.07191216,  2.64432329,\n",
       "         2.05051883,  1.99040416,  2.26642369,  3.34530106,  3.77936424,\n",
       "         2.38283966,  4.37304074,  2.52561333,  2.43102008,  2.73445437,\n",
       "         3.88839279,  1.76159849,  2.82410921,  4.21063803,  2.30184221,\n",
       "         3.82709407,  1.61613365,  1.9572894 ,  2.70727112,  1.60095104,\n",
       "         1.82385727,  3.78110477,  2.73032376,  1.75883791,  1.95141216,\n",
       "         2.74638781,  5.2109424 ,  2.10470914,  2.18979964,  2.69270857,\n",
       "         1.9074668 ,  1.54711729,  3.14499386,  3.23404517,  4.99430255,\n",
       "         1.98957001,  1.54357683,  2.98387732,  3.49918735,  3.2961214 ,\n",
       "         3.11400837,  1.72944372,  2.79702649,  3.87958703,  3.03153872,\n",
       "         2.05083294,  4.6562036 ,  2.20124388,  3.64873801,  2.92238523,\n",
       "         3.54988531,  2.41793772,  1.64678999,  1.73934431,  2.22623606,\n",
       "         3.28044711,  1.57010427,  1.61677463,  2.10115637,  5.40923012,\n",
       "         1.82243883,  2.82695937,  2.13341938,  6.09626365,  1.67787164,\n",
       "         2.17081827,  1.74167078,  2.32381845,  1.93667022,  1.69684652,\n",
       "         4.04714777,  2.22651138,  3.31358035,  2.53020395,  2.50770845,\n",
       "         6.2554079 ,  3.58371648,  2.61785014,  2.83424082,  5.50759601,\n",
       "         5.45689394,  4.3915148 ,  3.78631789,  3.51906449,  6.4853679 ,\n",
       "         2.32415405,  1.89773763,  2.0907036 ,  2.4530752 ,  3.10461107,\n",
       "         2.93319305,  2.31361865,  3.49160359,  2.0324645 ,  2.15056691]),\n",
       " array([ 1.57597287,  6.74145274,  1.51808632,  3.24468497,  2.06124894,\n",
       "         1.53003801,  2.55850813,  3.13264103,  2.72683018,  2.08599182,\n",
       "         1.8199667 ,  2.87040553,  2.20776244,  3.27955294, 10.04070547,\n",
       "         2.03654114,  3.30415766,  2.08885072,  4.46142077,  3.18769411,\n",
       "         2.23502141,  4.99310622,  2.19468296,  2.20180523,  2.56182206,\n",
       "         3.0413891 ,  5.33679103,  4.85291214,  4.90194772,  1.56875076,\n",
       "         4.65819965,  1.86561506,  1.63614115,  2.6361643 ,  3.81883985,\n",
       "         5.54837953,  6.46782995,  1.72881406,  2.15396527,  2.30123936,\n",
       "         2.41251574,  5.33160635,  3.02625084,  3.12248794,  3.11734219,\n",
       "         1.62323089,  2.60410434,  1.51642406,  2.82627931,  2.59328593,\n",
       "         2.47115869,  2.05985724,  3.51867835,  1.99300263,  2.52020606,\n",
       "         1.73105807,  2.64156972,  3.75263201,  2.28788675,  3.65925504,\n",
       "         3.92228957,  1.57637237,  1.55094054,  2.74911454,  1.6351074 ,\n",
       "         2.99360705,  6.18392458,  4.9982806 ,  1.97277202,  2.26291732,\n",
       "         4.93410236,  3.75653798,  1.86850547,  2.91326998,  2.48467962,\n",
       "         1.88544542,  3.47446068,  4.01729683,  1.81082328,  3.00702803,\n",
       "         1.86780553,  4.2490822 ,  3.14013872,  2.43702592,  2.55231728,\n",
       "         2.52574761,  3.72610005,  3.93487242,  2.54809689,  2.4720074 ,\n",
       "         6.93469137,  2.6780293 ,  3.20951193,  2.05849741,  2.87693523,\n",
       "         1.6339167 ,  2.22176118,  1.56499942,  2.58823178,  3.87401294,\n",
       "         5.81715956,  2.34795495,  4.20906867,  2.64903063,  1.77862593,\n",
       "         1.69099502,  1.98585569,  1.94477161,  2.89640815,  3.82514786,\n",
       "         1.52627453,  2.20051472,  2.20501777,  3.9068034 ,  1.5701541 ,\n",
       "         1.53449953,  1.75548582,  2.20720221,  5.31512549,  5.45794558,\n",
       "         1.50648747,  8.32800141,  5.10130914,  1.91775914,  1.58516606,\n",
       "         9.2169252 ,  1.85083254,  4.94408407,  2.06175419,  4.02911361,\n",
       "         1.8720775 ,  2.74540299,  2.67377666,  2.80181036,  1.73681812,\n",
       "         1.53740096,  1.60711705,  3.36293566,  3.39580026,  1.5912106 ,\n",
       "         4.01100856,  2.19692646,  2.98745922,  2.2013922 ,  2.84121677,\n",
       "         1.50988026,  2.21301483,  6.26862227,  2.02389826,  3.619567  ,\n",
       "         1.5393636 ,  2.53096178,  4.2611107 ,  1.6187561 ,  2.01496458,\n",
       "         3.94858504,  3.8122146 ,  3.30585381,  1.85302263,  3.84435205,\n",
       "         2.16086008,  2.93830709,  1.58567438,  2.34135245,  3.69445042,\n",
       "         4.57303427,  2.40040511,  2.40234504,  4.59242891,  2.25917598,\n",
       "         3.10466888,  2.80139969,  3.17001731,  3.86268458,  1.71605638,\n",
       "         1.88364393,  3.877072  ,  2.3314107 ,  2.39073277,  1.76826512,\n",
       "         1.6170102 ,  1.89454442,  2.22903072,  1.73271615,  1.97509637,\n",
       "         3.78833095,  2.16793502,  2.79306952,  2.70141863,  3.92894175,\n",
       "         2.46068633,  3.01444229,  4.3120351 ,  3.83957463,  1.59840981,\n",
       "         1.93961951,  5.17756603,  1.9756728 ,  3.96478039,  2.3582022 ])]"
      ]
     },
     "execution_count": 9,
     "metadata": {},
     "output_type": "execute_result"
    }
   ],
   "source": [
    "pop_mean = 3\n",
    "many_sample_trials = [expon.rvs(loc = pop_mean/2, scale = pop_mean/2, size = 200) for trial in range(500)]\n",
    "many_sample_trials[0:2]"
   ]
  },
  {
   "cell_type": "markdown",
   "metadata": {
    "slideshow": {
     "slide_type": "slide"
    }
   },
   "source": [
    "Return list of sample means:"
   ]
  },
  {
   "cell_type": "code",
   "execution_count": 10,
   "metadata": {},
   "outputs": [],
   "source": [
    "sample_mean_list = [sample.mean() for sample in many_sample_trials]"
   ]
  },
  {
   "cell_type": "markdown",
   "metadata": {
    "slideshow": {
     "slide_type": "slide"
    }
   },
   "source": [
    "What does the distribution of means look like?\n",
    "\n",
    "$$ \\bar{T} = \\frac{1}{N}\\sum_{i=1}^{N}T_i $$"
   ]
  },
  {
   "cell_type": "code",
   "execution_count": 11,
   "metadata": {
    "slideshow": {
     "slide_type": "fragment"
    }
   },
   "outputs": [
    {
     "data": {
      "image/png": "[encoded data removed]",
      "text/plain": [
       "<Figure size 432x288 with 1 Axes>"
      ]
     },
     "metadata": {
      "needs_background": "light"
     },
     "output_type": "display_data"
    }
   ],
   "source": [
    "plt.hist(sample_mean_list, bins = \"auto\")\n",
    "plt.show()"
   ]
  },
  {
   "cell_type": "markdown",
   "metadata": {
    "slideshow": {
     "slide_type": "slide"
    }
   },
   "source": [
    "**The distribution of mean of a sample follow normal distribution**\n",
    "\n",
    "- Regardless of underlying population distribution.\n",
    "\n",
    "This is a very large reason why normal distribution is so important!"
   ]
  },
  {
   "cell_type": "markdown",
   "metadata": {
    "slideshow": {
     "slide_type": "slide"
    }
   },
   "source": [
    "#### Standard Normal Distribution"
   ]
  },
  {
   "cell_type": "markdown",
   "metadata": {
    "cell_style": "split",
    "slideshow": {
     "slide_type": "subslide"
    }
   },
   "source": [
    "- Often useful to rescale normal by mean/std.\n",
    "- New rescaled normal has mean of 0 and variance of 1.\n",
    "- Z-distribution."
   ]
  },
  {
   "cell_type": "markdown",
   "metadata": {
    "cell_style": "split",
    "hidden": true,
    "slideshow": {
     "slide_type": "fragment"
    }
   },
   "source": [
    "We simply subtract the mean $\\mu$ from each value and then divide by the standard deviation $\\sigma$:\n",
    "\n",
    "$$z = \\frac{x - \\mu}{\\sigma}$$\n",
    "\n",
    "We call this process **standardization**."
   ]
  },
  {
   "cell_type": "markdown",
   "metadata": {
    "cell_style": "split",
    "slideshow": {
     "slide_type": "subslide"
    }
   },
   "source": [
    "Mathematical form for pdf:\n",
    "$$ N(x | \\mu, \\sigma^2) = \\frac{1}{\\sqrt{2\\pi\\sigma^2}} e^{-\\frac{(x-\\mu)^2}{2\\sigma^2}} $$\n",
    "\n",
    "- $\\mu$ is mean.\n",
    "- $\\sigma$ is standard deviation."
   ]
  },
  {
   "cell_type": "markdown",
   "metadata": {
    "cell_style": "split",
    "slideshow": {
     "slide_type": "fragment"
    }
   },
   "source": [
    "Scaled transformation:\n",
    "$$ \\frac{1}{\\sqrt{2\\pi}}e^{-\\frac{z^2}{2}} $$"
   ]
  },
  {
   "cell_type": "markdown",
   "metadata": {
    "slideshow": {
     "slide_type": "subslide"
    }
   },
   "source": [
    "<center><img src = \"Images/rescale_normal.png\" width = 500></center>"
   ]
  },
  {
   "cell_type": "markdown",
   "metadata": {
    "heading_collapsed": true,
    "hidden": true,
    "slideshow": {
     "slide_type": "slide"
    }
   },
   "source": [
    "#### $z$-Score"
   ]
  },
  {
   "cell_type": "markdown",
   "metadata": {
    "hidden": true,
    "slideshow": {
     "slide_type": "fragment"
    }
   },
   "source": [
    "A **$z$-score** for a data point $x$ (in a normal distribution) is simply the distance to the mean in units of standard deviations\n",
    "\n",
    "$$\\large z = \\frac{x - \\mu}{\\sigma}$$\n",
    "\n",
    "By calculating the z-score of an individual point, we can see how unlikely a value is."
   ]
  },
  {
   "cell_type": "markdown",
   "metadata": {
    "heading_collapsed": true,
    "hidden": true,
    "slideshow": {
     "slide_type": "slide"
    }
   },
   "source": [
    "#### The Empirical Rule"
   ]
  },
  {
   "cell_type": "markdown",
   "metadata": {
    "hidden": true,
    "slideshow": {
     "slide_type": "subslide"
    }
   },
   "source": [
    "- $68\\%$ of the values of a normal distribution: lie within 1 standard deviation ($\\sigma$) of the mean.\n",
    "- $95\\%$ within $2\\sigma$.\n",
    "- $99.7\\%$ within $3\\sigma$.  "
   ]
  }
 ],
 "metadata": {
  "celltoolbar": "Slideshow",
  "kernelspec": {
   "display_name": "Python 3 (ipykernel)",
   "language": "python",
   "name": "python3"
  },
  "language_info": {
   "codemirror_mode": {
    "name": "ipython",
    "version": 3
   },
   "file_extension": ".py",
   "mimetype": "text/x-python",
   "name": "python",
   "nbconvert_exporter": "python",
   "pygments_lexer": "ipython3",
   "version": "3.9.7"
  }
 },
 "nbformat": 4,
 "nbformat_minor": 4
}
