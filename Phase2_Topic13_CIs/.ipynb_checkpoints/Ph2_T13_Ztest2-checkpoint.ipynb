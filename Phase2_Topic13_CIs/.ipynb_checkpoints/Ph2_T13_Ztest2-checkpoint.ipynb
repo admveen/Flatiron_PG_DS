{
 "cells": [
  {
   "cell_type": "markdown",
   "metadata": {
    "cell_style": "center",
    "slideshow": {
     "slide_type": "slide"
    }
   },
   "source": [
    "<div style=\"color:white;\n",
    "           display:fill;\n",
    "           border-radius:5px;\n",
    "           background-color:#5642C5;\n",
    "           font-size:200%;\n",
    "           font-family:Arial;letter-spacing:0.5px\">\n",
    "\n",
    "<p width = 20%, style=\"padding: 10px;\n",
    "              color:white;\">\n",
    "Z-tests: Part 2\n",
    "              \n",
    "</p>\n",
    "</div>\n",
    "\n",
    "Data Science Cohort Live NYC Feb 2022\n",
    "<p>Phase 2: Topic 13</p>\n",
    "<br>\n",
    "<br>\n",
    "\n",
    "<div align = \"right\">\n",
    "<img src=\"Images/flatiron-school-logo.png\" align = \"right\" width=\"200\"/>\n",
    "</div>\n",
    "    \n",
    "    "
   ]
  },
  {
   "cell_type": "markdown",
   "metadata": {
    "cell_style": "center",
    "slideshow": {
     "slide_type": "slide"
    }
   },
   "source": [
    "#### Three classes of Z-tests:\n",
    "- **Left-tailed**\n",
    "- Right-tailed\n",
    "- Double-sided"
   ]
  },
  {
   "cell_type": "markdown",
   "metadata": {
    "slideshow": {
     "slide_type": "slide"
    }
   },
   "source": [
    "#### Situation\n",
    "We have a population with mean $\\mu_0$ and population std $\\sigma$:\n",
    "- Our population average daily site visits per user per day was 2.0 for site A. \n",
    "- Remember: we had a lot of data for this."
   ]
  },
  {
   "cell_type": "markdown",
   "metadata": {
    "cell_style": "split",
    "slideshow": {
     "slide_type": "slide"
    }
   },
   "source": [
    "Management approved a new layout for a website (Site B) without consulting the Quality Analysis (QA).\n",
    "\n",
    "We believe that the new web site sucks.\n",
    "\n",
    "So far, we have a finite sample of daily site visits per user per day with site B.\n",
    "\n",
    "\n",
    "*What might our hypothesis be?*"
   ]
  },
  {
   "cell_type": "markdown",
   "metadata": {
    "cell_style": "split",
    "slideshow": {
     "slide_type": "fragment"
    }
   },
   "source": [
    "- **Hypothesis**: mean of this finite sample $\\bar{X_1}$ comes from a population whose (unknown) mean $\\mu_1$:\n",
    "\n",
    "- Less than population mean $\\mu_0$. \n",
    "\n",
    "$$ \\mu_1 < \\mu_0 $$"
   ]
  },
  {
   "cell_type": "markdown",
   "metadata": {
    "cell_style": "center",
    "slideshow": {
     "slide_type": "slide"
    }
   },
   "source": [
    "Test $\\bar{X_1}$ against distribution of mean of samples drawn from the population (site A data):\n",
    "\n",
    "Set significance level $\\alpha$ = 0.05:\n",
    "\n",
    "- p <= 0.05 of getting $\\bar{X_1}$ or less under the null."
   ]
  },
  {
   "cell_type": "markdown",
   "metadata": {
    "slideshow": {
     "slide_type": "fragment"
    }
   },
   "source": [
    "Equivalently: \n",
    "- \\>= 0.95 of $\\bar{X}$ of samples drawn from original population are greater than $\\bar{X}_1$.\n"
   ]
  },
  {
   "cell_type": "markdown",
   "metadata": {
    "slideshow": {
     "slide_type": "slide"
    }
   },
   "source": [
    "#### Left-Tailed Test"
   ]
  },
  {
   "cell_type": "code",
   "execution_count": 81,
   "metadata": {
    "slideshow": {
     "slide_type": "skip"
    }
   },
   "outputs": [],
   "source": [
    "import numpy as np\n",
    "import pandas as pd\n",
    "import matplotlib.pyplot as plt\n",
    "\n",
    "from scipy.stats import norm\n",
    "from scipy.stats import poisson"
   ]
  },
  {
   "cell_type": "code",
   "execution_count": 181,
   "metadata": {
    "slideshow": {
     "slide_type": "skip"
    }
   },
   "outputs": [],
   "source": [
    "%%capture left_tail_alpha\n",
    "x_scaled = np.linspace(-5,5,200)\n",
    "Y_scaled = norm.pdf(x_scaled, loc = 0, scale = 1)\n",
    "\n",
    "fig, ax = plt.subplots(1,2, figsize = (12,4))\n",
    "\n",
    "ax[0].plot(x_scaled, Y_scaled, c ='r', linewidth = 3)\n",
    "ax[0].axvline(-1.645, c = 'b')\n",
    "ax[0].fill_between(x_scaled, Y_scaled, where = (x_scaled < -1.645 ), alpha = 0.5, color='b')\n",
    "ax[0].annotate(r'$\\alpha$ = 0.05', xytext = (-5,.1), xy = (-2.2,.01), fontsize=16, arrowprops=dict(facecolor='b', shrink=0.05), c ='b' )\n",
    "ax[0].set_xlabel('Z')\n",
    "ax[0].set_ylabel('PDF')\n",
    "ax[0].set_title('Left-Tailed Test')\n",
    "\n",
    "ax[1].plot(x_scaled, Y_scaled, c ='r', linewidth = 3)\n",
    "ax[1].axvline(-1.645, c = 'b')\n",
    "ax[1].fill_between(x_scaled, Y_scaled, where = (x_scaled > -1.645 ), alpha = 0.5, color='r')\n",
    "ax[1].annotate('c = 0.95', xytext = (2.0,.25), xy = (.5,.20), fontsize=16, arrowprops=dict(facecolor='r', shrink=0.05), c ='r' )\n",
    "ax[1].set_xlabel('Z')\n",
    "ax[1].set_ylabel('PDF')\n",
    "ax[1].set_title('Left-Tailed Test')\n",
    "plt.show()"
   ]
  },
  {
   "cell_type": "code",
   "execution_count": 190,
   "metadata": {
    "slideshow": {
     "slide_type": "fragment"
    }
   },
   "outputs": [
    {
     "data": {
      "image/png": "[encoded data removed]",
      "text/plain": [
       "<Figure size 864x288 with 2 Axes>"
      ]
     },
     "metadata": {
      "needs_background": "light"
     },
     "output_type": "display_data"
    }
   ],
   "source": [
    "left_tail_alpha()"
   ]
  },
  {
   "cell_type": "markdown",
   "metadata": {
    "slideshow": {
     "slide_type": "fragment"
    }
   },
   "source": [
    "**Corresponds** to $Z_{crit} = -1.645$"
   ]
  },
  {
   "cell_type": "markdown",
   "metadata": {
    "slideshow": {
     "slide_type": "slide"
    }
   },
   "source": [
    "Sample of user engagement with site B:\n",
    "\n",
    "- N = 150 samples"
   ]
  },
  {
   "cell_type": "code",
   "execution_count": 109,
   "metadata": {
    "slideshow": {
     "slide_type": "skip"
    }
   },
   "outputs": [],
   "source": [
    "N = 150\n",
    "sample_with_site_B = poisson.rvs(mu = 1.65, size = N )"
   ]
  },
  {
   "cell_type": "code",
   "execution_count": 310,
   "metadata": {
    "slideshow": {
     "slide_type": "fragment"
    }
   },
   "outputs": [
    {
     "data": {
      "text/plain": [
       "array([1, 4, 2, 0, 3, 1, 2, 1, 2, 2, 1, 1, 0, 1, 3, 2, 1, 3, 0, 0, 1, 1,\n",
       "       1, 1, 2, 2, 2, 2, 2, 1, 4, 1, 1, 4, 0, 4, 2, 1, 1, 1, 0, 1, 1, 2,\n",
       "       1, 1, 1, 1, 1, 1, 0, 0, 1, 1, 1, 2, 1, 2, 2, 1, 1, 1, 2, 0, 1, 2,\n",
       "       3, 2, 5, 2, 1, 4, 2, 0, 1, 1, 0, 3, 1, 2, 0, 2, 1, 2, 3, 2, 1, 1,\n",
       "       1, 1, 5, 1, 1, 0, 1, 4, 0, 0, 1, 2, 3, 1, 1, 2, 3, 2, 1, 2, 3, 1,\n",
       "       3, 2, 2, 2, 3, 2, 3, 0, 1, 1, 3, 1, 3, 1, 0, 2, 3, 2, 1, 1, 1, 0,\n",
       "       2, 2, 1, 0, 1, 1, 3, 0, 1, 1, 1, 3, 0, 4, 1, 1, 2, 2])"
      ]
     },
     "execution_count": 310,
     "metadata": {},
     "output_type": "execute_result"
    }
   ],
   "source": [
    "sample_with_site_B"
   ]
  },
  {
   "cell_type": "markdown",
   "metadata": {
    "slideshow": {
     "slide_type": "slide"
    }
   },
   "source": [
    "The mean of sample from site B."
   ]
  },
  {
   "cell_type": "code",
   "execution_count": 311,
   "metadata": {
    "slideshow": {
     "slide_type": "fragment"
    }
   },
   "outputs": [
    {
     "data": {
      "text/plain": [
       "1.5333333333333334"
      ]
     },
     "execution_count": 311,
     "metadata": {},
     "output_type": "execute_result"
    }
   ],
   "source": [
    "sampleB_mean = sample_with_site_B.mean()\n",
    "sampleB_mean"
   ]
  },
  {
   "cell_type": "markdown",
   "metadata": {
    "slideshow": {
     "slide_type": "slide"
    }
   },
   "source": [
    "Our population mean for our null:\n",
    "- Mean visits per day per user for Site A."
   ]
  },
  {
   "cell_type": "code",
   "execution_count": 112,
   "metadata": {
    "slideshow": {
     "slide_type": "skip"
    }
   },
   "outputs": [],
   "source": [
    "population_with_site_A = poisson.rvs(mu = 2, size = 500000)\n"
   ]
  },
  {
   "cell_type": "code",
   "execution_count": 312,
   "metadata": {
    "slideshow": {
     "slide_type": "fragment"
    }
   },
   "outputs": [
    {
     "data": {
      "text/plain": [
       "1.998976"
      ]
     },
     "execution_count": 312,
     "metadata": {},
     "output_type": "execute_result"
    }
   ],
   "source": [
    "mu_0 = population_with_site_A.mean()\n",
    "mu_0"
   ]
  },
  {
   "cell_type": "markdown",
   "metadata": {
    "slideshow": {
     "slide_type": "slide"
    }
   },
   "source": [
    "Our population standard deviation $\\sigma$:"
   ]
  },
  {
   "cell_type": "code",
   "execution_count": 313,
   "metadata": {},
   "outputs": [
    {
     "data": {
      "text/plain": [
       "1.4133728989279508"
      ]
     },
     "execution_count": 313,
     "metadata": {},
     "output_type": "execute_result"
    }
   ],
   "source": [
    "population_sigma = population_with_site_A.std()\n",
    "population_sigma"
   ]
  },
  {
   "cell_type": "markdown",
   "metadata": {
    "slideshow": {
     "slide_type": "slide"
    }
   },
   "source": [
    "Construct Z-statistic for sample B mean under the null hypothesis:"
   ]
  },
  {
   "cell_type": "code",
   "execution_count": 314,
   "metadata": {
    "slideshow": {
     "slide_type": "fragment"
    }
   },
   "outputs": [
    {
     "data": {
      "text/plain": [
       "-4.034982334341299"
      ]
     },
     "execution_count": 314,
     "metadata": {},
     "output_type": "execute_result"
    }
   ],
   "source": [
    "Z_stat = (sampleB_mean - mu_0) / (population_sigma/np.sqrt(N))\n",
    "Z_stat"
   ]
  },
  {
   "cell_type": "markdown",
   "metadata": {
    "slideshow": {
     "slide_type": "slide"
    }
   },
   "source": [
    "Notice that Z is negative, as it should be."
   ]
  },
  {
   "cell_type": "markdown",
   "metadata": {
    "cell_style": "center",
    "slideshow": {
     "slide_type": "slide"
    }
   },
   "source": [
    "Look at Z-statistic and calculate p-value:"
   ]
  },
  {
   "cell_type": "code",
   "execution_count": 183,
   "metadata": {
    "slideshow": {
     "slide_type": "skip"
    }
   },
   "outputs": [],
   "source": [
    "%%capture left_tailed_result\n",
    "fig, ax = plt.subplots()\n",
    "\n",
    "ax.plot(x_scaled, Y_scaled, c ='r', linewidth = 3)\n",
    "ax.axvline(-1.645, c = 'b', linestyle = '--')\n",
    "ax.axvline(Z_stat, c = 'g')\n",
    "ax.annotate(r'$\\alpha$ = 0.05', xytext = (-1.7,.3), xy = (-2.2,.01), fontsize=16, c ='b' )\n",
    "ax.annotate(\"$Z_{stat}$\" , xytext = (-3.8,.3), xy = (-2.2,.01), fontsize=16, c ='g' )\n",
    "\n",
    "ax.set_xlabel('Z')\n",
    "ax.set_ylabel('PDF')\n",
    "ax.set_title('Left-Tailed Test')\n",
    "plt.show()"
   ]
  },
  {
   "cell_type": "code",
   "execution_count": 184,
   "metadata": {
    "cell_style": "split",
    "slideshow": {
     "slide_type": "slide"
    }
   },
   "outputs": [
    {
     "data": {
      "image/png": "[encoded data removed]",
      "text/plain": [
       "<Figure size 432x288 with 1 Axes>"
      ]
     },
     "metadata": {
      "needs_background": "light"
     },
     "output_type": "display_data"
    }
   ],
   "source": [
    "left_tailed_result()"
   ]
  },
  {
   "cell_type": "code",
   "execution_count": 185,
   "metadata": {
    "cell_style": "split",
    "slideshow": {
     "slide_type": "fragment"
    }
   },
   "outputs": [
    {
     "data": {
      "text/plain": [
       "2.730320293959605e-05"
      ]
     },
     "execution_count": 185,
     "metadata": {},
     "output_type": "execute_result"
    }
   ],
   "source": [
    "p_value = norm.cdf(Z_stat,loc =0, scale = 1)\n",
    "p_value"
   ]
  },
  {
   "cell_type": "markdown",
   "metadata": {
    "cell_style": "split",
    "slideshow": {
     "slide_type": "fragment"
    }
   },
   "source": [
    "Reject that $H_0$!"
   ]
  },
  {
   "cell_type": "markdown",
   "metadata": {
    "cell_style": "split",
    "slideshow": {
     "slide_type": "fragment"
    }
   },
   "source": [
    "New website version probably sucks."
   ]
  },
  {
   "cell_type": "markdown",
   "metadata": {
    "cell_style": "center",
    "slideshow": {
     "slide_type": "slide"
    }
   },
   "source": [
    "#### Three classes of Z-tests:\n",
    "- Left-tailed\n",
    "- **Right-tailed**\n",
    "- Double-sided"
   ]
  },
  {
   "cell_type": "markdown",
   "metadata": {
    "slideshow": {
     "slide_type": "slide"
    }
   },
   "source": [
    "We did this in previous lecture. \n",
    "\n",
    "- Believe that our sample derived from a population with unknown mean **greater** than null population mean:\n",
    "\n",
    "$$ \\mu_1  >  \\mu_0 $$\n",
    "\n"
   ]
  },
  {
   "cell_type": "markdown",
   "metadata": {
    "slideshow": {
     "slide_type": "slide"
    }
   },
   "source": [
    "Significance level at $\\alpha = 0.05$:\n",
    "- 0.95 fraction of sampled means under the null hypothesis would lie below this point.\n",
    "- Only 0.05 fraction of sample means under the null hypothesis lie **greater** than this point."
   ]
  },
  {
   "cell_type": "code",
   "execution_count": 193,
   "metadata": {
    "slideshow": {
     "slide_type": "skip"
    }
   },
   "outputs": [],
   "source": [
    "%%capture right_tail_alpha\n",
    "x_scaled = np.linspace(-5,5,200)\n",
    "Y_scaled = norm.pdf(x_scaled, loc = 0, scale = 1)\n",
    "\n",
    "fig, ax = plt.subplots(1,2, figsize = (12,4))\n",
    "\n",
    "ax[0].plot(x_scaled, Y_scaled, c ='r', linewidth = 3)\n",
    "ax[0].axvline(1.645, c = 'b')\n",
    "ax[0].fill_between(x_scaled, Y_scaled, where = (x_scaled > 1.645 ), alpha = 0.5, color='b')\n",
    "ax[0].annotate(r'$\\alpha$ = 0.05', xytext = (2.5,.1), xy = (2.2,.01), fontsize=16, arrowprops=dict(facecolor='b', shrink=0.05), c ='b' )\n",
    "ax[0].set_xlabel('Z')\n",
    "ax[0].set_ylabel('PDF')\n",
    "ax[0].set_title('Left-Tailed Test')\n",
    "\n",
    "ax[1].plot(x_scaled, Y_scaled, c ='r', linewidth = 3)\n",
    "ax[1].axvline(1.645, c = 'b')\n",
    "ax[1].fill_between(x_scaled, Y_scaled, where = (x_scaled < 1.645 ), alpha = 0.5, color='r')\n",
    "ax[1].annotate('c = 0.95', xytext = (-5.0,.25), xy = (-.5,.20), fontsize=16, arrowprops=dict(facecolor='r', shrink=0.05), c ='r' )\n",
    "ax[1].set_xlabel('Z')\n",
    "ax[1].set_ylabel('PDF')\n",
    "ax[1].set_title('Left-Tailed Test')\n",
    "plt.show()"
   ]
  },
  {
   "cell_type": "code",
   "execution_count": 194,
   "metadata": {
    "slideshow": {
     "slide_type": "subslide"
    }
   },
   "outputs": [
    {
     "data": {
      "image/png": "[encoded data removed]",
      "text/plain": [
       "<Figure size 864x288 with 2 Axes>"
      ]
     },
     "metadata": {
      "needs_background": "light"
     },
     "output_type": "display_data"
    }
   ],
   "source": [
    "right_tail_alpha()\n"
   ]
  },
  {
   "cell_type": "markdown",
   "metadata": {
    "slideshow": {
     "slide_type": "fragment"
    }
   },
   "source": [
    "**Corresponds** to $Z_{crit} = 1.645$"
   ]
  },
  {
   "cell_type": "markdown",
   "metadata": {
    "cell_style": "center",
    "slideshow": {
     "slide_type": "slide"
    }
   },
   "source": [
    "Management rolls out a new variant website C.\n",
    "\n",
    "- I believe that site C is better than A.\n",
    "- Get a sample mean of visits per day per user of 2.13.\n",
    "- Sample size N = 150."
   ]
  },
  {
   "cell_type": "markdown",
   "metadata": {
    "cell_style": "center",
    "slideshow": {
     "slide_type": "slide"
    }
   },
   "source": [
    "Use population mean and std:"
   ]
  },
  {
   "cell_type": "code",
   "execution_count": 168,
   "metadata": {
    "cell_style": "center",
    "slideshow": {
     "slide_type": "-"
    }
   },
   "outputs": [
    {
     "name": "stdout",
     "output_type": "stream",
     "text": [
      "1.998976 1.4138978660200319\n"
     ]
    }
   ],
   "source": [
    "print(mu_0, sigma)"
   ]
  },
  {
   "cell_type": "code",
   "execution_count": 316,
   "metadata": {
    "slideshow": {
     "slide_type": "fragment"
    }
   },
   "outputs": [
    {
     "data": {
      "text/plain": [
       "1.13495448211489"
      ]
     },
     "execution_count": 316,
     "metadata": {},
     "output_type": "execute_result"
    }
   ],
   "source": [
    "# Help your data science instructor out! Calculate Z-statistic and p-value for me! Conclusion of test?\n",
    "mu=2.13\n",
    "z=(mu-mu_0)/((sigma)/np.sqrt(150))\n",
    "z\n"
   ]
  },
  {
   "cell_type": "code",
   "execution_count": 319,
   "metadata": {
    "slideshow": {
     "slide_type": "slide"
    }
   },
   "outputs": [
    {
     "data": {
      "text/plain": [
       "0.12819719524606327"
      ]
     },
     "execution_count": 319,
     "metadata": {},
     "output_type": "execute_result"
    }
   ],
   "source": [
    "norm.sf(z)"
   ]
  },
  {
   "cell_type": "markdown",
   "metadata": {
    "slideshow": {
     "slide_type": "slide"
    }
   },
   "source": [
    "#### The two-tailed test"
   ]
  },
  {
   "cell_type": "markdown",
   "metadata": {
    "slideshow": {
     "slide_type": "slide"
    }
   },
   "source": [
    "I'm skeptical of all these website variants floating around. But still let's test the notion that a given variant is different.\n",
    "\n",
    "**Hypothesis**: New website design changes visit frequency per user per day from site A design. \n",
    "- Yes or no?"
   ]
  },
  {
   "cell_type": "markdown",
   "metadata": {
    "slideshow": {
     "slide_type": "slide"
    }
   },
   "source": [
    "After new site rollout:\n",
    "    \n",
    "- Take sample of N = 150 and get sample mean $\\bar{X}_1 = 2.3$"
   ]
  },
  {
   "cell_type": "markdown",
   "metadata": {
    "slideshow": {
     "slide_type": "subslide"
    }
   },
   "source": [
    "Test at Significance level of $\\alpha = 0.05$:\n",
    " - Reject null if:\n",
    "    - Our sample mean lies outside the 95% confidence interval of means sampled from null population.\n",
    " - Else: \n",
    "     - Do not reject null."
   ]
  },
  {
   "cell_type": "code",
   "execution_count": 219,
   "metadata": {
    "slideshow": {
     "slide_type": "skip"
    }
   },
   "outputs": [],
   "source": [
    "%%capture two_tail_alpha\n",
    "x_scaled = np.linspace(-5,5,200)\n",
    "Y_scaled = norm.pdf(x_scaled, loc = 0, scale = 1)\n",
    "\n",
    "fig, ax = plt.subplots(1,2, figsize = (12,4))\n",
    "\n",
    "ax[0].plot(x_scaled, Y_scaled, c ='r', linewidth = 3)\n",
    "ax[0].axvline(-1.96, c = 'b')\n",
    "ax[0].axvline(1.96, c = 'b')\n",
    "ax[0].fill_between(x_scaled, Y_scaled, where = (x_scaled > 1.96), alpha = 0.5, color='b')\n",
    "ax[0].fill_between(x_scaled, Y_scaled, where = (x_scaled < -1.96 ), alpha = 0.5, color='b')\n",
    "\n",
    "ax[0].annotate(r'$\\frac{\\alpha}{2}$ = 0.025', xytext = (2.5,.1), xy = (2.2,.01), fontsize=16, arrowprops=dict(facecolor='b', shrink=0.05), c ='b' )\n",
    "ax[0].set_xlabel('Z')\n",
    "ax[0].set_ylabel('PDF')\n",
    "ax[0].set_title('Two-Tailed Test')\n",
    "\n",
    "ax[1].plot(x_scaled, Y_scaled, c ='r', linewidth = 3)\n",
    "ax[1].axvline(-1.96, c = 'b')\n",
    "ax[1].axvline(1.96, c = 'b')\n",
    "\n",
    "ax[1].fill_between(x_scaled, Y_scaled, where = (x_scaled > -1.96 )& (x_scaled < 1.96), alpha = 0.5, color='r')\n",
    "\n",
    "\n",
    "ax[1].annotate('c = 0.95', xytext = (-5.0,.25), xy = (-.5,.20), fontsize=16, arrowprops=dict(facecolor='r', shrink=0.05), c ='r' )\n",
    "ax[1].set_xlabel('Z')\n",
    "ax[1].set_ylabel('PDF')\n",
    "ax[1].set_title('Two-Tailed Test')\n",
    "plt.show()"
   ]
  },
  {
   "cell_type": "code",
   "execution_count": 221,
   "metadata": {
    "cell_style": "center",
    "slideshow": {
     "slide_type": "subslide"
    }
   },
   "outputs": [
    {
     "data": {
      "image/png": "[encoded data removed]",
      "text/plain": [
       "<Figure size 864x288 with 2 Axes>"
      ]
     },
     "metadata": {
      "needs_background": "light"
     },
     "output_type": "display_data"
    }
   ],
   "source": [
    "two_tail_alpha()"
   ]
  },
  {
   "cell_type": "markdown",
   "metadata": {
    "cell_style": "split",
    "slideshow": {
     "slide_type": "fragment"
    }
   },
   "source": [
    "**Corresponds** to $Z_{crit} = \\pm 1.96$\n",
    "\n"
   ]
  },
  {
   "cell_type": "markdown",
   "metadata": {
    "cell_style": "split",
    "slideshow": {
     "slide_type": "fragment"
    }
   },
   "source": [
    "If $|Z| > 1.96$, reject the null."
   ]
  },
  {
   "cell_type": "markdown",
   "metadata": {
    "cell_style": "split",
    "slideshow": {
     "slide_type": "slide"
    }
   },
   "source": [
    "Again:\n",
    "    \n",
    "- Took sample of N = 150 and get sample mean $\\bar{X}_1 = 2.3$\n",
    "- Test against null."
   ]
  },
  {
   "cell_type": "code",
   "execution_count": 320,
   "metadata": {
    "cell_style": "split",
    "slideshow": {
     "slide_type": "fragment"
    }
   },
   "outputs": [
    {
     "data": {
      "text/plain": [
       "1.998976"
      ]
     },
     "execution_count": 320,
     "metadata": {},
     "output_type": "execute_result"
    }
   ],
   "source": [
    "mu_0"
   ]
  },
  {
   "cell_type": "code",
   "execution_count": 321,
   "metadata": {
    "cell_style": "split",
    "slideshow": {
     "slide_type": "fragment"
    }
   },
   "outputs": [
    {
     "data": {
      "text/plain": [
       "1.4133728989279508"
      ]
     },
     "execution_count": 321,
     "metadata": {},
     "output_type": "execute_result"
    }
   ],
   "source": [
    "population_sigma"
   ]
  },
  {
   "cell_type": "code",
   "execution_count": 323,
   "metadata": {
    "slideshow": {
     "slide_type": "fragment"
    }
   },
   "outputs": [
    {
     "data": {
      "text/plain": [
       "2.6084949021268544"
      ]
     },
     "execution_count": 323,
     "metadata": {},
     "output_type": "execute_result"
    }
   ],
   "source": [
    "# Help your data science instructor out! Get the Z-value for me!\n",
    "Z = (2.3 - mu_0)/((population_sigma)/np.sqrt(150))\n",
    "Z"
   ]
  },
  {
   "cell_type": "markdown",
   "metadata": {},
   "source": [
    "Outside of critical region?"
   ]
  },
  {
   "cell_type": "markdown",
   "metadata": {
    "slideshow": {
     "slide_type": "slide"
    }
   },
   "source": [
    "Calculating p-value of the two-sided test."
   ]
  },
  {
   "cell_type": "code",
   "execution_count": 272,
   "metadata": {
    "slideshow": {
     "slide_type": "skip"
    }
   },
   "outputs": [],
   "source": [
    "%%capture two_tail_alpha_withZ\n",
    "x_scaled = np.linspace(-5,5,200)\n",
    "Y_scaled = norm.pdf(x_scaled, loc = 0, scale = 1)\n",
    "\n",
    "fig, ax = plt.subplots()\n",
    "\n",
    "ax.plot(x_scaled, Y_scaled, c ='r', linewidth = 3)\n",
    "ax.axvline(-1.96, c = 'b', linestyle = '--')\n",
    "ax.axvline(1.96, c = 'b', linestyle = '--')\n",
    "Zed = (2.3 - mu_0)/(population_sigma/np.sqrt(N))\n",
    "ax.axvline(- Zed, c = 'lightgreen')\n",
    "ax.axvline(+ Zed, c = 'g')\n",
    "\n",
    "\n",
    "ax.fill_between(x_scaled, Y_scaled, where = (x_scaled > 1.96), alpha = 0.5, color='lightsteelblue')\n",
    "ax.fill_between(x_scaled, Y_scaled, where = (x_scaled < -1.96 ), alpha = 0.5, color='lightsteelblue')\n",
    "\n",
    "ax.fill_between(x_scaled, Y_scaled, where = (x_scaled > Zed), alpha = 0.5, color='g')\n",
    "ax.fill_between(x_scaled, Y_scaled, where = (x_scaled < -Zed ), alpha = 0.5, color='g')\n",
    "\n",
    "ax.annotate('+Z', xy = (+3,.35), fontsize=16,  c ='g' )\n",
    "ax.annotate('-Z', xy = (-3.5,.35), fontsize=16, c ='lightgreen' )\n",
    "\n",
    "ax.annotate(r'$\\frac{\\alpha}{2}$ = 0.025', xytext = (2.5,.1), xy = (2.2,.01), fontsize=16, arrowprops=dict(facecolor='b', shrink=0.05), c ='b' )\n",
    "ax.set_xlabel('Z')\n",
    "ax.set_ylabel('PDF')\n",
    "ax.set_title('Two-Tailed Test')\n",
    "\n",
    "plt.show()"
   ]
  },
  {
   "cell_type": "code",
   "execution_count": 273,
   "metadata": {
    "cell_style": "split",
    "slideshow": {
     "slide_type": "slide"
    }
   },
   "outputs": [
    {
     "data": {
      "image/png": "[encoded data removed]",
      "text/plain": [
       "<Figure size 432x288 with 1 Axes>"
      ]
     },
     "metadata": {
      "needs_background": "light"
     },
     "output_type": "display_data"
    }
   ],
   "source": [
    "two_tail_alpha_withZ()"
   ]
  },
  {
   "cell_type": "markdown",
   "metadata": {
    "cell_style": "split"
   },
   "source": [
    "#### Green area is p-value for 2-sided Z test."
   ]
  },
  {
   "cell_type": "code",
   "execution_count": 324,
   "metadata": {
    "slideshow": {
     "slide_type": "fragment"
    }
   },
   "outputs": [
    {
     "data": {
      "text/plain": [
       "0.009094136630456957"
      ]
     },
     "execution_count": 324,
     "metadata": {},
     "output_type": "execute_result"
    }
   ],
   "source": [
    "# evaluate p-value for the two sided test?\n",
    "p_val_two_sided = norm.cdf(-Z, loc = 0, scale = 1) + norm.sf(+Z, loc = 0, scale = 1)\n",
    "p_val_two_sided"
   ]
  },
  {
   "cell_type": "markdown",
   "metadata": {
    "cell_style": "center",
    "slideshow": {
     "slide_type": "slide"
    }
   },
   "source": [
    "#### Summary of hypotheses, tests, $Z_{crit}$ at $\\alpha = 0.05$:\n",
    "\n",
    "Is sample drawn from population with unknown $\\mu_1$ where:\n",
    "\n",
    "\n",
    "| Hypothesis | Test Type | $Z_{crit}$ |\n",
    "\n",
    "|$ \\mu_{1} <  \\mu_0$ ? | Left tailed | -1.645 |\n",
    "\n",
    "|$ \\mu_{1} >  \\mu_0$ ? | Right tailed | +1.645 |\n",
    "\n",
    "|$ \\mu_{1} \\neq  \\mu_0$ ? | Two tailed | $\\pm1.96$ |\n",
    "\n",
    "\n"
   ]
  },
  {
   "cell_type": "markdown",
   "metadata": {
    "slideshow": {
     "slide_type": "slide"
    }
   },
   "source": [
    "Often though asking a question:\n",
    "- Have a sample and sample mean.\n",
    "- Want to evaluate whether different from a **given** population mean.\n",
    "- Assume sample standard deviation approximately is population std given $N$ large enough:\n",
    "    - $s \\approx \\sigma$\n",
    "\n",
    "- Ask whether sample mean could have come from assumed population mean?\n"
   ]
  },
  {
   "cell_type": "code",
   "execution_count": 325,
   "metadata": {
    "cell_style": "split",
    "slideshow": {
     "slide_type": "slide"
    }
   },
   "outputs": [
    {
     "data": {
      "text/plain": [
       "array([1, 4, 2, 0, 3, 1, 2, 1, 2, 2, 1, 1, 0, 1, 3, 2, 1, 3, 0, 0, 1, 1,\n",
       "       1, 1, 2, 2, 2, 2, 2, 1, 4, 1, 1, 4, 0, 4, 2, 1, 1, 1, 0, 1, 1, 2,\n",
       "       1, 1, 1, 1, 1, 1, 0, 0, 1, 1, 1, 2, 1, 2, 2, 1, 1, 1, 2, 0, 1, 2,\n",
       "       3, 2, 5, 2, 1, 4, 2, 0, 1, 1, 0, 3, 1, 2, 0, 2, 1, 2, 3, 2, 1, 1,\n",
       "       1, 1, 5, 1, 1, 0, 1, 4, 0, 0, 1, 2, 3, 1, 1, 2, 3, 2, 1, 2, 3, 1,\n",
       "       3, 2, 2, 2, 3, 2, 3, 0, 1, 1, 3, 1, 3, 1, 0, 2, 3, 2, 1, 1, 1, 0,\n",
       "       2, 2, 1, 0, 1, 1, 3, 0, 1, 1, 1, 3, 0, 4, 1, 1, 2, 2])"
      ]
     },
     "execution_count": 325,
     "metadata": {},
     "output_type": "execute_result"
    }
   ],
   "source": [
    "sample_with_site_B"
   ]
  },
  {
   "cell_type": "code",
   "execution_count": 326,
   "metadata": {
    "cell_style": "split"
   },
   "outputs": [
    {
     "data": {
      "text/plain": [
       "1.5333333333333334"
      ]
     },
     "execution_count": 326,
     "metadata": {},
     "output_type": "execute_result"
    }
   ],
   "source": [
    "sample_with_site_B.mean()"
   ]
  },
  {
   "cell_type": "markdown",
   "metadata": {
    "cell_style": "split",
    "slideshow": {
     "slide_type": "slide"
    }
   },
   "source": [
    "- Is our sample showing that population mean is now different than 2?"
   ]
  },
  {
   "cell_type": "markdown",
   "metadata": {
    "slideshow": {
     "slide_type": "slide"
    }
   },
   "source": [
    "Z-test:\n",
    "- tests sample mean $X_1$ of sample with size N against probability:\n",
    "    - of drawing random sample means $\\bar{X}$ of size N from population with mean 2.\n",
    "    \n",
    "- $H_0$: $\\mu = 2$ <br>\n",
    "- $H_a$: $\\mu \\neq 2$\n"
   ]
  },
  {
   "cell_type": "markdown",
   "metadata": {
    "slideshow": {
     "slide_type": "slide"
    }
   },
   "source": [
    "Can do this again manually, but we'll use a nice package for this:"
   ]
  },
  {
   "cell_type": "code",
   "execution_count": 327,
   "metadata": {
    "slideshow": {
     "slide_type": "fragment"
    }
   },
   "outputs": [],
   "source": [
    "# import the ztest module from statsmodels\n",
    "\n",
    "from statsmodels.stats.weightstats import ztest"
   ]
  },
  {
   "cell_type": "markdown",
   "metadata": {
    "cell_style": "center",
    "slideshow": {
     "slide_type": "slide"
    }
   },
   "source": [
    "My hypothesis for sample B is:\n",
    "\n",
    "- I believe this sample mean is drawn from a population mean not equal to 2. Yes or no?\n",
    "\n",
    "$H_0$ is $\\mu = 2$. <br>\n",
    "$H_a$ is $\\mu \\neq 2$."
   ]
  },
  {
   "cell_type": "markdown",
   "metadata": {
    "slideshow": {
     "slide_type": "slide"
    }
   },
   "source": [
    "#### Perform two sided test with statsmodels\n",
    "\n",
    "- can input sample list directly and population mean we are comparing to:\n",
    "\n",
    "ztest(sample, value = mean, alternative = __)"
   ]
  },
  {
   "cell_type": "code",
   "execution_count": 328,
   "metadata": {
    "cell_style": "center",
    "slideshow": {
     "slide_type": "fragment"
    }
   },
   "outputs": [
    {
     "name": "stdout",
     "output_type": "stream",
     "text": [
      "-5.209727818276155 1.8911786166209446e-07\n"
     ]
    }
   ],
   "source": [
    "Z_score, pval = ztest(sample_with_site_B, value = 2, alternative='two-sided')\n",
    "print(Z_score, pval)"
   ]
  },
  {
   "cell_type": "markdown",
   "metadata": {
    "slideshow": {
     "slide_type": "slide"
    }
   },
   "source": [
    "#### Doing a left sided test \n",
    "My hypothesis for sample B is:\n",
    "\n",
    "- I believe this sample mean is drawn from a population mean less than 2. Yes or no?\n",
    "\n",
    "$H_0$ is $\\mu = 2$. <br>\n",
    "$H_a$ is $\\mu < 2$."
   ]
  },
  {
   "cell_type": "code",
   "execution_count": 329,
   "metadata": {
    "slideshow": {
     "slide_type": "fragment"
    }
   },
   "outputs": [
    {
     "data": {
      "text/plain": [
       "(-5.209727818276155, 9.455893083104723e-08)"
      ]
     },
     "execution_count": 329,
     "metadata": {},
     "output_type": "execute_result"
    }
   ],
   "source": [
    "ztest(sample_with_site_B, value = 2, alternative='smaller')"
   ]
  }
 ],
 "metadata": {
  "celltoolbar": "Slideshow",
  "kernelspec": {
   "display_name": "Python 3",
   "language": "python",
   "name": "python3"
  },
  "language_info": {
   "codemirror_mode": {
    "name": "ipython",
    "version": 3
   },
   "file_extension": ".py",
   "mimetype": "text/x-python",
   "name": "python",
   "nbconvert_exporter": "python",
   "pygments_lexer": "ipython3",
   "version": "3.8.5"
  }
 },
 "nbformat": 4,
 "nbformat_minor": 4
}
