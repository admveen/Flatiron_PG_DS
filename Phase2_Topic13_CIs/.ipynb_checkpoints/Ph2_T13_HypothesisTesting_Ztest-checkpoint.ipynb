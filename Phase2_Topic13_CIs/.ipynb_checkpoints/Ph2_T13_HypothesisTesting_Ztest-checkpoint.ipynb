{
 "cells": [
  {
   "cell_type": "markdown",
   "metadata": {
    "cell_style": "center",
    "slideshow": {
     "slide_type": "slide"
    }
   },
   "source": [
    "<div style=\"color:white;\n",
    "           display:fill;\n",
    "           border-radius:5px;\n",
    "           background-color:#5642C5;\n",
    "           font-size:200%;\n",
    "           font-family:Arial;letter-spacing:0.5px\">\n",
    "\n",
    "<p width = 20%, style=\"padding: 10px;\n",
    "              color:white;\">\n",
    "Hypothesis Testing and Z-tests (Part I)\n",
    "              \n",
    "</p>\n",
    "</div>\n",
    "\n",
    "Data Science Cohort Live NYC Feb 2022\n",
    "<p>Phase 2: Topic 13</p>\n",
    "<br>\n",
    "<br>\n",
    "\n",
    "<div align = \"right\">\n",
    "<img src=\"Images/flatiron-school-logo.png\" align = \"right\" width=\"200\"/>\n",
    "</div>\n",
    "    \n",
    "    "
   ]
  },
  {
   "cell_type": "markdown",
   "metadata": {
    "slideshow": {
     "slide_type": "slide"
    }
   },
   "source": [
    "#### Statistical hypothesis Testing: general framework\n",
    "- Make a proposition about the world.\n",
    "    - That proposition or *hypothesis* must make a claim about the parameters of a population or a set of populations.\n",
    "    \n"
   ]
  },
  {
   "cell_type": "markdown",
   "metadata": {
    "slideshow": {
     "slide_type": "fragment"
    }
   },
   "source": [
    "If above not satisfied: \n",
    "- not really a question that can be answered with data acquisition/experimentation."
   ]
  },
  {
   "cell_type": "markdown",
   "metadata": {
    "slideshow": {
     "slide_type": "slide"
    }
   },
   "source": [
    "#### Examples\n",
    "\n",
    "- Hypothesis: the mass of the southern Koalas is larger than that of the northern Koala. Yes or no?\n",
    "\n",
    "<center><img src = \"Images/southnorthkoala.jpg\" width = 400 /></center>\n",
    "<center>Freak coincidence or example of real difference?</center>"
   ]
  },
  {
   "cell_type": "markdown",
   "metadata": {
    "slideshow": {
     "slide_type": "slide"
    }
   },
   "source": [
    "- CBD helps reduce anxiety. Yes or no?\n",
    "<br><br>\n",
    "    <center><img src = \"Images/hemp.jpg\" width = 400 /></center>\n"
   ]
  },
  {
   "cell_type": "markdown",
   "metadata": {
    "slideshow": {
     "slide_type": "fragment"
    }
   },
   "source": [
    "How do I make this statement more precise?\n"
   ]
  },
  {
   "cell_type": "markdown",
   "metadata": {
    "slideshow": {
     "slide_type": "slide"
    }
   },
   "source": [
    "- What do I measure?\n",
    "    - Questionnaire/survey?\n",
    "    - Cortisol levels?\n",
    "- Whats the population(s)?\n",
    "\n",
    "**Experimental design**: We'll get into all this more during A/B testing. "
   ]
  },
  {
   "cell_type": "markdown",
   "metadata": {
    "slideshow": {
     "slide_type": "slide"
    }
   },
   "source": [
    "*More precise formulation*:\n",
    "\n",
    "The level of cortisol levels in humans treated with CBD is, on average, lower than those who have not undergone treatment. \n",
    "\n",
    "Yes or no?"
   ]
  },
  {
   "cell_type": "markdown",
   "metadata": {
    "slideshow": {
     "slide_type": "slide"
    }
   },
   "source": [
    "- This peak is not noise. True or false?\n",
    "\n",
    "<center><img src = \"Images/peakvsnoise.jpg\" width = 400 /></center>\n",
    "<center>Real peak or fluctuation associated with noise?</center>\n",
    "\n",
    "Compare the peak value with the statistics of the noise floor (our population)."
   ]
  },
  {
   "cell_type": "markdown",
   "metadata": {
    "slideshow": {
     "slide_type": "slide"
    }
   },
   "source": [
    "#### Role of Hypothesis in Data Science"
   ]
  },
  {
   "cell_type": "markdown",
   "metadata": {
    "slideshow": {
     "slide_type": "subslide"
    }
   },
   "source": [
    "\n",
    "\n",
    "- Conducting User Experience (UX) trials of websites/data products.\n",
    "\n",
    "<center><img src = \"Images/UX.jpg\" width = 500 /></center>\n"
   ]
  },
  {
   "cell_type": "markdown",
   "metadata": {
    "slideshow": {
     "slide_type": "subslide"
    }
   },
   "source": [
    "Two sets of users drawn randomly:\n",
    "\n",
    "- Give survey or measure engagement by click rate or site visits\n",
    "\n",
    "**Hypothesis**: (Metric for user engagement) is higher for users who used version B vs version A. \n",
    "\n",
    "- Yes or no?"
   ]
  },
  {
   "cell_type": "markdown",
   "metadata": {
    "slideshow": {
     "slide_type": "slide"
    }
   },
   "source": [
    "#### Other reasons for hypothesis testing in data science\n",
    "\n",
    "- We get data. Want to pump it into a predictive Machine Learning model.\n",
    "- But, may want to understand the *structure* of the data first."
   ]
  },
  {
   "cell_type": "markdown",
   "metadata": {
    "cell_style": "split",
    "slideshow": {
     "slide_type": "slide"
    }
   },
   "source": [
    "#### What does structure mean?\n",
    "\n",
    "- Are there meaningful groupings in the data?\n",
    "    - Difference in the survival rate on the Titanic based on sex? \n",
    "    - Based on sex and class?\n",
    "    "
   ]
  },
  {
   "cell_type": "markdown",
   "metadata": {
    "cell_style": "split"
   },
   "source": [
    "<center><img src = \"Images/titanic.jpg\" width = 300 /></center>\n",
    "<center> <i>Titanic</i> <center>"
   ]
  },
  {
   "cell_type": "markdown",
   "metadata": {
    "slideshow": {
     "slide_type": "subslide"
    }
   },
   "source": [
    "\n",
    "- Does the age of a given group in our data follow a normal distribution?"
   ]
  },
  {
   "cell_type": "markdown",
   "metadata": {
    "cell_style": "center",
    "slideshow": {
     "slide_type": "slide"
    }
   },
   "source": [
    "Can certainly use visual exploratory data analysis:\n",
    "- But also may want to or *need* to construct a rigorous hypothesis tests.\n",
    "- Particularly in datasets that are a sample of a much larger population."
   ]
  },
  {
   "cell_type": "code",
   "execution_count": 387,
   "metadata": {
    "slideshow": {
     "slide_type": "skip"
    }
   },
   "outputs": [],
   "source": [
    "import numpy as np\n",
    "from scipy.stats import norm\n",
    "import pandas as pd\n",
    "import matplotlib.pyplot as plt\n",
    "from numpy.random import choice\n",
    "height_list = norm.rvs(loc = 80, scale = 30, size = 150)\n"
   ]
  },
  {
   "cell_type": "markdown",
   "metadata": {
    "cell_style": "center",
    "slideshow": {
     "slide_type": "slide"
    }
   },
   "source": [
    "- E.g., is this data of heights drawn from a population with a normal distribution or not? \n"
   ]
  },
  {
   "cell_type": "code",
   "execution_count": 388,
   "metadata": {
    "cell_style": "center",
    "scrolled": true,
    "slideshow": {
     "slide_type": "subslide"
    }
   },
   "outputs": [
    {
     "data": {
      "image/png": "[encoded data removed]",
      "text/plain": [
       "<Figure size 432x288 with 1 Axes>"
      ]
     },
     "metadata": {
      "needs_background": "light"
     },
     "output_type": "display_data"
    }
   ],
   "source": [
    "plt.hist(height_list)\n",
    "plt.ylabel('Count')\n",
    "plt.xlabel('Height List')\n",
    "plt.title('Distribution of heights')\n",
    "plt.show()"
   ]
  },
  {
   "cell_type": "markdown",
   "metadata": {
    "slideshow": {
     "slide_type": "subslide"
    }
   },
   "source": [
    "May want to have a rigorous test in the face of ambiguity."
   ]
  },
  {
   "cell_type": "markdown",
   "metadata": {
    "slideshow": {
     "slide_type": "slide"
    }
   },
   "source": [
    "#### The actual flow of hypothesis testing\n",
    "\n",
    "1. State null and alternative hypthesis\n",
    "2. Specify significance level ($\\alpha$)\n",
    "3. Calculate test statistic (e.g., z-statistic)\n",
    "4. Calculate p-value\n",
    "5. Interpret p-value (reject or fail to reject the null hypothesis)\n"
   ]
  },
  {
   "cell_type": "markdown",
   "metadata": {
    "slideshow": {
     "slide_type": "slide"
    }
   },
   "source": [
    "#### Step 1: State null hypothesis and the alternative hypothesis"
   ]
  },
  {
   "cell_type": "markdown",
   "metadata": {
    "cell_style": "split",
    "slideshow": {
     "slide_type": "slide"
    }
   },
   "source": [
    "All our proposals and questions asked in a specific way.\n",
    "\n",
    "Management decided to change site from version A to B.\n",
    "\n",
    "- Site visit frequency/day higher for users who used version B vs version A. \n",
    "- Yes or No?"
   ]
  },
  {
   "cell_type": "markdown",
   "metadata": {
    "cell_style": "split",
    "slideshow": {
     "slide_type": "fragment"
    }
   },
   "source": [
    "- **Null hypothesis** = No: $H_0$\n",
    "- **Alternative hypothesis** = Yes: $H_a$"
   ]
  },
  {
   "cell_type": "markdown",
   "metadata": {
    "slideshow": {
     "slide_type": "slide"
    }
   },
   "source": [
    "Now we assume for *hypothesis test* that the null is true.\n",
    "\n",
    "- Ask how probable is the new visit frequency given that the null is true?"
   ]
  },
  {
   "cell_type": "markdown",
   "metadata": {
    "slideshow": {
     "slide_type": "subslide"
    }
   },
   "source": [
    "\n",
    "- Collect data of site visit frequency on website with version B.\n",
    "\n",
    "- How probable is the new frequency that the null is true?\n",
    "    - I.e. how probable is the new frequency given drawn from website with version A (no change)?\n",
    "    - We have population data or a distribution for version A."
   ]
  },
  {
   "cell_type": "markdown",
   "metadata": {
    "slideshow": {
     "slide_type": "slide"
    }
   },
   "source": [
    "- We have population data or a distribution for version A.\n",
    "    - How *probable* is the new mean site visit frequency (or greater than this) **under assumption version A is still in comission**\n",
    "    - Call this p-value\n"
   ]
  },
  {
   "cell_type": "markdown",
   "metadata": {
    "slideshow": {
     "slide_type": "slide"
    }
   },
   "source": [
    "#### Step 2. Specify significance level ($\\alpha$)"
   ]
  },
  {
   "cell_type": "markdown",
   "metadata": {
    "slideshow": {
     "slide_type": "subslide"
    }
   },
   "source": [
    "Set a threshold for rejecting $H_0$:\n",
    "- *Probability* new mean site visit frequency (or greater than this) **under assumption version A is still in comission**\n",
    "- Less than $\\alpha$\n",
    "\n",
    "I.e.:\n",
    "\n",
    "p-value < $\\alpha$:\n",
    "- Then reject the null."
   ]
  },
  {
   "cell_type": "markdown",
   "metadata": {},
   "source": [
    "For sampling distribution of mean (normal):"
   ]
  },
  {
   "cell_type": "markdown",
   "metadata": {
    "slideshow": {
     "slide_type": "subslide"
    }
   },
   "source": [
    "#### Our case:\n",
    "\n",
    "$ \\alpha = 0.05 $ arbitrary but standard in many communities.\n",
    "\n",
    "So $ p \\leq 0.05 $ reject the null."
   ]
  },
  {
   "cell_type": "markdown",
   "metadata": {
    "slideshow": {
     "slide_type": "slide"
    }
   },
   "source": [
    "#### Step 3. Calculate test statistic\n",
    "\n",
    "- The test statistic here would be:\n",
    "    - the mean of our sample OR\n",
    "    - mean shifted/rescaled to population mean/standard deviation (Z-statistic)"
   ]
  },
  {
   "cell_type": "code",
   "execution_count": 353,
   "metadata": {
    "slideshow": {
     "slide_type": "skip"
    }
   },
   "outputs": [],
   "source": [
    "from scipy.stats import poisson\n",
    "populationA_visits_per_day = poisson.rvs(mu = 2, size = 500000)\n",
    "populationB_visits_per_day = poisson.rvs(mu = 2.2, size = 200)\n",
    "\n",
    "popA = pd.DataFrame({'visits/day': populationA_visits_per_day })\n",
    "popB = pd.DataFrame({'visits/day': populationB_visits_per_day })"
   ]
  },
  {
   "cell_type": "markdown",
   "metadata": {
    "slideshow": {
     "slide_type": "slide"
    }
   },
   "source": [
    "#### Have a lot of data for visits per day before site change:"
   ]
  },
  {
   "cell_type": "code",
   "execution_count": 354,
   "metadata": {
    "cell_style": "split"
   },
   "outputs": [
    {
     "data": {
      "text/html": [
       "<div>\n",
       "<style scoped>\n",
       "    .dataframe tbody tr th:only-of-type {\n",
       "        vertical-align: middle;\n",
       "    }\n",
       "\n",
       "    .dataframe tbody tr th {\n",
       "        vertical-align: top;\n",
       "    }\n",
       "\n",
       "    .dataframe thead th {\n",
       "        text-align: right;\n",
       "    }\n",
       "</style>\n",
       "<table border=\"1\" class=\"dataframe\">\n",
       "  <thead>\n",
       "    <tr style=\"text-align: right;\">\n",
       "      <th></th>\n",
       "      <th>visits/day</th>\n",
       "    </tr>\n",
       "  </thead>\n",
       "  <tbody>\n",
       "    <tr>\n",
       "      <th>0</th>\n",
       "      <td>3</td>\n",
       "    </tr>\n",
       "    <tr>\n",
       "      <th>1</th>\n",
       "      <td>5</td>\n",
       "    </tr>\n",
       "    <tr>\n",
       "      <th>2</th>\n",
       "      <td>4</td>\n",
       "    </tr>\n",
       "    <tr>\n",
       "      <th>3</th>\n",
       "      <td>2</td>\n",
       "    </tr>\n",
       "    <tr>\n",
       "      <th>4</th>\n",
       "      <td>0</td>\n",
       "    </tr>\n",
       "  </tbody>\n",
       "</table>\n",
       "</div>"
      ],
      "text/plain": [
       "   visits/day\n",
       "0           3\n",
       "1           5\n",
       "2           4\n",
       "3           2\n",
       "4           0"
      ]
     },
     "execution_count": 354,
     "metadata": {},
     "output_type": "execute_result"
    }
   ],
   "source": [
    "popA.head()"
   ]
  },
  {
   "cell_type": "code",
   "execution_count": 355,
   "metadata": {
    "cell_style": "split"
   },
   "outputs": [
    {
     "name": "stdout",
     "output_type": "stream",
     "text": [
      "<class 'pandas.core.frame.DataFrame'>\n",
      "RangeIndex: 500000 entries, 0 to 499999\n",
      "Data columns (total 1 columns):\n",
      " #   Column      Non-Null Count   Dtype\n",
      "---  ------      --------------   -----\n",
      " 0   visits/day  500000 non-null  int32\n",
      "dtypes: int32(1)\n",
      "memory usage: 1.9 MB\n"
     ]
    }
   ],
   "source": [
    "popA.info()"
   ]
  },
  {
   "cell_type": "markdown",
   "metadata": {
    "slideshow": {
     "slide_type": "slide"
    }
   },
   "source": [
    "#### Plot histogram of population data:\n"
   ]
  },
  {
   "cell_type": "code",
   "execution_count": 357,
   "metadata": {
    "cell_style": "center",
    "slideshow": {
     "slide_type": "fragment"
    }
   },
   "outputs": [
    {
     "data": {
      "image/png": "[encoded data removed]",
      "text/plain": [
       "<Figure size 432x288 with 1 Axes>"
      ]
     },
     "metadata": {
      "needs_background": "light"
     },
     "output_type": "display_data"
    }
   ],
   "source": [
    "plt.hist(popA['visits/day'])\n",
    "plt.ylabel('Count')\n",
    "plt.xlabel('Visits/day')\n",
    "plt.title('Site Version A: Daily visit count instances')\n",
    "plt.show()"
   ]
  },
  {
   "cell_type": "markdown",
   "metadata": {
    "slideshow": {
     "slide_type": "slide"
    }
   },
   "source": [
    "Clearly, not normally distributed:"
   ]
  },
  {
   "cell_type": "code",
   "execution_count": 358,
   "metadata": {
    "cell_style": "split",
    "slideshow": {
     "slide_type": "fragment"
    }
   },
   "outputs": [
    {
     "data": {
      "text/plain": [
       "visits/day    2.001856\n",
       "dtype: float64"
      ]
     },
     "execution_count": 358,
     "metadata": {},
     "output_type": "execute_result"
    }
   ],
   "source": [
    "# Have mean:\n",
    "popA.mean()"
   ]
  },
  {
   "cell_type": "code",
   "execution_count": 359,
   "metadata": {
    "cell_style": "split",
    "slideshow": {
     "slide_type": "fragment"
    }
   },
   "outputs": [
    {
     "data": {
      "text/plain": [
       "visits/day    1.415311\n",
       "dtype: float64"
      ]
     },
     "execution_count": 359,
     "metadata": {},
     "output_type": "execute_result"
    }
   ],
   "source": [
    "# Has standard deviation:\n",
    "popA.std()"
   ]
  },
  {
   "cell_type": "markdown",
   "metadata": {
    "slideshow": {
     "slide_type": "slide"
    }
   },
   "source": [
    "Now we have our sample of site visits after rollout of site B:"
   ]
  },
  {
   "cell_type": "code",
   "execution_count": 360,
   "metadata": {
    "cell_style": "split",
    "scrolled": false,
    "slideshow": {
     "slide_type": "slide"
    }
   },
   "outputs": [
    {
     "name": "stdout",
     "output_type": "stream",
     "text": [
      "<class 'pandas.core.frame.DataFrame'>\n",
      "RangeIndex: 200 entries, 0 to 199\n",
      "Data columns (total 1 columns):\n",
      " #   Column      Non-Null Count  Dtype\n",
      "---  ------      --------------  -----\n",
      " 0   visits/day  200 non-null    int32\n",
      "dtypes: int32(1)\n",
      "memory usage: 928.0 bytes\n"
     ]
    }
   ],
   "source": [
    "popB.info()"
   ]
  },
  {
   "cell_type": "code",
   "execution_count": 361,
   "metadata": {
    "cell_style": "split",
    "slideshow": {
     "slide_type": "subslide"
    }
   },
   "outputs": [
    {
     "data": {
      "text/plain": [
       "visits/day    2.235\n",
       "dtype: float64"
      ]
     },
     "execution_count": 361,
     "metadata": {},
     "output_type": "execute_result"
    }
   ],
   "source": [
    "popB.mean()"
   ]
  },
  {
   "cell_type": "markdown",
   "metadata": {
    "slideshow": {
     "slide_type": "slide"
    }
   },
   "source": [
    "Probability of mean of population B given:\n",
    "- **Null hypothesis**:\n",
    "    - statistics of mean of samples \n",
    "    - drawn from site visit frequency for site A \n",
    "    - with size N = 200:\n",
    "\n",
    "I.e. is this sample mean possible if I drew samples of user interactions with previous site?"
   ]
  },
  {
   "cell_type": "markdown",
   "metadata": {
    "slideshow": {
     "slide_type": "slide"
    }
   },
   "source": [
    "Look at the distribution of means from 100,000 samples with N = 200 assuming null:"
   ]
  },
  {
   "cell_type": "code",
   "execution_count": 362,
   "metadata": {
    "slideshow": {
     "slide_type": "subslide"
    }
   },
   "outputs": [],
   "source": [
    "num_trials = 100000\n",
    "\n",
    "Nsample_trial_list =  [choice(popA['visits/day'], size = 200 ).mean() for trials in range(num_trials)]    "
   ]
  },
  {
   "cell_type": "code",
   "execution_count": 363,
   "metadata": {
    "cell_style": "center",
    "slideshow": {
     "slide_type": "subslide"
    }
   },
   "outputs": [
    {
     "data": {
      "image/png": "[encoded data removed]",
      "text/plain": [
       "<Figure size 432x288 with 1 Axes>"
      ]
     },
     "metadata": {
      "needs_background": "light"
     },
     "output_type": "display_data"
    }
   ],
   "source": [
    "plt.hist(Nsample_trial_list, bins = 30, density = True)\n",
    "plt.xlabel('Site visits/day for user: means')\n",
    "plt.ylabel('Normalized count')\n",
    "plt.title('Mean of samples: N=200')\n",
    "plt.show()"
   ]
  },
  {
   "cell_type": "code",
   "execution_count": 364,
   "metadata": {
    "cell_style": "center",
    "slideshow": {
     "slide_type": "subslide"
    }
   },
   "outputs": [],
   "source": [
    "x_range = np.linspace(1.5,2.5, 100)\n",
    "mu = popA['visits/day'].mean()\n",
    "samplemean_std = popA['visits/day'].std() / np.sqrt(200)\n",
    "Y_n = norm.pdf(x_range, loc = popA['visits/day'].mean(), scale = samplemean_std)"
   ]
  },
  {
   "cell_type": "code",
   "execution_count": 367,
   "metadata": {
    "cell_style": "center",
    "slideshow": {
     "slide_type": "subslide"
    }
   },
   "outputs": [
    {
     "data": {
      "image/png": "[encoded data removed]",
      "text/plain": [
       "<Figure size 432x288 with 1 Axes>"
      ]
     },
     "metadata": {
      "needs_background": "light"
     },
     "output_type": "display_data"
    }
   ],
   "source": [
    "plt.hist(Nsample_trial_list, bins = 28, density = True)\n",
    "plt.plot(x_range, Y_n, c ='r', linewidth = 3)\n",
    "plt.axvline(popA['visits/day'].mean(), c = 'y' )\n",
    "plt.title('Mean of samples: N=200')\n",
    "plt.xlabel('Site visits/day for user: means')\n",
    "plt.ylabel('Normalized count')\n",
    "plt.show()"
   ]
  },
  {
   "cell_type": "markdown",
   "metadata": {
    "slideshow": {
     "slide_type": "subslide"
    }
   },
   "source": [
    "Or we rescale this entire distribution:\n",
    "\n",
    "$$ \\frac{(\\bar{X} - \\mu)}{\\sigma/\\sqrt{n}} $$"
   ]
  },
  {
   "cell_type": "code",
   "execution_count": 368,
   "metadata": {
    "cell_style": "split",
    "slideshow": {
     "slide_type": "subslide"
    }
   },
   "outputs": [
    {
     "data": {
      "image/png": "[encoded data removed]",
      "text/plain": [
       "<Figure size 432x288 with 1 Axes>"
      ]
     },
     "metadata": {
      "needs_background": "light"
     },
     "output_type": "display_data"
    }
   ],
   "source": [
    "x_scaled = np.linspace(-5,5,100)\n",
    "Y_scaled = norm.pdf(x_scaled, loc = 0, scale = 1)\n",
    "plt.plot(x_scaled, Y_scaled, c ='r', linewidth = 3)\n",
    "plt.xlabel('Rescaled Site visits/day for user')\n",
    "plt.ylabel('Normalized count')\n",
    "plt.show()"
   ]
  },
  {
   "cell_type": "markdown",
   "metadata": {
    "cell_style": "split"
   },
   "source": [
    "Computing Z-statistic for our sample:\n",
    " $$ \\frac{\\bar{X}_B - \\mu}{\\sigma/\\sqrt{N}} $$\n",
    " \n",
    "Puts on same scale as this standardized normal representing distribution of scaled sampling means. \n",
    "- Under assumption population mean $\\mu$ and  $\\sigma$ drawn from population A (null).\n",
    "\n"
   ]
  },
  {
   "cell_type": "code",
   "execution_count": 369,
   "metadata": {
    "cell_style": "split",
    "slideshow": {
     "slide_type": "fragment"
    }
   },
   "outputs": [
    {
     "data": {
      "text/plain": [
       "2.001856"
      ]
     },
     "execution_count": 369,
     "metadata": {},
     "output_type": "execute_result"
    }
   ],
   "source": [
    "popA['visits/day'].mean()"
   ]
  },
  {
   "cell_type": "code",
   "execution_count": 370,
   "metadata": {
    "cell_style": "split",
    "slideshow": {
     "slide_type": "fragment"
    }
   },
   "outputs": [
    {
     "data": {
      "text/plain": [
       "1.4153107649801187"
      ]
     },
     "execution_count": 370,
     "metadata": {},
     "output_type": "execute_result"
    }
   ],
   "source": [
    "popA['visits/day'].std()"
   ]
  },
  {
   "cell_type": "markdown",
   "metadata": {
    "slideshow": {
     "slide_type": "subslide"
    }
   },
   "source": [
    "In general, testing statistic\n",
    "\n",
    "could be any aggregation built from our sample:\n",
    "\n",
    "- variance\n",
    "- some function of the mean, etc.\n",
    "\n",
    "May follow different test distribution than normal."
   ]
  },
  {
   "cell_type": "code",
   "execution_count": 371,
   "metadata": {
    "slideshow": {
     "slide_type": "subslide"
    }
   },
   "outputs": [
    {
     "data": {
      "text/plain": [
       "visits/day    2.329633\n",
       "dtype: float64"
      ]
     },
     "execution_count": 371,
     "metadata": {},
     "output_type": "execute_result"
    }
   ],
   "source": [
    "N = 200\n",
    "Z_score = (popB.mean() - popA.mean())/(popA.std()/np.sqrt(N))\n",
    "Z_score"
   ]
  },
  {
   "cell_type": "code",
   "execution_count": 372,
   "metadata": {
    "slideshow": {
     "slide_type": "slide"
    }
   },
   "outputs": [
    {
     "data": {
      "image/png": "[encoded data removed]",
      "text/plain": [
       "<Figure size 432x288 with 1 Axes>"
      ]
     },
     "metadata": {
      "needs_background": "light"
     },
     "output_type": "display_data"
    }
   ],
   "source": [
    "x_scaled = np.linspace(-5,5,100)\n",
    "Y_scaled = norm.pdf(x_scaled, loc = 0, scale = 1)\n",
    "plt.plot(x_scaled, Y_scaled, c ='r', linewidth = 3)\n",
    "plt.axvline(Z_score[0], c = 'b')\n",
    "plt.annotate('Z Score', xy = (1.8,.3), fontsize=12, c ='b' )\n",
    "plt.xlabel('Rescaled Site visits/day for user')\n",
    "plt.ylabel('Normalized count')\n",
    "plt.show()"
   ]
  },
  {
   "cell_type": "markdown",
   "metadata": {
    "slideshow": {
     "slide_type": "slide"
    }
   },
   "source": [
    "#### Step 4. Calculate p-value"
   ]
  },
  {
   "cell_type": "markdown",
   "metadata": {
    "cell_style": "center",
    "slideshow": {
     "slide_type": "subslide"
    }
   },
   "source": [
    "How probable is the test statistic of sample or more extreme:\n",
    "- given distribution of statistic assuming null is true?\n",
    "\n",
    "- Calculate it:\n",
    "    - This is p-value.\n"
   ]
  },
  {
   "cell_type": "code",
   "execution_count": 373,
   "metadata": {
    "cell_style": "center",
    "slideshow": {
     "slide_type": "subslide"
    }
   },
   "outputs": [
    {
     "data": {
      "image/png": "[encoded data removed]",
      "text/plain": [
       "<Figure size 432x288 with 1 Axes>"
      ]
     },
     "metadata": {
      "needs_background": "light"
     },
     "output_type": "display_data"
    }
   ],
   "source": [
    "x_scaled = np.linspace(-5,5,100)\n",
    "Y_scaled = norm.pdf(x_scaled, loc = 0, scale = 1)\n",
    "plt.plot(x_scaled, Y_scaled, c ='r', linewidth = 3)\n",
    "plt.axvline(Z_score[0], c = 'b')\n",
    "plt.fill_between(x_scaled, Y_scaled, where = (Z_score[0] < x_scaled), alpha = 0.5, color='b')\n",
    "plt.annotate('Z Score', xy = (1.8,.3), fontsize=12, c ='b' )\n",
    "plt.xlabel('Rescaled Site visits/day for user')\n",
    "plt.ylabel('Normalized count')\n",
    "plt.show()"
   ]
  },
  {
   "cell_type": "markdown",
   "metadata": {
    "slideshow": {
     "slide_type": "subslide"
    }
   },
   "source": [
    "The p-value is shaded area under the curve."
   ]
  },
  {
   "cell_type": "markdown",
   "metadata": {
    "slideshow": {
     "slide_type": "slide"
    }
   },
   "source": [
    "Can calculate using survival function on standardized normal with mean 0 and std 1:"
   ]
  },
  {
   "cell_type": "code",
   "execution_count": 374,
   "metadata": {
    "slideshow": {
     "slide_type": "fragment"
    }
   },
   "outputs": [
    {
     "data": {
      "text/plain": [
       "0.009912789355450966"
      ]
     },
     "execution_count": 374,
     "metadata": {},
     "output_type": "execute_result"
    }
   ],
   "source": [
    "p_value = norm.sf(Z_score[0], loc = 0, scale = 1)\n",
    "p_value"
   ]
  },
  {
   "cell_type": "markdown",
   "metadata": {
    "slideshow": {
     "slide_type": "slide"
    }
   },
   "source": [
    "#### 5. Interpret p-value (reject or fail to reject the null hypothesis)"
   ]
  },
  {
   "cell_type": "markdown",
   "metadata": {
    "cell_style": "split",
    "slideshow": {
     "slide_type": "fragment"
    }
   },
   "source": [
    "Is $ p \\leq \\alpha $ ?\n",
    "\n",
    "- If so, reject the null.\n",
    "- If not, cannot reject the null.\n",
    "\n",
    "Here we stated that $ \\alpha = 0.05 $."
   ]
  },
  {
   "cell_type": "code",
   "execution_count": 375,
   "metadata": {
    "cell_style": "split",
    "slideshow": {
     "slide_type": "fragment"
    }
   },
   "outputs": [
    {
     "data": {
      "text/plain": [
       "0.009912789355450966"
      ]
     },
     "execution_count": 375,
     "metadata": {},
     "output_type": "execute_result"
    }
   ],
   "source": [
    "p_value = norm.sf(Z_score[0], loc = 0, scale = 1)\n",
    "p_value"
   ]
  },
  {
   "cell_type": "markdown",
   "metadata": {
    "cell_style": "split",
    "slideshow": {
     "slide_type": "fragment"
    }
   },
   "source": [
    "Do we accept or reject $H_0$?"
   ]
  },
  {
   "cell_type": "markdown",
   "metadata": {
    "slideshow": {
     "slide_type": "subslide"
    }
   },
   "source": [
    "We reject $H_0$: \n",
    "- our sample mean from site B is larger in a way not consistent with population sampling from site A."
   ]
  },
  {
   "cell_type": "markdown",
   "metadata": {
    "slideshow": {
     "slide_type": "slide"
    }
   },
   "source": [
    "### Effect of sampling size:\n",
    "- Now N = 25 for user sample using Site B.\n",
    "    "
   ]
  },
  {
   "cell_type": "code",
   "execution_count": 376,
   "metadata": {
    "slideshow": {
     "slide_type": "skip"
    }
   },
   "outputs": [],
   "source": [
    "smaller_sample = poisson.rvs(mu = 2.2, size = 25)\n"
   ]
  },
  {
   "cell_type": "code",
   "execution_count": 377,
   "metadata": {
    "slideshow": {
     "slide_type": "fragment"
    }
   },
   "outputs": [
    {
     "data": {
      "text/plain": [
       "array([1, 3, 0, 1, 2, 2, 2, 2, 3, 2, 1, 2, 2, 2, 4, 2, 3, 0, 1, 2, 2, 4,\n",
       "       1, 3, 2])"
      ]
     },
     "execution_count": 377,
     "metadata": {},
     "output_type": "execute_result"
    }
   ],
   "source": [
    "smaller_sample"
   ]
  },
  {
   "cell_type": "markdown",
   "metadata": {
    "slideshow": {
     "slide_type": "slide"
    }
   },
   "source": [
    "Compute Z statistic for smaller sample:"
   ]
  },
  {
   "cell_type": "code",
   "execution_count": 378,
   "metadata": {
    "scrolled": true,
    "slideshow": {
     "slide_type": "fragment"
    }
   },
   "outputs": [],
   "source": [
    "N = 25\n",
    "Z_score_smaller_sample = (smaller_sample.mean() - popA.mean())/(popA.std()/np.sqrt(N))"
   ]
  },
  {
   "cell_type": "markdown",
   "metadata": {
    "slideshow": {
     "slide_type": "slide"
    }
   },
   "source": [
    "Compute p-value:"
   ]
  },
  {
   "cell_type": "code",
   "execution_count": 379,
   "metadata": {
    "slideshow": {
     "slide_type": "fragment"
    }
   },
   "outputs": [
    {
     "data": {
      "text/plain": [
       "0.5587767593800781"
      ]
     },
     "execution_count": 379,
     "metadata": {},
     "output_type": "execute_result"
    }
   ],
   "source": [
    "p_value = norm.sf(Z_score_smaller_sample[0], loc = 0, scale = 1)\n",
    "p_value"
   ]
  },
  {
   "cell_type": "markdown",
   "metadata": {
    "slideshow": {
     "slide_type": "slide"
    }
   },
   "source": [
    "Do we reject at significance level $\\alpha$ = 0.05?"
   ]
  },
  {
   "cell_type": "markdown",
   "metadata": {
    "slideshow": {
     "slide_type": "fragment"
    }
   },
   "source": [
    "Sample size matters when testing hypotheses on statistics!"
   ]
  },
  {
   "cell_type": "markdown",
   "metadata": {
    "slideshow": {
     "slide_type": "slide"
    }
   },
   "source": [
    "**Next up**\n",
    "\n",
    "Talk about the different types of Z-tests:\n",
    "- When to use them\n",
    "\n",
    "Similar logic will extend to t-tests."
   ]
  }
 ],
 "metadata": {
  "celltoolbar": "Slideshow",
  "kernelspec": {
   "display_name": "Python 3",
   "language": "python",
   "name": "python3"
  },
  "language_info": {
   "codemirror_mode": {
    "name": "ipython",
    "version": 3
   },
   "file_extension": ".py",
   "mimetype": "text/x-python",
   "name": "python",
   "nbconvert_exporter": "python",
   "pygments_lexer": "ipython3",
   "version": "3.8.5"
  }
 },
 "nbformat": 4,
 "nbformat_minor": 4
}
