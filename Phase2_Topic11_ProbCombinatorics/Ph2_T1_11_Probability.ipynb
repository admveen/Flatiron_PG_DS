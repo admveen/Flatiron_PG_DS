{
 "cells": [
  {
   "cell_type": "markdown",
   "metadata": {
    "slideshow": {
     "slide_type": "slide"
    }
   },
   "source": [
    "<div style=\"color:white;\n",
    "           display:fill;\n",
    "           border-radius:5px;\n",
    "           background-color:#5642C5;\n",
    "           font-size:200%;\n",
    "           font-family:Arial;letter-spacing:0.5px\">\n",
    "\n",
    "<p width = 20%, style=\"padding: 10px;\n",
    "              color:white;\">\n",
    "Probability: The Mathematics of Uncertainty\n",
    "              \n",
    "</p>\n",
    "</div>\n",
    "\n",
    "Data Science Cohort Live NYC Feb 2022\n",
    "<p>Phase 2: Topic 1</p>\n",
    "<br>\n",
    "<br>\n",
    "\n",
    "<div align = \"right\">\n",
    "<img src=\"Images/flatiron-school-logo.png\" align = \"right\" width=\"200\"/>\n",
    "</div>\n",
    "    \n",
    "    "
   ]
  },
  {
   "cell_type": "markdown",
   "metadata": {
    "cell_style": "center",
    "hidden": true,
    "slideshow": {
     "slide_type": "slide"
    }
   },
   "source": [
    "#### Probability theory\n",
    "\n",
    "- systematic understanding of processes with uncertainty.\n",
    "- quantification and manipulation of uncertainty\n",
    "\n",
    "\n",
    "\n"
   ]
  },
  {
   "cell_type": "markdown",
   "metadata": {
    "heading_collapsed": true,
    "hidden": true,
    "slideshow": {
     "slide_type": "slide"
    }
   },
   "source": [
    "#### Role of Probability in Data Science"
   ]
  },
  {
   "cell_type": "markdown",
   "metadata": {
    "cell_style": "split",
    "hidden": true,
    "slideshow": {
     "slide_type": "slide"
    }
   },
   "source": [
    "Combined with statistics / decision theory:\n",
    "- Make optimal predictions based on limited data.\n",
    "- Limited data = incomplete information.\n",
    "- Estimate uncertainty in those predictions.\n"
   ]
  },
  {
   "cell_type": "markdown",
   "metadata": {
    "cell_style": "split",
    "slideshow": {
     "slide_type": "fragment"
    }
   },
   "source": [
    "- Assess veracity of a statement/hypothesis\n",
    "    - Given limited set of data\n"
   ]
  },
  {
   "cell_type": "markdown",
   "metadata": {
    "slideshow": {
     "slide_type": "slide"
    }
   },
   "source": [
    "Path estimation in presence of noise:\n",
    "<img src=\"Images/noisy_path.png\" width=\"400\"/>"
   ]
  },
  {
   "cell_type": "markdown",
   "metadata": {
    "cell_style": "split",
    "slideshow": {
     "slide_type": "slide"
    }
   },
   "source": [
    "If I repeat measurement again: measured track would be a little different:\n",
    "- Random component: noise\n",
    "\n",
    "Probability gives us language to understand noise:\n",
    "- How likely is a given fluctuation about true path?"
   ]
  },
  {
   "cell_type": "markdown",
   "metadata": {
    "cell_style": "split",
    "slideshow": {
     "slide_type": "fragment"
    }
   },
   "source": [
    "Quantitatively understand the uncertainty/noise:\n",
    "\n",
    "**Helps us to figure out a path that is most likely!**"
   ]
  },
  {
   "cell_type": "markdown",
   "metadata": {
    "cell_style": "center",
    "slideshow": {
     "slide_type": "slide"
    }
   },
   "source": [
    "#### Sources of uncertainty\n",
    "\n",
    "- Uncertainty/imprecision in our measurement\n",
    "    - Tracking ultrasonic stealth fighter \n",
    "- Factors we are uncertain of affecting actual outcome.\n",
    "    - 6 sided dice throw\n",
    "- Size effects\n",
    "    - Estimating average length of all koalas in the world.\n",
    "    - Measurements from 50 koalas."
   ]
  },
  {
   "cell_type": "markdown",
   "metadata": {
    "cell_style": "center",
    "slideshow": {
     "slide_type": "subslide"
    }
   },
   "source": [
    "<table><tr><td><img src=\"Images/dice.jpg\" width=\"250\"/></td><td><img src=\"Images/koala.png\" width=\"250\"/>\n",
    "</td></tr></table>"
   ]
  },
  {
   "cell_type": "markdown",
   "metadata": {
    "cell_style": "split",
    "slideshow": {
     "slide_type": "slide"
    }
   },
   "source": [
    "#### Random processes, outcomes, and sample spaces:\n",
    "\n",
    "Random process: \n",
    "\n",
    "- repeated query or measurement of given quantity does not produce reproducible outcome\n",
    "\n",
    "\n",
    "\n"
   ]
  },
  {
   "cell_type": "markdown",
   "metadata": {
    "cell_style": "split",
    "slideshow": {
     "slide_type": "fragment"
    }
   },
   "source": [
    "Example: drunk man walk\n",
    "\n",
    "<center><img src=\"Images/drunkman.gif\" width=\"400\"/></center>\n",
    "\n"
   ]
  },
  {
   "cell_type": "markdown",
   "metadata": {
    "cell_style": "center",
    "slideshow": {
     "slide_type": "slide"
    }
   },
   "source": [
    "Which way did drunk man step? Random process.\n",
    "\n",
    "- Possible outcomes: Left (L) or Right (R)\n",
    "- Sample space $\\Omega$: set of all possible outcomes:\n",
    "    - $ \\Omega = \\{L,R\\} $"
   ]
  },
  {
   "cell_type": "markdown",
   "metadata": {
    "slideshow": {
     "slide_type": "slide"
    }
   },
   "source": [
    "Sample space types:\n",
    "\n",
    "- **Discrete**: finite subset of values within a range:\n",
    "    - Number of cars owned\n",
    "    - Drunken man: L or R?"
   ]
  },
  {
   "cell_type": "markdown",
   "metadata": {
    "slideshow": {
     "slide_type": "fragment"
    }
   },
   "source": [
    "- **Continuous**: any values within a range \n",
    "    - e.g. a person's height\n",
    "    - Drunken man: how many inches each step was."
   ]
  },
  {
   "cell_type": "markdown",
   "metadata": {
    "cell_style": "center",
    "slideshow": {
     "slide_type": "slide"
    }
   },
   "source": [
    "#### Random Variables\n",
    "\n",
    "A map between elements of sample space $\\Omega$ (random outcomes) and numbers.\n",
    "\n",
    "In our case: \n",
    "- Define $X$ as random variable."
   ]
  },
  {
   "cell_type": "markdown",
   "metadata": {
    "cell_style": "center",
    "slideshow": {
     "slide_type": "subslide"
    }
   },
   "source": [
    "Defining the mapping for drunken walk:\n",
    "\n",
    "$ L \\rightarrow X = -1$\n",
    "\n",
    "$ R \\rightarrow X = +1$\n",
    "\n",
    "$X$ takes on values $\\pm1$ randomly."
   ]
  },
  {
   "cell_type": "markdown",
   "metadata": {
    "cell_style": "split",
    "slideshow": {
     "slide_type": "slide"
    }
   },
   "source": [
    "- Event space $B$: contains all sets of outcomes\n",
    "\n",
    "\n",
    "- $ B = \\{\\{L\\}, \\{R\\}, \\{L,R\\}\\} $\n",
    "\n",
    "\n",
    "- Went left\n",
    "- Went right\n",
    "- Went either left OR right\n",
    "\n",
    "$ B $ is the set of all subsets of $\\Omega$. \n"
   ]
  },
  {
   "cell_type": "markdown",
   "metadata": {
    "cell_style": "split",
    "slideshow": {
     "slide_type": "fragment"
    }
   },
   "source": [
    "Probability defined over members of the event space $B$.\n",
    "\n",
    "$ P(\\{L\\}) = \\frac{1}{2} $\n",
    "\n",
    "$ P(\\{R\\}) = \\frac{1}{2} $\n",
    "\n",
    "As likely to walk left as to walk right."
   ]
  },
  {
   "cell_type": "markdown",
   "metadata": {
    "cell_style": "center",
    "slideshow": {
     "slide_type": "slide"
    }
   },
   "source": [
    "Probability of set of all outcomes (i.e $\\Omega$ itself):\n",
    "\n",
    "$$ P(\\Omega) = 1 $$ \n",
    "\n",
    "In our case:\n",
    "\n",
    "$$ P(\\{L,R\\}) = 1 $$\n",
    "\n",
    "Probability of going either left or right is 1."
   ]
  },
  {
   "cell_type": "markdown",
   "metadata": {
    "slideshow": {
     "slide_type": "subslide"
    }
   },
   "source": [
    "#### Probability with random variables\n",
    "\n",
    "$ P(X = -1) = \\frac{1}{2}$ \n",
    "\n",
    "$ P(X = +1) = \\frac{1}{2} $"
   ]
  },
  {
   "cell_type": "markdown",
   "metadata": {
    "slideshow": {
     "slide_type": "slide"
    }
   },
   "source": [
    "#### Probability: connection with statistics\n",
    "\n",
    "How do I assign probabilities to element of event space?\n",
    "\n",
    "Observe drunken man for $N$ steps:\n",
    "- Collect observations of how many left vs right steps"
   ]
  },
  {
   "cell_type": "markdown",
   "metadata": {
    "cell_style": "split",
    "slideshow": {
     "slide_type": "slide"
    }
   },
   "source": [
    "relative frequency of going left:\n",
    "$$ \\frac{n_L}{N} $$\n",
    "Relative frequency of going right:\n",
    "$$ \\frac{n_R}{N} $$ "
   ]
  },
  {
   "cell_type": "markdown",
   "metadata": {
    "cell_style": "split",
    "slideshow": {
     "slide_type": "fragment"
    }
   },
   "source": [
    "#### Probability strictly speaking\n",
    "\n",
    "$$P(\\{L\\}) = \\lim_{N\\rightarrow\\infty} \\frac{n_L}{N} $$\n",
    "$$P(\\{R\\}) = \\lim_{N\\rightarrow\\infty} \\frac{n_R}{N} $$\n",
    "\n",
    "Defined as number of trials ($N$) gets large."
   ]
  },
  {
   "cell_type": "markdown",
   "metadata": {
    "slideshow": {
     "slide_type": "slide"
    }
   },
   "source": [
    "#### Calculating intersections and unions:\n",
    "- Want to know probability of two sets of events occuring simultaneously.\n",
    "- Want to know probability of any of two set of events occurings out of all possibilities."
   ]
  },
  {
   "cell_type": "markdown",
   "metadata": {
    "slideshow": {
     "slide_type": "slide"
    }
   },
   "source": [
    "#### Intersection of Events\n",
    "\n",
    "Rolling a dice:\n",
    "\n",
    "$\\Omega = \\{1,2,3,4,5,6\\}$\n",
    "\n",
    "Consider two events in $B$.\n",
    "- Roll is even\n",
    "- Roll is less than or equal to 3\n",
    "\n",
    " \n",
    "$$ E = \\{2,4,6\\} $$\n",
    "$$ T = \\{1,2,3\\} $$\n",
    "\n"
   ]
  },
  {
   "cell_type": "markdown",
   "metadata": {
    "slideshow": {
     "slide_type": "subslide"
    }
   },
   "source": [
    "#### Intersection of Events\n",
    "That both events occur:\n",
    "\n",
    "$$ E = \\{2,4,6\\} $$\n",
    "$$ T = \\{1,2,3\\} $$\n",
    "\n",
    "Yields: $$ E \\cap T = \\{2\\} $$ \n"
   ]
  },
  {
   "cell_type": "markdown",
   "metadata": {
    "slideshow": {
     "slide_type": "fragment"
    }
   },
   "source": [
    "Thus: $P(E \\cap T ) = 1/6 $\n",
    "\n",
    "Are E and T independent?"
   ]
  },
  {
   "cell_type": "markdown",
   "metadata": {
    "slideshow": {
     "slide_type": "slide"
    }
   },
   "source": [
    "#### Independent events\n",
    "\n",
    "If two events $A$ and $B$ are independent, what is $P(A\\cap B)$?\n",
    "\n",
    "I.e. probability both events occur."
   ]
  },
  {
   "cell_type": "markdown",
   "metadata": {
    "cell_style": "split",
    "slideshow": {
     "slide_type": "subslide"
    }
   },
   "source": [
    "New sample space: Drunk mank step + weather\n",
    "Weather: C (Cloudy), NC (Not Cloudy)\n",
    "\n",
    "$\\Omega = \\{(L,C),  (R, C) , (L, NC), (R, NC) \\}$\n",
    "\n",
    "\n",
    "\n",
    "\n",
    "\n"
   ]
  },
  {
   "cell_type": "markdown",
   "metadata": {
    "cell_style": "split",
    "slideshow": {
     "slide_type": "-"
    }
   },
   "source": [
    "<center><img src=\"Images/cloudy.jpg\" width=\"400\"/></center>"
   ]
  },
  {
   "cell_type": "markdown",
   "metadata": {
    "slideshow": {
     "slide_type": "fragment"
    }
   },
   "source": [
    "Event $A$ is: not cloudy.\n",
    "\n",
    "$$ A = \\{(L,NC),(R, NC)\\} $$\n",
    "\n",
    "Event $B$: drunk man steps right.\n",
    "$$ B = \\{(R,C), (R,NC)\\} $$"
   ]
  },
  {
   "cell_type": "markdown",
   "metadata": {
    "slideshow": {
     "slide_type": "fragment"
    }
   },
   "source": [
    "$ A $ and $B$ are independent events."
   ]
  },
  {
   "cell_type": "markdown",
   "metadata": {
    "cell_style": "split",
    "slideshow": {
     "slide_type": "subslide"
    }
   },
   "source": [
    "Probability that it was not cloudy and our drunk man moved right.\n",
    "$$ A \\cap B = \\{(R, NC)\\} $$\n",
    "\n",
    "Can be shown that for independent events:\n",
    "\n",
    "$$ P(A\\cap B) = P(A)P(B) $$"
   ]
  },
  {
   "cell_type": "markdown",
   "metadata": {
    "cell_style": "split",
    "slideshow": {
     "slide_type": "fragment"
    }
   },
   "source": [
    "$$ A = \\{(L,NC),(R, NC)\\} $$\n",
    "\n",
    "$$ B = \\{(R,C), (R,NC)\\} $$"
   ]
  },
  {
   "cell_type": "markdown",
   "metadata": {
    "slideshow": {
     "slide_type": "fragment"
    }
   },
   "source": [
    "Given $\\Omega = \\{(L,C),  (R, C) , (L, NC), (R, NC) \\}$ are all equally likely and <br><br>\n",
    "$$ A = \\{(L,NC),(R, NC)\\} $$\n",
    "\n",
    "$$ B = \\{(R,C), (R,NC)\\} $$\n",
    "- What is is $ P(A\\cap B) = P(A)P(B)$?"
   ]
  },
  {
   "cell_type": "markdown",
   "metadata": {
    "slideshow": {
     "slide_type": "slide"
    }
   },
   "source": [
    "In terms of random variables:\n",
    "\n",
    "$X = \\pm 1$, Does our drunk man move left or right? <br> \n",
    "$R = 0, 1$ Is it cloudy?\n",
    "\n",
    "Probability of given realization:\n",
    "\n",
    "$$ P(X = 1, R = 0) = P(X=1)P(R = 0) $$\n",
    "\n",
    "<br>\n",
    "$$  P(X=1)P(R = 0) = \\frac{1}{2}\\times\\frac{1}{2} = \\frac{1}{4} $$\n",
    "\n"
   ]
  },
  {
   "cell_type": "markdown",
   "metadata": {
    "slideshow": {
     "slide_type": "slide"
    }
   },
   "source": [
    "#### Union of Events\n",
    "- Probability that any of the events in A and B occur out of of all possibilities."
   ]
  },
  {
   "cell_type": "markdown",
   "metadata": {
    "cell_style": "split",
    "slideshow": {
     "slide_type": "slide"
    }
   },
   "source": [
    "#### Mutually exclusive events:\n",
    "Drunk man can only go either left OR right.\n",
    "\n",
    "$$P(\\{L\\}\\cup\\{R\\}) = P(\\{L\\}) + P(\\{R\\})$$\n",
    "\n",
    "In random variables:\n",
    "\n",
    "$$ P(X = +1) + P(X = -1) $$"
   ]
  },
  {
   "cell_type": "markdown",
   "metadata": {
    "cell_style": "split",
    "slideshow": {
     "slide_type": "fragment"
    }
   },
   "source": [
    "<center><img src=\"Images/prob_union_mutually.png\" width=\"400\"/></center>"
   ]
  },
  {
   "cell_type": "markdown",
   "metadata": {
    "slideshow": {
     "slide_type": "fragment"
    }
   },
   "source": [
    "$$ P({L}\\cup{R}) =  \\frac{1}{2} + \\frac{1}{2} = 1 $$"
   ]
  },
  {
   "cell_type": "markdown",
   "metadata": {
    "cell_style": "center",
    "slideshow": {
     "slide_type": "slide"
    }
   },
   "source": [
    "When events are not mutually exclusive:\n",
    "\n",
    "$$P(\\{A\\}\\cup\\{B\\}) = P(\\{A\\}) + P(\\{B\\}) - P(A\\cap B)$$"
   ]
  },
  {
   "cell_type": "markdown",
   "metadata": {
    "cell_style": "center"
   },
   "source": [
    "<center><img src=\"Images/aunionB.png\" width=\"400\"/></center>\n"
   ]
  },
  {
   "cell_type": "markdown",
   "metadata": {
    "slideshow": {
     "slide_type": "slide"
    }
   },
   "source": [
    "#### Joint, Marginal and Conditional Probabilities"
   ]
  },
  {
   "cell_type": "markdown",
   "metadata": {
    "cell_style": "split",
    "slideshow": {
     "slide_type": "slide"
    }
   },
   "source": [
    "X and Y are random variables.\n",
    "\n",
    "Correspond to two entries in questionaire on a game:\n",
    "\n",
    "- X = Gameplay rating (1-5)\n",
    "- Y = Satisfied with graphics (disagree/ambivalent/agree - 0,1,2)\n",
    "\n",
    "\n",
    "\n",
    "\n"
   ]
  },
  {
   "cell_type": "markdown",
   "metadata": {
    "cell_style": "split",
    "slideshow": {
     "slide_type": "fragment"
    }
   },
   "source": [
    "- $X$ taken from $\\{x_i\\}$.\n",
    "\n",
    "- $Y$ taken from $\\{y_j\\}$."
   ]
  },
  {
   "cell_type": "markdown",
   "metadata": {
    "cell_style": "center",
    "slideshow": {
     "slide_type": "slide"
    }
   },
   "source": [
    "Total number of surveys: $N$ \n",
    "\n",
    "- Result frequency can be binned per outcome of X and Y:\n",
    "\n",
    "\n",
    "<center><img src=\"Images/joint_table.png\" width=\"400\"/></center>\n",
    "\n",
    "$n_{ij}$ is number of times result was $X = x_i$ and $Y = y_j$ for $N$ trials."
   ]
  },
  {
   "cell_type": "markdown",
   "metadata": {
    "cell_style": "split",
    "slideshow": {
     "slide_type": "slide"
    }
   },
   "source": [
    "What is the total number of surveys in terms of $n_{ij}$?\n",
    "\n",
    "<center><img src=\"Images/joint_table.png\" width=\"400\"/></center>"
   ]
  },
  {
   "cell_type": "markdown",
   "metadata": {
    "cell_style": "split",
    "slideshow": {
     "slide_type": "fragment"
    }
   },
   "source": [
    "Just the sum of responses for each possibility. \n",
    "\n",
    "$$ N = \\sum_{ij} n_{ij} $$"
   ]
  },
  {
   "cell_type": "markdown",
   "metadata": {
    "slideshow": {
     "slide_type": "subslide"
    }
   },
   "source": [
    "#### Joint Probability\n",
    "\n",
    "The probability that a given respondent, drawn at random had $X = x_i$ and $Y = y_j$.\n",
    "\n",
    "In large N limit, we define it as a probability:\n",
    "    \n",
    "\n",
    "$$ P(X = x_i, Y = y_j) = \\lim_{N\\rightarrow\\infty} \\frac{n_{ij}}{N} $$\n"
   ]
  },
  {
   "cell_type": "markdown",
   "metadata": {
    "slideshow": {
     "slide_type": "fragment"
    }
   },
   "source": [
    "<center><img src=\"Images/joint_table.png\" width=\"400\"/></center>"
   ]
  },
  {
   "cell_type": "markdown",
   "metadata": {
    "slideshow": {
     "slide_type": "subslide"
    }
   },
   "source": [
    "#### Marginal Probability\n",
    "\n",
    "The probability that a given repondent draws a result for one of the variables, irrespective of the other variables.\n",
    "\n",
    "$$ P(Y = Y_j) = \\lim_{N\\rightarrow \\infty}\\sum_{i=1}^5\\frac{n_{ij}}{N} $$ \n",
    "<br>\n",
    "<center>OR</center>\n",
    "<br>\n",
    "$$ P(Y = Y_j) = \\sum_{i=1}^5 P(X = x_i, Y=y_j) $$ \n",
    "\n",
    "*Marginal on Y*\n"
   ]
  },
  {
   "cell_type": "markdown",
   "metadata": {
    "slideshow": {
     "slide_type": "slide"
    }
   },
   "source": [
    "In terms of diagrams: \n",
    "<center><img src=\"Images/joint_table.png\" width=\"400\"/></center>\n",
    "\n",
    "$r_j$ is number of times result was $Y = y_j$ for $N$ trials."
   ]
  },
  {
   "cell_type": "markdown",
   "metadata": {
    "slideshow": {
     "slide_type": "subslide"
    }
   },
   "source": [
    "We need to account for all possibilities of $X$:<br><br>\n",
    "$ r_j = \\sum_{i=1}^5n_{ij} $ which is sum over  row.\n",
    "<center><img src=\"Images/joint_table.png\" width=\"400\"/></center>"
   ]
  },
  {
   "cell_type": "markdown",
   "metadata": {
    "slideshow": {
     "slide_type": "slide"
    }
   },
   "source": [
    "The same can be done for probability of $X = x_i$.\n",
    "\n",
    "<center><img src=\"Images/joint_table.png\" width=\"400\"/></center>\n",
    "\n"
   ]
  },
  {
   "cell_type": "markdown",
   "metadata": {
    "cell_style": "center",
    "slideshow": {
     "slide_type": "slide"
    }
   },
   "source": [
    "$$ c_i = \\sum_j^{3} n_{ij} $$ <br><br>\n",
    "\n",
    "<center>and</center> <br><br>\n",
    "\n",
    "marginal on X is:\n",
    "$$P(X = x_i) = \\sum_j^{3} \\frac{n_{ij}}{N} = \\sum_j^{3}P(X = x_i, Y = y_j) = \\frac{c_i}{N}$$ "
   ]
  },
  {
   "cell_type": "markdown",
   "metadata": {
    "slideshow": {
     "slide_type": "slide"
    }
   },
   "source": [
    "#### Conditional Probability\n",
    "\n",
    "Often want to know probability of one random variable taking on a value\n",
    "*given* another thing is true."
   ]
  },
  {
   "cell_type": "markdown",
   "metadata": {
    "cell_style": "split",
    "slideshow": {
     "slide_type": "slide"
    }
   },
   "source": [
    "Example:\n",
    "- Given X = x_i\n",
    "- What is probability of Y = y_j?"
   ]
  },
  {
   "cell_type": "markdown",
   "metadata": {
    "cell_style": "split"
   },
   "source": [
    "<center><img src=\"Images/joint_table.png\" width=\"400\"/></center>"
   ]
  },
  {
   "cell_type": "markdown",
   "metadata": {
    "slideshow": {
     "slide_type": "fragment"
    }
   },
   "source": [
    "Amonth the possibilities, this conditional probability is:\n",
    "$$ P(Y =y_j | X = x_i ) = \\frac{n_{ij}}{c_i} $$"
   ]
  },
  {
   "cell_type": "markdown",
   "metadata": {
    "cell_style": "split",
    "slideshow": {
     "slide_type": "slide"
    }
   },
   "source": [
    "Can do this the other way:\n",
    "- Given $Y = y_j$\n",
    "- What is probability of $X = x_i$?"
   ]
  },
  {
   "cell_type": "markdown",
   "metadata": {
    "cell_style": "split"
   },
   "source": [
    "<center><img src=\"Images/joint_table.png\" width=\"400\"/></center>"
   ]
  },
  {
   "cell_type": "markdown",
   "metadata": {
    "cell_style": "center",
    "slideshow": {
     "slide_type": "fragment"
    }
   },
   "source": [
    "What is $P(X=x_i|Y=y_j)$?"
   ]
  },
  {
   "cell_type": "markdown",
   "metadata": {
    "slideshow": {
     "slide_type": "slide"
    }
   },
   "source": [
    "#### Relationship between joint and conditional\n",
    "\n",
    "$$ P(X = x_i, Y = y_j) = P(Y = y_j | X = x_i)P(X = x_i) $$"
   ]
  },
  {
   "cell_type": "markdown",
   "metadata": {
    "cell_style": "split",
    "slideshow": {
     "slide_type": "fragment"
    }
   },
   "source": [
    "$$ P(Y = y_j | X = x_i)P(X = x_i) $$ <br><br>\n",
    "$$ \\frac{n_{ij}}{c_i} \\times \\frac{c_i}{N} $$ "
   ]
  },
  {
   "cell_type": "markdown",
   "metadata": {
    "cell_style": "split",
    "slideshow": {
     "slide_type": "fragment"
    }
   },
   "source": [
    "$$ P(X = x_i, Y = y_j)$$\n",
    "\n",
    "$$ \\frac{n_{ij}}{N} $$"
   ]
  },
  {
   "cell_type": "markdown",
   "metadata": {
    "slideshow": {
     "slide_type": "slide"
    }
   },
   "source": [
    "Other way is also true:\n",
    "\n",
    "$$ P(X = x_i, Y = y_j) = P(X = x_i | Y = y_j)P(Y = y_j) $$\n",
    "\n",
    "Anyone want to help me with this? Explain it to everyone."
   ]
  },
  {
   "cell_type": "markdown",
   "metadata": {
    "slideshow": {
     "slide_type": "fragment"
    }
   },
   "source": [
    "<center><img src=\"Images/joint_table.png\" width=\"400\"/></center>"
   ]
  },
  {
   "cell_type": "markdown",
   "metadata": {
    "slideshow": {
     "slide_type": "slide"
    }
   },
   "source": [
    "Naturally lead to Bayes' theorem: we'll interpret later.\n",
    "\n",
    "$$ P(X = x_i, Y = y_j)$$ \n",
    "\n",
    "$$ P(X = x_i | Y = y_j)P(Y = y_j) = P(Y = y_j | X = x_i)P(X = x_i)$$\n",
    "<br><br>\n",
    "\n",
    "implies:\n",
    "\n",
    "<center><b>Bayes' Theorem</b></center>\n",
    "\n",
    "$$ P(X = x_i | Y = y_j) = \\frac{P(Y = y_j | X = x_i)P(X = x_i)}{P(Y = y_j)} $$"
   ]
  }
 ],
 "metadata": {
  "celltoolbar": "Slideshow",
  "kernelspec": {
   "display_name": "Python 3 (ipykernel)",
   "language": "python",
   "name": "python3"
  },
  "language_info": {
   "codemirror_mode": {
    "name": "ipython",
    "version": 3
   },
   "file_extension": ".py",
   "mimetype": "text/x-python",
   "name": "python",
   "nbconvert_exporter": "python",
   "pygments_lexer": "ipython3",
   "version": "3.9.7"
  }
 },
 "nbformat": 4,
 "nbformat_minor": 4
}
