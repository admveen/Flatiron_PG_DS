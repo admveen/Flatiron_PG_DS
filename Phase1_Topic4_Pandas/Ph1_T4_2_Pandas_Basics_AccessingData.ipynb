{
 "cells": [
  {
   "cell_type": "markdown",
   "id": "042c9704",
   "metadata": {
    "cell_style": "center",
    "slideshow": {
     "slide_type": "slide"
    }
   },
   "source": [
    "<div style=\"color:white;\n",
    "           display:fill;\n",
    "           border-radius:5px;\n",
    "           background-color:#5642C5;\n",
    "           font-size:200%;\n",
    "           font-family:Arial;letter-spacing:0.5px\">\n",
    "\n",
    "<p width = 20%, style=\"padding: 10px;\n",
    "              color:white;\">\n",
    "Pandas: Data Structures and Accessing the Data\n",
    "              \n",
    "</p>\n",
    "</div>\n",
    "\n",
    "Data Science Cohort Live NYC Feb 2022\n",
    "<p>Phase 1: Topic 4</p>\n",
    "<br>\n",
    "<br>\n",
    "\n",
    "<div align = \"right\">\n",
    "<img src=\"Images/flatiron-school-logo.png\" align = \"right\" width=\"200\"/>\n",
    "</div>\n",
    "    \n",
    "    "
   ]
  },
  {
   "cell_type": "code",
   "execution_count": 1,
   "id": "844ffcde",
   "metadata": {
    "slideshow": {
     "slide_type": "slide"
    }
   },
   "outputs": [],
   "source": [
    "# Import libraries\n",
    "import numpy as np\n",
    "import pandas as pd # import pandas library"
   ]
  },
  {
   "cell_type": "markdown",
   "id": "1ef073a7",
   "metadata": {
    "slideshow": {
     "slide_type": "slide"
    }
   },
   "source": [
    "Pandas has two core data structures:\n",
    "- Series: 1D array with native support for many data operations that numpy arrays don't.\n",
    "- DataFrames: Tabular data with various tabular manipulation operations. Individual columns/rows are pandas Series."
   ]
  },
  {
   "cell_type": "markdown",
   "id": "af463802",
   "metadata": {
    "slideshow": {
     "slide_type": "slide"
    }
   },
   "source": [
    "#### Pandas Series\n",
    "\n",
    "We have data on the highest number of cars that a few famous people have owned. \n",
    "\n",
    "| Person | Max number of Cars |\n",
    "| --- | --- | \n",
    "| Muammar Qaddafi | 25000 |\n",
    "| Mohandas Gandhi | 0 |\n",
    "| Saddam Hussein | 4500 |\n",
    "| Kevin Bacon | 2 |\n",
    "| Billy Bob Thornton | 8 |\n",
    "\n",
    "Let's represent this as a series."
   ]
  },
  {
   "cell_type": "code",
   "execution_count": 2,
   "id": "193badb1",
   "metadata": {
    "slideshow": {
     "slide_type": "subslide"
    }
   },
   "outputs": [
    {
     "data": {
      "text/plain": [
       "Muammar Qaddafi       25000\n",
       "Mohandas Gandhi           0\n",
       "Saddam Hussein         4500\n",
       "Kevin Bacon               2\n",
       "Billy Bob Thornton        8\n",
       "Name: Max Number Cars Owned, dtype: int64"
      ]
     },
     "execution_count": 2,
     "metadata": {},
     "output_type": "execute_result"
    }
   ],
   "source": [
    "pd.Series([25000,0,4500,2,8],\n",
    "          index = ['Muammar Qaddafi', 'Mohandas Gandhi', 'Saddam Hussein', 'Kevin Bacon', 'Billy Bob Thornton'], \n",
    "          name = 'Max Number Cars Owned')"
   ]
  },
  {
   "cell_type": "code",
   "execution_count": 3,
   "id": "3a4e794e",
   "metadata": {
    "slideshow": {
     "slide_type": "subslide"
    }
   },
   "outputs": [
    {
     "data": {
      "text/plain": [
       "Muammar Qaddafi       25000\n",
       "Mohandas Gandhi           0\n",
       "Saddam Hussein         4500\n",
       "Kevin Bacon               2\n",
       "Billy Bob Thornton        8\n",
       "dtype: int64"
      ]
     },
     "execution_count": 3,
     "metadata": {},
     "output_type": "execute_result"
    }
   ],
   "source": [
    "# This more naturally can be inputted from a dict.\n",
    "car_dict = {'Muammar Qaddafi': 25000, 'Mohandas Gandhi': 0, \n",
    "            'Saddam Hussein': 4500, 'Kevin Bacon': 2, 'Billy Bob Thornton': 8}\n",
    "\n",
    "car_owner_series = pd.Series(car_dict)\n",
    "car_owner_series"
   ]
  },
  {
   "cell_type": "markdown",
   "id": "e90eb09b",
   "metadata": {
    "cell_style": "split",
    "slideshow": {
     "slide_type": "slide"
    }
   },
   "source": [
    "Why use Pandas series?\n",
    "\n",
    "Combines:\n",
    "- Dictionary style fast lookup.\n",
    "- Numpy style vectorized operations on the values.\n"
   ]
  },
  {
   "cell_type": "code",
   "execution_count": 4,
   "id": "724e9f52",
   "metadata": {
    "cell_style": "split",
    "slideshow": {
     "slide_type": "fragment"
    }
   },
   "outputs": [
    {
     "data": {
      "text/plain": [
       "8"
      ]
     },
     "execution_count": 4,
     "metadata": {},
     "output_type": "execute_result"
    }
   ],
   "source": [
    "# indexed on sensible keys. \n",
    "car_owner_series['Billy Bob Thornton']"
   ]
  },
  {
   "cell_type": "code",
   "execution_count": 5,
   "id": "5b0777e9",
   "metadata": {
    "cell_style": "split",
    "slideshow": {
     "slide_type": "fragment"
    }
   },
   "outputs": [
    {
     "data": {
      "text/plain": [
       "Mohandas Gandhi       0\n",
       "Saddam Hussein     4500\n",
       "Kevin Bacon           2\n",
       "dtype: int64"
      ]
     },
     "execution_count": 5,
     "metadata": {},
     "output_type": "execute_result"
    }
   ],
   "source": [
    "# can slice on these keys\n",
    "car_owner_series[\"Mohandas Gandhi\"\n",
    "                 :\"Kevin Bacon\"]"
   ]
  },
  {
   "cell_type": "code",
   "execution_count": 6,
   "id": "bdfae7f3",
   "metadata": {
    "cell_style": "center",
    "slideshow": {
     "slide_type": "slide"
    }
   },
   "outputs": [],
   "source": [
    "#can do fast computation like a numpy array\n",
    "\n",
    "# A new set of values. Kevin Bacon bought an extra car and Billy Bob bought two more. \n",
    "delta_cars = {'Mohandas Gandhi': 0, 'Billy Bob Thornton': 2, \n",
    "              'Saddam Hussein': 0, 'Kevin Bacon': 1, 'Muammar Qaddafi': 0}\n",
    "\n",
    "delta_cars_series = pd.Series(delta_cars)"
   ]
  },
  {
   "cell_type": "code",
   "execution_count": 7,
   "id": "ceb5dd99",
   "metadata": {
    "cell_style": "split",
    "slideshow": {
     "slide_type": "slide"
    }
   },
   "outputs": [
    {
     "name": "stdout",
     "output_type": "stream",
     "text": [
      "Mohandas Gandhi       0\n",
      "Billy Bob Thornton    2\n",
      "Saddam Hussein        0\n",
      "Kevin Bacon           1\n",
      "Muammar Qaddafi       0\n",
      "dtype: int64\n"
     ]
    }
   ],
   "source": [
    "print(delta_cars_series)"
   ]
  },
  {
   "cell_type": "code",
   "execution_count": 8,
   "id": "fbabfd7d",
   "metadata": {
    "cell_style": "split",
    "slideshow": {
     "slide_type": "fragment"
    }
   },
   "outputs": [
    {
     "name": "stdout",
     "output_type": "stream",
     "text": [
      "Muammar Qaddafi       25000\n",
      "Mohandas Gandhi           0\n",
      "Saddam Hussein         4500\n",
      "Kevin Bacon               2\n",
      "Billy Bob Thornton        8\n",
      "dtype: int64\n"
     ]
    }
   ],
   "source": [
    "print(car_owner_series)"
   ]
  },
  {
   "cell_type": "markdown",
   "id": "4cd9a03b",
   "metadata": {
    "slideshow": {
     "slide_type": "slide"
    }
   },
   "source": [
    "Want to update but the two series are not in the same order.\n",
    "\n",
    "No problem for pandas."
   ]
  },
  {
   "cell_type": "code",
   "execution_count": 9,
   "id": "8e05513b",
   "metadata": {},
   "outputs": [
    {
     "name": "stdout",
     "output_type": "stream",
     "text": [
      "Billy Bob Thornton       10\n",
      "Kevin Bacon               3\n",
      "Mohandas Gandhi           0\n",
      "Muammar Qaddafi       25000\n",
      "Saddam Hussein         4500\n",
      "dtype: int64\n"
     ]
    }
   ],
   "source": [
    "new_car_series = car_owner_series + delta_cars_series\n",
    "print(new_car_series)"
   ]
  },
  {
   "cell_type": "markdown",
   "id": "a8e2892b",
   "metadata": {
    "slideshow": {
     "slide_type": "slide"
    }
   },
   "source": [
    "#### Some important Series attributes\n",
    "\n",
    "- The Series.index attribute: list of indices (keys)"
   ]
  },
  {
   "cell_type": "code",
   "execution_count": 10,
   "id": "44cd22d9",
   "metadata": {
    "slideshow": {
     "slide_type": "-"
    }
   },
   "outputs": [
    {
     "data": {
      "text/plain": [
       "Index(['Billy Bob Thornton', 'Kevin Bacon', 'Mohandas Gandhi',\n",
       "       'Muammar Qaddafi', 'Saddam Hussein'],\n",
       "      dtype='object')"
      ]
     },
     "execution_count": 10,
     "metadata": {},
     "output_type": "execute_result"
    }
   ],
   "source": [
    "new_car_series.index"
   ]
  },
  {
   "cell_type": "markdown",
   "id": "302f6e9c",
   "metadata": {
    "slideshow": {
     "slide_type": "slide"
    }
   },
   "source": [
    "- The Series.values attribute: series values returns as numpy array"
   ]
  },
  {
   "cell_type": "code",
   "execution_count": 11,
   "id": "9fae8d2e",
   "metadata": {
    "slideshow": {
     "slide_type": "-"
    }
   },
   "outputs": [
    {
     "data": {
      "text/plain": [
       "array([   10,     3,     0, 25000,  4500], dtype=int64)"
      ]
     },
     "execution_count": 11,
     "metadata": {},
     "output_type": "execute_result"
    }
   ],
   "source": [
    "new_car_series.values"
   ]
  },
  {
   "cell_type": "markdown",
   "id": "cf9a0b98",
   "metadata": {
    "slideshow": {
     "slide_type": "slide"
    }
   },
   "source": [
    "- The Series.name attribute: the name of the series"
   ]
  },
  {
   "cell_type": "code",
   "execution_count": 13,
   "id": "7bb16b8d",
   "metadata": {
    "slideshow": {
     "slide_type": "-"
    }
   },
   "outputs": [
    {
     "name": "stdout",
     "output_type": "stream",
     "text": [
      "Billy Bob Thornton       10\n",
      "Kevin Bacon               3\n",
      "Mohandas Gandhi           0\n",
      "Muammar Qaddafi       25000\n",
      "Saddam Hussein         4500\n",
      "Name: Max cars owned, dtype: int64\n"
     ]
    }
   ],
   "source": [
    "new_car_series.name = 'Max cars owned'\n",
    "print(new_car_series)"
   ]
  },
  {
   "cell_type": "code",
   "execution_count": 14,
   "id": "e26a0e33",
   "metadata": {},
   "outputs": [
    {
     "data": {
      "text/plain": [
       "'Max cars owned'"
      ]
     },
     "execution_count": 14,
     "metadata": {},
     "output_type": "execute_result"
    }
   ],
   "source": [
    "new_car_series.name"
   ]
  },
  {
   "cell_type": "markdown",
   "id": "c1764dbe",
   "metadata": {
    "slideshow": {
     "slide_type": "slide"
    }
   },
   "source": [
    "- The Series.dtype: data type for Series values"
   ]
  },
  {
   "cell_type": "code",
   "execution_count": 18,
   "id": "157b5524",
   "metadata": {},
   "outputs": [
    {
     "data": {
      "text/plain": [
       "dtype('int64')"
      ]
     },
     "execution_count": 18,
     "metadata": {},
     "output_type": "execute_result"
    }
   ],
   "source": [
    "new_car_series.dtype"
   ]
  },
  {
   "cell_type": "markdown",
   "id": "479b54ab",
   "metadata": {
    "slideshow": {
     "slide_type": "slide"
    }
   },
   "source": [
    "Series have some various attached methods.\n",
    "\n",
    "Examples: sorting by max cars in descending order:"
   ]
  },
  {
   "cell_type": "code",
   "execution_count": 17,
   "id": "045abf6f",
   "metadata": {},
   "outputs": [
    {
     "data": {
      "text/plain": [
       "Muammar Qaddafi       25000\n",
       "Saddam Hussein         4500\n",
       "Billy Bob Thornton       10\n",
       "Kevin Bacon               3\n",
       "Mohandas Gandhi           0\n",
       "Name: Max cars owned, dtype: int64"
      ]
     },
     "execution_count": 17,
     "metadata": {},
     "output_type": "execute_result"
    }
   ],
   "source": [
    "new_car_series.sort_values(ascending = False)"
   ]
  },
  {
   "cell_type": "markdown",
   "id": "bbbcfe8b",
   "metadata": {
    "slideshow": {
     "slide_type": "slide"
    }
   },
   "source": [
    "Series have:\n",
    "- native methods for handling time series data\n",
    "- whole host of other nice methods.\n",
    "\n",
    "Will see these later."
   ]
  },
  {
   "cell_type": "markdown",
   "id": "8764a0d2",
   "metadata": {
    "slideshow": {
     "slide_type": "slide"
    }
   },
   "source": [
    "#### Pandas DataFrames\n",
    "\n",
    "We saw these before with the heart disease dataset. Tabular data structure.\n",
    "\n",
    "Let' take a new dataset that has data about various breakfast cereals."
   ]
  },
  {
   "cell_type": "code",
   "execution_count": 19,
   "id": "4dd936d7",
   "metadata": {},
   "outputs": [],
   "source": [
    "cereal_df = pd.read_csv('Data/cereal.csv', index_col = 'name')"
   ]
  },
  {
   "cell_type": "markdown",
   "id": "056c1022",
   "metadata": {
    "slideshow": {
     "slide_type": "slide"
    }
   },
   "source": [
    "Often want a quick view of the first few entries in the table data.\n",
    "\n",
    "The .head() method:"
   ]
  },
  {
   "cell_type": "code",
   "execution_count": 24,
   "id": "a37111d9",
   "metadata": {},
   "outputs": [
    {
     "data": {
      "text/html": [
       "<div>\n",
       "<style scoped>\n",
       "    .dataframe tbody tr th:only-of-type {\n",
       "        vertical-align: middle;\n",
       "    }\n",
       "\n",
       "    .dataframe tbody tr th {\n",
       "        vertical-align: top;\n",
       "    }\n",
       "\n",
       "    .dataframe thead th {\n",
       "        text-align: right;\n",
       "    }\n",
       "</style>\n",
       "<table border=\"1\" class=\"dataframe\">\n",
       "  <thead>\n",
       "    <tr style=\"text-align: right;\">\n",
       "      <th></th>\n",
       "      <th>mfr</th>\n",
       "      <th>type</th>\n",
       "      <th>calories</th>\n",
       "      <th>protein</th>\n",
       "      <th>fat</th>\n",
       "      <th>sodium</th>\n",
       "      <th>fiber</th>\n",
       "      <th>carbo</th>\n",
       "      <th>sugars</th>\n",
       "      <th>potass</th>\n",
       "      <th>vitamins</th>\n",
       "      <th>shelf</th>\n",
       "      <th>weight</th>\n",
       "      <th>cups</th>\n",
       "      <th>rating</th>\n",
       "    </tr>\n",
       "    <tr>\n",
       "      <th>name</th>\n",
       "      <th></th>\n",
       "      <th></th>\n",
       "      <th></th>\n",
       "      <th></th>\n",
       "      <th></th>\n",
       "      <th></th>\n",
       "      <th></th>\n",
       "      <th></th>\n",
       "      <th></th>\n",
       "      <th></th>\n",
       "      <th></th>\n",
       "      <th></th>\n",
       "      <th></th>\n",
       "      <th></th>\n",
       "      <th></th>\n",
       "    </tr>\n",
       "  </thead>\n",
       "  <tbody>\n",
       "    <tr>\n",
       "      <th>100% Bran</th>\n",
       "      <td>N</td>\n",
       "      <td>C</td>\n",
       "      <td>70</td>\n",
       "      <td>4</td>\n",
       "      <td>1</td>\n",
       "      <td>130</td>\n",
       "      <td>10.0</td>\n",
       "      <td>5.0</td>\n",
       "      <td>6</td>\n",
       "      <td>280</td>\n",
       "      <td>25</td>\n",
       "      <td>3</td>\n",
       "      <td>1.0</td>\n",
       "      <td>0.33</td>\n",
       "      <td>68.402973</td>\n",
       "    </tr>\n",
       "    <tr>\n",
       "      <th>100% Natural Bran</th>\n",
       "      <td>Q</td>\n",
       "      <td>C</td>\n",
       "      <td>120</td>\n",
       "      <td>3</td>\n",
       "      <td>5</td>\n",
       "      <td>15</td>\n",
       "      <td>2.0</td>\n",
       "      <td>8.0</td>\n",
       "      <td>8</td>\n",
       "      <td>135</td>\n",
       "      <td>0</td>\n",
       "      <td>3</td>\n",
       "      <td>1.0</td>\n",
       "      <td>1.00</td>\n",
       "      <td>33.983679</td>\n",
       "    </tr>\n",
       "  </tbody>\n",
       "</table>\n",
       "</div>"
      ],
      "text/plain": [
       "                  mfr type  calories  protein  fat  sodium  fiber  carbo  \\\n",
       "name                                                                       \n",
       "100% Bran           N    C        70        4    1     130   10.0    5.0   \n",
       "100% Natural Bran   Q    C       120        3    5      15    2.0    8.0   \n",
       "\n",
       "                   sugars  potass  vitamins  shelf  weight  cups     rating  \n",
       "name                                                                         \n",
       "100% Bran               6     280        25      3     1.0  0.33  68.402973  \n",
       "100% Natural Bran       8     135         0      3     1.0  1.00  33.983679  "
      ]
     },
     "execution_count": 24,
     "metadata": {},
     "output_type": "execute_result"
    }
   ],
   "source": [
    "cereal_df.head(2) # default returns first 5 elements"
   ]
  },
  {
   "cell_type": "markdown",
   "id": "9486d154",
   "metadata": {
    "slideshow": {
     "slide_type": "slide"
    }
   },
   "source": [
    "Less common, take a look at the end:\n",
    "\n",
    "The .tail() method:"
   ]
  },
  {
   "cell_type": "code",
   "execution_count": 25,
   "id": "594fa7c3",
   "metadata": {
    "scrolled": true
   },
   "outputs": [
    {
     "data": {
      "text/html": [
       "<div>\n",
       "<style scoped>\n",
       "    .dataframe tbody tr th:only-of-type {\n",
       "        vertical-align: middle;\n",
       "    }\n",
       "\n",
       "    .dataframe tbody tr th {\n",
       "        vertical-align: top;\n",
       "    }\n",
       "\n",
       "    .dataframe thead th {\n",
       "        text-align: right;\n",
       "    }\n",
       "</style>\n",
       "<table border=\"1\" class=\"dataframe\">\n",
       "  <thead>\n",
       "    <tr style=\"text-align: right;\">\n",
       "      <th></th>\n",
       "      <th>mfr</th>\n",
       "      <th>type</th>\n",
       "      <th>calories</th>\n",
       "      <th>protein</th>\n",
       "      <th>fat</th>\n",
       "      <th>sodium</th>\n",
       "      <th>fiber</th>\n",
       "      <th>carbo</th>\n",
       "      <th>sugars</th>\n",
       "      <th>potass</th>\n",
       "      <th>vitamins</th>\n",
       "      <th>shelf</th>\n",
       "      <th>weight</th>\n",
       "      <th>cups</th>\n",
       "      <th>rating</th>\n",
       "    </tr>\n",
       "    <tr>\n",
       "      <th>name</th>\n",
       "      <th></th>\n",
       "      <th></th>\n",
       "      <th></th>\n",
       "      <th></th>\n",
       "      <th></th>\n",
       "      <th></th>\n",
       "      <th></th>\n",
       "      <th></th>\n",
       "      <th></th>\n",
       "      <th></th>\n",
       "      <th></th>\n",
       "      <th></th>\n",
       "      <th></th>\n",
       "      <th></th>\n",
       "      <th></th>\n",
       "    </tr>\n",
       "  </thead>\n",
       "  <tbody>\n",
       "    <tr>\n",
       "      <th>Triples</th>\n",
       "      <td>G</td>\n",
       "      <td>C</td>\n",
       "      <td>110</td>\n",
       "      <td>2</td>\n",
       "      <td>1</td>\n",
       "      <td>250</td>\n",
       "      <td>0.0</td>\n",
       "      <td>21.0</td>\n",
       "      <td>3</td>\n",
       "      <td>60</td>\n",
       "      <td>25</td>\n",
       "      <td>3</td>\n",
       "      <td>1.0</td>\n",
       "      <td>0.75</td>\n",
       "      <td>39.106174</td>\n",
       "    </tr>\n",
       "    <tr>\n",
       "      <th>Trix</th>\n",
       "      <td>G</td>\n",
       "      <td>C</td>\n",
       "      <td>110</td>\n",
       "      <td>1</td>\n",
       "      <td>1</td>\n",
       "      <td>140</td>\n",
       "      <td>0.0</td>\n",
       "      <td>13.0</td>\n",
       "      <td>12</td>\n",
       "      <td>25</td>\n",
       "      <td>25</td>\n",
       "      <td>2</td>\n",
       "      <td>1.0</td>\n",
       "      <td>1.00</td>\n",
       "      <td>27.753301</td>\n",
       "    </tr>\n",
       "    <tr>\n",
       "      <th>Wheat Chex</th>\n",
       "      <td>R</td>\n",
       "      <td>C</td>\n",
       "      <td>100</td>\n",
       "      <td>3</td>\n",
       "      <td>1</td>\n",
       "      <td>230</td>\n",
       "      <td>3.0</td>\n",
       "      <td>17.0</td>\n",
       "      <td>3</td>\n",
       "      <td>115</td>\n",
       "      <td>25</td>\n",
       "      <td>1</td>\n",
       "      <td>1.0</td>\n",
       "      <td>0.67</td>\n",
       "      <td>49.787445</td>\n",
       "    </tr>\n",
       "    <tr>\n",
       "      <th>Wheaties</th>\n",
       "      <td>G</td>\n",
       "      <td>C</td>\n",
       "      <td>100</td>\n",
       "      <td>3</td>\n",
       "      <td>1</td>\n",
       "      <td>200</td>\n",
       "      <td>3.0</td>\n",
       "      <td>17.0</td>\n",
       "      <td>3</td>\n",
       "      <td>110</td>\n",
       "      <td>25</td>\n",
       "      <td>1</td>\n",
       "      <td>1.0</td>\n",
       "      <td>1.00</td>\n",
       "      <td>51.592193</td>\n",
       "    </tr>\n",
       "    <tr>\n",
       "      <th>Wheaties Honey Gold</th>\n",
       "      <td>G</td>\n",
       "      <td>C</td>\n",
       "      <td>110</td>\n",
       "      <td>2</td>\n",
       "      <td>1</td>\n",
       "      <td>200</td>\n",
       "      <td>1.0</td>\n",
       "      <td>16.0</td>\n",
       "      <td>8</td>\n",
       "      <td>60</td>\n",
       "      <td>25</td>\n",
       "      <td>1</td>\n",
       "      <td>1.0</td>\n",
       "      <td>0.75</td>\n",
       "      <td>36.187559</td>\n",
       "    </tr>\n",
       "  </tbody>\n",
       "</table>\n",
       "</div>"
      ],
      "text/plain": [
       "                    mfr type  calories  protein  fat  sodium  fiber  carbo  \\\n",
       "name                                                                         \n",
       "Triples               G    C       110        2    1     250    0.0   21.0   \n",
       "Trix                  G    C       110        1    1     140    0.0   13.0   \n",
       "Wheat Chex            R    C       100        3    1     230    3.0   17.0   \n",
       "Wheaties              G    C       100        3    1     200    3.0   17.0   \n",
       "Wheaties Honey Gold   G    C       110        2    1     200    1.0   16.0   \n",
       "\n",
       "                     sugars  potass  vitamins  shelf  weight  cups     rating  \n",
       "name                                                                           \n",
       "Triples                   3      60        25      3     1.0  0.75  39.106174  \n",
       "Trix                     12      25        25      2     1.0  1.00  27.753301  \n",
       "Wheat Chex                3     115        25      1     1.0  0.67  49.787445  \n",
       "Wheaties                  3     110        25      1     1.0  1.00  51.592193  \n",
       "Wheaties Honey Gold       8      60        25      1     1.0  0.75  36.187559  "
      ]
     },
     "execution_count": 25,
     "metadata": {},
     "output_type": "execute_result"
    }
   ],
   "source": [
    "cereal_df.tail()"
   ]
  },
  {
   "cell_type": "markdown",
   "id": "a2337765",
   "metadata": {
    "slideshow": {
     "slide_type": "slide"
    }
   },
   "source": [
    "Good common practice: \n",
    "\n",
    "Start by looking at some metadata and descriptive statistics on DataFrame.\n",
    "\n",
    "- .info() method: column data type. Any nulls?\n",
    "- .describe() method: statistics for each column"
   ]
  },
  {
   "cell_type": "code",
   "execution_count": 26,
   "id": "dd90c056",
   "metadata": {
    "cell_style": "split",
    "scrolled": false,
    "slideshow": {
     "slide_type": "subslide"
    }
   },
   "outputs": [
    {
     "name": "stdout",
     "output_type": "stream",
     "text": [
      "<class 'pandas.core.frame.DataFrame'>\n",
      "Index: 77 entries, 100% Bran to Wheaties Honey Gold\n",
      "Data columns (total 15 columns):\n",
      " #   Column    Non-Null Count  Dtype  \n",
      "---  ------    --------------  -----  \n",
      " 0   mfr       77 non-null     object \n",
      " 1   type      77 non-null     object \n",
      " 2   calories  77 non-null     int64  \n",
      " 3   protein   77 non-null     int64  \n",
      " 4   fat       77 non-null     int64  \n",
      " 5   sodium    77 non-null     int64  \n",
      " 6   fiber     77 non-null     float64\n",
      " 7   carbo     77 non-null     float64\n",
      " 8   sugars    77 non-null     int64  \n",
      " 9   potass    77 non-null     int64  \n",
      " 10  vitamins  77 non-null     int64  \n",
      " 11  shelf     77 non-null     int64  \n",
      " 12  weight    77 non-null     float64\n",
      " 13  cups      77 non-null     float64\n",
      " 14  rating    77 non-null     float64\n",
      "dtypes: float64(5), int64(8), object(2)\n",
      "memory usage: 9.6+ KB\n"
     ]
    }
   ],
   "source": [
    "cereal_df.info()"
   ]
  },
  {
   "cell_type": "code",
   "execution_count": 26,
   "id": "f76f5216",
   "metadata": {
    "cell_style": "split",
    "slideshow": {
     "slide_type": "fragment"
    }
   },
   "outputs": [
    {
     "data": {
      "text/html": [
       "<div>\n",
       "<style scoped>\n",
       "    .dataframe tbody tr th:only-of-type {\n",
       "        vertical-align: middle;\n",
       "    }\n",
       "\n",
       "    .dataframe tbody tr th {\n",
       "        vertical-align: top;\n",
       "    }\n",
       "\n",
       "    .dataframe thead th {\n",
       "        text-align: right;\n",
       "    }\n",
       "</style>\n",
       "<table border=\"1\" class=\"dataframe\">\n",
       "  <thead>\n",
       "    <tr style=\"text-align: right;\">\n",
       "      <th></th>\n",
       "      <th>calories</th>\n",
       "      <th>protein</th>\n",
       "      <th>fat</th>\n",
       "      <th>sodium</th>\n",
       "      <th>fiber</th>\n",
       "      <th>carbo</th>\n",
       "      <th>sugars</th>\n",
       "      <th>potass</th>\n",
       "      <th>vitamins</th>\n",
       "      <th>shelf</th>\n",
       "      <th>weight</th>\n",
       "      <th>cups</th>\n",
       "      <th>rating</th>\n",
       "    </tr>\n",
       "  </thead>\n",
       "  <tbody>\n",
       "    <tr>\n",
       "      <th>count</th>\n",
       "      <td>77.000000</td>\n",
       "      <td>77.000000</td>\n",
       "      <td>77.000000</td>\n",
       "      <td>77.000000</td>\n",
       "      <td>77.000000</td>\n",
       "      <td>77.000000</td>\n",
       "      <td>77.000000</td>\n",
       "      <td>77.000000</td>\n",
       "      <td>77.000000</td>\n",
       "      <td>77.000000</td>\n",
       "      <td>77.000000</td>\n",
       "      <td>77.000000</td>\n",
       "      <td>77.000000</td>\n",
       "    </tr>\n",
       "    <tr>\n",
       "      <th>mean</th>\n",
       "      <td>106.883117</td>\n",
       "      <td>2.545455</td>\n",
       "      <td>1.012987</td>\n",
       "      <td>159.675325</td>\n",
       "      <td>2.151948</td>\n",
       "      <td>14.597403</td>\n",
       "      <td>6.922078</td>\n",
       "      <td>96.077922</td>\n",
       "      <td>28.246753</td>\n",
       "      <td>2.207792</td>\n",
       "      <td>1.029610</td>\n",
       "      <td>0.821039</td>\n",
       "      <td>42.665705</td>\n",
       "    </tr>\n",
       "    <tr>\n",
       "      <th>std</th>\n",
       "      <td>19.484119</td>\n",
       "      <td>1.094790</td>\n",
       "      <td>1.006473</td>\n",
       "      <td>83.832295</td>\n",
       "      <td>2.383364</td>\n",
       "      <td>4.278956</td>\n",
       "      <td>4.444885</td>\n",
       "      <td>71.286813</td>\n",
       "      <td>22.342523</td>\n",
       "      <td>0.832524</td>\n",
       "      <td>0.150477</td>\n",
       "      <td>0.232716</td>\n",
       "      <td>14.047289</td>\n",
       "    </tr>\n",
       "    <tr>\n",
       "      <th>min</th>\n",
       "      <td>50.000000</td>\n",
       "      <td>1.000000</td>\n",
       "      <td>0.000000</td>\n",
       "      <td>0.000000</td>\n",
       "      <td>0.000000</td>\n",
       "      <td>-1.000000</td>\n",
       "      <td>-1.000000</td>\n",
       "      <td>-1.000000</td>\n",
       "      <td>0.000000</td>\n",
       "      <td>1.000000</td>\n",
       "      <td>0.500000</td>\n",
       "      <td>0.250000</td>\n",
       "      <td>18.042851</td>\n",
       "    </tr>\n",
       "    <tr>\n",
       "      <th>25%</th>\n",
       "      <td>100.000000</td>\n",
       "      <td>2.000000</td>\n",
       "      <td>0.000000</td>\n",
       "      <td>130.000000</td>\n",
       "      <td>1.000000</td>\n",
       "      <td>12.000000</td>\n",
       "      <td>3.000000</td>\n",
       "      <td>40.000000</td>\n",
       "      <td>25.000000</td>\n",
       "      <td>1.000000</td>\n",
       "      <td>1.000000</td>\n",
       "      <td>0.670000</td>\n",
       "      <td>33.174094</td>\n",
       "    </tr>\n",
       "    <tr>\n",
       "      <th>50%</th>\n",
       "      <td>110.000000</td>\n",
       "      <td>3.000000</td>\n",
       "      <td>1.000000</td>\n",
       "      <td>180.000000</td>\n",
       "      <td>2.000000</td>\n",
       "      <td>14.000000</td>\n",
       "      <td>7.000000</td>\n",
       "      <td>90.000000</td>\n",
       "      <td>25.000000</td>\n",
       "      <td>2.000000</td>\n",
       "      <td>1.000000</td>\n",
       "      <td>0.750000</td>\n",
       "      <td>40.400208</td>\n",
       "    </tr>\n",
       "    <tr>\n",
       "      <th>75%</th>\n",
       "      <td>110.000000</td>\n",
       "      <td>3.000000</td>\n",
       "      <td>2.000000</td>\n",
       "      <td>210.000000</td>\n",
       "      <td>3.000000</td>\n",
       "      <td>17.000000</td>\n",
       "      <td>11.000000</td>\n",
       "      <td>120.000000</td>\n",
       "      <td>25.000000</td>\n",
       "      <td>3.000000</td>\n",
       "      <td>1.000000</td>\n",
       "      <td>1.000000</td>\n",
       "      <td>50.828392</td>\n",
       "    </tr>\n",
       "    <tr>\n",
       "      <th>max</th>\n",
       "      <td>160.000000</td>\n",
       "      <td>6.000000</td>\n",
       "      <td>5.000000</td>\n",
       "      <td>320.000000</td>\n",
       "      <td>14.000000</td>\n",
       "      <td>23.000000</td>\n",
       "      <td>15.000000</td>\n",
       "      <td>330.000000</td>\n",
       "      <td>100.000000</td>\n",
       "      <td>3.000000</td>\n",
       "      <td>1.500000</td>\n",
       "      <td>1.500000</td>\n",
       "      <td>93.704912</td>\n",
       "    </tr>\n",
       "  </tbody>\n",
       "</table>\n",
       "</div>"
      ],
      "text/plain": [
       "         calories    protein        fat      sodium      fiber      carbo  \\\n",
       "count   77.000000  77.000000  77.000000   77.000000  77.000000  77.000000   \n",
       "mean   106.883117   2.545455   1.012987  159.675325   2.151948  14.597403   \n",
       "std     19.484119   1.094790   1.006473   83.832295   2.383364   4.278956   \n",
       "min     50.000000   1.000000   0.000000    0.000000   0.000000  -1.000000   \n",
       "25%    100.000000   2.000000   0.000000  130.000000   1.000000  12.000000   \n",
       "50%    110.000000   3.000000   1.000000  180.000000   2.000000  14.000000   \n",
       "75%    110.000000   3.000000   2.000000  210.000000   3.000000  17.000000   \n",
       "max    160.000000   6.000000   5.000000  320.000000  14.000000  23.000000   \n",
       "\n",
       "          sugars      potass    vitamins      shelf     weight       cups  \\\n",
       "count  77.000000   77.000000   77.000000  77.000000  77.000000  77.000000   \n",
       "mean    6.922078   96.077922   28.246753   2.207792   1.029610   0.821039   \n",
       "std     4.444885   71.286813   22.342523   0.832524   0.150477   0.232716   \n",
       "min    -1.000000   -1.000000    0.000000   1.000000   0.500000   0.250000   \n",
       "25%     3.000000   40.000000   25.000000   1.000000   1.000000   0.670000   \n",
       "50%     7.000000   90.000000   25.000000   2.000000   1.000000   0.750000   \n",
       "75%    11.000000  120.000000   25.000000   3.000000   1.000000   1.000000   \n",
       "max    15.000000  330.000000  100.000000   3.000000   1.500000   1.500000   \n",
       "\n",
       "          rating  \n",
       "count  77.000000  \n",
       "mean   42.665705  \n",
       "std    14.047289  \n",
       "min    18.042851  \n",
       "25%    33.174094  \n",
       "50%    40.400208  \n",
       "75%    50.828392  \n",
       "max    93.704912  "
      ]
     },
     "execution_count": 26,
     "metadata": {},
     "output_type": "execute_result"
    }
   ],
   "source": [
    "cereal_df.describe()"
   ]
  },
  {
   "cell_type": "markdown",
   "id": "8120dae2",
   "metadata": {
    "slideshow": {
     "slide_type": "slide"
    }
   },
   "source": [
    "Important basic DataFrame attributes:\n",
    "\n",
    "- DataFrame.index: list of index names for rows\n",
    "- DataFrame.columns: list of column names\n",
    "- DataFrame.shape: returns (number rows, number columns) tuple.\n"
   ]
  },
  {
   "cell_type": "code",
   "execution_count": 27,
   "id": "0000e67d",
   "metadata": {
    "cell_style": "split",
    "slideshow": {
     "slide_type": "subslide"
    }
   },
   "outputs": [
    {
     "data": {
      "text/plain": [
       "Index(['mfr', 'type', 'calories', 'protein', 'fat', 'sodium', 'fiber', 'carbo',\n",
       "       'sugars', 'potass', 'vitamins', 'shelf', 'weight', 'cups', 'rating'],\n",
       "      dtype='object')"
      ]
     },
     "execution_count": 27,
     "metadata": {},
     "output_type": "execute_result"
    }
   ],
   "source": [
    "cereal_df.columns"
   ]
  },
  {
   "cell_type": "code",
   "execution_count": 28,
   "id": "29ac670b",
   "metadata": {
    "cell_style": "split",
    "slideshow": {
     "slide_type": "fragment"
    }
   },
   "outputs": [
    {
     "data": {
      "text/plain": [
       "Index(['100% Bran', '100% Natural Bran', 'All-Bran',\n",
       "       'All-Bran with Extra Fiber', 'Almond Delight',\n",
       "       'Apple Cinnamon Cheerios', 'Apple Jacks', 'Basic 4', 'Bran Chex',\n",
       "       'Bran Flakes'],\n",
       "      dtype='object', name='name')"
      ]
     },
     "execution_count": 28,
     "metadata": {},
     "output_type": "execute_result"
    }
   ],
   "source": [
    "cereal_df.index[0:10]"
   ]
  },
  {
   "cell_type": "code",
   "execution_count": 29,
   "id": "d8a1a206",
   "metadata": {
    "cell_style": "split",
    "slideshow": {
     "slide_type": "fragment"
    }
   },
   "outputs": [
    {
     "data": {
      "text/plain": [
       "(77, 15)"
      ]
     },
     "execution_count": 29,
     "metadata": {},
     "output_type": "execute_result"
    }
   ],
   "source": [
    "cereal_df.shape"
   ]
  },
  {
   "cell_type": "markdown",
   "id": "4773ba8b",
   "metadata": {
    "slideshow": {
     "slide_type": "slide"
    }
   },
   "source": [
    "#### Accessing data in a DataFrame\n",
    "\n",
    "Accessing data in a Series by named index is easy. Remember:"
   ]
  },
  {
   "cell_type": "code",
   "execution_count": 30,
   "id": "fe32dba8",
   "metadata": {
    "slideshow": {
     "slide_type": "subslide"
    }
   },
   "outputs": [
    {
     "data": {
      "text/plain": [
       "10"
      ]
     },
     "execution_count": 30,
     "metadata": {},
     "output_type": "execute_result"
    }
   ],
   "source": [
    "new_car_series['Billy Bob Thornton']"
   ]
  },
  {
   "cell_type": "markdown",
   "id": "76765ced",
   "metadata": {
    "slideshow": {
     "slide_type": "slide"
    }
   },
   "source": [
    "DataFrames: can access entire **columns** in a similar way. Access the calories column."
   ]
  },
  {
   "cell_type": "code",
   "execution_count": 31,
   "id": "40455bce",
   "metadata": {
    "slideshow": {
     "slide_type": "subslide"
    }
   },
   "outputs": [
    {
     "data": {
      "text/plain": [
       "name\n",
       "100% Bran                     70\n",
       "100% Natural Bran            120\n",
       "All-Bran                      70\n",
       "All-Bran with Extra Fiber     50\n",
       "Almond Delight               110\n",
       "                            ... \n",
       "Triples                      110\n",
       "Trix                         110\n",
       "Wheat Chex                   100\n",
       "Wheaties                     100\n",
       "Wheaties Honey Gold          110\n",
       "Name: calories, Length: 77, dtype: int64"
      ]
     },
     "execution_count": 31,
     "metadata": {},
     "output_type": "execute_result"
    }
   ],
   "source": [
    "cereal_df['calories']"
   ]
  },
  {
   "cell_type": "code",
   "execution_count": 35,
   "id": "0f6fb375",
   "metadata": {
    "scrolled": true,
    "slideshow": {
     "slide_type": "subslide"
    }
   },
   "outputs": [
    {
     "data": {
      "text/plain": [
       "name\n",
       "100% Bran                     70\n",
       "100% Natural Bran            120\n",
       "All-Bran                      70\n",
       "All-Bran with Extra Fiber     50\n",
       "Almond Delight               110\n",
       "                            ... \n",
       "Triples                      110\n",
       "Trix                         110\n",
       "Wheat Chex                   100\n",
       "Wheaties                     100\n",
       "Wheaties Honey Gold          110\n",
       "Name: calories, Length: 77, dtype: int64"
      ]
     },
     "execution_count": 35,
     "metadata": {},
     "output_type": "execute_result"
    }
   ],
   "source": [
    "cereal_df.calories # equivalent to cereal_df['calories']"
   ]
  },
  {
   "cell_type": "markdown",
   "id": "08c3233e",
   "metadata": {
    "slideshow": {
     "slide_type": "slide"
    }
   },
   "source": [
    "Wait a minute...this is returning a Series with name \"calories\"! \n",
    "\n",
    "Individual columns/rows extracted as pandas Series from the DataFrame architecture."
   ]
  },
  {
   "cell_type": "markdown",
   "id": "ed44248c",
   "metadata": {
    "slideshow": {
     "slide_type": "slide"
    }
   },
   "source": [
    "Can also extract data from a subset of the columns by passing in a list of column names.\n",
    "\n",
    "DataFrame[list of column names in subset]: returns a DataFrame"
   ]
  },
  {
   "cell_type": "code",
   "execution_count": 33,
   "id": "430f4342",
   "metadata": {
    "slideshow": {
     "slide_type": "subslide"
    }
   },
   "outputs": [
    {
     "data": {
      "text/html": [
       "<div>\n",
       "<style scoped>\n",
       "    .dataframe tbody tr th:only-of-type {\n",
       "        vertical-align: middle;\n",
       "    }\n",
       "\n",
       "    .dataframe tbody tr th {\n",
       "        vertical-align: top;\n",
       "    }\n",
       "\n",
       "    .dataframe thead th {\n",
       "        text-align: right;\n",
       "    }\n",
       "</style>\n",
       "<table border=\"1\" class=\"dataframe\">\n",
       "  <thead>\n",
       "    <tr style=\"text-align: right;\">\n",
       "      <th></th>\n",
       "      <th>calories</th>\n",
       "      <th>fat</th>\n",
       "      <th>sugars</th>\n",
       "    </tr>\n",
       "    <tr>\n",
       "      <th>name</th>\n",
       "      <th></th>\n",
       "      <th></th>\n",
       "      <th></th>\n",
       "    </tr>\n",
       "  </thead>\n",
       "  <tbody>\n",
       "    <tr>\n",
       "      <th>100% Bran</th>\n",
       "      <td>70</td>\n",
       "      <td>1</td>\n",
       "      <td>6</td>\n",
       "    </tr>\n",
       "    <tr>\n",
       "      <th>100% Natural Bran</th>\n",
       "      <td>120</td>\n",
       "      <td>5</td>\n",
       "      <td>8</td>\n",
       "    </tr>\n",
       "    <tr>\n",
       "      <th>All-Bran</th>\n",
       "      <td>70</td>\n",
       "      <td>1</td>\n",
       "      <td>5</td>\n",
       "    </tr>\n",
       "    <tr>\n",
       "      <th>All-Bran with Extra Fiber</th>\n",
       "      <td>50</td>\n",
       "      <td>0</td>\n",
       "      <td>0</td>\n",
       "    </tr>\n",
       "    <tr>\n",
       "      <th>Almond Delight</th>\n",
       "      <td>110</td>\n",
       "      <td>2</td>\n",
       "      <td>8</td>\n",
       "    </tr>\n",
       "    <tr>\n",
       "      <th>...</th>\n",
       "      <td>...</td>\n",
       "      <td>...</td>\n",
       "      <td>...</td>\n",
       "    </tr>\n",
       "    <tr>\n",
       "      <th>Triples</th>\n",
       "      <td>110</td>\n",
       "      <td>1</td>\n",
       "      <td>3</td>\n",
       "    </tr>\n",
       "    <tr>\n",
       "      <th>Trix</th>\n",
       "      <td>110</td>\n",
       "      <td>1</td>\n",
       "      <td>12</td>\n",
       "    </tr>\n",
       "    <tr>\n",
       "      <th>Wheat Chex</th>\n",
       "      <td>100</td>\n",
       "      <td>1</td>\n",
       "      <td>3</td>\n",
       "    </tr>\n",
       "    <tr>\n",
       "      <th>Wheaties</th>\n",
       "      <td>100</td>\n",
       "      <td>1</td>\n",
       "      <td>3</td>\n",
       "    </tr>\n",
       "    <tr>\n",
       "      <th>Wheaties Honey Gold</th>\n",
       "      <td>110</td>\n",
       "      <td>1</td>\n",
       "      <td>8</td>\n",
       "    </tr>\n",
       "  </tbody>\n",
       "</table>\n",
       "<p>77 rows × 3 columns</p>\n",
       "</div>"
      ],
      "text/plain": [
       "                           calories  fat  sugars\n",
       "name                                            \n",
       "100% Bran                        70    1       6\n",
       "100% Natural Bran               120    5       8\n",
       "All-Bran                         70    1       5\n",
       "All-Bran with Extra Fiber        50    0       0\n",
       "Almond Delight                  110    2       8\n",
       "...                             ...  ...     ...\n",
       "Triples                         110    1       3\n",
       "Trix                            110    1      12\n",
       "Wheat Chex                      100    1       3\n",
       "Wheaties                        100    1       3\n",
       "Wheaties Honey Gold             110    1       8\n",
       "\n",
       "[77 rows x 3 columns]"
      ]
     },
     "execution_count": 33,
     "metadata": {},
     "output_type": "execute_result"
    }
   ],
   "source": [
    "col_list = ['calories', 'fat', 'sugars']\n",
    "cereal_df[['calories', 'fat', 'sugars']]"
   ]
  },
  {
   "cell_type": "markdown",
   "id": "1e8ff227",
   "metadata": {
    "cell_style": "split",
    "slideshow": {
     "slide_type": "slide"
    }
   },
   "source": [
    "This is a new dataframe with just the accessed columns in the list. We can access a particular row and column as follows:\n",
    "\n",
    "DataFrame[column_name][row_name]"
   ]
  },
  {
   "cell_type": "code",
   "execution_count": 35,
   "id": "a877f9a6",
   "metadata": {
    "cell_style": "split",
    "slideshow": {
     "slide_type": "fragment"
    }
   },
   "outputs": [
    {
     "data": {
      "text/plain": [
       "12"
      ]
     },
     "execution_count": 35,
     "metadata": {},
     "output_type": "execute_result"
    }
   ],
   "source": [
    "cereal_df['sugars']['Fruity Pebbles']"
   ]
  },
  {
   "cell_type": "markdown",
   "id": "71e46f58",
   "metadata": {
    "slideshow": {
     "slide_type": "slide"
    }
   },
   "source": [
    "#### The .loc[] accessor:\n",
    "\n",
    "- Access single row by named index\n",
    "- Complex selections: slicing across both rows and columns, etc\n",
    "- Really important to use when assigning values in selections.\n",
    "\n",
    "1. DataFrame.loc[row_accessor]\n",
    "2. DataFrame.loc[row_accessor, column_accessor]\n"
   ]
  },
  {
   "cell_type": "markdown",
   "id": "512846b5",
   "metadata": {
    "slideshow": {
     "slide_type": "slide"
    }
   },
   "source": [
    "Accessing a single row with .loc[]"
   ]
  },
  {
   "cell_type": "code",
   "execution_count": 36,
   "id": "b97f3965",
   "metadata": {
    "cell_style": "split",
    "slideshow": {
     "slide_type": "subslide"
    }
   },
   "outputs": [
    {
     "data": {
      "text/html": [
       "<div>\n",
       "<style scoped>\n",
       "    .dataframe tbody tr th:only-of-type {\n",
       "        vertical-align: middle;\n",
       "    }\n",
       "\n",
       "    .dataframe tbody tr th {\n",
       "        vertical-align: top;\n",
       "    }\n",
       "\n",
       "    .dataframe thead th {\n",
       "        text-align: right;\n",
       "    }\n",
       "</style>\n",
       "<table border=\"1\" class=\"dataframe\">\n",
       "  <thead>\n",
       "    <tr style=\"text-align: right;\">\n",
       "      <th></th>\n",
       "      <th>mfr</th>\n",
       "      <th>type</th>\n",
       "      <th>calories</th>\n",
       "      <th>protein</th>\n",
       "      <th>fat</th>\n",
       "      <th>sodium</th>\n",
       "      <th>fiber</th>\n",
       "      <th>carbo</th>\n",
       "      <th>sugars</th>\n",
       "      <th>potass</th>\n",
       "      <th>vitamins</th>\n",
       "      <th>shelf</th>\n",
       "      <th>weight</th>\n",
       "      <th>cups</th>\n",
       "      <th>rating</th>\n",
       "    </tr>\n",
       "    <tr>\n",
       "      <th>name</th>\n",
       "      <th></th>\n",
       "      <th></th>\n",
       "      <th></th>\n",
       "      <th></th>\n",
       "      <th></th>\n",
       "      <th></th>\n",
       "      <th></th>\n",
       "      <th></th>\n",
       "      <th></th>\n",
       "      <th></th>\n",
       "      <th></th>\n",
       "      <th></th>\n",
       "      <th></th>\n",
       "      <th></th>\n",
       "      <th></th>\n",
       "    </tr>\n",
       "  </thead>\n",
       "  <tbody>\n",
       "    <tr>\n",
       "      <th>100% Bran</th>\n",
       "      <td>N</td>\n",
       "      <td>C</td>\n",
       "      <td>70</td>\n",
       "      <td>4</td>\n",
       "      <td>1</td>\n",
       "      <td>130</td>\n",
       "      <td>10.0</td>\n",
       "      <td>5.0</td>\n",
       "      <td>6</td>\n",
       "      <td>280</td>\n",
       "      <td>25</td>\n",
       "      <td>3</td>\n",
       "      <td>1.00</td>\n",
       "      <td>0.33</td>\n",
       "      <td>68.402973</td>\n",
       "    </tr>\n",
       "    <tr>\n",
       "      <th>100% Natural Bran</th>\n",
       "      <td>Q</td>\n",
       "      <td>C</td>\n",
       "      <td>120</td>\n",
       "      <td>3</td>\n",
       "      <td>5</td>\n",
       "      <td>15</td>\n",
       "      <td>2.0</td>\n",
       "      <td>8.0</td>\n",
       "      <td>8</td>\n",
       "      <td>135</td>\n",
       "      <td>0</td>\n",
       "      <td>3</td>\n",
       "      <td>1.00</td>\n",
       "      <td>1.00</td>\n",
       "      <td>33.983679</td>\n",
       "    </tr>\n",
       "    <tr>\n",
       "      <th>All-Bran</th>\n",
       "      <td>K</td>\n",
       "      <td>C</td>\n",
       "      <td>70</td>\n",
       "      <td>4</td>\n",
       "      <td>1</td>\n",
       "      <td>260</td>\n",
       "      <td>9.0</td>\n",
       "      <td>7.0</td>\n",
       "      <td>5</td>\n",
       "      <td>320</td>\n",
       "      <td>25</td>\n",
       "      <td>3</td>\n",
       "      <td>1.00</td>\n",
       "      <td>0.33</td>\n",
       "      <td>59.425505</td>\n",
       "    </tr>\n",
       "    <tr>\n",
       "      <th>All-Bran with Extra Fiber</th>\n",
       "      <td>K</td>\n",
       "      <td>C</td>\n",
       "      <td>50</td>\n",
       "      <td>4</td>\n",
       "      <td>0</td>\n",
       "      <td>140</td>\n",
       "      <td>14.0</td>\n",
       "      <td>8.0</td>\n",
       "      <td>0</td>\n",
       "      <td>330</td>\n",
       "      <td>25</td>\n",
       "      <td>3</td>\n",
       "      <td>1.00</td>\n",
       "      <td>0.50</td>\n",
       "      <td>93.704912</td>\n",
       "    </tr>\n",
       "    <tr>\n",
       "      <th>Almond Delight</th>\n",
       "      <td>R</td>\n",
       "      <td>C</td>\n",
       "      <td>110</td>\n",
       "      <td>2</td>\n",
       "      <td>2</td>\n",
       "      <td>200</td>\n",
       "      <td>1.0</td>\n",
       "      <td>14.0</td>\n",
       "      <td>8</td>\n",
       "      <td>-1</td>\n",
       "      <td>25</td>\n",
       "      <td>3</td>\n",
       "      <td>1.00</td>\n",
       "      <td>0.75</td>\n",
       "      <td>34.384843</td>\n",
       "    </tr>\n",
       "    <tr>\n",
       "      <th>Apple Cinnamon Cheerios</th>\n",
       "      <td>G</td>\n",
       "      <td>C</td>\n",
       "      <td>110</td>\n",
       "      <td>2</td>\n",
       "      <td>2</td>\n",
       "      <td>180</td>\n",
       "      <td>1.5</td>\n",
       "      <td>10.5</td>\n",
       "      <td>10</td>\n",
       "      <td>70</td>\n",
       "      <td>25</td>\n",
       "      <td>1</td>\n",
       "      <td>1.00</td>\n",
       "      <td>0.75</td>\n",
       "      <td>29.509541</td>\n",
       "    </tr>\n",
       "    <tr>\n",
       "      <th>Apple Jacks</th>\n",
       "      <td>K</td>\n",
       "      <td>C</td>\n",
       "      <td>110</td>\n",
       "      <td>2</td>\n",
       "      <td>0</td>\n",
       "      <td>125</td>\n",
       "      <td>1.0</td>\n",
       "      <td>11.0</td>\n",
       "      <td>14</td>\n",
       "      <td>30</td>\n",
       "      <td>25</td>\n",
       "      <td>2</td>\n",
       "      <td>1.00</td>\n",
       "      <td>1.00</td>\n",
       "      <td>33.174094</td>\n",
       "    </tr>\n",
       "    <tr>\n",
       "      <th>Basic 4</th>\n",
       "      <td>G</td>\n",
       "      <td>C</td>\n",
       "      <td>130</td>\n",
       "      <td>3</td>\n",
       "      <td>2</td>\n",
       "      <td>210</td>\n",
       "      <td>2.0</td>\n",
       "      <td>18.0</td>\n",
       "      <td>8</td>\n",
       "      <td>100</td>\n",
       "      <td>25</td>\n",
       "      <td>3</td>\n",
       "      <td>1.33</td>\n",
       "      <td>0.75</td>\n",
       "      <td>37.038562</td>\n",
       "    </tr>\n",
       "  </tbody>\n",
       "</table>\n",
       "</div>"
      ],
      "text/plain": [
       "                          mfr type  calories  protein  fat  sodium  fiber  \\\n",
       "name                                                                        \n",
       "100% Bran                   N    C        70        4    1     130   10.0   \n",
       "100% Natural Bran           Q    C       120        3    5      15    2.0   \n",
       "All-Bran                    K    C        70        4    1     260    9.0   \n",
       "All-Bran with Extra Fiber   K    C        50        4    0     140   14.0   \n",
       "Almond Delight              R    C       110        2    2     200    1.0   \n",
       "Apple Cinnamon Cheerios     G    C       110        2    2     180    1.5   \n",
       "Apple Jacks                 K    C       110        2    0     125    1.0   \n",
       "Basic 4                     G    C       130        3    2     210    2.0   \n",
       "\n",
       "                           carbo  sugars  potass  vitamins  shelf  weight  \\\n",
       "name                                                                        \n",
       "100% Bran                    5.0       6     280        25      3    1.00   \n",
       "100% Natural Bran            8.0       8     135         0      3    1.00   \n",
       "All-Bran                     7.0       5     320        25      3    1.00   \n",
       "All-Bran with Extra Fiber    8.0       0     330        25      3    1.00   \n",
       "Almond Delight              14.0       8      -1        25      3    1.00   \n",
       "Apple Cinnamon Cheerios     10.5      10      70        25      1    1.00   \n",
       "Apple Jacks                 11.0      14      30        25      2    1.00   \n",
       "Basic 4                     18.0       8     100        25      3    1.33   \n",
       "\n",
       "                           cups     rating  \n",
       "name                                        \n",
       "100% Bran                  0.33  68.402973  \n",
       "100% Natural Bran          1.00  33.983679  \n",
       "All-Bran                   0.33  59.425505  \n",
       "All-Bran with Extra Fiber  0.50  93.704912  \n",
       "Almond Delight             0.75  34.384843  \n",
       "Apple Cinnamon Cheerios    0.75  29.509541  \n",
       "Apple Jacks                1.00  33.174094  \n",
       "Basic 4                    0.75  37.038562  "
      ]
     },
     "execution_count": 36,
     "metadata": {},
     "output_type": "execute_result"
    }
   ],
   "source": [
    "cereal_df.head(8)"
   ]
  },
  {
   "cell_type": "code",
   "execution_count": 37,
   "id": "43bd7fcb",
   "metadata": {
    "cell_style": "split",
    "scrolled": true,
    "slideshow": {
     "slide_type": "fragment"
    }
   },
   "outputs": [
    {
     "data": {
      "text/plain": [
       "mfr                 K\n",
       "type                C\n",
       "calories           70\n",
       "protein             4\n",
       "fat                 1\n",
       "sodium            260\n",
       "fiber             9.0\n",
       "carbo             7.0\n",
       "sugars              5\n",
       "potass            320\n",
       "vitamins           25\n",
       "shelf               3\n",
       "weight            1.0\n",
       "cups             0.33\n",
       "rating      59.425505\n",
       "Name: All-Bran, dtype: object"
      ]
     },
     "execution_count": 37,
     "metadata": {},
     "output_type": "execute_result"
    }
   ],
   "source": [
    "cereal_df.loc['All-Bran']"
   ]
  },
  {
   "cell_type": "markdown",
   "id": "8b56e3cb",
   "metadata": {
    "slideshow": {
     "slide_type": "slide"
    }
   },
   "source": [
    "Accessing multiple rows:"
   ]
  },
  {
   "cell_type": "code",
   "execution_count": 40,
   "id": "a4edde72",
   "metadata": {
    "slideshow": {
     "slide_type": "subslide"
    }
   },
   "outputs": [
    {
     "data": {
      "text/html": [
       "<div>\n",
       "<style scoped>\n",
       "    .dataframe tbody tr th:only-of-type {\n",
       "        vertical-align: middle;\n",
       "    }\n",
       "\n",
       "    .dataframe tbody tr th {\n",
       "        vertical-align: top;\n",
       "    }\n",
       "\n",
       "    .dataframe thead th {\n",
       "        text-align: right;\n",
       "    }\n",
       "</style>\n",
       "<table border=\"1\" class=\"dataframe\">\n",
       "  <thead>\n",
       "    <tr style=\"text-align: right;\">\n",
       "      <th></th>\n",
       "      <th>mfr</th>\n",
       "      <th>type</th>\n",
       "      <th>calories</th>\n",
       "      <th>protein</th>\n",
       "      <th>fat</th>\n",
       "      <th>sodium</th>\n",
       "      <th>fiber</th>\n",
       "      <th>carbo</th>\n",
       "      <th>sugars</th>\n",
       "      <th>potass</th>\n",
       "      <th>vitamins</th>\n",
       "      <th>shelf</th>\n",
       "      <th>weight</th>\n",
       "      <th>cups</th>\n",
       "      <th>rating</th>\n",
       "    </tr>\n",
       "    <tr>\n",
       "      <th>name</th>\n",
       "      <th></th>\n",
       "      <th></th>\n",
       "      <th></th>\n",
       "      <th></th>\n",
       "      <th></th>\n",
       "      <th></th>\n",
       "      <th></th>\n",
       "      <th></th>\n",
       "      <th></th>\n",
       "      <th></th>\n",
       "      <th></th>\n",
       "      <th></th>\n",
       "      <th></th>\n",
       "      <th></th>\n",
       "      <th></th>\n",
       "    </tr>\n",
       "  </thead>\n",
       "  <tbody>\n",
       "    <tr>\n",
       "      <th>100% Bran</th>\n",
       "      <td>N</td>\n",
       "      <td>C</td>\n",
       "      <td>70</td>\n",
       "      <td>4</td>\n",
       "      <td>1</td>\n",
       "      <td>130</td>\n",
       "      <td>10.0</td>\n",
       "      <td>5.0</td>\n",
       "      <td>6</td>\n",
       "      <td>280</td>\n",
       "      <td>25</td>\n",
       "      <td>3</td>\n",
       "      <td>1.00</td>\n",
       "      <td>0.33</td>\n",
       "      <td>68.402973</td>\n",
       "    </tr>\n",
       "    <tr>\n",
       "      <th>100% Natural Bran</th>\n",
       "      <td>Q</td>\n",
       "      <td>C</td>\n",
       "      <td>120</td>\n",
       "      <td>3</td>\n",
       "      <td>5</td>\n",
       "      <td>15</td>\n",
       "      <td>2.0</td>\n",
       "      <td>8.0</td>\n",
       "      <td>8</td>\n",
       "      <td>135</td>\n",
       "      <td>0</td>\n",
       "      <td>3</td>\n",
       "      <td>1.00</td>\n",
       "      <td>1.00</td>\n",
       "      <td>33.983679</td>\n",
       "    </tr>\n",
       "    <tr>\n",
       "      <th>All-Bran</th>\n",
       "      <td>K</td>\n",
       "      <td>C</td>\n",
       "      <td>70</td>\n",
       "      <td>4</td>\n",
       "      <td>1</td>\n",
       "      <td>260</td>\n",
       "      <td>9.0</td>\n",
       "      <td>7.0</td>\n",
       "      <td>5</td>\n",
       "      <td>320</td>\n",
       "      <td>25</td>\n",
       "      <td>3</td>\n",
       "      <td>1.00</td>\n",
       "      <td>0.33</td>\n",
       "      <td>59.425505</td>\n",
       "    </tr>\n",
       "    <tr>\n",
       "      <th>All-Bran with Extra Fiber</th>\n",
       "      <td>K</td>\n",
       "      <td>C</td>\n",
       "      <td>50</td>\n",
       "      <td>4</td>\n",
       "      <td>0</td>\n",
       "      <td>140</td>\n",
       "      <td>14.0</td>\n",
       "      <td>8.0</td>\n",
       "      <td>0</td>\n",
       "      <td>330</td>\n",
       "      <td>25</td>\n",
       "      <td>3</td>\n",
       "      <td>1.00</td>\n",
       "      <td>0.50</td>\n",
       "      <td>93.704912</td>\n",
       "    </tr>\n",
       "    <tr>\n",
       "      <th>Almond Delight</th>\n",
       "      <td>R</td>\n",
       "      <td>C</td>\n",
       "      <td>110</td>\n",
       "      <td>2</td>\n",
       "      <td>2</td>\n",
       "      <td>200</td>\n",
       "      <td>1.0</td>\n",
       "      <td>14.0</td>\n",
       "      <td>8</td>\n",
       "      <td>-1</td>\n",
       "      <td>25</td>\n",
       "      <td>3</td>\n",
       "      <td>1.00</td>\n",
       "      <td>0.75</td>\n",
       "      <td>34.384843</td>\n",
       "    </tr>\n",
       "    <tr>\n",
       "      <th>Apple Cinnamon Cheerios</th>\n",
       "      <td>G</td>\n",
       "      <td>C</td>\n",
       "      <td>110</td>\n",
       "      <td>2</td>\n",
       "      <td>2</td>\n",
       "      <td>180</td>\n",
       "      <td>1.5</td>\n",
       "      <td>10.5</td>\n",
       "      <td>10</td>\n",
       "      <td>70</td>\n",
       "      <td>25</td>\n",
       "      <td>1</td>\n",
       "      <td>1.00</td>\n",
       "      <td>0.75</td>\n",
       "      <td>29.509541</td>\n",
       "    </tr>\n",
       "    <tr>\n",
       "      <th>Apple Jacks</th>\n",
       "      <td>K</td>\n",
       "      <td>C</td>\n",
       "      <td>110</td>\n",
       "      <td>2</td>\n",
       "      <td>0</td>\n",
       "      <td>125</td>\n",
       "      <td>1.0</td>\n",
       "      <td>11.0</td>\n",
       "      <td>14</td>\n",
       "      <td>30</td>\n",
       "      <td>25</td>\n",
       "      <td>2</td>\n",
       "      <td>1.00</td>\n",
       "      <td>1.00</td>\n",
       "      <td>33.174094</td>\n",
       "    </tr>\n",
       "    <tr>\n",
       "      <th>Basic 4</th>\n",
       "      <td>G</td>\n",
       "      <td>C</td>\n",
       "      <td>130</td>\n",
       "      <td>3</td>\n",
       "      <td>2</td>\n",
       "      <td>210</td>\n",
       "      <td>2.0</td>\n",
       "      <td>18.0</td>\n",
       "      <td>8</td>\n",
       "      <td>100</td>\n",
       "      <td>25</td>\n",
       "      <td>3</td>\n",
       "      <td>1.33</td>\n",
       "      <td>0.75</td>\n",
       "      <td>37.038562</td>\n",
       "    </tr>\n",
       "  </tbody>\n",
       "</table>\n",
       "</div>"
      ],
      "text/plain": [
       "                          mfr type  calories  protein  fat  sodium  fiber  \\\n",
       "name                                                                        \n",
       "100% Bran                   N    C        70        4    1     130   10.0   \n",
       "100% Natural Bran           Q    C       120        3    5      15    2.0   \n",
       "All-Bran                    K    C        70        4    1     260    9.0   \n",
       "All-Bran with Extra Fiber   K    C        50        4    0     140   14.0   \n",
       "Almond Delight              R    C       110        2    2     200    1.0   \n",
       "Apple Cinnamon Cheerios     G    C       110        2    2     180    1.5   \n",
       "Apple Jacks                 K    C       110        2    0     125    1.0   \n",
       "Basic 4                     G    C       130        3    2     210    2.0   \n",
       "\n",
       "                           carbo  sugars  potass  vitamins  shelf  weight  \\\n",
       "name                                                                        \n",
       "100% Bran                    5.0       6     280        25      3    1.00   \n",
       "100% Natural Bran            8.0       8     135         0      3    1.00   \n",
       "All-Bran                     7.0       5     320        25      3    1.00   \n",
       "All-Bran with Extra Fiber    8.0       0     330        25      3    1.00   \n",
       "Almond Delight              14.0       8      -1        25      3    1.00   \n",
       "Apple Cinnamon Cheerios     10.5      10      70        25      1    1.00   \n",
       "Apple Jacks                 11.0      14      30        25      2    1.00   \n",
       "Basic 4                     18.0       8     100        25      3    1.33   \n",
       "\n",
       "                           cups     rating  \n",
       "name                                        \n",
       "100% Bran                  0.33  68.402973  \n",
       "100% Natural Bran          1.00  33.983679  \n",
       "All-Bran                   0.33  59.425505  \n",
       "All-Bran with Extra Fiber  0.50  93.704912  \n",
       "Almond Delight             0.75  34.384843  \n",
       "Apple Cinnamon Cheerios    0.75  29.509541  \n",
       "Apple Jacks                1.00  33.174094  \n",
       "Basic 4                    0.75  37.038562  "
      ]
     },
     "execution_count": 40,
     "metadata": {},
     "output_type": "execute_result"
    }
   ],
   "source": [
    "cereal_df.head(8)"
   ]
  },
  {
   "cell_type": "code",
   "execution_count": 31,
   "id": "a9b94fbf",
   "metadata": {
    "slideshow": {
     "slide_type": "subslide"
    }
   },
   "outputs": [
    {
     "data": {
      "text/html": [
       "<div>\n",
       "<style scoped>\n",
       "    .dataframe tbody tr th:only-of-type {\n",
       "        vertical-align: middle;\n",
       "    }\n",
       "\n",
       "    .dataframe tbody tr th {\n",
       "        vertical-align: top;\n",
       "    }\n",
       "\n",
       "    .dataframe thead th {\n",
       "        text-align: right;\n",
       "    }\n",
       "</style>\n",
       "<table border=\"1\" class=\"dataframe\">\n",
       "  <thead>\n",
       "    <tr style=\"text-align: right;\">\n",
       "      <th></th>\n",
       "      <th>mfr</th>\n",
       "      <th>type</th>\n",
       "      <th>calories</th>\n",
       "      <th>protein</th>\n",
       "      <th>fat</th>\n",
       "      <th>sodium</th>\n",
       "      <th>fiber</th>\n",
       "      <th>carbo</th>\n",
       "      <th>sugars</th>\n",
       "      <th>potass</th>\n",
       "      <th>vitamins</th>\n",
       "      <th>shelf</th>\n",
       "      <th>weight</th>\n",
       "      <th>cups</th>\n",
       "      <th>rating</th>\n",
       "    </tr>\n",
       "    <tr>\n",
       "      <th>name</th>\n",
       "      <th></th>\n",
       "      <th></th>\n",
       "      <th></th>\n",
       "      <th></th>\n",
       "      <th></th>\n",
       "      <th></th>\n",
       "      <th></th>\n",
       "      <th></th>\n",
       "      <th></th>\n",
       "      <th></th>\n",
       "      <th></th>\n",
       "      <th></th>\n",
       "      <th></th>\n",
       "      <th></th>\n",
       "      <th></th>\n",
       "    </tr>\n",
       "  </thead>\n",
       "  <tbody>\n",
       "    <tr>\n",
       "      <th>All-Bran</th>\n",
       "      <td>K</td>\n",
       "      <td>C</td>\n",
       "      <td>70</td>\n",
       "      <td>4</td>\n",
       "      <td>1</td>\n",
       "      <td>260</td>\n",
       "      <td>9.0</td>\n",
       "      <td>7.0</td>\n",
       "      <td>5</td>\n",
       "      <td>320</td>\n",
       "      <td>25</td>\n",
       "      <td>3</td>\n",
       "      <td>1.0</td>\n",
       "      <td>0.33</td>\n",
       "      <td>59.425505</td>\n",
       "    </tr>\n",
       "    <tr>\n",
       "      <th>Almond Delight</th>\n",
       "      <td>R</td>\n",
       "      <td>C</td>\n",
       "      <td>110</td>\n",
       "      <td>2</td>\n",
       "      <td>2</td>\n",
       "      <td>200</td>\n",
       "      <td>1.0</td>\n",
       "      <td>14.0</td>\n",
       "      <td>8</td>\n",
       "      <td>-1</td>\n",
       "      <td>25</td>\n",
       "      <td>3</td>\n",
       "      <td>1.0</td>\n",
       "      <td>0.75</td>\n",
       "      <td>34.384843</td>\n",
       "    </tr>\n",
       "    <tr>\n",
       "      <th>Apple Jacks</th>\n",
       "      <td>K</td>\n",
       "      <td>C</td>\n",
       "      <td>110</td>\n",
       "      <td>2</td>\n",
       "      <td>0</td>\n",
       "      <td>125</td>\n",
       "      <td>1.0</td>\n",
       "      <td>11.0</td>\n",
       "      <td>14</td>\n",
       "      <td>30</td>\n",
       "      <td>25</td>\n",
       "      <td>2</td>\n",
       "      <td>1.0</td>\n",
       "      <td>1.00</td>\n",
       "      <td>33.174094</td>\n",
       "    </tr>\n",
       "  </tbody>\n",
       "</table>\n",
       "</div>"
      ],
      "text/plain": [
       "               mfr type  calories  protein  fat  sodium  fiber  carbo  sugars  \\\n",
       "name                                                                            \n",
       "All-Bran         K    C        70        4    1     260    9.0    7.0       5   \n",
       "Almond Delight   R    C       110        2    2     200    1.0   14.0       8   \n",
       "Apple Jacks      K    C       110        2    0     125    1.0   11.0      14   \n",
       "\n",
       "                potass  vitamins  shelf  weight  cups     rating  \n",
       "name                                                              \n",
       "All-Bran           320        25      3     1.0  0.33  59.425505  \n",
       "Almond Delight      -1        25      3     1.0  0.75  34.384843  \n",
       "Apple Jacks         30        25      2     1.0  1.00  33.174094  "
      ]
     },
     "execution_count": 31,
     "metadata": {},
     "output_type": "execute_result"
    }
   ],
   "source": [
    "# select rows by list of index names\n",
    "row_list = ['All-Bran', 'Almond Delight', 'Apple Jacks']\n",
    "cereal_df.loc[row_list]"
   ]
  },
  {
   "cell_type": "code",
   "execution_count": 42,
   "id": "98f36fdb",
   "metadata": {
    "slideshow": {
     "slide_type": "subslide"
    }
   },
   "outputs": [
    {
     "data": {
      "text/html": [
       "<div>\n",
       "<style scoped>\n",
       "    .dataframe tbody tr th:only-of-type {\n",
       "        vertical-align: middle;\n",
       "    }\n",
       "\n",
       "    .dataframe tbody tr th {\n",
       "        vertical-align: top;\n",
       "    }\n",
       "\n",
       "    .dataframe thead th {\n",
       "        text-align: right;\n",
       "    }\n",
       "</style>\n",
       "<table border=\"1\" class=\"dataframe\">\n",
       "  <thead>\n",
       "    <tr style=\"text-align: right;\">\n",
       "      <th></th>\n",
       "      <th>mfr</th>\n",
       "      <th>type</th>\n",
       "      <th>calories</th>\n",
       "      <th>protein</th>\n",
       "      <th>fat</th>\n",
       "      <th>sodium</th>\n",
       "      <th>fiber</th>\n",
       "      <th>carbo</th>\n",
       "      <th>sugars</th>\n",
       "      <th>potass</th>\n",
       "      <th>vitamins</th>\n",
       "      <th>shelf</th>\n",
       "      <th>weight</th>\n",
       "      <th>cups</th>\n",
       "      <th>rating</th>\n",
       "    </tr>\n",
       "    <tr>\n",
       "      <th>name</th>\n",
       "      <th></th>\n",
       "      <th></th>\n",
       "      <th></th>\n",
       "      <th></th>\n",
       "      <th></th>\n",
       "      <th></th>\n",
       "      <th></th>\n",
       "      <th></th>\n",
       "      <th></th>\n",
       "      <th></th>\n",
       "      <th></th>\n",
       "      <th></th>\n",
       "      <th></th>\n",
       "      <th></th>\n",
       "      <th></th>\n",
       "    </tr>\n",
       "  </thead>\n",
       "  <tbody>\n",
       "    <tr>\n",
       "      <th>All-Bran</th>\n",
       "      <td>K</td>\n",
       "      <td>C</td>\n",
       "      <td>70</td>\n",
       "      <td>4</td>\n",
       "      <td>1</td>\n",
       "      <td>260</td>\n",
       "      <td>9.0</td>\n",
       "      <td>7.0</td>\n",
       "      <td>5</td>\n",
       "      <td>320</td>\n",
       "      <td>25</td>\n",
       "      <td>3</td>\n",
       "      <td>1.0</td>\n",
       "      <td>0.33</td>\n",
       "      <td>59.425505</td>\n",
       "    </tr>\n",
       "    <tr>\n",
       "      <th>All-Bran with Extra Fiber</th>\n",
       "      <td>K</td>\n",
       "      <td>C</td>\n",
       "      <td>50</td>\n",
       "      <td>4</td>\n",
       "      <td>0</td>\n",
       "      <td>140</td>\n",
       "      <td>14.0</td>\n",
       "      <td>8.0</td>\n",
       "      <td>0</td>\n",
       "      <td>330</td>\n",
       "      <td>25</td>\n",
       "      <td>3</td>\n",
       "      <td>1.0</td>\n",
       "      <td>0.50</td>\n",
       "      <td>93.704912</td>\n",
       "    </tr>\n",
       "    <tr>\n",
       "      <th>Almond Delight</th>\n",
       "      <td>R</td>\n",
       "      <td>C</td>\n",
       "      <td>110</td>\n",
       "      <td>2</td>\n",
       "      <td>2</td>\n",
       "      <td>200</td>\n",
       "      <td>1.0</td>\n",
       "      <td>14.0</td>\n",
       "      <td>8</td>\n",
       "      <td>-1</td>\n",
       "      <td>25</td>\n",
       "      <td>3</td>\n",
       "      <td>1.0</td>\n",
       "      <td>0.75</td>\n",
       "      <td>34.384843</td>\n",
       "    </tr>\n",
       "    <tr>\n",
       "      <th>Apple Cinnamon Cheerios</th>\n",
       "      <td>G</td>\n",
       "      <td>C</td>\n",
       "      <td>110</td>\n",
       "      <td>2</td>\n",
       "      <td>2</td>\n",
       "      <td>180</td>\n",
       "      <td>1.5</td>\n",
       "      <td>10.5</td>\n",
       "      <td>10</td>\n",
       "      <td>70</td>\n",
       "      <td>25</td>\n",
       "      <td>1</td>\n",
       "      <td>1.0</td>\n",
       "      <td>0.75</td>\n",
       "      <td>29.509541</td>\n",
       "    </tr>\n",
       "    <tr>\n",
       "      <th>Apple Jacks</th>\n",
       "      <td>K</td>\n",
       "      <td>C</td>\n",
       "      <td>110</td>\n",
       "      <td>2</td>\n",
       "      <td>0</td>\n",
       "      <td>125</td>\n",
       "      <td>1.0</td>\n",
       "      <td>11.0</td>\n",
       "      <td>14</td>\n",
       "      <td>30</td>\n",
       "      <td>25</td>\n",
       "      <td>2</td>\n",
       "      <td>1.0</td>\n",
       "      <td>1.00</td>\n",
       "      <td>33.174094</td>\n",
       "    </tr>\n",
       "  </tbody>\n",
       "</table>\n",
       "</div>"
      ],
      "text/plain": [
       "                          mfr type  calories  protein  fat  sodium  fiber  \\\n",
       "name                                                                        \n",
       "All-Bran                    K    C        70        4    1     260    9.0   \n",
       "All-Bran with Extra Fiber   K    C        50        4    0     140   14.0   \n",
       "Almond Delight              R    C       110        2    2     200    1.0   \n",
       "Apple Cinnamon Cheerios     G    C       110        2    2     180    1.5   \n",
       "Apple Jacks                 K    C       110        2    0     125    1.0   \n",
       "\n",
       "                           carbo  sugars  potass  vitamins  shelf  weight  \\\n",
       "name                                                                        \n",
       "All-Bran                     7.0       5     320        25      3     1.0   \n",
       "All-Bran with Extra Fiber    8.0       0     330        25      3     1.0   \n",
       "Almond Delight              14.0       8      -1        25      3     1.0   \n",
       "Apple Cinnamon Cheerios     10.5      10      70        25      1     1.0   \n",
       "Apple Jacks                 11.0      14      30        25      2     1.0   \n",
       "\n",
       "                           cups     rating  \n",
       "name                                        \n",
       "All-Bran                   0.33  59.425505  \n",
       "All-Bran with Extra Fiber  0.50  93.704912  \n",
       "Almond Delight             0.75  34.384843  \n",
       "Apple Cinnamon Cheerios    0.75  29.509541  \n",
       "Apple Jacks                1.00  33.174094  "
      ]
     },
     "execution_count": 42,
     "metadata": {},
     "output_type": "execute_result"
    }
   ],
   "source": [
    "#slice rows by name\n",
    "cereal_df.loc['All-Bran':'Apple Jacks']"
   ]
  },
  {
   "cell_type": "markdown",
   "id": "991c5def",
   "metadata": {},
   "source": [
    "Note: with .loc[],  final entry *is included* in slice."
   ]
  },
  {
   "cell_type": "markdown",
   "id": "3d5abcf3",
   "metadata": {
    "slideshow": {
     "slide_type": "slide"
    }
   },
   "source": [
    "Accessing multiple columns:"
   ]
  },
  {
   "cell_type": "code",
   "execution_count": 43,
   "id": "8a532aec",
   "metadata": {
    "cell_style": "split",
    "scrolled": true,
    "slideshow": {
     "slide_type": "slide"
    }
   },
   "outputs": [
    {
     "data": {
      "text/html": [
       "<div>\n",
       "<style scoped>\n",
       "    .dataframe tbody tr th:only-of-type {\n",
       "        vertical-align: middle;\n",
       "    }\n",
       "\n",
       "    .dataframe tbody tr th {\n",
       "        vertical-align: top;\n",
       "    }\n",
       "\n",
       "    .dataframe thead th {\n",
       "        text-align: right;\n",
       "    }\n",
       "</style>\n",
       "<table border=\"1\" class=\"dataframe\">\n",
       "  <thead>\n",
       "    <tr style=\"text-align: right;\">\n",
       "      <th></th>\n",
       "      <th>mfr</th>\n",
       "      <th>type</th>\n",
       "      <th>calories</th>\n",
       "      <th>protein</th>\n",
       "      <th>fat</th>\n",
       "      <th>sodium</th>\n",
       "      <th>fiber</th>\n",
       "      <th>carbo</th>\n",
       "      <th>sugars</th>\n",
       "      <th>potass</th>\n",
       "      <th>vitamins</th>\n",
       "      <th>shelf</th>\n",
       "      <th>weight</th>\n",
       "      <th>cups</th>\n",
       "      <th>rating</th>\n",
       "    </tr>\n",
       "    <tr>\n",
       "      <th>name</th>\n",
       "      <th></th>\n",
       "      <th></th>\n",
       "      <th></th>\n",
       "      <th></th>\n",
       "      <th></th>\n",
       "      <th></th>\n",
       "      <th></th>\n",
       "      <th></th>\n",
       "      <th></th>\n",
       "      <th></th>\n",
       "      <th></th>\n",
       "      <th></th>\n",
       "      <th></th>\n",
       "      <th></th>\n",
       "      <th></th>\n",
       "    </tr>\n",
       "  </thead>\n",
       "  <tbody>\n",
       "    <tr>\n",
       "      <th>100% Bran</th>\n",
       "      <td>N</td>\n",
       "      <td>C</td>\n",
       "      <td>70</td>\n",
       "      <td>4</td>\n",
       "      <td>1</td>\n",
       "      <td>130</td>\n",
       "      <td>10.0</td>\n",
       "      <td>5.0</td>\n",
       "      <td>6</td>\n",
       "      <td>280</td>\n",
       "      <td>25</td>\n",
       "      <td>3</td>\n",
       "      <td>1.00</td>\n",
       "      <td>0.33</td>\n",
       "      <td>68.402973</td>\n",
       "    </tr>\n",
       "    <tr>\n",
       "      <th>100% Natural Bran</th>\n",
       "      <td>Q</td>\n",
       "      <td>C</td>\n",
       "      <td>120</td>\n",
       "      <td>3</td>\n",
       "      <td>5</td>\n",
       "      <td>15</td>\n",
       "      <td>2.0</td>\n",
       "      <td>8.0</td>\n",
       "      <td>8</td>\n",
       "      <td>135</td>\n",
       "      <td>0</td>\n",
       "      <td>3</td>\n",
       "      <td>1.00</td>\n",
       "      <td>1.00</td>\n",
       "      <td>33.983679</td>\n",
       "    </tr>\n",
       "    <tr>\n",
       "      <th>All-Bran</th>\n",
       "      <td>K</td>\n",
       "      <td>C</td>\n",
       "      <td>70</td>\n",
       "      <td>4</td>\n",
       "      <td>1</td>\n",
       "      <td>260</td>\n",
       "      <td>9.0</td>\n",
       "      <td>7.0</td>\n",
       "      <td>5</td>\n",
       "      <td>320</td>\n",
       "      <td>25</td>\n",
       "      <td>3</td>\n",
       "      <td>1.00</td>\n",
       "      <td>0.33</td>\n",
       "      <td>59.425505</td>\n",
       "    </tr>\n",
       "    <tr>\n",
       "      <th>All-Bran with Extra Fiber</th>\n",
       "      <td>K</td>\n",
       "      <td>C</td>\n",
       "      <td>50</td>\n",
       "      <td>4</td>\n",
       "      <td>0</td>\n",
       "      <td>140</td>\n",
       "      <td>14.0</td>\n",
       "      <td>8.0</td>\n",
       "      <td>0</td>\n",
       "      <td>330</td>\n",
       "      <td>25</td>\n",
       "      <td>3</td>\n",
       "      <td>1.00</td>\n",
       "      <td>0.50</td>\n",
       "      <td>93.704912</td>\n",
       "    </tr>\n",
       "    <tr>\n",
       "      <th>Almond Delight</th>\n",
       "      <td>R</td>\n",
       "      <td>C</td>\n",
       "      <td>110</td>\n",
       "      <td>2</td>\n",
       "      <td>2</td>\n",
       "      <td>200</td>\n",
       "      <td>1.0</td>\n",
       "      <td>14.0</td>\n",
       "      <td>8</td>\n",
       "      <td>-1</td>\n",
       "      <td>25</td>\n",
       "      <td>3</td>\n",
       "      <td>1.00</td>\n",
       "      <td>0.75</td>\n",
       "      <td>34.384843</td>\n",
       "    </tr>\n",
       "    <tr>\n",
       "      <th>Apple Cinnamon Cheerios</th>\n",
       "      <td>G</td>\n",
       "      <td>C</td>\n",
       "      <td>110</td>\n",
       "      <td>2</td>\n",
       "      <td>2</td>\n",
       "      <td>180</td>\n",
       "      <td>1.5</td>\n",
       "      <td>10.5</td>\n",
       "      <td>10</td>\n",
       "      <td>70</td>\n",
       "      <td>25</td>\n",
       "      <td>1</td>\n",
       "      <td>1.00</td>\n",
       "      <td>0.75</td>\n",
       "      <td>29.509541</td>\n",
       "    </tr>\n",
       "    <tr>\n",
       "      <th>Apple Jacks</th>\n",
       "      <td>K</td>\n",
       "      <td>C</td>\n",
       "      <td>110</td>\n",
       "      <td>2</td>\n",
       "      <td>0</td>\n",
       "      <td>125</td>\n",
       "      <td>1.0</td>\n",
       "      <td>11.0</td>\n",
       "      <td>14</td>\n",
       "      <td>30</td>\n",
       "      <td>25</td>\n",
       "      <td>2</td>\n",
       "      <td>1.00</td>\n",
       "      <td>1.00</td>\n",
       "      <td>33.174094</td>\n",
       "    </tr>\n",
       "    <tr>\n",
       "      <th>Basic 4</th>\n",
       "      <td>G</td>\n",
       "      <td>C</td>\n",
       "      <td>130</td>\n",
       "      <td>3</td>\n",
       "      <td>2</td>\n",
       "      <td>210</td>\n",
       "      <td>2.0</td>\n",
       "      <td>18.0</td>\n",
       "      <td>8</td>\n",
       "      <td>100</td>\n",
       "      <td>25</td>\n",
       "      <td>3</td>\n",
       "      <td>1.33</td>\n",
       "      <td>0.75</td>\n",
       "      <td>37.038562</td>\n",
       "    </tr>\n",
       "  </tbody>\n",
       "</table>\n",
       "</div>"
      ],
      "text/plain": [
       "                          mfr type  calories  protein  fat  sodium  fiber  \\\n",
       "name                                                                        \n",
       "100% Bran                   N    C        70        4    1     130   10.0   \n",
       "100% Natural Bran           Q    C       120        3    5      15    2.0   \n",
       "All-Bran                    K    C        70        4    1     260    9.0   \n",
       "All-Bran with Extra Fiber   K    C        50        4    0     140   14.0   \n",
       "Almond Delight              R    C       110        2    2     200    1.0   \n",
       "Apple Cinnamon Cheerios     G    C       110        2    2     180    1.5   \n",
       "Apple Jacks                 K    C       110        2    0     125    1.0   \n",
       "Basic 4                     G    C       130        3    2     210    2.0   \n",
       "\n",
       "                           carbo  sugars  potass  vitamins  shelf  weight  \\\n",
       "name                                                                        \n",
       "100% Bran                    5.0       6     280        25      3    1.00   \n",
       "100% Natural Bran            8.0       8     135         0      3    1.00   \n",
       "All-Bran                     7.0       5     320        25      3    1.00   \n",
       "All-Bran with Extra Fiber    8.0       0     330        25      3    1.00   \n",
       "Almond Delight              14.0       8      -1        25      3    1.00   \n",
       "Apple Cinnamon Cheerios     10.5      10      70        25      1    1.00   \n",
       "Apple Jacks                 11.0      14      30        25      2    1.00   \n",
       "Basic 4                     18.0       8     100        25      3    1.33   \n",
       "\n",
       "                           cups     rating  \n",
       "name                                        \n",
       "100% Bran                  0.33  68.402973  \n",
       "100% Natural Bran          1.00  33.983679  \n",
       "All-Bran                   0.33  59.425505  \n",
       "All-Bran with Extra Fiber  0.50  93.704912  \n",
       "Almond Delight             0.75  34.384843  \n",
       "Apple Cinnamon Cheerios    0.75  29.509541  \n",
       "Apple Jacks                1.00  33.174094  \n",
       "Basic 4                    0.75  37.038562  "
      ]
     },
     "execution_count": 43,
     "metadata": {},
     "output_type": "execute_result"
    }
   ],
   "source": [
    "cereal_df.head(8)"
   ]
  },
  {
   "cell_type": "code",
   "execution_count": 32,
   "id": "100e36fc",
   "metadata": {
    "cell_style": "split",
    "slideshow": {
     "slide_type": "fragment"
    }
   },
   "outputs": [
    {
     "data": {
      "text/plain": [
       "calories     70\n",
       "protein       4\n",
       "fat           1\n",
       "sodium      260\n",
       "Name: All-Bran, dtype: object"
      ]
     },
     "execution_count": 32,
     "metadata": {},
     "output_type": "execute_result"
    }
   ],
   "source": [
    "# select columns by list\n",
    "listcol = [\"calories\", \"protein\", \n",
    "                   \"fat\",\"sodium\"]\n",
    "cereal_df.loc[\"All-Bran\", listcol]"
   ]
  },
  {
   "cell_type": "code",
   "execution_count": 45,
   "id": "2145622e",
   "metadata": {
    "cell_style": "split",
    "slideshow": {
     "slide_type": "fragment"
    }
   },
   "outputs": [
    {
     "data": {
      "text/plain": [
       "calories     70\n",
       "protein       4\n",
       "fat           1\n",
       "sodium      260\n",
       "Name: All-Bran, dtype: object"
      ]
     },
     "execution_count": 45,
     "metadata": {},
     "output_type": "execute_result"
    }
   ],
   "source": [
    "# slice on columns by name\n",
    "cereal_df.loc[\"All-Bran\", \n",
    "              \"calories\":\"sodium\"]\n"
   ]
  },
  {
   "cell_type": "markdown",
   "id": "f25f801e",
   "metadata": {
    "slideshow": {
     "slide_type": "slide"
    }
   },
   "source": [
    "Putting it altogether (selections on rows and columns):"
   ]
  },
  {
   "cell_type": "code",
   "execution_count": 46,
   "id": "f72c7f14",
   "metadata": {
    "cell_style": "split",
    "slideshow": {
     "slide_type": "subslide"
    }
   },
   "outputs": [
    {
     "data": {
      "text/html": [
       "<div>\n",
       "<style scoped>\n",
       "    .dataframe tbody tr th:only-of-type {\n",
       "        vertical-align: middle;\n",
       "    }\n",
       "\n",
       "    .dataframe tbody tr th {\n",
       "        vertical-align: top;\n",
       "    }\n",
       "\n",
       "    .dataframe thead th {\n",
       "        text-align: right;\n",
       "    }\n",
       "</style>\n",
       "<table border=\"1\" class=\"dataframe\">\n",
       "  <thead>\n",
       "    <tr style=\"text-align: right;\">\n",
       "      <th></th>\n",
       "      <th>mfr</th>\n",
       "      <th>type</th>\n",
       "      <th>calories</th>\n",
       "      <th>protein</th>\n",
       "      <th>fat</th>\n",
       "      <th>sodium</th>\n",
       "      <th>fiber</th>\n",
       "      <th>carbo</th>\n",
       "      <th>sugars</th>\n",
       "      <th>potass</th>\n",
       "      <th>vitamins</th>\n",
       "      <th>shelf</th>\n",
       "      <th>weight</th>\n",
       "      <th>cups</th>\n",
       "      <th>rating</th>\n",
       "    </tr>\n",
       "    <tr>\n",
       "      <th>name</th>\n",
       "      <th></th>\n",
       "      <th></th>\n",
       "      <th></th>\n",
       "      <th></th>\n",
       "      <th></th>\n",
       "      <th></th>\n",
       "      <th></th>\n",
       "      <th></th>\n",
       "      <th></th>\n",
       "      <th></th>\n",
       "      <th></th>\n",
       "      <th></th>\n",
       "      <th></th>\n",
       "      <th></th>\n",
       "      <th></th>\n",
       "    </tr>\n",
       "  </thead>\n",
       "  <tbody>\n",
       "    <tr>\n",
       "      <th>100% Bran</th>\n",
       "      <td>N</td>\n",
       "      <td>C</td>\n",
       "      <td>70</td>\n",
       "      <td>4</td>\n",
       "      <td>1</td>\n",
       "      <td>130</td>\n",
       "      <td>10.0</td>\n",
       "      <td>5.0</td>\n",
       "      <td>6</td>\n",
       "      <td>280</td>\n",
       "      <td>25</td>\n",
       "      <td>3</td>\n",
       "      <td>1.00</td>\n",
       "      <td>0.33</td>\n",
       "      <td>68.402973</td>\n",
       "    </tr>\n",
       "    <tr>\n",
       "      <th>100% Natural Bran</th>\n",
       "      <td>Q</td>\n",
       "      <td>C</td>\n",
       "      <td>120</td>\n",
       "      <td>3</td>\n",
       "      <td>5</td>\n",
       "      <td>15</td>\n",
       "      <td>2.0</td>\n",
       "      <td>8.0</td>\n",
       "      <td>8</td>\n",
       "      <td>135</td>\n",
       "      <td>0</td>\n",
       "      <td>3</td>\n",
       "      <td>1.00</td>\n",
       "      <td>1.00</td>\n",
       "      <td>33.983679</td>\n",
       "    </tr>\n",
       "    <tr>\n",
       "      <th>All-Bran</th>\n",
       "      <td>K</td>\n",
       "      <td>C</td>\n",
       "      <td>70</td>\n",
       "      <td>4</td>\n",
       "      <td>1</td>\n",
       "      <td>260</td>\n",
       "      <td>9.0</td>\n",
       "      <td>7.0</td>\n",
       "      <td>5</td>\n",
       "      <td>320</td>\n",
       "      <td>25</td>\n",
       "      <td>3</td>\n",
       "      <td>1.00</td>\n",
       "      <td>0.33</td>\n",
       "      <td>59.425505</td>\n",
       "    </tr>\n",
       "    <tr>\n",
       "      <th>All-Bran with Extra Fiber</th>\n",
       "      <td>K</td>\n",
       "      <td>C</td>\n",
       "      <td>50</td>\n",
       "      <td>4</td>\n",
       "      <td>0</td>\n",
       "      <td>140</td>\n",
       "      <td>14.0</td>\n",
       "      <td>8.0</td>\n",
       "      <td>0</td>\n",
       "      <td>330</td>\n",
       "      <td>25</td>\n",
       "      <td>3</td>\n",
       "      <td>1.00</td>\n",
       "      <td>0.50</td>\n",
       "      <td>93.704912</td>\n",
       "    </tr>\n",
       "    <tr>\n",
       "      <th>Almond Delight</th>\n",
       "      <td>R</td>\n",
       "      <td>C</td>\n",
       "      <td>110</td>\n",
       "      <td>2</td>\n",
       "      <td>2</td>\n",
       "      <td>200</td>\n",
       "      <td>1.0</td>\n",
       "      <td>14.0</td>\n",
       "      <td>8</td>\n",
       "      <td>-1</td>\n",
       "      <td>25</td>\n",
       "      <td>3</td>\n",
       "      <td>1.00</td>\n",
       "      <td>0.75</td>\n",
       "      <td>34.384843</td>\n",
       "    </tr>\n",
       "    <tr>\n",
       "      <th>Apple Cinnamon Cheerios</th>\n",
       "      <td>G</td>\n",
       "      <td>C</td>\n",
       "      <td>110</td>\n",
       "      <td>2</td>\n",
       "      <td>2</td>\n",
       "      <td>180</td>\n",
       "      <td>1.5</td>\n",
       "      <td>10.5</td>\n",
       "      <td>10</td>\n",
       "      <td>70</td>\n",
       "      <td>25</td>\n",
       "      <td>1</td>\n",
       "      <td>1.00</td>\n",
       "      <td>0.75</td>\n",
       "      <td>29.509541</td>\n",
       "    </tr>\n",
       "    <tr>\n",
       "      <th>Apple Jacks</th>\n",
       "      <td>K</td>\n",
       "      <td>C</td>\n",
       "      <td>110</td>\n",
       "      <td>2</td>\n",
       "      <td>0</td>\n",
       "      <td>125</td>\n",
       "      <td>1.0</td>\n",
       "      <td>11.0</td>\n",
       "      <td>14</td>\n",
       "      <td>30</td>\n",
       "      <td>25</td>\n",
       "      <td>2</td>\n",
       "      <td>1.00</td>\n",
       "      <td>1.00</td>\n",
       "      <td>33.174094</td>\n",
       "    </tr>\n",
       "    <tr>\n",
       "      <th>Basic 4</th>\n",
       "      <td>G</td>\n",
       "      <td>C</td>\n",
       "      <td>130</td>\n",
       "      <td>3</td>\n",
       "      <td>2</td>\n",
       "      <td>210</td>\n",
       "      <td>2.0</td>\n",
       "      <td>18.0</td>\n",
       "      <td>8</td>\n",
       "      <td>100</td>\n",
       "      <td>25</td>\n",
       "      <td>3</td>\n",
       "      <td>1.33</td>\n",
       "      <td>0.75</td>\n",
       "      <td>37.038562</td>\n",
       "    </tr>\n",
       "  </tbody>\n",
       "</table>\n",
       "</div>"
      ],
      "text/plain": [
       "                          mfr type  calories  protein  fat  sodium  fiber  \\\n",
       "name                                                                        \n",
       "100% Bran                   N    C        70        4    1     130   10.0   \n",
       "100% Natural Bran           Q    C       120        3    5      15    2.0   \n",
       "All-Bran                    K    C        70        4    1     260    9.0   \n",
       "All-Bran with Extra Fiber   K    C        50        4    0     140   14.0   \n",
       "Almond Delight              R    C       110        2    2     200    1.0   \n",
       "Apple Cinnamon Cheerios     G    C       110        2    2     180    1.5   \n",
       "Apple Jacks                 K    C       110        2    0     125    1.0   \n",
       "Basic 4                     G    C       130        3    2     210    2.0   \n",
       "\n",
       "                           carbo  sugars  potass  vitamins  shelf  weight  \\\n",
       "name                                                                        \n",
       "100% Bran                    5.0       6     280        25      3    1.00   \n",
       "100% Natural Bran            8.0       8     135         0      3    1.00   \n",
       "All-Bran                     7.0       5     320        25      3    1.00   \n",
       "All-Bran with Extra Fiber    8.0       0     330        25      3    1.00   \n",
       "Almond Delight              14.0       8      -1        25      3    1.00   \n",
       "Apple Cinnamon Cheerios     10.5      10      70        25      1    1.00   \n",
       "Apple Jacks                 11.0      14      30        25      2    1.00   \n",
       "Basic 4                     18.0       8     100        25      3    1.33   \n",
       "\n",
       "                           cups     rating  \n",
       "name                                        \n",
       "100% Bran                  0.33  68.402973  \n",
       "100% Natural Bran          1.00  33.983679  \n",
       "All-Bran                   0.33  59.425505  \n",
       "All-Bran with Extra Fiber  0.50  93.704912  \n",
       "Almond Delight             0.75  34.384843  \n",
       "Apple Cinnamon Cheerios    0.75  29.509541  \n",
       "Apple Jacks                1.00  33.174094  \n",
       "Basic 4                    0.75  37.038562  "
      ]
     },
     "execution_count": 46,
     "metadata": {},
     "output_type": "execute_result"
    }
   ],
   "source": [
    "cereal_df.head(8)"
   ]
  },
  {
   "cell_type": "code",
   "execution_count": 38,
   "id": "f16a3658",
   "metadata": {
    "cell_style": "split",
    "slideshow": {
     "slide_type": "fragment"
    }
   },
   "outputs": [
    {
     "data": {
      "text/html": [
       "<div>\n",
       "<style scoped>\n",
       "    .dataframe tbody tr th:only-of-type {\n",
       "        vertical-align: middle;\n",
       "    }\n",
       "\n",
       "    .dataframe tbody tr th {\n",
       "        vertical-align: top;\n",
       "    }\n",
       "\n",
       "    .dataframe thead th {\n",
       "        text-align: right;\n",
       "    }\n",
       "</style>\n",
       "<table border=\"1\" class=\"dataframe\">\n",
       "  <thead>\n",
       "    <tr style=\"text-align: right;\">\n",
       "      <th></th>\n",
       "      <th>calories</th>\n",
       "      <th>protein</th>\n",
       "      <th>fat</th>\n",
       "      <th>sodium</th>\n",
       "    </tr>\n",
       "    <tr>\n",
       "      <th>name</th>\n",
       "      <th></th>\n",
       "      <th></th>\n",
       "      <th></th>\n",
       "      <th></th>\n",
       "    </tr>\n",
       "  </thead>\n",
       "  <tbody>\n",
       "    <tr>\n",
       "      <th>All-Bran</th>\n",
       "      <td>70</td>\n",
       "      <td>4</td>\n",
       "      <td>1</td>\n",
       "      <td>260</td>\n",
       "    </tr>\n",
       "    <tr>\n",
       "      <th>All-Bran with Extra Fiber</th>\n",
       "      <td>50</td>\n",
       "      <td>4</td>\n",
       "      <td>0</td>\n",
       "      <td>140</td>\n",
       "    </tr>\n",
       "    <tr>\n",
       "      <th>Almond Delight</th>\n",
       "      <td>110</td>\n",
       "      <td>2</td>\n",
       "      <td>2</td>\n",
       "      <td>200</td>\n",
       "    </tr>\n",
       "  </tbody>\n",
       "</table>\n",
       "</div>"
      ],
      "text/plain": [
       "                           calories  protein  fat  sodium\n",
       "name                                                     \n",
       "All-Bran                         70        4    1     260\n",
       "All-Bran with Extra Fiber        50        4    0     140\n",
       "Almond Delight                  110        2    2     200"
      ]
     },
     "execution_count": 38,
     "metadata": {},
     "output_type": "execute_result"
    }
   ],
   "source": [
    "# slicing on rows AND columns\n",
    "cereal_df.loc[\"All-Bran\":\"Almond Delight\", \n",
    "              \"calories\":\"sodium\"]"
   ]
  },
  {
   "cell_type": "code",
   "execution_count": 39,
   "id": "0d63f82f",
   "metadata": {
    "cell_style": "center",
    "scrolled": true,
    "slideshow": {
     "slide_type": "slide"
    }
   },
   "outputs": [
    {
     "data": {
      "text/html": [
       "<div>\n",
       "<style scoped>\n",
       "    .dataframe tbody tr th:only-of-type {\n",
       "        vertical-align: middle;\n",
       "    }\n",
       "\n",
       "    .dataframe tbody tr th {\n",
       "        vertical-align: top;\n",
       "    }\n",
       "\n",
       "    .dataframe thead th {\n",
       "        text-align: right;\n",
       "    }\n",
       "</style>\n",
       "<table border=\"1\" class=\"dataframe\">\n",
       "  <thead>\n",
       "    <tr style=\"text-align: right;\">\n",
       "      <th></th>\n",
       "      <th>protein</th>\n",
       "      <th>fat</th>\n",
       "    </tr>\n",
       "    <tr>\n",
       "      <th>name</th>\n",
       "      <th></th>\n",
       "      <th></th>\n",
       "    </tr>\n",
       "  </thead>\n",
       "  <tbody>\n",
       "    <tr>\n",
       "      <th>100% Bran</th>\n",
       "      <td>4</td>\n",
       "      <td>1</td>\n",
       "    </tr>\n",
       "    <tr>\n",
       "      <th>100% Natural Bran</th>\n",
       "      <td>3</td>\n",
       "      <td>5</td>\n",
       "    </tr>\n",
       "    <tr>\n",
       "      <th>All-Bran</th>\n",
       "      <td>4</td>\n",
       "      <td>1</td>\n",
       "    </tr>\n",
       "    <tr>\n",
       "      <th>All-Bran with Extra Fiber</th>\n",
       "      <td>4</td>\n",
       "      <td>0</td>\n",
       "    </tr>\n",
       "    <tr>\n",
       "      <th>Almond Delight</th>\n",
       "      <td>2</td>\n",
       "      <td>2</td>\n",
       "    </tr>\n",
       "    <tr>\n",
       "      <th>...</th>\n",
       "      <td>...</td>\n",
       "      <td>...</td>\n",
       "    </tr>\n",
       "    <tr>\n",
       "      <th>Triples</th>\n",
       "      <td>2</td>\n",
       "      <td>1</td>\n",
       "    </tr>\n",
       "    <tr>\n",
       "      <th>Trix</th>\n",
       "      <td>1</td>\n",
       "      <td>1</td>\n",
       "    </tr>\n",
       "    <tr>\n",
       "      <th>Wheat Chex</th>\n",
       "      <td>3</td>\n",
       "      <td>1</td>\n",
       "    </tr>\n",
       "    <tr>\n",
       "      <th>Wheaties</th>\n",
       "      <td>3</td>\n",
       "      <td>1</td>\n",
       "    </tr>\n",
       "    <tr>\n",
       "      <th>Wheaties Honey Gold</th>\n",
       "      <td>2</td>\n",
       "      <td>1</td>\n",
       "    </tr>\n",
       "  </tbody>\n",
       "</table>\n",
       "<p>77 rows × 2 columns</p>\n",
       "</div>"
      ],
      "text/plain": [
       "                           protein  fat\n",
       "name                                   \n",
       "100% Bran                        4    1\n",
       "100% Natural Bran                3    5\n",
       "All-Bran                         4    1\n",
       "All-Bran with Extra Fiber        4    0\n",
       "Almond Delight                   2    2\n",
       "...                            ...  ...\n",
       "Triples                          2    1\n",
       "Trix                             1    1\n",
       "Wheat Chex                       3    1\n",
       "Wheaties                         3    1\n",
       "Wheaties Honey Gold              2    1\n",
       "\n",
       "[77 rows x 2 columns]"
      ]
     },
     "execution_count": 39,
     "metadata": {},
     "output_type": "execute_result"
    }
   ],
   "source": [
    "# accessing all rows and a column subset \n",
    "# with .loc accessor \n",
    "cereal_df.loc[:, ['protein', 'fat']]"
   ]
  },
  {
   "cell_type": "code",
   "execution_count": 49,
   "id": "d67b3e78",
   "metadata": {
    "scrolled": false,
    "slideshow": {
     "slide_type": "subslide"
    }
   },
   "outputs": [
    {
     "data": {
      "text/html": [
       "<div>\n",
       "<style scoped>\n",
       "    .dataframe tbody tr th:only-of-type {\n",
       "        vertical-align: middle;\n",
       "    }\n",
       "\n",
       "    .dataframe tbody tr th {\n",
       "        vertical-align: top;\n",
       "    }\n",
       "\n",
       "    .dataframe thead th {\n",
       "        text-align: right;\n",
       "    }\n",
       "</style>\n",
       "<table border=\"1\" class=\"dataframe\">\n",
       "  <thead>\n",
       "    <tr style=\"text-align: right;\">\n",
       "      <th></th>\n",
       "      <th>calories</th>\n",
       "      <th>protein</th>\n",
       "    </tr>\n",
       "    <tr>\n",
       "      <th>name</th>\n",
       "      <th></th>\n",
       "      <th></th>\n",
       "    </tr>\n",
       "  </thead>\n",
       "  <tbody>\n",
       "    <tr>\n",
       "      <th>100% Bran</th>\n",
       "      <td>70</td>\n",
       "      <td>4</td>\n",
       "    </tr>\n",
       "    <tr>\n",
       "      <th>100% Natural Bran</th>\n",
       "      <td>120</td>\n",
       "      <td>3</td>\n",
       "    </tr>\n",
       "    <tr>\n",
       "      <th>All-Bran</th>\n",
       "      <td>70</td>\n",
       "      <td>4</td>\n",
       "    </tr>\n",
       "    <tr>\n",
       "      <th>All-Bran with Extra Fiber</th>\n",
       "      <td>50</td>\n",
       "      <td>4</td>\n",
       "    </tr>\n",
       "    <tr>\n",
       "      <th>Almond Delight</th>\n",
       "      <td>110</td>\n",
       "      <td>2</td>\n",
       "    </tr>\n",
       "    <tr>\n",
       "      <th>...</th>\n",
       "      <td>...</td>\n",
       "      <td>...</td>\n",
       "    </tr>\n",
       "    <tr>\n",
       "      <th>Triples</th>\n",
       "      <td>110</td>\n",
       "      <td>2</td>\n",
       "    </tr>\n",
       "    <tr>\n",
       "      <th>Trix</th>\n",
       "      <td>110</td>\n",
       "      <td>1</td>\n",
       "    </tr>\n",
       "    <tr>\n",
       "      <th>Wheat Chex</th>\n",
       "      <td>100</td>\n",
       "      <td>3</td>\n",
       "    </tr>\n",
       "    <tr>\n",
       "      <th>Wheaties</th>\n",
       "      <td>100</td>\n",
       "      <td>3</td>\n",
       "    </tr>\n",
       "    <tr>\n",
       "      <th>Wheaties Honey Gold</th>\n",
       "      <td>110</td>\n",
       "      <td>2</td>\n",
       "    </tr>\n",
       "  </tbody>\n",
       "</table>\n",
       "<p>77 rows × 2 columns</p>\n",
       "</div>"
      ],
      "text/plain": [
       "                           calories  protein\n",
       "name                                        \n",
       "100% Bran                        70        4\n",
       "100% Natural Bran               120        3\n",
       "All-Bran                         70        4\n",
       "All-Bran with Extra Fiber        50        4\n",
       "Almond Delight                  110        2\n",
       "...                             ...      ...\n",
       "Triples                         110        2\n",
       "Trix                            110        1\n",
       "Wheat Chex                      100        3\n",
       "Wheaties                        100        3\n",
       "Wheaties Honey Gold             110        2\n",
       "\n",
       "[77 rows x 2 columns]"
      ]
     },
     "execution_count": 49,
     "metadata": {},
     "output_type": "execute_result"
    }
   ],
   "source": [
    "cereal_df[['calories','protein']]"
   ]
  },
  {
   "cell_type": "markdown",
   "id": "614bc22e",
   "metadata": {
    "slideshow": {
     "slide_type": "slide"
    }
   },
   "source": [
    "Only difference arises when slicing on columns:\n",
    "- Really need to use .loc[] accessor for this."
   ]
  },
  {
   "cell_type": "code",
   "execution_count": 34,
   "id": "42e075dc",
   "metadata": {
    "slideshow": {
     "slide_type": "subslide"
    }
   },
   "outputs": [
    {
     "data": {
      "text/html": [
       "<div>\n",
       "<style scoped>\n",
       "    .dataframe tbody tr th:only-of-type {\n",
       "        vertical-align: middle;\n",
       "    }\n",
       "\n",
       "    .dataframe tbody tr th {\n",
       "        vertical-align: top;\n",
       "    }\n",
       "\n",
       "    .dataframe thead th {\n",
       "        text-align: right;\n",
       "    }\n",
       "</style>\n",
       "<table border=\"1\" class=\"dataframe\">\n",
       "  <thead>\n",
       "    <tr style=\"text-align: right;\">\n",
       "      <th></th>\n",
       "      <th>calories</th>\n",
       "      <th>protein</th>\n",
       "      <th>fat</th>\n",
       "      <th>sodium</th>\n",
       "    </tr>\n",
       "    <tr>\n",
       "      <th>name</th>\n",
       "      <th></th>\n",
       "      <th></th>\n",
       "      <th></th>\n",
       "      <th></th>\n",
       "    </tr>\n",
       "  </thead>\n",
       "  <tbody>\n",
       "    <tr>\n",
       "      <th>100% Bran</th>\n",
       "      <td>70</td>\n",
       "      <td>4</td>\n",
       "      <td>1</td>\n",
       "      <td>130</td>\n",
       "    </tr>\n",
       "    <tr>\n",
       "      <th>100% Natural Bran</th>\n",
       "      <td>120</td>\n",
       "      <td>3</td>\n",
       "      <td>5</td>\n",
       "      <td>15</td>\n",
       "    </tr>\n",
       "    <tr>\n",
       "      <th>All-Bran</th>\n",
       "      <td>70</td>\n",
       "      <td>4</td>\n",
       "      <td>1</td>\n",
       "      <td>260</td>\n",
       "    </tr>\n",
       "    <tr>\n",
       "      <th>All-Bran with Extra Fiber</th>\n",
       "      <td>50</td>\n",
       "      <td>4</td>\n",
       "      <td>0</td>\n",
       "      <td>140</td>\n",
       "    </tr>\n",
       "    <tr>\n",
       "      <th>Almond Delight</th>\n",
       "      <td>110</td>\n",
       "      <td>2</td>\n",
       "      <td>2</td>\n",
       "      <td>200</td>\n",
       "    </tr>\n",
       "    <tr>\n",
       "      <th>...</th>\n",
       "      <td>...</td>\n",
       "      <td>...</td>\n",
       "      <td>...</td>\n",
       "      <td>...</td>\n",
       "    </tr>\n",
       "    <tr>\n",
       "      <th>Triples</th>\n",
       "      <td>110</td>\n",
       "      <td>2</td>\n",
       "      <td>1</td>\n",
       "      <td>250</td>\n",
       "    </tr>\n",
       "    <tr>\n",
       "      <th>Trix</th>\n",
       "      <td>110</td>\n",
       "      <td>1</td>\n",
       "      <td>1</td>\n",
       "      <td>140</td>\n",
       "    </tr>\n",
       "    <tr>\n",
       "      <th>Wheat Chex</th>\n",
       "      <td>100</td>\n",
       "      <td>3</td>\n",
       "      <td>1</td>\n",
       "      <td>230</td>\n",
       "    </tr>\n",
       "    <tr>\n",
       "      <th>Wheaties</th>\n",
       "      <td>100</td>\n",
       "      <td>3</td>\n",
       "      <td>1</td>\n",
       "      <td>200</td>\n",
       "    </tr>\n",
       "    <tr>\n",
       "      <th>Wheaties Honey Gold</th>\n",
       "      <td>110</td>\n",
       "      <td>2</td>\n",
       "      <td>1</td>\n",
       "      <td>200</td>\n",
       "    </tr>\n",
       "  </tbody>\n",
       "</table>\n",
       "<p>77 rows × 4 columns</p>\n",
       "</div>"
      ],
      "text/plain": [
       "                           calories  protein  fat  sodium\n",
       "name                                                     \n",
       "100% Bran                        70        4    1     130\n",
       "100% Natural Bran               120        3    5      15\n",
       "All-Bran                         70        4    1     260\n",
       "All-Bran with Extra Fiber        50        4    0     140\n",
       "Almond Delight                  110        2    2     200\n",
       "...                             ...      ...  ...     ...\n",
       "Triples                         110        2    1     250\n",
       "Trix                            110        1    1     140\n",
       "Wheat Chex                      100        3    1     230\n",
       "Wheaties                        100        3    1     200\n",
       "Wheaties Honey Gold             110        2    1     200\n",
       "\n",
       "[77 rows x 4 columns]"
      ]
     },
     "execution_count": 34,
     "metadata": {},
     "output_type": "execute_result"
    }
   ],
   "source": [
    "cereal_df.loc[:, 'calories':'sodium']"
   ]
  },
  {
   "cell_type": "code",
   "execution_count": 35,
   "id": "54cdb187",
   "metadata": {
    "slideshow": {
     "slide_type": "subslide"
    }
   },
   "outputs": [
    {
     "data": {
      "text/html": [
       "<div>\n",
       "<style scoped>\n",
       "    .dataframe tbody tr th:only-of-type {\n",
       "        vertical-align: middle;\n",
       "    }\n",
       "\n",
       "    .dataframe tbody tr th {\n",
       "        vertical-align: top;\n",
       "    }\n",
       "\n",
       "    .dataframe thead th {\n",
       "        text-align: right;\n",
       "    }\n",
       "</style>\n",
       "<table border=\"1\" class=\"dataframe\">\n",
       "  <thead>\n",
       "    <tr style=\"text-align: right;\">\n",
       "      <th></th>\n",
       "      <th>mfr</th>\n",
       "      <th>type</th>\n",
       "      <th>calories</th>\n",
       "      <th>protein</th>\n",
       "      <th>fat</th>\n",
       "      <th>sodium</th>\n",
       "      <th>fiber</th>\n",
       "      <th>carbo</th>\n",
       "      <th>sugars</th>\n",
       "      <th>potass</th>\n",
       "      <th>vitamins</th>\n",
       "      <th>shelf</th>\n",
       "      <th>weight</th>\n",
       "      <th>cups</th>\n",
       "      <th>rating</th>\n",
       "    </tr>\n",
       "    <tr>\n",
       "      <th>name</th>\n",
       "      <th></th>\n",
       "      <th></th>\n",
       "      <th></th>\n",
       "      <th></th>\n",
       "      <th></th>\n",
       "      <th></th>\n",
       "      <th></th>\n",
       "      <th></th>\n",
       "      <th></th>\n",
       "      <th></th>\n",
       "      <th></th>\n",
       "      <th></th>\n",
       "      <th></th>\n",
       "      <th></th>\n",
       "      <th></th>\n",
       "    </tr>\n",
       "  </thead>\n",
       "  <tbody>\n",
       "  </tbody>\n",
       "</table>\n",
       "</div>"
      ],
      "text/plain": [
       "Empty DataFrame\n",
       "Columns: [mfr, type, calories, protein, fat, sodium, fiber, carbo, sugars, potass, vitamins, shelf, weight, cups, rating]\n",
       "Index: []"
      ]
     },
     "execution_count": 35,
     "metadata": {},
     "output_type": "execute_result"
    }
   ],
   "source": [
    "cereal_df['calories':'sodium']"
   ]
  },
  {
   "cell_type": "markdown",
   "id": "d3c1f22f",
   "metadata": {
    "slideshow": {
     "slide_type": "slide"
    }
   },
   "source": [
    "The .iloc[] accessor:\n",
    "\n",
    "- Access rows and columns by their integer position instead of named index.\n",
    "- Everything else pretty much the same as .loc[]"
   ]
  },
  {
   "cell_type": "code",
   "execution_count": 52,
   "id": "420edb5a",
   "metadata": {
    "cell_style": "split",
    "slideshow": {
     "slide_type": "subslide"
    }
   },
   "outputs": [
    {
     "data": {
      "text/html": [
       "<div>\n",
       "<style scoped>\n",
       "    .dataframe tbody tr th:only-of-type {\n",
       "        vertical-align: middle;\n",
       "    }\n",
       "\n",
       "    .dataframe tbody tr th {\n",
       "        vertical-align: top;\n",
       "    }\n",
       "\n",
       "    .dataframe thead th {\n",
       "        text-align: right;\n",
       "    }\n",
       "</style>\n",
       "<table border=\"1\" class=\"dataframe\">\n",
       "  <thead>\n",
       "    <tr style=\"text-align: right;\">\n",
       "      <th></th>\n",
       "      <th>mfr</th>\n",
       "      <th>type</th>\n",
       "      <th>calories</th>\n",
       "      <th>protein</th>\n",
       "      <th>fat</th>\n",
       "      <th>sodium</th>\n",
       "      <th>fiber</th>\n",
       "      <th>carbo</th>\n",
       "      <th>sugars</th>\n",
       "      <th>potass</th>\n",
       "      <th>vitamins</th>\n",
       "      <th>shelf</th>\n",
       "      <th>weight</th>\n",
       "      <th>cups</th>\n",
       "      <th>rating</th>\n",
       "    </tr>\n",
       "    <tr>\n",
       "      <th>name</th>\n",
       "      <th></th>\n",
       "      <th></th>\n",
       "      <th></th>\n",
       "      <th></th>\n",
       "      <th></th>\n",
       "      <th></th>\n",
       "      <th></th>\n",
       "      <th></th>\n",
       "      <th></th>\n",
       "      <th></th>\n",
       "      <th></th>\n",
       "      <th></th>\n",
       "      <th></th>\n",
       "      <th></th>\n",
       "      <th></th>\n",
       "    </tr>\n",
       "  </thead>\n",
       "  <tbody>\n",
       "    <tr>\n",
       "      <th>100% Bran</th>\n",
       "      <td>N</td>\n",
       "      <td>C</td>\n",
       "      <td>70</td>\n",
       "      <td>4</td>\n",
       "      <td>1</td>\n",
       "      <td>130</td>\n",
       "      <td>10.0</td>\n",
       "      <td>5.0</td>\n",
       "      <td>6</td>\n",
       "      <td>280</td>\n",
       "      <td>25</td>\n",
       "      <td>3</td>\n",
       "      <td>1.0</td>\n",
       "      <td>0.33</td>\n",
       "      <td>68.402973</td>\n",
       "    </tr>\n",
       "    <tr>\n",
       "      <th>100% Natural Bran</th>\n",
       "      <td>Q</td>\n",
       "      <td>C</td>\n",
       "      <td>120</td>\n",
       "      <td>3</td>\n",
       "      <td>5</td>\n",
       "      <td>15</td>\n",
       "      <td>2.0</td>\n",
       "      <td>8.0</td>\n",
       "      <td>8</td>\n",
       "      <td>135</td>\n",
       "      <td>0</td>\n",
       "      <td>3</td>\n",
       "      <td>1.0</td>\n",
       "      <td>1.00</td>\n",
       "      <td>33.983679</td>\n",
       "    </tr>\n",
       "    <tr>\n",
       "      <th>All-Bran</th>\n",
       "      <td>K</td>\n",
       "      <td>C</td>\n",
       "      <td>70</td>\n",
       "      <td>4</td>\n",
       "      <td>1</td>\n",
       "      <td>260</td>\n",
       "      <td>9.0</td>\n",
       "      <td>7.0</td>\n",
       "      <td>5</td>\n",
       "      <td>320</td>\n",
       "      <td>25</td>\n",
       "      <td>3</td>\n",
       "      <td>1.0</td>\n",
       "      <td>0.33</td>\n",
       "      <td>59.425505</td>\n",
       "    </tr>\n",
       "    <tr>\n",
       "      <th>All-Bran with Extra Fiber</th>\n",
       "      <td>K</td>\n",
       "      <td>C</td>\n",
       "      <td>50</td>\n",
       "      <td>4</td>\n",
       "      <td>0</td>\n",
       "      <td>140</td>\n",
       "      <td>14.0</td>\n",
       "      <td>8.0</td>\n",
       "      <td>0</td>\n",
       "      <td>330</td>\n",
       "      <td>25</td>\n",
       "      <td>3</td>\n",
       "      <td>1.0</td>\n",
       "      <td>0.50</td>\n",
       "      <td>93.704912</td>\n",
       "    </tr>\n",
       "    <tr>\n",
       "      <th>Almond Delight</th>\n",
       "      <td>R</td>\n",
       "      <td>C</td>\n",
       "      <td>110</td>\n",
       "      <td>2</td>\n",
       "      <td>2</td>\n",
       "      <td>200</td>\n",
       "      <td>1.0</td>\n",
       "      <td>14.0</td>\n",
       "      <td>8</td>\n",
       "      <td>-1</td>\n",
       "      <td>25</td>\n",
       "      <td>3</td>\n",
       "      <td>1.0</td>\n",
       "      <td>0.75</td>\n",
       "      <td>34.384843</td>\n",
       "    </tr>\n",
       "  </tbody>\n",
       "</table>\n",
       "</div>"
      ],
      "text/plain": [
       "                          mfr type  calories  protein  fat  sodium  fiber  \\\n",
       "name                                                                        \n",
       "100% Bran                   N    C        70        4    1     130   10.0   \n",
       "100% Natural Bran           Q    C       120        3    5      15    2.0   \n",
       "All-Bran                    K    C        70        4    1     260    9.0   \n",
       "All-Bran with Extra Fiber   K    C        50        4    0     140   14.0   \n",
       "Almond Delight              R    C       110        2    2     200    1.0   \n",
       "\n",
       "                           carbo  sugars  potass  vitamins  shelf  weight  \\\n",
       "name                                                                        \n",
       "100% Bran                    5.0       6     280        25      3     1.0   \n",
       "100% Natural Bran            8.0       8     135         0      3     1.0   \n",
       "All-Bran                     7.0       5     320        25      3     1.0   \n",
       "All-Bran with Extra Fiber    8.0       0     330        25      3     1.0   \n",
       "Almond Delight              14.0       8      -1        25      3     1.0   \n",
       "\n",
       "                           cups     rating  \n",
       "name                                        \n",
       "100% Bran                  0.33  68.402973  \n",
       "100% Natural Bran          1.00  33.983679  \n",
       "All-Bran                   0.33  59.425505  \n",
       "All-Bran with Extra Fiber  0.50  93.704912  \n",
       "Almond Delight             0.75  34.384843  "
      ]
     },
     "execution_count": 52,
     "metadata": {},
     "output_type": "execute_result"
    }
   ],
   "source": [
    "cereal_df.head(5)"
   ]
  },
  {
   "cell_type": "code",
   "execution_count": 53,
   "id": "b2612678",
   "metadata": {
    "cell_style": "split",
    "slideshow": {
     "slide_type": "fragment"
    }
   },
   "outputs": [
    {
     "data": {
      "text/html": [
       "<div>\n",
       "<style scoped>\n",
       "    .dataframe tbody tr th:only-of-type {\n",
       "        vertical-align: middle;\n",
       "    }\n",
       "\n",
       "    .dataframe tbody tr th {\n",
       "        vertical-align: top;\n",
       "    }\n",
       "\n",
       "    .dataframe thead th {\n",
       "        text-align: right;\n",
       "    }\n",
       "</style>\n",
       "<table border=\"1\" class=\"dataframe\">\n",
       "  <thead>\n",
       "    <tr style=\"text-align: right;\">\n",
       "      <th></th>\n",
       "      <th>calories</th>\n",
       "      <th>protein</th>\n",
       "      <th>fat</th>\n",
       "      <th>sodium</th>\n",
       "    </tr>\n",
       "    <tr>\n",
       "      <th>name</th>\n",
       "      <th></th>\n",
       "      <th></th>\n",
       "      <th></th>\n",
       "      <th></th>\n",
       "    </tr>\n",
       "  </thead>\n",
       "  <tbody>\n",
       "    <tr>\n",
       "      <th>100% Natural Bran</th>\n",
       "      <td>120</td>\n",
       "      <td>3</td>\n",
       "      <td>5</td>\n",
       "      <td>15</td>\n",
       "    </tr>\n",
       "    <tr>\n",
       "      <th>All-Bran</th>\n",
       "      <td>70</td>\n",
       "      <td>4</td>\n",
       "      <td>1</td>\n",
       "      <td>260</td>\n",
       "    </tr>\n",
       "    <tr>\n",
       "      <th>All-Bran with Extra Fiber</th>\n",
       "      <td>50</td>\n",
       "      <td>4</td>\n",
       "      <td>0</td>\n",
       "      <td>140</td>\n",
       "    </tr>\n",
       "  </tbody>\n",
       "</table>\n",
       "</div>"
      ],
      "text/plain": [
       "                           calories  protein  fat  sodium\n",
       "name                                                     \n",
       "100% Natural Bran               120        3    5      15\n",
       "All-Bran                         70        4    1     260\n",
       "All-Bran with Extra Fiber        50        4    0     140"
      ]
     },
     "execution_count": 53,
     "metadata": {},
     "output_type": "execute_result"
    }
   ],
   "source": [
    "cereal_df.iloc[1:4, 2:6]"
   ]
  },
  {
   "cell_type": "markdown",
   "id": "8dc823f5",
   "metadata": {},
   "source": [
    "Note with .iloc slice, last index *NOT included* in slice"
   ]
  }
 ],
 "metadata": {
  "celltoolbar": "Slideshow",
  "kernelspec": {
   "display_name": "Python 3 (ipykernel)",
   "language": "python",
   "name": "python3"
  },
  "language_info": {
   "codemirror_mode": {
    "name": "ipython",
    "version": 3
   },
   "file_extension": ".py",
   "mimetype": "text/x-python",
   "name": "python",
   "nbconvert_exporter": "python",
   "pygments_lexer": "ipython3",
   "version": "3.9.7"
  }
 },
 "nbformat": 4,
 "nbformat_minor": 5
}
