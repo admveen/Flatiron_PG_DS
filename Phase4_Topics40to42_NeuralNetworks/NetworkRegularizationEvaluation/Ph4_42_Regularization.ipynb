{
 "cells": [
  {
   "cell_type": "markdown",
   "metadata": {
    "cell_style": "center",
    "slideshow": {
     "slide_type": "slide"
    }
   },
   "source": [
    "<div style=\"color:white;\n",
    "           display:fill;\n",
    "           border-radius:5px;\n",
    "           background-color:#5642C5;\n",
    "           font-size:200%;\n",
    "           font-family:Arial;letter-spacing:0.5px\">\n",
    "\n",
    "<p width = 20%, style=\"padding: 10px;\n",
    "              color:white;\">\n",
    "Neural Networks: Regularization\n",
    "</p>\n",
    "</div>\n",
    "\n",
    "Data Science Cohort Live NYC Feb 2022\n",
    "<p>Phase 4: Topic 42</p>\n",
    "<br>\n",
    "<br>\n",
    "\n",
    "<div align = \"right\">\n",
    "<img src=\"Images/flatiron-school-logo.png\" align = \"right\" width=\"200\"/>\n",
    "</div>\n",
    "    \n",
    "    "
   ]
  },
  {
   "cell_type": "code",
   "execution_count": 1,
   "metadata": {
    "slideshow": {
     "slide_type": "skip"
    }
   },
   "outputs": [],
   "source": [
    "from sklearn.datasets import load_sample_images\n",
    "from sklearn.datasets import load_digits\n",
    "from sklearn.model_selection import train_test_split, cross_val_score\n",
    "from sklearn.preprocessing import OneHotEncoder\n",
    "from sklearn.metrics import accuracy_score, confusion_matrix\n",
    "import matplotlib.pyplot as plt\n",
    "import matplotlib.image as mpimg\n",
    "import numpy as np\n",
    "import pandas as pd\n",
    "from sklearn.metrics import ConfusionMatrixDisplay\n",
    "import seaborn as sns\n",
    "\n",
    "from tensorflow.keras import datasets\n",
    "from tensorflow.keras.models import Sequential\n",
    "from tensorflow.keras.layers import Dense, Dropout\n",
    "from tensorflow.keras.callbacks import EarlyStopping\n",
    "from tensorflow.keras.utils import to_categorical\n",
    "from tensorflow.keras.layers import Flatten # takes 2D input and turns into 1D array\n",
    "\n",
    "import os\n",
    "import sys\n",
    "module_path = os.path.abspath(os.path.join(os.pardir, os.pardir))\n",
    "if module_path not in sys.path:\n",
    "    sys.path.append(module_path)\n",
    "    \n",
    "%load_ext autoreload\n",
    "%autoreload 2"
   ]
  },
  {
   "cell_type": "markdown",
   "metadata": {
    "slideshow": {
     "slide_type": "slide"
    }
   },
   "source": [
    "#### Regularization\n",
    "- Retain complexity of neural network: many weights to learn interesting relationships\n",
    "- Make our weights less susceptible to overfitting\n",
    "\n",
    "**Getting neural networks to perform really well**"
   ]
  },
  {
   "cell_type": "markdown",
   "metadata": {
    "slideshow": {
     "slide_type": "slide"
    }
   },
   "source": [
    "In neural networks, two main forms of regularization:\n",
    "- L2 Regularization (something familiar)\n",
    "- Dropout Regularization (something a little new)"
   ]
  },
  {
   "cell_type": "markdown",
   "metadata": {
    "slideshow": {
     "slide_type": "slide"
    }
   },
   "source": [
    "**L2 Regularization**\n",
    "\n",
    "- Add penalty on weight **matrices**.\n",
    "$$ J \\rightarrow J' $$\n",
    "$$ J = \\sum_{i=1}^m \\frac{1}{m}L(y_i, \\hat{y}_i) $$\n",
    "$$ J' = \\sum_{i=1}^m \\frac{1}{m}L(y_i, \\hat{y}_i) + \\frac{\\lambda}{2} \\sum_{l=1}^L \\lVert  W^{[l]}   \\rVert_F^2 $$"
   ]
  },
  {
   "cell_type": "markdown",
   "metadata": {
    "slideshow": {
     "slide_type": "fragment"
    }
   },
   "source": [
    "where $F$ denotes the Frobenius norm."
   ]
  },
  {
   "cell_type": "markdown",
   "metadata": {
    "cell_style": "center",
    "slideshow": {
     "slide_type": "slide"
    }
   },
   "source": [
    "Frobenius norm is square root of sum of of element-wise square:\n",
    "i.e. \n",
    "$$ \\lVert  A   \\rVert_F = \\sqrt{\\sum_{i,j} A_{ij}^2 }$$"
   ]
  },
  {
   "cell_type": "code",
   "execution_count": 34,
   "metadata": {
    "slideshow": {
     "slide_type": "fragment"
    }
   },
   "outputs": [],
   "source": [
    "import numpy as np\n",
    "from numpy.linalg import norm"
   ]
  },
  {
   "cell_type": "code",
   "execution_count": 3,
   "metadata": {
    "cell_style": "split",
    "slideshow": {
     "slide_type": "fragment"
    }
   },
   "outputs": [
    {
     "data": {
      "text/plain": [
       "array([[1, 2],\n",
       "       [0, 3]])"
      ]
     },
     "execution_count": 3,
     "metadata": {},
     "output_type": "execute_result"
    }
   ],
   "source": [
    "A = np.array([[1,2],[0,3]])\n",
    "A"
   ]
  },
  {
   "cell_type": "code",
   "execution_count": 4,
   "metadata": {
    "cell_style": "split",
    "slideshow": {
     "slide_type": "fragment"
    }
   },
   "outputs": [
    {
     "data": {
      "text/plain": [
       "3.7416573867739413"
      ]
     },
     "execution_count": 4,
     "metadata": {},
     "output_type": "execute_result"
    }
   ],
   "source": [
    "norm(A, 'fro')"
   ]
  },
  {
   "cell_type": "code",
   "execution_count": 5,
   "metadata": {
    "cell_style": "split",
    "slideshow": {
     "slide_type": "fragment"
    }
   },
   "outputs": [
    {
     "data": {
      "text/plain": [
       "3.7416573867739413"
      ]
     },
     "execution_count": 5,
     "metadata": {},
     "output_type": "execute_result"
    }
   ],
   "source": [
    "np.sqrt(1**2 + 0**2 + 2**2 + 3**2)"
   ]
  },
  {
   "cell_type": "markdown",
   "metadata": {
    "cell_style": "split",
    "slideshow": {
     "slide_type": "slide"
    }
   },
   "source": [
    "Modified objective functon:\n",
    "\n",
    "$$ J' = \\sum_{i=1}^m \\frac{1}{m}L(y_i, \\hat{y}_i) + \\frac{\\lambda}{2} \\sum_{l=1}^L \\lVert  W^{[l]}   \\rVert_F^2 $$"
   ]
  },
  {
   "cell_type": "markdown",
   "metadata": {
    "cell_style": "split",
    "slideshow": {
     "slide_type": "fragment"
    }
   },
   "source": [
    "Regularization serves to penalize any particular weight from being too large:\n",
    "- smoothens/redistributes weights for each weight matrix\n",
    "- aids in generalization"
   ]
  },
  {
   "cell_type": "markdown",
   "metadata": {
    "cell_style": "center",
    "slideshow": {
     "slide_type": "slide"
    }
   },
   "source": [
    "L2 regularization: often known as weight decay\n",
    "- Perspective: gradient descent\n",
    "$$ J' = \\sum_{i=1}^m \\frac{1}{m}L(y_i, \\hat{y}_i) + \\frac{\\lambda}{2} \\sum_{l=1}^L \\lVert  W^{[l]}   \\rVert_F^2 $$\n",
    "$$ W^{[l]} \\rightarrow W^{[l]} - \\alpha \\frac{\\partial J'}{\\partial W^{[l]}} $$ "
   ]
  },
  {
   "cell_type": "markdown",
   "metadata": {
    "cell_style": "center",
    "slideshow": {
     "slide_type": "fragment"
    }
   },
   "source": [
    "$$ J = \\sum_{i=1}^m \\frac{1}{m}L(y_i, \\hat{y}_i) $$\n",
    "$$ W^{[l]} \\rightarrow \\Big(W^{[l]}  - \\alpha \\frac{\\lambda}{2 m}  W^{[l]} \\Big) - \\alpha \\frac{\\partial J}{\\partial W^{[l]}}$$ \n",
    "\n",
    "- At each iteration regularization tries to reduce magnitude of weight matrix."
   ]
  },
  {
   "cell_type": "markdown",
   "metadata": {
    "slideshow": {
     "slide_type": "slide"
    }
   },
   "source": [
    "#### Implementing L2 regularization in Keras"
   ]
  },
  {
   "cell_type": "code",
   "execution_count": 6,
   "metadata": {
    "slideshow": {
     "slide_type": "fragment"
    }
   },
   "outputs": [],
   "source": [
    "# creates keras regularizer object\n",
    "from tensorflow.keras.regularizers import L2"
   ]
  },
  {
   "cell_type": "markdown",
   "metadata": {
    "cell_style": "center",
    "slideshow": {
     "slide_type": "slide"
    }
   },
   "source": [
    "L2 regularizer object takes in $\\lambda$ parameter as argument"
   ]
  },
  {
   "cell_type": "code",
   "execution_count": 7,
   "metadata": {
    "cell_style": "center",
    "slideshow": {
     "slide_type": "fragment"
    }
   },
   "outputs": [],
   "source": [
    "reg = L2(3e-3) # 1e-5 to .1"
   ]
  },
  {
   "cell_type": "markdown",
   "metadata": {
    "cell_style": "split",
    "slideshow": {
     "slide_type": "slide"
    }
   },
   "source": [
    "Implementing regularization to weights in Keras:\n",
    "- Dense(kernel_regularizer = __)\n",
    "- takes in string ('l2') or regularizer object"
   ]
  },
  {
   "cell_type": "markdown",
   "metadata": {
    "cell_style": "split",
    "slideshow": {
     "slide_type": "fragment"
    }
   },
   "source": [
    "Less common but also used:\n",
    "\n",
    "- can apply regularization to bias terms \n",
    "- Dense(bias_regularizer = __)"
   ]
  },
  {
   "cell_type": "code",
   "execution_count": 8,
   "metadata": {
    "slideshow": {
     "slide_type": "slide"
    }
   },
   "outputs": [],
   "source": [
    "# load in the data\n",
    "(x_train, y_train), (x_test, y_test) = datasets.mnist.load_data()\n",
    "\n",
    "x_train = x_train/255 # normalization\n",
    "x_test = x_test/255\n",
    "\n",
    "# Keras requires multi-class labels to be one-hot encoded\n",
    "y_tr_one_hot = to_categorical(y_train)\n",
    "y_tt_one_hot = to_categorical(y_test)"
   ]
  },
  {
   "cell_type": "code",
   "execution_count": 9,
   "metadata": {
    "slideshow": {
     "slide_type": "slide"
    }
   },
   "outputs": [],
   "source": [
    "model_images = Sequential()\n",
    "model_images.add(Flatten(input_shape=(28, 28))) # flattens each 28x28 image into a vector\n",
    "model_images.add(Dense(32, activation='relu', kernel_regularizer = reg)) # take in regularizer\n",
    "model_images.add(Dense(8, activation='relu', kernel_regularizer = reg))\n",
    "model_images.add(Dense(10, activation='softmax')) # number of units = number of target classes"
   ]
  },
  {
   "cell_type": "code",
   "execution_count": 10,
   "metadata": {
    "slideshow": {
     "slide_type": "fragment"
    }
   },
   "outputs": [],
   "source": [
    "model_images.compile(optimizer='Adam', loss='categorical_crossentropy', metrics=['accuracy'] )"
   ]
  },
  {
   "cell_type": "code",
   "execution_count": 11,
   "metadata": {
    "scrolled": true,
    "slideshow": {
     "slide_type": "subslide"
    }
   },
   "outputs": [
    {
     "name": "stdout",
     "output_type": "stream",
     "text": [
      "Epoch 1/50\n",
      "1500/1500 [==============================] - 3s 2ms/step - loss: 0.7507 - accuracy: 0.8210 - val_loss: 0.4798 - val_accuracy: 0.9174\n",
      "Epoch 2/50\n",
      "1500/1500 [==============================] - 3s 2ms/step - loss: 0.4659 - accuracy: 0.9188 - val_loss: 0.4239 - val_accuracy: 0.9267\n",
      "Epoch 3/50\n",
      "1500/1500 [==============================] - 3s 2ms/step - loss: 0.4136 - accuracy: 0.9308 - val_loss: 0.3857 - val_accuracy: 0.9378\n",
      "Epoch 4/50\n",
      "1500/1500 [==============================] - 3s 2ms/step - loss: 0.3839 - accuracy: 0.9361 - val_loss: 0.3666 - val_accuracy: 0.9384\n",
      "Epoch 5/50\n",
      "1500/1500 [==============================] - 2s 2ms/step - loss: 0.3634 - accuracy: 0.9406 - val_loss: 0.3465 - val_accuracy: 0.9448\n",
      "Epoch 6/50\n",
      "1500/1500 [==============================] - 2s 1ms/step - loss: 0.3473 - accuracy: 0.9417 - val_loss: 0.3374 - val_accuracy: 0.9433\n",
      "Epoch 7/50\n",
      "1500/1500 [==============================] - 2s 2ms/step - loss: 0.3347 - accuracy: 0.9456 - val_loss: 0.3228 - val_accuracy: 0.9473\n",
      "Epoch 8/50\n",
      "1500/1500 [==============================] - 3s 2ms/step - loss: 0.3225 - accuracy: 0.9481 - val_loss: 0.3099 - val_accuracy: 0.9485\n",
      "Epoch 9/50\n",
      "1500/1500 [==============================] - 3s 2ms/step - loss: 0.3141 - accuracy: 0.9503 - val_loss: 0.3065 - val_accuracy: 0.9493\n",
      "Epoch 10/50\n",
      "1500/1500 [==============================] - 3s 2ms/step - loss: 0.3049 - accuracy: 0.9509 - val_loss: 0.3006 - val_accuracy: 0.9540\n",
      "Epoch 11/50\n",
      "1500/1500 [==============================] - 3s 2ms/step - loss: 0.2970 - accuracy: 0.9532 - val_loss: 0.2964 - val_accuracy: 0.9500\n",
      "Epoch 12/50\n",
      "1500/1500 [==============================] - 3s 2ms/step - loss: 0.2912 - accuracy: 0.9522 - val_loss: 0.2837 - val_accuracy: 0.9546\n",
      "Epoch 13/50\n",
      "1500/1500 [==============================] - 3s 2ms/step - loss: 0.2852 - accuracy: 0.9535 - val_loss: 0.2855 - val_accuracy: 0.9513\n",
      "Epoch 14/50\n",
      "1500/1500 [==============================] - 3s 2ms/step - loss: 0.2785 - accuracy: 0.9545 - val_loss: 0.2775 - val_accuracy: 0.9555\n",
      "Epoch 15/50\n",
      "1500/1500 [==============================] - 3s 2ms/step - loss: 0.2762 - accuracy: 0.9553 - val_loss: 0.2774 - val_accuracy: 0.9535\n",
      "Epoch 16/50\n",
      "1500/1500 [==============================] - 3s 2ms/step - loss: 0.2710 - accuracy: 0.9564 - val_loss: 0.2623 - val_accuracy: 0.9592\n",
      "Epoch 17/50\n",
      "1500/1500 [==============================] - 3s 2ms/step - loss: 0.2668 - accuracy: 0.9560 - val_loss: 0.2620 - val_accuracy: 0.9576\n",
      "Epoch 18/50\n",
      "1500/1500 [==============================] - 3s 2ms/step - loss: 0.2630 - accuracy: 0.9564 - val_loss: 0.2553 - val_accuracy: 0.9597\n",
      "Epoch 19/50\n",
      "1500/1500 [==============================] - 3s 2ms/step - loss: 0.2607 - accuracy: 0.9567 - val_loss: 0.2661 - val_accuracy: 0.9570\n",
      "Epoch 20/50\n",
      "1500/1500 [==============================] - 3s 2ms/step - loss: 0.2564 - accuracy: 0.9574 - val_loss: 0.2655 - val_accuracy: 0.9550\n",
      "Epoch 21/50\n",
      "1500/1500 [==============================] - 3s 2ms/step - loss: 0.2527 - accuracy: 0.9581 - val_loss: 0.2597 - val_accuracy: 0.9548\n",
      "Epoch 22/50\n",
      "1500/1500 [==============================] - 3s 2ms/step - loss: 0.2513 - accuracy: 0.9586 - val_loss: 0.2676 - val_accuracy: 0.9540\n",
      "Epoch 23/50\n",
      "1500/1500 [==============================] - 3s 2ms/step - loss: 0.2489 - accuracy: 0.9584 - val_loss: 0.2488 - val_accuracy: 0.9560\n",
      "Epoch 24/50\n",
      "1500/1500 [==============================] - 3s 2ms/step - loss: 0.2459 - accuracy: 0.9595 - val_loss: 0.2516 - val_accuracy: 0.9563\n",
      "Epoch 25/50\n",
      "1500/1500 [==============================] - 3s 2ms/step - loss: 0.2445 - accuracy: 0.9594 - val_loss: 0.2530 - val_accuracy: 0.9550\n",
      "Epoch 26/50\n",
      "1500/1500 [==============================] - 3s 2ms/step - loss: 0.2424 - accuracy: 0.9598 - val_loss: 0.2474 - val_accuracy: 0.9552\n",
      "Epoch 27/50\n",
      "1500/1500 [==============================] - 3s 2ms/step - loss: 0.2388 - accuracy: 0.9611 - val_loss: 0.2470 - val_accuracy: 0.9592\n",
      "Epoch 28/50\n",
      "1500/1500 [==============================] - 2s 1ms/step - loss: 0.2387 - accuracy: 0.9603 - val_loss: 0.2510 - val_accuracy: 0.9558\n",
      "Epoch 29/50\n",
      "1500/1500 [==============================] - 2s 2ms/step - loss: 0.2363 - accuracy: 0.9619 - val_loss: 0.2337 - val_accuracy: 0.9620\n",
      "Epoch 30/50\n",
      "1500/1500 [==============================] - 3s 2ms/step - loss: 0.2342 - accuracy: 0.9613 - val_loss: 0.2402 - val_accuracy: 0.9585\n",
      "Epoch 31/50\n",
      "1500/1500 [==============================] - 3s 2ms/step - loss: 0.2324 - accuracy: 0.9615 - val_loss: 0.2500 - val_accuracy: 0.9538\n",
      "Epoch 32/50\n",
      "1500/1500 [==============================] - 2s 2ms/step - loss: 0.2311 - accuracy: 0.9613 - val_loss: 0.2427 - val_accuracy: 0.9577\n",
      "Epoch 33/50\n",
      "1500/1500 [==============================] - 2s 2ms/step - loss: 0.2284 - accuracy: 0.9617 - val_loss: 0.2480 - val_accuracy: 0.9558\n",
      "Epoch 34/50\n",
      "1500/1500 [==============================] - 2s 2ms/step - loss: 0.2301 - accuracy: 0.9613 - val_loss: 0.2415 - val_accuracy: 0.9578\n",
      "Epoch 35/50\n",
      "1500/1500 [==============================] - 2s 2ms/step - loss: 0.2271 - accuracy: 0.9618 - val_loss: 0.2270 - val_accuracy: 0.9644\n",
      "Epoch 36/50\n",
      "1500/1500 [==============================] - 3s 2ms/step - loss: 0.2262 - accuracy: 0.9625 - val_loss: 0.2290 - val_accuracy: 0.9597\n",
      "Epoch 37/50\n",
      "1500/1500 [==============================] - 3s 2ms/step - loss: 0.2268 - accuracy: 0.9616 - val_loss: 0.2244 - val_accuracy: 0.9642\n",
      "Epoch 38/50\n",
      "1500/1500 [==============================] - 3s 2ms/step - loss: 0.2224 - accuracy: 0.9634 - val_loss: 0.2324 - val_accuracy: 0.9595\n",
      "Epoch 39/50\n",
      "1500/1500 [==============================] - 3s 2ms/step - loss: 0.2237 - accuracy: 0.9622 - val_loss: 0.2212 - val_accuracy: 0.9630\n",
      "Epoch 40/50\n",
      "1500/1500 [==============================] - 3s 2ms/step - loss: 0.2216 - accuracy: 0.9632 - val_loss: 0.2407 - val_accuracy: 0.9565\n",
      "Epoch 41/50\n",
      "1500/1500 [==============================] - 3s 2ms/step - loss: 0.2223 - accuracy: 0.9626 - val_loss: 0.2387 - val_accuracy: 0.9579\n",
      "Epoch 42/50\n",
      "1500/1500 [==============================] - 3s 2ms/step - loss: 0.2208 - accuracy: 0.9634 - val_loss: 0.2275 - val_accuracy: 0.9617\n",
      "Epoch 43/50\n",
      "1500/1500 [==============================] - 3s 2ms/step - loss: 0.2193 - accuracy: 0.9631 - val_loss: 0.2279 - val_accuracy: 0.9626\n",
      "Epoch 44/50\n",
      "1500/1500 [==============================] - 3s 2ms/step - loss: 0.2202 - accuracy: 0.9629 - val_loss: 0.2228 - val_accuracy: 0.9634\n",
      "Epoch 45/50\n",
      "1500/1500 [==============================] - 3s 2ms/step - loss: 0.2176 - accuracy: 0.9638 - val_loss: 0.2187 - val_accuracy: 0.9627\n",
      "Epoch 46/50\n",
      "1500/1500 [==============================] - 3s 2ms/step - loss: 0.2157 - accuracy: 0.9636 - val_loss: 0.2128 - val_accuracy: 0.9639\n",
      "Epoch 47/50\n",
      "1500/1500 [==============================] - 3s 2ms/step - loss: 0.2152 - accuracy: 0.9639 - val_loss: 0.2176 - val_accuracy: 0.9635\n",
      "Epoch 48/50\n",
      "1500/1500 [==============================] - 3s 2ms/step - loss: 0.2151 - accuracy: 0.9636 - val_loss: 0.2211 - val_accuracy: 0.9617\n",
      "Epoch 49/50\n",
      "1500/1500 [==============================] - 3s 2ms/step - loss: 0.2164 - accuracy: 0.9627 - val_loss: 0.2245 - val_accuracy: 0.9618\n",
      "Epoch 50/50\n",
      "1500/1500 [==============================] - 2s 2ms/step - loss: 0.2134 - accuracy: 0.9639 - val_loss: 0.2312 - val_accuracy: 0.9589\n"
     ]
    }
   ],
   "source": [
    "history_mnist = model_images.fit(x_train, y_tr_one_hot, epochs=50, batch_size= 32, validation_split = 0.2)"
   ]
  },
  {
   "cell_type": "code",
   "execution_count": 71,
   "metadata": {
    "cell_style": "split",
    "slideshow": {
     "slide_type": "slide"
    }
   },
   "outputs": [
    {
     "data": {
      "text/plain": [
       "array([[1.01912665e-04, 2.77440563e-06, 1.22138078e-03, ...,\n",
       "        9.96799350e-01, 2.68218864e-05, 1.76805625e-04],\n",
       "       [4.91450191e-05, 1.83263968e-03, 9.94986057e-01, ...,\n",
       "        1.01600300e-07, 7.10994529e-04, 1.75348280e-09],\n",
       "       [2.73354653e-05, 9.98410106e-01, 3.88242886e-04, ...,\n",
       "        5.36892505e-04, 4.81588504e-04, 3.23129302e-06],\n",
       "       ...,\n",
       "       [9.10061408e-06, 1.60464037e-06, 1.38408936e-07, ...,\n",
       "        1.04437262e-04, 1.00996462e-03, 1.22371381e-02],\n",
       "       [8.18174158e-06, 2.60255479e-06, 5.06959310e-08, ...,\n",
       "        8.13582290e-07, 1.19851809e-03, 1.63761899e-06],\n",
       "       [4.94611682e-04, 1.31672151e-09, 9.20261446e-05, ...,\n",
       "        4.14971751e-10, 2.16793501e-06, 1.60865824e-07]], dtype=float32)"
      ]
     },
     "execution_count": 71,
     "metadata": {},
     "output_type": "execute_result"
    }
   ],
   "source": [
    "# probability for each class\n",
    "y_proba = model_images.predict(x_test)\n",
    "y_proba"
   ]
  },
  {
   "cell_type": "code",
   "execution_count": 72,
   "metadata": {
    "cell_style": "split",
    "slideshow": {
     "slide_type": "fragment"
    }
   },
   "outputs": [
    {
     "name": "stdout",
     "output_type": "stream",
     "text": [
      "313/313 [==============================] - 0s 878us/step - loss: 0.2175 - accuracy: 0.9632\n"
     ]
    },
    {
     "data": {
      "text/plain": [
       "[0.217529296875, 0.9631999731063843]"
      ]
     },
     "execution_count": 72,
     "metadata": {},
     "output_type": "execute_result"
    }
   ],
   "source": [
    "model_images.evaluate(x_test, y_tt_one_hot)"
   ]
  },
  {
   "cell_type": "code",
   "execution_count": 61,
   "metadata": {
    "cell_style": "split",
    "slideshow": {
     "slide_type": "fragment"
    }
   },
   "outputs": [
    {
     "data": {
      "image/png": "[encoded data removed]",
      "text/plain": [
       "<Figure size 432x288 with 1 Axes>"
      ]
     },
     "metadata": {
      "needs_background": "light"
     },
     "output_type": "display_data"
    }
   ],
   "source": [
    "train_mnist_history = pd.DataFrame(history_mnist.history)\n",
    "train_mnist_history.index.name = 'epochs'\n",
    "\n",
    "col_list = ['loss', 'val_loss']\n",
    "train_mnist_history[col_list].plot()\n",
    "plt.ylabel('Categorical cross entropy')\n",
    "plt.title('Training loss history')\n",
    "plt.show()"
   ]
  },
  {
   "cell_type": "code",
   "execution_count": 62,
   "metadata": {
    "cell_style": "split",
    "slideshow": {
     "slide_type": "slide"
    }
   },
   "outputs": [
    {
     "data": {
      "image/png": "[encoded data removed]",
      "text/plain": [
       "<Figure size 432x288 with 1 Axes>"
      ]
     },
     "metadata": {
      "needs_background": "light"
     },
     "output_type": "display_data"
    }
   ],
   "source": [
    "col_list = ['accuracy', 'val_accuracy']\n",
    "train_mnist_history[col_list].plot()\n",
    "plt.ylabel('Accuracy')\n",
    "plt.title('Training loss history')\n",
    "plt.show()"
   ]
  },
  {
   "cell_type": "markdown",
   "metadata": {
    "cell_style": "split",
    "slideshow": {
     "slide_type": "fragment"
    }
   },
   "source": [
    "Better validation accuracy:\n",
    "- 94.5\\% to 96.3\\% with regularization\n",
    "- no overfitting"
   ]
  },
  {
   "cell_type": "code",
   "execution_count": 64,
   "metadata": {
    "slideshow": {
     "slide_type": "subslide"
    }
   },
   "outputs": [
    {
     "data": {
      "text/plain": [
       "array([7, 2, 1, ..., 4, 5, 6], dtype=int64)"
      ]
     },
     "execution_count": 64,
     "metadata": {},
     "output_type": "execute_result"
    }
   ],
   "source": [
    "# argmax axis = -1 gets the column index of maximum probability for each row.\n",
    "# column index corresponds to digit classes (numbers 0 -9)\n",
    "predicted = np.argmax(y_proba, axis=-1)\n",
    "predicted"
   ]
  },
  {
   "cell_type": "code",
   "execution_count": 67,
   "metadata": {
    "cell_style": "center",
    "scrolled": true,
    "slideshow": {
     "slide_type": "fragment"
    }
   },
   "outputs": [
    {
     "data": {
      "image/png": "[encoded data removed]",
      "text/plain": [
       "<Figure size 432x288 with 2 Axes>"
      ]
     },
     "metadata": {
      "needs_background": "light"
     },
     "output_type": "display_data"
    }
   ],
   "source": [
    "cm_digits = confusion_matrix(y_test, predicted)\n",
    "disp = ConfusionMatrixDisplay(\n",
    "    confusion_matrix=cm_digits)\n",
    "\n",
    "disp.plot(cmap=plt.cm.Blues)\n",
    "plt.show()"
   ]
  },
  {
   "cell_type": "markdown",
   "metadata": {
    "slideshow": {
     "slide_type": "slide"
    }
   },
   "source": [
    "Regularization: \n",
    "- key component to training deeper networks (tend to overfit without regularization)\n",
    "- learn higher order features, but don't overtrain on specifics."
   ]
  },
  {
   "cell_type": "code",
   "execution_count": 83,
   "metadata": {
    "slideshow": {
     "slide_type": "fragment"
    }
   },
   "outputs": [],
   "source": [
    "deepermodel_images = Sequential()\n",
    "deepermodel_images.add(Flatten(input_shape=(28, 28))) # flattens each 28x28 image into a vector\n",
    "deepermodel_images.add(Dense(32, activation='relu', kernel_regularizer = reg)) # take in regularizer\n",
    "deepermodel_images.add(Dense(16, activation='relu', kernel_regularizer = reg)) # add another layer\n",
    "deepermodel_images.add(Dense(16, activation='relu', kernel_regularizer = reg)) # add another layer\n",
    "deepermodel_images.add(Dense(10, activation='relu', kernel_regularizer = reg))\n",
    "deepermodel_images.add(Dense(10, activation='softmax')) # number of units = number of target classes\n",
    "\n",
    "deepermodel_images.compile(optimizer='Adam', loss='categorical_crossentropy', metrics=['accuracy'] )"
   ]
  },
  {
   "cell_type": "code",
   "execution_count": 84,
   "metadata": {
    "slideshow": {
     "slide_type": "slide"
    }
   },
   "outputs": [
    {
     "name": "stdout",
     "output_type": "stream",
     "text": [
      "Epoch 1/200\n",
      "1500/1500 [==============================] - 1s 778us/step - loss: 0.8334 - accuracy: 0.8117 - val_loss: 0.5252 - val_accuracy: 0.9187\n",
      "Epoch 2/200\n",
      "1500/1500 [==============================] - 1s 734us/step - loss: 0.4937 - accuracy: 0.9253 - val_loss: 0.4415 - val_accuracy: 0.9402\n",
      "Epoch 3/200\n",
      "1500/1500 [==============================] - 1s 661us/step - loss: 0.4486 - accuracy: 0.9335 - val_loss: 0.4226 - val_accuracy: 0.9417\n",
      "Epoch 4/200\n",
      "1500/1500 [==============================] - 1s 664us/step - loss: 0.4204 - accuracy: 0.9387 - val_loss: 0.4172 - val_accuracy: 0.9379\n",
      "Epoch 5/200\n",
      "1500/1500 [==============================] - 1s 701us/step - loss: 0.3965 - accuracy: 0.9435 - val_loss: 0.3769 - val_accuracy: 0.9492\n",
      "Epoch 6/200\n",
      "1500/1500 [==============================] - 1s 657us/step - loss: 0.3818 - accuracy: 0.9454 - val_loss: 0.3767 - val_accuracy: 0.9500\n",
      "Epoch 7/200\n",
      "1500/1500 [==============================] - 1s 700us/step - loss: 0.3702 - accuracy: 0.9474 - val_loss: 0.3769 - val_accuracy: 0.9455\n",
      "Epoch 8/200\n",
      "1500/1500 [==============================] - 1s 698us/step - loss: 0.3569 - accuracy: 0.9511 - val_loss: 0.3415 - val_accuracy: 0.9564\n",
      "Epoch 9/200\n",
      "1500/1500 [==============================] - 1s 716us/step - loss: 0.3466 - accuracy: 0.9526 - val_loss: 0.3426 - val_accuracy: 0.9540\n",
      "Epoch 10/200\n",
      "1500/1500 [==============================] - 1s 676us/step - loss: 0.3386 - accuracy: 0.9523 - val_loss: 0.3366 - val_accuracy: 0.9552\n",
      "Epoch 11/200\n",
      "1500/1500 [==============================] - 1s 656us/step - loss: 0.3322 - accuracy: 0.9549 - val_loss: 0.3321 - val_accuracy: 0.9547\n",
      "Epoch 12/200\n",
      "1500/1500 [==============================] - 1s 679us/step - loss: 0.3256 - accuracy: 0.9560 - val_loss: 0.3332 - val_accuracy: 0.9538\n",
      "Epoch 13/200\n",
      "1500/1500 [==============================] - 1s 664us/step - loss: 0.3194 - accuracy: 0.9564 - val_loss: 0.3230 - val_accuracy: 0.9526\n",
      "Epoch 14/200\n",
      "1500/1500 [==============================] - 1s 661us/step - loss: 0.3134 - accuracy: 0.9582 - val_loss: 0.3179 - val_accuracy: 0.9549\n",
      "Epoch 15/200\n",
      "1500/1500 [==============================] - 1s 700us/step - loss: 0.3065 - accuracy: 0.9586 - val_loss: 0.3129 - val_accuracy: 0.9554\n",
      "Epoch 16/200\n",
      "1500/1500 [==============================] - 1s 667us/step - loss: 0.3052 - accuracy: 0.9580 - val_loss: 0.3015 - val_accuracy: 0.9595\n",
      "Epoch 17/200\n",
      "1500/1500 [==============================] - 1s 687us/step - loss: 0.3008 - accuracy: 0.9584 - val_loss: 0.3088 - val_accuracy: 0.9553\n",
      "Epoch 18/200\n",
      "1500/1500 [==============================] - 1s 662us/step - loss: 0.2969 - accuracy: 0.9590 - val_loss: 0.2997 - val_accuracy: 0.9567\n",
      "Epoch 19/200\n",
      "1500/1500 [==============================] - 1s 683us/step - loss: 0.2946 - accuracy: 0.9595 - val_loss: 0.2954 - val_accuracy: 0.9599\n",
      "Epoch 20/200\n",
      "1500/1500 [==============================] - 1s 684us/step - loss: 0.2912 - accuracy: 0.9596 - val_loss: 0.2975 - val_accuracy: 0.9592\n",
      "Epoch 21/200\n",
      "1500/1500 [==============================] - 1s 694us/step - loss: 0.2872 - accuracy: 0.9606 - val_loss: 0.3108 - val_accuracy: 0.9535\n",
      "Epoch 22/200\n",
      "1500/1500 [==============================] - 1s 659us/step - loss: 0.2853 - accuracy: 0.9611 - val_loss: 0.2974 - val_accuracy: 0.9573\n",
      "Epoch 23/200\n",
      "1500/1500 [==============================] - 1s 684us/step - loss: 0.2829 - accuracy: 0.9614 - val_loss: 0.2789 - val_accuracy: 0.9619\n",
      "Epoch 24/200\n",
      "1500/1500 [==============================] - 1s 665us/step - loss: 0.2822 - accuracy: 0.9607 - val_loss: 0.2756 - val_accuracy: 0.9637\n",
      "Epoch 25/200\n",
      "1500/1500 [==============================] - 1s 675us/step - loss: 0.2800 - accuracy: 0.9607 - val_loss: 0.2990 - val_accuracy: 0.9562\n",
      "Epoch 26/200\n",
      "1500/1500 [==============================] - 1s 672us/step - loss: 0.2774 - accuracy: 0.9619 - val_loss: 0.2853 - val_accuracy: 0.9578\n",
      "Epoch 27/200\n",
      "1500/1500 [==============================] - 1s 677us/step - loss: 0.2741 - accuracy: 0.9614 - val_loss: 0.2941 - val_accuracy: 0.9534\n",
      "Epoch 28/200\n",
      "1500/1500 [==============================] - 1s 679us/step - loss: 0.2723 - accuracy: 0.9622 - val_loss: 0.2801 - val_accuracy: 0.9580\n",
      "Epoch 29/200\n",
      "1500/1500 [==============================] - 1s 730us/step - loss: 0.2702 - accuracy: 0.9614 - val_loss: 0.2764 - val_accuracy: 0.9613\n",
      "Epoch 30/200\n",
      "1500/1500 [==============================] - 1s 682us/step - loss: 0.2671 - accuracy: 0.9634 - val_loss: 0.2774 - val_accuracy: 0.9603\n",
      "Epoch 31/200\n",
      "1500/1500 [==============================] - 1s 681us/step - loss: 0.2677 - accuracy: 0.9624 - val_loss: 0.2599 - val_accuracy: 0.9654\n",
      "Epoch 32/200\n",
      "1500/1500 [==============================] - 1s 682us/step - loss: 0.2657 - accuracy: 0.9628 - val_loss: 0.2761 - val_accuracy: 0.9579\n",
      "Epoch 33/200\n",
      "1500/1500 [==============================] - 1s 701us/step - loss: 0.2625 - accuracy: 0.9639 - val_loss: 0.2562 - val_accuracy: 0.9670\n",
      "Epoch 34/200\n",
      "1500/1500 [==============================] - 1s 680us/step - loss: 0.2641 - accuracy: 0.9631 - val_loss: 0.2795 - val_accuracy: 0.9573\n",
      "Epoch 35/200\n",
      "1500/1500 [==============================] - 1s 692us/step - loss: 0.2609 - accuracy: 0.9638 - val_loss: 0.2715 - val_accuracy: 0.9583\n",
      "Epoch 36/200\n",
      "1500/1500 [==============================] - 1s 776us/step - loss: 0.2603 - accuracy: 0.9635 - val_loss: 0.2618 - val_accuracy: 0.9618\n",
      "Epoch 37/200\n",
      "1500/1500 [==============================] - 1s 757us/step - loss: 0.2588 - accuracy: 0.9628 - val_loss: 0.2832 - val_accuracy: 0.9568\n",
      "Epoch 38/200\n",
      "1500/1500 [==============================] - 1s 876us/step - loss: 0.2587 - accuracy: 0.9636 - val_loss: 0.2821 - val_accuracy: 0.9547\n",
      "Epoch 39/200\n",
      "1500/1500 [==============================] - 1s 822us/step - loss: 0.2595 - accuracy: 0.9628 - val_loss: 0.2569 - val_accuracy: 0.9640\n",
      "Epoch 40/200\n",
      "1500/1500 [==============================] - 1s 813us/step - loss: 0.2554 - accuracy: 0.9641 - val_loss: 0.2725 - val_accuracy: 0.9623\n",
      "Epoch 41/200\n",
      "1500/1500 [==============================] - 1s 898us/step - loss: 0.2562 - accuracy: 0.9638 - val_loss: 0.2644 - val_accuracy: 0.9573\n",
      "Epoch 42/200\n",
      "1500/1500 [==============================] - 1s 861us/step - loss: 0.2565 - accuracy: 0.9627 - val_loss: 0.2597 - val_accuracy: 0.9621\n",
      "Epoch 43/200\n",
      "1500/1500 [==============================] - 1s 841us/step - loss: 0.2536 - accuracy: 0.9634 - val_loss: 0.2611 - val_accuracy: 0.9615\n",
      "Epoch 44/200\n",
      "1500/1500 [==============================] - 1s 847us/step - loss: 0.2536 - accuracy: 0.9633 - val_loss: 0.2499 - val_accuracy: 0.9650\n",
      "Epoch 45/200\n",
      "1500/1500 [==============================] - 1s 892us/step - loss: 0.2522 - accuracy: 0.9640 - val_loss: 0.2734 - val_accuracy: 0.9592\n",
      "Epoch 46/200\n",
      "1500/1500 [==============================] - 1s 791us/step - loss: 0.2542 - accuracy: 0.9628 - val_loss: 0.2622 - val_accuracy: 0.9601\n",
      "Epoch 47/200\n",
      "1500/1500 [==============================] - 1s 801us/step - loss: 0.2509 - accuracy: 0.9639 - val_loss: 0.2657 - val_accuracy: 0.9610\n",
      "Epoch 48/200\n",
      "1500/1500 [==============================] - 1s 801us/step - loss: 0.2518 - accuracy: 0.9632 - val_loss: 0.2994 - val_accuracy: 0.9498\n",
      "Epoch 49/200\n",
      "1500/1500 [==============================] - 1s 821us/step - loss: 0.2488 - accuracy: 0.9646 - val_loss: 0.2540 - val_accuracy: 0.9642\n",
      "Epoch 50/200\n",
      "1500/1500 [==============================] - 1s 815us/step - loss: 0.2496 - accuracy: 0.9637 - val_loss: 0.2535 - val_accuracy: 0.9625\n",
      "Epoch 51/200\n",
      "1500/1500 [==============================] - 1s 869us/step - loss: 0.2459 - accuracy: 0.9639 - val_loss: 0.2516 - val_accuracy: 0.9644\n",
      "Epoch 52/200\n",
      "1500/1500 [==============================] - 1s 852us/step - loss: 0.2478 - accuracy: 0.9646 - val_loss: 0.2494 - val_accuracy: 0.9633\n",
      "Epoch 53/200\n",
      "1500/1500 [==============================] - 1s 820us/step - loss: 0.2470 - accuracy: 0.9632 - val_loss: 0.2544 - val_accuracy: 0.9605\n",
      "Epoch 54/200\n",
      "1500/1500 [==============================] - 1s 841us/step - loss: 0.2453 - accuracy: 0.9642 - val_loss: 0.2685 - val_accuracy: 0.9580\n",
      "Epoch 55/200\n",
      "1500/1500 [==============================] - 1s 877us/step - loss: 0.2446 - accuracy: 0.9656 - val_loss: 0.2628 - val_accuracy: 0.9587\n",
      "Epoch 56/200\n",
      "1500/1500 [==============================] - 1s 762us/step - loss: 0.2459 - accuracy: 0.9643 - val_loss: 0.2727 - val_accuracy: 0.9547\n",
      "Epoch 57/200\n",
      "1500/1500 [==============================] - 1s 819us/step - loss: 0.2448 - accuracy: 0.9651 - val_loss: 0.2433 - val_accuracy: 0.9648\n",
      "Epoch 58/200\n",
      "1500/1500 [==============================] - 1s 818us/step - loss: 0.2427 - accuracy: 0.9648 - val_loss: 0.2542 - val_accuracy: 0.9613\n",
      "Epoch 59/200\n",
      "1500/1500 [==============================] - 1s 839us/step - loss: 0.2451 - accuracy: 0.9640 - val_loss: 0.2406 - val_accuracy: 0.9652\n",
      "Epoch 60/200\n",
      "1500/1500 [==============================] - 1s 813us/step - loss: 0.2446 - accuracy: 0.9644 - val_loss: 0.2519 - val_accuracy: 0.9617\n",
      "Epoch 61/200\n",
      "1500/1500 [==============================] - 1s 785us/step - loss: 0.2432 - accuracy: 0.9645 - val_loss: 0.2576 - val_accuracy: 0.9605\n",
      "Epoch 62/200\n",
      "1500/1500 [==============================] - 1s 842us/step - loss: 0.2439 - accuracy: 0.9640 - val_loss: 0.2334 - val_accuracy: 0.9677\n",
      "Epoch 63/200\n",
      "1500/1500 [==============================] - 1s 771us/step - loss: 0.2405 - accuracy: 0.9652 - val_loss: 0.2478 - val_accuracy: 0.9631\n",
      "Epoch 64/200\n",
      "1500/1500 [==============================] - 1s 774us/step - loss: 0.2434 - accuracy: 0.9635 - val_loss: 0.2661 - val_accuracy: 0.9557\n",
      "Epoch 65/200\n",
      "1500/1500 [==============================] - 1s 811us/step - loss: 0.2395 - accuracy: 0.9651 - val_loss: 0.2547 - val_accuracy: 0.9607\n",
      "Epoch 66/200\n",
      "1500/1500 [==============================] - 1s 768us/step - loss: 0.2391 - accuracy: 0.9654 - val_loss: 0.2479 - val_accuracy: 0.9624\n",
      "Epoch 67/200\n",
      "1500/1500 [==============================] - 1s 779us/step - loss: 0.2397 - accuracy: 0.9651 - val_loss: 0.2377 - val_accuracy: 0.9667\n",
      "Epoch 68/200\n",
      "1500/1500 [==============================] - 1s 784us/step - loss: 0.2392 - accuracy: 0.9651 - val_loss: 0.2644 - val_accuracy: 0.9584\n",
      "Epoch 69/200\n",
      "1500/1500 [==============================] - 1s 809us/step - loss: 0.2361 - accuracy: 0.9662 - val_loss: 0.2459 - val_accuracy: 0.9616\n",
      "Epoch 70/200\n",
      "1500/1500 [==============================] - 1s 812us/step - loss: 0.2383 - accuracy: 0.9646 - val_loss: 0.2548 - val_accuracy: 0.9592\n",
      "Epoch 71/200\n",
      "1500/1500 [==============================] - 1s 807us/step - loss: 0.2397 - accuracy: 0.9633 - val_loss: 0.2453 - val_accuracy: 0.9633\n",
      "Epoch 72/200\n",
      "1500/1500 [==============================] - 1s 831us/step - loss: 0.2368 - accuracy: 0.9650 - val_loss: 0.2446 - val_accuracy: 0.9618\n",
      "Epoch 73/200\n",
      "1500/1500 [==============================] - 1s 793us/step - loss: 0.2379 - accuracy: 0.9655 - val_loss: 0.2377 - val_accuracy: 0.9653\n",
      "Epoch 74/200\n",
      "1500/1500 [==============================] - 1s 901us/step - loss: 0.2362 - accuracy: 0.9651 - val_loss: 0.2534 - val_accuracy: 0.9597\n",
      "Epoch 75/200\n",
      "1500/1500 [==============================] - 1s 858us/step - loss: 0.2360 - accuracy: 0.9655 - val_loss: 0.2423 - val_accuracy: 0.9622\n",
      "Epoch 76/200\n",
      "1500/1500 [==============================] - 1s 808us/step - loss: 0.2377 - accuracy: 0.9639 - val_loss: 0.2343 - val_accuracy: 0.9660\n",
      "Epoch 77/200\n",
      "1500/1500 [==============================] - 1s 784us/step - loss: 0.2322 - accuracy: 0.9660 - val_loss: 0.2519 - val_accuracy: 0.9607\n",
      "Epoch 78/200\n",
      "1500/1500 [==============================] - 1s 801us/step - loss: 0.2357 - accuracy: 0.9651 - val_loss: 0.2550 - val_accuracy: 0.9574\n",
      "Epoch 79/200\n",
      "1500/1500 [==============================] - 1s 864us/step - loss: 0.2340 - accuracy: 0.9657 - val_loss: 0.2408 - val_accuracy: 0.9626\n",
      "Epoch 80/200\n",
      "1500/1500 [==============================] - 1s 898us/step - loss: 0.2339 - accuracy: 0.9656 - val_loss: 0.2490 - val_accuracy: 0.9611\n",
      "Epoch 81/200\n",
      "1500/1500 [==============================] - 1s 838us/step - loss: 0.2342 - accuracy: 0.9654 - val_loss: 0.2758 - val_accuracy: 0.9517\n",
      "Epoch 82/200\n",
      "1500/1500 [==============================] - 1s 780us/step - loss: 0.2349 - accuracy: 0.9639 - val_loss: 0.2492 - val_accuracy: 0.9617\n",
      "Epoch 83/200\n",
      "1500/1500 [==============================] - 1s 770us/step - loss: 0.2342 - accuracy: 0.9654 - val_loss: 0.2416 - val_accuracy: 0.9643\n",
      "Epoch 84/200\n",
      "1500/1500 [==============================] - 1s 768us/step - loss: 0.2324 - accuracy: 0.9668 - val_loss: 0.2706 - val_accuracy: 0.9539\n",
      "Epoch 85/200\n",
      "1500/1500 [==============================] - 1s 776us/step - loss: 0.2321 - accuracy: 0.9657 - val_loss: 0.2398 - val_accuracy: 0.9622\n",
      "Epoch 86/200\n",
      "1500/1500 [==============================] - 1s 802us/step - loss: 0.2330 - accuracy: 0.9651 - val_loss: 0.2540 - val_accuracy: 0.9592\n",
      "Epoch 87/200\n",
      "1500/1500 [==============================] - 1s 783us/step - loss: 0.2327 - accuracy: 0.9651 - val_loss: 0.2363 - val_accuracy: 0.9640\n",
      "Epoch 88/200\n",
      "1500/1500 [==============================] - 1s 745us/step - loss: 0.2335 - accuracy: 0.9649 - val_loss: 0.2511 - val_accuracy: 0.9617\n",
      "Epoch 89/200\n",
      "1500/1500 [==============================] - 1s 793us/step - loss: 0.2342 - accuracy: 0.9644 - val_loss: 0.2546 - val_accuracy: 0.9593\n",
      "Epoch 90/200\n",
      "1500/1500 [==============================] - 1s 790us/step - loss: 0.2307 - accuracy: 0.9657 - val_loss: 0.2336 - val_accuracy: 0.9628\n",
      "Epoch 91/200\n",
      "1500/1500 [==============================] - 1s 818us/step - loss: 0.2325 - accuracy: 0.9650 - val_loss: 0.2441 - val_accuracy: 0.9637\n",
      "Epoch 92/200\n",
      "1500/1500 [==============================] - 1s 778us/step - loss: 0.2308 - accuracy: 0.9656 - val_loss: 0.2385 - val_accuracy: 0.9642\n",
      "Epoch 93/200\n",
      "1500/1500 [==============================] - 1s 767us/step - loss: 0.2301 - accuracy: 0.9657 - val_loss: 0.2396 - val_accuracy: 0.9632\n",
      "Epoch 94/200\n",
      "1500/1500 [==============================] - 1s 786us/step - loss: 0.2314 - accuracy: 0.9657 - val_loss: 0.2361 - val_accuracy: 0.9643\n",
      "Epoch 95/200\n",
      "1500/1500 [==============================] - 1s 781us/step - loss: 0.2281 - accuracy: 0.9659 - val_loss: 0.2582 - val_accuracy: 0.9567\n",
      "Epoch 96/200\n",
      "1500/1500 [==============================] - 1s 774us/step - loss: 0.2297 - accuracy: 0.9657 - val_loss: 0.2339 - val_accuracy: 0.9650\n",
      "Epoch 97/200\n",
      "1500/1500 [==============================] - 1s 825us/step - loss: 0.2298 - accuracy: 0.9659 - val_loss: 0.2367 - val_accuracy: 0.9627\n",
      "Epoch 98/200\n",
      "1500/1500 [==============================] - 1s 809us/step - loss: 0.2283 - accuracy: 0.9659 - val_loss: 0.2518 - val_accuracy: 0.9589\n",
      "Epoch 99/200\n",
      "1500/1500 [==============================] - 1s 761us/step - loss: 0.2327 - accuracy: 0.9647 - val_loss: 0.2482 - val_accuracy: 0.9608\n",
      "Epoch 100/200\n",
      "1500/1500 [==============================] - 1s 808us/step - loss: 0.2294 - accuracy: 0.9657 - val_loss: 0.2375 - val_accuracy: 0.9641\n",
      "Epoch 101/200\n",
      "1500/1500 [==============================] - 1s 762us/step - loss: 0.2295 - accuracy: 0.9652 - val_loss: 0.2447 - val_accuracy: 0.9628\n",
      "Epoch 102/200\n",
      "1500/1500 [==============================] - 1s 796us/step - loss: 0.2286 - accuracy: 0.9657 - val_loss: 0.2402 - val_accuracy: 0.9625\n",
      "Epoch 103/200\n",
      "1500/1500 [==============================] - 1s 812us/step - loss: 0.2293 - accuracy: 0.9663 - val_loss: 0.2521 - val_accuracy: 0.9588\n",
      "Epoch 104/200\n",
      "1500/1500 [==============================] - 1s 780us/step - loss: 0.2261 - accuracy: 0.9667 - val_loss: 0.2278 - val_accuracy: 0.9655\n",
      "Epoch 105/200\n",
      "1500/1500 [==============================] - 1s 859us/step - loss: 0.2277 - accuracy: 0.9662 - val_loss: 0.2520 - val_accuracy: 0.9592\n",
      "Epoch 106/200\n",
      "1500/1500 [==============================] - 1s 849us/step - loss: 0.2281 - accuracy: 0.9650 - val_loss: 0.2293 - val_accuracy: 0.9665\n",
      "Epoch 107/200\n",
      "1500/1500 [==============================] - 1s 750us/step - loss: 0.2273 - accuracy: 0.9656 - val_loss: 0.2435 - val_accuracy: 0.9602\n",
      "Epoch 108/200\n",
      "1500/1500 [==============================] - 1s 808us/step - loss: 0.2264 - accuracy: 0.9657 - val_loss: 0.2449 - val_accuracy: 0.9607\n",
      "Epoch 109/200\n",
      "1500/1500 [==============================] - 1s 893us/step - loss: 0.2274 - accuracy: 0.9665 - val_loss: 0.2349 - val_accuracy: 0.9639\n",
      "Epoch 110/200\n",
      "1500/1500 [==============================] - 1s 754us/step - loss: 0.2270 - accuracy: 0.9664 - val_loss: 0.2636 - val_accuracy: 0.9563\n",
      "Epoch 111/200\n"
     ]
    },
    {
     "name": "stdout",
     "output_type": "stream",
     "text": [
      "1500/1500 [==============================] - 1s 801us/step - loss: 0.2274 - accuracy: 0.9658 - val_loss: 0.2399 - val_accuracy: 0.9620\n",
      "Epoch 112/200\n",
      "1500/1500 [==============================] - 1s 784us/step - loss: 0.2246 - accuracy: 0.9667 - val_loss: 0.2335 - val_accuracy: 0.9664\n",
      "Epoch 113/200\n",
      "1500/1500 [==============================] - 1s 854us/step - loss: 0.2243 - accuracy: 0.9665 - val_loss: 0.2467 - val_accuracy: 0.9614\n",
      "Epoch 114/200\n",
      "1500/1500 [==============================] - 1s 786us/step - loss: 0.2253 - accuracy: 0.9662 - val_loss: 0.2407 - val_accuracy: 0.9619\n",
      "Epoch 115/200\n",
      "1500/1500 [==============================] - 1s 804us/step - loss: 0.2249 - accuracy: 0.9659 - val_loss: 0.2409 - val_accuracy: 0.9626\n",
      "Epoch 116/200\n",
      "1500/1500 [==============================] - 1s 812us/step - loss: 0.2263 - accuracy: 0.9657 - val_loss: 0.2369 - val_accuracy: 0.9621\n",
      "Epoch 117/200\n",
      "1500/1500 [==============================] - 1s 887us/step - loss: 0.2260 - accuracy: 0.9664 - val_loss: 0.2475 - val_accuracy: 0.9578\n",
      "Epoch 118/200\n",
      "1500/1500 [==============================] - 1s 876us/step - loss: 0.2271 - accuracy: 0.9659 - val_loss: 0.2491 - val_accuracy: 0.9607\n",
      "Epoch 119/200\n",
      "1500/1500 [==============================] - 1s 821us/step - loss: 0.2251 - accuracy: 0.9666 - val_loss: 0.2346 - val_accuracy: 0.9638\n",
      "Epoch 120/200\n",
      "1500/1500 [==============================] - 1s 842us/step - loss: 0.2252 - accuracy: 0.9661 - val_loss: 0.2661 - val_accuracy: 0.9527\n",
      "Epoch 121/200\n",
      "1500/1500 [==============================] - 2s 1ms/step - loss: 0.2280 - accuracy: 0.9652 - val_loss: 0.2332 - val_accuracy: 0.9651\n",
      "Epoch 122/200\n",
      "1500/1500 [==============================] - 1s 770us/step - loss: 0.2253 - accuracy: 0.9662 - val_loss: 0.2406 - val_accuracy: 0.9628\n",
      "Epoch 123/200\n",
      "1500/1500 [==============================] - 1s 833us/step - loss: 0.2259 - accuracy: 0.9658 - val_loss: 0.2545 - val_accuracy: 0.9566\n",
      "Epoch 124/200\n",
      "1500/1500 [==============================] - 1s 750us/step - loss: 0.2248 - accuracy: 0.9660 - val_loss: 0.2499 - val_accuracy: 0.9592\n",
      "Epoch 125/200\n",
      "1500/1500 [==============================] - 1s 772us/step - loss: 0.2240 - accuracy: 0.9658 - val_loss: 0.2474 - val_accuracy: 0.9616\n",
      "Epoch 126/200\n",
      "1500/1500 [==============================] - 1s 808us/step - loss: 0.2225 - accuracy: 0.9665 - val_loss: 0.2529 - val_accuracy: 0.9566\n",
      "Epoch 127/200\n",
      "1500/1500 [==============================] - 1s 797us/step - loss: 0.2257 - accuracy: 0.9659 - val_loss: 0.2436 - val_accuracy: 0.9596\n",
      "Epoch 128/200\n",
      "1500/1500 [==============================] - 1s 820us/step - loss: 0.2258 - accuracy: 0.9662 - val_loss: 0.2531 - val_accuracy: 0.9578\n",
      "Epoch 129/200\n",
      "1500/1500 [==============================] - 1s 912us/step - loss: 0.2233 - accuracy: 0.9661 - val_loss: 0.2397 - val_accuracy: 0.9617\n",
      "Epoch 130/200\n",
      "1500/1500 [==============================] - 1s 756us/step - loss: 0.2252 - accuracy: 0.9663 - val_loss: 0.2276 - val_accuracy: 0.9647\n",
      "Epoch 131/200\n",
      "1500/1500 [==============================] - 1s 902us/step - loss: 0.2256 - accuracy: 0.9648 - val_loss: 0.2395 - val_accuracy: 0.9612\n",
      "Epoch 132/200\n",
      "1500/1500 [==============================] - 1s 764us/step - loss: 0.2228 - accuracy: 0.9673 - val_loss: 0.2557 - val_accuracy: 0.9568\n",
      "Epoch 133/200\n",
      "1500/1500 [==============================] - 1s 841us/step - loss: 0.2215 - accuracy: 0.9670 - val_loss: 0.2370 - val_accuracy: 0.9638\n",
      "Epoch 134/200\n",
      "1500/1500 [==============================] - 1s 795us/step - loss: 0.2227 - accuracy: 0.9666 - val_loss: 0.2323 - val_accuracy: 0.9659\n",
      "Epoch 135/200\n",
      "1500/1500 [==============================] - 1s 772us/step - loss: 0.2248 - accuracy: 0.9666 - val_loss: 0.2340 - val_accuracy: 0.9635\n",
      "Epoch 136/200\n",
      "1500/1500 [==============================] - 1s 791us/step - loss: 0.2228 - accuracy: 0.9666 - val_loss: 0.2219 - val_accuracy: 0.9686\n",
      "Epoch 137/200\n",
      "1500/1500 [==============================] - 1s 817us/step - loss: 0.2239 - accuracy: 0.9657 - val_loss: 0.2288 - val_accuracy: 0.9660\n",
      "Epoch 138/200\n",
      "1500/1500 [==============================] - 1s 809us/step - loss: 0.2203 - accuracy: 0.9679 - val_loss: 0.2402 - val_accuracy: 0.9613\n",
      "Epoch 139/200\n",
      "1500/1500 [==============================] - 1s 819us/step - loss: 0.2220 - accuracy: 0.9671 - val_loss: 0.2408 - val_accuracy: 0.9609\n",
      "Epoch 140/200\n",
      "1500/1500 [==============================] - 1s 732us/step - loss: 0.2212 - accuracy: 0.9667 - val_loss: 0.2613 - val_accuracy: 0.9560\n",
      "Epoch 141/200\n",
      "1500/1500 [==============================] - 1s 805us/step - loss: 0.2222 - accuracy: 0.9673 - val_loss: 0.2312 - val_accuracy: 0.9657\n",
      "Epoch 142/200\n",
      "1500/1500 [==============================] - 1s 856us/step - loss: 0.2242 - accuracy: 0.9659 - val_loss: 0.2275 - val_accuracy: 0.9650\n",
      "Epoch 143/200\n",
      "1500/1500 [==============================] - 1s 790us/step - loss: 0.2221 - accuracy: 0.9664 - val_loss: 0.2482 - val_accuracy: 0.9595\n",
      "Epoch 144/200\n",
      "1500/1500 [==============================] - 1s 821us/step - loss: 0.2216 - accuracy: 0.9671 - val_loss: 0.2244 - val_accuracy: 0.9667\n",
      "Epoch 145/200\n",
      "1500/1500 [==============================] - 1s 847us/step - loss: 0.2206 - accuracy: 0.9666 - val_loss: 0.2315 - val_accuracy: 0.9620\n",
      "Epoch 146/200\n",
      "1500/1500 [==============================] - 1s 773us/step - loss: 0.2220 - accuracy: 0.9664 - val_loss: 0.2350 - val_accuracy: 0.9641\n",
      "Epoch 147/200\n",
      "1500/1500 [==============================] - 1s 743us/step - loss: 0.2208 - accuracy: 0.9670 - val_loss: 0.2363 - val_accuracy: 0.9614\n",
      "Epoch 148/200\n",
      "1500/1500 [==============================] - 1s 817us/step - loss: 0.2204 - accuracy: 0.9665 - val_loss: 0.2389 - val_accuracy: 0.9612\n",
      "Epoch 149/200\n",
      "1500/1500 [==============================] - 1s 790us/step - loss: 0.2220 - accuracy: 0.9663 - val_loss: 0.2292 - val_accuracy: 0.9656\n",
      "Epoch 150/200\n",
      "1500/1500 [==============================] - 1s 792us/step - loss: 0.2202 - accuracy: 0.9675 - val_loss: 0.2196 - val_accuracy: 0.9682\n",
      "Epoch 151/200\n",
      "1500/1500 [==============================] - 1s 782us/step - loss: 0.2190 - accuracy: 0.9673 - val_loss: 0.2255 - val_accuracy: 0.9659\n",
      "Epoch 152/200\n",
      "1500/1500 [==============================] - 1s 772us/step - loss: 0.2237 - accuracy: 0.9660 - val_loss: 0.2330 - val_accuracy: 0.9647\n",
      "Epoch 153/200\n",
      "1500/1500 [==============================] - 1s 765us/step - loss: 0.2201 - accuracy: 0.9674 - val_loss: 0.2227 - val_accuracy: 0.9668\n",
      "Epoch 154/200\n",
      "1500/1500 [==============================] - 1s 799us/step - loss: 0.2193 - accuracy: 0.9671 - val_loss: 0.2364 - val_accuracy: 0.9613\n",
      "Epoch 155/200\n",
      "1500/1500 [==============================] - 1s 780us/step - loss: 0.2213 - accuracy: 0.9659 - val_loss: 0.2520 - val_accuracy: 0.9560\n",
      "Epoch 156/200\n",
      "1500/1500 [==============================] - 1s 817us/step - loss: 0.2230 - accuracy: 0.9664 - val_loss: 0.2403 - val_accuracy: 0.9617\n",
      "Epoch 157/200\n",
      "1500/1500 [==============================] - 1s 820us/step - loss: 0.2199 - accuracy: 0.9667 - val_loss: 0.2347 - val_accuracy: 0.9657\n",
      "Epoch 158/200\n",
      "1500/1500 [==============================] - 1s 783us/step - loss: 0.2199 - accuracy: 0.9663 - val_loss: 0.2260 - val_accuracy: 0.9647\n",
      "Epoch 159/200\n",
      "1500/1500 [==============================] - 1s 823us/step - loss: 0.2168 - accuracy: 0.9675 - val_loss: 0.2318 - val_accuracy: 0.9636\n",
      "Epoch 160/200\n",
      "1500/1500 [==============================] - 1s 763us/step - loss: 0.2202 - accuracy: 0.9665 - val_loss: 0.2333 - val_accuracy: 0.9643\n",
      "Epoch 161/200\n",
      "1500/1500 [==============================] - 1s 831us/step - loss: 0.2232 - accuracy: 0.9659 - val_loss: 0.2265 - val_accuracy: 0.9671\n",
      "Epoch 162/200\n",
      "1500/1500 [==============================] - 1s 813us/step - loss: 0.2173 - accuracy: 0.9682 - val_loss: 0.2268 - val_accuracy: 0.9649\n",
      "Epoch 163/200\n",
      "1500/1500 [==============================] - 1s 847us/step - loss: 0.2180 - accuracy: 0.9678 - val_loss: 0.2241 - val_accuracy: 0.9654\n",
      "Epoch 164/200\n",
      "1500/1500 [==============================] - 1s 754us/step - loss: 0.2179 - accuracy: 0.9666 - val_loss: 0.2413 - val_accuracy: 0.9582\n",
      "Epoch 165/200\n",
      "1500/1500 [==============================] - 1s 765us/step - loss: 0.2188 - accuracy: 0.9667 - val_loss: 0.2303 - val_accuracy: 0.9649\n",
      "Epoch 166/200\n"
     ]
    },
    {
     "name": "stdout",
     "output_type": "stream",
     "text": [
      "1500/1500 [==============================] - 1s 812us/step - loss: 0.2192 - accuracy: 0.9666 - val_loss: 0.2240 - val_accuracy: 0.9681\n",
      "Epoch 167/200\n",
      "1500/1500 [==============================] - 1s 824us/step - loss: 0.2180 - accuracy: 0.9669 - val_loss: 0.2283 - val_accuracy: 0.9632\n",
      "Epoch 168/200\n",
      "1500/1500 [==============================] - 1s 826us/step - loss: 0.2211 - accuracy: 0.9656 - val_loss: 0.2289 - val_accuracy: 0.9633\n",
      "Epoch 169/200\n",
      "1500/1500 [==============================] - 1s 825us/step - loss: 0.2198 - accuracy: 0.9665 - val_loss: 0.2336 - val_accuracy: 0.9622\n",
      "Epoch 170/200\n",
      "1500/1500 [==============================] - 1s 818us/step - loss: 0.2176 - accuracy: 0.9670 - val_loss: 0.2296 - val_accuracy: 0.9625\n",
      "Epoch 171/200\n",
      "1500/1500 [==============================] - 1s 896us/step - loss: 0.2194 - accuracy: 0.9664 - val_loss: 0.2291 - val_accuracy: 0.9628\n",
      "Epoch 172/200\n",
      "1500/1500 [==============================] - 1s 854us/step - loss: 0.2190 - accuracy: 0.9667 - val_loss: 0.2294 - val_accuracy: 0.9616\n",
      "Epoch 173/200\n",
      "1500/1500 [==============================] - 1s 793us/step - loss: 0.2189 - accuracy: 0.9663 - val_loss: 0.2331 - val_accuracy: 0.9619\n",
      "Epoch 174/200\n",
      "1500/1500 [==============================] - 1s 847us/step - loss: 0.2176 - accuracy: 0.9672 - val_loss: 0.2376 - val_accuracy: 0.9619\n",
      "Epoch 175/200\n",
      "1500/1500 [==============================] - 1s 794us/step - loss: 0.2174 - accuracy: 0.9668 - val_loss: 0.2388 - val_accuracy: 0.9614\n",
      "Epoch 176/200\n",
      "1500/1500 [==============================] - 1s 804us/step - loss: 0.2188 - accuracy: 0.9666 - val_loss: 0.2257 - val_accuracy: 0.9643\n",
      "Epoch 177/200\n",
      "1500/1500 [==============================] - 1s 866us/step - loss: 0.2180 - accuracy: 0.9664 - val_loss: 0.2478 - val_accuracy: 0.9588\n",
      "Epoch 178/200\n",
      "1500/1500 [==============================] - 1s 805us/step - loss: 0.2158 - accuracy: 0.9683 - val_loss: 0.2231 - val_accuracy: 0.9657\n",
      "Epoch 179/200\n",
      "1500/1500 [==============================] - 1s 828us/step - loss: 0.2175 - accuracy: 0.9668 - val_loss: 0.2365 - val_accuracy: 0.9638\n",
      "Epoch 180/200\n",
      "1500/1500 [==============================] - 1s 771us/step - loss: 0.2167 - accuracy: 0.9677 - val_loss: 0.2421 - val_accuracy: 0.9597\n",
      "Epoch 181/200\n",
      "1500/1500 [==============================] - 1s 769us/step - loss: 0.2171 - accuracy: 0.9664 - val_loss: 0.2297 - val_accuracy: 0.9628\n",
      "Epoch 182/200\n",
      "1500/1500 [==============================] - 1s 807us/step - loss: 0.2169 - accuracy: 0.9675 - val_loss: 0.2284 - val_accuracy: 0.9649\n",
      "Epoch 183/200\n",
      "1500/1500 [==============================] - 2s 1ms/step - loss: 0.2138 - accuracy: 0.9681 - val_loss: 0.2405 - val_accuracy: 0.9633\n",
      "Epoch 184/200\n",
      "1500/1500 [==============================] - 1s 688us/step - loss: 0.2182 - accuracy: 0.9671 - val_loss: 0.2216 - val_accuracy: 0.9676\n",
      "Epoch 185/200\n",
      "1500/1500 [==============================] - 1s 786us/step - loss: 0.2160 - accuracy: 0.9688 - val_loss: 0.2254 - val_accuracy: 0.9626\n",
      "Epoch 186/200\n",
      "1500/1500 [==============================] - 1s 798us/step - loss: 0.2184 - accuracy: 0.9666 - val_loss: 0.2365 - val_accuracy: 0.9624\n",
      "Epoch 187/200\n",
      "1500/1500 [==============================] - 1s 774us/step - loss: 0.2178 - accuracy: 0.9666 - val_loss: 0.2390 - val_accuracy: 0.9597\n",
      "Epoch 188/200\n",
      "1500/1500 [==============================] - 1s 779us/step - loss: 0.2144 - accuracy: 0.9669 - val_loss: 0.2250 - val_accuracy: 0.9665\n",
      "Epoch 189/200\n",
      "1500/1500 [==============================] - 1s 778us/step - loss: 0.2168 - accuracy: 0.9669 - val_loss: 0.2496 - val_accuracy: 0.9581\n",
      "Epoch 190/200\n",
      "1500/1500 [==============================] - 1s 860us/step - loss: 0.2147 - accuracy: 0.9680 - val_loss: 0.2197 - val_accuracy: 0.9669\n",
      "Epoch 191/200\n",
      "1500/1500 [==============================] - 1s 777us/step - loss: 0.2171 - accuracy: 0.9671 - val_loss: 0.2514 - val_accuracy: 0.9572\n",
      "Epoch 192/200\n",
      "1500/1500 [==============================] - 1s 855us/step - loss: 0.2166 - accuracy: 0.9672 - val_loss: 0.2406 - val_accuracy: 0.9613\n",
      "Epoch 193/200\n",
      "1500/1500 [==============================] - 1s 872us/step - loss: 0.2161 - accuracy: 0.9680 - val_loss: 0.2273 - val_accuracy: 0.9629\n",
      "Epoch 194/200\n",
      "1500/1500 [==============================] - 1s 826us/step - loss: 0.2181 - accuracy: 0.9673 - val_loss: 0.2272 - val_accuracy: 0.9631\n",
      "Epoch 195/200\n",
      "1500/1500 [==============================] - 1s 790us/step - loss: 0.2139 - accuracy: 0.9684 - val_loss: 0.2422 - val_accuracy: 0.9587\n",
      "Epoch 196/200\n",
      "1500/1500 [==============================] - 1s 801us/step - loss: 0.2183 - accuracy: 0.9665 - val_loss: 0.2291 - val_accuracy: 0.9642\n",
      "Epoch 197/200\n",
      "1500/1500 [==============================] - 1s 821us/step - loss: 0.2168 - accuracy: 0.9665 - val_loss: 0.2639 - val_accuracy: 0.9540\n",
      "Epoch 198/200\n",
      "1500/1500 [==============================] - 1s 831us/step - loss: 0.2165 - accuracy: 0.9667 - val_loss: 0.2567 - val_accuracy: 0.9532\n",
      "Epoch 199/200\n",
      "1500/1500 [==============================] - 1s 808us/step - loss: 0.2147 - accuracy: 0.9681 - val_loss: 0.2688 - val_accuracy: 0.9491\n",
      "Epoch 200/200\n",
      "1500/1500 [==============================] - 1s 783us/step - loss: 0.2164 - accuracy: 0.9671 - val_loss: 0.2323 - val_accuracy: 0.9644\n"
     ]
    }
   ],
   "source": [
    "# will take a while\n",
    "history_deepermnist = deepermodel_images.fit(x_train, y_tr_one_hot, epochs=200, batch_size= 32, validation_split = 0.2)"
   ]
  },
  {
   "cell_type": "code",
   "execution_count": 85,
   "metadata": {
    "cell_style": "split",
    "slideshow": {
     "slide_type": "slide"
    }
   },
   "outputs": [
    {
     "name": "stdout",
     "output_type": "stream",
     "text": [
      "313/313 [==============================] - 1s 2ms/step - loss: 0.2299 - accuracy: 0.9630\n"
     ]
    },
    {
     "data": {
      "text/plain": [
       "[0.2298610657453537, 0.9629999995231628]"
      ]
     },
     "execution_count": 85,
     "metadata": {},
     "output_type": "execute_result"
    }
   ],
   "source": [
    "#evaluate test accuracy\n",
    "deepermodel_images.evaluate(x_test, y_tt_one_hot)"
   ]
  },
  {
   "cell_type": "code",
   "execution_count": 86,
   "metadata": {
    "cell_style": "split",
    "slideshow": {
     "slide_type": "fragment"
    }
   },
   "outputs": [
    {
     "data": {
      "image/png": "[encoded data removed]",
      "text/plain": [
       "<Figure size 432x288 with 1 Axes>"
      ]
     },
     "metadata": {
      "needs_background": "light"
     },
     "output_type": "display_data"
    }
   ],
   "source": [
    "train_deepmnist_history = pd.DataFrame(history_deepermnist.history)\n",
    "train_deepmnist_history.index.name = 'epochs'\n",
    "\n",
    "col_list = ['loss', 'val_loss']\n",
    "train_deepmnist_history[col_list].plot()\n",
    "plt.ylabel('Categorical cross entropy')\n",
    "plt.title('Training loss history')\n",
    "plt.show()"
   ]
  },
  {
   "cell_type": "code",
   "execution_count": 88,
   "metadata": {
    "cell_style": "split",
    "slideshow": {
     "slide_type": "subslide"
    }
   },
   "outputs": [
    {
     "data": {
      "image/png": "[encoded data removed]",
      "text/plain": [
       "<Figure size 432x288 with 1 Axes>"
      ]
     },
     "metadata": {
      "needs_background": "light"
     },
     "output_type": "display_data"
    }
   ],
   "source": [
    "col_list = ['accuracy', 'val_accuracy']\n",
    "train_deepmnist_history[col_list].plot()\n",
    "plt.ylabel('Accuracy')\n",
    "plt.title('Training loss history')\n",
    "plt.show()"
   ]
  },
  {
   "cell_type": "markdown",
   "metadata": {
    "cell_style": "split",
    "slideshow": {
     "slide_type": "fragment"
    }
   },
   "source": [
    "Not overfitting even while adding much more complexity:\n",
    "- in this case, not gaining much either"
   ]
  },
  {
   "cell_type": "markdown",
   "metadata": {
    "cell_style": "split",
    "slideshow": {
     "slide_type": "fragment"
    }
   },
   "source": [
    "To do better:\n",
    "- try a different regularization technique\n",
    "- may need to think harder about network architecture"
   ]
  },
  {
   "cell_type": "markdown",
   "metadata": {
    "slideshow": {
     "slide_type": "slide"
    }
   },
   "source": [
    "#### Dropout Regularization\n",
    "- Architecture based strategy.\n",
    "\n",
    "On each forward/backprop iteration:\n",
    "- given layer with dropout\n",
    "- shut off activations to randomly selected nodes in layer"
   ]
  },
  {
   "cell_type": "markdown",
   "metadata": {
    "cell_style": "split",
    "slideshow": {
     "slide_type": "slide"
    }
   },
   "source": [
    "<img src = \"Images/dropout_network.gif\" >"
   ]
  },
  {
   "cell_type": "markdown",
   "metadata": {
    "cell_style": "split",
    "slideshow": {
     "slide_type": "fragment"
    }
   },
   "source": [
    "- Set $p^{[l]}$  uniform probability of node dropout for given layer\n",
    "- each train cycle: kills different activations"
   ]
  },
  {
   "cell_type": "markdown",
   "metadata": {
    "cell_style": "split",
    "slideshow": {
     "slide_type": "fragment"
    }
   },
   "source": [
    "Dead nodes dont contribute to weight updates in backprop."
   ]
  },
  {
   "cell_type": "markdown",
   "metadata": {
    "cell_style": "split",
    "slideshow": {
     "slide_type": "fragment"
    }
   },
   "source": [
    "after many train cycles: have learned weights:\n",
    "- contributions from many different networks learning different things"
   ]
  },
  {
   "cell_type": "markdown",
   "metadata": {
    "cell_style": "split",
    "slideshow": {
     "slide_type": "slide"
    }
   },
   "source": [
    "<img src = \"Images/Deeper_network.jpg\">"
   ]
  },
  {
   "cell_type": "markdown",
   "metadata": {
    "cell_style": "split",
    "slideshow": {
     "slide_type": "fragment"
    }
   },
   "source": [
    "Validation/test phase:\n",
    "- use all nodes and learned weights.\n",
    "- make prediction."
   ]
  },
  {
   "cell_type": "markdown",
   "metadata": {
    "cell_style": "center",
    "slideshow": {
     "slide_type": "subslide"
    }
   },
   "source": [
    "**Why it works as regularization**\n",
    "- network learns not to trust in any one subset of weights: unlikely any particular weight subset gets too big.\n",
    "- distributes weights in way that is robust to network noise (random dropout): generalizes well. "
   ]
  },
  {
   "cell_type": "markdown",
   "metadata": {
    "slideshow": {
     "slide_type": "slide"
    }
   },
   "source": [
    "#### Dropout in Keras\n",
    "\n",
    "- Simply add it as though it were a layer. It will apply to the immediately preceding layer."
   ]
  },
  {
   "cell_type": "code",
   "execution_count": 90,
   "metadata": {
    "slideshow": {
     "slide_type": "fragment"
    }
   },
   "outputs": [],
   "source": [
    "from tensorflow.keras.layers import Dropout"
   ]
  },
  {
   "cell_type": "markdown",
   "metadata": {
    "cell_style": "center",
    "slideshow": {
     "slide_type": "slide"
    }
   },
   "source": [
    "Dropout() takes in the dropout probability as a constructor argument:\n",
    "- Dropout($p$) after some of the hidden layers.\n",
    "- $p \\in [0.1, 0.5]$ as good range to try."
   ]
  },
  {
   "cell_type": "code",
   "execution_count": 31,
   "metadata": {
    "slideshow": {
     "slide_type": "subslide"
    }
   },
   "outputs": [],
   "source": [
    "from tensorflow.keras.optimizers import Adam\n",
    "opt = Adam(learning_rate=0.003, beta_1=0.9, beta_2=0.999, epsilon=1e-07)"
   ]
  },
  {
   "cell_type": "markdown",
   "metadata": {
    "slideshow": {
     "slide_type": "slide"
    }
   },
   "source": [
    "**Define model**"
   ]
  },
  {
   "cell_type": "code",
   "execution_count": 32,
   "metadata": {
    "cell_style": "split",
    "slideshow": {
     "slide_type": "fragment"
    }
   },
   "outputs": [],
   "source": [
    "model = Sequential()\n",
    "model.add(Flatten(input_shape=(28, 28)))\n",
    "model.add(Dense(20, activation='relu'))\n",
    "model.add(Dropout(0.2)) # dropout on previous activations\n",
    "model.add(Dense(12, activation='relu'))\n",
    "model.add(Dense(12, activation='relu'))\n",
    "model.add(Dropout(0.1)) # dropout\n",
    "model.add(Dense(12, activation='relu'))\n",
    "model.add(Dense(8, activation='relu'))\n",
    "model.add(Dense(10, activation ='softmax'))\n",
    "\n",
    "# compile model\n",
    "model.compile(optimizer=opt, loss='categorical_crossentropy',\n",
    "              metrics=['accuracy'])"
   ]
  },
  {
   "cell_type": "markdown",
   "metadata": {
    "cell_style": "split",
    "slideshow": {
     "slide_type": "fragment"
    }
   },
   "source": [
    "Some tips:\n",
    "- Dropout earlier in network or inputs. Don't put on final layers.\n",
    "- Try different learning rates in optimizer"
   ]
  },
  {
   "cell_type": "code",
   "execution_count": 33,
   "metadata": {
    "scrolled": true,
    "slideshow": {
     "slide_type": "subslide"
    }
   },
   "outputs": [
    {
     "name": "stdout",
     "output_type": "stream",
     "text": [
      "Epoch 1/200\n",
      "1500/1500 [==============================] - 4s 2ms/step - loss: 0.9242 - accuracy: 0.6845 - val_loss: 0.4328 - val_accuracy: 0.8927\n",
      "Epoch 2/200\n",
      "1500/1500 [==============================] - 3s 2ms/step - loss: 0.6080 - accuracy: 0.8116 - val_loss: 0.3591 - val_accuracy: 0.9048\n",
      "Epoch 3/200\n",
      "1500/1500 [==============================] - 3s 2ms/step - loss: 0.5555 - accuracy: 0.8291 - val_loss: 0.3482 - val_accuracy: 0.9096\n",
      "Epoch 4/200\n",
      "1500/1500 [==============================] - 3s 2ms/step - loss: 0.5407 - accuracy: 0.8331 - val_loss: 0.3173 - val_accuracy: 0.9167\n",
      "Epoch 5/200\n",
      "1500/1500 [==============================] - 3s 2ms/step - loss: 0.5152 - accuracy: 0.8414 - val_loss: 0.3201 - val_accuracy: 0.9174\n",
      "Epoch 6/200\n",
      "1500/1500 [==============================] - 3s 2ms/step - loss: 0.5069 - accuracy: 0.8468 - val_loss: 0.3120 - val_accuracy: 0.9173\n",
      "Epoch 7/200\n",
      "1500/1500 [==============================] - 3s 2ms/step - loss: 0.4969 - accuracy: 0.8451 - val_loss: 0.3158 - val_accuracy: 0.9123\n",
      "Epoch 8/200\n",
      "1500/1500 [==============================] - 3s 2ms/step - loss: 0.4883 - accuracy: 0.8520 - val_loss: 0.3303 - val_accuracy: 0.9070\n",
      "Epoch 9/200\n",
      "1500/1500 [==============================] - 3s 2ms/step - loss: 0.4901 - accuracy: 0.8510 - val_loss: 0.3007 - val_accuracy: 0.9197\n",
      "Epoch 10/200\n",
      "1500/1500 [==============================] - 3s 2ms/step - loss: 0.4766 - accuracy: 0.8545 - val_loss: 0.2952 - val_accuracy: 0.9215\n",
      "Epoch 11/200\n",
      "1500/1500 [==============================] - 3s 2ms/step - loss: 0.4748 - accuracy: 0.8576 - val_loss: 0.2936 - val_accuracy: 0.9236\n",
      "Epoch 12/200\n",
      "1500/1500 [==============================] - 3s 2ms/step - loss: 0.4708 - accuracy: 0.8556 - val_loss: 0.2912 - val_accuracy: 0.9227\n",
      "Epoch 13/200\n",
      "1500/1500 [==============================] - 3s 2ms/step - loss: 0.4667 - accuracy: 0.8596 - val_loss: 0.3265 - val_accuracy: 0.9126\n",
      "Epoch 14/200\n",
      "1500/1500 [==============================] - 3s 2ms/step - loss: 0.4677 - accuracy: 0.8567 - val_loss: 0.2989 - val_accuracy: 0.9217\n",
      "Epoch 15/200\n",
      "1500/1500 [==============================] - 3s 2ms/step - loss: 0.4590 - accuracy: 0.8585 - val_loss: 0.2805 - val_accuracy: 0.9253\n",
      "Epoch 16/200\n",
      "1500/1500 [==============================] - 3s 2ms/step - loss: 0.4640 - accuracy: 0.8571 - val_loss: 0.2900 - val_accuracy: 0.9219\n",
      "Epoch 17/200\n",
      "1500/1500 [==============================] - 3s 2ms/step - loss: 0.4505 - accuracy: 0.8617 - val_loss: 0.3132 - val_accuracy: 0.9124\n",
      "Epoch 18/200\n",
      "1500/1500 [==============================] - 3s 2ms/step - loss: 0.4565 - accuracy: 0.8626 - val_loss: 0.2831 - val_accuracy: 0.9281\n",
      "Epoch 19/200\n",
      "1500/1500 [==============================] - 3s 2ms/step - loss: 0.4539 - accuracy: 0.8614 - val_loss: 0.2802 - val_accuracy: 0.9247\n",
      "Epoch 20/200\n",
      "1500/1500 [==============================] - 3s 2ms/step - loss: 0.4496 - accuracy: 0.8644 - val_loss: 0.2911 - val_accuracy: 0.9219\n",
      "Epoch 21/200\n",
      "1500/1500 [==============================] - 3s 2ms/step - loss: 0.4544 - accuracy: 0.8620 - val_loss: 0.2815 - val_accuracy: 0.9247\n",
      "Epoch 22/200\n",
      "1500/1500 [==============================] - 3s 2ms/step - loss: 0.4456 - accuracy: 0.8635 - val_loss: 0.2962 - val_accuracy: 0.9154\n",
      "Epoch 23/200\n",
      "1500/1500 [==============================] - 3s 2ms/step - loss: 0.4443 - accuracy: 0.8652 - val_loss: 0.2985 - val_accuracy: 0.9137\n",
      "Epoch 24/200\n",
      "1500/1500 [==============================] - 3s 2ms/step - loss: 0.4393 - accuracy: 0.8655 - val_loss: 0.2916 - val_accuracy: 0.9158\n",
      "Epoch 25/200\n",
      "1500/1500 [==============================] - 3s 2ms/step - loss: 0.4418 - accuracy: 0.8660 - val_loss: 0.2923 - val_accuracy: 0.9201\n",
      "Epoch 26/200\n",
      "1500/1500 [==============================] - 3s 2ms/step - loss: 0.4358 - accuracy: 0.8667 - val_loss: 0.2756 - val_accuracy: 0.9240\n",
      "Epoch 27/200\n",
      "1500/1500 [==============================] - 3s 2ms/step - loss: 0.4331 - accuracy: 0.8676 - val_loss: 0.2801 - val_accuracy: 0.9231\n",
      "Epoch 28/200\n",
      "1500/1500 [==============================] - 3s 2ms/step - loss: 0.4351 - accuracy: 0.8681 - val_loss: 0.2815 - val_accuracy: 0.9285\n",
      "Epoch 29/200\n",
      "1500/1500 [==============================] - 3s 2ms/step - loss: 0.4365 - accuracy: 0.8692 - val_loss: 0.2956 - val_accuracy: 0.9178\n",
      "Epoch 30/200\n",
      "1500/1500 [==============================] - 3s 2ms/step - loss: 0.4259 - accuracy: 0.8726 - val_loss: 0.2823 - val_accuracy: 0.9216\n",
      "Epoch 31/200\n",
      "1500/1500 [==============================] - 3s 2ms/step - loss: 0.4307 - accuracy: 0.8714 - val_loss: 0.2822 - val_accuracy: 0.9247\n",
      "Epoch 32/200\n",
      "1500/1500 [==============================] - 3s 2ms/step - loss: 0.4325 - accuracy: 0.8730 - val_loss: 0.2900 - val_accuracy: 0.9165\n",
      "Epoch 33/200\n",
      "1500/1500 [==============================] - 3s 2ms/step - loss: 0.4326 - accuracy: 0.8722 - val_loss: 0.2898 - val_accuracy: 0.9233\n",
      "Epoch 34/200\n",
      "1500/1500 [==============================] - 3s 2ms/step - loss: 0.4328 - accuracy: 0.8724 - val_loss: 0.2921 - val_accuracy: 0.9223\n",
      "Epoch 35/200\n",
      "1500/1500 [==============================] - 3s 2ms/step - loss: 0.4324 - accuracy: 0.8731 - val_loss: 0.2851 - val_accuracy: 0.9205\n",
      "Epoch 36/200\n",
      "1500/1500 [==============================] - 3s 2ms/step - loss: 0.4246 - accuracy: 0.8746 - val_loss: 0.2881 - val_accuracy: 0.9220\n",
      "Epoch 37/200\n",
      "1500/1500 [==============================] - 2s 2ms/step - loss: 0.4209 - accuracy: 0.8765 - val_loss: 0.2904 - val_accuracy: 0.9227\n",
      "Epoch 38/200\n",
      "1500/1500 [==============================] - 3s 2ms/step - loss: 0.4175 - accuracy: 0.8780 - val_loss: 0.2884 - val_accuracy: 0.9212\n",
      "Epoch 39/200\n",
      "1500/1500 [==============================] - 3s 2ms/step - loss: 0.4221 - accuracy: 0.8762 - val_loss: 0.2917 - val_accuracy: 0.9181\n",
      "Epoch 40/200\n",
      "1500/1500 [==============================] - 3s 2ms/step - loss: 0.4191 - accuracy: 0.8773 - val_loss: 0.2909 - val_accuracy: 0.9197\n",
      "Epoch 41/200\n",
      "1500/1500 [==============================] - 3s 2ms/step - loss: 0.4205 - accuracy: 0.8767 - val_loss: 0.2889 - val_accuracy: 0.9186\n",
      "Epoch 42/200\n",
      "1500/1500 [==============================] - 3s 2ms/step - loss: 0.4179 - accuracy: 0.8795 - val_loss: 0.2833 - val_accuracy: 0.9213\n",
      "Epoch 43/200\n",
      "1500/1500 [==============================] - 3s 2ms/step - loss: 0.4186 - accuracy: 0.8774 - val_loss: 0.2874 - val_accuracy: 0.9230\n",
      "Epoch 44/200\n",
      "1500/1500 [==============================] - 3s 2ms/step - loss: 0.4232 - accuracy: 0.8750 - val_loss: 0.2842 - val_accuracy: 0.9239\n",
      "Epoch 45/200\n",
      "1500/1500 [==============================] - 3s 2ms/step - loss: 0.4237 - accuracy: 0.8766 - val_loss: 0.2837 - val_accuracy: 0.9212\n",
      "Epoch 46/200\n",
      "1500/1500 [==============================] - 3s 2ms/step - loss: 0.4233 - accuracy: 0.8760 - val_loss: 0.2825 - val_accuracy: 0.9200\n",
      "Epoch 47/200\n",
      "1500/1500 [==============================] - 3s 2ms/step - loss: 0.4123 - accuracy: 0.8778 - val_loss: 0.3030 - val_accuracy: 0.9135\n",
      "Epoch 48/200\n",
      "1500/1500 [==============================] - 3s 2ms/step - loss: 0.4171 - accuracy: 0.8778 - val_loss: 0.3009 - val_accuracy: 0.9149\n",
      "Epoch 49/200\n",
      "1500/1500 [==============================] - 3s 2ms/step - loss: 0.4169 - accuracy: 0.8778 - val_loss: 0.2888 - val_accuracy: 0.9233\n",
      "Epoch 50/200\n",
      "1500/1500 [==============================] - 3s 2ms/step - loss: 0.4151 - accuracy: 0.8787 - val_loss: 0.2739 - val_accuracy: 0.9254\n",
      "Epoch 51/200\n",
      "1500/1500 [==============================] - 3s 2ms/step - loss: 0.4174 - accuracy: 0.8774 - val_loss: 0.2913 - val_accuracy: 0.9237\n",
      "Epoch 52/200\n",
      "1500/1500 [==============================] - 3s 2ms/step - loss: 0.4159 - accuracy: 0.8771 - val_loss: 0.2803 - val_accuracy: 0.9273\n",
      "Epoch 53/200\n",
      "1500/1500 [==============================] - 3s 2ms/step - loss: 0.4103 - accuracy: 0.8796 - val_loss: 0.2830 - val_accuracy: 0.9273\n",
      "Epoch 54/200\n",
      "1500/1500 [==============================] - 3s 2ms/step - loss: 0.4117 - accuracy: 0.8791 - val_loss: 0.2942 - val_accuracy: 0.9203\n",
      "Epoch 55/200\n",
      "1500/1500 [==============================] - 3s 2ms/step - loss: 0.4105 - accuracy: 0.8794 - val_loss: 0.2838 - val_accuracy: 0.9197\n",
      "Epoch 56/200\n",
      "1500/1500 [==============================] - 3s 2ms/step - loss: 0.4081 - accuracy: 0.8813 - val_loss: 0.2895 - val_accuracy: 0.9218\n",
      "Epoch 57/200\n"
     ]
    },
    {
     "name": "stdout",
     "output_type": "stream",
     "text": [
      "1500/1500 [==============================] - 3s 2ms/step - loss: 0.4124 - accuracy: 0.8798 - val_loss: 0.2734 - val_accuracy: 0.9260\n",
      "Epoch 58/200\n",
      "1500/1500 [==============================] - 3s 2ms/step - loss: 0.4164 - accuracy: 0.8780 - val_loss: 0.2746 - val_accuracy: 0.9255\n",
      "Epoch 59/200\n",
      "1500/1500 [==============================] - 3s 2ms/step - loss: 0.4041 - accuracy: 0.8826 - val_loss: 0.2868 - val_accuracy: 0.9221\n",
      "Epoch 60/200\n",
      "1500/1500 [==============================] - 3s 2ms/step - loss: 0.4078 - accuracy: 0.8806 - val_loss: 0.2890 - val_accuracy: 0.9212\n",
      "Epoch 61/200\n",
      "1500/1500 [==============================] - 3s 2ms/step - loss: 0.4060 - accuracy: 0.8823 - val_loss: 0.2864 - val_accuracy: 0.9253\n",
      "Epoch 62/200\n",
      "1500/1500 [==============================] - 3s 2ms/step - loss: 0.4077 - accuracy: 0.8799 - val_loss: 0.2868 - val_accuracy: 0.9236\n",
      "Epoch 63/200\n",
      "1500/1500 [==============================] - 3s 2ms/step - loss: 0.3990 - accuracy: 0.8845 - val_loss: 0.2842 - val_accuracy: 0.9221\n",
      "Epoch 64/200\n",
      "1500/1500 [==============================] - 3s 2ms/step - loss: 0.4144 - accuracy: 0.8789 - val_loss: 0.2790 - val_accuracy: 0.9268\n",
      "Epoch 65/200\n",
      "1500/1500 [==============================] - 3s 2ms/step - loss: 0.4117 - accuracy: 0.8800 - val_loss: 0.2837 - val_accuracy: 0.9198\n",
      "Epoch 66/200\n",
      "1500/1500 [==============================] - 3s 2ms/step - loss: 0.3984 - accuracy: 0.8840 - val_loss: 0.2901 - val_accuracy: 0.9222\n",
      "Epoch 67/200\n",
      "1500/1500 [==============================] - 3s 2ms/step - loss: 0.4036 - accuracy: 0.8808 - val_loss: 0.2745 - val_accuracy: 0.9255\n",
      "Epoch 68/200\n",
      "1500/1500 [==============================] - 3s 2ms/step - loss: 0.4082 - accuracy: 0.8812 - val_loss: 0.2770 - val_accuracy: 0.9255\n",
      "Epoch 69/200\n",
      "1500/1500 [==============================] - 3s 2ms/step - loss: 0.4082 - accuracy: 0.8811 - val_loss: 0.2941 - val_accuracy: 0.9150\n",
      "Epoch 70/200\n",
      "1500/1500 [==============================] - 3s 2ms/step - loss: 0.4068 - accuracy: 0.8825 - val_loss: 0.2952 - val_accuracy: 0.9215\n",
      "Epoch 71/200\n",
      "1500/1500 [==============================] - 3s 2ms/step - loss: 0.4026 - accuracy: 0.8824 - val_loss: 0.2922 - val_accuracy: 0.9199\n",
      "Epoch 72/200\n",
      "1500/1500 [==============================] - 3s 2ms/step - loss: 0.3975 - accuracy: 0.8846 - val_loss: 0.2880 - val_accuracy: 0.9218\n",
      "Epoch 73/200\n",
      "1500/1500 [==============================] - 3s 2ms/step - loss: 0.4084 - accuracy: 0.8807 - val_loss: 0.3038 - val_accuracy: 0.9158\n",
      "Epoch 74/200\n",
      "1500/1500 [==============================] - 3s 2ms/step - loss: 0.4057 - accuracy: 0.8814 - val_loss: 0.3025 - val_accuracy: 0.9172\n",
      "Epoch 75/200\n",
      "1500/1500 [==============================] - 3s 2ms/step - loss: 0.4025 - accuracy: 0.8824 - val_loss: 0.2898 - val_accuracy: 0.9247\n",
      "Epoch 76/200\n",
      "1500/1500 [==============================] - 3s 2ms/step - loss: 0.4081 - accuracy: 0.8807 - val_loss: 0.2915 - val_accuracy: 0.9213\n",
      "Epoch 77/200\n",
      "1500/1500 [==============================] - 3s 2ms/step - loss: 0.3997 - accuracy: 0.8845 - val_loss: 0.2880 - val_accuracy: 0.9218\n",
      "Epoch 78/200\n",
      "1500/1500 [==============================] - 3s 2ms/step - loss: 0.4058 - accuracy: 0.8806 - val_loss: 0.2834 - val_accuracy: 0.9237\n",
      "Epoch 79/200\n",
      "1500/1500 [==============================] - 3s 2ms/step - loss: 0.3978 - accuracy: 0.8842 - val_loss: 0.3045 - val_accuracy: 0.9208\n",
      "Epoch 80/200\n",
      "1500/1500 [==============================] - 3s 2ms/step - loss: 0.3976 - accuracy: 0.8849 - val_loss: 0.2844 - val_accuracy: 0.9258\n",
      "Epoch 81/200\n",
      "1500/1500 [==============================] - 3s 2ms/step - loss: 0.4012 - accuracy: 0.8830 - val_loss: 0.2952 - val_accuracy: 0.9229\n",
      "Epoch 82/200\n",
      "1500/1500 [==============================] - 3s 2ms/step - loss: 0.3974 - accuracy: 0.8841 - val_loss: 0.2973 - val_accuracy: 0.9193\n",
      "Epoch 83/200\n",
      "1500/1500 [==============================] - 3s 2ms/step - loss: 0.4017 - accuracy: 0.8820 - val_loss: 0.2983 - val_accuracy: 0.9191\n",
      "Epoch 84/200\n",
      "1500/1500 [==============================] - 3s 2ms/step - loss: 0.4000 - accuracy: 0.8843 - val_loss: 0.2883 - val_accuracy: 0.9231\n",
      "Epoch 85/200\n",
      "1500/1500 [==============================] - 3s 2ms/step - loss: 0.4010 - accuracy: 0.8847 - val_loss: 0.2854 - val_accuracy: 0.9251\n",
      "Epoch 86/200\n",
      "1500/1500 [==============================] - 3s 2ms/step - loss: 0.3954 - accuracy: 0.8867 - val_loss: 0.2755 - val_accuracy: 0.9251\n",
      "Epoch 87/200\n",
      "1500/1500 [==============================] - 3s 2ms/step - loss: 0.3973 - accuracy: 0.8833 - val_loss: 0.2921 - val_accuracy: 0.9187\n",
      "Epoch 88/200\n",
      "1500/1500 [==============================] - 3s 2ms/step - loss: 0.3972 - accuracy: 0.8853 - val_loss: 0.2893 - val_accuracy: 0.9232\n",
      "Epoch 89/200\n",
      "1500/1500 [==============================] - 3s 2ms/step - loss: 0.4000 - accuracy: 0.8833 - val_loss: 0.2934 - val_accuracy: 0.9204\n",
      "Epoch 90/200\n",
      "1500/1500 [==============================] - 3s 2ms/step - loss: 0.4043 - accuracy: 0.8828 - val_loss: 0.2819 - val_accuracy: 0.9208\n",
      "Epoch 91/200\n",
      "1500/1500 [==============================] - 3s 2ms/step - loss: 0.4011 - accuracy: 0.8822 - val_loss: 0.2800 - val_accuracy: 0.9255\n",
      "Epoch 92/200\n",
      "1500/1500 [==============================] - 3s 2ms/step - loss: 0.4030 - accuracy: 0.8829 - val_loss: 0.2761 - val_accuracy: 0.9248\n",
      "Epoch 93/200\n",
      "1500/1500 [==============================] - 3s 2ms/step - loss: 0.3999 - accuracy: 0.8840 - val_loss: 0.2893 - val_accuracy: 0.9236\n",
      "Epoch 94/200\n",
      "1500/1500 [==============================] - 3s 2ms/step - loss: 0.3906 - accuracy: 0.8872 - val_loss: 0.2763 - val_accuracy: 0.9270\n",
      "Epoch 95/200\n",
      "1500/1500 [==============================] - 3s 2ms/step - loss: 0.3995 - accuracy: 0.8843 - val_loss: 0.2818 - val_accuracy: 0.9259\n",
      "Epoch 96/200\n",
      "1500/1500 [==============================] - 3s 2ms/step - loss: 0.3985 - accuracy: 0.8855 - val_loss: 0.2886 - val_accuracy: 0.9227\n",
      "Epoch 97/200\n",
      "1500/1500 [==============================] - 3s 2ms/step - loss: 0.3950 - accuracy: 0.8863 - val_loss: 0.2884 - val_accuracy: 0.9205\n",
      "Epoch 98/200\n",
      "1500/1500 [==============================] - 3s 2ms/step - loss: 0.3952 - accuracy: 0.8856 - val_loss: 0.2949 - val_accuracy: 0.9193\n",
      "Epoch 99/200\n",
      "1500/1500 [==============================] - 3s 2ms/step - loss: 0.3907 - accuracy: 0.8874 - val_loss: 0.2833 - val_accuracy: 0.9226\n",
      "Epoch 100/200\n",
      "1500/1500 [==============================] - 3s 2ms/step - loss: 0.3960 - accuracy: 0.8842 - val_loss: 0.3011 - val_accuracy: 0.9186\n",
      "Epoch 101/200\n",
      "1500/1500 [==============================] - 3s 2ms/step - loss: 0.3921 - accuracy: 0.8862 - val_loss: 0.2965 - val_accuracy: 0.9221\n",
      "Epoch 102/200\n",
      "1500/1500 [==============================] - 3s 2ms/step - loss: 0.3930 - accuracy: 0.8848 - val_loss: 0.2864 - val_accuracy: 0.9240\n",
      "Epoch 103/200\n",
      "1500/1500 [==============================] - 3s 2ms/step - loss: 0.3950 - accuracy: 0.8846 - val_loss: 0.2830 - val_accuracy: 0.9240\n",
      "Epoch 104/200\n",
      "1500/1500 [==============================] - 3s 2ms/step - loss: 0.3898 - accuracy: 0.8869 - val_loss: 0.2937 - val_accuracy: 0.9221\n",
      "Epoch 105/200\n",
      "1500/1500 [==============================] - 3s 2ms/step - loss: 0.3934 - accuracy: 0.8852 - val_loss: 0.2831 - val_accuracy: 0.9214\n",
      "Epoch 106/200\n",
      "1500/1500 [==============================] - 3s 2ms/step - loss: 0.3952 - accuracy: 0.8856 - val_loss: 0.2982 - val_accuracy: 0.9227\n",
      "Epoch 107/200\n",
      "1500/1500 [==============================] - 3s 2ms/step - loss: 0.4003 - accuracy: 0.8837 - val_loss: 0.3024 - val_accuracy: 0.9207\n",
      "Epoch 108/200\n",
      "1500/1500 [==============================] - 3s 2ms/step - loss: 0.3948 - accuracy: 0.8854 - val_loss: 0.2920 - val_accuracy: 0.9243\n",
      "Epoch 109/200\n",
      "1500/1500 [==============================] - 3s 2ms/step - loss: 0.3906 - accuracy: 0.8877 - val_loss: 0.2915 - val_accuracy: 0.9227\n",
      "Epoch 110/200\n",
      "1500/1500 [==============================] - 3s 2ms/step - loss: 0.3911 - accuracy: 0.8872 - val_loss: 0.2803 - val_accuracy: 0.9274\n",
      "Epoch 111/200\n",
      "1500/1500 [==============================] - 3s 2ms/step - loss: 0.3937 - accuracy: 0.8869 - val_loss: 0.2851 - val_accuracy: 0.9244\n",
      "Epoch 112/200\n",
      "1500/1500 [==============================] - 3s 2ms/step - loss: 0.3983 - accuracy: 0.8844 - val_loss: 0.2841 - val_accuracy: 0.9247\n",
      "Epoch 113/200\n"
     ]
    },
    {
     "name": "stdout",
     "output_type": "stream",
     "text": [
      "1500/1500 [==============================] - 3s 2ms/step - loss: 0.3923 - accuracy: 0.8880 - val_loss: 0.2789 - val_accuracy: 0.9223\n",
      "Epoch 114/200\n",
      "1500/1500 [==============================] - 3s 2ms/step - loss: 0.3930 - accuracy: 0.8857 - val_loss: 0.3131 - val_accuracy: 0.9140\n",
      "Epoch 115/200\n",
      "1500/1500 [==============================] - 3s 2ms/step - loss: 0.4004 - accuracy: 0.8837 - val_loss: 0.2892 - val_accuracy: 0.9202\n",
      "Epoch 116/200\n",
      "1500/1500 [==============================] - 3s 2ms/step - loss: 0.3960 - accuracy: 0.8858 - val_loss: 0.2897 - val_accuracy: 0.9215\n",
      "Epoch 117/200\n",
      "1500/1500 [==============================] - 3s 2ms/step - loss: 0.3918 - accuracy: 0.8863 - val_loss: 0.2851 - val_accuracy: 0.9240\n",
      "Epoch 118/200\n",
      "1500/1500 [==============================] - 3s 2ms/step - loss: 0.3915 - accuracy: 0.8882 - val_loss: 0.2775 - val_accuracy: 0.9277\n",
      "Epoch 119/200\n",
      "1500/1500 [==============================] - 3s 2ms/step - loss: 0.3935 - accuracy: 0.8866 - val_loss: 0.2834 - val_accuracy: 0.9275\n",
      "Epoch 120/200\n",
      "1500/1500 [==============================] - 3s 2ms/step - loss: 0.3933 - accuracy: 0.8857 - val_loss: 0.2950 - val_accuracy: 0.9225\n",
      "Epoch 121/200\n",
      "1500/1500 [==============================] - 3s 2ms/step - loss: 0.3921 - accuracy: 0.8877 - val_loss: 0.2829 - val_accuracy: 0.9252\n",
      "Epoch 122/200\n",
      "1500/1500 [==============================] - 3s 2ms/step - loss: 0.3906 - accuracy: 0.8875 - val_loss: 0.2841 - val_accuracy: 0.9262\n",
      "Epoch 123/200\n",
      "1500/1500 [==============================] - 3s 2ms/step - loss: 0.3935 - accuracy: 0.8855 - val_loss: 0.2837 - val_accuracy: 0.9268\n",
      "Epoch 124/200\n",
      "1500/1500 [==============================] - 3s 2ms/step - loss: 0.3913 - accuracy: 0.8873 - val_loss: 0.2848 - val_accuracy: 0.9204\n",
      "Epoch 125/200\n",
      "1500/1500 [==============================] - 3s 2ms/step - loss: 0.3901 - accuracy: 0.8873 - val_loss: 0.2899 - val_accuracy: 0.9203\n",
      "Epoch 126/200\n",
      "1500/1500 [==============================] - 3s 2ms/step - loss: 0.3903 - accuracy: 0.8881 - val_loss: 0.2871 - val_accuracy: 0.9221\n",
      "Epoch 127/200\n",
      "1500/1500 [==============================] - 3s 2ms/step - loss: 0.3856 - accuracy: 0.8873 - val_loss: 0.2902 - val_accuracy: 0.9195\n",
      "Epoch 128/200\n",
      "1500/1500 [==============================] - 3s 2ms/step - loss: 0.3894 - accuracy: 0.8866 - val_loss: 0.2831 - val_accuracy: 0.9256\n",
      "Epoch 129/200\n",
      "1500/1500 [==============================] - 3s 2ms/step - loss: 0.3821 - accuracy: 0.8888 - val_loss: 0.2729 - val_accuracy: 0.9273\n",
      "Epoch 130/200\n",
      "1500/1500 [==============================] - 3s 2ms/step - loss: 0.3902 - accuracy: 0.8876 - val_loss: 0.2900 - val_accuracy: 0.9214\n",
      "Epoch 131/200\n",
      "1500/1500 [==============================] - 3s 2ms/step - loss: 0.3913 - accuracy: 0.8864 - val_loss: 0.2886 - val_accuracy: 0.9225\n",
      "Epoch 132/200\n",
      "1500/1500 [==============================] - 3s 2ms/step - loss: 0.3902 - accuracy: 0.8882 - val_loss: 0.2751 - val_accuracy: 0.9268\n",
      "Epoch 133/200\n",
      "1500/1500 [==============================] - 3s 2ms/step - loss: 0.3851 - accuracy: 0.8888 - val_loss: 0.2711 - val_accuracy: 0.9284\n",
      "Epoch 134/200\n",
      "1500/1500 [==============================] - 1s 907us/step - loss: 0.3921 - accuracy: 0.8859 - val_loss: 0.2805 - val_accuracy: 0.9217\n",
      "Epoch 135/200\n",
      "1500/1500 [==============================] - 1s 623us/step - loss: 0.3825 - accuracy: 0.8891 - val_loss: 0.2876 - val_accuracy: 0.9227\n",
      "Epoch 136/200\n",
      "1500/1500 [==============================] - 3s 2ms/step - loss: 0.3934 - accuracy: 0.8876 - val_loss: 0.2924 - val_accuracy: 0.9191\n",
      "Epoch 137/200\n",
      "1500/1500 [==============================] - 3s 2ms/step - loss: 0.3909 - accuracy: 0.8864 - val_loss: 0.2806 - val_accuracy: 0.9247\n",
      "Epoch 138/200\n",
      "1500/1500 [==============================] - 2s 2ms/step - loss: 0.3853 - accuracy: 0.8893 - val_loss: 0.2820 - val_accuracy: 0.9247\n",
      "Epoch 139/200\n",
      "1500/1500 [==============================] - 1s 781us/step - loss: 0.3813 - accuracy: 0.8898 - val_loss: 0.2770 - val_accuracy: 0.9268\n",
      "Epoch 140/200\n",
      "1500/1500 [==============================] - 1s 627us/step - loss: 0.3829 - accuracy: 0.8886 - val_loss: 0.2893 - val_accuracy: 0.9235\n",
      "Epoch 141/200\n",
      "1500/1500 [==============================] - 1s 614us/step - loss: 0.3836 - accuracy: 0.8891 - val_loss: 0.2877 - val_accuracy: 0.9255\n",
      "Epoch 142/200\n",
      "1500/1500 [==============================] - 1s 575us/step - loss: 0.3831 - accuracy: 0.8904 - val_loss: 0.2940 - val_accuracy: 0.9203\n",
      "Epoch 143/200\n",
      "1500/1500 [==============================] - 1s 991us/step - loss: 0.3917 - accuracy: 0.8856 - val_loss: 0.2798 - val_accuracy: 0.9273\n",
      "Epoch 144/200\n",
      "1500/1500 [==============================] - 3s 2ms/step - loss: 0.3848 - accuracy: 0.8886 - val_loss: 0.2913 - val_accuracy: 0.9244\n",
      "Epoch 145/200\n",
      "1500/1500 [==============================] - 3s 2ms/step - loss: 0.3884 - accuracy: 0.8878 - val_loss: 0.2837 - val_accuracy: 0.9244\n",
      "Epoch 146/200\n",
      "1500/1500 [==============================] - 3s 2ms/step - loss: 0.3890 - accuracy: 0.8870 - val_loss: 0.2841 - val_accuracy: 0.9233\n",
      "Epoch 147/200\n",
      "1500/1500 [==============================] - 3s 2ms/step - loss: 0.3896 - accuracy: 0.8892 - val_loss: 0.2876 - val_accuracy: 0.9233\n",
      "Epoch 148/200\n",
      "1500/1500 [==============================] - 2s 2ms/step - loss: 0.3874 - accuracy: 0.8889 - val_loss: 0.2826 - val_accuracy: 0.9236\n",
      "Epoch 149/200\n",
      "1500/1500 [==============================] - 3s 2ms/step - loss: 0.3897 - accuracy: 0.8867 - val_loss: 0.2904 - val_accuracy: 0.9249\n",
      "Epoch 150/200\n",
      "1500/1500 [==============================] - 3s 2ms/step - loss: 0.3913 - accuracy: 0.8869 - val_loss: 0.2847 - val_accuracy: 0.9258\n",
      "Epoch 151/200\n",
      "1500/1500 [==============================] - 3s 2ms/step - loss: 0.3877 - accuracy: 0.8889 - val_loss: 0.2783 - val_accuracy: 0.9262\n",
      "Epoch 152/200\n",
      "1500/1500 [==============================] - 3s 2ms/step - loss: 0.3850 - accuracy: 0.8879 - val_loss: 0.2732 - val_accuracy: 0.9252\n",
      "Epoch 153/200\n",
      "1500/1500 [==============================] - 3s 2ms/step - loss: 0.3855 - accuracy: 0.8882 - val_loss: 0.2720 - val_accuracy: 0.9274\n",
      "Epoch 154/200\n",
      "1500/1500 [==============================] - 3s 2ms/step - loss: 0.3846 - accuracy: 0.8902 - val_loss: 0.2834 - val_accuracy: 0.9235\n",
      "Epoch 155/200\n",
      "1500/1500 [==============================] - 3s 2ms/step - loss: 0.3907 - accuracy: 0.8879 - val_loss: 0.2754 - val_accuracy: 0.9267\n",
      "Epoch 156/200\n",
      "1500/1500 [==============================] - 3s 2ms/step - loss: 0.3886 - accuracy: 0.8883 - val_loss: 0.2835 - val_accuracy: 0.9235\n",
      "Epoch 157/200\n",
      "1500/1500 [==============================] - 3s 2ms/step - loss: 0.3875 - accuracy: 0.8889 - val_loss: 0.2866 - val_accuracy: 0.9259\n",
      "Epoch 158/200\n",
      "1500/1500 [==============================] - 3s 2ms/step - loss: 0.3892 - accuracy: 0.8875 - val_loss: 0.2881 - val_accuracy: 0.9247\n",
      "Epoch 159/200\n",
      "1500/1500 [==============================] - 3s 2ms/step - loss: 0.3904 - accuracy: 0.8872 - val_loss: 0.2983 - val_accuracy: 0.9204\n",
      "Epoch 160/200\n",
      "1500/1500 [==============================] - 3s 2ms/step - loss: 0.3845 - accuracy: 0.8898 - val_loss: 0.2961 - val_accuracy: 0.9267\n",
      "Epoch 161/200\n",
      "1500/1500 [==============================] - 3s 2ms/step - loss: 0.3913 - accuracy: 0.8880 - val_loss: 0.3026 - val_accuracy: 0.9211\n",
      "Epoch 162/200\n",
      "1500/1500 [==============================] - 3s 2ms/step - loss: 0.3866 - accuracy: 0.8894 - val_loss: 0.2939 - val_accuracy: 0.9252\n",
      "Epoch 163/200\n",
      "1500/1500 [==============================] - 3s 2ms/step - loss: 0.3819 - accuracy: 0.8899 - val_loss: 0.2848 - val_accuracy: 0.9233\n",
      "Epoch 164/200\n",
      "1500/1500 [==============================] - 3s 2ms/step - loss: 0.3880 - accuracy: 0.8874 - val_loss: 0.2797 - val_accuracy: 0.9258\n",
      "Epoch 165/200\n",
      "1500/1500 [==============================] - 3s 2ms/step - loss: 0.3809 - accuracy: 0.8890 - val_loss: 0.2820 - val_accuracy: 0.9249\n",
      "Epoch 166/200\n",
      "1500/1500 [==============================] - 3s 2ms/step - loss: 0.3821 - accuracy: 0.8902 - val_loss: 0.2897 - val_accuracy: 0.9222\n",
      "Epoch 167/200\n",
      "1500/1500 [==============================] - 3s 2ms/step - loss: 0.3857 - accuracy: 0.8871 - val_loss: 0.2865 - val_accuracy: 0.9204\n",
      "Epoch 168/200\n",
      "1500/1500 [==============================] - 3s 2ms/step - loss: 0.3799 - accuracy: 0.8898 - val_loss: 0.2866 - val_accuracy: 0.9217\n"
     ]
    },
    {
     "name": "stdout",
     "output_type": "stream",
     "text": [
      "Epoch 169/200\n",
      "1500/1500 [==============================] - 3s 2ms/step - loss: 0.3852 - accuracy: 0.8896 - val_loss: 0.2827 - val_accuracy: 0.9246\n",
      "Epoch 170/200\n",
      "1500/1500 [==============================] - 3s 2ms/step - loss: 0.3817 - accuracy: 0.8888 - val_loss: 0.2832 - val_accuracy: 0.9241\n",
      "Epoch 171/200\n",
      "1500/1500 [==============================] - 3s 2ms/step - loss: 0.3820 - accuracy: 0.8904 - val_loss: 0.2838 - val_accuracy: 0.9244\n",
      "Epoch 172/200\n",
      "1500/1500 [==============================] - 3s 2ms/step - loss: 0.3776 - accuracy: 0.8900 - val_loss: 0.3056 - val_accuracy: 0.9170\n",
      "Epoch 173/200\n",
      "1500/1500 [==============================] - 3s 2ms/step - loss: 0.3840 - accuracy: 0.8896 - val_loss: 0.2744 - val_accuracy: 0.9246\n",
      "Epoch 174/200\n",
      "1500/1500 [==============================] - 3s 2ms/step - loss: 0.3824 - accuracy: 0.8900 - val_loss: 0.2958 - val_accuracy: 0.9203\n",
      "Epoch 175/200\n",
      "1500/1500 [==============================] - 3s 2ms/step - loss: 0.3865 - accuracy: 0.8891 - val_loss: 0.2872 - val_accuracy: 0.9237\n",
      "Epoch 176/200\n",
      "1500/1500 [==============================] - 3s 2ms/step - loss: 0.3904 - accuracy: 0.8871 - val_loss: 0.2880 - val_accuracy: 0.9218\n",
      "Epoch 177/200\n",
      "1500/1500 [==============================] - 3s 2ms/step - loss: 0.3819 - accuracy: 0.8884 - val_loss: 0.2998 - val_accuracy: 0.9196\n",
      "Epoch 178/200\n",
      "1500/1500 [==============================] - 3s 2ms/step - loss: 0.3828 - accuracy: 0.8896 - val_loss: 0.2942 - val_accuracy: 0.9218\n",
      "Epoch 179/200\n",
      "1500/1500 [==============================] - 3s 2ms/step - loss: 0.3830 - accuracy: 0.8897 - val_loss: 0.2687 - val_accuracy: 0.9262\n",
      "Epoch 180/200\n",
      "1500/1500 [==============================] - 3s 2ms/step - loss: 0.3776 - accuracy: 0.8921 - val_loss: 0.2902 - val_accuracy: 0.9228\n",
      "Epoch 181/200\n",
      "1500/1500 [==============================] - 3s 2ms/step - loss: 0.3808 - accuracy: 0.8898 - val_loss: 0.2798 - val_accuracy: 0.9241\n",
      "Epoch 182/200\n",
      "1500/1500 [==============================] - 3s 2ms/step - loss: 0.3806 - accuracy: 0.8923 - val_loss: 0.2737 - val_accuracy: 0.9265\n",
      "Epoch 183/200\n",
      "1500/1500 [==============================] - 3s 2ms/step - loss: 0.3771 - accuracy: 0.8918 - val_loss: 0.2820 - val_accuracy: 0.9241\n",
      "Epoch 184/200\n",
      "1500/1500 [==============================] - 3s 2ms/step - loss: 0.3804 - accuracy: 0.8906 - val_loss: 0.2860 - val_accuracy: 0.9253\n",
      "Epoch 185/200\n",
      "1500/1500 [==============================] - 3s 2ms/step - loss: 0.3813 - accuracy: 0.8909 - val_loss: 0.2756 - val_accuracy: 0.9269\n",
      "Epoch 186/200\n",
      "1500/1500 [==============================] - 3s 2ms/step - loss: 0.3793 - accuracy: 0.8913 - val_loss: 0.2785 - val_accuracy: 0.9277\n",
      "Epoch 187/200\n",
      "1500/1500 [==============================] - 3s 2ms/step - loss: 0.3770 - accuracy: 0.8925 - val_loss: 0.2743 - val_accuracy: 0.9264\n",
      "Epoch 188/200\n",
      "1500/1500 [==============================] - 3s 2ms/step - loss: 0.3790 - accuracy: 0.8907 - val_loss: 0.2898 - val_accuracy: 0.9234\n",
      "Epoch 189/200\n",
      "1500/1500 [==============================] - 3s 2ms/step - loss: 0.3840 - accuracy: 0.8904 - val_loss: 0.2786 - val_accuracy: 0.9273\n",
      "Epoch 190/200\n",
      "1500/1500 [==============================] - 3s 2ms/step - loss: 0.3797 - accuracy: 0.8917 - val_loss: 0.2804 - val_accuracy: 0.9268\n",
      "Epoch 191/200\n",
      "1500/1500 [==============================] - 3s 2ms/step - loss: 0.3797 - accuracy: 0.8903 - val_loss: 0.2808 - val_accuracy: 0.9243\n",
      "Epoch 192/200\n",
      "1500/1500 [==============================] - 3s 2ms/step - loss: 0.3763 - accuracy: 0.8916 - val_loss: 0.2875 - val_accuracy: 0.9237\n",
      "Epoch 193/200\n",
      "1500/1500 [==============================] - 3s 2ms/step - loss: 0.3790 - accuracy: 0.8913 - val_loss: 0.2853 - val_accuracy: 0.9254\n",
      "Epoch 194/200\n",
      "1500/1500 [==============================] - 3s 2ms/step - loss: 0.3812 - accuracy: 0.8923 - val_loss: 0.2826 - val_accuracy: 0.9254\n",
      "Epoch 195/200\n",
      "1500/1500 [==============================] - 3s 2ms/step - loss: 0.3809 - accuracy: 0.8898 - val_loss: 0.2831 - val_accuracy: 0.9242\n",
      "Epoch 196/200\n",
      "1500/1500 [==============================] - 3s 2ms/step - loss: 0.3828 - accuracy: 0.8885 - val_loss: 0.2768 - val_accuracy: 0.9259\n",
      "Epoch 197/200\n",
      "1500/1500 [==============================] - 3s 2ms/step - loss: 0.3811 - accuracy: 0.8901 - val_loss: 0.2911 - val_accuracy: 0.9261\n",
      "Epoch 198/200\n",
      "1500/1500 [==============================] - 3s 2ms/step - loss: 0.3728 - accuracy: 0.8930 - val_loss: 0.2851 - val_accuracy: 0.9229\n",
      "Epoch 199/200\n",
      "1500/1500 [==============================] - 3s 2ms/step - loss: 0.3792 - accuracy: 0.8904 - val_loss: 0.2863 - val_accuracy: 0.9258\n",
      "Epoch 200/200\n",
      "1500/1500 [==============================] - 3s 2ms/step - loss: 0.3846 - accuracy: 0.8888 - val_loss: 0.2834 - val_accuracy: 0.9265\n"
     ]
    }
   ],
   "source": [
    "# will take a while\n",
    "history_dropoutmnist = model.fit(x_train, y_tr_one_hot, epochs=200, batch_size= 32, validation_split = 0.2)"
   ]
  },
  {
   "cell_type": "markdown",
   "metadata": {
    "cell_style": "split",
    "slideshow": {
     "slide_type": "slide"
    }
   },
   "source": [
    "Accuracy on train set will be lower in any given cycle:\n",
    "- some activation killed randomly on training.\n",
    "\n",
    "Performance on validation will be high:\n",
    "- uses full network with learned weights for validation"
   ]
  },
  {
   "cell_type": "markdown",
   "metadata": {
    "cell_style": "split",
    "slideshow": {
     "slide_type": "slide"
    }
   },
   "source": [
    "Not overtraining despite high model capacity:\n",
    "- many hidden layers"
   ]
  },
  {
   "cell_type": "code",
   "execution_count": 145,
   "metadata": {
    "cell_style": "split",
    "slideshow": {
     "slide_type": "fragment"
    }
   },
   "outputs": [
    {
     "data": {
      "image/png": "[encoded data removed]",
      "text/plain": [
       "<Figure size 432x288 with 1 Axes>"
      ]
     },
     "metadata": {
      "needs_background": "light"
     },
     "output_type": "display_data"
    }
   ],
   "source": [
    "train_dropoutmnist_history = pd.DataFrame(history_dropoutmnist.history)\n",
    "train_dropoutmnist_history.index.name = 'epochs'\n",
    "\n",
    "col_list = ['loss', 'val_loss']\n",
    "train_dropoutmnist_history[col_list].plot()\n",
    "plt.ylabel('Categorical cross entropy')\n",
    "plt.title('Training loss history')\n",
    "plt.show()"
   ]
  },
  {
   "cell_type": "code",
   "execution_count": 148,
   "metadata": {
    "cell_style": "split",
    "slideshow": {
     "slide_type": "slide"
    }
   },
   "outputs": [
    {
     "data": {
      "image/png": "[encoded data removed]",
      "text/plain": [
       "<Figure size 432x288 with 1 Axes>"
      ]
     },
     "metadata": {
      "needs_background": "light"
     },
     "output_type": "display_data"
    }
   ],
   "source": [
    "col_list = ['accuracy', 'val_accuracy']\n",
    "train_dropoutmnist_history[col_list].plot()\n",
    "plt.ylabel('Accuracy')\n",
    "plt.title('Training loss history')\n",
    "plt.show()"
   ]
  },
  {
   "cell_type": "markdown",
   "metadata": {
    "cell_style": "split",
    "slideshow": {
     "slide_type": "fragment"
    }
   },
   "source": [
    "Evaluate on test set."
   ]
  },
  {
   "cell_type": "code",
   "execution_count": 149,
   "metadata": {
    "cell_style": "split",
    "slideshow": {
     "slide_type": "fragment"
    }
   },
   "outputs": [
    {
     "name": "stdout",
     "output_type": "stream",
     "text": [
      "313/313 [==============================] - 1s 2ms/step - loss: 0.2634 - accuracy: 0.9306\n"
     ]
    },
    {
     "data": {
      "text/plain": [
       "[0.2633870542049408, 0.9305999875068665]"
      ]
     },
     "execution_count": 149,
     "metadata": {},
     "output_type": "execute_result"
    }
   ],
   "source": [
    "model.evaluate(x_test, y_tt_one_hot)"
   ]
  },
  {
   "cell_type": "markdown",
   "metadata": {
    "slideshow": {
     "slide_type": "slide"
    }
   },
   "source": [
    "#### Dropout regularization in conjunction with L2:\n",
    "\n",
    "- can be used to train very deep networks\n",
    "- model complex relationships without overfitting\n",
    "- works best in these cases with a lot of data"
   ]
  },
  {
   "cell_type": "markdown",
   "metadata": {
    "slideshow": {
     "slide_type": "slide"
    }
   },
   "source": [
    "Next up:\n",
    "- doing much better with a more suitable network architecture\n",
    "- Convolutional Neural Networks (CNNs)"
   ]
  }
 ],
 "metadata": {
  "celltoolbar": "Slideshow",
  "colab": {
   "collapsed_sections": [],
   "name": "intro-to-keras.ipynb",
   "provenance": []
  },
  "kernelspec": {
   "display_name": "dplearn",
   "language": "python",
   "name": "dplearn"
  },
  "language_info": {
   "codemirror_mode": {
    "name": "ipython",
    "version": 3
   },
   "file_extension": ".py",
   "mimetype": "text/x-python",
   "name": "python",
   "nbconvert_exporter": "python",
   "pygments_lexer": "ipython3",
   "version": "3.7.5"
  }
 },
 "nbformat": 4,
 "nbformat_minor": 4
}
