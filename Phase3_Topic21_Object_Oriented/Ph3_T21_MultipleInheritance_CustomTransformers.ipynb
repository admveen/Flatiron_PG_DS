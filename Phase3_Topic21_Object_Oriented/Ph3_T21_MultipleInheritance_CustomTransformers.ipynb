{
 "cells": [
  {
   "cell_type": "markdown",
   "metadata": {
    "slideshow": {
     "slide_type": "slide"
    }
   },
   "source": [
    "<div style=\"color:white;\n",
    "           display:fill;\n",
    "           border-radius:5px;\n",
    "           background-color:#5642C5;\n",
    "           font-size:200%;\n",
    "           font-\\amily:Arial;letter-spacing:0.5px\">\n",
    "\n",
    "<p width = 20%, style=\"padding: 10px;\n",
    "              color:white;\">\n",
    "Class inheritance / custom classes in scikit-learn \n",
    "              \n",
    "</p>\n",
    "</div>\n",
    "\n",
    "Data Science Cohort Live NYC Feb 2022\n",
    "<p>Phase 3: Topic 21</p>\n",
    "<br>\n",
    "<br>\n",
    "\n",
    "<div align = \"right\">\n",
    "<img src=\"Images/flatiron-school-logo.png\" align = \"right\" width=\"200\"/>\n",
    "</div>"
   ]
  },
  {
   "cell_type": "markdown",
   "metadata": {
    "slideshow": {
     "slide_type": "slide"
    }
   },
   "source": [
    "####  Hierarchical class structures and inheritance\n",
    "<img src = \"Images/class-inheritance.png\" width = 600/>"
   ]
  },
  {
   "cell_type": "markdown",
   "metadata": {
    "cell_style": "split",
    "slideshow": {
     "slide_type": "slide"
    }
   },
   "source": [
    "Car and motorcycle are examples of vehicle:\n",
    "- Vehicle: **parent class**\n",
    "- Car/Motorcycle: **children**"
   ]
  },
  {
   "cell_type": "markdown",
   "metadata": {
    "cell_style": "split",
    "slideshow": {
     "slide_type": "fragment"
    }
   },
   "source": [
    "Children class:\n",
    "- share methods/attributes from parent\n",
    "- will also have specific additional methods/attributes"
   ]
  },
  {
   "cell_type": "markdown",
   "metadata": {
    "slideshow": {
     "slide_type": "slide"
    }
   },
   "source": [
    "#### Reason to do this\n",
    "- Tremendous reduction in code\n",
    "- Specific custom class: can inherit routines/variabes/functionality from parents.\n",
    "- Custom class: adapt to specific use case and plug into general framework."
   ]
  },
  {
   "cell_type": "markdown",
   "metadata": {
    "slideshow": {
     "slide_type": "slide"
    }
   },
   "source": [
    "Let's see some of this in action in Python:\n",
    "- Define parent class: "
   ]
  },
  {
   "cell_type": "code",
   "execution_count": 77,
   "metadata": {
    "cell_style": "center",
    "code_folding": [
     7,
     10,
     16,
     17,
     22,
     29
    ],
    "slideshow": {
     "slide_type": "slide"
    }
   },
   "outputs": [],
   "source": [
    "class Vehicle:\n",
    "    \n",
    "    def __init__(self, color = 'Gray'):\n",
    "        self.started = False\n",
    "        self.color = color\n",
    "        self.speed = 0\n",
    "        \n",
    "    def start(self):\n",
    "        self.started = True\n",
    "        \n",
    "    def turn_off(self):\n",
    "        if self.speed == 0:\n",
    "            self.started = False\n",
    "        else:\n",
    "            print('User is idiot. Request denied.')\n",
    "    \n",
    "    def increase_speed(self, delta):\n",
    "        if self.started == True:\n",
    "            self.speed += delta\n",
    "        else:\n",
    "            print('Vehicle is off...')\n",
    "    \n",
    "    def slow_down(self, delta):\n",
    "        calc = self.speed - delta\n",
    "        if (self.started == True) & (calc >= 0):\n",
    "            self.speed = calc\n",
    "        else:\n",
    "            pass\n",
    "                \n",
    "    def stop(self):\n",
    "        self.speed = 0"
   ]
  },
  {
   "cell_type": "code",
   "execution_count": 78,
   "metadata": {
    "cell_style": "center",
    "slideshow": {
     "slide_type": "slide"
    }
   },
   "outputs": [],
   "source": [
    "veh_inst = Vehicle()"
   ]
  },
  {
   "cell_type": "code",
   "execution_count": 79,
   "metadata": {
    "cell_style": "center",
    "slideshow": {
     "slide_type": "fragment"
    }
   },
   "outputs": [],
   "source": [
    "veh_inst.start() "
   ]
  },
  {
   "cell_type": "code",
   "execution_count": 80,
   "metadata": {
    "cell_style": "center",
    "slideshow": {
     "slide_type": "fragment"
    }
   },
   "outputs": [
    {
     "data": {
      "text/plain": [
       "True"
      ]
     },
     "execution_count": 80,
     "metadata": {},
     "output_type": "execute_result"
    }
   ],
   "source": [
    "veh_inst.started"
   ]
  },
  {
   "cell_type": "code",
   "execution_count": 81,
   "metadata": {
    "cell_style": "center",
    "slideshow": {
     "slide_type": "fragment"
    }
   },
   "outputs": [
    {
     "data": {
      "text/plain": [
       "0"
      ]
     },
     "execution_count": 81,
     "metadata": {},
     "output_type": "execute_result"
    }
   ],
   "source": [
    "veh_inst.speed"
   ]
  },
  {
   "cell_type": "code",
   "execution_count": 82,
   "metadata": {
    "cell_style": "center",
    "slideshow": {
     "slide_type": "fragment"
    }
   },
   "outputs": [],
   "source": [
    "veh_inst.increase_speed(10)"
   ]
  },
  {
   "cell_type": "code",
   "execution_count": 83,
   "metadata": {
    "cell_style": "center",
    "slideshow": {
     "slide_type": "fragment"
    }
   },
   "outputs": [
    {
     "data": {
      "text/plain": [
       "10"
      ]
     },
     "execution_count": 83,
     "metadata": {},
     "output_type": "execute_result"
    }
   ],
   "source": [
    "veh_inst.speed"
   ]
  },
  {
   "cell_type": "code",
   "execution_count": 84,
   "metadata": {
    "cell_style": "center",
    "slideshow": {
     "slide_type": "fragment"
    }
   },
   "outputs": [
    {
     "data": {
      "text/plain": [
       "'Gray'"
      ]
     },
     "execution_count": 84,
     "metadata": {},
     "output_type": "execute_result"
    }
   ],
   "source": [
    "veh_inst.color"
   ]
  },
  {
   "cell_type": "markdown",
   "metadata": {
    "cell_style": "center",
    "slideshow": {
     "slide_type": "slide"
    }
   },
   "source": [
    "Parent has general functions and attributes that we want to reuse for specific types of vehicles:\n",
    "- Define child class Car specifying the parent class as Vehicle.\n",
    "- Cars can be started, turned off, sped up/ slowed down (methods of Vehicle)\n",
    "- Car has a speed and color (attributes of Vehicle)\n"
   ]
  },
  {
   "cell_type": "markdown",
   "metadata": {
    "cell_style": "split",
    "slideshow": {
     "slide_type": "slide"
    }
   },
   "source": [
    "Color is special attribute here:\n",
    "- Is argument of parent constructor/initializer"
   ]
  },
  {
   "cell_type": "code",
   "execution_count": 9,
   "metadata": {
    "cell_style": "split",
    "code_folding": [
     7,
     10,
     16,
     22,
     29
    ],
    "slideshow": {
     "slide_type": "fragment"
    }
   },
   "outputs": [],
   "source": [
    "class Vehicle:\n",
    "    \n",
    "    def __init__(self, color = 'Gray'):\n",
    "        self.started = False\n",
    "        self.color = color\n",
    "        self.speed = 0\n",
    "        \n",
    "    def start(self):\n",
    "        self.started = True\n",
    "        \n",
    "    def turn_off(self):\n",
    "        if self.speed == 0:\n",
    "            self.started = False\n",
    "        else:\n",
    "            print('User is idiot. Request denied.')\n",
    "    \n",
    "    def increase_speed(self, delta):\n",
    "        if self.started == True:\n",
    "            self.speed += delta\n",
    "        else:\n",
    "            print('Vehicle is off...')\n",
    "    \n",
    "    def slow_down(self, delta):\n",
    "        calc = self.speed - delta\n",
    "        if (self.started == True) & (calc >= 0):\n",
    "            self.speed = calc\n",
    "        else:\n",
    "            pass\n",
    "                \n",
    "    def stop(self):\n",
    "        self.speed = 0"
   ]
  },
  {
   "cell_type": "markdown",
   "metadata": {
    "cell_style": "center",
    "slideshow": {
     "slide_type": "slide"
    }
   },
   "source": [
    "Want as argument of child class initializer:\n",
    "\n",
    "- want to set this parent attribute from child class constructor\n",
    "- E.g. Car(color = 'blue'):\n",
    "    - creates Car instance\n",
    "    - inherited attribute color to blue."
   ]
  },
  {
   "cell_type": "markdown",
   "metadata": {
    "slideshow": {
     "slide_type": "subslide"
    }
   },
   "source": [
    "Want: child constructor taking parameters of parent constructor as arguments."
   ]
  },
  {
   "cell_type": "markdown",
   "metadata": {
    "cell_style": "split",
    "slideshow": {
     "slide_type": "subslide"
    }
   },
   "source": [
    "**Within child initializer**\n",
    "- Need to call initializer of parent class.\n",
    "- This allows parent and child to share attributes\n",
    "- Relevant child initializer arguments passed to parent initializer\n",
    "\n"
   ]
  },
  {
   "cell_type": "code",
   "execution_count": 86,
   "metadata": {
    "cell_style": "split",
    "code_folding": [],
    "slideshow": {
     "slide_type": "-"
    }
   },
   "outputs": [],
   "source": [
    "class Car(Vehicle):\n",
    "    \n",
    "    def __init__(self, color):\n",
    "        self.trunk_open = False\n",
    "        Vehicle.__init__(self, color)\n",
    "    def open_trunk(self):\n",
    "        if self.trunk_open == False:\n",
    "            self.trunk_open = True\n",
    "        else:\n",
    "            print('Trunk already open')\n",
    "    def close_trunk(self):\n",
    "        if self.trunk_open == True:\n",
    "            self.trunk_open = False\n",
    "        else:\n",
    "            print('Trunk is already closed.')"
   ]
  },
  {
   "cell_type": "markdown",
   "metadata": {
    "cell_style": "split",
    "slideshow": {
     "slide_type": "fragment"
    }
   },
   "source": [
    "- parent.__init__(self, arguments)\n",
    "- super().__init__(arguments)"
   ]
  },
  {
   "cell_type": "code",
   "execution_count": 87,
   "metadata": {
    "cell_style": "split",
    "slideshow": {
     "slide_type": "slide"
    }
   },
   "outputs": [],
   "source": [
    "# passed to parent constructor\n",
    "my_moms_car = Car('Blue')"
   ]
  },
  {
   "cell_type": "code",
   "execution_count": 88,
   "metadata": {
    "cell_style": "split",
    "slideshow": {
     "slide_type": "fragment"
    }
   },
   "outputs": [
    {
     "data": {
      "text/plain": [
       "'Blue'"
      ]
     },
     "execution_count": 88,
     "metadata": {},
     "output_type": "execute_result"
    }
   ],
   "source": [
    "# attribute inherited from Vehicle\n",
    "my_moms_car.color"
   ]
  },
  {
   "cell_type": "code",
   "execution_count": 89,
   "metadata": {
    "cell_style": "split",
    "slideshow": {
     "slide_type": "fragment"
    }
   },
   "outputs": [],
   "source": [
    "# method in Car class (child)\n",
    "my_moms_car.open_trunk()"
   ]
  },
  {
   "cell_type": "code",
   "execution_count": 90,
   "metadata": {
    "cell_style": "split",
    "slideshow": {
     "slide_type": "fragment"
    }
   },
   "outputs": [
    {
     "data": {
      "text/plain": [
       "True"
      ]
     },
     "execution_count": 90,
     "metadata": {},
     "output_type": "execute_result"
    }
   ],
   "source": [
    "# attribute of Car (child)\n",
    "my_moms_car.trunk_open"
   ]
  },
  {
   "cell_type": "code",
   "execution_count": 91,
   "metadata": {
    "slideshow": {
     "slide_type": "fragment"
    }
   },
   "outputs": [
    {
     "data": {
      "text/plain": [
       "True"
      ]
     },
     "execution_count": 91,
     "metadata": {},
     "output_type": "execute_result"
    }
   ],
   "source": [
    "# method/attribute inherited from parent (Vehicle)\n",
    "\n",
    "my_moms_car.start()\n",
    "my_moms_car.started\n",
    "# Note: \"started\" was attribute not passed into child constructor/super() method\n",
    "# not a parameter of child/parent class initializer"
   ]
  },
  {
   "cell_type": "markdown",
   "metadata": {
    "slideshow": {
     "slide_type": "slide"
    }
   },
   "source": [
    "To reiterate"
   ]
  },
  {
   "cell_type": "code",
   "execution_count": 16,
   "metadata": {
    "cell_style": "split",
    "slideshow": {
     "slide_type": "slide"
    }
   },
   "outputs": [],
   "source": [
    "class Car(Vehicle):\n",
    "    \n",
    "    def __init__(self, color):\n",
    "        self.trunk_open = False\n",
    "        super().__init__(color)\n",
    "    def open_trunk(self):\n",
    "        if self.trunk_open == False:\n",
    "            self.trunk_open = True\n",
    "        else:\n",
    "            print('Trunk already open')\n",
    "    def close_trunk(self):\n",
    "        if self.trunk_open == True:\n",
    "            self.trunk_open = False\n",
    "        else:\n",
    "            print('Trunk is already closed.')"
   ]
  },
  {
   "cell_type": "markdown",
   "metadata": {
    "cell_style": "split",
    "slideshow": {
     "slide_type": "fragment"
    }
   },
   "source": [
    "Car is child of Vehicle:\n",
    "- clearly inherits methods/attributes from Vehicle\n",
    "- Also has own subroutines/attributes (trunk_open,etc.)"
   ]
  },
  {
   "cell_type": "markdown",
   "metadata": {
    "cell_style": "split",
    "slideshow": {
     "slide_type": "fragment"
    }
   },
   "source": [
    "- color is argument of Vehicle constructor\n",
    "- specifying in __init__ method of child passes it to parent through:\n",
    "    - super().__init__(color)\n",
    "    - parent.__init__(self, color)"
   ]
  },
  {
   "cell_type": "markdown",
   "metadata": {
    "slideshow": {
     "slide_type": "slide"
    }
   },
   "source": [
    "#### Multiple Inheritance"
   ]
  },
  {
   "cell_type": "markdown",
   "metadata": {
    "cell_style": "split",
    "slideshow": {
     "slide_type": "slide"
    }
   },
   "source": [
    "#### Child class can have multiple parents\n",
    "- Inherits methods/routines from multiple parents"
   ]
  },
  {
   "cell_type": "markdown",
   "metadata": {
    "cell_style": "split",
    "slideshow": {
     "slide_type": "fragment"
    }
   },
   "source": [
    "<img src = \"Images/multipleinh.png\" width = 600 />"
   ]
  },
  {
   "cell_type": "code",
   "execution_count": 92,
   "metadata": {
    "slideshow": {
     "slide_type": "slide"
    }
   },
   "outputs": [],
   "source": [
    "class Property:\n",
    "    \n",
    "    def __init__(self, owner_name = None, years_owned = None, assessed_value = None):\n",
    "        \n",
    "        self.owner_name = owner_name\n",
    "        self.years_owned = years_owned \n",
    "        self.assessed_value = assessed_value\n",
    "        \n",
    "    def change_owner(self, name):\n",
    "        self.owner_name = name\n",
    "        self.years_owned = 0\n",
    "        \n",
    "    def revalue_asset(self, new_value):\n",
    "        self.assessed_value = new_value"
   ]
  },
  {
   "cell_type": "code",
   "execution_count": 93,
   "metadata": {
    "code_folding": [
     9
    ],
    "slideshow": {
     "slide_type": "subslide"
    }
   },
   "outputs": [],
   "source": [
    "class Car(Property, Vehicle):\n",
    "    \n",
    "    def __init__(self, color, owner_name = None, years_owned = None, assessed_value = None):\n",
    "        Property.__init__(self, owner_name, years_owned, assessed_value)\n",
    "        Vehicle.__init__(self, color)\n",
    "        \n",
    "        self.trunk_open = False\n",
    "        \n",
    "    def open_trunk(self):\n",
    "        if self.trunk_open == False:\n",
    "            self.trunk_open = True\n",
    "        else:\n",
    "            print('Trunk already open')\n",
    "    def close_trunk(self):\n",
    "        if self.trunk_open == True:\n",
    "            self.trunk_open = False\n",
    "        else:\n",
    "            print('Trunk is already closed.')\n",
    "        \n",
    "        "
   ]
  },
  {
   "cell_type": "markdown",
   "metadata": {
    "slideshow": {
     "slide_type": "slide"
    }
   },
   "source": [
    "Car now inherits methods/attributes from both Property and Vehicle"
   ]
  },
  {
   "cell_type": "code",
   "execution_count": 95,
   "metadata": {
    "cell_style": "center",
    "slideshow": {
     "slide_type": "slide"
    }
   },
   "outputs": [],
   "source": [
    "Karan_Honda = Car(color = 'Red',\n",
    "        owner_name = 'Karan Kurdia',\n",
    "        assessed_value = 6000)"
   ]
  },
  {
   "cell_type": "code",
   "execution_count": 96,
   "metadata": {
    "cell_style": "center",
    "slideshow": {
     "slide_type": "fragment"
    }
   },
   "outputs": [
    {
     "name": "stdout",
     "output_type": "stream",
     "text": [
      "Karan Kurdia\n",
      "6000\n"
     ]
    }
   ],
   "source": [
    "#from Property Class\n",
    "print(Karan_Honda.owner_name)\n",
    "print(Karan_Honda.assessed_value)"
   ]
  },
  {
   "cell_type": "code",
   "execution_count": 98,
   "metadata": {
    "slideshow": {
     "slide_type": "fragment"
    }
   },
   "outputs": [],
   "source": [
    "Karan_Honda.revalue_asset(3000)"
   ]
  },
  {
   "cell_type": "code",
   "execution_count": 99,
   "metadata": {
    "slideshow": {
     "slide_type": "fragment"
    }
   },
   "outputs": [
    {
     "data": {
      "text/plain": [
       "3000"
      ]
     },
     "execution_count": 99,
     "metadata": {},
     "output_type": "execute_result"
    }
   ],
   "source": [
    "Karan_Honda.assessed_value"
   ]
  },
  {
   "cell_type": "code",
   "execution_count": 100,
   "metadata": {
    "cell_style": "split",
    "scrolled": true,
    "slideshow": {
     "slide_type": "fragment"
    }
   },
   "outputs": [
    {
     "data": {
      "text/plain": [
       "'Red'"
      ]
     },
     "execution_count": 100,
     "metadata": {},
     "output_type": "execute_result"
    }
   ],
   "source": [
    "# from vehicle\n",
    "Karan_Honda.color"
   ]
  },
  {
   "cell_type": "code",
   "execution_count": 101,
   "metadata": {
    "cell_style": "split",
    "slideshow": {
     "slide_type": "fragment"
    }
   },
   "outputs": [
    {
     "data": {
      "text/plain": [
       "False"
      ]
     },
     "execution_count": 101,
     "metadata": {},
     "output_type": "execute_result"
    }
   ],
   "source": [
    "#from Car class\n",
    "Karan_Honda.trunk_open"
   ]
  },
  {
   "cell_type": "code",
   "execution_count": 102,
   "metadata": {
    "cell_style": "split"
   },
   "outputs": [
    {
     "data": {
      "text/plain": [
       "True"
      ]
     },
     "execution_count": 102,
     "metadata": {},
     "output_type": "execute_result"
    }
   ],
   "source": [
    "# from Vehicle class\n",
    "Karan_Honda.start()\n",
    "Karan_Honda.started"
   ]
  },
  {
   "cell_type": "markdown",
   "metadata": {
    "slideshow": {
     "slide_type": "slide"
    }
   },
   "source": [
    "The why of all this:"
   ]
  },
  {
   "cell_type": "markdown",
   "metadata": {
    "cell_style": "split",
    "slideshow": {
     "slide_type": "subslide"
    }
   },
   "source": [
    "The unifying principle here is **modularity**.\n",
    "\n",
    "- Enables us to use frameworks that already exist.\n",
    "- Input custom functionality as little box into larger framework.\n",
    "\n",
    "**Enables building more complex systems quickly.**"
   ]
  },
  {
   "cell_type": "markdown",
   "metadata": {
    "cell_style": "split"
   },
   "source": [
    "<center><img src = \"Images/modular_design.png\" /></center>"
   ]
  },
  {
   "cell_type": "markdown",
   "metadata": {
    "slideshow": {
     "slide_type": "slide"
    }
   },
   "source": [
    "**Scikit-learn (your workhorse Machine learning package)**: built with many of these design principles in mind."
   ]
  },
  {
   "cell_type": "markdown",
   "metadata": {
    "slideshow": {
     "slide_type": "subslide"
    }
   },
   "source": [
    "Allows you to:\n",
    "\n",
    "- Include transformations/modeling into a bus modular flow.\n",
    "- **Scikit-learn pipeline**"
   ]
  },
  {
   "cell_type": "markdown",
   "metadata": {
    "slideshow": {
     "slide_type": "subslide"
    }
   },
   "source": [
    "- Try different models out on your data in plug and play fashion\n",
    "- Test performance and get best result.\n",
    "- **Model tuning and cross-validation**"
   ]
  },
  {
   "cell_type": "markdown",
   "metadata": {
    "slideshow": {
     "slide_type": "subslide"
    }
   },
   "source": [
    "- Custom models and transformers: classes\n",
    "- Inheritance allows us to plug/play into Scikit-learn."
   ]
  },
  {
   "cell_type": "markdown",
   "metadata": {
    "slideshow": {
     "slide_type": "slide"
    }
   },
   "source": [
    "First necessary parent class for any custom model:"
   ]
  },
  {
   "cell_type": "code",
   "execution_count": 103,
   "metadata": {
    "slideshow": {
     "slide_type": "fragment"
    }
   },
   "outputs": [],
   "source": [
    "from sklearn.base import BaseEstimator "
   ]
  },
  {
   "cell_type": "markdown",
   "metadata": {
    "cell_style": "split",
    "slideshow": {
     "slide_type": "slide"
    }
   },
   "source": [
    "Enables the getting and setting of **user-controlled variables** for a model\n",
    "- Not parameters fit by the model.\n",
    "- Rather external levers for model: known as **hyperparameters**."
   ]
  },
  {
   "cell_type": "markdown",
   "metadata": {
    "cell_style": "split",
    "slideshow": {
     "slide_type": "fragment"
    }
   },
   "source": [
    "Now: \n",
    "- *hyperparameters* accessible to other sklearn classes.\n",
    "- Useful: model tuning, etc."
   ]
  },
  {
   "cell_type": "markdown",
   "metadata": {
    "slideshow": {
     "slide_type": "slide"
    }
   },
   "source": [
    "Second parent necessary for any transformer:"
   ]
  },
  {
   "cell_type": "code",
   "execution_count": 104,
   "metadata": {
    "slideshow": {
     "slide_type": "fragment"
    }
   },
   "outputs": [],
   "source": [
    "from sklearn.base import TransformerMixin"
   ]
  },
  {
   "cell_type": "markdown",
   "metadata": {
    "cell_style": "split",
    "slideshow": {
     "slide_type": "slide"
    }
   },
   "source": [
    "Now if you write:\n",
    "- .fit()\n",
    "- .transform()\n",
    "\n",
    "- Enables .fit_transform() automatically"
   ]
  },
  {
   "cell_type": "markdown",
   "metadata": {
    "cell_style": "split",
    "slideshow": {
     "slide_type": "fragment"
    }
   },
   "source": [
    "**More importantly**\n",
    "\n",
    "- Sklearn recognizes as transformer.\n",
    "- Enables plugging into sklearn Transformer framework."
   ]
  },
  {
   "cell_type": "markdown",
   "metadata": {
    "slideshow": {
     "slide_type": "slide"
    }
   },
   "source": [
    "#### Make our own custom scikit-learn transformer"
   ]
  },
  {
   "cell_type": "markdown",
   "metadata": {
    "slideshow": {
     "slide_type": "fragment"
    }
   },
   "source": [
    "Some scenarios:\n",
    "- Want to define custom transformation to data columns\n",
    "- Want to apply different transformations to different subsets of columns"
   ]
  },
  {
   "cell_type": "markdown",
   "metadata": {
    "slideshow": {
     "slide_type": "slide"
    }
   },
   "source": [
    "Create new _transformer_:\n",
    "\n",
    "- If the value is **positive**, scale the value by the **largest value** in that column\n",
    "- If the value is **negative**, change it to $0$"
   ]
  },
  {
   "cell_type": "code",
   "execution_count": 105,
   "metadata": {
    "code_folding": [],
    "slideshow": {
     "slide_type": "fragment"
    }
   },
   "outputs": [],
   "source": [
    "class SpecialTransformer(BaseEstimator, TransformerMixin):\n",
    "    \n",
    "    def __init__(self):\n",
    "        self.max_ = None\n",
    "        BaseEstimator.__init__(self)\n",
    "        TransformerMixin.__init__(self)\n",
    "    \n",
    "    def fit(self, X, y=None):\n",
    "        self.max_ = np.max(X,axis=0) \n",
    "        return self\n",
    "    \n",
    "    def transform(self, X):\n",
    "        X_copy = np.copy(X)\n",
    "        X_copy[X_copy < 0] = 0\n",
    "        return X_copy / self.max_"
   ]
  },
  {
   "cell_type": "code",
   "execution_count": 106,
   "metadata": {
    "cell_style": "split",
    "slideshow": {
     "slide_type": "slide"
    }
   },
   "outputs": [
    {
     "data": {
      "text/plain": [
       "(5, 3)"
      ]
     },
     "execution_count": 106,
     "metadata": {},
     "output_type": "execute_result"
    }
   ],
   "source": [
    "## Let's use some test data\n",
    "# Note each column is a feature, each row a data point\n",
    "import numpy as np\n",
    "X = np.array([\n",
    "    [-4, 400, 40],\n",
    "    [10, -100, 1],\n",
    "    [6, -800, 700],\n",
    "    [2, 0, 400],\n",
    "    [8, 200, 1000]\n",
    "])\n",
    "\n",
    "X.shape"
   ]
  },
  {
   "cell_type": "markdown",
   "metadata": {
    "cell_style": "split",
    "slideshow": {
     "slide_type": "fragment"
    }
   },
   "source": [
    "Let's use our transformer on the entire array:\n",
    "- First initialize instance.\n",
    "- Fit to array"
   ]
  },
  {
   "cell_type": "code",
   "execution_count": 107,
   "metadata": {
    "cell_style": "split",
    "slideshow": {
     "slide_type": "fragment"
    }
   },
   "outputs": [
    {
     "data": {
      "text/plain": [
       "SpecialTransformer()"
      ]
     },
     "execution_count": 107,
     "metadata": {},
     "output_type": "execute_result"
    }
   ],
   "source": [
    "trans_instance = SpecialTransformer()\n",
    "trans_instance.fit(X)"
   ]
  },
  {
   "cell_type": "code",
   "execution_count": 108,
   "metadata": {
    "cell_style": "split",
    "slideshow": {
     "slide_type": "fragment"
    }
   },
   "outputs": [
    {
     "data": {
      "text/plain": [
       "array([  10,  400, 1000])"
      ]
     },
     "execution_count": 108,
     "metadata": {},
     "output_type": "execute_result"
    }
   ],
   "source": [
    "trans_instance.max_"
   ]
  },
  {
   "cell_type": "markdown",
   "metadata": {
    "slideshow": {
     "slide_type": "slide"
    }
   },
   "source": [
    "Using these fit parameters: \n",
    "- Can apply transformation to any data with 3 columns.\n",
    "- Let's just apply to our X for now."
   ]
  },
  {
   "cell_type": "code",
   "execution_count": 64,
   "metadata": {
    "slideshow": {
     "slide_type": "fragment"
    }
   },
   "outputs": [
    {
     "data": {
      "text/plain": [
       "array([[0.   , 1.   , 0.04 ],\n",
       "       [1.   , 0.   , 0.001],\n",
       "       [0.6  , 0.   , 0.7  ],\n",
       "       [0.2  , 0.   , 0.4  ],\n",
       "       [0.8  , 0.5  , 1.   ]])"
      ]
     },
     "execution_count": 64,
     "metadata": {},
     "output_type": "execute_result"
    }
   ],
   "source": [
    "trans_instance.transform(X)"
   ]
  },
  {
   "cell_type": "code",
   "execution_count": 65,
   "metadata": {
    "cell_style": "split",
    "slideshow": {
     "slide_type": "slide"
    }
   },
   "outputs": [],
   "source": [
    "class SpecialTransformer(BaseEstimator, TransformerMixin):\n",
    "    \n",
    "    def __init__(self):\n",
    "        self.max_ = None\n",
    "        BaseEstimator.__init__(self)\n",
    "        TransformerMixin.__init__(self)\n",
    "    \n",
    "    def fit(self, X, y=None):\n",
    "        self.max_ = np.max(X,axis=0) \n",
    "        return self\n",
    "    \n",
    "    def transform(self, X):\n",
    "        X_copy = np.copy(X)\n",
    "        X_copy[X_copy < 0] = 0\n",
    "        return X_copy / self.max_"
   ]
  },
  {
   "cell_type": "markdown",
   "metadata": {
    "cell_style": "split",
    "slideshow": {
     "slide_type": "fragment"
    }
   },
   "source": [
    "Specifying parent TransformerMixin:\n",
    "- enabled parent method .fit_transform"
   ]
  },
  {
   "cell_type": "code",
   "execution_count": 109,
   "metadata": {
    "cell_style": "split",
    "slideshow": {
     "slide_type": "fragment"
    }
   },
   "outputs": [
    {
     "data": {
      "text/plain": [
       "array([[0.   , 1.   , 0.04 ],\n",
       "       [1.   , 0.   , 0.001],\n",
       "       [0.6  , 0.   , 0.7  ],\n",
       "       [0.2  , 0.   , 0.4  ],\n",
       "       [0.8  , 0.5  , 1.   ]])"
      ]
     },
     "execution_count": 109,
     "metadata": {},
     "output_type": "execute_result"
    }
   ],
   "source": [
    "trans_instance.fit_transform(X)"
   ]
  },
  {
   "cell_type": "markdown",
   "metadata": {
    "slideshow": {
     "slide_type": "subslide"
    }
   },
   "source": [
    "- TransformerMixin\n",
    "    - fit_transform enabled\n",
    "    - Can use our SpecialTransformer in other sklearn transformer functionality (will see later):\n",
    "        - Column Transformers\n",
    "        - Feature Unions\n",
    "        - etc"
   ]
  },
  {
   "cell_type": "markdown",
   "metadata": {
    "slideshow": {
     "slide_type": "slide"
    }
   },
   "source": [
    "- BaseEsimator\n",
    "    - can use in rest of sklearn framework\n",
    "    - Other sklearn classes can access externally controlled variables in a model's constructor"
   ]
  },
  {
   "cell_type": "markdown",
   "metadata": {},
   "source": [
    "Let's change the code so that:\n",
    "\n",
    "- If the value is greater than a *threshold*, scale value by the **largest value** in that column\n",
    "- If the value is smaller than *threshold*, change it to $0$"
   ]
  },
  {
   "cell_type": "code",
   "execution_count": 110,
   "metadata": {
    "cell_style": "split",
    "slideshow": {
     "slide_type": "slide"
    }
   },
   "outputs": [],
   "source": [
    "class SpecialTransformer(BaseEstimator, TransformerMixin):\n",
    "    \n",
    "    def __init__(self, threshold = 0):\n",
    "        self.max_ = None\n",
    "        self.threshold = threshold\n",
    "        BaseEstimator.__init__(self)\n",
    "        TransformerMixin.__init__(self)\n",
    "    \n",
    "    def fit(self, X, y=None):\n",
    "        self.max_ = np.max(X,axis=0) \n",
    "        return self\n",
    "    \n",
    "    def transform(self, X):\n",
    "        X_copy = np.copy(X)\n",
    "        X_copy[X_copy < self.threshold] = 0\n",
    "        return X_copy / self.max_"
   ]
  },
  {
   "cell_type": "markdown",
   "metadata": {
    "cell_style": "split",
    "slideshow": {
     "slide_type": "fragment"
    }
   },
   "source": [
    "Base estimator has:\n",
    "- .get_params()\n",
    "- .set_params()"
   ]
  },
  {
   "cell_type": "code",
   "execution_count": 111,
   "metadata": {
    "cell_style": "center",
    "slideshow": {
     "slide_type": "slide"
    }
   },
   "outputs": [
    {
     "data": {
      "text/plain": [
       "SpecialTransformer(threshold=10)"
      ]
     },
     "execution_count": 111,
     "metadata": {},
     "output_type": "execute_result"
    }
   ],
   "source": [
    "trans_instance2 = SpecialTransformer(threshold = 10)\n",
    "trans_instance2.fit(X)"
   ]
  },
  {
   "cell_type": "markdown",
   "metadata": {
    "cell_style": "split",
    "slideshow": {
     "slide_type": "subslide"
    }
   },
   "source": [
    "Other sklearn classes may need to check argument of constructor:\n",
    "- get_params()\n",
    "\n",
    "Returns a dict"
   ]
  },
  {
   "cell_type": "code",
   "execution_count": 112,
   "metadata": {
    "cell_style": "split",
    "slideshow": {
     "slide_type": "-"
    }
   },
   "outputs": [
    {
     "data": {
      "text/plain": [
       "{'threshold': 10}"
      ]
     },
     "execution_count": 112,
     "metadata": {},
     "output_type": "execute_result"
    }
   ],
   "source": [
    "trans_instance2.get_params()"
   ]
  },
  {
   "cell_type": "markdown",
   "metadata": {
    "slideshow": {
     "slide_type": "slide"
    }
   },
   "source": [
    "Other sklearn classes may need to directly access and manipulate model constructors:\n",
    "- will see this in model tuning "
   ]
  },
  {
   "cell_type": "code",
   "execution_count": 117,
   "metadata": {
    "cell_style": "split",
    "slideshow": {
     "slide_type": "-"
    }
   },
   "outputs": [
    {
     "data": {
      "text/plain": [
       "SpecialTransformer(threshold=200)"
      ]
     },
     "execution_count": 117,
     "metadata": {},
     "output_type": "execute_result"
    }
   ],
   "source": [
    "dict_hyperparams = {'threshold': 200}\n",
    "trans_instance2.set_params(**dict_hyperparams)"
   ]
  },
  {
   "cell_type": "code",
   "execution_count": 115,
   "metadata": {
    "cell_style": "split",
    "slideshow": {
     "slide_type": "-"
    }
   },
   "outputs": [
    {
     "data": {
      "text/plain": [
       "SpecialTransformer(threshold=200)"
      ]
     },
     "execution_count": 115,
     "metadata": {},
     "output_type": "execute_result"
    }
   ],
   "source": [
    "trans_instance2"
   ]
  }
 ],
 "metadata": {
  "celltoolbar": "Slideshow",
  "kernelspec": {
   "display_name": "Python 3 (ipykernel)",
   "language": "python",
   "name": "python3"
  },
  "language_info": {
   "codemirror_mode": {
    "name": "ipython",
    "version": 3
   },
   "file_extension": ".py",
   "mimetype": "text/x-python",
   "name": "python",
   "nbconvert_exporter": "python",
   "pygments_lexer": "ipython3",
   "version": "3.9.7"
  },
  "toc": {
   "base_numbering": 1,
   "nav_menu": {},
   "number_sections": true,
   "sideBar": true,
   "skip_h1_title": false,
   "title_cell": "Table of Contents",
   "title_sidebar": "Contents",
   "toc_cell": true,
   "toc_position": {
    "height": "calc(100% - 180px)",
    "left": "10px",
    "top": "150px",
    "width": "384px"
   },
   "toc_section_display": true,
   "toc_window_display": true
  }
 },
 "nbformat": 4,
 "nbformat_minor": 4
}
